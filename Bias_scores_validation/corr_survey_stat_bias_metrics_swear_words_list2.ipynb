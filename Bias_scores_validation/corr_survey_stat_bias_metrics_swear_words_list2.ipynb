{
 "cells": [
  {
   "cell_type": "code",
   "execution_count": 1,
   "id": "5130ca1c",
   "metadata": {},
   "outputs": [],
   "source": [
    "import pandas as pd\n",
    "import numpy as np\n",
    "import matplotlib.pyplot as plt\n",
    "from matplotlib.pyplot import figure\n",
    "import seaborn as sns\n",
    "from mpl_toolkits.axes_grid1 import make_axes_locatable\n",
    "import scipy"
   ]
  },
  {
   "cell_type": "code",
   "execution_count": 2,
   "id": "48504c77",
   "metadata": {},
   "outputs": [],
   "source": [
    "weat_corr = pd.read_csv(\"WEAT_SOS_survey_correlations.csv\", index_col = False)\n",
    "rnsb_corr = pd.read_csv(\"RNSB_SOS_survey_correlations.csv\", index_col = False)\n",
    "rnd_corr = pd.read_csv(\"RND_SOS_survey_correlations.csv\", index_col = False)\n",
    "ect_corr = pd.read_csv(\"ECT_SOS_survey_correlations.csv\", index_col = False)\n",
    "our_metric_corr = pd.read_csv(\"my_metric_swear_wors_list2_SOS_survey_correlations.csv\", index_col = False)"
   ]
  },
  {
   "cell_type": "code",
   "execution_count": 3,
   "id": "9f533218",
   "metadata": {},
   "outputs": [
    {
     "data": {
      "text/plain": [
       "array(['OEOH_Finland', 'OEOH_US', 'OEOH_Germany', 'OEOH_UK', 'RAD'],\n",
       "      dtype=object)"
      ]
     },
     "execution_count": 3,
     "metadata": {},
     "output_type": "execute_result"
    }
   ],
   "source": [
    "weat_corr[\"hate_survey\"].unique()"
   ]
  },
  {
   "cell_type": "code",
   "execution_count": 4,
   "id": "ec0124e8",
   "metadata": {},
   "outputs": [],
   "source": [
    "WEAT_OEOH_Fin_stat = weat_corr[weat_corr[\"hate_survey\"] == \"OEOH_Finland\"]\n",
    "WEAT_OEOH_US_stat = weat_corr[weat_corr[\"hate_survey\"] == \"OEOH_US\"]\n",
    "\n",
    "RNSB_OEOH_Fin_stat = rnsb_corr[rnsb_corr[\"hate_survey\"] == \"OEOH_Finland\"]\n",
    "RNSB_OEOH_US_stat = rnsb_corr[rnsb_corr[\"hate_survey\"] == \"OEOH_US\"]\n",
    "\n",
    "RND_OEOH_Fin_stat = rnd_corr[rnd_corr[\"hate_survey\"] == \"OEOH_Finland\"]\n",
    "RND_OEOH_US_stat = rnd_corr[rnd_corr[\"hate_survey\"] == \"OEOH_US\"]\n",
    "\n",
    "ECT_OEOH_Fin_stat = ect_corr[ect_corr[\"hate_survey\"] == \"OEOH_Finland\"]\n",
    "ECT_OEOH_US_stat = ect_corr[ect_corr[\"hate_survey\"] == \"OEOH_US\"]\n",
    "\n",
    "OM_OEOH_Fin_stat = our_metric_corr[our_metric_corr[\"hate_survey\"] == \"OEOH_Finland\"]\n",
    "OM_OEOH_US_stat = our_metric_corr[our_metric_corr[\"hate_survey\"] == \"OEOH_US\"]\n",
    "\n",
    "#OEOH_UK_stat = stats_Corr[stats_Corr[\"hate_survey\"] == \"OEOH_UK\"]\n",
    "#OEOH_fin_stat = stats_Corr[stats_Corr[\"hate_survey\"] == \"OEOH_Finland\"]\n",
    "#OEOH_GR_stat = stats_Corr[stats_Corr[\"hate_survey\"] == \"OEOH_Germany\"]"
   ]
  },
  {
   "cell_type": "code",
   "execution_count": 6,
   "id": "60251b31",
   "metadata": {},
   "outputs": [],
   "source": [
    "columns = ['WEAT', 'RNSB', 'RND', 'ECT', 'NCSP']\n",
    "rows = [\"w2v\", \"glv-wk\", \"glv-twtr\", \"ud\", \"chan\", \"glv-cc\",\"glv-cc-large\",\"ft-cc\", \"ft-cc-sws\",'ft-wk',\n",
    "       'ft-wk-sws','sswe','debias-w2v','p-desip','u-desip']"
   ]
  },
  {
   "cell_type": "code",
   "execution_count": 7,
   "id": "a59f43fc",
   "metadata": {},
   "outputs": [],
   "source": [
    "OHOE_Fin_stat = pd.DataFrame({'WE': rows,\n",
    "                         \"WEAT\":WEAT_OEOH_Fin_stat[\"pearson_r\"],\n",
    "                         \"RNSB\": RNSB_OEOH_Fin_stat[\"pearson_r\"],\n",
    "                        \"RND\":RND_OEOH_Fin_stat[\"pearson_r\"],\n",
    "                        \"ECT\":ECT_OEOH_Fin_stat[\"pearson_r\"],\n",
    "                        \"NCSP\":OM_OEOH_Fin_stat[\"pearson_r\"]})"
   ]
  },
  {
   "cell_type": "code",
   "execution_count": 8,
   "id": "4c39056a",
   "metadata": {},
   "outputs": [],
   "source": [
    "OHOE_US_stat = pd.DataFrame({'WE': rows,\n",
    "                         \"WEAT\":WEAT_OEOH_US_stat[\"pearson_r\"],\n",
    "                         \"RNSB\": RNSB_OEOH_US_stat[\"pearson_r\"],\n",
    "                        \"RND\":RND_OEOH_US_stat[\"pearson_r\"],\n",
    "                        \"ECT\":ECT_OEOH_US_stat[\"pearson_r\"],\n",
    "                        \"NCSP\":OM_OEOH_US_stat[\"pearson_r\"]})"
   ]
  },
  {
   "cell_type": "code",
   "execution_count": 9,
   "id": "45a5c02a",
   "metadata": {},
   "outputs": [
    {
     "data": {
      "text/plain": [
       "array([[ 0.98361112,  0.31109343,  0.18421163,  0.4859715 ,  0.96575717,\n",
       "         0.34547791,  0.77755829,  0.68812698,  0.65505803,  0.84805011,\n",
       "         0.66999841,  0.40364062,  0.99286172,  0.77033051,  0.72699278],\n",
       "       [ 0.28912084,  0.49708135,  0.07446369,  0.93384938, -0.99351823,\n",
       "         0.5724957 ,  0.01439838,  0.95005908, -0.56277212,  0.96653102,\n",
       "        -0.95069318, -0.81183607, -0.63954113, -0.13068352,  0.18150716],\n",
       "       [ 0.64663155,  0.04634322, -0.33947566,  0.6052183 ,  0.04013329,\n",
       "         0.6242073 ,  0.60897466,  0.57730068,  0.03609132,  0.554756  ,\n",
       "        -0.00109212,  0.3123623 ,  0.55588777,  0.32844146,  0.31554623],\n",
       "       [ 0.4004287 ,  0.55608279,  0.55834778,  0.99152724,  0.9087173 ,\n",
       "         0.55898997,  0.57891123,  0.71252984,  0.67222917,  0.6402042 ,\n",
       "         0.67068338,  0.60571952,  0.87709026,  0.69496549,  0.68290507],\n",
       "       [ 0.99917365,  0.09700464, -0.99992643, -0.23400944, -0.82304163,\n",
       "        -0.94563906,  0.92910687,  0.99988395,  0.1371345 , -0.30847475,\n",
       "        -0.62537422, -0.30222713,  0.99038982,  0.73248196,  0.70818439]])"
      ]
     },
     "execution_count": 9,
     "metadata": {},
     "output_type": "execute_result"
    }
   ],
   "source": [
    "OHOE_US_stat[columns].values.T"
   ]
  },
  {
   "cell_type": "code",
   "execution_count": 10,
   "id": "92a6ceac",
   "metadata": {},
   "outputs": [
    {
     "data": {
      "text/plain": [
       "<matplotlib.colorbar.Colorbar at 0x7f03edc69250>"
      ]
     },
     "execution_count": 10,
     "metadata": {},
     "output_type": "execute_result"
    },
    {
     "data": {
      "image/png": "[encoded data removed]",
      "text/plain": [
       "<Figure size 504x360 with 2 Axes>"
      ]
     },
     "metadata": {
      "needs_background": "light"
     },
     "output_type": "display_data"
    }
   ],
   "source": [
    "fig, axs = plt.subplots(nrows=1, ncols=1, figsize=(7, 5))\n",
    "x_ticks = np.arange(len(rows))\n",
    "y_ticks = np.arange(len(columns))\n",
    "\n",
    "\n",
    "# We use ax parameter to tell seaborn which subplot to use for this plot\n",
    "#sns.heatmap(data=RAD_stat[columns].values.T, ax=axs[0], vmin=-1, vmax=1,cbar=True, cmap=\"YlGnBu\")\n",
    "im0 = axs.imshow(OHOE_US_stat[columns].values.T, cmap =\"YlGnBu\")\n",
    "axs.set_title('OEOH_US', fontweight=\"bold\", fontsize=16)\n",
    "axs.set_xticks(x_ticks)\n",
    "axs.set_yticks(y_ticks)\n",
    "axs.set_xticklabels([\"\" for i in rows], fontweight=\"bold\", rotation=90, fontsize=16)\n",
    "axs.set_xticklabels(rows, fontweight=\"bold\", rotation=90, fontsize=16)\n",
    "axs.set_yticklabels(columns, fontweight=\"bold\", rotation=0, fontsize=16)\n",
    "\n",
    "#sns.heatmap(data=OHOE_US_stat[columns].values.T, ax=axs[1], vmin=-1, vmax=1,cbar=True, yticklabels=False,cmap=\"YlGnBu\", cbar_kws={\"orientation\": \"vertical\"})\n",
    "#im1 = axs[1].imshow(OHOE_US_stat[columns].values.T, cmap =\"YlGnBu\")\n",
    "#axs[1].set_title('OEOH-US', fontweight=\"bold\", fontsize=16)\n",
    "#axs[1].set_xticks(x_ticks)\n",
    "#axs[1].set_yticks(y_ticks)\n",
    "#axs[1].set_xticklabels(rows, fontweight=\"bold\", rotation=90, fontsize=16)\n",
    "#axs[1].set_yticklabels(columns, fontweight=\"bold\", rotation=0, fontsize=16)\n",
    "\n",
    "#plt.colorbar(im0,boundaries=np.arange(-1,1,0.1), shrink=0.7, orientation=\"horizontal\", location=\"top\")\n",
    "#cbar_ax = fig.add_axes([0.91, 0.2, 0.05, 0.6])\n",
    "#fig.colorbar(im0, cax=cbar_ax,boundaries=np.arange(-1,1.1,0.1), shrink=0.2)\n",
    "divider = make_axes_locatable(axs)\n",
    "cax = divider.new_vertical(size='5%', pad=1.7, pack_start = True)\n",
    "fig.add_axes(cax)\n",
    "fig.colorbar(im0, cax = cax, boundaries=np.arange(-1,1.1,0.1), orientation = 'horizontal')\n",
    "#sns.heatmap(data=OEOH_fin_stat[columns], ax=ax4, vmin=-1, vmax=1,cbar=True, yticklabels=False,cbar_kws={'label': 'correlation'},cmap=\"YlGnBu\")\n",
    "#ax4.set_title('OEOH-UK', fontweight=\"bold\", fontsize=35)\n",
    "#ax4.set_ylabel(\"\")\n",
    "#ax4.set_xticklabels(columns, fontweight=\"bold\", rotation=90, fontsize=35)\n",
    "\n",
    "#sns.heatmap(data=OEOH_GR_stat[columns], ax=ax5, vmin=-1, vmax=1,cbar=False, yticklabels=False,cmap=\"YlGnBu\")\n",
    "#ax5.set_title('OEOH-Germany', fontweight=\"bold\", fontsize=35)\n",
    "#ax5.set_ylabel(\"\")\n",
    "#ax5.set_xticklabels(columns, fontweight=\"bold\", rotation=45, fontsize=35)\n",
    "\n",
    "#sns.heatmap(data=OEOH_fin_stat[columns], ax=ax5, vmin=-1, vmax=1,cbar=True, yticklabels=False,cbar_kws={'label': 'correlation'},cmap=\"YlGnBu\")\n",
    "#ax5.set_title('OEOH-FI', fontweight=\"bold\", fontsize=35)\n",
    "#ax5.set_ylabel(\"\")\n",
    "#ax5.set_xticklabels(columns, fontweight=\"bold\", fontsize=35, rotation=90)"
   ]
  },
  {
   "cell_type": "code",
   "execution_count": 11,
   "id": "a90589ed",
   "metadata": {},
   "outputs": [],
   "source": [
    "fig.savefig(\"heat_map_sos_metrics_corr_swear_words_list2.pdf\",bbox_inches='tight')"
   ]
  },
  {
   "cell_type": "code",
   "execution_count": null,
   "id": "39307b7c",
   "metadata": {},
   "outputs": [],
   "source": []
  }
 ],
 "metadata": {
  "kernelspec": {
   "display_name": "Python 3",
   "language": "python",
   "name": "python3"
  },
  "language_info": {
   "codemirror_mode": {
    "name": "ipython",
    "version": 3
   },
   "file_extension": ".py",
   "mimetype": "text/x-python",
   "name": "python",
   "nbconvert_exporter": "python",
   "pygments_lexer": "ipython3",
   "version": "3.8.10"
  }
 },
 "nbformat": 4,
 "nbformat_minor": 5
}
