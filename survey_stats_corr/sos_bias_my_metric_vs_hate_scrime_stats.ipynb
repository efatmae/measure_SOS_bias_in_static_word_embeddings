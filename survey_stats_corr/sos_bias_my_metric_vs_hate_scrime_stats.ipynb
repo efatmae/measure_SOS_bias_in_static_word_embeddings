{
 "cells": [
  {
   "cell_type": "code",
   "execution_count": 2,
   "id": "51b9ba9c",
   "metadata": {},
   "outputs": [],
   "source": [
    "import numpy as np\n",
    "from scipy import stats \n",
    "import pandas as pd"
   ]
  },
  {
   "cell_type": "code",
   "execution_count": 3,
   "id": "e7a90fbe",
   "metadata": {},
   "outputs": [],
   "source": [
    "min_df = pd.read_csv(\"./all_WE_minority_words_sim_to_profane_vector.csv\")\n",
    "maj_df = pd.read_csv(\"./all_WE_majority_words_sim_to_profane_vector.csv\")\n",
    "random_df = pd.read_csv(\"./all_WE_random_words_sim_to_profane_vector.csv\")"
   ]
  },
  {
   "cell_type": "code",
   "execution_count": 4,
   "id": "6f258656",
   "metadata": {},
   "outputs": [
    {
     "data": {
      "text/plain": [
       "Index(['Unnamed: 0', 'ethnicity_word', 'w2v_sim', 'glove_wk_sim',\n",
       "       'glove_twitter_sim', 'ud_sim', 'chan_sim',\n",
       "       'reddit_collocation_mean_pmi_fatma',\n",
       "       'reddit_100K_collocation_mean_pmi_swear_words',\n",
       "       'reddit_1M_collocation_mean_pmi_swear_words'],\n",
       "      dtype='object')"
      ]
     },
     "execution_count": 4,
     "metadata": {},
     "output_type": "execute_result"
    }
   ],
   "source": [
    "min_df.columns"
   ]
  },
  {
   "cell_type": "code",
   "execution_count": 5,
   "id": "50fc3766",
   "metadata": {},
   "outputs": [
    {
     "data": {
      "text/plain": [
       "Index(['Unnamed: 0', 'ethnicity_word', 'w2v_sim', 'glove_wk_sim',\n",
       "       'glove_twitter_sim', 'ud_sim', 'chan_sim',\n",
       "       'reddit_100K_collocation_mean_pmi_swear_words',\n",
       "       'reddit_1M_collocation_mean_pmi_swear_words'],\n",
       "      dtype='object')"
      ]
     },
     "execution_count": 5,
     "metadata": {},
     "output_type": "execute_result"
    }
   ],
   "source": [
    "maj_df.columns"
   ]
  },
  {
   "cell_type": "markdown",
   "id": "ce5e6617",
   "metadata": {},
   "source": [
    "## statisctical difference between the different groups: stigmatized, unstigmatized, and neutral words"
   ]
  },
  {
   "cell_type": "code",
   "execution_count": 6,
   "id": "0d16cf0a",
   "metadata": {},
   "outputs": [
    {
     "data": {
      "text/plain": [
       "Index(['Unnamed: 0', 'ethnicity_word', 'w2v_sim', 'glove_wk_sim',\n",
       "       'glove_twitter_sim', 'ud_sim', 'chan_sim',\n",
       "       'reddit_collocation_mean_pmi_fatma',\n",
       "       'reddit_100K_collocation_mean_pmi_swear_words',\n",
       "       'reddit_1M_collocation_mean_pmi_swear_words'],\n",
       "      dtype='object')"
      ]
     },
     "execution_count": 6,
     "metadata": {},
     "output_type": "execute_result"
    }
   ],
   "source": [
    "min_df.columns"
   ]
  },
  {
   "cell_type": "code",
   "execution_count": 7,
   "id": "b68b5c35",
   "metadata": {},
   "outputs": [
    {
     "data": {
      "text/plain": [
       "Index(['Unnamed: 0', 'ethnicity_word', 'w2v_sim', 'glove_wk_sim',\n",
       "       'glove_twitter_sim', 'ud_sim', 'chan_sim',\n",
       "       'reddit_100K_collocation_mean_pmi_swear_words',\n",
       "       'reddit_1M_collocation_mean_pmi_swear_words'],\n",
       "      dtype='object')"
      ]
     },
     "execution_count": 7,
     "metadata": {},
     "output_type": "execute_result"
    }
   ],
   "source": [
    "maj_df.columns"
   ]
  },
  {
   "cell_type": "markdown",
   "id": "5d02cbb7",
   "metadata": {},
   "source": [
    "## lgtb"
   ]
  },
  {
   "cell_type": "code",
   "execution_count": 8,
   "id": "3a8a2c9c",
   "metadata": {},
   "outputs": [],
   "source": [
    "lgtb_words = [\"lesbian\",\"gay\",\"bisexual\",\"transgender\",\"tran\",\"queer\",\n",
    "                \"lgbt\",\"lgbtq\",\"homosexual\",\"non-binary\"]"
   ]
  },
  {
   "cell_type": "code",
   "execution_count": 9,
   "id": "241c5e43",
   "metadata": {},
   "outputs": [],
   "source": [
    "lgtbq_w2V_sim = min_df[min_df[\"ethnicity_word\"].isin(lgtb_words)][\"w2v_sim\"]"
   ]
  },
  {
   "cell_type": "code",
   "execution_count": 10,
   "id": "edb33171",
   "metadata": {},
   "outputs": [
    {
     "data": {
      "text/plain": [
       "0.5291550204157829"
      ]
     },
     "execution_count": 10,
     "metadata": {},
     "output_type": "execute_result"
    }
   ],
   "source": [
    "np.mean(lgtbq_w2V_sim)"
   ]
  },
  {
   "cell_type": "code",
   "execution_count": 11,
   "id": "f779a0aa",
   "metadata": {},
   "outputs": [],
   "source": [
    "lgtbq_glove_wk_sim = min_df[min_df[\"ethnicity_word\"].isin(lgtb_words)][\"glove_wk_sim\"]"
   ]
  },
  {
   "cell_type": "code",
   "execution_count": 12,
   "id": "760f04c8",
   "metadata": {},
   "outputs": [
    {
     "data": {
      "text/plain": [
       "0.6294413149356843"
      ]
     },
     "execution_count": 12,
     "metadata": {},
     "output_type": "execute_result"
    }
   ],
   "source": [
    "np.mean(lgtbq_glove_wk_sim)"
   ]
  },
  {
   "cell_type": "code",
   "execution_count": 13,
   "id": "4177adc3",
   "metadata": {},
   "outputs": [],
   "source": [
    "lgtbq_glove_twitter = min_df[min_df[\"ethnicity_word\"].isin(lgtb_words)][\"glove_twitter_sim\"]"
   ]
  },
  {
   "cell_type": "code",
   "execution_count": 14,
   "id": "ca4b17e1",
   "metadata": {},
   "outputs": [],
   "source": [
    "lgtbq_ud = min_df[min_df[\"ethnicity_word\"].isin(lgtb_words)][\"ud_sim\"]"
   ]
  },
  {
   "cell_type": "code",
   "execution_count": 15,
   "id": "ab93702f",
   "metadata": {},
   "outputs": [],
   "source": [
    "lgtbq_chan = min_df[min_df[\"ethnicity_word\"].isin(lgtb_words)][\"chan_sim\"]"
   ]
  },
  {
   "cell_type": "code",
   "execution_count": 16,
   "id": "0af43759",
   "metadata": {},
   "outputs": [
    {
     "data": {
      "text/plain": [
       "0.40257603228092204"
      ]
     },
     "execution_count": 16,
     "metadata": {},
     "output_type": "execute_result"
    }
   ],
   "source": [
    "np.mean(lgtbq_glove_twitter)"
   ]
  },
  {
   "cell_type": "code",
   "execution_count": 17,
   "id": "63ceffff",
   "metadata": {},
   "outputs": [
    {
     "data": {
      "text/plain": [
       "0.4687800722196697"
      ]
     },
     "execution_count": 17,
     "metadata": {},
     "output_type": "execute_result"
    }
   ],
   "source": [
    "np.mean(lgtbq_ud)"
   ]
  },
  {
   "cell_type": "code",
   "execution_count": 18,
   "id": "0c27e114",
   "metadata": {},
   "outputs": [
    {
     "data": {
      "text/plain": [
       "0.4815805889666082"
      ]
     },
     "execution_count": 18,
     "metadata": {},
     "output_type": "execute_result"
    }
   ],
   "source": [
    "np.mean(lgtbq_chan)"
   ]
  },
  {
   "cell_type": "code",
   "execution_count": 19,
   "id": "43352c1c",
   "metadata": {},
   "outputs": [
    {
     "data": {
      "text/plain": [
       "FriedmanchisquareResult(statistic=2.7282051282051247, pvalue=0.6042881775571889)"
      ]
     },
     "execution_count": 19,
     "metadata": {},
     "output_type": "execute_result"
    }
   ],
   "source": [
    "stats.friedmanchisquare(lgtbq_w2V_sim, lgtbq_glove_wk_sim, lgtbq_glove_twitter, lgtbq_ud, lgtbq_chan)"
   ]
  },
  {
   "cell_type": "code",
   "execution_count": 20,
   "id": "714e1f94",
   "metadata": {},
   "outputs": [
    {
     "data": {
      "text/plain": [
       "Ttest_indResult(statistic=0.7012329080353633, pvalue=0.4921247292480265)"
      ]
     },
     "execution_count": 20,
     "metadata": {},
     "output_type": "execute_result"
    }
   ],
   "source": [
    "stats.ttest_ind(lgtbq_glove_wk_sim, lgtbq_w2V_sim)"
   ]
  },
  {
   "cell_type": "code",
   "execution_count": 21,
   "id": "36a9b56c",
   "metadata": {},
   "outputs": [
    {
     "data": {
      "text/plain": [
       "Ttest_indResult(statistic=1.5754883633958217, pvalue=0.1325560388594557)"
      ]
     },
     "execution_count": 21,
     "metadata": {},
     "output_type": "execute_result"
    }
   ],
   "source": [
    "stats.ttest_ind(lgtbq_glove_wk_sim, lgtbq_glove_twitter)"
   ]
  },
  {
   "cell_type": "code",
   "execution_count": 22,
   "id": "df78119f",
   "metadata": {},
   "outputs": [
    {
     "data": {
      "text/plain": [
       "Ttest_indResult(statistic=1.112564837623503, pvalue=0.28053381840117)"
      ]
     },
     "execution_count": 22,
     "metadata": {},
     "output_type": "execute_result"
    }
   ],
   "source": [
    "stats.ttest_ind(lgtbq_glove_wk_sim, lgtbq_ud)"
   ]
  },
  {
   "cell_type": "code",
   "execution_count": 23,
   "id": "016b0d77",
   "metadata": {},
   "outputs": [
    {
     "data": {
      "text/plain": [
       "Ttest_indResult(statistic=1.1321793677441596, pvalue=0.27241662231991587)"
      ]
     },
     "execution_count": 23,
     "metadata": {},
     "output_type": "execute_result"
    }
   ],
   "source": [
    "stats.ttest_ind(lgtbq_glove_wk_sim, lgtbq_chan)"
   ]
  },
  {
   "cell_type": "markdown",
   "id": "d67994e0",
   "metadata": {},
   "source": [
    "## women"
   ]
  },
  {
   "cell_type": "code",
   "execution_count": 24,
   "id": "bbde92c4",
   "metadata": {},
   "outputs": [],
   "source": [
    "women_words = [\"woman\", \"female\", \"girl\",\"wife\",\"sister\",\"daughter\",\"mother\"]"
   ]
  },
  {
   "cell_type": "code",
   "execution_count": 25,
   "id": "c75d3405",
   "metadata": {},
   "outputs": [],
   "source": [
    "women_w2v = min_df[min_df[\"ethnicity_word\"].isin(women_words)][\"w2v_sim\"]\n",
    "women_glove_wk = min_df[min_df[\"ethnicity_word\"].isin(women_words)][\"glove_wk_sim\"]\n",
    "women_glove_twitter = min_df[min_df[\"ethnicity_word\"].isin(women_words)][\"glove_twitter_sim\"]\n",
    "women_ud = min_df[min_df[\"ethnicity_word\"].isin(women_words)][\"ud_sim\"]\n",
    "women_chan = min_df[min_df[\"ethnicity_word\"].isin(women_words)][\"chan_sim\"]"
   ]
  },
  {
   "cell_type": "code",
   "execution_count": 26,
   "id": "d4a65d84",
   "metadata": {},
   "outputs": [
    {
     "data": {
      "text/plain": [
       "0.2549104520252774"
      ]
     },
     "execution_count": 26,
     "metadata": {},
     "output_type": "execute_result"
    }
   ],
   "source": [
    "np.mean(women_w2v)"
   ]
  },
  {
   "cell_type": "code",
   "execution_count": 27,
   "id": "b1e340fb",
   "metadata": {},
   "outputs": [
    {
     "data": {
      "text/plain": [
       "0.3402559693370547"
      ]
     },
     "execution_count": 27,
     "metadata": {},
     "output_type": "execute_result"
    }
   ],
   "source": [
    "np.mean(women_glove_wk)"
   ]
  },
  {
   "cell_type": "code",
   "execution_count": 28,
   "id": "4305a3f6",
   "metadata": {},
   "outputs": [
    {
     "data": {
      "text/plain": [
       "0.8525379811014447"
      ]
     },
     "execution_count": 28,
     "metadata": {},
     "output_type": "execute_result"
    }
   ],
   "source": [
    "np.mean(women_glove_twitter)"
   ]
  },
  {
   "cell_type": "code",
   "execution_count": 29,
   "id": "c93d12d6",
   "metadata": {},
   "outputs": [
    {
     "data": {
      "text/plain": [
       "0.555064761212894"
      ]
     },
     "execution_count": 29,
     "metadata": {},
     "output_type": "execute_result"
    }
   ],
   "source": [
    "np.mean(women_ud)"
   ]
  },
  {
   "cell_type": "code",
   "execution_count": 30,
   "id": "c18cd971",
   "metadata": {},
   "outputs": [
    {
     "data": {
      "text/plain": [
       "0.7768107780388421"
      ]
     },
     "execution_count": 30,
     "metadata": {},
     "output_type": "execute_result"
    }
   ],
   "source": [
    "np.mean(women_chan)"
   ]
  },
  {
   "cell_type": "code",
   "execution_count": 31,
   "id": "cd6d424f",
   "metadata": {},
   "outputs": [
    {
     "data": {
      "text/plain": [
       "FriedmanchisquareResult(statistic=19.657142857142844, pvalue=0.0005835483282060483)"
      ]
     },
     "execution_count": 31,
     "metadata": {},
     "output_type": "execute_result"
    }
   ],
   "source": [
    "stats.friedmanchisquare(women_w2v, women_glove_wk, women_glove_twitter, women_ud, women_chan)"
   ]
  },
  {
   "cell_type": "code",
   "execution_count": 32,
   "id": "96eba39b",
   "metadata": {},
   "outputs": [
    {
     "data": {
      "text/plain": [
       "Ttest_indResult(statistic=7.566728788704322, pvalue=6.617459522478452e-06)"
      ]
     },
     "execution_count": 32,
     "metadata": {},
     "output_type": "execute_result"
    }
   ],
   "source": [
    "stats.ttest_ind(women_glove_twitter, women_w2v)"
   ]
  },
  {
   "cell_type": "code",
   "execution_count": 33,
   "id": "7f99c7da",
   "metadata": {},
   "outputs": [
    {
     "data": {
      "text/plain": [
       "Ttest_indResult(statistic=6.8210352867822035, pvalue=1.8467234225866632e-05)"
      ]
     },
     "execution_count": 33,
     "metadata": {},
     "output_type": "execute_result"
    }
   ],
   "source": [
    "stats.ttest_ind(women_glove_twitter, women_glove_wk)"
   ]
  },
  {
   "cell_type": "code",
   "execution_count": 34,
   "id": "afe1ba5c",
   "metadata": {},
   "outputs": [
    {
     "data": {
      "text/plain": [
       "Ttest_indResult(statistic=3.3526225657215862, pvalue=0.005752163728815958)"
      ]
     },
     "execution_count": 34,
     "metadata": {},
     "output_type": "execute_result"
    }
   ],
   "source": [
    "stats.ttest_ind(women_glove_twitter, women_ud)"
   ]
  },
  {
   "cell_type": "code",
   "execution_count": 35,
   "id": "ad2cbf88",
   "metadata": {},
   "outputs": [
    {
     "data": {
      "text/plain": [
       "Ttest_indResult(statistic=0.970934537016499, pvalue=0.3507452763577138)"
      ]
     },
     "execution_count": 35,
     "metadata": {},
     "output_type": "execute_result"
    }
   ],
   "source": [
    "stats.ttest_ind(women_glove_twitter, women_chan)"
   ]
  },
  {
   "cell_type": "markdown",
   "id": "1f3164f3",
   "metadata": {},
   "source": [
    "## ethnicities"
   ]
  },
  {
   "cell_type": "code",
   "execution_count": 36,
   "id": "726f3aa6",
   "metadata": {},
   "outputs": [],
   "source": [
    "eth_words = [\"african\", \"african american\", \"asian\", \"black\", \"hispanic\", \"latin\", \"mexican\", \"indian\", \"middle eastern\",\n",
    "                \"arab\"]"
   ]
  },
  {
   "cell_type": "code",
   "execution_count": 37,
   "id": "cad46be9",
   "metadata": {},
   "outputs": [],
   "source": [
    "eth_w2v = min_df[min_df[\"ethnicity_word\"].isin(eth_words)][\"w2v_sim\"]\n",
    "eth_glove_wk = min_df[min_df[\"ethnicity_word\"].isin(eth_words)][\"glove_wk_sim\"]\n",
    "eth_glove_twitter = min_df[min_df[\"ethnicity_word\"].isin(eth_words)][\"glove_twitter_sim\"]\n",
    "eth_ud = min_df[min_df[\"ethnicity_word\"].isin(eth_words)][\"ud_sim\"]\n",
    "eth_chan = min_df[min_df[\"ethnicity_word\"].isin(eth_words)][\"chan_sim\"]"
   ]
  },
  {
   "cell_type": "code",
   "execution_count": 38,
   "id": "9002220f",
   "metadata": {},
   "outputs": [
    {
     "data": {
      "text/plain": [
       "0.7895054407417775"
      ]
     },
     "execution_count": 38,
     "metadata": {},
     "output_type": "execute_result"
    }
   ],
   "source": [
    "np.mean(eth_w2v)"
   ]
  },
  {
   "cell_type": "code",
   "execution_count": 39,
   "id": "4d14c649",
   "metadata": {},
   "outputs": [
    {
     "data": {
      "text/plain": [
       "0.13636286929249775"
      ]
     },
     "execution_count": 39,
     "metadata": {},
     "output_type": "execute_result"
    }
   ],
   "source": [
    "np.mean(eth_glove_wk)"
   ]
  },
  {
   "cell_type": "code",
   "execution_count": 40,
   "id": "825597cf",
   "metadata": {},
   "outputs": [
    {
     "data": {
      "text/plain": [
       "0.49500452540814854"
      ]
     },
     "execution_count": 40,
     "metadata": {},
     "output_type": "execute_result"
    }
   ],
   "source": [
    "np.mean(eth_glove_twitter)"
   ]
  },
  {
   "cell_type": "code",
   "execution_count": 41,
   "id": "7b1ed02a",
   "metadata": {},
   "outputs": [
    {
     "data": {
      "text/plain": [
       "0.20260645356029275"
      ]
     },
     "execution_count": 41,
     "metadata": {},
     "output_type": "execute_result"
    }
   ],
   "source": [
    "np.mean(eth_ud)"
   ]
  },
  {
   "cell_type": "code",
   "execution_count": 42,
   "id": "cfacde7b",
   "metadata": {},
   "outputs": [
    {
     "data": {
      "text/plain": [
       "0.26668977737426747"
      ]
     },
     "execution_count": 42,
     "metadata": {},
     "output_type": "execute_result"
    }
   ],
   "source": [
    "np.mean(eth_chan)"
   ]
  },
  {
   "cell_type": "code",
   "execution_count": 43,
   "id": "7a9b7f6f",
   "metadata": {},
   "outputs": [
    {
     "data": {
      "text/plain": [
       "FriedmanchisquareResult(statistic=20.30000000000001, pvalue=0.0004356983106841428)"
      ]
     },
     "execution_count": 43,
     "metadata": {},
     "output_type": "execute_result"
    }
   ],
   "source": [
    "stats.friedmanchisquare(eth_w2v, eth_glove_wk, eth_glove_twitter, eth_ud, eth_chan)"
   ]
  },
  {
   "cell_type": "code",
   "execution_count": 44,
   "id": "f845cee6",
   "metadata": {},
   "outputs": [
    {
     "data": {
      "text/plain": [
       "Ttest_indResult(statistic=8.262827509400456, pvalue=9.381202238266734e-07)"
      ]
     },
     "execution_count": 44,
     "metadata": {},
     "output_type": "execute_result"
    }
   ],
   "source": [
    "stats.ttest_ind(eth_w2v, eth_glove_wk)"
   ]
  },
  {
   "cell_type": "code",
   "execution_count": 45,
   "id": "00bbcba8",
   "metadata": {},
   "outputs": [
    {
     "data": {
      "text/plain": [
       "Ttest_indResult(statistic=3.0876255868856353, pvalue=0.008027267436531989)"
      ]
     },
     "execution_count": 45,
     "metadata": {},
     "output_type": "execute_result"
    }
   ],
   "source": [
    "stats.ttest_ind(eth_w2v, eth_glove_twitter)"
   ]
  },
  {
   "cell_type": "code",
   "execution_count": 46,
   "id": "300360ea",
   "metadata": {},
   "outputs": [
    {
     "data": {
      "text/plain": [
       "Ttest_indResult(statistic=6.462399609245554, pvalue=1.4917067216483679e-05)"
      ]
     },
     "execution_count": 46,
     "metadata": {},
     "output_type": "execute_result"
    }
   ],
   "source": [
    "stats.ttest_ind(eth_w2v, eth_ud)"
   ]
  },
  {
   "cell_type": "code",
   "execution_count": 47,
   "id": "30995346",
   "metadata": {},
   "outputs": [
    {
     "data": {
      "text/plain": [
       "Ttest_indResult(statistic=5.764261175758504, pvalue=4.900241055519799e-05)"
      ]
     },
     "execution_count": 47,
     "metadata": {},
     "output_type": "execute_result"
    }
   ],
   "source": [
    "stats.ttest_ind(eth_w2v, eth_chan)"
   ]
  },
  {
   "cell_type": "markdown",
   "id": "9870ebd5",
   "metadata": {},
   "source": [
    "## hate crime stats (department of justice US)"
   ]
  },
  {
   "cell_type": "code",
   "execution_count": 96,
   "id": "cadacbbd",
   "metadata": {},
   "outputs": [],
   "source": [
    "crime_rate = [61.9, 15.4,0.7]"
   ]
  },
  {
   "cell_type": "code",
   "execution_count": 97,
   "id": "cfae9146",
   "metadata": {},
   "outputs": [
    {
     "data": {
      "text/plain": [
       "(0.9534083802463681, 0.1950966549722685)"
      ]
     },
     "execution_count": 97,
     "metadata": {},
     "output_type": "execute_result"
    }
   ],
   "source": [
    "stats.pearsonr([np.mean(eth_w2v), np.mean(lgtbq_w2V_sim), np.mean(women_w2v)], crime_rate)"
   ]
  },
  {
   "cell_type": "code",
   "execution_count": 98,
   "id": "301dfda5",
   "metadata": {},
   "outputs": [
    {
     "data": {
      "text/plain": [
       "(-0.6560040907754124, 0.54449078498182)"
      ]
     },
     "execution_count": 98,
     "metadata": {},
     "output_type": "execute_result"
    }
   ],
   "source": [
    "stats.pearsonr([np.mean(eth_glove_wk), np.mean(lgtbq_glove_wk_sim), np.mean(women_glove_wk)], crime_rate)"
   ]
  },
  {
   "cell_type": "code",
   "execution_count": 99,
   "id": "9f4f241e",
   "metadata": {},
   "outputs": [
    {
     "data": {
      "text/plain": [
       "(-0.5312086972415772, 0.6434760215488058)"
      ]
     },
     "execution_count": 99,
     "metadata": {},
     "output_type": "execute_result"
    }
   ],
   "source": [
    "stats.pearsonr([np.mean(eth_glove_twitter), np.mean(lgtbq_glove_twitter), np.mean(women_glove_twitter)], crime_rate)"
   ]
  },
  {
   "cell_type": "code",
   "execution_count": 100,
   "id": "913acb86",
   "metadata": {},
   "outputs": [
    {
     "data": {
      "text/plain": [
       "(-0.9999880290590172, 0.0031150118197465076)"
      ]
     },
     "execution_count": 100,
     "metadata": {},
     "output_type": "execute_result"
    }
   ],
   "source": [
    "stats.pearsonr([np.mean(eth_ud), np.mean(lgtbq_ud), np.mean(women_ud)], crime_rate)"
   ]
  },
  {
   "cell_type": "code",
   "execution_count": 101,
   "id": "49b8cfdd",
   "metadata": {},
   "outputs": [
    {
     "data": {
      "text/plain": [
       "(-0.9278721362418108, 0.24327208161394445)"
      ]
     },
     "execution_count": 101,
     "metadata": {},
     "output_type": "execute_result"
    }
   ],
   "source": [
    "stats.pearsonr([np.mean(eth_chan), np.mean(lgtbq_chan), np.mean(women_chan)], crime_rate )"
   ]
  },
  {
   "cell_type": "markdown",
   "id": "b63e69bc",
   "metadata": {},
   "source": [
    "## Hate crime England and wales"
   ]
  },
  {
   "cell_type": "code",
   "execution_count": 54,
   "id": "dcd7010a",
   "metadata": {},
   "outputs": [],
   "source": [
    "crime_rate2 = [72, 8]"
   ]
  },
  {
   "cell_type": "code",
   "execution_count": 55,
   "id": "9caff643",
   "metadata": {},
   "outputs": [
    {
     "data": {
      "text/plain": [
       "(1.0, 1.0)"
      ]
     },
     "execution_count": 55,
     "metadata": {},
     "output_type": "execute_result"
    }
   ],
   "source": [
    "stats.pearsonr([np.mean(eth_w2v), np.mean(lgtbq_w2V_sim)], crime_rate2)"
   ]
  },
  {
   "cell_type": "code",
   "execution_count": 56,
   "id": "de299e90",
   "metadata": {},
   "outputs": [
    {
     "data": {
      "text/plain": [
       "(-1.0, 1.0)"
      ]
     },
     "execution_count": 56,
     "metadata": {},
     "output_type": "execute_result"
    }
   ],
   "source": [
    "stats.pearsonr([np.mean(eth_glove_wk), np.mean(lgtbq_glove_wk_sim)], crime_rate2)"
   ]
  },
  {
   "cell_type": "code",
   "execution_count": 57,
   "id": "ad61e7ed",
   "metadata": {},
   "outputs": [
    {
     "data": {
      "text/plain": [
       "(1.0, 1.0)"
      ]
     },
     "execution_count": 57,
     "metadata": {},
     "output_type": "execute_result"
    }
   ],
   "source": [
    "stats.pearsonr([np.mean(eth_glove_twitter), np.mean(lgtbq_glove_twitter)], crime_rate2)"
   ]
  },
  {
   "cell_type": "code",
   "execution_count": 58,
   "id": "8212038f",
   "metadata": {},
   "outputs": [
    {
     "data": {
      "text/plain": [
       "(-1.0, 1.0)"
      ]
     },
     "execution_count": 58,
     "metadata": {},
     "output_type": "execute_result"
    }
   ],
   "source": [
    "stats.pearsonr([np.mean(eth_ud), np.mean(lgtbq_ud)], crime_rate2)"
   ]
  },
  {
   "cell_type": "code",
   "execution_count": 59,
   "id": "d432a2a4",
   "metadata": {},
   "outputs": [
    {
     "data": {
      "text/plain": [
       "(-1.0, 1.0)"
      ]
     },
     "execution_count": 59,
     "metadata": {},
     "output_type": "execute_result"
    }
   ],
   "source": [
    "stats.pearsonr([np.mean(eth_chan), np.mean(lgtbq_chan)], crime_rate2)"
   ]
  },
  {
   "cell_type": "markdown",
   "id": "fc9e293d",
   "metadata": {},
   "source": [
    "## Online Extremism and Online Hate"
   ]
  },
  {
   "cell_type": "code",
   "execution_count": 90,
   "id": "47371ffa",
   "metadata": {},
   "outputs": [],
   "source": [
    "hate_finland = [0.67, 0.63, 0.25]\n",
    "hate_us = [0.60, 0.61, 0.44]\n",
    "germany = [0.48, 0.50, 0.20]\n",
    "uk = [0.57, 0.55, 0.44]"
   ]
  },
  {
   "cell_type": "code",
   "execution_count": 62,
   "id": "9269bf9f",
   "metadata": {},
   "outputs": [
    {
     "data": {
      "text/plain": [
       "(0.7895054407417775, 0.5291550204157829, 0.2549104520252774)"
      ]
     },
     "execution_count": 62,
     "metadata": {},
     "output_type": "execute_result"
    }
   ],
   "source": [
    "np.mean(eth_w2v), np.mean(lgtbq_w2V_sim), np.mean(women_w2v)"
   ]
  },
  {
   "cell_type": "code",
   "execution_count": 64,
   "id": "37ce67cf",
   "metadata": {},
   "outputs": [
    {
     "data": {
      "text/plain": [
       "(0.13636286929249775, 0.6294413149356843, 0.3402559693370547)"
      ]
     },
     "execution_count": 64,
     "metadata": {},
     "output_type": "execute_result"
    }
   ],
   "source": [
    "np.mean(eth_glove_wk), np.mean(lgtbq_glove_wk_sim), np.mean(women_glove_wk)"
   ]
  },
  {
   "cell_type": "code",
   "execution_count": 91,
   "id": "70c918d2",
   "metadata": {},
   "outputs": [
    {
     "name": "stdout",
     "output_type": "stream",
     "text": [
      "w2v_finland (0.9121865691831138, 0.2687856672347714)\n",
      "glove_wk_finland (0.013152066819396204, 0.9916268928111406)\n",
      "glove_twitter (-0.9604715465628506, 0.17959369934176592)\n",
      "ud_finland (-0.7493134534938759, 0.460767310387291)\n",
      "chan_finland (-0.9405556348744067, 0.22061024059309567)\n"
     ]
    }
   ],
   "source": [
    "print(\"w2v_finland\",stats.pearsonr([np.mean(eth_w2v), np.mean(lgtbq_w2V_sim), np.mean(women_w2v)], hate_finland))\n",
    "print(\"glove_wk_finland\",stats.pearsonr([np.mean(eth_glove_wk), np.mean(lgtbq_glove_wk_sim), np.mean(women_glove_wk)], hate_finland))\n",
    "print(\"glove_twitter\",stats.pearsonr([np.mean(eth_glove_twitter), np.mean(lgtbq_glove_twitter), np.mean(women_glove_twitter)], hate_finland))\n",
    "print(\"ud_finland\",stats.pearsonr([np.mean(eth_ud), np.mean(lgtbq_ud), np.mean(women_ud)], hate_finland))\n",
    "print(\"chan_finland\",stats.pearsonr([np.mean(eth_chan), np.mean(lgtbq_chan), np.mean(women_chan)], hate_finland))"
   ]
  },
  {
   "cell_type": "code",
   "execution_count": 92,
   "id": "4faae4de",
   "metadata": {},
   "outputs": [
    {
     "name": "stdout",
     "output_type": "stream",
     "text": [
      "w2v_us (0.8467060434000625, 0.35716458148221564)\n",
      "glove_wk_us (0.15139335116425331, 0.9032479785636961)\n",
      "glove_us (-0.9897529905598762, 0.09121478509432115)\n",
      "ud_us (-0.6504672499073821, 0.5491462246347354)\n",
      "chan_us (-0.8845075095662721, 0.30898915484054)\n"
     ]
    }
   ],
   "source": [
    "print(\"w2v_us\",stats.pearsonr([np.mean(eth_w2v), np.mean(lgtbq_w2V_sim), np.mean(women_w2v)], hate_us))\n",
    "print(\"glove_wk_us\",stats.pearsonr([np.mean(eth_glove_wk), np.mean(lgtbq_glove_wk_sim), np.mean(women_glove_wk)], hate_us))\n",
    "print(\"glove_us\",stats.pearsonr([np.mean(eth_glove_twitter), np.mean(lgtbq_glove_twitter), np.mean(women_glove_twitter)], hate_us))\n",
    "print(\"ud_us\",stats.pearsonr([np.mean(eth_ud), np.mean(lgtbq_ud), np.mean(women_ud)], hate_us))\n",
    "print(\"chan_us\",stats.pearsonr([np.mean(eth_chan), np.mean(lgtbq_chan), np.mean(women_chan)], hate_us))"
   ]
  },
  {
   "cell_type": "code",
   "execution_count": 93,
   "id": "95976047",
   "metadata": {},
   "outputs": [
    {
     "name": "stdout",
     "output_type": "stream",
     "text": [
      "w2v_germany (0.8428442753111477, 0.3617589091825382)\n",
      "glove_wk_germany (0.1585229167380718, 0.898653650863374)\n",
      "glove_germany (-0.9907576888245998, 0.08662045739399923)\n",
      "ud_germany (-0.6449689873830183, 0.5537405523350578)\n",
      "chan_germany (-0.8811177030292635, 0.31358348254086243)\n"
     ]
    }
   ],
   "source": [
    "print(\"w2v_germany\",stats.pearsonr([np.mean(eth_w2v), np.mean(lgtbq_w2V_sim), np.mean(women_w2v)], germany))\n",
    "print(\"glove_wk_germany\",stats.pearsonr([np.mean(eth_glove_wk), np.mean(lgtbq_glove_wk_sim), np.mean(women_glove_wk)], germany))\n",
    "print(\"glove_germany\",stats.pearsonr([np.mean(eth_glove_twitter), np.mean(lgtbq_glove_twitter), np.mean(women_glove_twitter)], germany))\n",
    "print(\"ud_germany\",stats.pearsonr([np.mean(eth_ud), np.mean(lgtbq_ud), np.mean(women_ud)], germany))\n",
    "print(\"chan_germany\",stats.pearsonr([np.mean(eth_chan), np.mean(lgtbq_chan), np.mean(women_chan)], germany))"
   ]
  },
  {
   "cell_type": "code",
   "execution_count": 94,
   "id": "f1caf91e",
   "metadata": {},
   "outputs": [
    {
     "name": "stdout",
     "output_type": "stream",
     "text": [
      "w2v_uk (0.9340355758390307, 0.23252344480864656)\n",
      "glove_wk_uk (-0.04379410871469876, 0.9721108847627347)\n",
      "glove_uk (-0.9430658346488991, 0.21585592176789073)\n",
      "ud_uk (-0.7857979808837772, 0.4245050879611661)\n",
      "chan_uk (-0.9583658355584561, 0.18434801816697066)\n"
     ]
    }
   ],
   "source": [
    "print(\"w2v_uk\",stats.pearsonr([np.mean(eth_w2v), np.mean(lgtbq_w2V_sim), np.mean(women_w2v)], uk))\n",
    "print(\"glove_wk_uk\",stats.pearsonr([np.mean(eth_glove_wk), np.mean(lgtbq_glove_wk_sim), np.mean(women_glove_wk)], uk))\n",
    "print(\"glove_uk\",stats.pearsonr([np.mean(eth_glove_twitter), np.mean(lgtbq_glove_twitter), np.mean(women_glove_twitter)], uk))\n",
    "print(\"ud_uk\",stats.pearsonr([np.mean(eth_ud), np.mean(lgtbq_ud), np.mean(women_ud)], uk))\n",
    "print(\"chan_uk\",stats.pearsonr([np.mean(eth_chan), np.mean(lgtbq_chan), np.mean(women_chan)], uk))"
   ]
  },
  {
   "cell_type": "code",
   "execution_count": 71,
   "id": "87596eaa",
   "metadata": {},
   "outputs": [],
   "source": [
    "## difference between majoirty and minority added (online harassment) (https://www.womensmediacenter.com/speech-project/research-statistics)"
   ]
  },
  {
   "cell_type": "code",
   "execution_count": 72,
   "id": "aca716fe",
   "metadata": {},
   "outputs": [],
   "source": [
    "bullying_diff = [0.23,0.25,0.31]"
   ]
  },
  {
   "cell_type": "code",
   "execution_count": 73,
   "id": "1ed582d2",
   "metadata": {},
   "outputs": [
    {
     "name": "stdout",
     "output_type": "stream",
     "text": [
      "w2v_uk (-0.9648220468802434, 0.16936038318335925)\n",
      "glove_wk_uk (0.14253730584547158, 0.9089478231374478)\n",
      "glove_uk (0.9054820941161025, 0.2790189833931778)\n",
      "ud_uk (0.843196500599462, 0.3613420263358791)\n",
      "chan_uk (0.9819367717505211, 0.12118495654168342)\n"
     ]
    }
   ],
   "source": [
    "print(\"w2v_uk\",stats.pearsonr([np.mean(eth_w2v), np.mean(lgtbq_w2V_sim), np.mean(women_w2v)], bullying_diff))\n",
    "print(\"glove_wk_uk\",stats.pearsonr([np.mean(eth_glove_wk), np.mean(lgtbq_glove_wk_sim), np.mean(women_glove_wk)], bullying_diff))\n",
    "print(\"glove_uk\",stats.pearsonr([np.mean(eth_glove_twitter), np.mean(lgtbq_glove_twitter), np.mean(women_glove_twitter)], bullying_diff))\n",
    "print(\"ud_uk\",stats.pearsonr([np.mean(eth_ud), np.mean(lgtbq_ud), np.mean(women_ud)], bullying_diff))\n",
    "print(\"chan_uk\",stats.pearsonr([np.mean(eth_chan), np.mean(lgtbq_chan), np.mean(women_chan)], bullying_diff))"
   ]
  },
  {
   "cell_type": "code",
   "execution_count": 93,
   "id": "977f23dc",
   "metadata": {},
   "outputs": [],
   "source": [
    "## https://enough.org/stats_cyberbullying"
   ]
  },
  {
   "cell_type": "code",
   "execution_count": 94,
   "id": "ce947d90",
   "metadata": {},
   "outputs": [],
   "source": [
    "bullying = [0.17,0.15,0.2]"
   ]
  },
  {
   "cell_type": "code",
   "execution_count": 95,
   "id": "f3593b27",
   "metadata": {},
   "outputs": [
    {
     "name": "stdout",
     "output_type": "stream",
     "text": [
      "w2v_uk (-0.6080197430847254, 0.5839282797876322)\n",
      "glove_wk_uk (-0.4865856891260954, 0.6764842802582799)\n",
      "glove_uk (0.9774180991472742, 0.1355489132110946)\n",
      "ud_uk (0.34477574372610187, 0.7759099229401519)\n",
      "chan_uk (0.6663014045487782, 0.5357528531459566)\n"
     ]
    }
   ],
   "source": [
    "print(\"w2v_uk\",stats.pearsonr([np.mean(eth_w2v), np.mean(lgtbq_w2V_sim), np.mean(women_w2v)], bullying))\n",
    "print(\"glove_wk_uk\",stats.pearsonr([np.mean(eth_glove_wk), np.mean(lgtbq_glove_wk_sim), np.mean(women_glove_wk)], bullying))\n",
    "print(\"glove_uk\",stats.pearsonr([np.mean(eth_glove_twitter), np.mean(lgtbq_glove_twitter), np.mean(women_glove_twitter)], bullying))\n",
    "print(\"ud_uk\",stats.pearsonr([np.mean(eth_ud), np.mean(lgtbq_ud), np.mean(women_ud)], bullying))\n",
    "print(\"chan_uk\",stats.pearsonr([np.mean(eth_chan), np.mean(lgtbq_chan), np.mean(women_chan)], bullying))"
   ]
  },
  {
   "cell_type": "code",
   "execution_count": null,
   "id": "67405ac7",
   "metadata": {},
   "outputs": [],
   "source": []
  }
 ],
 "metadata": {
  "kernelspec": {
   "display_name": "Python 3",
   "language": "python",
   "name": "python3"
  },
  "language_info": {
   "codemirror_mode": {
    "name": "ipython",
    "version": 3
   },
   "file_extension": ".py",
   "mimetype": "text/x-python",
   "name": "python",
   "nbconvert_exporter": "python",
   "pygments_lexer": "ipython3",
   "version": "3.6.9"
  }
 },
 "nbformat": 4,
 "nbformat_minor": 5
}
