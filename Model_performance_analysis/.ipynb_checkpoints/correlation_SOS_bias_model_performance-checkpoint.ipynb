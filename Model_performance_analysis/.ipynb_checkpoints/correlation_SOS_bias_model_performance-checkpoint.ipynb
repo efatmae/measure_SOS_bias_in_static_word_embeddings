{
 "cells": [
  {
   "cell_type": "code",
   "execution_count": 1,
   "id": "1b8299f0",
   "metadata": {},
   "outputs": [],
   "source": [
    "from scipy.stats import *\n",
    "import pandas as pd"
   ]
  },
  {
   "cell_type": "code",
   "execution_count": 2,
   "id": "0e46a59b",
   "metadata": {},
   "outputs": [],
   "source": [
    "mean_sos = pd.read_csv(\"../Bias_scores/SOS_bias_scores.csv\",index_col=False)[[\"mean_SOS\"]].values.tolist()"
   ]
  },
  {
   "cell_type": "code",
   "execution_count": 3,
   "id": "9654bca7",
   "metadata": {},
   "outputs": [],
   "source": [
    "WEAT_SOS =  pd.read_csv(\"../Bias_scores/WEAT_bias_scores.csv\",index_col=False)[[\"WEAT_SOS \"]].values.tolist()"
   ]
  },
  {
   "cell_type": "code",
   "execution_count": 4,
   "id": "05124f48",
   "metadata": {},
   "outputs": [],
   "source": [
    "RNSB_SOS  =  pd.read_csv(\"../Bias_scores/RNSB_bias_scores.csv\",index_col=False)[[\"RNSB_SOS \"]].values.tolist()"
   ]
  },
  {
   "cell_type": "code",
   "execution_count": 5,
   "id": "d97f9e4d",
   "metadata": {},
   "outputs": [],
   "source": [
    "RND_SOS  =  pd.read_csv(\"../Bias_scores/RND_bias_scores.csv\",index_col=False)[[\"RND_SOS \"]].values.tolist()"
   ]
  },
  {
   "cell_type": "code",
   "execution_count": 6,
   "id": "f8956539",
   "metadata": {},
   "outputs": [],
   "source": [
    "ECT_SOS =  pd.read_csv(\"../Bias_scores/ECT_bias_scores.csv\",index_col=False)[[\"ECT_SOS_reversed\"]].values.tolist()"
   ]
  },
  {
   "cell_type": "code",
   "execution_count": 7,
   "id": "f9b6c7d0",
   "metadata": {},
   "outputs": [],
   "source": [
    "F1_HateEval_ds_bilstm = pd.read_csv(\"./models_performances.csv\",index_col=False)[[\"HateEval_BiLSTM\"]].values.tolist()\n",
    "F1_HateEval_ds_mlp = pd.read_csv(\"./models_performances.csv\",index_col=False)[[\"HateEval_MLP\"]].values.tolist()\n",
    "F1_twitter_racism_ds_bilsmt = pd.read_csv(\"./models_performances.csv\",index_col=False)[[\"Twitter_racism_BiLSTM\"]].values.tolist()\n",
    "F1_twitter_racism_ds_mlp = pd.read_csv(\"./models_performances.csv\",index_col=False)[[\"Twitter_racism_MLP\"]].values.tolist()\n",
    "F1_twitter_hate_ds_bilsmt = pd.read_csv(\"./models_performances.csv\",index_col=False)[[\"Twitter_hate_BiLSTM\"]].values.tolist()\n",
    "F1_twitter_hate_ds_mlp = [0.681, 0.713, 0.775, 0.780, 0.692]\n",
    "F1_Twitter_sex_ds_bilstm = [0.659,0.661,0.661,0.625,0.631]\n",
    "F1_Twitter_sex_ds_ml p= [0.587,0.587,0.589,0.578,0.563]"
   ]
  },
  {
   "cell_type": "code",
   "execution_count": 18,
   "id": "e30ea924",
   "metadata": {},
   "outputs": [
    {
     "name": "stdout",
     "output_type": "stream",
     "text": [
      "F1_HateEval_ds_mlp SpearmanrResult(correlation=0.7, pvalue=0.1881204043741873)\n",
      "F1_HateEval_ds_bilstm SpearmanrResult(correlation=-0.051298917604257706, pvalue=0.9347128481082341)\n",
      "\n",
      "\n",
      "F1_Twitter_sex_ds_mlp SpearmanrResult(correlation=-0.20519567041703082, pvalue=0.7405819415910722)\n",
      "F1_Twitter_sex_ds_bilstm SpearmanrResult(correlation=0.15389675281277312, pvalue=0.8048288166080632)\n",
      "\n",
      "\n",
      "F1_twitter_racism_ds_mlp SpearmanrResult(correlation=-0.7, pvalue=0.1881204043741873)\n",
      "F1_twitter_racism_ds_bilsmt SpearmanrResult(correlation=-0.09999999999999999, pvalue=0.8728885715695383)\n",
      "\n",
      "\n",
      "F1_twitter_hate_ds_mlp SpearmanrResult(correlation=0.09999999999999999, pvalue=0.8728885715695383)\n",
      "F1_twitter_hate_ds_bilsmt SpearmanrResult(correlation=0.7999999999999999, pvalue=0.10408803866182788)\n"
     ]
    }
   ],
   "source": [
    "print(\"F1_HateEval_ds_mlp\",spearmanr(mean_sos, F1_HateEval_ds_mlp))\n",
    "print(\"F1_HateEval_ds_bilstm\",spearmanr(mean_sos, F1_HateEval_ds_bilstm))\n",
    "\n",
    "print(\"\\n\")\n",
    "print(\"F1_Twitter_sex_ds_mlp\",spearmanr(mean_sos, F1_Twitter_sex_ds_mlp))\n",
    "print(\"F1_Twitter_sex_ds_bilstm\",spearmanr(mean_sos, F1_Twitter_sex_ds_bilstm))\n",
    "\n",
    "print(\"\\n\")\n",
    "print(\"F1_twitter_racism_ds_mlp\",spearmanr(mean_sos, F1_twitter_racism_ds_mlp))\n",
    "print(\"F1_twitter_racism_ds_bilsmt\",spearmanr(mean_sos, F1_twitter_racism_ds_bilsmt))\n",
    "\n",
    "print(\"\\n\")\n",
    "print(\"F1_twitter_hate_ds_mlp\",spearmanr(mean_sos, F1_twitter_hate_ds_mlp))\n",
    "print(\"F1_twitter_hate_ds_bilsmt\",spearmanr(mean_sos, F1_twitter_hate_ds_bilsmt))\n"
   ]
  },
  {
   "cell_type": "code",
   "execution_count": 17,
   "id": "45872ec0",
   "metadata": {},
   "outputs": [
    {
     "name": "stdout",
     "output_type": "stream",
     "text": [
      "F1_HateEval_ds_mlp SpearmanrResult(correlation=0.8999999999999998, pvalue=0.03738607346849874)\n",
      "F1_HateEval_ds_bilstm SpearmanrResult(correlation=0.10259783520851541, pvalue=0.8695979205185651)\n",
      "\n",
      "\n",
      "F1_Twitter_sex_ds_mlp SpearmanrResult(correlation=-0.35909242322980395, pvalue=0.5528147466433505)\n",
      "F1_Twitter_sex_ds_bilstm SpearmanrResult(correlation=-0.20519567041703082, pvalue=0.7405819415910722)\n",
      "\n",
      "\n",
      "F1_twitter_racism_ds_mlp SpearmanrResult(correlation=-0.8999999999999998, pvalue=0.03738607346849874)\n",
      "F1_twitter_racism_ds_bilsmt SpearmanrResult(correlation=-0.49999999999999994, pvalue=0.39100221895577053)\n",
      "\n",
      "\n",
      "F1_twitter_hate_ds_mlp SpearmanrResult(correlation=0.3, pvalue=0.6238376647810728)\n",
      "F1_twitter_hate_ds_bilsmt SpearmanrResult(correlation=0.8999999999999998, pvalue=0.03738607346849874)\n"
     ]
    }
   ],
   "source": [
    "\n",
    "print(\"F1_HateEval_ds_mlp\",spearmanr(WEAT_SOS, F1_HateEval_ds_mlp))\n",
    "print(\"F1_HateEval_ds_bilstm\",spearmanr(WEAT_SOS, F1_HateEval_ds_bilstm))\n",
    "\n",
    "print(\"\\n\")\n",
    "\n",
    "print(\"F1_Twitter_sex_ds_mlp\",spearmanr(WEAT_SOS, F1_Twitter_sex_ds_mlp))\n",
    "print(\"F1_Twitter_sex_ds_bilstm\",spearmanr(WEAT_SOS, F1_Twitter_sex_ds_bilstm))\n",
    "\n",
    "print(\"\\n\")\n",
    "\n",
    "print(\"F1_twitter_racism_ds_mlp\",spearmanr(WEAT_SOS, F1_twitter_racism_ds_mlp))\n",
    "print(\"F1_twitter_racism_ds_bilsmt\",spearmanr(WEAT_SOS, F1_twitter_racism_ds_bilsmt))\n",
    "print(\"\\n\")\n",
    "\n",
    "print(\"F1_twitter_hate_ds_mlp\",spearmanr(WEAT_SOS, F1_twitter_hate_ds_mlp))\n",
    "print(\"F1_twitter_hate_ds_bilsmt\",spearmanr(WEAT_SOS, F1_twitter_hate_ds_bilsmt))\n",
    "\n"
   ]
  },
  {
   "cell_type": "code",
   "execution_count": 14,
   "id": "5a758d49",
   "metadata": {},
   "outputs": [
    {
     "name": "stdout",
     "output_type": "stream",
     "text": [
      "F1_HateEval_ds_mlp SpearmanrResult(correlation=0.39999999999999997, pvalue=0.5046315754686911)\n",
      "F1_HateEval_ds_bilstm SpearmanrResult(correlation=-0.35909242322980395, pvalue=0.5528147466433505)\n",
      "\n",
      "\n",
      "F1_Twitter_sex_ds_mlp SpearmanrResult(correlation=-0.9746794344808964, pvalue=0.004818230468198537)\n",
      "F1_Twitter_sex_ds_bilstm SpearmanrResult(correlation=-0.8720815992723809, pvalue=0.05385421772754211)\n",
      "\n",
      "\n",
      "F1_twitter_racism_ds_mlp SpearmanrResult(correlation=-0.6, pvalue=0.28475697986529375)\n",
      "F1_twitter_racism_ds_bilsmt SpearmanrResult(correlation=-0.19999999999999998, pvalue=0.747060078104662)\n",
      "\n",
      "\n",
      "F1_twitter_hate_ds_mlp SpearmanrResult(correlation=-0.19999999999999998, pvalue=0.747060078104662)\n",
      "F1_twitter_hate_ds_bilsmt SpearmanrResult(correlation=-0.09999999999999999, pvalue=0.8728885715695383)\n"
     ]
    }
   ],
   "source": [
    "print(\"F1_HateEval_ds_mlp\",spearmanr(RNSB_SOS, F1_HateEval_ds_mlp))\n",
    "print(\"F1_HateEval_ds_bilstm\",spearmanr(RNSB_SOS, F1_HateEval_ds_bilstm))\n",
    "print(\"\\n\")\n",
    "print(\"F1_Twitter_sex_ds_mlp\",spearmanr(RNSB_SOS, F1_Twitter_sex_ds_mlp))\n",
    "print(\"F1_Twitter_sex_ds_bilstm\",spearmanr(RNSB_SOS, F1_Twitter_sex_ds_bilstm))\n",
    "print(\"\\n\")\n",
    "print(\"F1_twitter_racism_ds_mlp\",spearmanr(RNSB_SOS, F1_twitter_racism_ds_mlp))\n",
    "print(\"F1_twitter_racism_ds_bilsmt\",spearmanr(RNSB_SOS, F1_twitter_racism_ds_bilsmt))\n",
    "print(\"\\n\")\n",
    "print(\"F1_twitter_hate_ds_mlp\",spearmanr(RNSB_SOS, F1_twitter_hate_ds_mlp))\n",
    "print(\"F1_twitter_hate_ds_bilsmt\",spearmanr(RNSB_SOS, F1_twitter_hate_ds_bilsmt))\n"
   ]
  },
  {
   "cell_type": "code",
   "execution_count": 15,
   "id": "7e130e2a",
   "metadata": {},
   "outputs": [
    {
     "name": "stdout",
     "output_type": "stream",
     "text": [
      "F1_HateEval_ds_mlp SpearmanrResult(correlation=0.39999999999999997, pvalue=0.5046315754686911)\n",
      "F1_HateEval_ds_bilstm SpearmanrResult(correlation=-0.46169025843831935, pvalue=0.43376615616902786)\n",
      "\n",
      "\n",
      "F1_Twitter_sex_ds_mlp SpearmanrResult(correlation=-0.35909242322980395, pvalue=0.5528147466433505)\n",
      "F1_Twitter_sex_ds_bilstm SpearmanrResult(correlation=0.15389675281277312, pvalue=0.8048288166080632)\n",
      "\n",
      "\n",
      "F1_twitter_racism_ds_mlp SpearmanrResult(correlation=-0.6, pvalue=0.28475697986529375)\n",
      "F1_twitter_racism_ds_bilsmt SpearmanrResult(correlation=0.19999999999999998, pvalue=0.747060078104662)\n",
      "\n",
      "\n",
      "F1_twitter_hate_ds_mlp SpearmanrResult(correlation=0.0, pvalue=1.0)\n",
      "F1_twitter_hate_ds_bilsmt SpearmanrResult(correlation=0.49999999999999994, pvalue=0.39100221895577053)\n"
     ]
    }
   ],
   "source": [
    "print(\"F1_HateEval_ds_mlp\",spearmanr(RND_SOS, F1_HateEval_ds_mlp))\n",
    "print(\"F1_HateEval_ds_bilstm\",spearmanr(RND_SOS, F1_HateEval_ds_bilstm))\n",
    "print(\"\\n\")\n",
    "print(\"F1_Twitter_sex_ds_mlp\",spearmanr(RND_SOS, F1_Twitter_sex_ds_mlp))\n",
    "print(\"F1_Twitter_sex_ds_bilstm\",spearmanr(RND_SOS, F1_Twitter_sex_ds_bilstm))\n",
    "print(\"\\n\")\n",
    "print(\"F1_twitter_racism_ds_mlp\",spearmanr(RND_SOS, F1_twitter_racism_ds_mlp))\n",
    "print(\"F1_twitter_racism_ds_bilsmt\",spearmanr(RND_SOS, F1_twitter_racism_ds_bilsmt))\n",
    "print(\"\\n\")\n",
    "print(\"F1_twitter_hate_ds_mlp\",spearmanr(RND_SOS, F1_twitter_hate_ds_mlp))\n",
    "print(\"F1_twitter_hate_ds_bilsmt\",spearmanr(RND_SOS, F1_twitter_hate_ds_bilsmt))"
   ]
  },
  {
   "cell_type": "code",
   "execution_count": 16,
   "id": "030b5b28",
   "metadata": {},
   "outputs": [
    {
     "name": "stdout",
     "output_type": "stream",
     "text": [
      "F1_HateEval_ds_mlp SpearmanrResult(correlation=-0.09999999999999999, pvalue=0.8728885715695383)\n",
      "F1_HateEval_ds_bilstm SpearmanrResult(correlation=-0.20519567041703082, pvalue=0.7405819415910722)\n",
      "\n",
      "\n",
      "F1_Twitter_sex_ds_mlp SpearmanrResult(correlation=-0.6155870112510925, pvalue=0.2689977701158222)\n",
      "F1_Twitter_sex_ds_bilstm SpearmanrResult(correlation=-0.8720815992723809, pvalue=0.05385421772754211)\n",
      "\n",
      "\n",
      "F1_twitter_racism_ds_mlp SpearmanrResult(correlation=-0.09999999999999999, pvalue=0.8728885715695383)\n",
      "F1_twitter_racism_ds_bilsmt SpearmanrResult(correlation=-0.3, pvalue=0.6238376647810728)\n",
      "\n",
      "\n",
      "F1_twitter_hate_ds_mlp SpearmanrResult(correlation=0.0, pvalue=1.0)\n",
      "F1_twitter_hate_ds_bilsmt SpearmanrResult(correlation=-0.49999999999999994, pvalue=0.39100221895577053)\n"
     ]
    }
   ],
   "source": [
    "print(\"F1_HateEval_ds_mlp\",spearmanr(ECT_SOS, F1_HateEval_ds_mlp))\n",
    "print(\"F1_HateEval_ds_bilstm\",spearmanr(ECT_SOS, F1_HateEval_ds_bilstm))\n",
    "\n",
    "print(\"\\n\")\n",
    "print(\"F1_Twitter_sex_ds_mlp\",spearmanr(ECT_SOS, F1_Twitter_sex_ds_mlp))\n",
    "print(\"F1_Twitter_sex_ds_bilstm\",spearmanr(ECT_SOS, F1_Twitter_sex_ds_bilstm))\n",
    "\n",
    "print(\"\\n\")\n",
    "print(\"F1_twitter_racism_ds_mlp\",spearmanr(ECT_SOS, F1_twitter_racism_ds_mlp))\n",
    "print(\"F1_twitter_racism_ds_bilsmt\",spearmanr(ECT_SOS, F1_twitter_racism_ds_bilsmt))\n",
    "\n",
    "print(\"\\n\")\n",
    "print(\"F1_twitter_hate_ds_mlp\",spearmanr(ECT_SOS, F1_twitter_hate_ds_mlp))\n",
    "print(\"F1_twitter_hate_ds_bilsmt\",spearmanr(ECT_SOS, F1_twitter_hate_ds_bilsmt))\n",
    "\n",
    "\n"
   ]
  },
  {
   "cell_type": "code",
   "execution_count": null,
   "id": "775102a0",
   "metadata": {},
   "outputs": [],
   "source": []
  }
 ],
 "metadata": {
  "kernelspec": {
   "display_name": "env_py_39",
   "language": "python",
   "name": "env_py_39"
  },
  "language_info": {
   "codemirror_mode": {
    "name": "ipython",
    "version": 3
   },
   "file_extension": ".py",
   "mimetype": "text/x-python",
   "name": "python",
   "nbconvert_exporter": "python",
   "pygments_lexer": "ipython3",
   "version": "3.8.10"
  }
 },
 "nbformat": 4,
 "nbformat_minor": 5
}
