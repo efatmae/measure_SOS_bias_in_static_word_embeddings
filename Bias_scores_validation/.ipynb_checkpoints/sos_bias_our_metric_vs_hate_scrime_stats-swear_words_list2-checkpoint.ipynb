{
 "cells": [
  {
   "cell_type": "code",
   "execution_count": 1,
   "id": "fd67229e",
   "metadata": {},
   "outputs": [],
   "source": [
    "import numpy as np\n",
    "from scipy import stats \n",
    "import pandas as pd"
   ]
  },
  {
   "cell_type": "markdown",
   "id": "fe9f14db",
   "metadata": {},
   "source": [
    "## bias_scores"
   ]
  },
  {
   "cell_type": "code",
   "execution_count": 2,
   "id": "7deadce5",
   "metadata": {},
   "outputs": [],
   "source": [
    "bias_Scores = pd.read_csv(\"../Bias_scores/SOS_bias_scores_swear_list_2.csv\", index_col=False)"
   ]
  },
  {
   "cell_type": "code",
   "execution_count": 3,
   "id": "b56c124c",
   "metadata": {},
   "outputs": [
    {
     "data": {
      "text/plain": [
       "Index(['word embeddings', 'mean_SOS_min', 'mean_SOS_maj', 'mean_SOS_women',\n",
       "       'mean_SOS_lgbtq', 'mean_SOS_eth', 'mean_SOS_men', 'mean_SOS_straight',\n",
       "       'mean_SOS_white'],\n",
       "      dtype='object')"
      ]
     },
     "execution_count": 3,
     "metadata": {},
     "output_type": "execute_result"
    }
   ],
   "source": [
    "bias_Scores.columns"
   ]
  },
  {
   "cell_type": "markdown",
   "id": "10f0bea8",
   "metadata": {},
   "source": [
    "## Online Extremism and Online Hate"
   ]
  },
  {
   "cell_type": "code",
   "execution_count": 4,
   "id": "f98883cb",
   "metadata": {},
   "outputs": [],
   "source": [
    "hate_stats = pd.read_csv(\"Hate_stats.csv\", index_col=False)"
   ]
  },
  {
   "cell_type": "code",
   "execution_count": 5,
   "id": "4aa07142",
   "metadata": {},
   "outputs": [
    {
     "data": {
      "text/html": [
       "<div>\n",
       "<style scoped>\n",
       "    .dataframe tbody tr th:only-of-type {\n",
       "        vertical-align: middle;\n",
       "    }\n",
       "\n",
       "    .dataframe tbody tr th {\n",
       "        vertical-align: top;\n",
       "    }\n",
       "\n",
       "    .dataframe thead th {\n",
       "        text-align: right;\n",
       "    }\n",
       "</style>\n",
       "<table border=\"1\" class=\"dataframe\">\n",
       "  <thead>\n",
       "    <tr style=\"text-align: right;\">\n",
       "      <th></th>\n",
       "      <th>hate_survey</th>\n",
       "      <th>ethnicity_pct</th>\n",
       "      <th>lgbtq_pct</th>\n",
       "      <th>women_pct</th>\n",
       "    </tr>\n",
       "  </thead>\n",
       "  <tbody>\n",
       "    <tr>\n",
       "      <th>0</th>\n",
       "      <td>OEOH_Finland</td>\n",
       "      <td>0.67</td>\n",
       "      <td>0.63</td>\n",
       "      <td>0.25</td>\n",
       "    </tr>\n",
       "    <tr>\n",
       "      <th>1</th>\n",
       "      <td>OEOH_US</td>\n",
       "      <td>0.60</td>\n",
       "      <td>0.61</td>\n",
       "      <td>0.44</td>\n",
       "    </tr>\n",
       "    <tr>\n",
       "      <th>2</th>\n",
       "      <td>OEOH_Germany</td>\n",
       "      <td>0.48</td>\n",
       "      <td>0.50</td>\n",
       "      <td>0.20</td>\n",
       "    </tr>\n",
       "    <tr>\n",
       "      <th>3</th>\n",
       "      <td>OEOH_UK</td>\n",
       "      <td>0.57</td>\n",
       "      <td>0.55</td>\n",
       "      <td>0.44</td>\n",
       "    </tr>\n",
       "    <tr>\n",
       "      <th>4</th>\n",
       "      <td>RAD</td>\n",
       "      <td>0.32</td>\n",
       "      <td>0.42</td>\n",
       "      <td>0.25</td>\n",
       "    </tr>\n",
       "  </tbody>\n",
       "</table>\n",
       "</div>"
      ],
      "text/plain": [
       "    hate_survey  ethnicity_pct  lgbtq_pct  women_pct\n",
       "0  OEOH_Finland           0.67       0.63       0.25\n",
       "1       OEOH_US           0.60       0.61       0.44\n",
       "2  OEOH_Germany           0.48       0.50       0.20\n",
       "3       OEOH_UK           0.57       0.55       0.44\n",
       "4           RAD           0.32       0.42       0.25"
      ]
     },
     "execution_count": 5,
     "metadata": {},
     "output_type": "execute_result"
    }
   ],
   "source": [
    "hate_stats"
   ]
  },
  {
   "cell_type": "markdown",
   "id": "ae919754",
   "metadata": {},
   "source": [
    "## correlation"
   ]
  },
  {
   "cell_type": "code",
   "execution_count": 6,
   "id": "5ba6f8c2",
   "metadata": {},
   "outputs": [],
   "source": [
    "correlations = {}"
   ]
  },
  {
   "cell_type": "code",
   "execution_count": 7,
   "id": "215b57f6",
   "metadata": {},
   "outputs": [],
   "source": [
    "WE = bias_Scores[\"word embeddings\"].values.tolist()\n",
    "surveys = hate_stats.hate_survey.values.tolist()"
   ]
  },
  {
   "cell_type": "code",
   "execution_count": 8,
   "id": "c05e72a6",
   "metadata": {},
   "outputs": [],
   "source": [
    "corrs = []\n",
    "s = []\n",
    "w = []"
   ]
  },
  {
   "cell_type": "code",
   "execution_count": 9,
   "id": "a65f2115",
   "metadata": {},
   "outputs": [],
   "source": [
    "def retrive_corr (survey_name, word_embeddings):\n",
    "    survey_pct = hate_stats[hate_stats[\"hate_survey\"] == survey_name][[\"ethnicity_pct\",\"lgbtq_pct\",\"women_pct\"]].values.flatten().tolist()\n",
    "    WE_SOS_bias_scores = bias_Scores[bias_Scores[\"word embeddings\"] == word_embeddings][[\"mean_SOS_eth\", \"mean_SOS_lgbtq\", \"mean_SOS_women\"]].values.flatten().tolist()\n",
    "    corr = stats.pearsonr(survey_pct, WE_SOS_bias_scores)\n",
    "    print(corr)\n",
    "    return corr[0]"
   ]
  },
  {
   "cell_type": "code",
   "execution_count": 10,
   "id": "d07e4de5",
   "metadata": {},
   "outputs": [
    {
     "name": "stdout",
     "output_type": "stream",
     "text": [
      "(0.9839363738772762, 0.11426151978504008)\n",
      "(-0.04165579442989904, 0.9734734223479582)\n",
      "(-0.9919848708829805, 0.08065678122958131)\n",
      "(-0.36629566506723027, 0.7612517564803669)\n",
      "(-0.8937204361015514, 0.2961717340846048)\n",
      "(-0.9815448931984763, 0.12249647351627933)\n",
      "(0.9713425676116483, 0.15277644446493865)\n",
      "(0.9923724060820934, 0.07868017937673123)\n",
      "(0.272887599365455, 0.8240425739082508)\n",
      "(-0.43713834522631617, 0.7119840182663109)\n",
      "(-0.7273388503211623, 0.4815137561243632)\n",
      "(-0.16741088855366437, 0.8929187041444709)\n",
      "(0.9999999970746122, 4.8695277534339735e-05)\n",
      "(0.631227846345669, 0.5651025664609804)\n",
      "(0.6036711767538866, 0.5874079858703136)\n",
      "(0.9991736464009128, 0.0258826055375952)\n",
      "(0.09700464128892357, 0.9381476634045977)\n",
      "(-0.9999264336870959, 0.007722133017859083)\n",
      "(-0.2340094362600007, 0.8496306707278111)\n",
      "(-0.8230416267316502, 0.384550648332049)\n",
      "(-0.9456390599972803, 0.21087538776372355)\n",
      "(0.9291068704224914, 0.24115535871238303)\n",
      "(0.9998839536371318, 0.009698734870713517)\n",
      "(0.1371345037097491, 0.912421488155695)\n",
      "(-0.3084747534690004, 0.8003629325137551)\n",
      "(-0.6253742225417808, 0.5698926703718076)\n",
      "(-0.3022271296266118, 0.8045397898970267)\n",
      "(0.9903898197013519, 0.08833021897084202)\n",
      "(0.7324819626981465, 0.47672365221353613)\n",
      "(0.7081843886752839, 0.49902907162286936)\n",
      "(0.9994409503908693, 0.02128827783727446)\n",
      "(0.10418477123414904, 0.9335533357042753)\n",
      "(-0.9998128593798307, 0.01231646071818542)\n",
      "(-0.2269870283469255, 0.8542249984281334)\n",
      "(-0.818921250735989, 0.3891449760323715)\n",
      "(-0.9432674370833863, 0.2154697154640459)\n",
      "(0.9264138619545503, 0.24574968641270553)\n",
      "(0.9997479758809688, 0.014293062571037213)\n",
      "(0.1299824223523578, 0.9170158158560175)\n",
      "(-0.301601969886285, 0.8049572602140775)\n",
      "(-0.6197265735392594, 0.5744869980721298)\n",
      "(-0.30909846814235575, 0.7999454621967041)\n",
      "(0.9893659319288409, 0.09292454667116438)\n",
      "(0.7373759133667607, 0.47212932451321393)\n",
      "(0.7132611292072492, 0.49443474392254705)\n",
      "(0.972177537645348, 0.15052374221116518)\n",
      "(-0.09846859190035541, 0.9372111999218332)\n",
      "(-0.9831825976285928, 0.11691900365570605)\n",
      "(-0.4186746672358023, 0.7249895340542419)\n",
      "(-0.9178110665194157, 0.25990951165848)\n",
      "(-0.9908397949283763, 0.08623425109015431)\n",
      "(0.9832985173940048, 0.11651422203881408)\n",
      "(0.9837448797360313, 0.11494240180285638)\n",
      "(0.3272140787697236, 0.787780351482126)\n",
      "(-0.4876316966903552, 0.675721795840186)\n",
      "(-0.76522891905527, 0.4452515336982382)\n",
      "(-0.11101304762928128, 0.9291809265705958)\n",
      "(0.9983738280433012, 0.03631091770272779)\n",
      "(0.5860495279423998, 0.6013647888871055)\n",
      "(0.5573058199892714, 0.6236702082964386)\n",
      "(0.8617744038866287, 0.3387066616352988)\n",
      "(0.6208706839076769, 0.5735583962317032)\n",
      "(-0.8338084983182482, 0.37231140019075754)\n",
      "(0.33018153693595254, 0.7857800620992949)\n",
      "(-0.38393126021615565, 0.7491399155049436)\n",
      "(-0.6185205986970803, 0.5754646549366181)\n",
      "(0.5804611451392684, 0.6057446258852774)\n",
      "(0.832090444006401, 0.37428800204360774)\n",
      "(-0.42152600297189996, 0.7229892446714109)\n",
      "(0.25621679567052574, 0.8350478003133507)\n",
      "(-0.10273395455726483, 0.9344819375447019)\n",
      "(-0.7705627802273283, 0.43995052272413226)\n",
      "(0.757419664572619, 0.4529194861437363)\n",
      "(0.9845273667085749, 0.11213438504064159)\n",
      "(0.9777847645346527, 0.13443980444997505)\n"
     ]
    }
   ],
   "source": [
    "for j in surveys:\n",
    "    for i in WE:\n",
    "        s.append(j)\n",
    "        w.append(i)\n",
    "        corrs.append(retrive_corr(j, i))"
   ]
  },
  {
   "cell_type": "code",
   "execution_count": 11,
   "id": "a22a94a0",
   "metadata": {},
   "outputs": [],
   "source": [
    "correlations[\"hate_survey\"] = s\n",
    "correlations[\"WE\"] = w\n",
    "correlations[\"pearson_r\"] = corrs"
   ]
  },
  {
   "cell_type": "code",
   "execution_count": 12,
   "id": "43094c1a",
   "metadata": {},
   "outputs": [],
   "source": [
    "pd.DataFrame(correlations).to_csv(\"my_metric_swear_wors_list2_SOS_survey_correlations.csv\", index=False)"
   ]
  },
  {
   "cell_type": "code",
   "execution_count": null,
   "id": "b8c70bb3",
   "metadata": {},
   "outputs": [],
   "source": []
  }
 ],
 "metadata": {
  "kernelspec": {
   "display_name": "Python 3",
   "language": "python",
   "name": "python3"
  },
  "language_info": {
   "codemirror_mode": {
    "name": "ipython",
    "version": 3
   },
   "file_extension": ".py",
   "mimetype": "text/x-python",
   "name": "python",
   "nbconvert_exporter": "python",
   "pygments_lexer": "ipython3",
   "version": "3.8.10"
  }
 },
 "nbformat": 4,
 "nbformat_minor": 5
}
