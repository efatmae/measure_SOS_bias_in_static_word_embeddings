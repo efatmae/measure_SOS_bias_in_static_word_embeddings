{
 "cells": [
  {
   "cell_type": "code",
   "execution_count": 1,
   "id": "51b9ba9c",
   "metadata": {},
   "outputs": [],
   "source": [
    "import numpy as np\n",
    "from scipy import stats \n",
    "import pandas as pd"
   ]
  },
  {
   "cell_type": "code",
   "execution_count": 2,
   "id": "e7a90fbe",
   "metadata": {},
   "outputs": [],
   "source": [
    "min_df = pd.read_csv(\"./all_WE_minority_words_sim_to_profane_vector.csv\")\n",
    "maj_df = pd.read_csv(\"./all_WE_majority_words_sim_to_profane_vector.csv\")"
   ]
  },
  {
   "cell_type": "code",
   "execution_count": 3,
   "id": "6f258656",
   "metadata": {},
   "outputs": [
    {
     "data": {
      "text/plain": [
       "Index(['Unnamed: 0', 'ethnicity_word', 'w2v_sim', 'w2v_un_normalized_sim',\n",
       "       'glove_wk_sim', 'glove_wk_un_normalized_sim', 'glove_twitter_sim',\n",
       "       'glove_twitter_un_normalized_sim', 'ud_sim', 'ud_sim_un_normalized',\n",
       "       'chan_sim', 'chan_sim_un_normalized'],\n",
       "      dtype='object')"
      ]
     },
     "execution_count": 3,
     "metadata": {},
     "output_type": "execute_result"
    }
   ],
   "source": [
    "min_df.columns"
   ]
  },
  {
   "cell_type": "code",
   "execution_count": 4,
   "id": "50fc3766",
   "metadata": {},
   "outputs": [
    {
     "data": {
      "text/plain": [
       "Index(['Unnamed: 0', 'ethnicity_word', 'w2v_sim', 'w2v_un_normalized_sim',\n",
       "       'glove_wk_sim', 'glove_wk_un_normalized_sim', 'glove_twitter_sim',\n",
       "       'glove_twitter_un_normalized_sim', 'ud_sim', 'ud_sim_un_normalized',\n",
       "       'chan_sim', 'chan_sim_un_normalized'],\n",
       "      dtype='object')"
      ]
     },
     "execution_count": 4,
     "metadata": {},
     "output_type": "execute_result"
    }
   ],
   "source": [
    "maj_df.columns"
   ]
  },
  {
   "cell_type": "markdown",
   "id": "ce5e6617",
   "metadata": {},
   "source": [
    "## statisctical difference between the different groups: stigmatized, unstigmatized, and neutral words"
   ]
  },
  {
   "cell_type": "code",
   "execution_count": 5,
   "id": "0d16cf0a",
   "metadata": {},
   "outputs": [
    {
     "data": {
      "text/plain": [
       "Index(['Unnamed: 0', 'ethnicity_word', 'w2v_sim', 'w2v_un_normalized_sim',\n",
       "       'glove_wk_sim', 'glove_wk_un_normalized_sim', 'glove_twitter_sim',\n",
       "       'glove_twitter_un_normalized_sim', 'ud_sim', 'ud_sim_un_normalized',\n",
       "       'chan_sim', 'chan_sim_un_normalized'],\n",
       "      dtype='object')"
      ]
     },
     "execution_count": 5,
     "metadata": {},
     "output_type": "execute_result"
    }
   ],
   "source": [
    "min_df.columns"
   ]
  },
  {
   "cell_type": "code",
   "execution_count": 6,
   "id": "b68b5c35",
   "metadata": {},
   "outputs": [
    {
     "data": {
      "text/plain": [
       "Index(['Unnamed: 0', 'ethnicity_word', 'w2v_sim', 'w2v_un_normalized_sim',\n",
       "       'glove_wk_sim', 'glove_wk_un_normalized_sim', 'glove_twitter_sim',\n",
       "       'glove_twitter_un_normalized_sim', 'ud_sim', 'ud_sim_un_normalized',\n",
       "       'chan_sim', 'chan_sim_un_normalized'],\n",
       "      dtype='object')"
      ]
     },
     "execution_count": 6,
     "metadata": {},
     "output_type": "execute_result"
    }
   ],
   "source": [
    "maj_df.columns"
   ]
  },
  {
   "cell_type": "markdown",
   "id": "5d02cbb7",
   "metadata": {},
   "source": [
    "## lgtb"
   ]
  },
  {
   "cell_type": "code",
   "execution_count": 7,
   "id": "3a8a2c9c",
   "metadata": {},
   "outputs": [],
   "source": [
    "lgtb_words = [\"lesbian\",\"gay\",\"bisexual\",\"transgender\",\"tran\",\"queer\",\n",
    "                \"lgbt\",\"lgbtq\",\"homosexual\",\"non-binary\"]"
   ]
  },
  {
   "cell_type": "code",
   "execution_count": 8,
   "id": "241c5e43",
   "metadata": {},
   "outputs": [],
   "source": [
    "lgtbq_w2V_sim = min_df[min_df[\"ethnicity_word\"].isin(lgtb_words)][\"w2v_sim\"]"
   ]
  },
  {
   "cell_type": "code",
   "execution_count": 9,
   "id": "edb33171",
   "metadata": {},
   "outputs": [
    {
     "data": {
      "text/plain": [
       "0.47524394989013674"
      ]
     },
     "execution_count": 9,
     "metadata": {},
     "output_type": "execute_result"
    }
   ],
   "source": [
    "np.mean(lgtbq_w2V_sim)"
   ]
  },
  {
   "cell_type": "code",
   "execution_count": 10,
   "id": "f779a0aa",
   "metadata": {},
   "outputs": [],
   "source": [
    "lgtbq_glove_wk_sim = min_df[min_df[\"ethnicity_word\"].isin(lgtb_words)][\"glove_wk_sim\"]"
   ]
  },
  {
   "cell_type": "code",
   "execution_count": 11,
   "id": "760f04c8",
   "metadata": {},
   "outputs": [
    {
     "data": {
      "text/plain": [
       "0.6697570204734802"
      ]
     },
     "execution_count": 11,
     "metadata": {},
     "output_type": "execute_result"
    }
   ],
   "source": [
    "np.mean(lgtbq_glove_wk_sim)"
   ]
  },
  {
   "cell_type": "code",
   "execution_count": 12,
   "id": "4177adc3",
   "metadata": {},
   "outputs": [],
   "source": [
    "lgtbq_glove_twitter = min_df[min_df[\"ethnicity_word\"].isin(lgtb_words)][\"glove_twitter_sim\"]"
   ]
  },
  {
   "cell_type": "code",
   "execution_count": 13,
   "id": "ca4b17e1",
   "metadata": {},
   "outputs": [],
   "source": [
    "lgtbq_ud = min_df[min_df[\"ethnicity_word\"].isin(lgtb_words)][\"ud_sim\"]"
   ]
  },
  {
   "cell_type": "code",
   "execution_count": 14,
   "id": "ab93702f",
   "metadata": {},
   "outputs": [],
   "source": [
    "lgtbq_chan = min_df[min_df[\"ethnicity_word\"].isin(lgtb_words)][\"chan_sim\"]"
   ]
  },
  {
   "cell_type": "code",
   "execution_count": 15,
   "id": "0af43759",
   "metadata": {},
   "outputs": [
    {
     "data": {
      "text/plain": [
       "0.4541623964905739"
      ]
     },
     "execution_count": 15,
     "metadata": {},
     "output_type": "execute_result"
    }
   ],
   "source": [
    "np.mean(lgtbq_glove_twitter)"
   ]
  },
  {
   "cell_type": "code",
   "execution_count": 16,
   "id": "63ceffff",
   "metadata": {},
   "outputs": [
    {
     "data": {
      "text/plain": [
       "0.5826538145542145"
      ]
     },
     "execution_count": 16,
     "metadata": {},
     "output_type": "execute_result"
    }
   ],
   "source": [
    "np.mean(lgtbq_ud)"
   ]
  },
  {
   "cell_type": "code",
   "execution_count": 17,
   "id": "0c27e114",
   "metadata": {},
   "outputs": [
    {
     "data": {
      "text/plain": [
       "0.6168698728084564"
      ]
     },
     "execution_count": 17,
     "metadata": {},
     "output_type": "execute_result"
    }
   ],
   "source": [
    "np.mean(lgtbq_chan)"
   ]
  },
  {
   "cell_type": "code",
   "execution_count": 18,
   "id": "43352c1c",
   "metadata": {},
   "outputs": [
    {
     "data": {
      "text/plain": [
       "FriedmanchisquareResult(statistic=8.923076923076941, pvalue=0.06305121527603122)"
      ]
     },
     "execution_count": 18,
     "metadata": {},
     "output_type": "execute_result"
    }
   ],
   "source": [
    "stats.friedmanchisquare(lgtbq_w2V_sim, lgtbq_glove_wk_sim, lgtbq_glove_twitter, lgtbq_ud, lgtbq_chan)"
   ]
  },
  {
   "cell_type": "code",
   "execution_count": 19,
   "id": "714e1f94",
   "metadata": {},
   "outputs": [
    {
     "data": {
      "text/plain": [
       "Ttest_indResult(statistic=1.4901900182887093, pvalue=0.1534892431019626)"
      ]
     },
     "execution_count": 19,
     "metadata": {},
     "output_type": "execute_result"
    }
   ],
   "source": [
    "stats.ttest_ind(lgtbq_glove_wk_sim, lgtbq_w2V_sim)"
   ]
  },
  {
   "cell_type": "code",
   "execution_count": 20,
   "id": "36a9b56c",
   "metadata": {},
   "outputs": [
    {
     "data": {
      "text/plain": [
       "Ttest_indResult(statistic=1.5730177541789396, pvalue=0.13312688325444108)"
      ]
     },
     "execution_count": 20,
     "metadata": {},
     "output_type": "execute_result"
    }
   ],
   "source": [
    "stats.ttest_ind(lgtbq_glove_wk_sim, lgtbq_glove_twitter)"
   ]
  },
  {
   "cell_type": "code",
   "execution_count": 21,
   "id": "df78119f",
   "metadata": {},
   "outputs": [
    {
     "data": {
      "text/plain": [
       "Ttest_indResult(statistic=0.6317319031487573, pvalue=0.5355036371135036)"
      ]
     },
     "execution_count": 21,
     "metadata": {},
     "output_type": "execute_result"
    }
   ],
   "source": [
    "stats.ttest_ind(lgtbq_glove_wk_sim, lgtbq_ud)"
   ]
  },
  {
   "cell_type": "code",
   "execution_count": 22,
   "id": "016b0d77",
   "metadata": {},
   "outputs": [
    {
     "data": {
      "text/plain": [
       "Ttest_indResult(statistic=0.46331925095138937, pvalue=0.6486885601610994)"
      ]
     },
     "execution_count": 22,
     "metadata": {},
     "output_type": "execute_result"
    }
   ],
   "source": [
    "stats.ttest_ind(lgtbq_glove_wk_sim, lgtbq_chan)"
   ]
  },
  {
   "cell_type": "markdown",
   "id": "d67994e0",
   "metadata": {},
   "source": [
    "## women"
   ]
  },
  {
   "cell_type": "code",
   "execution_count": 23,
   "id": "bbde92c4",
   "metadata": {},
   "outputs": [],
   "source": [
    "women_words = [\"woman\", \"female\", \"girl\",\"wife\",\"sister\",\"daughter\",\"mother\"]"
   ]
  },
  {
   "cell_type": "code",
   "execution_count": 24,
   "id": "c75d3405",
   "metadata": {},
   "outputs": [],
   "source": [
    "women_w2v = min_df[min_df[\"ethnicity_word\"].isin(women_words)][\"w2v_sim\"]\n",
    "women_glove_wk = min_df[min_df[\"ethnicity_word\"].isin(women_words)][\"glove_wk_sim\"]\n",
    "women_glove_twitter = min_df[min_df[\"ethnicity_word\"].isin(women_words)][\"glove_twitter_sim\"]\n",
    "women_ud = min_df[min_df[\"ethnicity_word\"].isin(women_words)][\"ud_sim\"]\n",
    "women_chan = min_df[min_df[\"ethnicity_word\"].isin(women_words)][\"chan_sim\"]"
   ]
  },
  {
   "cell_type": "code",
   "execution_count": 25,
   "id": "d4a65d84",
   "metadata": {},
   "outputs": [
    {
     "data": {
      "text/plain": [
       "0.2930957744164126"
      ]
     },
     "execution_count": 25,
     "metadata": {},
     "output_type": "execute_result"
    }
   ],
   "source": [
    "np.mean(women_w2v)"
   ]
  },
  {
   "cell_type": "code",
   "execution_count": 26,
   "id": "b1e340fb",
   "metadata": {},
   "outputs": [
    {
     "data": {
      "text/plain": [
       "0.43522922694683075"
      ]
     },
     "execution_count": 26,
     "metadata": {},
     "output_type": "execute_result"
    }
   ],
   "source": [
    "np.mean(women_glove_wk)"
   ]
  },
  {
   "cell_type": "code",
   "execution_count": 27,
   "id": "4305a3f6",
   "metadata": {},
   "outputs": [
    {
     "data": {
      "text/plain": [
       "0.6797592469624111"
      ]
     },
     "execution_count": 27,
     "metadata": {},
     "output_type": "execute_result"
    }
   ],
   "source": [
    "np.mean(women_glove_twitter)"
   ]
  },
  {
   "cell_type": "code",
   "execution_count": 28,
   "id": "c93d12d6",
   "metadata": {},
   "outputs": [
    {
     "data": {
      "text/plain": [
       "0.5098577120474407"
      ]
     },
     "execution_count": 28,
     "metadata": {},
     "output_type": "execute_result"
    }
   ],
   "source": [
    "np.mean(women_ud)"
   ]
  },
  {
   "cell_type": "code",
   "execution_count": 29,
   "id": "c18cd971",
   "metadata": {},
   "outputs": [
    {
     "data": {
      "text/plain": [
       "0.8805983407156808"
      ]
     },
     "execution_count": 29,
     "metadata": {},
     "output_type": "execute_result"
    }
   ],
   "source": [
    "np.mean(women_chan)"
   ]
  },
  {
   "cell_type": "code",
   "execution_count": 30,
   "id": "cd6d424f",
   "metadata": {},
   "outputs": [
    {
     "data": {
      "text/plain": [
       "FriedmanchisquareResult(statistic=21.714285714285722, pvalue=0.00022844561187252284)"
      ]
     },
     "execution_count": 30,
     "metadata": {},
     "output_type": "execute_result"
    }
   ],
   "source": [
    "stats.friedmanchisquare(women_w2v, women_glove_wk, women_glove_twitter, women_ud, women_chan)"
   ]
  },
  {
   "cell_type": "code",
   "execution_count": 31,
   "id": "96eba39b",
   "metadata": {},
   "outputs": [
    {
     "data": {
      "text/plain": [
       "Ttest_indResult(statistic=4.510438900191359, pvalue=0.0007135705104935905)"
      ]
     },
     "execution_count": 31,
     "metadata": {},
     "output_type": "execute_result"
    }
   ],
   "source": [
    "stats.ttest_ind(women_glove_twitter, women_w2v)"
   ]
  },
  {
   "cell_type": "code",
   "execution_count": 32,
   "id": "7f99c7da",
   "metadata": {},
   "outputs": [
    {
     "data": {
      "text/plain": [
       "Ttest_indResult(statistic=3.0230040367067716, pvalue=0.010603555794867698)"
      ]
     },
     "execution_count": 32,
     "metadata": {},
     "output_type": "execute_result"
    }
   ],
   "source": [
    "stats.ttest_ind(women_glove_twitter, women_glove_wk)"
   ]
  },
  {
   "cell_type": "code",
   "execution_count": 33,
   "id": "afe1ba5c",
   "metadata": {},
   "outputs": [
    {
     "data": {
      "text/plain": [
       "Ttest_indResult(statistic=1.4628533034115534, pvalue=0.16920124199006217)"
      ]
     },
     "execution_count": 33,
     "metadata": {},
     "output_type": "execute_result"
    }
   ],
   "source": [
    "stats.ttest_ind(women_glove_twitter, women_ud)"
   ]
  },
  {
   "cell_type": "code",
   "execution_count": 34,
   "id": "ad2cbf88",
   "metadata": {},
   "outputs": [
    {
     "data": {
      "text/plain": [
       "Ttest_indResult(statistic=-3.579558656659695, pvalue=0.0037853369559543563)"
      ]
     },
     "execution_count": 34,
     "metadata": {},
     "output_type": "execute_result"
    }
   ],
   "source": [
    "stats.ttest_ind(women_glove_twitter, women_chan)"
   ]
  },
  {
   "cell_type": "markdown",
   "id": "1f3164f3",
   "metadata": {},
   "source": [
    "## ethnicities"
   ]
  },
  {
   "cell_type": "code",
   "execution_count": 35,
   "id": "726f3aa6",
   "metadata": {},
   "outputs": [],
   "source": [
    "eth_words = [\"african\", \"african american\", \"asian\", \"black\", \"hispanic\", \"latin\", \"mexican\", \"indian\", \"middle eastern\",\n",
    "                \"arab\"]"
   ]
  },
  {
   "cell_type": "code",
   "execution_count": 36,
   "id": "cad46be9",
   "metadata": {},
   "outputs": [],
   "source": [
    "eth_w2v = min_df[min_df[\"ethnicity_word\"].isin(eth_words)][\"w2v_sim\"]\n",
    "eth_glove_wk = min_df[min_df[\"ethnicity_word\"].isin(eth_words)][\"glove_wk_sim\"]\n",
    "eth_glove_twitter = min_df[min_df[\"ethnicity_word\"].isin(eth_words)][\"glove_twitter_sim\"]\n",
    "eth_ud = min_df[min_df[\"ethnicity_word\"].isin(eth_words)][\"ud_sim\"]\n",
    "eth_chan = min_df[min_df[\"ethnicity_word\"].isin(eth_words)][\"chan_sim\"]"
   ]
  },
  {
   "cell_type": "code",
   "execution_count": 37,
   "id": "9002220f",
   "metadata": {},
   "outputs": [
    {
     "data": {
      "text/plain": [
       "0.4566112980246544"
      ]
     },
     "execution_count": 37,
     "metadata": {},
     "output_type": "execute_result"
    }
   ],
   "source": [
    "np.mean(eth_w2v)"
   ]
  },
  {
   "cell_type": "code",
   "execution_count": 38,
   "id": "4d14c649",
   "metadata": {},
   "outputs": [
    {
     "data": {
      "text/plain": [
       "0.23444164730608463"
      ]
     },
     "execution_count": 38,
     "metadata": {},
     "output_type": "execute_result"
    }
   ],
   "source": [
    "np.mean(eth_glove_wk)"
   ]
  },
  {
   "cell_type": "code",
   "execution_count": 39,
   "id": "825597cf",
   "metadata": {},
   "outputs": [
    {
     "data": {
      "text/plain": [
       "0.46442922949790955"
      ]
     },
     "execution_count": 39,
     "metadata": {},
     "output_type": "execute_result"
    }
   ],
   "source": [
    "np.mean(eth_glove_twitter)"
   ]
  },
  {
   "cell_type": "code",
   "execution_count": 40,
   "id": "7b1ed02a",
   "metadata": {},
   "outputs": [
    {
     "data": {
      "text/plain": [
       "0.28289772290736437"
      ]
     },
     "execution_count": 40,
     "metadata": {},
     "output_type": "execute_result"
    }
   ],
   "source": [
    "np.mean(eth_ud)"
   ]
  },
  {
   "cell_type": "code",
   "execution_count": 41,
   "id": "cfacde7b",
   "metadata": {},
   "outputs": [
    {
     "data": {
      "text/plain": [
       "0.32623607106506824"
      ]
     },
     "execution_count": 41,
     "metadata": {},
     "output_type": "execute_result"
    }
   ],
   "source": [
    "np.mean(eth_chan)"
   ]
  },
  {
   "cell_type": "code",
   "execution_count": 42,
   "id": "7a9b7f6f",
   "metadata": {},
   "outputs": [
    {
     "data": {
      "text/plain": [
       "FriedmanchisquareResult(statistic=17.700000000000017, pvalue=0.0014123101023214768)"
      ]
     },
     "execution_count": 42,
     "metadata": {},
     "output_type": "execute_result"
    }
   ],
   "source": [
    "stats.friedmanchisquare(eth_w2v, eth_glove_wk, eth_glove_twitter, eth_ud, eth_chan)"
   ]
  },
  {
   "cell_type": "code",
   "execution_count": 43,
   "id": "f845cee6",
   "metadata": {},
   "outputs": [
    {
     "data": {
      "text/plain": [
       "Ttest_indResult(statistic=4.308446662863112, pvalue=0.0007216565772476921)"
      ]
     },
     "execution_count": 43,
     "metadata": {},
     "output_type": "execute_result"
    }
   ],
   "source": [
    "stats.ttest_ind(eth_w2v, eth_glove_wk)"
   ]
  },
  {
   "cell_type": "code",
   "execution_count": 44,
   "id": "00bbcba8",
   "metadata": {},
   "outputs": [
    {
     "data": {
      "text/plain": [
       "Ttest_indResult(statistic=-0.10844344084488268, pvalue=0.9151828598563884)"
      ]
     },
     "execution_count": 44,
     "metadata": {},
     "output_type": "execute_result"
    }
   ],
   "source": [
    "stats.ttest_ind(eth_w2v, eth_glove_twitter)"
   ]
  },
  {
   "cell_type": "code",
   "execution_count": 45,
   "id": "300360ea",
   "metadata": {},
   "outputs": [
    {
     "data": {
      "text/plain": [
       "Ttest_indResult(statistic=2.4304769666245636, pvalue=0.029116262540823307)"
      ]
     },
     "execution_count": 45,
     "metadata": {},
     "output_type": "execute_result"
    }
   ],
   "source": [
    "stats.ttest_ind(eth_w2v, eth_ud)"
   ]
  },
  {
   "cell_type": "code",
   "execution_count": 46,
   "id": "30995346",
   "metadata": {},
   "outputs": [
    {
     "data": {
      "text/plain": [
       "Ttest_indResult(statistic=1.9759086463526123, pvalue=0.0682134348220248)"
      ]
     },
     "execution_count": 46,
     "metadata": {},
     "output_type": "execute_result"
    }
   ],
   "source": [
    "stats.ttest_ind(eth_w2v, eth_chan)"
   ]
  },
  {
   "cell_type": "markdown",
   "id": "9870ebd5",
   "metadata": {},
   "source": [
    "## hate crime stats (department of justice US)"
   ]
  },
  {
   "cell_type": "code",
   "execution_count": 47,
   "id": "cadacbbd",
   "metadata": {},
   "outputs": [],
   "source": [
    "crime_rate = [61.9, 15.4,0.7]"
   ]
  },
  {
   "cell_type": "code",
   "execution_count": 48,
   "id": "cfae9146",
   "metadata": {},
   "outputs": [
    {
     "data": {
      "text/plain": [
       "(0.615208257675598, 0.5781438419920777)"
      ]
     },
     "execution_count": 48,
     "metadata": {},
     "output_type": "execute_result"
    }
   ],
   "source": [
    "stats.pearsonr([np.mean(eth_w2v), np.mean(lgtbq_w2V_sim), np.mean(women_w2v)], crime_rate)"
   ]
  },
  {
   "cell_type": "code",
   "execution_count": 49,
   "id": "301dfda5",
   "metadata": {},
   "outputs": [
    {
     "data": {
      "text/plain": [
       "(-0.6963739043818175, 0.5095911001409188)"
      ]
     },
     "execution_count": 49,
     "metadata": {},
     "output_type": "execute_result"
    }
   ],
   "source": [
    "stats.pearsonr([np.mean(eth_glove_wk), np.mean(lgtbq_glove_wk_sim), np.mean(women_glove_wk)], crime_rate)"
   ]
  },
  {
   "cell_type": "code",
   "execution_count": 50,
   "id": "9f4f241e",
   "metadata": {},
   "outputs": [
    {
     "data": {
      "text/plain": [
       "(-0.6559468039732338, 0.5445391034366202)"
      ]
     },
     "execution_count": 50,
     "metadata": {},
     "output_type": "execute_result"
    }
   ],
   "source": [
    "stats.pearsonr([np.mean(eth_glove_twitter), np.mean(lgtbq_glove_twitter), np.mean(women_glove_twitter)], crime_rate)"
   ]
  },
  {
   "cell_type": "code",
   "execution_count": 51,
   "id": "913acb86",
   "metadata": {},
   "outputs": [
    {
     "data": {
      "text/plain": [
       "(-0.8928748387067456, 0.2973694342733272)"
      ]
     },
     "execution_count": 51,
     "metadata": {},
     "output_type": "execute_result"
    }
   ],
   "source": [
    "stats.pearsonr([np.mean(eth_ud), np.mean(lgtbq_ud), np.mean(women_ud)], crime_rate)"
   ]
  },
  {
   "cell_type": "code",
   "execution_count": 52,
   "id": "49b8cfdd",
   "metadata": {},
   "outputs": [
    {
     "data": {
      "text/plain": [
       "(-0.965500119477065, 0.16771058812243472)"
      ]
     },
     "execution_count": 52,
     "metadata": {},
     "output_type": "execute_result"
    }
   ],
   "source": [
    "stats.pearsonr([np.mean(eth_chan), np.mean(lgtbq_chan), np.mean(women_chan)], crime_rate )"
   ]
  },
  {
   "cell_type": "markdown",
   "id": "fc9e293d",
   "metadata": {},
   "source": [
    "## Online Extremism and Online Hate"
   ]
  },
  {
   "cell_type": "code",
   "execution_count": 53,
   "id": "47371ffa",
   "metadata": {},
   "outputs": [],
   "source": [
    "hate_finland = [0.67, 0.63, 0.25]\n",
    "hate_us = [0.60, 0.61, 0.44]\n",
    "germany = [0.48, 0.50, 0.20]\n",
    "uk = [0.57, 0.55, 0.44]"
   ]
  },
  {
   "cell_type": "code",
   "execution_count": 54,
   "id": "9269bf9f",
   "metadata": {},
   "outputs": [
    {
     "data": {
      "text/plain": [
       "(0.4566112980246544, 0.47524394989013674, 0.2930957744164126)"
      ]
     },
     "execution_count": 54,
     "metadata": {},
     "output_type": "execute_result"
    }
   ],
   "source": [
    "np.mean(eth_w2v), np.mean(lgtbq_w2V_sim), np.mean(women_w2v)"
   ]
  },
  {
   "cell_type": "code",
   "execution_count": 55,
   "id": "37ce67cf",
   "metadata": {},
   "outputs": [
    {
     "data": {
      "text/plain": [
       "(0.23444164730608463, 0.6697570204734802, 0.43522922694683075)"
      ]
     },
     "execution_count": 55,
     "metadata": {},
     "output_type": "execute_result"
    }
   ],
   "source": [
    "np.mean(eth_glove_wk), np.mean(lgtbq_glove_wk_sim), np.mean(women_glove_wk)"
   ]
  },
  {
   "cell_type": "code",
   "execution_count": 56,
   "id": "70c918d2",
   "metadata": {},
   "outputs": [
    {
     "name": "stdout",
     "output_type": "stream",
     "text": [
      "w2v_finland (0.9839363738772768, 0.11426151978503771)\n",
      "glove_wk_finland (-0.041655794429898564, 0.9734734223479585)\n",
      "glove_twitter (-0.9919848708829807, 0.0806567812295802)\n",
      "ud_finland (-0.3662956650672303, 0.7612517564803668)\n",
      "chan_finland (-0.893720436101551, 0.2961717340846053)\n"
     ]
    }
   ],
   "source": [
    "print(\"w2v_finland\",stats.pearsonr([np.mean(eth_w2v), np.mean(lgtbq_w2V_sim), np.mean(women_w2v)], hate_finland))\n",
    "print(\"glove_wk_finland\",stats.pearsonr([np.mean(eth_glove_wk), np.mean(lgtbq_glove_wk_sim), np.mean(women_glove_wk)], hate_finland))\n",
    "print(\"glove_twitter\",stats.pearsonr([np.mean(eth_glove_twitter), np.mean(lgtbq_glove_twitter), np.mean(women_glove_twitter)], hate_finland))\n",
    "print(\"ud_finland\",stats.pearsonr([np.mean(eth_ud), np.mean(lgtbq_ud), np.mean(women_ud)], hate_finland))\n",
    "print(\"chan_finland\",stats.pearsonr([np.mean(eth_chan), np.mean(lgtbq_chan), np.mean(women_chan)], hate_finland))"
   ]
  },
  {
   "cell_type": "code",
   "execution_count": 57,
   "id": "4faae4de",
   "metadata": {},
   "outputs": [
    {
     "name": "stdout",
     "output_type": "stream",
     "text": [
      "w2v_us (0.999173646400913, 0.025882605537591724)\n",
      "glove_wk_us (0.09700464128892401, 0.9381476634045975)\n",
      "glove_us (-0.9999264336870959, 0.007722133017859083)\n",
      "ud_us (-0.2340094362600007, 0.8496306707278111)\n",
      "chan_us (-0.8230416267316496, 0.38455064833204966)\n"
     ]
    }
   ],
   "source": [
    "print(\"w2v_us\",stats.pearsonr([np.mean(eth_w2v), np.mean(lgtbq_w2V_sim), np.mean(women_w2v)], hate_us))\n",
    "print(\"glove_wk_us\",stats.pearsonr([np.mean(eth_glove_wk), np.mean(lgtbq_glove_wk_sim), np.mean(women_glove_wk)], hate_us))\n",
    "print(\"glove_us\",stats.pearsonr([np.mean(eth_glove_twitter), np.mean(lgtbq_glove_twitter), np.mean(women_glove_twitter)], hate_us))\n",
    "print(\"ud_us\",stats.pearsonr([np.mean(eth_ud), np.mean(lgtbq_ud), np.mean(women_ud)], hate_us))\n",
    "print(\"chan_us\",stats.pearsonr([np.mean(eth_chan), np.mean(lgtbq_chan), np.mean(women_chan)], hate_us))"
   ]
  },
  {
   "cell_type": "code",
   "execution_count": 58,
   "id": "95976047",
   "metadata": {},
   "outputs": [
    {
     "name": "stdout",
     "output_type": "stream",
     "text": [
      "w2v_germany (0.9994409503908696, 0.02128827783727023)\n",
      "glove_wk_germany (0.10418477123414956, 0.9335533357042751)\n",
      "glove_germany (-0.9998128593798307, 0.01231646071818542)\n",
      "ud_germany (-0.2269870283469255, 0.8542249984281334)\n",
      "chan_germany (-0.8189212507359884, 0.38914497603237214)\n"
     ]
    }
   ],
   "source": [
    "print(\"w2v_germany\",stats.pearsonr([np.mean(eth_w2v), np.mean(lgtbq_w2V_sim), np.mean(women_w2v)], germany))\n",
    "print(\"glove_wk_germany\",stats.pearsonr([np.mean(eth_glove_wk), np.mean(lgtbq_glove_wk_sim), np.mean(women_glove_wk)], germany))\n",
    "print(\"glove_germany\",stats.pearsonr([np.mean(eth_glove_twitter), np.mean(lgtbq_glove_twitter), np.mean(women_glove_twitter)], germany))\n",
    "print(\"ud_germany\",stats.pearsonr([np.mean(eth_ud), np.mean(lgtbq_ud), np.mean(women_ud)], germany))\n",
    "print(\"chan_germany\",stats.pearsonr([np.mean(eth_chan), np.mean(lgtbq_chan), np.mean(women_chan)], germany))"
   ]
  },
  {
   "cell_type": "code",
   "execution_count": 59,
   "id": "f1caf91e",
   "metadata": {},
   "outputs": [
    {
     "name": "stdout",
     "output_type": "stream",
     "text": [
      "w2v_uk (0.9721775376453489, 0.15052374221116277)\n",
      "glove_wk_uk (-0.09846859190035492, 0.9372111999218335)\n",
      "glove_uk (-0.9831825976285932, 0.1169190036557049)\n",
      "ud_uk (-0.4186746672358024, 0.7249895340542419)\n",
      "chan_uk (-0.9178110665194152, 0.2599095116584807)\n"
     ]
    }
   ],
   "source": [
    "print(\"w2v_uk\",stats.pearsonr([np.mean(eth_w2v), np.mean(lgtbq_w2V_sim), np.mean(women_w2v)], uk))\n",
    "print(\"glove_wk_uk\",stats.pearsonr([np.mean(eth_glove_wk), np.mean(lgtbq_glove_wk_sim), np.mean(women_glove_wk)], uk))\n",
    "print(\"glove_uk\",stats.pearsonr([np.mean(eth_glove_twitter), np.mean(lgtbq_glove_twitter), np.mean(women_glove_twitter)], uk))\n",
    "print(\"ud_uk\",stats.pearsonr([np.mean(eth_ud), np.mean(lgtbq_ud), np.mean(women_ud)], uk))\n",
    "print(\"chan_uk\",stats.pearsonr([np.mean(eth_chan), np.mean(lgtbq_chan), np.mean(women_chan)], uk))"
   ]
  },
  {
   "cell_type": "code",
   "execution_count": 60,
   "id": "87596eaa",
   "metadata": {},
   "outputs": [],
   "source": [
    "## difference between majoirty and minority added (online harassment) (https://www.womensmediacenter.com/speech-project/research-statistics)"
   ]
  },
  {
   "cell_type": "code",
   "execution_count": 61,
   "id": "aca716fe",
   "metadata": {},
   "outputs": [],
   "source": [
    "bullying_diff = [0.23,0.25,0.31]"
   ]
  },
  {
   "cell_type": "code",
   "execution_count": 62,
   "id": "1ed582d2",
   "metadata": {},
   "outputs": [
    {
     "name": "stdout",
     "output_type": "stream",
     "text": [
      "w2v_uk (-0.9441936279969445, 0.21368680383644964)\n",
      "glove_wk_uk (0.1965565547874371, 0.8740481382965467)\n",
      "glove_uk (0.9602577135569315, 0.18008206528099208)\n",
      "ud_uk (0.5065698413107314, 0.6618264724289549)\n",
      "chan_uk (0.9526233713097464, 0.1967464500331934)\n"
     ]
    }
   ],
   "source": [
    "print(\"w2v_uk\",stats.pearsonr([np.mean(eth_w2v), np.mean(lgtbq_w2V_sim), np.mean(women_w2v)], bullying_diff))\n",
    "print(\"glove_wk_uk\",stats.pearsonr([np.mean(eth_glove_wk), np.mean(lgtbq_glove_wk_sim), np.mean(women_glove_wk)], bullying_diff))\n",
    "print(\"glove_uk\",stats.pearsonr([np.mean(eth_glove_twitter), np.mean(lgtbq_glove_twitter), np.mean(women_glove_twitter)], bullying_diff))\n",
    "print(\"ud_uk\",stats.pearsonr([np.mean(eth_ud), np.mean(lgtbq_ud), np.mean(women_ud)], bullying_diff))\n",
    "print(\"chan_uk\",stats.pearsonr([np.mean(eth_chan), np.mean(lgtbq_chan), np.mean(women_chan)], bullying_diff))"
   ]
  },
  {
   "cell_type": "code",
   "execution_count": 63,
   "id": "977f23dc",
   "metadata": {},
   "outputs": [],
   "source": [
    "## https://enough.org/stats_cyberbullying"
   ]
  },
  {
   "cell_type": "code",
   "execution_count": 64,
   "id": "ce947d90",
   "metadata": {},
   "outputs": [],
   "source": [
    "bullying = [0.17,0.15,0.2]"
   ]
  },
  {
   "cell_type": "code",
   "execution_count": 65,
   "id": "f3593b27",
   "metadata": {},
   "outputs": [
    {
     "name": "stdout",
     "output_type": "stream",
     "text": [
      "w2v_uk (-0.9506279206945965, 0.20088109276782287)\n",
      "glove_wk_uk (-0.437985885168702, 0.7113839650991811)\n",
      "glove_uk (0.9329301293329073, 0.23448583132328032)\n",
      "ud_uk (-0.11971220159536766, 0.9236056309667728)\n",
      "chan_uk (0.5733148997031765, 0.6113143466374662)\n"
     ]
    }
   ],
   "source": [
    "print(\"w2v_uk\",stats.pearsonr([np.mean(eth_w2v), np.mean(lgtbq_w2V_sim), np.mean(women_w2v)], bullying))\n",
    "print(\"glove_wk_uk\",stats.pearsonr([np.mean(eth_glove_wk), np.mean(lgtbq_glove_wk_sim), np.mean(women_glove_wk)], bullying))\n",
    "print(\"glove_uk\",stats.pearsonr([np.mean(eth_glove_twitter), np.mean(lgtbq_glove_twitter), np.mean(women_glove_twitter)], bullying))\n",
    "print(\"ud_uk\",stats.pearsonr([np.mean(eth_ud), np.mean(lgtbq_ud), np.mean(women_ud)], bullying))\n",
    "print(\"chan_uk\",stats.pearsonr([np.mean(eth_chan), np.mean(lgtbq_chan), np.mean(women_chan)], bullying))"
   ]
  },
  {
   "cell_type": "markdown",
   "id": "f1c6d39a",
   "metadata": {},
   "source": [
    "### "
   ]
  }
 ],
 "metadata": {
  "kernelspec": {
   "display_name": "Python 3",
   "language": "python",
   "name": "python3"
  },
  "language_info": {
   "codemirror_mode": {
    "name": "ipython",
    "version": 3
   },
   "file_extension": ".py",
   "mimetype": "text/x-python",
   "name": "python",
   "nbconvert_exporter": "python",
   "pygments_lexer": "ipython3",
   "version": "3.8.10"
  }
 },
 "nbformat": 4,
 "nbformat_minor": 5
}
