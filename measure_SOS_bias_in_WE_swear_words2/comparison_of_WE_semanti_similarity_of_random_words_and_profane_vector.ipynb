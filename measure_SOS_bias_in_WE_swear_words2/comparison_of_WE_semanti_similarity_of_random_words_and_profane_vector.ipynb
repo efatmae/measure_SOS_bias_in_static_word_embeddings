{
 "cells": [
  {
   "cell_type": "code",
   "execution_count": 1,
   "id": "2a29bea0",
   "metadata": {},
   "outputs": [
    {
     "name": "stderr",
     "output_type": "stream",
     "text": [
      "In /home/fatma/.local/lib/python3.6/site-packages/matplotlib/mpl-data/stylelib/_classic_test.mplstyle: \n",
      "The text.latex.preview rcparam was deprecated in Matplotlib 3.3 and will be removed two minor releases later.\n",
      "In /home/fatma/.local/lib/python3.6/site-packages/matplotlib/mpl-data/stylelib/_classic_test.mplstyle: \n",
      "The mathtext.fallback_to_cm rcparam was deprecated in Matplotlib 3.3 and will be removed two minor releases later.\n",
      "In /home/fatma/.local/lib/python3.6/site-packages/matplotlib/mpl-data/stylelib/_classic_test.mplstyle: Support for setting the 'mathtext.fallback_to_cm' rcParam is deprecated since 3.3 and will be removed two minor releases later; use 'mathtext.fallback : 'cm' instead.\n",
      "In /home/fatma/.local/lib/python3.6/site-packages/matplotlib/mpl-data/stylelib/_classic_test.mplstyle: \n",
      "The validate_bool_maybe_none function was deprecated in Matplotlib 3.3 and will be removed two minor releases later.\n",
      "In /home/fatma/.local/lib/python3.6/site-packages/matplotlib/mpl-data/stylelib/_classic_test.mplstyle: \n",
      "The savefig.jpeg_quality rcparam was deprecated in Matplotlib 3.3 and will be removed two minor releases later.\n",
      "In /home/fatma/.local/lib/python3.6/site-packages/matplotlib/mpl-data/stylelib/_classic_test.mplstyle: \n",
      "The keymap.all_axes rcparam was deprecated in Matplotlib 3.3 and will be removed two minor releases later.\n",
      "In /home/fatma/.local/lib/python3.6/site-packages/matplotlib/mpl-data/stylelib/_classic_test.mplstyle: \n",
      "The animation.avconv_path rcparam was deprecated in Matplotlib 3.3 and will be removed two minor releases later.\n",
      "In /home/fatma/.local/lib/python3.6/site-packages/matplotlib/mpl-data/stylelib/_classic_test.mplstyle: \n",
      "The animation.avconv_args rcparam was deprecated in Matplotlib 3.3 and will be removed two minor releases later.\n"
     ]
    }
   ],
   "source": [
    "import pandas as pd\n",
    "import matplotlib.pyplot as plt\n",
    "from matplotlib.pyplot import figure\n",
    "import numpy as np"
   ]
  },
  {
   "cell_type": "code",
   "execution_count": 2,
   "id": "a5a73269",
   "metadata": {},
   "outputs": [],
   "source": [
    "w2v_sim_Scores_ethnicity_words_and_profane_words = pd.read_csv(\"Results/ethnicity_similarities/word2vec/random_words_sim_to_profane_vector.csv\")\n",
    "glove_wk_sim_Scores_ethnicity_words_and_profane_words = pd.read_csv(\"Results/ethnicity_similarities/glove-wk/random_words_sim_to_profane_vector.csv\")\n",
    "glove_twitter_sim_Scores_ethnicity_words_and_profane_words = pd.read_csv(\"Results/ethnicity_similarities/glove_twitter/random_words_sim_to_profane_vector.csv\")\n",
    "ud_sim_Scores_ethnicity_words_and_profane_words = pd.read_csv(\"Results/ethnicity_similarities/UD/random_words_sim_to_profane_vector.csv\")\n",
    "chan_sim_Scores_ethnicity_words_and_profane_words = pd.read_csv(\"Results/ethnicity_similarities/chan/random_words_sim_to_profane_vector.csv\")"
   ]
  },
  {
   "cell_type": "code",
   "execution_count": 3,
   "id": "8fbf5db6",
   "metadata": {},
   "outputs": [],
   "source": [
    "def gini(array):\n",
    "    \"\"\"Calculate the Gini coefficient of a numpy array.\"\"\"\n",
    "    # based on bottom eq:\n",
    "    # http://www.statsdirect.com/help/generatedimages/equations/equation154.svg\n",
    "    # from:\n",
    "    # http://www.statsdirect.com/help/default.htm#nonparametric_methods/gini.htm\n",
    "    # All values are treated equally, arrays must be 1d:\n",
    "    #print(array.shape)\n",
    "    array = array.flatten()\n",
    "    #print(array.shape)\n",
    "    if np.amin(array) < 0:\n",
    "        # Values cannot be negative:\n",
    "        array -= np.amin(array)\n",
    "    # Values cannot be 0:\n",
    "    array += 0.0000001\n",
    "    # Values must be sorted:\n",
    "    array = np.sort(array)\n",
    "    # Index per array element:\n",
    "    index = np.arange(1,array.shape[0]+1)\n",
    "    # Number of array elements:\n",
    "    n = array.shape[0]\n",
    "    # Gini coefficient:\n",
    "    return ((np.sum((2 * index - n  - 1) * array)) / (n * np.sum(array)))\n"
   ]
  },
  {
   "cell_type": "code",
   "execution_count": 4,
   "id": "39c05331",
   "metadata": {},
   "outputs": [],
   "source": [
    "def get_sim_scores(word_list, sim_df):\n",
    "    w2v_sim = []\n",
    "    for i in word_list:\n",
    "        if i in sim_df[\"words\"].values:\n",
    "            w2v_sim.append(sim_df[sim_df[\"words\"] == i][\"sim_score\"].values[0])\n",
    "        else:\n",
    "            w2v_sim.append(0)\n",
    "    return w2v_sim"
   ]
  },
  {
   "cell_type": "code",
   "execution_count": 22,
   "id": "69b96413",
   "metadata": {},
   "outputs": [
    {
     "data": {
      "text/plain": [
       "Index(['Unnamed: 0', 'words', 'sim_score'], dtype='object')"
      ]
     },
     "execution_count": 22,
     "metadata": {},
     "output_type": "execute_result"
    }
   ],
   "source": [
    "w2v_sim_Scores_ethnicity_words_and_profane_words.columns"
   ]
  },
  {
   "cell_type": "code",
   "execution_count": 23,
   "id": "89d4f264",
   "metadata": {},
   "outputs": [],
   "source": [
    "data_folder = \"../../Data/\""
   ]
  },
  {
   "cell_type": "code",
   "execution_count": 20,
   "id": "06d290ec",
   "metadata": {},
   "outputs": [],
   "source": [
    "random_words = ['and', 'but', 'as', 'until', 'while', 'of', 'at', 'by', 'for', 'with', 'about', 'against', 'between', 'into', 'through', 'during', 'before', 'after',\n",
    "               \"time\", \"year\", \"people\", \"day\", \"child\", \"work\", \"life\", \"thing\", \"world\", \"way\", \"back\"]"
   ]
  },
  {
   "cell_type": "code",
   "execution_count": 24,
   "id": "bdc0eaaf",
   "metadata": {},
   "outputs": [],
   "source": [
    "all_data_dict = {}\n",
    "words = random_words\n",
    "w2v_sim = get_sim_scores(random_words, w2v_sim_Scores_ethnicity_words_and_profane_words)\n",
    "glove_wk_sim_scores = get_sim_scores(random_words, glove_wk_sim_Scores_ethnicity_words_and_profane_words)\n",
    "glove_twitter_sim_Scores = get_sim_scores(random_words, glove_twitter_sim_Scores_ethnicity_words_and_profane_words)\n",
    "ud_sim_scores = get_sim_scores(random_words, ud_sim_Scores_ethnicity_words_and_profane_words)\n",
    "chan_sim_scores = get_sim_scores(random_words, chan_sim_Scores_ethnicity_words_and_profane_words)"
   ]
  },
  {
   "cell_type": "code",
   "execution_count": 25,
   "id": "6647e508",
   "metadata": {},
   "outputs": [],
   "source": [
    "all_data_dict[\"ethnicity_word\"] = words\n",
    "all_data_dict[\"w2v_sim\"] = w2v_sim\n",
    "all_data_dict[\"glove_wk_sim\"] = glove_wk_sim_scores\n",
    "all_data_dict[\"glove_twitter_sim\"] = glove_twitter_sim_Scores\n",
    "all_data_dict[\"ud_sim\"] = ud_sim_scores\n",
    "all_data_dict[\"chan_sim\"] = chan_sim_scores"
   ]
  },
  {
   "cell_type": "code",
   "execution_count": 26,
   "id": "c4a00774",
   "metadata": {},
   "outputs": [
    {
     "data": {
      "text/plain": [
       "(array([5., 7., 4., 4., 2., 6., 0., 0., 0., 1.]),\n",
       " array([0. , 0.1, 0.2, 0.3, 0.4, 0.5, 0.6, 0.7, 0.8, 0.9, 1. ]),\n",
       " <BarContainer object of 10 artists>)"
      ]
     },
     "execution_count": 26,
     "metadata": {},
     "output_type": "execute_result"
    },
    {
     "data": {
      "image/png": "[encoded data removed]",
      "text/plain": [
       "<Figure size 432x288 with 1 Axes>"
      ]
     },
     "metadata": {
      "needs_background": "light"
     },
     "output_type": "display_data"
    }
   ],
   "source": [
    "plt.hist(all_data_dict[\"w2v_sim\"])"
   ]
  },
  {
   "cell_type": "code",
   "execution_count": 27,
   "id": "8f42b95e",
   "metadata": {},
   "outputs": [],
   "source": [
    "all_data_df = pd.DataFrame(all_data_dict)"
   ]
  },
  {
   "cell_type": "code",
   "execution_count": 28,
   "id": "024cfb78",
   "metadata": {},
   "outputs": [],
   "source": [
    "empty_all_data_df = all_data_df[(all_data_df[\"w2v_sim\"]==0) &\n",
    "                                (all_data_df[\"glove_wk_sim\"]==0) &\n",
    "                                (all_data_df[\"glove_twitter_sim\"]==0) &\n",
    "                                (all_data_df[\"ud_sim\"]==0) &\n",
    "                                (all_data_df[\"chan_sim\"]==0)]\n",
    "all_data_df = all_data_df[~all_data_df.index.isin(empty_all_data_df.index)]"
   ]
  },
  {
   "cell_type": "code",
   "execution_count": 29,
   "id": "8406f314",
   "metadata": {},
   "outputs": [
    {
     "data": {
      "text/plain": [
       "(0, 29)"
      ]
     },
     "execution_count": 29,
     "metadata": {},
     "output_type": "execute_result"
    }
   ],
   "source": [
    "len(empty_all_data_df), len(all_data_df)"
   ]
  },
  {
   "cell_type": "code",
   "execution_count": 30,
   "id": "c48413e3",
   "metadata": {},
   "outputs": [],
   "source": [
    "all_data_df.to_csv(\"Results/all_WE_random_words_sim_to_profane_vector.csv\")"
   ]
  },
  {
   "cell_type": "code",
   "execution_count": 31,
   "id": "c3c1ab83",
   "metadata": {},
   "outputs": [
    {
     "data": {
      "text/plain": [
       "w2v_sim              0.300551\n",
       "glove_wk_sim         0.229659\n",
       "glove_twitter_sim    0.499074\n",
       "ud_sim               0.541753\n",
       "chan_sim             0.414586\n",
       "dtype: float64"
      ]
     },
     "execution_count": 31,
     "metadata": {},
     "output_type": "execute_result"
    }
   ],
   "source": [
    "all_data_df.mean()"
   ]
  },
  {
   "cell_type": "code",
   "execution_count": 32,
   "id": "d1d2fcb8",
   "metadata": {},
   "outputs": [
    {
     "data": {
      "text/plain": [
       "Index(['ethnicity_word', 'w2v_sim', 'glove_wk_sim', 'glove_twitter_sim',\n",
       "       'ud_sim', 'chan_sim'],\n",
       "      dtype='object')"
      ]
     },
     "execution_count": 32,
     "metadata": {},
     "output_type": "execute_result"
    }
   ],
   "source": [
    "all_data_df.columns"
   ]
  },
  {
   "cell_type": "code",
   "execution_count": 33,
   "id": "31ec122a",
   "metadata": {},
   "outputs": [
    {
     "name": "stdout",
     "output_type": "stream",
     "text": [
      "WilcoxonResult(statistic=91.0, pvalue=0.010759956613475967)\n",
      "WilcoxonResult(statistic=56.0, pvalue=0.000815736363503868)\n",
      "WilcoxonResult(statistic=62.0, pvalue=0.0007726592908711714)\n",
      "WilcoxonResult(statistic=116.0, pvalue=0.028181182907209452)\n"
     ]
    }
   ],
   "source": [
    "from scipy.stats import wilcoxon,spearmanr,ttest_ind,ks_2samp\n",
    "\n",
    "print(wilcoxon(all_data_df[\"w2v_sim\"], all_data_df[\"glove_wk_sim\"],alternative='two-sided'))\n",
    "print(wilcoxon(all_data_df[\"w2v_sim\"], all_data_df[\"glove_twitter_sim\"],alternative='two-sided'))\n",
    "print(wilcoxon(all_data_df[\"w2v_sim\"], all_data_df[\"ud_sim\"],alternative='two-sided'))\n",
    "print(wilcoxon(all_data_df[\"w2v_sim\"], all_data_df[\"chan_sim\"],alternative='two-sided'))"
   ]
  },
  {
   "cell_type": "code",
   "execution_count": 34,
   "id": "968a8cc9",
   "metadata": {},
   "outputs": [
    {
     "name": "stdout",
     "output_type": "stream",
     "text": [
      "WilcoxonResult(statistic=91.0, pvalue=0.010759956613475967)\n",
      "WilcoxonResult(statistic=29.0, pvalue=7.425368123953551e-05)\n",
      "WilcoxonResult(statistic=50.0, pvalue=0.00029246278606886)\n",
      "WilcoxonResult(statistic=65.0, pvalue=0.0009753641365557983)\n"
     ]
    }
   ],
   "source": [
    "print(wilcoxon(all_data_df[\"glove_wk_sim\"], all_data_df[\"w2v_sim\"],alternative='two-sided'))\n",
    "print(wilcoxon(all_data_df[\"glove_wk_sim\"], all_data_df[\"glove_twitter_sim\"],alternative='two-sided'))\n",
    "print(wilcoxon(all_data_df[\"glove_wk_sim\"], all_data_df[\"ud_sim\"],alternative='two-sided'))\n",
    "print(wilcoxon(all_data_df[\"glove_wk_sim\"], all_data_df[\"chan_sim\"],alternative='two-sided'))"
   ]
  },
  {
   "cell_type": "code",
   "execution_count": 35,
   "id": "9095a9d9",
   "metadata": {},
   "outputs": [
    {
     "name": "stdout",
     "output_type": "stream",
     "text": [
      "WilcoxonResult(statistic=56.0, pvalue=0.000815736363503868)\n",
      "WilcoxonResult(statistic=29.0, pvalue=7.425368123953551e-05)\n",
      "WilcoxonResult(statistic=186.0, pvalue=0.4957887064737012)\n",
      "WilcoxonResult(statistic=147.0, pvalue=0.1273999122001946)\n"
     ]
    }
   ],
   "source": [
    "print(wilcoxon(all_data_df[\"glove_twitter_sim\"], all_data_df[\"w2v_sim\"],alternative='two-sided'))\n",
    "print(wilcoxon(all_data_df[\"glove_twitter_sim\"], all_data_df[\"glove_wk_sim\"],alternative='two-sided'))\n",
    "print(wilcoxon(all_data_df[\"glove_twitter_sim\"], all_data_df[\"ud_sim\"],alternative='two-sided'))\n",
    "print(wilcoxon(all_data_df[\"glove_twitter_sim\"], all_data_df[\"chan_sim\"],alternative='two-sided'))"
   ]
  },
  {
   "cell_type": "code",
   "execution_count": 36,
   "id": "8ead2e4f",
   "metadata": {},
   "outputs": [
    {
     "name": "stdout",
     "output_type": "stream",
     "text": [
      "WilcoxonResult(statistic=62.0, pvalue=0.0007726592908711714)\n",
      "WilcoxonResult(statistic=50.0, pvalue=0.00029246278606886)\n",
      "WilcoxonResult(statistic=186.0, pvalue=0.4957887064737012)\n",
      "WilcoxonResult(statistic=124.0, pvalue=0.04320018979244315)\n"
     ]
    }
   ],
   "source": [
    "print(wilcoxon(all_data_df[\"ud_sim\"], all_data_df[\"w2v_sim\"],alternative='two-sided'))\n",
    "print(wilcoxon(all_data_df[\"ud_sim\"], all_data_df[\"glove_wk_sim\"],alternative='two-sided'))\n",
    "print(wilcoxon(all_data_df[\"ud_sim\"], all_data_df[\"glove_twitter_sim\"],alternative='two-sided'))\n",
    "print(wilcoxon(all_data_df[\"ud_sim\"], all_data_df[\"chan_sim\"],alternative='two-sided'))"
   ]
  },
  {
   "cell_type": "code",
   "execution_count": 37,
   "id": "7056751c",
   "metadata": {},
   "outputs": [
    {
     "name": "stdout",
     "output_type": "stream",
     "text": [
      "WilcoxonResult(statistic=116.0, pvalue=0.028181182907209452)\n",
      "WilcoxonResult(statistic=65.0, pvalue=0.0009753641365557983)\n",
      "WilcoxonResult(statistic=147.0, pvalue=0.1273999122001946)\n",
      "WilcoxonResult(statistic=124.0, pvalue=0.04320018979244315)\n"
     ]
    }
   ],
   "source": [
    "print(wilcoxon(all_data_df[\"chan_sim\"], all_data_df[\"w2v_sim\"],alternative='two-sided'))\n",
    "print(wilcoxon(all_data_df[\"chan_sim\"], all_data_df[\"glove_wk_sim\"],alternative='two-sided'))\n",
    "print(wilcoxon(all_data_df[\"chan_sim\"], all_data_df[\"glove_twitter_sim\"],alternative='two-sided'))\n",
    "print(wilcoxon(all_data_df[\"chan_sim\"], all_data_df[\"ud_sim\"],alternative='two-sided'))"
   ]
  },
  {
   "cell_type": "code",
   "execution_count": null,
   "id": "5452574f",
   "metadata": {},
   "outputs": [],
   "source": []
  },
  {
   "cell_type": "code",
   "execution_count": null,
   "id": "2ed9c8f7",
   "metadata": {},
   "outputs": [],
   "source": []
  }
 ],
 "metadata": {
  "kernelspec": {
   "display_name": "Python 3",
   "language": "python",
   "name": "python3"
  },
  "language_info": {
   "codemirror_mode": {
    "name": "ipython",
    "version": 3
   },
   "file_extension": ".py",
   "mimetype": "text/x-python",
   "name": "python",
   "nbconvert_exporter": "python",
   "pygments_lexer": "ipython3",
   "version": "3.6.9"
  }
 },
 "nbformat": 4,
 "nbformat_minor": 5
}
