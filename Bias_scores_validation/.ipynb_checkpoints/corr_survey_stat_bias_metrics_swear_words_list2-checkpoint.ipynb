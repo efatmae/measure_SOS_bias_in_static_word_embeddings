{
 "cells": [
  {
   "cell_type": "code",
   "execution_count": 1,
   "id": "5130ca1c",
   "metadata": {},
   "outputs": [],
   "source": [
    "import pandas as pd\n",
    "import numpy as np\n",
    "import matplotlib.pyplot as plt\n",
    "from matplotlib.pyplot import figure\n",
    "import seaborn as sns\n",
    "from mpl_toolkits.axes_grid1 import make_axes_locatable\n",
    "import scipy"
   ]
  },
  {
   "cell_type": "code",
   "execution_count": 2,
   "id": "48504c77",
   "metadata": {},
   "outputs": [],
   "source": [
    "weat_corr = pd.read_csv(\"WEAT_SOS_survey_correlations.csv\", index_col = False)\n",
    "rnsb_corr = pd.read_csv(\"RNSB_SOS_survey_correlations.csv\", index_col = False)\n",
    "rnd_corr = pd.read_csv(\"RND_SOS_survey_correlations.csv\", index_col = False)\n",
    "ect_corr = pd.read_csv(\"ECT_SOS_survey_correlations.csv\", index_col = False)\n",
    "our_metric_corr = pd.read_csv(\"my_metric_swear_wors_list2_SOS_survey_correlations.csv\", index_col = False)"
   ]
  },
  {
   "cell_type": "code",
   "execution_count": 3,
   "id": "9f533218",
   "metadata": {},
   "outputs": [
    {
     "data": {
      "text/plain": [
       "array(['OEOH_Finland', 'OEOH_US', 'OEOH_Germany', 'OEOH_UK', 'RAD'],\n",
       "      dtype=object)"
      ]
     },
     "execution_count": 3,
     "metadata": {},
     "output_type": "execute_result"
    }
   ],
   "source": [
    "weat_corr[\"hate_survey\"].unique()"
   ]
  },
  {
   "cell_type": "code",
   "execution_count": null,
   "id": "7a8c588d",
   "metadata": {},
   "outputs": [],
   "source": []
  },
  {
   "cell_type": "code",
   "execution_count": 4,
   "id": "ec0124e8",
   "metadata": {},
   "outputs": [],
   "source": [
    "WEAT_OEOH_Fin_stat = weat_corr[weat_corr[\"hate_survey\"] == \"OEOH_Finland\"]\n",
    "WEAT_OEOH_US_stat = weat_corr[weat_corr[\"hate_survey\"] == \"OEOH_US\"]\n",
    "\n",
    "RNSB_OEOH_Fin_stat = rnsb_corr[rnsb_corr[\"hate_survey\"] == \"OEOH_Finland\"]\n",
    "RNSB_OEOH_US_stat = rnsb_corr[rnsb_corr[\"hate_survey\"] == \"OEOH_US\"]\n",
    "\n",
    "RND_OEOH_Fin_stat = rnd_corr[rnd_corr[\"hate_survey\"] == \"OEOH_Finland\"]\n",
    "RND_OEOH_US_stat = rnd_corr[rnd_corr[\"hate_survey\"] == \"OEOH_US\"]\n",
    "\n",
    "ECT_OEOH_Fin_stat = ect_corr[ect_corr[\"hate_survey\"] == \"OEOH_Finland\"]\n",
    "ECT_OEOH_US_stat = ect_corr[ect_corr[\"hate_survey\"] == \"OEOH_US\"]\n",
    "\n",
    "OM_OEOH_Fin_stat = our_metric_corr[our_metric_corr[\"hate_survey\"] == \"OEOH_Finland\"]\n",
    "OM_OEOH_US_stat = our_metric_corr[our_metric_corr[\"hate_survey\"] == \"OEOH_US\"]\n",
    "\n",
    "#OEOH_UK_stat = stats_Corr[stats_Corr[\"hate_survey\"] == \"OEOH_UK\"]\n",
    "#OEOH_fin_stat = stats_Corr[stats_Corr[\"hate_survey\"] == \"OEOH_Finland\"]\n",
    "#OEOH_GR_stat = stats_Corr[stats_Corr[\"hate_survey\"] == \"OEOH_Germany\"]"
   ]
  },
  {
   "cell_type": "code",
   "execution_count": 5,
   "id": "60251b31",
   "metadata": {},
   "outputs": [],
   "source": [
    "columns = ['WEAT', 'RNSB', 'RND', 'ECT', 'SOS']\n",
    "rows = [\"w2v\", \"glv-wk\", \"glv-twtr\", \"ud\", \"chan\", \"glv-cc\",\"glv-cc-large\",\"ft-cc\", \"ft-cc-sws\",'ft-wk',\n",
    "       'ft-wk-sws','sswe','debias-w2v','p-desip','u-desip']"
   ]
  },
  {
   "cell_type": "code",
   "execution_count": 6,
   "id": "a59f43fc",
   "metadata": {},
   "outputs": [],
   "source": [
    "OHOE_Fin_stat = pd.DataFrame({'WE': rows,\n",
    "                         \"WEAT\":WEAT_OEOH_Fin_stat[\"pearson_r\"],\n",
    "                         \"RNSB\": RNSB_OEOH_Fin_stat[\"pearson_r\"],\n",
    "                        \"RND\":RND_OEOH_Fin_stat[\"pearson_r\"],\n",
    "                        \"ECT\":ECT_OEOH_Fin_stat[\"pearson_r\"],\n",
    "                        \"SOS\":OM_OEOH_Fin_stat[\"pearson_r\"]})"
   ]
  },
  {
   "cell_type": "code",
   "execution_count": 7,
   "id": "4c39056a",
   "metadata": {},
   "outputs": [],
   "source": [
    "OHOE_US_stat = pd.DataFrame({'WE': rows,\n",
    "                         \"WEAT\":WEAT_OEOH_US_stat[\"pearson_r\"],\n",
    "                         \"RNSB\": RNSB_OEOH_US_stat[\"pearson_r\"],\n",
    "                        \"RND\":RND_OEOH_US_stat[\"pearson_r\"],\n",
    "                        \"ECT\":ECT_OEOH_US_stat[\"pearson_r\"],\n",
    "                        \"SOS\":OM_OEOH_US_stat[\"pearson_r\"]})"
   ]
  },
  {
   "cell_type": "code",
   "execution_count": 8,
   "id": "45a5c02a",
   "metadata": {},
   "outputs": [
    {
     "ename": "KeyError",
     "evalue": "\"['OM'] not in index\"",
     "output_type": "error",
     "traceback": [
      "\u001b[0;31m---------------------------------------------------------------------------\u001b[0m",
      "\u001b[0;31mKeyError\u001b[0m                                  Traceback (most recent call last)",
      "\u001b[0;32m<ipython-input-8-901a99a81578>\u001b[0m in \u001b[0;36m<module>\u001b[0;34m\u001b[0m\n\u001b[0;32m----> 1\u001b[0;31m \u001b[0mOHOE_US_stat\u001b[0m\u001b[0;34m[\u001b[0m\u001b[0mcolumns\u001b[0m\u001b[0;34m]\u001b[0m\u001b[0;34m.\u001b[0m\u001b[0mvalues\u001b[0m\u001b[0;34m.\u001b[0m\u001b[0mT\u001b[0m\u001b[0;34m\u001b[0m\u001b[0;34m\u001b[0m\u001b[0m\n\u001b[0m",
      "\u001b[0;32m~/.local/lib/python3.8/site-packages/pandas/core/frame.py\u001b[0m in \u001b[0;36m__getitem__\u001b[0;34m(self, key)\u001b[0m\n\u001b[1;32m   3028\u001b[0m             \u001b[0;32mif\u001b[0m \u001b[0mis_iterator\u001b[0m\u001b[0;34m(\u001b[0m\u001b[0mkey\u001b[0m\u001b[0;34m)\u001b[0m\u001b[0;34m:\u001b[0m\u001b[0;34m\u001b[0m\u001b[0;34m\u001b[0m\u001b[0m\n\u001b[1;32m   3029\u001b[0m                 \u001b[0mkey\u001b[0m \u001b[0;34m=\u001b[0m \u001b[0mlist\u001b[0m\u001b[0;34m(\u001b[0m\u001b[0mkey\u001b[0m\u001b[0;34m)\u001b[0m\u001b[0;34m\u001b[0m\u001b[0;34m\u001b[0m\u001b[0m\n\u001b[0;32m-> 3030\u001b[0;31m             \u001b[0mindexer\u001b[0m \u001b[0;34m=\u001b[0m \u001b[0mself\u001b[0m\u001b[0;34m.\u001b[0m\u001b[0mloc\u001b[0m\u001b[0;34m.\u001b[0m\u001b[0m_get_listlike_indexer\u001b[0m\u001b[0;34m(\u001b[0m\u001b[0mkey\u001b[0m\u001b[0;34m,\u001b[0m \u001b[0maxis\u001b[0m\u001b[0;34m=\u001b[0m\u001b[0;36m1\u001b[0m\u001b[0;34m,\u001b[0m \u001b[0mraise_missing\u001b[0m\u001b[0;34m=\u001b[0m\u001b[0;32mTrue\u001b[0m\u001b[0;34m)\u001b[0m\u001b[0;34m[\u001b[0m\u001b[0;36m1\u001b[0m\u001b[0;34m]\u001b[0m\u001b[0;34m\u001b[0m\u001b[0;34m\u001b[0m\u001b[0m\n\u001b[0m\u001b[1;32m   3031\u001b[0m \u001b[0;34m\u001b[0m\u001b[0m\n\u001b[1;32m   3032\u001b[0m         \u001b[0;31m# take() does not accept boolean indexers\u001b[0m\u001b[0;34m\u001b[0m\u001b[0;34m\u001b[0m\u001b[0;34m\u001b[0m\u001b[0m\n",
      "\u001b[0;32m~/.local/lib/python3.8/site-packages/pandas/core/indexing.py\u001b[0m in \u001b[0;36m_get_listlike_indexer\u001b[0;34m(self, key, axis, raise_missing)\u001b[0m\n\u001b[1;32m   1264\u001b[0m             \u001b[0mkeyarr\u001b[0m\u001b[0;34m,\u001b[0m \u001b[0mindexer\u001b[0m\u001b[0;34m,\u001b[0m \u001b[0mnew_indexer\u001b[0m \u001b[0;34m=\u001b[0m \u001b[0max\u001b[0m\u001b[0;34m.\u001b[0m\u001b[0m_reindex_non_unique\u001b[0m\u001b[0;34m(\u001b[0m\u001b[0mkeyarr\u001b[0m\u001b[0;34m)\u001b[0m\u001b[0;34m\u001b[0m\u001b[0;34m\u001b[0m\u001b[0m\n\u001b[1;32m   1265\u001b[0m \u001b[0;34m\u001b[0m\u001b[0m\n\u001b[0;32m-> 1266\u001b[0;31m         \u001b[0mself\u001b[0m\u001b[0;34m.\u001b[0m\u001b[0m_validate_read_indexer\u001b[0m\u001b[0;34m(\u001b[0m\u001b[0mkeyarr\u001b[0m\u001b[0;34m,\u001b[0m \u001b[0mindexer\u001b[0m\u001b[0;34m,\u001b[0m \u001b[0maxis\u001b[0m\u001b[0;34m,\u001b[0m \u001b[0mraise_missing\u001b[0m\u001b[0;34m=\u001b[0m\u001b[0mraise_missing\u001b[0m\u001b[0;34m)\u001b[0m\u001b[0;34m\u001b[0m\u001b[0;34m\u001b[0m\u001b[0m\n\u001b[0m\u001b[1;32m   1267\u001b[0m         \u001b[0;32mreturn\u001b[0m \u001b[0mkeyarr\u001b[0m\u001b[0;34m,\u001b[0m \u001b[0mindexer\u001b[0m\u001b[0;34m\u001b[0m\u001b[0;34m\u001b[0m\u001b[0m\n\u001b[1;32m   1268\u001b[0m \u001b[0;34m\u001b[0m\u001b[0m\n",
      "\u001b[0;32m~/.local/lib/python3.8/site-packages/pandas/core/indexing.py\u001b[0m in \u001b[0;36m_validate_read_indexer\u001b[0;34m(self, key, indexer, axis, raise_missing)\u001b[0m\n\u001b[1;32m   1314\u001b[0m             \u001b[0;32mif\u001b[0m \u001b[0mraise_missing\u001b[0m\u001b[0;34m:\u001b[0m\u001b[0;34m\u001b[0m\u001b[0;34m\u001b[0m\u001b[0m\n\u001b[1;32m   1315\u001b[0m                 \u001b[0mnot_found\u001b[0m \u001b[0;34m=\u001b[0m \u001b[0mlist\u001b[0m\u001b[0;34m(\u001b[0m\u001b[0mset\u001b[0m\u001b[0;34m(\u001b[0m\u001b[0mkey\u001b[0m\u001b[0;34m)\u001b[0m \u001b[0;34m-\u001b[0m \u001b[0mset\u001b[0m\u001b[0;34m(\u001b[0m\u001b[0max\u001b[0m\u001b[0;34m)\u001b[0m\u001b[0;34m)\u001b[0m\u001b[0;34m\u001b[0m\u001b[0;34m\u001b[0m\u001b[0m\n\u001b[0;32m-> 1316\u001b[0;31m                 \u001b[0;32mraise\u001b[0m \u001b[0mKeyError\u001b[0m\u001b[0;34m(\u001b[0m\u001b[0;34mf\"{not_found} not in index\"\u001b[0m\u001b[0;34m)\u001b[0m\u001b[0;34m\u001b[0m\u001b[0;34m\u001b[0m\u001b[0m\n\u001b[0m\u001b[1;32m   1317\u001b[0m \u001b[0;34m\u001b[0m\u001b[0m\n\u001b[1;32m   1318\u001b[0m             \u001b[0mnot_found\u001b[0m \u001b[0;34m=\u001b[0m \u001b[0mkey\u001b[0m\u001b[0;34m[\u001b[0m\u001b[0mmissing_mask\u001b[0m\u001b[0;34m]\u001b[0m\u001b[0;34m\u001b[0m\u001b[0;34m\u001b[0m\u001b[0m\n",
      "\u001b[0;31mKeyError\u001b[0m: \"['OM'] not in index\""
     ]
    }
   ],
   "source": [
    "OHOE_US_stat[columns].values.T"
   ]
  },
  {
   "cell_type": "code",
   "execution_count": null,
   "id": "92a6ceac",
   "metadata": {},
   "outputs": [],
   "source": [
    "fig, axs = plt.subplots(nrows=1, ncols=1, figsize=(7, 5))\n",
    "x_ticks = np.arange(len(rows))\n",
    "y_ticks = np.arange(len(columns))\n",
    "\n",
    "\n",
    "# We use ax parameter to tell seaborn which subplot to use for this plot\n",
    "#sns.heatmap(data=RAD_stat[columns].values.T, ax=axs[0], vmin=-1, vmax=1,cbar=True, cmap=\"YlGnBu\")\n",
    "im0 = axs.imshow(OHOE_Fin_stat[columns].values.T, cmap =\"YlGnBu\")\n",
    "axs.set_title('OEOH_Finland', fontweight=\"bold\", fontsize=16)\n",
    "axs.set_xticks(x_ticks)\n",
    "axs.set_yticks(y_ticks)\n",
    "axs.set_xticklabels([\"\" for i in rows], fontweight=\"bold\", rotation=90, fontsize=16)\n",
    "axs.set_xticklabels(rows, fontweight=\"bold\", rotation=90, fontsize=16)\n",
    "axs.set_yticklabels(columns, fontweight=\"bold\", rotation=0, fontsize=16)\n",
    "\n",
    "#sns.heatmap(data=OHOE_US_stat[columns].values.T, ax=axs[1], vmin=-1, vmax=1,cbar=True, yticklabels=False,cmap=\"YlGnBu\", cbar_kws={\"orientation\": \"vertical\"})\n",
    "#im1 = axs[1].imshow(OHOE_US_stat[columns].values.T, cmap =\"YlGnBu\")\n",
    "#axs[1].set_title('OEOH-US', fontweight=\"bold\", fontsize=16)\n",
    "#axs[1].set_xticks(x_ticks)\n",
    "#axs[1].set_yticks(y_ticks)\n",
    "#axs[1].set_xticklabels(rows, fontweight=\"bold\", rotation=90, fontsize=16)\n",
    "#axs[1].set_yticklabels(columns, fontweight=\"bold\", rotation=0, fontsize=16)\n",
    "\n",
    "#plt.colorbar(im0,boundaries=np.arange(-1,1,0.1), shrink=0.7, orientation=\"horizontal\", location=\"top\")\n",
    "#cbar_ax = fig.add_axes([0.91, 0.2, 0.05, 0.6])\n",
    "#fig.colorbar(im0, cax=cbar_ax,boundaries=np.arange(-1,1.1,0.1), shrink=0.2)\n",
    "divider = make_axes_locatable(axs)\n",
    "cax = divider.new_vertical(size='5%', pad=1.7, pack_start = True)\n",
    "fig.add_axes(cax)\n",
    "fig.colorbar(im0, cax = cax, boundaries=np.arange(-1,1.1,0.1), orientation = 'horizontal')\n",
    "#sns.heatmap(data=OEOH_fin_stat[columns], ax=ax4, vmin=-1, vmax=1,cbar=True, yticklabels=False,cbar_kws={'label': 'correlation'},cmap=\"YlGnBu\")\n",
    "#ax4.set_title('OEOH-UK', fontweight=\"bold\", fontsize=35)\n",
    "#ax4.set_ylabel(\"\")\n",
    "#ax4.set_xticklabels(columns, fontweight=\"bold\", rotation=90, fontsize=35)\n",
    "\n",
    "#sns.heatmap(data=OEOH_GR_stat[columns], ax=ax5, vmin=-1, vmax=1,cbar=False, yticklabels=False,cmap=\"YlGnBu\")\n",
    "#ax5.set_title('OEOH-Germany', fontweight=\"bold\", fontsize=35)\n",
    "#ax5.set_ylabel(\"\")\n",
    "#ax5.set_xticklabels(columns, fontweight=\"bold\", rotation=45, fontsize=35)\n",
    "\n",
    "#sns.heatmap(data=OEOH_fin_stat[columns], ax=ax5, vmin=-1, vmax=1,cbar=True, yticklabels=False,cbar_kws={'label': 'correlation'},cmap=\"YlGnBu\")\n",
    "#ax5.set_title('OEOH-FI', fontweight=\"bold\", fontsize=35)\n",
    "#ax5.set_ylabel(\"\")\n",
    "#ax5.set_xticklabels(columns, fontweight=\"bold\", fontsize=35, rotation=90)"
   ]
  },
  {
   "cell_type": "code",
   "execution_count": null,
   "id": "a90589ed",
   "metadata": {},
   "outputs": [],
   "source": [
    "fig.savefig(\"heat_map_sos_metrics_corr_swear_words_list2.pdf\",bbox_inches='tight')"
   ]
  },
  {
   "cell_type": "code",
   "execution_count": null,
   "id": "39307b7c",
   "metadata": {},
   "outputs": [],
   "source": []
  }
 ],
 "metadata": {
  "kernelspec": {
   "display_name": "Python 3",
   "language": "python",
   "name": "python3"
  },
  "language_info": {
   "codemirror_mode": {
    "name": "ipython",
    "version": 3
   },
   "file_extension": ".py",
   "mimetype": "text/x-python",
   "name": "python",
   "nbconvert_exporter": "python",
   "pygments_lexer": "ipython3",
   "version": "3.8.10"
  }
 },
 "nbformat": 4,
 "nbformat_minor": 5
}
