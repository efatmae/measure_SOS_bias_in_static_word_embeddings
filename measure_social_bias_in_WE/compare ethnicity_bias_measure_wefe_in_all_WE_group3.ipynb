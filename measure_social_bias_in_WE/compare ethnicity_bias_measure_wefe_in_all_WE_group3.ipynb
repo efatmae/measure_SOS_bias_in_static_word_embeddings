{
 "cells": [
  {
   "cell_type": "code",
   "execution_count": 1,
   "metadata": {},
   "outputs": [
    {
     "name": "stdout",
     "output_type": "stream",
     "text": [
      "3.8.10 (default, Mar 15 2022, 12:22:08) \n",
      "[GCC 9.4.0]\n"
     ]
    }
   ],
   "source": [
    "import sys\n",
    "print(sys.version)"
   ]
  },
  {
   "cell_type": "code",
   "execution_count": 2,
   "metadata": {},
   "outputs": [],
   "source": [
    "from wefe.query import Query\n",
    "from wefe.metrics import WEAT, RNSB, RND, MAC, ECT\n",
    "from wefe.word_embedding_model import WordEmbeddingModel\n",
    "from wefe.datasets.datasets import load_weat, fetch_eds, fetch_debias_multiclass, fetch_debiaswe, load_bingliu\n",
    "from wefe.utils import run_queries, plot_queries_results, create_ranking, plot_ranking, plot_ranking_correlations\n",
    "from plotly.subplots import make_subplots\n",
    "import gensim"
   ]
  },
  {
   "cell_type": "code",
   "execution_count": 3,
   "metadata": {},
   "outputs": [],
   "source": [
    "data_folder = \"../../Data/\"\n",
    "embeddings_folder = data_folder+\"/word embeddings/\""
   ]
  },
  {
   "cell_type": "code",
   "execution_count": 4,
   "metadata": {},
   "outputs": [],
   "source": [
    "def get_google_news_embeddings(filename,binary=False):\n",
    "    w2v_model = gensim.models.KeyedVectors.load_word2vec_format(filename, binary=binary, no_header=True)\n",
    "    return w2v_model"
   ]
  },
  {
   "cell_type": "code",
   "execution_count": 5,
   "metadata": {},
   "outputs": [
    {
     "name": "stderr",
     "output_type": "stream",
     "text": [
      "INFO:gensim.models.keyedvectors:loading projection weights from ../../Data//word embeddings/FastText/wiki-news-300d-1M.vec\n",
      "DEBUG:smart_open.smart_open_lib:{'uri': '../../Data//word embeddings/FastText/wiki-news-300d-1M.vec', 'mode': 'rb', 'buffering': -1, 'encoding': None, 'errors': None, 'newline': None, 'closefd': True, 'opener': None, 'ignore_ext': False, 'compression': None, 'transport_params': None}\n",
      "DEBUG:gensim.utils:starting a new internal lifecycle event log for KeyedVectors\n",
      "INFO:gensim.utils:KeyedVectors lifecycle event {'msg': 'loaded (999994, 300) matrix of type float32 from ../../Data//word embeddings/FastText/wiki-news-300d-1M.vec', 'binary': False, 'encoding': 'utf8', 'datetime': '2022-04-19T14:31:16.491415', 'gensim': '4.0.1', 'python': '3.8.10 (default, Mar 15 2022, 12:22:08) \\n[GCC 9.4.0]', 'platform': 'Linux-5.4.0-107-generic-x86_64-with-glibc2.29', 'event': 'load_word2vec_format'}\n"
     ]
    }
   ],
   "source": [
    "fasttext_wiki_model = gensim.models.KeyedVectors.load_word2vec_format(embeddings_folder+\"FastText/wiki-news-300d-1M.vec\")"
   ]
  },
  {
   "cell_type": "code",
   "execution_count": 6,
   "metadata": {},
   "outputs": [
    {
     "name": "stderr",
     "output_type": "stream",
     "text": [
      "INFO:gensim.models.keyedvectors:loading projection weights from ../../Data//word embeddings/FastText/wiki-news-300d-1M-subword.vec\n",
      "DEBUG:smart_open.smart_open_lib:{'uri': '../../Data//word embeddings/FastText/wiki-news-300d-1M-subword.vec', 'mode': 'rb', 'buffering': -1, 'encoding': None, 'errors': None, 'newline': None, 'closefd': True, 'opener': None, 'ignore_ext': False, 'compression': None, 'transport_params': None}\n",
      "DEBUG:gensim.utils:starting a new internal lifecycle event log for KeyedVectors\n",
      "INFO:gensim.utils:KeyedVectors lifecycle event {'msg': 'loaded (999994, 300) matrix of type float32 from ../../Data//word embeddings/FastText/wiki-news-300d-1M-subword.vec', 'binary': False, 'encoding': 'utf8', 'datetime': '2022-04-19T14:32:26.760435', 'gensim': '4.0.1', 'python': '3.8.10 (default, Mar 15 2022, 12:22:08) \\n[GCC 9.4.0]', 'platform': 'Linux-5.4.0-107-generic-x86_64-with-glibc2.29', 'event': 'load_word2vec_format'}\n"
     ]
    }
   ],
   "source": [
    "fasttext_wiki_subwords_model = gensim.models.KeyedVectors.load_word2vec_format(embeddings_folder+\"FastText/wiki-news-300d-1M-subword.vec\")"
   ]
  },
  {
   "cell_type": "code",
   "execution_count": 7,
   "metadata": {},
   "outputs": [
    {
     "name": "stderr",
     "output_type": "stream",
     "text": [
      "INFO:gensim.models.keyedvectors:loading projection weights from ../../Data//word embeddings/FastText/crawl-300d-2M.vec\n",
      "DEBUG:smart_open.smart_open_lib:{'uri': '../../Data//word embeddings/FastText/crawl-300d-2M.vec', 'mode': 'rb', 'buffering': -1, 'encoding': None, 'errors': None, 'newline': None, 'closefd': True, 'opener': None, 'ignore_ext': False, 'compression': None, 'transport_params': None}\n",
      "DEBUG:gensim.utils:starting a new internal lifecycle event log for KeyedVectors\n",
      "INFO:gensim.utils:KeyedVectors lifecycle event {'msg': 'loaded (1999995, 300) matrix of type float32 from ../../Data//word embeddings/FastText/crawl-300d-2M.vec', 'binary': False, 'encoding': 'utf8', 'datetime': '2022-04-19T14:34:48.808680', 'gensim': '4.0.1', 'python': '3.8.10 (default, Mar 15 2022, 12:22:08) \\n[GCC 9.4.0]', 'platform': 'Linux-5.4.0-107-generic-x86_64-with-glibc2.29', 'event': 'load_word2vec_format'}\n"
     ]
    }
   ],
   "source": [
    "fasttext_cc_model = gensim.models.KeyedVectors.load_word2vec_format(embeddings_folder+\"FastText/crawl-300d-2M.vec\")"
   ]
  },
  {
   "cell_type": "code",
   "execution_count": 8,
   "metadata": {},
   "outputs": [
    {
     "name": "stderr",
     "output_type": "stream",
     "text": [
      "INFO:gensim.models.keyedvectors:loading projection weights from ../../Data//word embeddings/FastText/crawl-300d-2M-subword.vec\n",
      "DEBUG:smart_open.smart_open_lib:{'uri': '../../Data//word embeddings/FastText/crawl-300d-2M-subword.vec', 'mode': 'rb', 'buffering': -1, 'encoding': None, 'errors': None, 'newline': None, 'closefd': True, 'opener': None, 'ignore_ext': False, 'compression': None, 'transport_params': None}\n",
      "DEBUG:gensim.utils:starting a new internal lifecycle event log for KeyedVectors\n",
      "INFO:gensim.utils:KeyedVectors lifecycle event {'msg': 'loaded (2000000, 300) matrix of type float32 from ../../Data//word embeddings/FastText/crawl-300d-2M-subword.vec', 'binary': False, 'encoding': 'utf8', 'datetime': '2022-04-19T14:37:09.001755', 'gensim': '4.0.1', 'python': '3.8.10 (default, Mar 15 2022, 12:22:08) \\n[GCC 9.4.0]', 'platform': 'Linux-5.4.0-107-generic-x86_64-with-glibc2.29', 'event': 'load_word2vec_format'}\n"
     ]
    }
   ],
   "source": [
    "fasttext_cc_subwords_model = gensim.models.KeyedVectors.load_word2vec_format(embeddings_folder+\"FastText/crawl-300d-2M-subword.vec\")"
   ]
  },
  {
   "cell_type": "code",
   "execution_count": 9,
   "metadata": {},
   "outputs": [
    {
     "name": "stderr",
     "output_type": "stream",
     "text": [
      "INFO:gensim.models.keyedvectors:loading projection weights from ../../Data//word embeddings//debiased_word_embedding/GoogleNews-vectors-negative300-hard-debiased.bin\n",
      "DEBUG:smart_open.smart_open_lib:{'uri': '../../Data//word embeddings//debiased_word_embedding/GoogleNews-vectors-negative300-hard-debiased.bin', 'mode': 'rb', 'buffering': -1, 'encoding': None, 'errors': None, 'newline': None, 'closefd': True, 'opener': None, 'ignore_ext': False, 'compression': None, 'transport_params': None}\n",
      "DEBUG:gensim.utils:starting a new internal lifecycle event log for KeyedVectors\n",
      "INFO:gensim.utils:KeyedVectors lifecycle event {'msg': 'loaded (3000000, 300) matrix of type float32 from ../../Data//word embeddings//debiased_word_embedding/GoogleNews-vectors-negative300-hard-debiased.bin', 'binary': True, 'encoding': 'utf8', 'datetime': '2022-04-19T14:37:21.818349', 'gensim': '4.0.1', 'python': '3.8.10 (default, Mar 15 2022, 12:22:08) \\n[GCC 9.4.0]', 'platform': 'Linux-5.4.0-107-generic-x86_64-with-glibc2.29', 'event': 'load_word2vec_format'}\n"
     ]
    }
   ],
   "source": [
    "debiased_w2v_model = gensim.models.KeyedVectors.load_word2vec_format(embeddings_folder+\"/debiased_word_embedding/GoogleNews-vectors-negative300-hard-debiased.bin\",binary=True)"
   ]
  },
  {
   "cell_type": "code",
   "execution_count": 10,
   "metadata": {},
   "outputs": [],
   "source": [
    "# load the weat word sets\n",
    "WEAT_wordsets = load_weat()\n",
    "RND_wordsets = fetch_eds()\n",
    "sentiments_wordsets = load_bingliu()\n",
    "debias_multiclass_wordsets = fetch_debias_multiclass()"
   ]
  },
  {
   "cell_type": "markdown",
   "metadata": {},
   "source": [
    "#### WEAT Effect Size: represents a normalized measure that quantifies how far apart the two distributions of association between targets and attributes are.\n",
    "\n",
    "#### WEAT score:  Its objective is to quantify the strength of association of both pair of sets through a permutation test. The score being positive and higher than one indicates that word2vec exhibits a moderately strong relationship between men's names and careers and women's names and family."
   ]
  },
  {
   "cell_type": "markdown",
   "metadata": {},
   "source": [
    "#### running multiple queries and multiple word embeddings"
   ]
  },
  {
   "cell_type": "code",
   "execution_count": 11,
   "metadata": {},
   "outputs": [],
   "source": [
    "fasttext_wiki_model = WordEmbeddingModel(fasttext_wiki_model, 'fasttext_wiki')\n",
    "fasttext_wiki_subwords_model = WordEmbeddingModel(fasttext_wiki_subwords_model, 'fasttext_wiki_subwords')\n",
    "fasttext_cc_model = WordEmbeddingModel(fasttext_cc_model, 'fasttext_cc')\n",
    "fasttext_cc_subwords_model = WordEmbeddingModel(fasttext_cc_subwords_model, 'fasttext_cc_subwords')\n",
    "debiased_w2v_model = WordEmbeddingModel(debiased_w2v_model, 'debiased_w2v')"
   ]
  },
  {
   "cell_type": "code",
   "execution_count": 12,
   "metadata": {},
   "outputs": [],
   "source": [
    "models = [fasttext_wiki_model, fasttext_wiki_subwords_model, fasttext_cc_model, fasttext_cc_subwords_model, debiased_w2v_model]"
   ]
  },
  {
   "cell_type": "markdown",
   "metadata": {},
   "source": [
    "## Query ranking"
   ]
  },
  {
   "cell_type": "code",
   "execution_count": 13,
   "metadata": {},
   "outputs": [],
   "source": [
    "# Create gender queries\n",
    "eth_1 = Query([RND_wordsets['names_white'], RND_wordsets['names_black']],\n",
    "              [WEAT_wordsets['pleasant_5'], WEAT_wordsets['unpleasant_5']],\n",
    "              ['White last names', 'Black last names'],\n",
    "              ['Pleasant', 'Unpleasant'])\n",
    "\n",
    "eth_2 = Query([RND_wordsets['names_white'], RND_wordsets['names_asian']],\n",
    "              [WEAT_wordsets['pleasant_5'], WEAT_wordsets['unpleasant_5']],\n",
    "              ['White last names', 'Asian last names'],\n",
    "              ['Pleasant', 'Unpleasant'])\n",
    "\n",
    "eth_3 = Query([RND_wordsets['names_white'], RND_wordsets['names_hispanic']],\n",
    "              [WEAT_wordsets['pleasant_5'], WEAT_wordsets['unpleasant_5']],\n",
    "              ['White last names', 'Hispanic last names'],\n",
    "              ['Pleasant', 'Unpleasant'])\n",
    "\n",
    "\n",
    "\n",
    "eth_5 = Query(\n",
    "    [RND_wordsets['names_white'], RND_wordsets['names_black']],\n",
    "    [list(RND_wordsets['occupations_white']), list(RND_wordsets['occupations_black'])],\n",
    "    ['White last names', 'Black last names'],\n",
    "    ['Occupations white', 'Occupations black'])\n",
    "\n",
    "eth_6 = Query(\n",
    "    [RND_wordsets['names_white'], RND_wordsets['names_asian']],\n",
    "    [list(RND_wordsets['occupations_white']), list(RND_wordsets['occupations_asian'])],\n",
    "    ['White last names', 'Asian last names'],\n",
    "    ['Occupations white', 'Occupations asian'])\n",
    "\n",
    "eth_7 = Query(\n",
    "    [RND_wordsets['names_white'], RND_wordsets['names_hispanic']],\n",
    "    [list(RND_wordsets['occupations_white']), list(RND_wordsets['occupations_hispanic'])],\n",
    "    ['White last names', 'Hispanic last names'],\n",
    "    ['Occupations white', 'Occupations hispanic'])\n",
    "\n",
    "eth_sent_1 = Query([RND_wordsets['names_white'], RND_wordsets['names_black']],\n",
    "                   [\n",
    "                       sentiments_wordsets['positive_words'],\n",
    "                       sentiments_wordsets['negative_words']\n",
    "                   ], ['White last names', 'Black last names'],\n",
    "                   ['Positive words', 'Negative words'])\n",
    "\n",
    "eth_sent_2 = Query([RND_wordsets['names_white'], RND_wordsets['names_asian']],\n",
    "                   [\n",
    "                       sentiments_wordsets['positive_words'],\n",
    "                       sentiments_wordsets['negative_words']\n",
    "                   ], ['White last names', 'Asian last names'],\n",
    "                   ['Positive words', 'Negative words'])\n",
    "\n",
    "eth_sent_3 = Query(\n",
    "    [RND_wordsets['names_white'], RND_wordsets['names_hispanic']], [\n",
    "        sentiments_wordsets['positive_words'],\n",
    "        sentiments_wordsets['negative_words']\n",
    "    ], ['White last names', 'Hispanic last names'],\n",
    "    ['Positive words', 'Negative words'])\n",
    "\n",
    "\n",
    "\n",
    "ethnicity_queries = [\n",
    "    eth_1, eth_2, eth_3, eth_5, eth_6, eth_7, eth_sent_1, eth_sent_2,\n",
    "    eth_sent_3]"
   ]
  },
  {
   "cell_type": "code",
   "execution_count": 14,
   "metadata": {
    "scrolled": true
   },
   "outputs": [],
   "source": [
    "# Run the queries WEAT\n",
    "WEAT_ethnicity_results = run_queries(\n",
    "    WEAT,\n",
    "    ethnicity_queries,\n",
    "    models,\n",
    "    metric_params={'preprocessor_args': {\n",
    "        'lowercase': True\n",
    "    }},\n",
    "    aggregate_results=True,\n",
    "    return_only_aggregation=True,\n",
    "    lost_vocabulary_threshold = 0.5,\n",
    "    queries_set_name='ethnicity Queries')\n"
   ]
  },
  {
   "cell_type": "code",
   "execution_count": 15,
   "metadata": {},
   "outputs": [
    {
     "name": "stderr",
     "output_type": "stream",
     "text": [
      "/home/fatma/.local/lib/python3.8/site-packages/wefe/metrics/RNSB.py:150: VisibleDeprecationWarning: Creating an ndarray from ragged nested sequences (which is a list-or-tuple of lists-or-tuples-or ndarrays with different lengths or shapes) is deprecated. If you meant to do this, you must specify 'dtype=object' when creating the ndarray.\n",
      "  probabilities = np.array([\n",
      "/home/fatma/.local/lib/python3.8/site-packages/wefe/metrics/RNSB.py:156: VisibleDeprecationWarning: Creating an ndarray from ragged nested sequences (which is a list-or-tuple of lists-or-tuples-or ndarrays with different lengths or shapes) is deprecated. If you meant to do this, you must specify 'dtype=object' when creating the ndarray.\n",
      "  negative_probabilities = np.array(\n",
      "/home/fatma/.local/lib/python3.8/site-packages/wefe/metrics/RNSB.py:150: VisibleDeprecationWarning: Creating an ndarray from ragged nested sequences (which is a list-or-tuple of lists-or-tuples-or ndarrays with different lengths or shapes) is deprecated. If you meant to do this, you must specify 'dtype=object' when creating the ndarray.\n",
      "  probabilities = np.array([\n",
      "/home/fatma/.local/lib/python3.8/site-packages/wefe/metrics/RNSB.py:156: VisibleDeprecationWarning: Creating an ndarray from ragged nested sequences (which is a list-or-tuple of lists-or-tuples-or ndarrays with different lengths or shapes) is deprecated. If you meant to do this, you must specify 'dtype=object' when creating the ndarray.\n",
      "  negative_probabilities = np.array(\n",
      "/home/fatma/.local/lib/python3.8/site-packages/wefe/metrics/RNSB.py:150: VisibleDeprecationWarning: Creating an ndarray from ragged nested sequences (which is a list-or-tuple of lists-or-tuples-or ndarrays with different lengths or shapes) is deprecated. If you meant to do this, you must specify 'dtype=object' when creating the ndarray.\n",
      "  probabilities = np.array([\n",
      "/home/fatma/.local/lib/python3.8/site-packages/wefe/metrics/RNSB.py:156: VisibleDeprecationWarning: Creating an ndarray from ragged nested sequences (which is a list-or-tuple of lists-or-tuples-or ndarrays with different lengths or shapes) is deprecated. If you meant to do this, you must specify 'dtype=object' when creating the ndarray.\n",
      "  negative_probabilities = np.array(\n"
     ]
    }
   ],
   "source": [
    "# Run the queries using RNSB\n",
    "RNSB_ethnicity_results = run_queries(RNSB,\n",
    "                                ethnicity_queries,\n",
    "                                models,\n",
    "                                metric_params={'preprocessor_args': {\n",
    "                                    'lowercase': True\n",
    "                                }},\n",
    "                                aggregate_results=True,\n",
    "                                     #lost_vocabulary_threshold = 0.5,\n",
    "                                return_only_aggregation=True,\n",
    "                                queries_set_name='ethnicity Queries')\n"
   ]
  },
  {
   "cell_type": "code",
   "execution_count": 16,
   "metadata": {},
   "outputs": [],
   "source": [
    "# Run the queries using RND\n",
    "RND_ethnicity_results = run_queries(RND,\n",
    "                                ethnicity_queries,\n",
    "                                models,\n",
    "                                metric_params={'preprocessor_args': {\n",
    "                                    'lowercase': True\n",
    "                                }},\n",
    "                                aggregate_results=True,\n",
    "                                    lost_vocabulary_threshold = 0.5,\n",
    "                                generate_subqueries=True,\n",
    "                                    return_only_aggregation=True,\n",
    "                                queries_set_name='ethnicity Queries')\n",
    "\n",
    "\n"
   ]
  },
  {
   "cell_type": "code",
   "execution_count": 17,
   "metadata": {},
   "outputs": [],
   "source": [
    "# Run the queries using ECT\n",
    "ECT_ethnicity_results = run_queries(ECT,\n",
    "                                ethnicity_queries,\n",
    "                                models,\n",
    "                                metric_params={'preprocessor_args': {\n",
    "                                    'lowercase': True\n",
    "                                }},\n",
    "                                aggregate_results=True,\n",
    "                                    return_only_aggregation=True,\n",
    "                                generate_subqueries=True,\n",
    "                                    lost_vocabulary_threshold = 0.5,\n",
    "                                queries_set_name='ethnicity Queries')"
   ]
  },
  {
   "cell_type": "code",
   "execution_count": 18,
   "metadata": {},
   "outputs": [
    {
     "data": {
      "text/html": [
       "<div>\n",
       "<style scoped>\n",
       "    .dataframe tbody tr th:only-of-type {\n",
       "        vertical-align: middle;\n",
       "    }\n",
       "\n",
       "    .dataframe tbody tr th {\n",
       "        vertical-align: top;\n",
       "    }\n",
       "\n",
       "    .dataframe thead th {\n",
       "        text-align: right;\n",
       "    }\n",
       "</style>\n",
       "<table border=\"1\" class=\"dataframe\">\n",
       "  <thead>\n",
       "    <tr style=\"text-align: right;\">\n",
       "      <th></th>\n",
       "      <th>WEAT: ethnicity Queries average of abs values score</th>\n",
       "    </tr>\n",
       "    <tr>\n",
       "      <th>model_name</th>\n",
       "      <th></th>\n",
       "    </tr>\n",
       "  </thead>\n",
       "  <tbody>\n",
       "    <tr>\n",
       "      <th>fasttext_wiki</th>\n",
       "      <td>0.110552</td>\n",
       "    </tr>\n",
       "    <tr>\n",
       "      <th>fasttext_wiki_subwords</th>\n",
       "      <td>0.162086</td>\n",
       "    </tr>\n",
       "    <tr>\n",
       "      <th>fasttext_cc</th>\n",
       "      <td>0.084091</td>\n",
       "    </tr>\n",
       "    <tr>\n",
       "      <th>fasttext_cc_subwords</th>\n",
       "      <td>0.082642</td>\n",
       "    </tr>\n",
       "    <tr>\n",
       "      <th>debiased_w2v</th>\n",
       "      <td>0.171114</td>\n",
       "    </tr>\n",
       "  </tbody>\n",
       "</table>\n",
       "</div>"
      ],
      "text/plain": [
       "                        WEAT: ethnicity Queries average of abs values score\n",
       "model_name                                                                 \n",
       "fasttext_wiki                                                    0.110552  \n",
       "fasttext_wiki_subwords                                           0.162086  \n",
       "fasttext_cc                                                      0.084091  \n",
       "fasttext_cc_subwords                                             0.082642  \n",
       "debiased_w2v                                                     0.171114  "
      ]
     },
     "execution_count": 18,
     "metadata": {},
     "output_type": "execute_result"
    }
   ],
   "source": [
    "WEAT_ethnicity_results"
   ]
  },
  {
   "cell_type": "code",
   "execution_count": 19,
   "metadata": {},
   "outputs": [
    {
     "data": {
      "text/html": [
       "<div>\n",
       "<style scoped>\n",
       "    .dataframe tbody tr th:only-of-type {\n",
       "        vertical-align: middle;\n",
       "    }\n",
       "\n",
       "    .dataframe tbody tr th {\n",
       "        vertical-align: top;\n",
       "    }\n",
       "\n",
       "    .dataframe thead th {\n",
       "        text-align: right;\n",
       "    }\n",
       "</style>\n",
       "<table border=\"1\" class=\"dataframe\">\n",
       "  <thead>\n",
       "    <tr style=\"text-align: right;\">\n",
       "      <th></th>\n",
       "      <th>RNSB: ethnicity Queries average of abs values score</th>\n",
       "    </tr>\n",
       "    <tr>\n",
       "      <th>model_name</th>\n",
       "      <th></th>\n",
       "    </tr>\n",
       "  </thead>\n",
       "  <tbody>\n",
       "    <tr>\n",
       "      <th>fasttext_wiki</th>\n",
       "      <td>0.088127</td>\n",
       "    </tr>\n",
       "    <tr>\n",
       "      <th>fasttext_wiki_subwords</th>\n",
       "      <td>0.008409</td>\n",
       "    </tr>\n",
       "    <tr>\n",
       "      <th>fasttext_cc</th>\n",
       "      <td>0.113996</td>\n",
       "    </tr>\n",
       "    <tr>\n",
       "      <th>fasttext_cc_subwords</th>\n",
       "      <td>0.023930</td>\n",
       "    </tr>\n",
       "    <tr>\n",
       "      <th>debiased_w2v</th>\n",
       "      <td>0.038671</td>\n",
       "    </tr>\n",
       "  </tbody>\n",
       "</table>\n",
       "</div>"
      ],
      "text/plain": [
       "                        RNSB: ethnicity Queries average of abs values score\n",
       "model_name                                                                 \n",
       "fasttext_wiki                                                    0.088127  \n",
       "fasttext_wiki_subwords                                           0.008409  \n",
       "fasttext_cc                                                      0.113996  \n",
       "fasttext_cc_subwords                                             0.023930  \n",
       "debiased_w2v                                                     0.038671  "
      ]
     },
     "execution_count": 19,
     "metadata": {},
     "output_type": "execute_result"
    }
   ],
   "source": [
    "RNSB_ethnicity_results"
   ]
  },
  {
   "cell_type": "code",
   "execution_count": 20,
   "metadata": {},
   "outputs": [
    {
     "data": {
      "text/html": [
       "<div>\n",
       "<style scoped>\n",
       "    .dataframe tbody tr th:only-of-type {\n",
       "        vertical-align: middle;\n",
       "    }\n",
       "\n",
       "    .dataframe tbody tr th {\n",
       "        vertical-align: top;\n",
       "    }\n",
       "\n",
       "    .dataframe thead th {\n",
       "        text-align: right;\n",
       "    }\n",
       "</style>\n",
       "<table border=\"1\" class=\"dataframe\">\n",
       "  <thead>\n",
       "    <tr style=\"text-align: right;\">\n",
       "      <th></th>\n",
       "      <th>RND: ethnicity Queries average of abs values score</th>\n",
       "    </tr>\n",
       "    <tr>\n",
       "      <th>model_name</th>\n",
       "      <th></th>\n",
       "    </tr>\n",
       "  </thead>\n",
       "  <tbody>\n",
       "    <tr>\n",
       "      <th>fasttext_wiki</th>\n",
       "      <td>0.086961</td>\n",
       "    </tr>\n",
       "    <tr>\n",
       "      <th>fasttext_wiki_subwords</th>\n",
       "      <td>0.045902</td>\n",
       "    </tr>\n",
       "    <tr>\n",
       "      <th>fasttext_cc</th>\n",
       "      <td>0.238755</td>\n",
       "    </tr>\n",
       "    <tr>\n",
       "      <th>fasttext_cc_subwords</th>\n",
       "      <td>0.088536</td>\n",
       "    </tr>\n",
       "    <tr>\n",
       "      <th>debiased_w2v</th>\n",
       "      <td>0.027600</td>\n",
       "    </tr>\n",
       "  </tbody>\n",
       "</table>\n",
       "</div>"
      ],
      "text/plain": [
       "                        RND: ethnicity Queries average of abs values score\n",
       "model_name                                                                \n",
       "fasttext_wiki                                                    0.086961 \n",
       "fasttext_wiki_subwords                                           0.045902 \n",
       "fasttext_cc                                                      0.238755 \n",
       "fasttext_cc_subwords                                             0.088536 \n",
       "debiased_w2v                                                     0.027600 "
      ]
     },
     "execution_count": 20,
     "metadata": {},
     "output_type": "execute_result"
    }
   ],
   "source": [
    "RND_ethnicity_results"
   ]
  },
  {
   "cell_type": "code",
   "execution_count": 21,
   "metadata": {},
   "outputs": [
    {
     "data": {
      "text/html": [
       "<div>\n",
       "<style scoped>\n",
       "    .dataframe tbody tr th:only-of-type {\n",
       "        vertical-align: middle;\n",
       "    }\n",
       "\n",
       "    .dataframe tbody tr th {\n",
       "        vertical-align: top;\n",
       "    }\n",
       "\n",
       "    .dataframe thead th {\n",
       "        text-align: right;\n",
       "    }\n",
       "</style>\n",
       "<table border=\"1\" class=\"dataframe\">\n",
       "  <thead>\n",
       "    <tr style=\"text-align: right;\">\n",
       "      <th></th>\n",
       "      <th>ECT: ethnicity Queries average of abs values score</th>\n",
       "    </tr>\n",
       "    <tr>\n",
       "      <th>model_name</th>\n",
       "      <th></th>\n",
       "    </tr>\n",
       "  </thead>\n",
       "  <tbody>\n",
       "    <tr>\n",
       "      <th>fasttext_wiki</th>\n",
       "      <td>0.835574</td>\n",
       "    </tr>\n",
       "    <tr>\n",
       "      <th>fasttext_wiki_subwords</th>\n",
       "      <td>0.837477</td>\n",
       "    </tr>\n",
       "    <tr>\n",
       "      <th>fasttext_cc</th>\n",
       "      <td>0.805789</td>\n",
       "    </tr>\n",
       "    <tr>\n",
       "      <th>fasttext_cc_subwords</th>\n",
       "      <td>0.828197</td>\n",
       "    </tr>\n",
       "    <tr>\n",
       "      <th>debiased_w2v</th>\n",
       "      <td>0.797371</td>\n",
       "    </tr>\n",
       "  </tbody>\n",
       "</table>\n",
       "</div>"
      ],
      "text/plain": [
       "                        ECT: ethnicity Queries average of abs values score\n",
       "model_name                                                                \n",
       "fasttext_wiki                                                    0.835574 \n",
       "fasttext_wiki_subwords                                           0.837477 \n",
       "fasttext_cc                                                      0.805789 \n",
       "fasttext_cc_subwords                                             0.828197 \n",
       "debiased_w2v                                                     0.797371 "
      ]
     },
     "execution_count": 21,
     "metadata": {},
     "output_type": "execute_result"
    }
   ],
   "source": [
    "ECT_ethnicity_results"
   ]
  }
 ],
 "metadata": {
  "kernelspec": {
   "display_name": "env_py_39",
   "language": "python",
   "name": "env_py_39"
  },
  "language_info": {
   "codemirror_mode": {
    "name": "ipython",
    "version": 3
   },
   "file_extension": ".py",
   "mimetype": "text/x-python",
   "name": "python",
   "nbconvert_exporter": "python",
   "pygments_lexer": "ipython3",
   "version": "3.8.10"
  }
 },
 "nbformat": 4,
 "nbformat_minor": 4
}
