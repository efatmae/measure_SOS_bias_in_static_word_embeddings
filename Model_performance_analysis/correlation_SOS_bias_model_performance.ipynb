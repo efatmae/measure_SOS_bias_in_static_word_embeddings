{
 "cells": [
  {
   "cell_type": "code",
   "execution_count": 3,
   "id": "1b8299f0",
   "metadata": {},
   "outputs": [],
   "source": [
    "from scipy.stats import *\n",
    "import pandas as pd"
   ]
  },
  {
   "cell_type": "code",
   "execution_count": 4,
   "id": "0e46a59b",
   "metadata": {},
   "outputs": [],
   "source": [
    "mean_sos = pd.read_csv(\"../Bias_scores/SOS_bias_scores_swear_list_2.csv\",index_col=False)[\"mean_SOS_min\"].values.tolist()"
   ]
  },
  {
   "cell_type": "code",
   "execution_count": 5,
   "id": "9654bca7",
   "metadata": {},
   "outputs": [],
   "source": [
    "WEAT_SOS =  pd.read_csv(\"../Bias_scores/WEAT_bias_scores.csv\",index_col=False)[\"WEAT_SOS \"].values.tolist()"
   ]
  },
  {
   "cell_type": "code",
   "execution_count": 6,
   "id": "05124f48",
   "metadata": {},
   "outputs": [],
   "source": [
    "RNSB_SOS  =  pd.read_csv(\"../Bias_scores/RNSB_bias_scores.csv\",index_col=False)[\"RNSB_SOS \"].values.tolist()"
   ]
  },
  {
   "cell_type": "code",
   "execution_count": 7,
   "id": "d97f9e4d",
   "metadata": {},
   "outputs": [],
   "source": [
    "RND_SOS  =  pd.read_csv(\"../Bias_scores/RND_bias_scores.csv\",index_col=False)[\"RND_SOS \"].values.tolist()"
   ]
  },
  {
   "cell_type": "code",
   "execution_count": 8,
   "id": "f8956539",
   "metadata": {},
   "outputs": [],
   "source": [
    "ECT_SOS =  pd.read_csv(\"../Bias_scores/ECT_bias_scores.csv\",index_col=False)[\"ECT_SOS_reversed\"].values.tolist()"
   ]
  },
  {
   "cell_type": "code",
   "execution_count": 9,
   "id": "e3f3d2f0",
   "metadata": {},
   "outputs": [
    {
     "data": {
      "text/plain": [
       "Index(['word embeddings', 'HateEval_MLP', 'HateEval_BiLSTM',\n",
       "       'Twitter_Hate_MLP', 'Twitter_Hate_BiLSTM', 'Twitter_racism_MLP',\n",
       "       'Twitter_racism_BiLSTM', 'Twitter_sexism_MLP', 'Twitter_sexism_BiLSTM'],\n",
       "      dtype='object')"
      ]
     },
     "execution_count": 9,
     "metadata": {},
     "output_type": "execute_result"
    }
   ],
   "source": [
    "pd.read_csv(\"./models_performances.csv\",index_col=False).columns"
   ]
  },
  {
   "cell_type": "code",
   "execution_count": 10,
   "id": "f9b6c7d0",
   "metadata": {},
   "outputs": [],
   "source": [
    "F1_HateEval_ds_bilstm = pd.read_csv(\"./models_performances.csv\",index_col=False)[\"HateEval_BiLSTM\"].values.tolist()\n",
    "F1_HateEval_ds_mlp = pd.read_csv(\"./models_performances.csv\",index_col=False)[\"HateEval_MLP\"].values.tolist()\n",
    "F1_twitter_racism_ds_bilsmt = pd.read_csv(\"./models_performances.csv\",index_col=False)[\"Twitter_racism_BiLSTM\"].values.tolist()\n",
    "F1_twitter_racism_ds_mlp = pd.read_csv(\"./models_performances.csv\",index_col=False)[\"Twitter_racism_MLP\"].values.tolist()\n",
    "F1_twitter_hate_ds_bilsmt = pd.read_csv(\"./models_performances.csv\",index_col=False)[\"Twitter_Hate_BiLSTM\"].values.tolist()\n",
    "F1_twitter_hate_ds_mlp = pd.read_csv(\"./models_performances.csv\",index_col=False)[\"Twitter_Hate_MLP\"].values.tolist()\n",
    "F1_Twitter_sex_ds_bilstm = pd.read_csv(\"./models_performances.csv\",index_col=False)[\"Twitter_sexism_BiLSTM\"].values.tolist()\n",
    "F1_Twitter_sex_ds_mlp= pd.read_csv(\"./models_performances.csv\",index_col=False)[\"Twitter_sexism_MLP\"].values.tolist()"
   ]
  },
  {
   "cell_type": "code",
   "execution_count": 11,
   "id": "2677ba0c",
   "metadata": {},
   "outputs": [
    {
     "data": {
      "text/plain": [
       "[0.41828001216054,\n",
       " 0.464788318872452,\n",
       " 0.520614901185036,\n",
       " 0.466348956525326,\n",
       " 0.597711027264595,\n",
       " 0.493937849998474,\n",
       " 0.453620858639479,\n",
       " 0.439120583683252,\n",
       " 0.480555731207132,\n",
       " 0.496258065104485,\n",
       " 0.632133133411407,\n",
       " 0.569212704002857,\n",
       " 0.386875107437372,\n",
       " 0.434604221284389,\n",
       " 0.431093449890614]"
      ]
     },
     "execution_count": 11,
     "metadata": {},
     "output_type": "execute_result"
    }
   ],
   "source": [
    "mean_sos"
   ]
  },
  {
   "cell_type": "code",
   "execution_count": 12,
   "id": "e30ea924",
   "metadata": {},
   "outputs": [
    {
     "name": "stdout",
     "output_type": "stream",
     "text": [
      "F1_HateEval_ds_mlp SpearmanrResult(correlation=0.08952583766226677, pvalue=0.7510241328314395)\n",
      "F1_HateEval_ds_bilstm SpearmanrResult(correlation=-0.1504034072726082, pvalue=0.5926260355200303)\n",
      "\n",
      "\n",
      "F1_Twitter_sex_ds_mlp SpearmanrResult(correlation=-0.08757822978764203, pvalue=0.7562875139756577)\n",
      "F1_Twitter_sex_ds_bilstm SpearmanrResult(correlation=0.04651170233028495, pvalue=0.8692596970313093)\n",
      "\n",
      "\n",
      "F1_twitter_racism_ds_mlp SpearmanrResult(correlation=-0.04472279070219706, pvalue=0.8742506172043029)\n",
      "F1_twitter_racism_ds_bilsmt SpearmanrResult(correlation=-0.20357142857142854, pvalue=0.46679507248911234)\n",
      "\n",
      "\n",
      "F1_twitter_hate_ds_mlp SpearmanrResult(correlation=0.16800721632731325, pvalue=0.5494936930844679)\n",
      "F1_twitter_hate_ds_bilsmt SpearmanrResult(correlation=0.2928571428571428, pvalue=0.289471667212401)\n"
     ]
    }
   ],
   "source": [
    "print(\"F1_HateEval_ds_mlp\",spearmanr(mean_sos, F1_HateEval_ds_mlp))\n",
    "print(\"F1_HateEval_ds_bilstm\",spearmanr(mean_sos, F1_HateEval_ds_bilstm))\n",
    "\n",
    "print(\"\\n\")\n",
    "print(\"F1_Twitter_sex_ds_mlp\",spearmanr(mean_sos, F1_Twitter_sex_ds_mlp))\n",
    "print(\"F1_Twitter_sex_ds_bilstm\",spearmanr(mean_sos, F1_Twitter_sex_ds_bilstm))\n",
    "\n",
    "print(\"\\n\")\n",
    "print(\"F1_twitter_racism_ds_mlp\",spearmanr(mean_sos, F1_twitter_racism_ds_mlp))\n",
    "print(\"F1_twitter_racism_ds_bilsmt\",spearmanr(mean_sos, F1_twitter_racism_ds_bilsmt))\n",
    "\n",
    "print(\"\\n\")\n",
    "print(\"F1_twitter_hate_ds_mlp\",spearmanr(mean_sos, F1_twitter_hate_ds_mlp))\n",
    "print(\"F1_twitter_hate_ds_bilsmt\",spearmanr(mean_sos, F1_twitter_hate_ds_bilsmt))\n"
   ]
  },
  {
   "cell_type": "code",
   "execution_count": 14,
   "id": "45872ec0",
   "metadata": {},
   "outputs": [
    {
     "name": "stdout",
     "output_type": "stream",
     "text": [
      "F1_HateEval_ds_mlp (-0.05345766245101631, 0.8499259685065298)\n",
      "F1_HateEval_ds_bilstm (-0.09171516927052271, 0.745119644814115)\n",
      "\n",
      "\n",
      "F1_Twitter_sex_ds_mlp (-0.6417647578052557, 0.009905229026357841)\n",
      "F1_Twitter_sex_ds_bilstm (-0.479070887182937, 0.07079427259510748)\n",
      "\n",
      "\n",
      "F1_twitter_racism_ds_mlp (-0.6913219166981716, 0.004310296152107229)\n",
      "F1_twitter_racism_ds_bilsmt (-0.5347599780498652, 0.03998769407725335)\n",
      "\n",
      "\n",
      "F1_twitter_hate_ds_mlp (-0.45098687387892245, 0.09155750818064756)\n",
      "F1_twitter_hate_ds_bilsmt (-0.16106906322897918, 0.5663299868835482)\n"
     ]
    }
   ],
   "source": [
    "\n",
    "print(\"F1_HateEval_ds_mlp\",pearsonr(WEAT_SOS, F1_HateEval_ds_mlp))\n",
    "print(\"F1_HateEval_ds_bilstm\",pearsonr(WEAT_SOS, F1_HateEval_ds_bilstm))\n",
    "\n",
    "print(\"\\n\")\n",
    "\n",
    "print(\"F1_Twitter_sex_ds_mlp\",pearsonr(WEAT_SOS, F1_Twitter_sex_ds_mlp))\n",
    "print(\"F1_Twitter_sex_ds_bilstm\",pearsonr(WEAT_SOS, F1_Twitter_sex_ds_bilstm))\n",
    "\n",
    "print(\"\\n\")\n",
    "\n",
    "print(\"F1_twitter_racism_ds_mlp\",pearsonr(WEAT_SOS, F1_twitter_racism_ds_mlp))\n",
    "print(\"F1_twitter_racism_ds_bilsmt\",pearsonr(WEAT_SOS, F1_twitter_racism_ds_bilsmt))\n",
    "print(\"\\n\")\n",
    "\n",
    "print(\"F1_twitter_hate_ds_mlp\",pearsonr(WEAT_SOS, F1_twitter_hate_ds_mlp))\n",
    "print(\"F1_twitter_hate_ds_bilsmt\",pearsonr(WEAT_SOS, F1_twitter_hate_ds_bilsmt))\n",
    "\n"
   ]
  },
  {
   "cell_type": "code",
   "execution_count": 13,
   "id": "5a758d49",
   "metadata": {},
   "outputs": [
    {
     "name": "stdout",
     "output_type": "stream",
     "text": [
      "F1_HateEval_ds_mlp SpearmanrResult(correlation=0.22381459415566696, pvalue=0.42262243884985606)\n",
      "F1_HateEval_ds_bilstm SpearmanrResult(correlation=0.5407360594800913, pvalue=0.03740713987268723)\n",
      "\n",
      "\n",
      "F1_Twitter_sex_ds_mlp SpearmanrResult(correlation=0.030384283803875804, pvalue=0.9143983105197492)\n",
      "F1_Twitter_sex_ds_bilstm SpearmanrResult(correlation=0.2665478325850945, pvalue=0.3369021308906096)\n",
      "\n",
      "\n",
      "F1_twitter_racism_ds_mlp SpearmanrResult(correlation=0.017889116280878824, pvalue=0.9495452312876004)\n",
      "F1_twitter_racism_ds_bilsmt SpearmanrResult(correlation=0.1357142857142857, pvalue=0.6296204418728145)\n",
      "\n",
      "\n",
      "F1_twitter_hate_ds_mlp SpearmanrResult(correlation=0.21805191906310872, pvalue=0.43497209127042924)\n",
      "F1_twitter_hate_ds_bilsmt SpearmanrResult(correlation=0.475, pvalue=0.07357086204591354)\n"
     ]
    }
   ],
   "source": [
    "print(\"F1_HateEval_ds_mlp\",spearmanr(RNSB_SOS, F1_HateEval_ds_mlp))\n",
    "print(\"F1_HateEval_ds_bilstm\",spearmanr(RNSB_SOS, F1_HateEval_ds_bilstm))\n",
    "print(\"\\n\")\n",
    "print(\"F1_Twitter_sex_ds_mlp\",spearmanr(RNSB_SOS, F1_Twitter_sex_ds_mlp))\n",
    "print(\"F1_Twitter_sex_ds_bilstm\",spearmanr(RNSB_SOS, F1_Twitter_sex_ds_bilstm))\n",
    "print(\"\\n\")\n",
    "print(\"F1_twitter_racism_ds_mlp\",spearmanr(RNSB_SOS, F1_twitter_racism_ds_mlp))\n",
    "print(\"F1_twitter_racism_ds_bilsmt\",spearmanr(RNSB_SOS, F1_twitter_racism_ds_bilsmt))\n",
    "print(\"\\n\")\n",
    "print(\"F1_twitter_hate_ds_mlp\",spearmanr(RNSB_SOS, F1_twitter_hate_ds_mlp))\n",
    "print(\"F1_twitter_hate_ds_bilsmt\",spearmanr(RNSB_SOS, F1_twitter_hate_ds_bilsmt))\n"
   ]
  },
  {
   "cell_type": "code",
   "execution_count": 14,
   "id": "7e130e2a",
   "metadata": {},
   "outputs": [
    {
     "name": "stdout",
     "output_type": "stream",
     "text": [
      "F1_HateEval_ds_mlp SpearmanrResult(correlation=-0.10026893818173879, pvalue=0.7221792843691464)\n",
      "F1_HateEval_ds_bilstm SpearmanrResult(correlation=0.09489738792200278, pvalue=0.7365609070130484)\n",
      "\n",
      "\n",
      "F1_Twitter_sex_ds_mlp SpearmanrResult(correlation=-0.21626460825111604, pvalue=0.438839173807695)\n",
      "F1_Twitter_sex_ds_bilstm SpearmanrResult(correlation=0.0930234046605699, pvalue=0.7415976693142499)\n",
      "\n",
      "\n",
      "F1_twitter_racism_ds_mlp SpearmanrResult(correlation=-0.33631538608052186, pvalue=0.22033383336138096)\n",
      "F1_twitter_racism_ds_bilsmt SpearmanrResult(correlation=-0.21071428571428572, pvalue=0.450957865215285)\n",
      "\n",
      "\n",
      "F1_twitter_hate_ds_mlp SpearmanrResult(correlation=-0.16443259470332788, pvalue=0.5581408249113964)\n",
      "F1_twitter_hate_ds_bilsmt SpearmanrResult(correlation=0.28928571428571426, pvalue=0.29566536100437785)\n"
     ]
    }
   ],
   "source": [
    "print(\"F1_HateEval_ds_mlp\",spearmanr(RND_SOS, F1_HateEval_ds_mlp))\n",
    "print(\"F1_HateEval_ds_bilstm\",spearmanr(RND_SOS, F1_HateEval_ds_bilstm))\n",
    "print(\"\\n\")\n",
    "print(\"F1_Twitter_sex_ds_mlp\",spearmanr(RND_SOS, F1_Twitter_sex_ds_mlp))\n",
    "print(\"F1_Twitter_sex_ds_bilstm\",spearmanr(RND_SOS, F1_Twitter_sex_ds_bilstm))\n",
    "print(\"\\n\")\n",
    "print(\"F1_twitter_racism_ds_mlp\",spearmanr(RND_SOS, F1_twitter_racism_ds_mlp))\n",
    "print(\"F1_twitter_racism_ds_bilsmt\",spearmanr(RND_SOS, F1_twitter_racism_ds_bilsmt))\n",
    "print(\"\\n\")\n",
    "print(\"F1_twitter_hate_ds_mlp\",spearmanr(RND_SOS, F1_twitter_hate_ds_mlp))\n",
    "print(\"F1_twitter_hate_ds_bilsmt\",spearmanr(RND_SOS, F1_twitter_hate_ds_bilsmt))"
   ]
  },
  {
   "cell_type": "code",
   "execution_count": 15,
   "id": "030b5b28",
   "metadata": {},
   "outputs": [
    {
     "name": "stdout",
     "output_type": "stream",
     "text": [
      "F1_HateEval_ds_mlp SpearmanrResult(correlation=0.01969568428569869, pvalue=0.9444568685217105)\n",
      "F1_HateEval_ds_bilstm SpearmanrResult(correlation=-0.030438784805170704, pvalue=0.9142452855099457)\n",
      "\n",
      "\n",
      "F1_Twitter_sex_ds_mlp SpearmanrResult(correlation=-0.03932083786383928, pvalue=0.8893476476289428)\n",
      "F1_Twitter_sex_ds_bilstm SpearmanrResult(correlation=-0.3613601488737523, pvalue=0.18570888265189306)\n",
      "\n",
      "\n",
      "F1_twitter_racism_ds_mlp SpearmanrResult(correlation=-0.2236139535109853, pvalue=0.42304935831422086)\n",
      "F1_twitter_racism_ds_bilsmt SpearmanrResult(correlation=-0.10357142857142855, pvalue=0.7133796306287292)\n",
      "\n",
      "\n",
      "F1_twitter_hate_ds_mlp SpearmanrResult(correlation=-0.14834679739539364, pvalue=0.5977525082112933)\n",
      "F1_twitter_hate_ds_bilsmt SpearmanrResult(correlation=-0.2178571428571428, pvalue=0.43539267351553756)\n"
     ]
    }
   ],
   "source": [
    "print(\"F1_HateEval_ds_mlp\",spearmanr(ECT_SOS, F1_HateEval_ds_mlp))\n",
    "print(\"F1_HateEval_ds_bilstm\",spearmanr(ECT_SOS, F1_HateEval_ds_bilstm))\n",
    "\n",
    "print(\"\\n\")\n",
    "print(\"F1_Twitter_sex_ds_mlp\",spearmanr(ECT_SOS, F1_Twitter_sex_ds_mlp))\n",
    "print(\"F1_Twitter_sex_ds_bilstm\",spearmanr(ECT_SOS, F1_Twitter_sex_ds_bilstm))\n",
    "\n",
    "print(\"\\n\")\n",
    "print(\"F1_twitter_racism_ds_mlp\",spearmanr(ECT_SOS, F1_twitter_racism_ds_mlp))\n",
    "print(\"F1_twitter_racism_ds_bilsmt\",spearmanr(ECT_SOS, F1_twitter_racism_ds_bilsmt))\n",
    "\n",
    "print(\"\\n\")\n",
    "print(\"F1_twitter_hate_ds_mlp\",spearmanr(ECT_SOS, F1_twitter_hate_ds_mlp))\n",
    "print(\"F1_twitter_hate_ds_bilsmt\",spearmanr(ECT_SOS, F1_twitter_hate_ds_bilsmt))\n",
    "\n",
    "\n"
   ]
  },
  {
   "cell_type": "code",
   "execution_count": null,
   "id": "775102a0",
   "metadata": {},
   "outputs": [],
   "source": []
  },
  {
   "cell_type": "code",
   "execution_count": null,
   "id": "7088dd0b",
   "metadata": {},
   "outputs": [],
   "source": []
  }
 ],
 "metadata": {
  "kernelspec": {
   "display_name": "env_py_39",
   "language": "python",
   "name": "env_py_39"
  },
  "language_info": {
   "codemirror_mode": {
    "name": "ipython",
    "version": 3
   },
   "file_extension": ".py",
   "mimetype": "text/x-python",
   "name": "python",
   "nbconvert_exporter": "python",
   "pygments_lexer": "ipython3",
   "version": "3.8.10"
  }
 },
 "nbformat": 4,
 "nbformat_minor": 5
}
