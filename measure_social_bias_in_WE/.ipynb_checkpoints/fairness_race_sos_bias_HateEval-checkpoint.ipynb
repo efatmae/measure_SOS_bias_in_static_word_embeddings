{
 "cells": [
  {
   "cell_type": "code",
   "execution_count": 1,
   "id": "becbc0e8",
   "metadata": {},
   "outputs": [],
   "source": [
    "#from wefe.datasets.datasets import load_weat, fetch_eds, fetch_debias_multiclass, fetch_debiaswe, load_bingliu\n",
    "import pandas as pd\n",
    "import numpy as np\n",
    "import matplotlib.pyplot as plt\n",
    "import numpy as np\n",
    "import random\n",
    "from sklearn.metrics import confusion_matrix,f1_score"
   ]
  },
  {
   "cell_type": "code",
   "execution_count": 2,
   "id": "d9b1424e",
   "metadata": {},
   "outputs": [],
   "source": [
    "import scipy.stats as ss"
   ]
  },
  {
   "cell_type": "code",
   "execution_count": 3,
   "id": "cc44ad74",
   "metadata": {},
   "outputs": [],
   "source": [
    "Twitter_sexism_test_Set = pd.read_csv(\"../../Data/Hate speech datasets/Twitter_hateSpeech_DAvidson/Twitter_hate_data_test.csv\")"
   ]
  },
  {
   "cell_type": "code",
   "execution_count": 4,
   "id": "fb83b336",
   "metadata": {},
   "outputs": [],
   "source": [
    "Twitter_sexism_test_Set = Twitter_sexism_test_Set.dropna()"
   ]
  },
  {
   "cell_type": "code",
   "execution_count": 5,
   "id": "d1569eb6",
   "metadata": {},
   "outputs": [
    {
     "data": {
      "text/plain": [
       "4005"
      ]
     },
     "execution_count": 5,
     "metadata": {},
     "output_type": "execute_result"
    }
   ],
   "source": [
    "len(Twitter_sexism_test_Set)"
   ]
  },
  {
   "cell_type": "code",
   "execution_count": 6,
   "id": "b10cbc80",
   "metadata": {},
   "outputs": [
    {
     "data": {
      "text/plain": [
       "Index(['index', 'id', 'Text', 'Annotation', 'oh_label', 'Text_clean_for_BERT',\n",
       "       'Text_clean', 'LSTM_prediction', 'BiLSTM_prediction',\n",
       "       'BERT_prediction_no_stem', 'NFT_BERT_prediction',\n",
       "       'BERT_NFT_Twitter_racism_clean_text_64',\n",
       "       'BERT_FT_diverse_ds_generlization', 'LR_prediction', 'MLP_prediction',\n",
       "       'Bilstm_prediction_chan_trainable_False',\n",
       "       'Bilstm_prediction_w2v_news_trainable_False',\n",
       "       'Bilstm_prediction_glove_wk_trainable_False',\n",
       "       'Bilstm_prediction_ud_trainable_False',\n",
       "       'Bilstm_prediction_glove_twitter_trainable_False',\n",
       "       'MLP_prediction_chan_trainable_False',\n",
       "       'MLP_prediction_w2v_news_trainable_False',\n",
       "       'MLP_prediction_glove_wk_trainable_False',\n",
       "       'MLP_prediction_ud_trainable_False',\n",
       "       'MLP_prediction_glove_twitter_trainable_False'],\n",
       "      dtype='object')"
      ]
     },
     "execution_count": 6,
     "metadata": {},
     "output_type": "execute_result"
    }
   ],
   "source": [
    "Twitter_sexism_test_Set.columns"
   ]
  },
  {
   "cell_type": "code",
   "execution_count": 7,
   "id": "4c17cce2",
   "metadata": {},
   "outputs": [],
   "source": [
    "female_terms = ['african', 'african american', 'black', 'asian','hispanic', 'latin', 'mexican', 'indian', 'arab']\n",
    "male_terms = ['white','caucasian',' european american',\n",
    "              'european', 'norwegian', 'canadian', 'german','australian',\n",
    "              'english','french', 'american', 'swedish', 'dutch']"
   ]
  },
  {
   "cell_type": "code",
   "execution_count": 8,
   "id": "92457af5",
   "metadata": {},
   "outputs": [],
   "source": [
    "def find_list_of_words_in_df(df, slur_list, text_col):\n",
    "  ps_in_hateEval = []\n",
    "  for i in slur_list: \n",
    "    if  df[text_col].str.contains(\" \"+i+\" \").any() == True or df[text_col].str.contains(i+\" \").any() == True or df[text_col].str.contains(\" \"+i).any() == True:\n",
    "      print(\"terms found \"+ i)  \n",
    "      ps_mid = df[df[text_col].str.contains(\" \"+i+\" \")]\n",
    "      ps_start = df[df[text_col].str.contains(i+\" \")]\n",
    "      ps_end = df[df[text_col].str.contains(\" \"+i)]\n",
    "      #if ps.index not in ps_in_hateEval:\n",
    "      ps_in_hateEval.append(ps_mid)\n",
    "      ps_in_hateEval.append(ps_start)\n",
    "      ps_in_hateEval.append(ps_end)\n",
    "\n",
    "  ps_in_hateEval_df = pd.concat(ps_in_hateEval).drop_duplicates(subset=[\"Text_clean\"])\n",
    "  return ps_in_hateEval_df\n",
    "\n",
    "\n",
    "def find_FPR_and_TPR(y_true, y_pred):\n",
    "    TN, FP, FN, TP = confusion_matrix(y_true, y_pred, labels=[0, 1]).ravel()\n",
    "\n",
    "    TPR = TP/(TP+FN)\n",
    "    # Specificity or true negative rate\n",
    "    TNR = TN/(TN+FP) \n",
    "    # Precision or positive predictive value\n",
    "    PPV = TP/(TP+FP)\n",
    "    # Negative predictive value\n",
    "    NPV = TN/(TN+FN)\n",
    "    # Fall out or false positive rate\n",
    "    FPR = FP/(FP+TN)\n",
    "    # False negative rate\n",
    "    FNR = FN/(TP+FN)\n",
    "    # False discovery rate\n",
    "    FDR = FP/(TP+FP)\n",
    "\n",
    "    return FPR, FNR, TPR, TNR"
   ]
  },
  {
   "cell_type": "code",
   "execution_count": 9,
   "id": "8e0fdecb",
   "metadata": {},
   "outputs": [
    {
     "name": "stdout",
     "output_type": "stream",
     "text": [
      "terms found african\n",
      "terms found black\n",
      "terms found asian\n",
      "terms found hispanic\n",
      "terms found mexican\n",
      "terms found indian\n",
      "terms found arab\n"
     ]
    }
   ],
   "source": [
    "Twitter_sexism_test_Set_women_terms = find_list_of_words_in_df(Twitter_sexism_test_Set, female_terms, \"Text_clean\")"
   ]
  },
  {
   "cell_type": "code",
   "execution_count": 10,
   "id": "dfe597fb",
   "metadata": {},
   "outputs": [
    {
     "name": "stdout",
     "output_type": "stream",
     "text": [
      "terms found white\n",
      "terms found european\n",
      "terms found canadian\n",
      "terms found german\n",
      "terms found australian\n",
      "terms found english\n",
      "terms found french\n",
      "terms found american\n"
     ]
    }
   ],
   "source": [
    "Twitter_sexism_test_Set_men_terms = find_list_of_words_in_df(Twitter_sexism_test_Set, male_terms, \"Text_clean\")"
   ]
  },
  {
   "cell_type": "code",
   "execution_count": 11,
   "id": "32fddcd6",
   "metadata": {},
   "outputs": [
    {
     "data": {
      "text/plain": [
       "(58, 72)"
      ]
     },
     "execution_count": 11,
     "metadata": {},
     "output_type": "execute_result"
    }
   ],
   "source": [
    "len(Twitter_sexism_test_Set_women_terms), len(Twitter_sexism_test_Set_men_terms)"
   ]
  },
  {
   "cell_type": "code",
   "execution_count": 12,
   "id": "906e8717",
   "metadata": {},
   "outputs": [],
   "source": [
    "Twitter_sexism_test_Set_men_terms = Twitter_sexism_test_Set_men_terms[~Twitter_sexism_test_Set_men_terms[\"Text_clean\"].isin(Twitter_sexism_test_Set_women_terms[\"Text_clean\"])]"
   ]
  },
  {
   "cell_type": "code",
   "execution_count": 13,
   "id": "21e7e01c",
   "metadata": {},
   "outputs": [
    {
     "data": {
      "text/plain": [
       "(58, 64)"
      ]
     },
     "execution_count": 13,
     "metadata": {},
     "output_type": "execute_result"
    }
   ],
   "source": [
    "len(Twitter_sexism_test_Set_women_terms), len(Twitter_sexism_test_Set_men_terms)"
   ]
  },
  {
   "cell_type": "markdown",
   "id": "4c29d1d2",
   "metadata": {},
   "source": [
    "# Find fairness metric (Error Rate Equality Difference) in LR"
   ]
  },
  {
   "cell_type": "code",
   "execution_count": 14,
   "id": "6fea7540",
   "metadata": {},
   "outputs": [],
   "source": [
    "#FPR anf FNR in the entire test set\n",
    "y_actual = Twitter_sexism_test_Set[\"oh_label\"].values\n",
    "y_predict_LR = np.rint(Twitter_sexism_test_Set[\"LR_prediction\"].values)\n",
    "\n",
    "LR_FPR, BiLstm_glove_wk_FNR, LR_TPR, BiLstm_glove_wk_TNR = find_FPR_and_TPR(y_actual, y_predict_LR)"
   ]
  },
  {
   "cell_type": "code",
   "execution_count": 15,
   "id": "c4f328e7",
   "metadata": {},
   "outputs": [
    {
     "data": {
      "text/plain": [
       "(0.031103286384976527, 0.5896147403685092)"
      ]
     },
     "execution_count": 15,
     "metadata": {},
     "output_type": "execute_result"
    }
   ],
   "source": [
    "LR_FPR, LR_TPR"
   ]
  },
  {
   "cell_type": "code",
   "execution_count": 16,
   "id": "8cc5eef8",
   "metadata": {},
   "outputs": [
    {
     "name": "stdout",
     "output_type": "stream",
     "text": [
      "F1 scores 0.6672985781990521\n"
     ]
    }
   ],
   "source": [
    "print(\"F1 scores\", f1_score(y_actual, y_predict_LR))"
   ]
  },
  {
   "cell_type": "code",
   "execution_count": 17,
   "id": "e540b8dc",
   "metadata": {},
   "outputs": [
    {
     "name": "stdout",
     "output_type": "stream",
     "text": [
      "FPR women 0.13157894736842105\n",
      "TPR women 0.7\n",
      "FPR men 0.0\n",
      "TPR men 0.5454545454545454\n",
      "FPR difference between women and men 0.13157894736842105\n",
      "TPR difference between women and men 0.15454545454545454\n"
     ]
    }
   ],
   "source": [
    "#FPR anf FNR in for women related identities\n",
    "y_women_actual = Twitter_sexism_test_Set_women_terms[\"oh_label\"].values\n",
    "y_women_LR_predict = np.rint(Twitter_sexism_test_Set_women_terms[\"LR_prediction\"].values)\n",
    "LR_women_FPR, LR_women_FNR, LR_women_TPR, LR_women_TNR = find_FPR_and_TPR(y_women_actual, y_women_LR_predict)\n",
    "print(\"FPR women\", LR_women_FPR)\n",
    "print(\"TPR women\", LR_women_TPR)\n",
    "\n",
    "\n",
    "#FPR anf FNR in for men related identities\n",
    "y_men_actual = Twitter_sexism_test_Set_men_terms[\"oh_label\"].values\n",
    "y_men_LR_predict = np.rint(Twitter_sexism_test_Set_men_terms[\"LR_prediction\"].values)\n",
    "LR_men_FPR, LR_men_FNR, LR_men_TPR, BLR_men_TNR = find_FPR_and_TPR(y_men_actual, y_men_LR_predict)\n",
    "print(\"FPR men\", LR_men_FPR)\n",
    "print(\"TPR men\", LR_men_TPR)\n",
    "\n",
    "\n",
    "print(\"FPR difference between women and men\", LR_women_FPR - LR_men_FPR)\n",
    "print(\"TPR difference between women and men\", LR_women_TPR - LR_men_TPR)"
   ]
  },
  {
   "cell_type": "code",
   "execution_count": 18,
   "id": "525d6572",
   "metadata": {},
   "outputs": [
    {
     "name": "stdout",
     "output_type": "stream",
     "text": [
      "F1_women 0.717948717948718\n"
     ]
    }
   ],
   "source": [
    "print(\"F1_women\", f1_score(y_women_actual, y_women_LR_predict))"
   ]
  },
  {
   "cell_type": "code",
   "execution_count": 19,
   "id": "5ed48890",
   "metadata": {},
   "outputs": [
    {
     "name": "stdout",
     "output_type": "stream",
     "text": [
      "F1_men 0.7058823529411764\n"
     ]
    }
   ],
   "source": [
    "print(\"F1_men\", f1_score(y_men_actual, y_men_LR_predict))"
   ]
  },
  {
   "cell_type": "markdown",
   "id": "4fb06845",
   "metadata": {},
   "source": [
    "# Bi-LSTM"
   ]
  },
  {
   "cell_type": "markdown",
   "id": "5732b98b",
   "metadata": {},
   "source": [
    "### Find fairness metric (Error Rate Equality Difference) in Bi-LSTM abd w2v"
   ]
  },
  {
   "cell_type": "code",
   "execution_count": 20,
   "id": "b95e5cab",
   "metadata": {},
   "outputs": [],
   "source": [
    "#Using the identity phrase test set, we calculate the false positive\n",
    "#rate, FPR and false negative rate, FN R on the entire test set, as\n",
    "#well as these same metrics on each subset of the data containing\n",
    "#each specific identity term, FPRt and FN Rt\n",
    "#. A more fair model\n",
    "#will have similar values across all terms, approaching the equality\n",
    "#of odds ideal, where FPR = FPRt and FN R = FN Rt for all terms\n",
    "#t. Wide variation among these values across terms indicates high\n",
    "#unintended bias\n",
    "\n",
    "#FPR anf FNR in the entire test set\n",
    "y_actual = Twitter_sexism_test_Set[\"oh_label\"].values\n",
    "y_predict_Bilstm_w2v = np.rint(Twitter_sexism_test_Set[\"Bilstm_prediction_w2v_news_trainable_False\"].values)\n",
    "\n",
    "BiLstm_w2v_FPR, BiLstm_w2v_FNR, BiLstm_w2v_TPR, BiLstm_w2v_TNR = find_FPR_and_TPR(y_actual, y_predict_Bilstm_w2v)\n"
   ]
  },
  {
   "cell_type": "code",
   "execution_count": 21,
   "id": "e504a127",
   "metadata": {},
   "outputs": [
    {
     "data": {
      "text/plain": [
       "(0.043133802816901406, 0.6666666666666666)"
      ]
     },
     "execution_count": 21,
     "metadata": {},
     "output_type": "execute_result"
    }
   ],
   "source": [
    "BiLstm_w2v_FPR, BiLstm_w2v_TPR"
   ]
  },
  {
   "cell_type": "code",
   "execution_count": 22,
   "id": "233656b5",
   "metadata": {},
   "outputs": [
    {
     "name": "stdout",
     "output_type": "stream",
     "text": [
      "F1 score 0.6970227670753065\n"
     ]
    }
   ],
   "source": [
    "print(\"F1 score\", f1_score(y_actual, y_predict_Bilstm_w2v))"
   ]
  },
  {
   "cell_type": "code",
   "execution_count": 23,
   "id": "21ea6d63",
   "metadata": {},
   "outputs": [],
   "source": [
    "#FPR anf FNR in for women related identities\n",
    "y_women_actual = Twitter_sexism_test_Set_women_terms[\"oh_label\"].values\n",
    "y_women_predict_w2v = np.rint(Twitter_sexism_test_Set_women_terms[\"Bilstm_prediction_w2v_news_trainable_False\"].values)\n",
    "\n",
    "BiLstm_w2v_women_FPR, BiLstm_w2v_women_FNR, BiLstm_w2v_women_TPR, BiLstm_w2v_women_TNR = find_FPR_and_TPR(y_women_actual, y_women_predict_w2v)"
   ]
  },
  {
   "cell_type": "code",
   "execution_count": 24,
   "id": "8863f574",
   "metadata": {},
   "outputs": [
    {
     "data": {
      "text/plain": [
       "(0.15789473684210525, 0.55)"
      ]
     },
     "execution_count": 24,
     "metadata": {},
     "output_type": "execute_result"
    }
   ],
   "source": [
    "BiLstm_w2v_women_FPR, BiLstm_w2v_women_TPR"
   ]
  },
  {
   "cell_type": "code",
   "execution_count": 25,
   "id": "72ba67e0",
   "metadata": {},
   "outputs": [
    {
     "name": "stdout",
     "output_type": "stream",
     "text": [
      "F1_women 0.5945945945945946\n"
     ]
    }
   ],
   "source": [
    "print(\"F1_women\", f1_score(y_women_actual, y_women_predict_w2v))"
   ]
  },
  {
   "cell_type": "code",
   "execution_count": 26,
   "id": "c462ffbd",
   "metadata": {},
   "outputs": [],
   "source": [
    "#FPR anf FNR in for men related identities\n",
    "y_men_actual = Twitter_sexism_test_Set_men_terms[\"oh_label\"].values\n",
    "y_men_predict_w2v = np.rint(Twitter_sexism_test_Set_men_terms[\"Bilstm_prediction_w2v_news_trainable_False\"].values)\n",
    "\n",
    "BiLstm_w2v_men_FPR, BiLstm_w2v_men_FNR, BiLstm_w2v_men_TPR, BiLstm_w2v_men_TNR = find_FPR_and_TPR(y_men_actual, y_men_predict_w2v)"
   ]
  },
  {
   "cell_type": "code",
   "execution_count": 27,
   "id": "3a944d80",
   "metadata": {},
   "outputs": [
    {
     "data": {
      "text/plain": [
       "(0.05660377358490566, 0.5454545454545454)"
      ]
     },
     "execution_count": 27,
     "metadata": {},
     "output_type": "execute_result"
    }
   ],
   "source": [
    "BiLstm_w2v_men_FPR, BiLstm_w2v_men_TPR"
   ]
  },
  {
   "cell_type": "code",
   "execution_count": 28,
   "id": "2102eeda",
   "metadata": {},
   "outputs": [
    {
     "name": "stdout",
     "output_type": "stream",
     "text": [
      "F1_men 0.6\n"
     ]
    }
   ],
   "source": [
    "print(\"F1_men\", f1_score(y_men_actual, y_men_predict_w2v))"
   ]
  },
  {
   "cell_type": "code",
   "execution_count": 29,
   "id": "11908673",
   "metadata": {},
   "outputs": [
    {
     "name": "stdout",
     "output_type": "stream",
     "text": [
      "FPR difference between women and men 0.10129096325719959\n"
     ]
    }
   ],
   "source": [
    "print(\"FPR difference between women and men\", BiLstm_w2v_women_FPR - BiLstm_w2v_men_FPR)"
   ]
  },
  {
   "cell_type": "code",
   "execution_count": 30,
   "id": "82ce53c6",
   "metadata": {},
   "outputs": [
    {
     "name": "stdout",
     "output_type": "stream",
     "text": [
      "TPR difference between women and men 0.00454545454545463\n"
     ]
    }
   ],
   "source": [
    "print(\"TPR difference between women and men\", BiLstm_w2v_women_TPR - BiLstm_w2v_men_TPR)"
   ]
  },
  {
   "cell_type": "markdown",
   "id": "3596245f",
   "metadata": {},
   "source": [
    "### Find fairness metric (Error Rate Equality Difference) in Bi-LSTM abd glove-wk"
   ]
  },
  {
   "cell_type": "code",
   "execution_count": 31,
   "id": "9d3e8744",
   "metadata": {},
   "outputs": [],
   "source": [
    "#FPR anf FNR in the entire test set\n",
    "y_actual = Twitter_sexism_test_Set[\"oh_label\"].values\n",
    "y_predict_BiLSTM_glove_wk = np.rint(Twitter_sexism_test_Set[\"Bilstm_prediction_glove_wk_trainable_False\"].values)\n",
    "\n",
    "BiLstm_glove_wk_FPR, BiLstm_glove_wk_FNR, BiLstm_glove_wk_TPR, BiLstm_glove_wk_TNR = find_FPR_and_TPR(y_actual, y_predict_BiLSTM_glove_wk)"
   ]
  },
  {
   "cell_type": "code",
   "execution_count": 32,
   "id": "7af1d80e",
   "metadata": {},
   "outputs": [
    {
     "data": {
      "text/plain": [
       "(0.06866197183098592, 0.8274706867671692)"
      ]
     },
     "execution_count": 32,
     "metadata": {},
     "output_type": "execute_result"
    }
   ],
   "source": [
    "BiLstm_glove_wk_FPR, BiLstm_glove_wk_TPR"
   ]
  },
  {
   "cell_type": "code",
   "execution_count": 33,
   "id": "2c69e39b",
   "metadata": {},
   "outputs": [
    {
     "name": "stdout",
     "output_type": "stream",
     "text": [
      "F1 scores 0.7456603773584907\n"
     ]
    }
   ],
   "source": [
    "print(\"F1 scores\", f1_score(y_actual, y_predict_BiLSTM_glove_wk))"
   ]
  },
  {
   "cell_type": "code",
   "execution_count": 34,
   "id": "8f35ec9e",
   "metadata": {},
   "outputs": [
    {
     "name": "stdout",
     "output_type": "stream",
     "text": [
      "FPR women 0.15789473684210525\n",
      "TPR women 0.65\n",
      "FPR men 0.07547169811320754\n",
      "TPR men 0.8181818181818182\n",
      "FPR difference between women and men 0.08242303872889771\n",
      "TPR difference between women and men -0.1681818181818182\n"
     ]
    }
   ],
   "source": [
    "#FPR anf FNR in for women related identities\n",
    "y_women_actual = Twitter_sexism_test_Set_women_terms[\"oh_label\"].values\n",
    "y_women_bilstm_glove_wk_predict = np.rint(Twitter_sexism_test_Set_women_terms[\"Bilstm_prediction_glove_wk_trainable_False\"].values)\n",
    "BiLstm_glove_wk_women_FPR, BiLstm_glove_wk_women_FNR, BiLstm_glove_wk_women_TPR, BiLstm_glove_wk_women_TNR = find_FPR_and_TPR(y_women_actual, y_women_bilstm_glove_wk_predict)\n",
    "print(\"FPR women\", BiLstm_glove_wk_women_FPR)\n",
    "print(\"TPR women\", BiLstm_glove_wk_women_TPR)\n",
    "\n",
    "\n",
    "#FPR anf FNR in for men related identities\n",
    "y_men_actual = Twitter_sexism_test_Set_men_terms[\"oh_label\"].values\n",
    "y_men_bilstm_glove_wk_predict = np.rint(Twitter_sexism_test_Set_men_terms[\"Bilstm_prediction_glove_wk_trainable_False\"].values)\n",
    "BiLstm_glove_wk_men_FPR, BiLstm_glove_wk_men_FNR, BiLstm_glove_wk_men_TPR, BiLstm_glove_wk_men_TNR = find_FPR_and_TPR(y_men_actual, y_men_bilstm_glove_wk_predict)\n",
    "print(\"FPR men\", BiLstm_glove_wk_men_FPR)\n",
    "print(\"TPR men\", BiLstm_glove_wk_men_TPR)\n",
    "\n",
    "\n",
    "print(\"FPR difference between women and men\", BiLstm_glove_wk_women_FPR - BiLstm_glove_wk_men_FPR)\n",
    "print(\"TPR difference between women and men\", BiLstm_glove_wk_women_TPR - BiLstm_glove_wk_men_TPR)"
   ]
  },
  {
   "cell_type": "code",
   "execution_count": 35,
   "id": "2a6f399c",
   "metadata": {},
   "outputs": [
    {
     "name": "stdout",
     "output_type": "stream",
     "text": [
      "F1_women 0.6666666666666667\n"
     ]
    }
   ],
   "source": [
    "print(\"F1_women\", f1_score(y_women_actual, y_women_bilstm_glove_wk_predict))"
   ]
  },
  {
   "cell_type": "code",
   "execution_count": 36,
   "id": "35b04f40",
   "metadata": {},
   "outputs": [
    {
     "name": "stdout",
     "output_type": "stream",
     "text": [
      "F1_men 0.7500000000000001\n"
     ]
    }
   ],
   "source": [
    "print(\"F1_men\", f1_score(y_men_actual, y_men_bilstm_glove_wk_predict))"
   ]
  },
  {
   "cell_type": "markdown",
   "id": "716e73ff",
   "metadata": {},
   "source": [
    "### Find fairness metric (Error Rate Equality Difference) in Bi-LSTM abd glove-twitter"
   ]
  },
  {
   "cell_type": "code",
   "execution_count": 37,
   "id": "20020171",
   "metadata": {},
   "outputs": [],
   "source": [
    "#FPR anf FNR in the entire test set\n",
    "y_actual = Twitter_sexism_test_Set[\"oh_label\"].values\n",
    "y_predict_BiLSTM_glove_twitter = np.rint(Twitter_sexism_test_Set[\"Bilstm_prediction_glove_twitter_trainable_False\"].values)\n",
    "\n",
    "BiLstm_glove_twitter_FPR, BiLstm_glove_twitter_FNR, BiLstm_glove_twitter_TPR, BiLstm_glove_twitter_TNR = find_FPR_and_TPR(y_actual, y_predict_BiLSTM_glove_twitter)"
   ]
  },
  {
   "cell_type": "code",
   "execution_count": 38,
   "id": "13aa2d13",
   "metadata": {},
   "outputs": [
    {
     "data": {
      "text/plain": [
       "(0.056924882629107984, 0.7906197654941374)"
      ]
     },
     "execution_count": 38,
     "metadata": {},
     "output_type": "execute_result"
    }
   ],
   "source": [
    "BiLstm_glove_twitter_FPR, BiLstm_glove_twitter_TPR"
   ]
  },
  {
   "cell_type": "code",
   "execution_count": 39,
   "id": "f5a291b4",
   "metadata": {},
   "outputs": [
    {
     "name": "stdout",
     "output_type": "stream",
     "text": [
      "F1-score 0.7474267616785433\n"
     ]
    }
   ],
   "source": [
    "print(\"F1-score\", f1_score(y_actual, y_predict_BiLSTM_glove_twitter))"
   ]
  },
  {
   "cell_type": "code",
   "execution_count": 40,
   "id": "39d4eddb",
   "metadata": {},
   "outputs": [
    {
     "name": "stdout",
     "output_type": "stream",
     "text": [
      "FPR women 0.21052631578947367\n",
      "TPR women 0.6\n",
      "FPR men 0.11320754716981132\n",
      "TPR men 0.7272727272727273\n",
      "FPR difference between women and men 0.09731876861966235\n",
      "TPR difference between women and men -0.12727272727272732\n"
     ]
    }
   ],
   "source": [
    "#FPR anf FNR in for women related identities\n",
    "y_women_actual = Twitter_sexism_test_Set_women_terms[\"oh_label\"].values\n",
    "y_women_bilstm_glove_twitter_predict = np.rint(Twitter_sexism_test_Set_women_terms[\"Bilstm_prediction_glove_twitter_trainable_False\"].values)\n",
    "BiLstm_glove_twitter_women_FPR, BiLstm_glove_twitter_women_FNR, BiLstm_glove_twitter_women_TPR, BiLstm_glove_twitter_women_TNR = find_FPR_and_TPR(y_women_actual, y_women_bilstm_glove_twitter_predict)\n",
    "print(\"FPR women\", BiLstm_glove_twitter_women_FPR)\n",
    "print(\"TPR women\", BiLstm_glove_twitter_women_TPR)\n",
    "\n",
    "\n",
    "#FPR anf FNR in for men related identities\n",
    "y_men_actual = Twitter_sexism_test_Set_men_terms[\"oh_label\"].values\n",
    "y_men_bilstm_glove_twitter_predict = np.rint(Twitter_sexism_test_Set_men_terms[\"Bilstm_prediction_glove_twitter_trainable_False\"].values)\n",
    "BiLstm_glove_twitter_men_FPR, BiLstm_glove_twitter_men_FNR, BiLstm_glove_twitter_men_TPR, BiLstm_glove_twitter_men_TNR = find_FPR_and_TPR(y_men_actual, y_men_bilstm_glove_twitter_predict)\n",
    "print(\"FPR men\", BiLstm_glove_twitter_men_FPR)\n",
    "print(\"TPR men\", BiLstm_glove_twitter_men_TPR)\n",
    "\n",
    "\n",
    "print(\"FPR difference between women and men\", BiLstm_glove_twitter_women_FPR - BiLstm_glove_twitter_men_FPR)\n",
    "print(\"TPR difference between women and men\", BiLstm_glove_twitter_women_TPR - BiLstm_glove_twitter_men_TPR)"
   ]
  },
  {
   "cell_type": "code",
   "execution_count": 41,
   "id": "da792666",
   "metadata": {},
   "outputs": [
    {
     "name": "stdout",
     "output_type": "stream",
     "text": [
      "F1_women 0.6\n"
     ]
    }
   ],
   "source": [
    "print(\"F1_women\", f1_score(y_women_actual, y_women_bilstm_glove_twitter_predict))"
   ]
  },
  {
   "cell_type": "code",
   "execution_count": 42,
   "id": "ea982156",
   "metadata": {},
   "outputs": [
    {
     "name": "stdout",
     "output_type": "stream",
     "text": [
      "F1_men 0.64\n"
     ]
    }
   ],
   "source": [
    "print(\"F1_men\", f1_score(y_men_actual, y_men_bilstm_glove_twitter_predict))"
   ]
  },
  {
   "cell_type": "markdown",
   "id": "cb95c862",
   "metadata": {},
   "source": [
    "### Find fairness metric (Error Rate Equality Difference) in Bi-LSTM and UD"
   ]
  },
  {
   "cell_type": "code",
   "execution_count": 43,
   "id": "11da12dd",
   "metadata": {},
   "outputs": [],
   "source": [
    "#FPR anf FNR in the entire test set\n",
    "y_actual = Twitter_sexism_test_Set[\"oh_label\"].values\n",
    "y_predict_BiLSTM_ud = np.rint(Twitter_sexism_test_Set[\"Bilstm_prediction_ud_trainable_False\"].values)\n",
    "\n",
    "BiLstm_ud_FPR, BiLstm_ud_FNR, BiLstm_ud_TPR, BiLstm_ud_TNR = find_FPR_and_TPR(y_actual, y_predict_BiLSTM_ud)"
   ]
  },
  {
   "cell_type": "code",
   "execution_count": 44,
   "id": "6b24eca1",
   "metadata": {},
   "outputs": [
    {
     "data": {
      "text/plain": [
       "(0.0977112676056338, 0.8927973199329984)"
      ]
     },
     "execution_count": 44,
     "metadata": {},
     "output_type": "execute_result"
    }
   ],
   "source": [
    "BiLstm_ud_FPR, BiLstm_ud_TPR"
   ]
  },
  {
   "cell_type": "code",
   "execution_count": 45,
   "id": "e0a3958f",
   "metadata": {},
   "outputs": [
    {
     "name": "stdout",
     "output_type": "stream",
     "text": [
      "F1 scores 0.7286397812713602\n"
     ]
    }
   ],
   "source": [
    "print(\"F1 scores\", f1_score(y_actual, y_predict_BiLSTM_ud))"
   ]
  },
  {
   "cell_type": "code",
   "execution_count": 46,
   "id": "34c3da65",
   "metadata": {},
   "outputs": [
    {
     "name": "stdout",
     "output_type": "stream",
     "text": [
      "FPR women 0.3157894736842105\n",
      "TPR women 0.8\n",
      "FPR men 0.11320754716981132\n",
      "TPR men 0.7272727272727273\n",
      "FPR difference between women and men 0.20258192651439919\n",
      "TPR difference between women and men 0.07272727272727275\n"
     ]
    }
   ],
   "source": [
    "#FPR anf FNR in for women related identities\n",
    "y_women_actual = Twitter_sexism_test_Set_women_terms[\"oh_label\"].values\n",
    "y_women_bilstm_ud_predict = np.rint(Twitter_sexism_test_Set_women_terms[\"Bilstm_prediction_ud_trainable_False\"].values)\n",
    "BiLstm_ud_women_FPR, BiLstm_ud_women_FNR, BiLstm_ud_women_TPR, BiLstm_ud_women_TNR   = find_FPR_and_TPR(y_women_actual, y_women_bilstm_ud_predict)\n",
    "print(\"FPR women\", BiLstm_ud_women_FPR)\n",
    "print(\"TPR women\", BiLstm_ud_women_TPR)\n",
    "\n",
    "\n",
    "#FPR anf FNR in for men related identities\n",
    "y_men_actual = Twitter_sexism_test_Set_men_terms[\"oh_label\"].values\n",
    "y_men_bilstm_ud_predict = np.rint(Twitter_sexism_test_Set_men_terms[\"Bilstm_prediction_ud_trainable_False\"].values)\n",
    "BiLstm_ud_men_FPR, BiLstm_ud_men_FNR, BiLstm_ud_men_TPR, BiLstm_ud_men_TNR = find_FPR_and_TPR(y_men_actual, y_men_bilstm_ud_predict)\n",
    "print(\"FPR men\", BiLstm_ud_men_FPR)\n",
    "print(\"TPR men\", BiLstm_ud_men_TPR)\n",
    "\n",
    "\n",
    "print(\"FPR difference between women and men\", BiLstm_ud_women_FPR - BiLstm_ud_men_FPR)\n",
    "print(\"TPR difference between women and men\", BiLstm_ud_women_TPR - BiLstm_ud_men_TPR)"
   ]
  },
  {
   "cell_type": "code",
   "execution_count": 47,
   "id": "1603e2a9",
   "metadata": {},
   "outputs": [
    {
     "name": "stdout",
     "output_type": "stream",
     "text": [
      "F1-score_women 0.6666666666666666\n"
     ]
    }
   ],
   "source": [
    "print(\"F1-score_women\",f1_score(y_women_actual, y_women_bilstm_ud_predict))"
   ]
  },
  {
   "cell_type": "code",
   "execution_count": 48,
   "id": "1c5d3092",
   "metadata": {},
   "outputs": [
    {
     "name": "stdout",
     "output_type": "stream",
     "text": [
      "F1-score-men 0.64\n"
     ]
    }
   ],
   "source": [
    "print(\"F1-score-men\", f1_score(y_men_actual, y_men_bilstm_ud_predict))"
   ]
  },
  {
   "cell_type": "markdown",
   "id": "17ec4282",
   "metadata": {},
   "source": [
    "### Find fairness metric (Error Rate Equality Difference) in Bi-LSTM and Chan"
   ]
  },
  {
   "cell_type": "code",
   "execution_count": 49,
   "id": "2f07969b",
   "metadata": {},
   "outputs": [],
   "source": [
    "#FPR anf FNR in the entire test set\n",
    "y_actual = Twitter_sexism_test_Set[\"oh_label\"].values\n",
    "y_predict_BiLSTM_chan = np.rint(Twitter_sexism_test_Set[\"Bilstm_prediction_chan_trainable_False\"].values)\n",
    "\n",
    "BiLstm_chan_FPR, BiLstm_chan_FNR, BiLstm_chan_TPR, BiLstm_chan_TNR = find_FPR_and_TPR(y_actual, y_predict_BiLSTM_chan)"
   ]
  },
  {
   "cell_type": "code",
   "execution_count": 50,
   "id": "7e605bee",
   "metadata": {},
   "outputs": [
    {
     "data": {
      "text/plain": [
       "(0.0539906103286385, 0.7537688442211056)"
      ]
     },
     "execution_count": 50,
     "metadata": {},
     "output_type": "execute_result"
    }
   ],
   "source": [
    "BiLstm_chan_FPR, BiLstm_chan_TPR"
   ]
  },
  {
   "cell_type": "code",
   "execution_count": 51,
   "id": "b5be4e9b",
   "metadata": {},
   "outputs": [
    {
     "name": "stdout",
     "output_type": "stream",
     "text": [
      "F1-score 0.7311129163281885\n"
     ]
    }
   ],
   "source": [
    "print(\"F1-score\", f1_score(y_actual, y_predict_BiLSTM_chan))"
   ]
  },
  {
   "cell_type": "code",
   "execution_count": 52,
   "id": "2a8c7836",
   "metadata": {},
   "outputs": [
    {
     "name": "stdout",
     "output_type": "stream",
     "text": [
      "FPR_women 0.18421052631578946\n",
      "TPR_women 0.8157894736842105\n",
      "FPR_men 0.07547169811320754\n",
      "TPR_men 0.9245283018867925\n",
      "FPR difference between women and men 0.10873882820258192\n",
      "TPR difference between women and men 0.0636363636363636\n"
     ]
    }
   ],
   "source": [
    "#FPR anf FNR in for women related identities\n",
    "y_women_actual = Twitter_sexism_test_Set_women_terms[\"oh_label\"].values\n",
    "y_women_bilstm_chan_predict = np.rint(Twitter_sexism_test_Set_women_terms[\"Bilstm_prediction_chan_trainable_False\"].values)\n",
    "BiLstm_chan_women_FPR, BiLstm_chan_women_FNR, BiLstm_chan_women_TPR, BiLstm_chan_women_TNR = find_FPR_and_TPR(y_women_actual, y_women_bilstm_chan_predict)\n",
    "print(\"FPR_women\", BiLstm_chan_women_FPR)\n",
    "print(\"TPR_women\", BiLstm_chan_women_TNR)\n",
    "\n",
    "#FPR anf FNR in for men related identities\n",
    "y_men_actual = Twitter_sexism_test_Set_men_terms[\"oh_label\"].values\n",
    "y_men_bilstm_chan_predict = np.rint(Twitter_sexism_test_Set_men_terms[\"Bilstm_prediction_chan_trainable_False\"].values)\n",
    "BiLstm_chan_men_FPR, BiLstm_chan_men_FNR, BiLstm_chan_men_TPR, BiLstm_chan_men_TNR   = find_FPR_and_TPR(y_men_actual, y_men_bilstm_chan_predict)\n",
    "print(\"FPR_men\", BiLstm_chan_men_FPR)\n",
    "print(\"TPR_men\", BiLstm_chan_men_TNR)\n",
    "\n",
    "print(\"FPR difference between women and men\", BiLstm_chan_women_FPR - BiLstm_chan_men_FPR)\n",
    "print(\"TPR difference between women and men\", BiLstm_chan_women_TPR - BiLstm_chan_men_TPR)"
   ]
  },
  {
   "cell_type": "code",
   "execution_count": 53,
   "id": "1ddfa287",
   "metadata": {},
   "outputs": [
    {
     "name": "stdout",
     "output_type": "stream",
     "text": [
      "F1_score_women 0.6829268292682926\n"
     ]
    }
   ],
   "source": [
    "print(\"F1_score_women\", f1_score(y_women_actual, y_women_bilstm_chan_predict))"
   ]
  },
  {
   "cell_type": "code",
   "execution_count": 54,
   "id": "ea4e1c4a",
   "metadata": {},
   "outputs": [
    {
     "name": "stdout",
     "output_type": "stream",
     "text": [
      "F1_score_men 0.6363636363636364\n"
     ]
    }
   ],
   "source": [
    "print(\"F1_score_men\", f1_score(y_men_actual, y_men_bilstm_chan_predict))"
   ]
  },
  {
   "cell_type": "markdown",
   "id": "40c918a7",
   "metadata": {},
   "source": [
    "# MLP"
   ]
  },
  {
   "cell_type": "markdown",
   "id": "5d08044c",
   "metadata": {},
   "source": [
    "### Find fairness metric (Error Rate Equality Difference) in MLP and w2v"
   ]
  },
  {
   "cell_type": "code",
   "execution_count": 55,
   "id": "3e809184",
   "metadata": {},
   "outputs": [],
   "source": [
    "#FPR anf FNR in the entire test set\n",
    "y_actual = Twitter_sexism_test_Set[\"oh_label\"].values\n",
    "y_predict_MLP_w2v = np.rint(Twitter_sexism_test_Set[\"MLP_prediction_w2v_news_trainable_False\"].values)\n",
    "\n",
    "MLP_w2v_FPR, MLP_w2v_FNR, MLP_w2v_TPR, MLP_w2v_TNR = find_FPR_and_TPR(y_actual, y_predict_MLP_w2v)"
   ]
  },
  {
   "cell_type": "code",
   "execution_count": 56,
   "id": "971a6033",
   "metadata": {},
   "outputs": [
    {
     "data": {
      "text/plain": [
       "(0.06426056338028169, 0.7252931323283082)"
      ]
     },
     "execution_count": 56,
     "metadata": {},
     "output_type": "execute_result"
    }
   ],
   "source": [
    "MLP_w2v_FPR, MLP_w2v_TPR"
   ]
  },
  {
   "cell_type": "code",
   "execution_count": 57,
   "id": "823b63f7",
   "metadata": {},
   "outputs": [
    {
     "name": "stdout",
     "output_type": "stream",
     "text": [
      "F1 score 0.6933546837469976\n"
     ]
    }
   ],
   "source": [
    "print(\"F1 score\", f1_score(y_actual, y_predict_MLP_w2v))"
   ]
  },
  {
   "cell_type": "code",
   "execution_count": 58,
   "id": "b63b62a3",
   "metadata": {},
   "outputs": [
    {
     "name": "stdout",
     "output_type": "stream",
     "text": [
      "FPR women 0.2631578947368421\n",
      "TPR women 0.75\n",
      "FPR men 0.11320754716981132\n",
      "TPR men 0.7272727272727273\n",
      "FPR difference between women and men 0.14995034756703077\n",
      "TPR difference between women and men 0.022727272727272707\n",
      "F1_women 0.6666666666666665\n",
      "F1_men 0.64\n"
     ]
    }
   ],
   "source": [
    "#FPR anf FNR in for women related identities\n",
    "y_women_actual = Twitter_sexism_test_Set_women_terms[\"oh_label\"].values\n",
    "y_women_MLP_w2v_predict = np.rint(Twitter_sexism_test_Set_women_terms[\"MLP_prediction_w2v_news_trainable_False\"].values)\n",
    "MLP_w2v_women_FPR, MLP_w2v_women_FNR, MLP_w2v_women_TPR, MLP_w2v_women_TNR = find_FPR_and_TPR(y_women_actual, y_women_MLP_w2v_predict)\n",
    "print(\"FPR women\", MLP_w2v_women_FPR)\n",
    "print(\"TPR women\", MLP_w2v_women_TPR)\n",
    "\n",
    "\n",
    "#FPR anf FNR in for men related identities\n",
    "y_men_actual = Twitter_sexism_test_Set_men_terms[\"oh_label\"].values\n",
    "y_men_MLP_w2v_predict = np.rint(Twitter_sexism_test_Set_men_terms[\"MLP_prediction_w2v_news_trainable_False\"].values)\n",
    "MLP_w2v_men_FPR, MLP_w2v_men_FNR, MLP_w2v_men_TPR, MLP_w2v_men_TNR = find_FPR_and_TPR(y_men_actual, y_men_MLP_w2v_predict)\n",
    "print(\"FPR men\", MLP_w2v_men_FPR)\n",
    "print(\"TPR men\", MLP_w2v_men_TPR)\n",
    "\n",
    "\n",
    "print(\"FPR difference between women and men\", MLP_w2v_women_FPR - MLP_w2v_men_FPR)\n",
    "print(\"TPR difference between women and men\", MLP_w2v_women_TPR - MLP_w2v_men_TPR)\n",
    "print(\"F1_women\", f1_score(y_women_actual, y_women_MLP_w2v_predict))\n",
    "print(\"F1_men\", f1_score(y_men_actual, y_men_MLP_w2v_predict))"
   ]
  },
  {
   "cell_type": "markdown",
   "id": "43266aae",
   "metadata": {},
   "source": [
    "### Find fairness metric (Error Rate Equality Difference) in MLP and glove-wk"
   ]
  },
  {
   "cell_type": "code",
   "execution_count": 59,
   "id": "4fdd9b81",
   "metadata": {},
   "outputs": [],
   "source": [
    "#FPR anf FNR in the entire test set\n",
    "y_actual = Twitter_sexism_test_Set[\"oh_label\"].values\n",
    "y_predict_MLP_glove_wk = np.rint(Twitter_sexism_test_Set[\"MLP_prediction_glove_wk_trainable_False\"].values)\n",
    "\n",
    "MLP_glove_wk_FPR, MLP_glove_wk_FNR, MLP_glove_wk_TPR, MLP_glove_wk_TNR = find_FPR_and_TPR(y_actual, y_predict_MLP_glove_wk)"
   ]
  },
  {
   "cell_type": "code",
   "execution_count": 60,
   "id": "40fa320c",
   "metadata": {},
   "outputs": [
    {
     "data": {
      "text/plain": [
       "(0.05575117370892019, 0.7068676716917923)"
      ]
     },
     "execution_count": 60,
     "metadata": {},
     "output_type": "execute_result"
    }
   ],
   "source": [
    "MLP_glove_wk_FPR, MLP_glove_wk_TPR"
   ]
  },
  {
   "cell_type": "code",
   "execution_count": 61,
   "id": "0bfc3ad3",
   "metadata": {},
   "outputs": [
    {
     "name": "stdout",
     "output_type": "stream",
     "text": [
      "F1 scores 0.6980976013234078\n"
     ]
    }
   ],
   "source": [
    "print(\"F1 scores\", f1_score(y_actual, y_predict_MLP_glove_wk))"
   ]
  },
  {
   "cell_type": "code",
   "execution_count": 62,
   "id": "b39a116a",
   "metadata": {},
   "outputs": [
    {
     "name": "stdout",
     "output_type": "stream",
     "text": [
      "FPR women 0.21052631578947367\n",
      "TPR women 0.6\n",
      "FPR men 0.05660377358490566\n",
      "TPR men 0.8181818181818182\n",
      "FPR difference between women and men 0.15392254220456802\n",
      "TPR difference between women and men -0.21818181818181825\n",
      "F1_women 0.6\n",
      "F1_men 0.7826086956521738\n"
     ]
    }
   ],
   "source": [
    "#FPR anf FNR in for women related identities\n",
    "y_women_actual = Twitter_sexism_test_Set_women_terms[\"oh_label\"].values\n",
    "y_women_MLP_glove_wk_predict = np.rint(Twitter_sexism_test_Set_women_terms[\"MLP_prediction_glove_wk_trainable_False\"].values)\n",
    "MLP_glove_wk_women_FPR, BiLstm_glove_wk_women_FNR, MLP_glove_wk_women_TPR, MLP_glove_wk_women_TNR = find_FPR_and_TPR(y_women_actual, y_women_MLP_glove_wk_predict)\n",
    "print(\"FPR women\", MLP_glove_wk_women_FPR)\n",
    "print(\"TPR women\", MLP_glove_wk_women_TPR)\n",
    "\n",
    "\n",
    "#FPR anf FNR in for men related identities\n",
    "y_men_actual = Twitter_sexism_test_Set_men_terms[\"oh_label\"].values\n",
    "y_men_MLP_glove_wk_predict = np.rint(Twitter_sexism_test_Set_men_terms[\"MLP_prediction_glove_wk_trainable_False\"].values)\n",
    "MLP_glove_wk_men_FPR, MLP_glove_wk_men_FNR, MLP_glove_wk_men_TPR, MLP_glove_wk_men_TNR = find_FPR_and_TPR(y_men_actual, y_men_MLP_glove_wk_predict)\n",
    "print(\"FPR men\", MLP_glove_wk_men_FPR)\n",
    "print(\"TPR men\", MLP_glove_wk_men_TPR)\n",
    "\n",
    "\n",
    "print(\"FPR difference between women and men\", MLP_glove_wk_women_FPR - MLP_glove_wk_men_FPR)\n",
    "print(\"TPR difference between women and men\", MLP_glove_wk_women_TPR - MLP_glove_wk_men_TPR)\n",
    "print(\"F1_women\", f1_score(y_women_actual, y_women_MLP_glove_wk_predict))\n",
    "print(\"F1_men\", f1_score(y_men_actual, y_men_MLP_glove_wk_predict))"
   ]
  },
  {
   "cell_type": "markdown",
   "id": "fcaefdb8",
   "metadata": {},
   "source": [
    "### Find fairness metric (Error Rate Equality Difference) in MLP and glove-twitter"
   ]
  },
  {
   "cell_type": "code",
   "execution_count": 63,
   "id": "152b04c4",
   "metadata": {},
   "outputs": [],
   "source": [
    "#FPR anf FNR in the entire test set\n",
    "y_actual = Twitter_sexism_test_Set[\"oh_label\"].values\n",
    "y_predict_MLP_glove_twitter = np.rint(Twitter_sexism_test_Set[\"MLP_prediction_glove_twitter_trainable_False\"].values)\n",
    "\n",
    "MLP_glove_twitter_FPR, MLP_glove_twitter_FNR, MLP_glove_twitter_TPR, MLP_glove_twitter_TNR = find_FPR_and_TPR(y_actual, y_predict_MLP_glove_twitter)"
   ]
  },
  {
   "cell_type": "code",
   "execution_count": 64,
   "id": "1e9d9e98",
   "metadata": {},
   "outputs": [
    {
     "data": {
      "text/plain": [
       "(0.06426056338028169, 0.7236180904522613)"
      ]
     },
     "execution_count": 64,
     "metadata": {},
     "output_type": "execute_result"
    }
   ],
   "source": [
    "MLP_glove_twitter_FPR, MLP_glove_twitter_TPR"
   ]
  },
  {
   "cell_type": "code",
   "execution_count": 65,
   "id": "1661f572",
   "metadata": {},
   "outputs": [
    {
     "name": "stdout",
     "output_type": "stream",
     "text": [
      "F1-score 0.6923076923076923\n"
     ]
    }
   ],
   "source": [
    "print(\"F1-score\", f1_score(y_actual, y_predict_MLP_glove_twitter))"
   ]
  },
  {
   "cell_type": "code",
   "execution_count": 66,
   "id": "a9b4fe4a",
   "metadata": {},
   "outputs": [
    {
     "name": "stdout",
     "output_type": "stream",
     "text": [
      "FPR women 0.23684210526315788\n",
      "TPR women 0.65\n",
      "FPR men 0.09433962264150944\n",
      "TPR men 0.8181818181818182\n",
      "FPR difference between women and men 0.14250248262164844\n",
      "TPR difference between women and men -0.1681818181818182\n",
      "F1_women 0.6190476190476191\n",
      "F1_men 0.7200000000000001\n"
     ]
    }
   ],
   "source": [
    "#FPR anf FNR in for women related identities\n",
    "y_women_actual = Twitter_sexism_test_Set_women_terms[\"oh_label\"].values\n",
    "y_women_MLP_glove_twitter_predict = np.rint(Twitter_sexism_test_Set_women_terms[\"MLP_prediction_glove_twitter_trainable_False\"].values)\n",
    "MLP_glove_twitter_women_FPR, MLP_glove_twitter_women_FNR, MLP_glove_twitter_women_TPR, MLP_glove_twitter_women_TNR = find_FPR_and_TPR(y_women_actual, y_women_MLP_glove_twitter_predict)\n",
    "print(\"FPR women\", MLP_glove_twitter_women_FPR)\n",
    "print(\"TPR women\", MLP_glove_twitter_women_TPR)\n",
    "\n",
    "\n",
    "#FPR anf FNR in for men related identities\n",
    "y_men_actual = Twitter_sexism_test_Set_men_terms[\"oh_label\"].values\n",
    "y_men_MLP_glove_twitter_predict = np.rint(Twitter_sexism_test_Set_men_terms[\"MLP_prediction_glove_twitter_trainable_False\"].values)\n",
    "MLP_glove_twitter_men_FPR, MLP_glove_twitter_men_FNR, MLP_glove_twitter_men_TPR, MLP_glove_twitter_men_TNR = find_FPR_and_TPR(y_men_actual, y_men_MLP_glove_twitter_predict)\n",
    "print(\"FPR men\", MLP_glove_twitter_men_FPR)\n",
    "print(\"TPR men\", MLP_glove_twitter_men_TPR)\n",
    "\n",
    "\n",
    "print(\"FPR difference between women and men\", MLP_glove_twitter_women_FPR - MLP_glove_twitter_men_FPR)\n",
    "print(\"TPR difference between women and men\", MLP_glove_twitter_women_TPR - MLP_glove_twitter_men_TPR)\n",
    "print(\"F1_women\", f1_score(y_women_actual, y_women_MLP_glove_twitter_predict))\n",
    "print(\"F1_men\", f1_score(y_men_actual, y_men_MLP_glove_twitter_predict))"
   ]
  },
  {
   "cell_type": "markdown",
   "id": "345fafbf",
   "metadata": {},
   "source": [
    "### Find fairness metric (Error Rate Equality Difference) in MLP and UD"
   ]
  },
  {
   "cell_type": "code",
   "execution_count": 67,
   "id": "649052ef",
   "metadata": {},
   "outputs": [],
   "source": [
    "#FPR anf FNR in the entire test set\n",
    "y_actual = Twitter_sexism_test_Set[\"oh_label\"].values\n",
    "y_predict_MLP_ud = np.rint(Twitter_sexism_test_Set[\"MLP_prediction_ud_trainable_False\"].values)\n",
    "\n",
    "MLP_ud_FPR, MLP_ud_FNR, MLP_ud_TPR, MLP_ud_TNR = find_FPR_and_TPR(y_actual, y_predict_MLP_ud)"
   ]
  },
  {
   "cell_type": "code",
   "execution_count": 68,
   "id": "62d93b3e",
   "metadata": {},
   "outputs": [
    {
     "data": {
      "text/plain": [
       "(0.07188967136150234, 0.7386934673366834)"
      ]
     },
     "execution_count": 68,
     "metadata": {},
     "output_type": "execute_result"
    }
   ],
   "source": [
    "MLP_ud_FPR, MLP_ud_TPR"
   ]
  },
  {
   "cell_type": "code",
   "execution_count": 69,
   "id": "54f1ec85",
   "metadata": {},
   "outputs": [
    {
     "name": "stdout",
     "output_type": "stream",
     "text": [
      "F1 scores 0.6874512860483242\n"
     ]
    }
   ],
   "source": [
    "print(\"F1 scores\", f1_score(y_actual, y_predict_MLP_ud))"
   ]
  },
  {
   "cell_type": "code",
   "execution_count": 70,
   "id": "6f1e45a2",
   "metadata": {},
   "outputs": [
    {
     "name": "stdout",
     "output_type": "stream",
     "text": [
      "FPR women 0.2894736842105263\n",
      "TPR women 0.6\n",
      "FPR men 0.11320754716981132\n",
      "TPR men 0.7272727272727273\n",
      "FPR difference between women and men 0.176266137040715\n",
      "TPR difference between women and men -0.12727272727272732\n",
      "F1-score_women 0.5581395348837209\n",
      "F1-score-men 0.64\n"
     ]
    }
   ],
   "source": [
    "#FPR anf FNR in for women related identities\n",
    "y_women_actual = Twitter_sexism_test_Set_women_terms[\"oh_label\"].values\n",
    "y_women_MLP_ud_predict = np.rint(Twitter_sexism_test_Set_women_terms[\"MLP_prediction_ud_trainable_False\"].values)\n",
    "MLP_ud_women_FPR, MLP_ud_women_FNR, MLP_ud_women_TPR, MLP_ud_women_TNR   = find_FPR_and_TPR(y_women_actual, y_women_MLP_ud_predict)\n",
    "print(\"FPR women\", MLP_ud_women_FPR)\n",
    "print(\"TPR women\", MLP_ud_women_TPR)\n",
    "\n",
    "\n",
    "#FPR anf FNR in for men related identities\n",
    "y_men_actual = Twitter_sexism_test_Set_men_terms[\"oh_label\"].values\n",
    "y_men_MLP_ud_predict = np.rint(Twitter_sexism_test_Set_men_terms[\"MLP_prediction_ud_trainable_False\"].values)\n",
    "MLP_ud_men_FPR, BiLstm_ud_men_FNR, MLP_ud_men_TPR, MLP_ud_men_TNR = find_FPR_and_TPR(y_men_actual, y_men_MLP_ud_predict)\n",
    "print(\"FPR men\", MLP_ud_men_FPR)\n",
    "print(\"TPR men\", MLP_ud_men_TPR)\n",
    "\n",
    "\n",
    "print(\"FPR difference between women and men\", MLP_ud_women_FPR - MLP_ud_men_FPR)\n",
    "print(\"TPR difference between women and men\", MLP_ud_women_TPR - MLP_ud_men_TPR)\n",
    "print(\"F1-score_women\",f1_score(y_women_actual, y_women_MLP_ud_predict))\n",
    "print(\"F1-score-men\", f1_score(y_men_actual, y_men_MLP_ud_predict))"
   ]
  },
  {
   "cell_type": "markdown",
   "id": "e05eaa58",
   "metadata": {},
   "source": [
    "### Find fairness metric (Error Rate Equality Difference) in MLP and Chan"
   ]
  },
  {
   "cell_type": "code",
   "execution_count": 71,
   "id": "6411cc39",
   "metadata": {},
   "outputs": [],
   "source": [
    "#FPR anf FNR in the entire test set\n",
    "y_actual = Twitter_sexism_test_Set[\"oh_label\"].values\n",
    "y_predict_MLP_chan = np.rint(Twitter_sexism_test_Set[\"MLP_prediction_chan_trainable_False\"].values)\n",
    "\n",
    "MLP_chan_FPR, MLP_chan_FNR, MLP_chan_TPR, MLP_chan_TNR = find_FPR_and_TPR(y_actual, y_predict_MLP_chan)"
   ]
  },
  {
   "cell_type": "code",
   "execution_count": 72,
   "id": "c426f417",
   "metadata": {},
   "outputs": [
    {
     "data": {
      "text/plain": [
       "(0.049002347417840375, 0.5912897822445561)"
      ]
     },
     "execution_count": 72,
     "metadata": {},
     "output_type": "execute_result"
    }
   ],
   "source": [
    "MLP_chan_FPR, MLP_chan_TPR"
   ]
  },
  {
   "cell_type": "code",
   "execution_count": 73,
   "id": "45c71f2c",
   "metadata": {},
   "outputs": [
    {
     "name": "stdout",
     "output_type": "stream",
     "text": [
      "F1-score 0.6320501342882721\n"
     ]
    }
   ],
   "source": [
    "print(\"F1-score\", f1_score(y_actual, y_predict_MLP_chan))"
   ]
  },
  {
   "cell_type": "code",
   "execution_count": 74,
   "id": "3012365d",
   "metadata": {},
   "outputs": [
    {
     "name": "stdout",
     "output_type": "stream",
     "text": [
      "FPR_women 0.23684210526315788\n",
      "TPR_women 0.7631578947368421\n",
      "FPR_men 0.09433962264150944\n",
      "TPR_men 0.9056603773584906\n",
      "FPR difference between women and men 0.14250248262164844\n",
      "TPR difference between women and men 0.1954545454545455\n",
      "F1_score_women 0.6190476190476191\n",
      "F1_score_men 0.47619047619047616\n"
     ]
    }
   ],
   "source": [
    "#FPR anf FNR in for women related identities\n",
    "y_women_actual = Twitter_sexism_test_Set_women_terms[\"oh_label\"].values\n",
    "y_women_MLP_chan_predict = np.rint(Twitter_sexism_test_Set_women_terms[\"MLP_prediction_chan_trainable_False\"].values)\n",
    "MLP_chan_women_FPR, MLP_chan_women_FNR, MLP_chan_women_TPR, MLP_chan_women_TNR = find_FPR_and_TPR(y_women_actual, y_women_MLP_chan_predict)\n",
    "print(\"FPR_women\", MLP_chan_women_FPR)\n",
    "print(\"TPR_women\", MLP_chan_women_TNR)\n",
    "\n",
    "#FPR anf FNR in for men related identities\n",
    "y_men_actual = Twitter_sexism_test_Set_men_terms[\"oh_label\"].values\n",
    "y_men_MLP_chan_predict = np.rint(Twitter_sexism_test_Set_men_terms[\"MLP_prediction_chan_trainable_False\"].values)\n",
    "MLP_chan_men_FPR, MLP_chan_men_FNR, MLP_chan_men_TPR, MLP_chan_men_TNR  = find_FPR_and_TPR(y_men_actual, y_men_MLP_chan_predict)\n",
    "print(\"FPR_men\", MLP_chan_men_FPR)\n",
    "print(\"TPR_men\", MLP_chan_men_TNR)\n",
    "\n",
    "print(\"FPR difference between women and men\", MLP_chan_women_FPR - MLP_chan_men_FPR)\n",
    "print(\"TPR difference between women and men\", MLP_chan_women_TPR - MLP_chan_men_TPR)\n",
    "print(\"F1_score_women\", f1_score(y_women_actual, y_women_MLP_chan_predict))\n",
    "print(\"F1_score_men\", f1_score(y_men_actual, y_men_MLP_chan_predict))"
   ]
  },
  {
   "cell_type": "code",
   "execution_count": null,
   "id": "f6062e5c",
   "metadata": {},
   "outputs": [],
   "source": []
  },
  {
   "cell_type": "code",
   "execution_count": null,
   "id": "2911678d",
   "metadata": {},
   "outputs": [],
   "source": []
  }
 ],
 "metadata": {
  "kernelspec": {
   "display_name": "Python 3",
   "language": "python",
   "name": "python3"
  },
  "language_info": {
   "codemirror_mode": {
    "name": "ipython",
    "version": 3
   },
   "file_extension": ".py",
   "mimetype": "text/x-python",
   "name": "python",
   "nbconvert_exporter": "python",
   "pygments_lexer": "ipython3",
   "version": "3.8.10"
  }
 },
 "nbformat": 4,
 "nbformat_minor": 5
}
