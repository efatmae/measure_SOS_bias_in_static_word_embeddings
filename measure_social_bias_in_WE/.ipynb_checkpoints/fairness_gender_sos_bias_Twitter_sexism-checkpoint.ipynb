{
 "cells": [
  {
   "cell_type": "code",
   "execution_count": 1,
   "id": "becbc0e8",
   "metadata": {},
   "outputs": [],
   "source": [
    "#from wefe.datasets.datasets import load_weat, fetch_eds, fetch_debias_multiclass, fetch_debiaswe, load_bingliu\n",
    "import pandas as pd\n",
    "import numpy as np\n",
    "import matplotlib.pyplot as plt\n",
    "import numpy as np\n",
    "import random\n",
    "from sklearn.metrics import confusion_matrix,f1_score"
   ]
  },
  {
   "cell_type": "code",
   "execution_count": 2,
   "id": "d9b1424e",
   "metadata": {},
   "outputs": [],
   "source": [
    "import scipy.stats as ss"
   ]
  },
  {
   "cell_type": "code",
   "execution_count": 3,
   "id": "cc44ad74",
   "metadata": {},
   "outputs": [],
   "source": [
    "Twitter_sexism_test_Set = pd.read_csv(\"../../Data/Hate speech datasets/Twitter_hateSpeech_DAvidson/Twitter_hate_data_test.csv\")"
   ]
  },
  {
   "cell_type": "code",
   "execution_count": 4,
   "id": "fb83b336",
   "metadata": {},
   "outputs": [],
   "source": [
    "Twitter_sexism_test_Set = Twitter_sexism_test_Set.dropna()"
   ]
  },
  {
   "cell_type": "code",
   "execution_count": 5,
   "id": "d1569eb6",
   "metadata": {},
   "outputs": [
    {
     "data": {
      "text/plain": [
       "1671"
      ]
     },
     "execution_count": 5,
     "metadata": {},
     "output_type": "execute_result"
    }
   ],
   "source": [
    "len(Twitter_sexism_test_Set)"
   ]
  },
  {
   "cell_type": "code",
   "execution_count": 6,
   "id": "b10cbc80",
   "metadata": {},
   "outputs": [
    {
     "data": {
      "text/plain": [
       "Index(['index', 'Text', 'oh_label', 'Text_clean_for_BERT', 'Text_clean',\n",
       "       'MLP_prediction_chan_trainable_False',\n",
       "       'MLP_prediction_w2v_news_trainable_False',\n",
       "       'MLP_prediction_glove_wk_trainable_False',\n",
       "       'MLP_prediction_ud_trainable_False',\n",
       "       'MLP_prediction_glove_twitter_trainable_False',\n",
       "       'Bilstm_prediction_chan_trainable_False',\n",
       "       'Bilstm_prediction_w2v_news_trainable_False',\n",
       "       'Bilstm_prediction_glove_wk_trainable_False',\n",
       "       'Bilstm_prediction_ud_trainable_False',\n",
       "       'Bilstm_prediction_glove_twitter_trainable_False'],\n",
       "      dtype='object')"
      ]
     },
     "execution_count": 6,
     "metadata": {},
     "output_type": "execute_result"
    }
   ],
   "source": [
    "Twitter_sexism_test_Set.columns"
   ]
  },
  {
   "cell_type": "code",
   "execution_count": 7,
   "id": "4c17cce2",
   "metadata": {},
   "outputs": [],
   "source": [
    "female_terms = ['woman', 'female', 'girl', 'wife', 'sister', 'mother', 'daughter']\n",
    "male_terms = ['man', 'male', 'boy', 'son', 'father','husband', 'brother']"
   ]
  },
  {
   "cell_type": "code",
   "execution_count": 8,
   "id": "92457af5",
   "metadata": {},
   "outputs": [],
   "source": [
    "def find_list_of_words_in_df(df, slur_list, text_col):\n",
    "  ps_in_hateEval = []\n",
    "  for i in slur_list: \n",
    "    if  df[text_col].str.contains(\" \"+i+\" \").any() == True or df[text_col].str.contains(i+\" \").any() == True or df[text_col].str.contains(\" \"+i).any() == True:\n",
    "      print(\"terms found \"+ i)  \n",
    "      ps_mid = df[df[text_col].str.contains(\" \"+i+\" \")]\n",
    "      ps_start = df[df[text_col].str.contains(i+\" \")]\n",
    "      ps_end = df[df[text_col].str.contains(\" \"+i)]\n",
    "      #if ps.index not in ps_in_hateEval:\n",
    "      ps_in_hateEval.append(ps_mid)\n",
    "      ps_in_hateEval.append(ps_start)\n",
    "      ps_in_hateEval.append(ps_end)\n",
    "\n",
    "  ps_in_hateEval_df = pd.concat(ps_in_hateEval).drop_duplicates(subset=[\"Text_clean\"])\n",
    "  return ps_in_hateEval_df\n",
    "\n",
    "\n",
    "def find_FPR_and_TPR(y_true, y_pred):\n",
    "    TN, FP, FN, TP = confusion_matrix(y_true, y_pred, labels=[0, 1]).ravel()\n",
    "\n",
    "    TPR = TP/(TP+FN)\n",
    "    # Specificity or true negative rate\n",
    "    TNR = TN/(TN+FP) \n",
    "    # Precision or positive predictive value\n",
    "    PPV = TP/(TP+FP)\n",
    "    # Negative predictive value\n",
    "    NPV = TN/(TN+FN)\n",
    "    # Fall out or false positive rate\n",
    "    FPR = FP/(FP+TN)\n",
    "    # False negative rate\n",
    "    FNR = FN/(TP+FN)\n",
    "    # False discovery rate\n",
    "    FDR = FP/(TP+FP)\n",
    "\n",
    "    return FPR, FNR, TPR, TNR"
   ]
  },
  {
   "cell_type": "code",
   "execution_count": 9,
   "id": "8e0fdecb",
   "metadata": {},
   "outputs": [
    {
     "name": "stdout",
     "output_type": "stream",
     "text": [
      "terms found woman\n",
      "terms found female\n",
      "terms found girl\n",
      "terms found wife\n",
      "terms found sister\n",
      "terms found mother\n"
     ]
    }
   ],
   "source": [
    "Twitter_sexism_test_Set_women_terms = find_list_of_words_in_df(Twitter_sexism_test_Set, female_terms, \"Text_clean\")"
   ]
  },
  {
   "cell_type": "code",
   "execution_count": 10,
   "id": "dfe597fb",
   "metadata": {},
   "outputs": [
    {
     "name": "stdout",
     "output_type": "stream",
     "text": [
      "terms found man\n",
      "terms found male\n",
      "terms found boy\n",
      "terms found son\n",
      "terms found father\n",
      "terms found husband\n",
      "terms found brother\n"
     ]
    }
   ],
   "source": [
    "Twitter_sexism_test_Set_men_terms = find_list_of_words_in_df(Twitter_sexism_test_Set, male_terms, \"Text_clean\")"
   ]
  },
  {
   "cell_type": "code",
   "execution_count": 11,
   "id": "32fddcd6",
   "metadata": {},
   "outputs": [
    {
     "data": {
      "text/plain": [
       "(50, 165)"
      ]
     },
     "execution_count": 11,
     "metadata": {},
     "output_type": "execute_result"
    }
   ],
   "source": [
    "len(Twitter_sexism_test_Set_women_terms), len(Twitter_sexism_test_Set_men_terms)"
   ]
  },
  {
   "cell_type": "code",
   "execution_count": 12,
   "id": "906e8717",
   "metadata": {},
   "outputs": [],
   "source": [
    "Twitter_sexism_test_Set_men_terms = Twitter_sexism_test_Set_men_terms[~Twitter_sexism_test_Set_men_terms[\"Text_clean\"].isin(Twitter_sexism_test_Set_women_terms[\"Text_clean\"])]"
   ]
  },
  {
   "cell_type": "code",
   "execution_count": 13,
   "id": "21e7e01c",
   "metadata": {},
   "outputs": [
    {
     "data": {
      "text/plain": [
       "(50, 150)"
      ]
     },
     "execution_count": 13,
     "metadata": {},
     "output_type": "execute_result"
    }
   ],
   "source": [
    "len(Twitter_sexism_test_Set_women_terms), len(Twitter_sexism_test_Set_men_terms)"
   ]
  },
  {
   "cell_type": "code",
   "execution_count": 14,
   "id": "7c28c97e",
   "metadata": {},
   "outputs": [],
   "source": [
    "Twitter_sexism_test_Set_men_terms = Twitter_sexism_test_Set_men_terms.sample(len(Twitter_sexism_test_Set_women_terms),random_state=1)"
   ]
  },
  {
   "cell_type": "code",
   "execution_count": 15,
   "id": "03c6afea",
   "metadata": {},
   "outputs": [
    {
     "data": {
      "text/plain": [
       "(50, 50)"
      ]
     },
     "execution_count": 15,
     "metadata": {},
     "output_type": "execute_result"
    }
   ],
   "source": [
    "len(Twitter_sexism_test_Set_women_terms), len(Twitter_sexism_test_Set_men_terms)"
   ]
  },
  {
   "cell_type": "markdown",
   "id": "5732b98b",
   "metadata": {},
   "source": [
    "### Find fairness metric (Error Rate Equality Difference) in Bi-LSTM abd w2v"
   ]
  },
  {
   "cell_type": "code",
   "execution_count": 16,
   "id": "b95e5cab",
   "metadata": {},
   "outputs": [],
   "source": [
    "#Using the identity phrase test set, we calculate the false positive\n",
    "#rate, FPR and false negative rate, FN R on the entire test set, as\n",
    "#well as these same metrics on each subset of the data containing\n",
    "#each specific identity term, FPRt and FN Rt\n",
    "#. A more fair model\n",
    "#will have similar values across all terms, approaching the equality\n",
    "#of odds ideal, where FPR = FPRt and FN R = FN Rt for all terms\n",
    "#t. Wide variation among these values across terms indicates high\n",
    "#unintended bias\n",
    "\n",
    "#FPR anf FNR in the entire test set\n",
    "y_actual = Twitter_sexism_test_Set[\"oh_label\"].values\n",
    "y_predict_Bilstm_w2v = np.rint(Twitter_sexism_test_Set[\"Bilstm_prediction_w2v_news_trainable_False\"].values)\n",
    "\n",
    "BiLstm_w2v_FPR, BiLstm_w2v_FNR, BiLstm_w2v_TPR, BiLstm_w2v_TNR = find_FPR_and_TPR(y_actual, y_predict_Bilstm_w2v)\n"
   ]
  },
  {
   "cell_type": "code",
   "execution_count": 17,
   "id": "e504a127",
   "metadata": {},
   "outputs": [
    {
     "data": {
      "text/plain": [
       "(0.06275468622656886, 0.7364864864864865)"
      ]
     },
     "execution_count": 17,
     "metadata": {},
     "output_type": "execute_result"
    }
   ],
   "source": [
    "BiLstm_w2v_FPR, BiLstm_w2v_TPR"
   ]
  },
  {
   "cell_type": "code",
   "execution_count": 18,
   "id": "233656b5",
   "metadata": {},
   "outputs": [
    {
     "name": "stdout",
     "output_type": "stream",
     "text": [
      "F1 score 0.7712264150943398\n"
     ]
    }
   ],
   "source": [
    "print(\"F1 score\", f1_score(y_actual, y_predict_Bilstm_w2v))"
   ]
  },
  {
   "cell_type": "code",
   "execution_count": 19,
   "id": "21ea6d63",
   "metadata": {},
   "outputs": [],
   "source": [
    "#FPR anf FNR in for women related identities\n",
    "y_women_actual = Twitter_sexism_test_Set_women_terms[\"oh_label\"].values\n",
    "y_women_predict_w2v = np.rint(Twitter_sexism_test_Set_women_terms[\"Bilstm_prediction_w2v_news_trainable_False\"].values)\n",
    "\n",
    "BiLstm_w2v_women_FPR, BiLstm_w2v_women_FNR, BiLstm_w2v_women_TPR, BiLstm_w2v_women_TNR = find_FPR_and_TPR(y_women_actual, y_women_predict_w2v)"
   ]
  },
  {
   "cell_type": "code",
   "execution_count": 20,
   "id": "8863f574",
   "metadata": {},
   "outputs": [
    {
     "data": {
      "text/plain": [
       "(0.05405405405405406, 0.9230769230769231)"
      ]
     },
     "execution_count": 20,
     "metadata": {},
     "output_type": "execute_result"
    }
   ],
   "source": [
    "BiLstm_w2v_women_FPR, BiLstm_w2v_women_TPR"
   ]
  },
  {
   "cell_type": "code",
   "execution_count": 21,
   "id": "72ba67e0",
   "metadata": {},
   "outputs": [
    {
     "name": "stdout",
     "output_type": "stream",
     "text": [
      "F1_women 0.888888888888889\n"
     ]
    }
   ],
   "source": [
    "print(\"F1_women\", f1_score(y_women_actual, y_women_predict_w2v))"
   ]
  },
  {
   "cell_type": "code",
   "execution_count": 22,
   "id": "c462ffbd",
   "metadata": {},
   "outputs": [],
   "source": [
    "#FPR anf FNR in for men related identities\n",
    "y_men_actual = Twitter_sexism_test_Set_men_terms[\"oh_label\"].values\n",
    "y_men_predict_w2v = np.rint(Twitter_sexism_test_Set_men_terms[\"Bilstm_prediction_w2v_news_trainable_False\"].values)\n",
    "\n",
    "BiLstm_w2v_men_FPR, BiLstm_w2v_men_FNR, BiLstm_w2v_men_TPR, BiLstm_w2v_men_TNR = find_FPR_and_TPR(y_men_actual, y_men_predict_w2v)"
   ]
  },
  {
   "cell_type": "code",
   "execution_count": 23,
   "id": "3a944d80",
   "metadata": {},
   "outputs": [
    {
     "data": {
      "text/plain": [
       "(0.025, 0.9)"
      ]
     },
     "execution_count": 23,
     "metadata": {},
     "output_type": "execute_result"
    }
   ],
   "source": [
    "BiLstm_w2v_men_FPR, BiLstm_w2v_men_TPR"
   ]
  },
  {
   "cell_type": "code",
   "execution_count": 24,
   "id": "2102eeda",
   "metadata": {},
   "outputs": [
    {
     "name": "stdout",
     "output_type": "stream",
     "text": [
      "F1_men 0.9\n"
     ]
    }
   ],
   "source": [
    "print(\"F1_men\", f1_score(y_men_actual, y_men_predict_w2v))"
   ]
  },
  {
   "cell_type": "code",
   "execution_count": 25,
   "id": "11908673",
   "metadata": {},
   "outputs": [
    {
     "name": "stdout",
     "output_type": "stream",
     "text": [
      "FPR difference between women and men 0.029054054054054056\n"
     ]
    }
   ],
   "source": [
    "print(\"FPR difference between women and men\", BiLstm_w2v_women_FPR - BiLstm_w2v_men_FPR)"
   ]
  },
  {
   "cell_type": "code",
   "execution_count": 26,
   "id": "82ce53c6",
   "metadata": {},
   "outputs": [
    {
     "name": "stdout",
     "output_type": "stream",
     "text": [
      "TPR difference between women and men 0.023076923076923106\n"
     ]
    }
   ],
   "source": [
    "print(\"TPR difference between women and men\", BiLstm_w2v_women_TPR - BiLstm_w2v_men_TPR)"
   ]
  },
  {
   "cell_type": "markdown",
   "id": "3596245f",
   "metadata": {},
   "source": [
    "### Find fairness metric (Error Rate Equality Difference) in Bi-LSTM abd glove-wk"
   ]
  },
  {
   "cell_type": "code",
   "execution_count": 27,
   "id": "9d3e8744",
   "metadata": {},
   "outputs": [],
   "source": [
    "#FPR anf FNR in the entire test set\n",
    "y_actual = Twitter_sexism_test_Set[\"oh_label\"].values\n",
    "y_predict_BiLSTM_glove_wk = np.rint(Twitter_sexism_test_Set[\"Bilstm_prediction_glove_wk_trainable_False\"].values)\n",
    "\n",
    "BiLstm_glove_wk_FPR, BiLstm_glove_wk_FNR, BiLstm_glove_wk_TPR, BiLstm_glove_wk_TNR = find_FPR_and_TPR(y_actual, y_predict_BiLSTM_glove_wk)"
   ]
  },
  {
   "cell_type": "code",
   "execution_count": 28,
   "id": "7af1d80e",
   "metadata": {},
   "outputs": [
    {
     "data": {
      "text/plain": [
       "(0.04482477587612062, 0.7815315315315315)"
      ]
     },
     "execution_count": 28,
     "metadata": {},
     "output_type": "execute_result"
    }
   ],
   "source": [
    "BiLstm_glove_wk_FPR, BiLstm_glove_wk_TPR"
   ]
  },
  {
   "cell_type": "code",
   "execution_count": 29,
   "id": "2c69e39b",
   "metadata": {},
   "outputs": [
    {
     "name": "stdout",
     "output_type": "stream",
     "text": [
      "F1 scores 0.8203309692671394\n"
     ]
    }
   ],
   "source": [
    "print(\"F1 scores\", f1_score(y_actual, y_predict_BiLSTM_glove_wk))"
   ]
  },
  {
   "cell_type": "code",
   "execution_count": 30,
   "id": "8f35ec9e",
   "metadata": {},
   "outputs": [
    {
     "name": "stdout",
     "output_type": "stream",
     "text": [
      "FPR women 0.02702702702702703\n",
      "TPR women 0.9230769230769231\n",
      "FPR men 0.05\n",
      "TPR men 1.0\n",
      "FPR difference between women and men -0.022972972972972974\n",
      "TPR difference between women and men -0.07692307692307687\n"
     ]
    }
   ],
   "source": [
    "#FPR anf FNR in for women related identities\n",
    "y_women_actual = Twitter_sexism_test_Set_women_terms[\"oh_label\"].values\n",
    "y_women_bilstm_glove_wk_predict = np.rint(Twitter_sexism_test_Set_women_terms[\"Bilstm_prediction_glove_wk_trainable_False\"].values)\n",
    "BiLstm_glove_wk_women_FPR, BiLstm_glove_wk_women_FNR, BiLstm_glove_wk_women_TPR, BiLstm_glove_wk_women_TNR = find_FPR_and_TPR(y_women_actual, y_women_bilstm_glove_wk_predict)\n",
    "print(\"FPR women\", BiLstm_glove_wk_women_FPR)\n",
    "print(\"TPR women\", BiLstm_glove_wk_women_TPR)\n",
    "\n",
    "\n",
    "#FPR anf FNR in for men related identities\n",
    "y_men_actual = Twitter_sexism_test_Set_men_terms[\"oh_label\"].values\n",
    "y_men_bilstm_glove_wk_predict = np.rint(Twitter_sexism_test_Set_men_terms[\"Bilstm_prediction_glove_wk_trainable_False\"].values)\n",
    "BiLstm_glove_wk_men_FPR, BiLstm_glove_wk_men_FNR, BiLstm_glove_wk_men_TPR, BiLstm_glove_wk_men_TNR = find_FPR_and_TPR(y_men_actual, y_men_bilstm_glove_wk_predict)\n",
    "print(\"FPR men\", BiLstm_glove_wk_men_FPR)\n",
    "print(\"TPR men\", BiLstm_glove_wk_men_TPR)\n",
    "\n",
    "\n",
    "print(\"FPR difference between women and men\", BiLstm_glove_wk_women_FPR - BiLstm_glove_wk_men_FPR)\n",
    "print(\"TPR difference between women and men\", BiLstm_glove_wk_women_TPR - BiLstm_glove_wk_men_TPR)"
   ]
  },
  {
   "cell_type": "code",
   "execution_count": 31,
   "id": "2a6f399c",
   "metadata": {},
   "outputs": [
    {
     "name": "stdout",
     "output_type": "stream",
     "text": [
      "F1_women 0.9230769230769231\n"
     ]
    }
   ],
   "source": [
    "print(\"F1_women\", f1_score(y_women_actual, y_women_bilstm_glove_wk_predict))"
   ]
  },
  {
   "cell_type": "code",
   "execution_count": 32,
   "id": "35b04f40",
   "metadata": {},
   "outputs": [
    {
     "name": "stdout",
     "output_type": "stream",
     "text": [
      "F1_men 0.9090909090909091\n"
     ]
    }
   ],
   "source": [
    "print(\"F1_men\", f1_score(y_men_actual, y_men_bilstm_glove_wk_predict))"
   ]
  },
  {
   "cell_type": "markdown",
   "id": "716e73ff",
   "metadata": {},
   "source": [
    "### Find fairness metric (Error Rate Equality Difference) in Bi-LSTM abd glove-twitter"
   ]
  },
  {
   "cell_type": "code",
   "execution_count": 33,
   "id": "20020171",
   "metadata": {},
   "outputs": [],
   "source": [
    "#FPR anf FNR in the entire test set\n",
    "y_actual = Twitter_sexism_test_Set[\"oh_label\"].values\n",
    "y_predict_BiLSTM_glove_twitter = np.rint(Twitter_sexism_test_Set[\"Bilstm_prediction_glove_twitter_trainable_False\"].values)\n",
    "\n",
    "BiLstm_glove_twitter_FPR, BiLstm_glove_twitter_FNR, BiLstm_glove_twitter_TPR, BiLstm_glove_twitter_TNR = find_FPR_and_TPR(y_actual, y_predict_BiLSTM_glove_twitter)"
   ]
  },
  {
   "cell_type": "code",
   "execution_count": 34,
   "id": "13aa2d13",
   "metadata": {},
   "outputs": [
    {
     "data": {
      "text/plain": [
       "(0.03341483292583537, 0.8378378378378378)"
      ]
     },
     "execution_count": 34,
     "metadata": {},
     "output_type": "execute_result"
    }
   ],
   "source": [
    "BiLstm_glove_twitter_FPR, BiLstm_glove_twitter_TPR"
   ]
  },
  {
   "cell_type": "code",
   "execution_count": 35,
   "id": "f5a291b4",
   "metadata": {},
   "outputs": [
    {
     "name": "stdout",
     "output_type": "stream",
     "text": [
      "F1-score 0.868144690781797\n"
     ]
    }
   ],
   "source": [
    "print(\"F1-score\", f1_score(y_actual, y_predict_BiLSTM_glove_twitter))"
   ]
  },
  {
   "cell_type": "code",
   "execution_count": 36,
   "id": "39d4eddb",
   "metadata": {},
   "outputs": [
    {
     "name": "stdout",
     "output_type": "stream",
     "text": [
      "FPR women 0.0\n",
      "TPR women 1.0\n",
      "FPR men 0.05\n",
      "TPR men 1.0\n",
      "FPR difference between women and men -0.05\n",
      "TPR difference between women and men 0.0\n"
     ]
    }
   ],
   "source": [
    "#FPR anf FNR in for women related identities\n",
    "y_women_actual = Twitter_sexism_test_Set_women_terms[\"oh_label\"].values\n",
    "y_women_bilstm_glove_twitter_predict = np.rint(Twitter_sexism_test_Set_women_terms[\"Bilstm_prediction_glove_twitter_trainable_False\"].values)\n",
    "BiLstm_glove_twitter_women_FPR, BiLstm_glove_twitter_women_FNR, BiLstm_glove_twitter_women_TPR, BiLstm_glove_twitter_women_TNR = find_FPR_and_TPR(y_women_actual, y_women_bilstm_glove_twitter_predict)\n",
    "print(\"FPR women\", BiLstm_glove_twitter_women_FPR)\n",
    "print(\"TPR women\", BiLstm_glove_twitter_women_TPR)\n",
    "\n",
    "\n",
    "#FPR anf FNR in for men related identities\n",
    "y_men_actual = Twitter_sexism_test_Set_men_terms[\"oh_label\"].values\n",
    "y_men_bilstm_glove_twitter_predict = np.rint(Twitter_sexism_test_Set_men_terms[\"Bilstm_prediction_glove_twitter_trainable_False\"].values)\n",
    "BiLstm_glove_twitter_men_FPR, BiLstm_glove_twitter_men_FNR, BiLstm_glove_twitter_men_TPR, BiLstm_glove_twitter_men_TNR = find_FPR_and_TPR(y_men_actual, y_men_bilstm_glove_twitter_predict)\n",
    "print(\"FPR men\", BiLstm_glove_twitter_men_FPR)\n",
    "print(\"TPR men\", BiLstm_glove_twitter_men_TPR)\n",
    "\n",
    "\n",
    "print(\"FPR difference between women and men\", BiLstm_glove_twitter_women_FPR - BiLstm_glove_twitter_men_FPR)\n",
    "print(\"TPR difference between women and men\", BiLstm_glove_twitter_women_TPR - BiLstm_glove_twitter_men_TPR)"
   ]
  },
  {
   "cell_type": "code",
   "execution_count": 37,
   "id": "da792666",
   "metadata": {},
   "outputs": [
    {
     "name": "stdout",
     "output_type": "stream",
     "text": [
      "F1_women 1.0\n"
     ]
    }
   ],
   "source": [
    "print(\"F1_women\", f1_score(y_women_actual, y_women_bilstm_glove_twitter_predict))"
   ]
  },
  {
   "cell_type": "code",
   "execution_count": 38,
   "id": "ea982156",
   "metadata": {},
   "outputs": [
    {
     "name": "stdout",
     "output_type": "stream",
     "text": [
      "F1_men 0.9090909090909091\n"
     ]
    }
   ],
   "source": [
    "print(\"F1_men\", f1_score(y_men_actual, y_men_bilstm_glove_twitter_predict))"
   ]
  },
  {
   "cell_type": "markdown",
   "id": "cb95c862",
   "metadata": {},
   "source": [
    "### Find fairness metric (Error Rate Equality Difference) in Bi-LSTM and UD"
   ]
  },
  {
   "cell_type": "code",
   "execution_count": 39,
   "id": "11da12dd",
   "metadata": {},
   "outputs": [],
   "source": [
    "#FPR anf FNR in the entire test set\n",
    "y_actual = Twitter_sexism_test_Set[\"oh_label\"].values\n",
    "y_predict_BiLSTM_ud = np.rint(Twitter_sexism_test_Set[\"Bilstm_prediction_ud_trainable_False\"].values)\n",
    "\n",
    "BiLstm_ud_FPR, BiLstm_ud_FNR, BiLstm_ud_TPR, BiLstm_ud_TNR = find_FPR_and_TPR(y_actual, y_predict_BiLSTM_ud)"
   ]
  },
  {
   "cell_type": "code",
   "execution_count": 40,
   "id": "6b24eca1",
   "metadata": {},
   "outputs": [
    {
     "data": {
      "text/plain": [
       "(0.012224938875305624, 0.6193693693693694)"
      ]
     },
     "execution_count": 40,
     "metadata": {},
     "output_type": "execute_result"
    }
   ],
   "source": [
    "BiLstm_ud_FPR, BiLstm_ud_TPR"
   ]
  },
  {
   "cell_type": "code",
   "execution_count": 41,
   "id": "e0a3958f",
   "metadata": {},
   "outputs": [
    {
     "name": "stdout",
     "output_type": "stream",
     "text": [
      "F1 scores 0.7493188010899182\n"
     ]
    }
   ],
   "source": [
    "print(\"F1 scores\", f1_score(y_actual, y_predict_BiLSTM_ud))"
   ]
  },
  {
   "cell_type": "code",
   "execution_count": 42,
   "id": "34c3da65",
   "metadata": {},
   "outputs": [
    {
     "name": "stdout",
     "output_type": "stream",
     "text": [
      "FPR women 0.0\n",
      "TPR women 0.6153846153846154\n",
      "FPR men 0.05\n",
      "TPR men 0.6\n",
      "FPR difference between women and men -0.05\n",
      "TPR difference between women and men 0.015384615384615441\n"
     ]
    }
   ],
   "source": [
    "#FPR anf FNR in for women related identities\n",
    "y_women_actual = Twitter_sexism_test_Set_women_terms[\"oh_label\"].values\n",
    "y_women_bilstm_ud_predict = np.rint(Twitter_sexism_test_Set_women_terms[\"Bilstm_prediction_ud_trainable_False\"].values)\n",
    "BiLstm_ud_women_FPR, BiLstm_ud_women_FNR, BiLstm_ud_women_TPR, BiLstm_ud_women_TNR   = find_FPR_and_TPR(y_women_actual, y_women_bilstm_ud_predict)\n",
    "print(\"FPR women\", BiLstm_ud_women_FPR)\n",
    "print(\"TPR women\", BiLstm_ud_women_TPR)\n",
    "\n",
    "\n",
    "#FPR anf FNR in for men related identities\n",
    "y_men_actual = Twitter_sexism_test_Set_men_terms[\"oh_label\"].values\n",
    "y_men_bilstm_ud_predict = np.rint(Twitter_sexism_test_Set_men_terms[\"Bilstm_prediction_ud_trainable_False\"].values)\n",
    "BiLstm_ud_men_FPR, BiLstm_ud_men_FNR, BiLstm_ud_men_TPR, BiLstm_ud_men_TNR = find_FPR_and_TPR(y_men_actual, y_men_bilstm_ud_predict)\n",
    "print(\"FPR men\", BiLstm_ud_men_FPR)\n",
    "print(\"TPR men\", BiLstm_ud_men_TPR)\n",
    "\n",
    "\n",
    "print(\"FPR difference between women and men\", BiLstm_ud_women_FPR - BiLstm_ud_men_FPR)\n",
    "print(\"TPR difference between women and men\", BiLstm_ud_women_TPR - BiLstm_ud_men_TPR)"
   ]
  },
  {
   "cell_type": "code",
   "execution_count": 43,
   "id": "1603e2a9",
   "metadata": {},
   "outputs": [
    {
     "name": "stdout",
     "output_type": "stream",
     "text": [
      "F1-score_women 0.761904761904762\n"
     ]
    }
   ],
   "source": [
    "print(\"F1-score_women\",f1_score(y_women_actual, y_women_bilstm_ud_predict))"
   ]
  },
  {
   "cell_type": "code",
   "execution_count": 44,
   "id": "1c5d3092",
   "metadata": {},
   "outputs": [
    {
     "name": "stdout",
     "output_type": "stream",
     "text": [
      "F1-score-men 0.6666666666666665\n"
     ]
    }
   ],
   "source": [
    "print(\"F1-score-men\", f1_score(y_men_actual, y_men_bilstm_ud_predict))"
   ]
  },
  {
   "cell_type": "markdown",
   "id": "17ec4282",
   "metadata": {},
   "source": [
    "### Find fairness metric (Error Rate Equality Difference) in Bi-LSTM and Chan"
   ]
  },
  {
   "cell_type": "code",
   "execution_count": 45,
   "id": "2f07969b",
   "metadata": {},
   "outputs": [],
   "source": [
    "#FPR anf FNR in the entire test set\n",
    "y_actual = Twitter_sexism_test_Set[\"oh_label\"].values\n",
    "y_predict_BiLSTM_chan = np.rint(Twitter_sexism_test_Set[\"Bilstm_prediction_chan_trainable_False\"].values)\n",
    "\n",
    "BiLstm_chan_FPR, BiLstm_chan_FNR, BiLstm_chan_TPR, BiLstm_chan_TNR = find_FPR_and_TPR(y_actual, y_predict_BiLSTM_chan)"
   ]
  },
  {
   "cell_type": "code",
   "execution_count": 46,
   "id": "7e605bee",
   "metadata": {},
   "outputs": [
    {
     "data": {
      "text/plain": [
       "(0.030969845150774247, 0.7657657657657657)"
      ]
     },
     "execution_count": 46,
     "metadata": {},
     "output_type": "execute_result"
    }
   ],
   "source": [
    "BiLstm_chan_FPR, BiLstm_chan_TPR"
   ]
  },
  {
   "cell_type": "code",
   "execution_count": 47,
   "id": "b5be4e9b",
   "metadata": {},
   "outputs": [
    {
     "name": "stdout",
     "output_type": "stream",
     "text": [
      "F1-score 0.8272506082725061\n"
     ]
    }
   ],
   "source": [
    "print(\"F1-score\", f1_score(y_actual, y_predict_BiLSTM_chan))"
   ]
  },
  {
   "cell_type": "code",
   "execution_count": 48,
   "id": "2a8c7836",
   "metadata": {},
   "outputs": [
    {
     "name": "stdout",
     "output_type": "stream",
     "text": [
      "FPR_women 0.05405405405405406\n",
      "TPR_women 0.9459459459459459\n",
      "FPR_men 0.025\n",
      "TPR_men 0.975\n",
      "FPR difference between women and men 0.029054054054054056\n",
      "TPR difference between women and men 0.0461538461538461\n"
     ]
    }
   ],
   "source": [
    "#FPR anf FNR in for women related identities\n",
    "y_women_actual = Twitter_sexism_test_Set_women_terms[\"oh_label\"].values\n",
    "y_women_bilstm_chan_predict = np.rint(Twitter_sexism_test_Set_women_terms[\"Bilstm_prediction_chan_trainable_False\"].values)\n",
    "BiLstm_chan_women_FPR, BiLstm_chan_women_FNR, BiLstm_chan_women_TPR, BiLstm_chan_women_TNR = find_FPR_and_TPR(y_women_actual, y_women_bilstm_chan_predict)\n",
    "print(\"FPR_women\", BiLstm_chan_women_FPR)\n",
    "print(\"TPR_women\", BiLstm_chan_women_TNR)\n",
    "\n",
    "#FPR anf FNR in for men related identities\n",
    "y_men_actual = Twitter_sexism_test_Set_men_terms[\"oh_label\"].values\n",
    "y_men_bilstm_chan_predict = np.rint(Twitter_sexism_test_Set_men_terms[\"Bilstm_prediction_chan_trainable_False\"].values)\n",
    "BiLstm_chan_men_FPR, BiLstm_chan_men_FNR, BiLstm_chan_men_TPR, BiLstm_chan_men_TNR   = find_FPR_and_TPR(y_men_actual, y_men_bilstm_chan_predict)\n",
    "print(\"FPR_men\", BiLstm_chan_men_FPR)\n",
    "print(\"TPR_men\", BiLstm_chan_men_TNR)\n",
    "\n",
    "print(\"FPR difference between women and men\", BiLstm_chan_women_FPR - BiLstm_chan_men_FPR)\n",
    "print(\"TPR difference between women and men\", BiLstm_chan_women_TPR - BiLstm_chan_men_TPR)"
   ]
  },
  {
   "cell_type": "code",
   "execution_count": 49,
   "id": "1ddfa287",
   "metadata": {},
   "outputs": [
    {
     "name": "stdout",
     "output_type": "stream",
     "text": [
      "F1_score_women 0.8461538461538461\n"
     ]
    }
   ],
   "source": [
    "print(\"F1_score_women\", f1_score(y_women_actual, y_women_bilstm_chan_predict))"
   ]
  },
  {
   "cell_type": "code",
   "execution_count": 50,
   "id": "ea4e1c4a",
   "metadata": {},
   "outputs": [
    {
     "name": "stdout",
     "output_type": "stream",
     "text": [
      "F1_score_men 0.8421052631578948\n"
     ]
    }
   ],
   "source": [
    "print(\"F1_score_men\", f1_score(y_men_actual, y_men_bilstm_chan_predict))"
   ]
  },
  {
   "cell_type": "markdown",
   "id": "40c918a7",
   "metadata": {},
   "source": [
    "# MLP"
   ]
  },
  {
   "cell_type": "markdown",
   "id": "5d08044c",
   "metadata": {},
   "source": [
    "### Find fairness metric (Error Rate Equality Difference) in MLP and w2v"
   ]
  },
  {
   "cell_type": "code",
   "execution_count": 51,
   "id": "3e809184",
   "metadata": {},
   "outputs": [],
   "source": [
    "#FPR anf FNR in the entire test set\n",
    "y_actual = Twitter_sexism_test_Set[\"oh_label\"].values\n",
    "y_predict_MLP_w2v = np.rint(Twitter_sexism_test_Set[\"MLP_prediction_w2v_news_trainable_False\"].values)\n",
    "\n",
    "MLP_w2v_FPR, MLP_w2v_FNR, MLP_w2v_TPR, MLP_w2v_TNR = find_FPR_and_TPR(y_actual, y_predict_MLP_w2v)"
   ]
  },
  {
   "cell_type": "code",
   "execution_count": 52,
   "id": "971a6033",
   "metadata": {},
   "outputs": [
    {
     "data": {
      "text/plain": [
       "(0.06845965770171149, 0.6216216216216216)"
      ]
     },
     "execution_count": 52,
     "metadata": {},
     "output_type": "execute_result"
    }
   ],
   "source": [
    "MLP_w2v_FPR, MLP_w2v_TPR"
   ]
  },
  {
   "cell_type": "code",
   "execution_count": 53,
   "id": "823b63f7",
   "metadata": {},
   "outputs": [
    {
     "name": "stdout",
     "output_type": "stream",
     "text": [
      "F1 score 0.6865671641791045\n"
     ]
    }
   ],
   "source": [
    "print(\"F1 score\", f1_score(y_actual, y_predict_MLP_w2v))"
   ]
  },
  {
   "cell_type": "code",
   "execution_count": 54,
   "id": "b63b62a3",
   "metadata": {},
   "outputs": [
    {
     "name": "stdout",
     "output_type": "stream",
     "text": [
      "FPR women 0.05405405405405406\n",
      "TPR women 0.8461538461538461\n",
      "FPR men 0.075\n",
      "TPR men 0.8\n",
      "FPR difference between women and men -0.02094594594594594\n",
      "TPR difference between women and men 0.0461538461538461\n",
      "F1_women 0.8461538461538461\n",
      "F1_men 0.761904761904762\n"
     ]
    }
   ],
   "source": [
    "#FPR anf FNR in for women related identities\n",
    "y_women_actual = Twitter_sexism_test_Set_women_terms[\"oh_label\"].values\n",
    "y_women_MLP_w2v_predict = np.rint(Twitter_sexism_test_Set_women_terms[\"MLP_prediction_w2v_news_trainable_False\"].values)\n",
    "MLP_w2v_women_FPR, MLP_w2v_women_FNR, MLP_w2v_women_TPR, MLP_w2v_women_TNR = find_FPR_and_TPR(y_women_actual, y_women_MLP_w2v_predict)\n",
    "print(\"FPR women\", MLP_w2v_women_FPR)\n",
    "print(\"TPR women\", MLP_w2v_women_TPR)\n",
    "\n",
    "\n",
    "#FPR anf FNR in for men related identities\n",
    "y_men_actual = Twitter_sexism_test_Set_men_terms[\"oh_label\"].values\n",
    "y_men_MLP_w2v_predict = np.rint(Twitter_sexism_test_Set_men_terms[\"MLP_prediction_w2v_news_trainable_False\"].values)\n",
    "MLP_w2v_men_FPR, MLP_w2v_men_FNR, MLP_w2v_men_TPR, MLP_w2v_men_TNR = find_FPR_and_TPR(y_men_actual, y_men_MLP_w2v_predict)\n",
    "print(\"FPR men\", MLP_w2v_men_FPR)\n",
    "print(\"TPR men\", MLP_w2v_men_TPR)\n",
    "\n",
    "\n",
    "print(\"FPR difference between women and men\", MLP_w2v_women_FPR - MLP_w2v_men_FPR)\n",
    "print(\"TPR difference between women and men\", MLP_w2v_women_TPR - MLP_w2v_men_TPR)\n",
    "print(\"F1_women\", f1_score(y_women_actual, y_women_MLP_w2v_predict))\n",
    "print(\"F1_men\", f1_score(y_men_actual, y_men_MLP_w2v_predict))"
   ]
  },
  {
   "cell_type": "markdown",
   "id": "43266aae",
   "metadata": {},
   "source": [
    "### Find fairness metric (Error Rate Equality Difference) in MLP and glove-wk"
   ]
  },
  {
   "cell_type": "code",
   "execution_count": 55,
   "id": "4fdd9b81",
   "metadata": {},
   "outputs": [],
   "source": [
    "#FPR anf FNR in the entire test set\n",
    "y_actual = Twitter_sexism_test_Set[\"oh_label\"].values\n",
    "y_predict_MLP_glove_wk = np.rint(Twitter_sexism_test_Set[\"MLP_prediction_glove_wk_trainable_False\"].values)\n",
    "\n",
    "MLP_glove_wk_FPR, MLP_glove_wk_FNR, MLP_glove_wk_TPR, MLP_glove_wk_TNR = find_FPR_and_TPR(y_actual, y_predict_MLP_glove_wk)"
   ]
  },
  {
   "cell_type": "code",
   "execution_count": 56,
   "id": "40fa320c",
   "metadata": {},
   "outputs": [
    {
     "data": {
      "text/plain": [
       "(0.06845965770171149, 0.6418918918918919)"
      ]
     },
     "execution_count": 56,
     "metadata": {},
     "output_type": "execute_result"
    }
   ],
   "source": [
    "MLP_glove_wk_FPR, MLP_glove_wk_TPR"
   ]
  },
  {
   "cell_type": "code",
   "execution_count": 57,
   "id": "0bfc3ad3",
   "metadata": {},
   "outputs": [
    {
     "name": "stdout",
     "output_type": "stream",
     "text": [
      "F1 scores 0.7011070110701108\n"
     ]
    }
   ],
   "source": [
    "print(\"F1 scores\", f1_score(y_actual, y_predict_MLP_glove_wk))"
   ]
  },
  {
   "cell_type": "code",
   "execution_count": 58,
   "id": "b39a116a",
   "metadata": {},
   "outputs": [
    {
     "name": "stdout",
     "output_type": "stream",
     "text": [
      "FPR women 0.08108108108108109\n",
      "TPR women 0.9230769230769231\n",
      "FPR men 0.075\n",
      "TPR men 0.7\n",
      "FPR difference between women and men 0.006081081081081088\n",
      "TPR difference between women and men 0.22307692307692317\n",
      "F1_women 0.8571428571428571\n",
      "F1_men 0.7\n"
     ]
    }
   ],
   "source": [
    "#FPR anf FNR in for women related identities\n",
    "y_women_actual = Twitter_sexism_test_Set_women_terms[\"oh_label\"].values\n",
    "y_women_MLP_glove_wk_predict = np.rint(Twitter_sexism_test_Set_women_terms[\"MLP_prediction_glove_wk_trainable_False\"].values)\n",
    "MLP_glove_wk_women_FPR, BiLstm_glove_wk_women_FNR, MLP_glove_wk_women_TPR, MLP_glove_wk_women_TNR = find_FPR_and_TPR(y_women_actual, y_women_MLP_glove_wk_predict)\n",
    "print(\"FPR women\", MLP_glove_wk_women_FPR)\n",
    "print(\"TPR women\", MLP_glove_wk_women_TPR)\n",
    "\n",
    "\n",
    "#FPR anf FNR in for men related identities\n",
    "y_men_actual = Twitter_sexism_test_Set_men_terms[\"oh_label\"].values\n",
    "y_men_MLP_glove_wk_predict = np.rint(Twitter_sexism_test_Set_men_terms[\"MLP_prediction_glove_wk_trainable_False\"].values)\n",
    "MLP_glove_wk_men_FPR, MLP_glove_wk_men_FNR, MLP_glove_wk_men_TPR, MLP_glove_wk_men_TNR = find_FPR_and_TPR(y_men_actual, y_men_MLP_glove_wk_predict)\n",
    "print(\"FPR men\", MLP_glove_wk_men_FPR)\n",
    "print(\"TPR men\", MLP_glove_wk_men_TPR)\n",
    "\n",
    "\n",
    "print(\"FPR difference between women and men\", MLP_glove_wk_women_FPR - MLP_glove_wk_men_FPR)\n",
    "print(\"TPR difference between women and men\", MLP_glove_wk_women_TPR - MLP_glove_wk_men_TPR)\n",
    "print(\"F1_women\", f1_score(y_women_actual, y_women_MLP_glove_wk_predict))\n",
    "print(\"F1_men\", f1_score(y_men_actual, y_men_MLP_glove_wk_predict))"
   ]
  },
  {
   "cell_type": "markdown",
   "id": "fcaefdb8",
   "metadata": {},
   "source": [
    "### Find fairness metric (Error Rate Equality Difference) in MLP and glove-twitter"
   ]
  },
  {
   "cell_type": "code",
   "execution_count": 59,
   "id": "152b04c4",
   "metadata": {},
   "outputs": [],
   "source": [
    "#FPR anf FNR in the entire test set\n",
    "y_actual = Twitter_sexism_test_Set[\"oh_label\"].values\n",
    "y_predict_MLP_glove_twitter = np.rint(Twitter_sexism_test_Set[\"MLP_prediction_glove_twitter_trainable_False\"].values)\n",
    "\n",
    "MLP_glove_twitter_FPR, MLP_glove_twitter_FNR, MLP_glove_twitter_TPR, MLP_glove_twitter_TNR = find_FPR_and_TPR(y_actual, y_predict_MLP_glove_twitter)"
   ]
  },
  {
   "cell_type": "code",
   "execution_count": 60,
   "id": "1e9d9e98",
   "metadata": {},
   "outputs": [
    {
     "data": {
      "text/plain": [
       "(0.07416462917685411, 0.759009009009009)"
      ]
     },
     "execution_count": 60,
     "metadata": {},
     "output_type": "execute_result"
    }
   ],
   "source": [
    "MLP_glove_twitter_FPR, MLP_glove_twitter_TPR"
   ]
  },
  {
   "cell_type": "code",
   "execution_count": 61,
   "id": "1661f572",
   "metadata": {},
   "outputs": [
    {
     "name": "stdout",
     "output_type": "stream",
     "text": [
      "F1-score 0.7729357798165138\n"
     ]
    }
   ],
   "source": [
    "print(\"F1-score\", f1_score(y_actual, y_predict_MLP_glove_twitter))"
   ]
  },
  {
   "cell_type": "code",
   "execution_count": 62,
   "id": "a9b4fe4a",
   "metadata": {},
   "outputs": [
    {
     "name": "stdout",
     "output_type": "stream",
     "text": [
      "FPR women 0.1891891891891892\n",
      "TPR women 1.0\n",
      "FPR men 0.125\n",
      "TPR men 0.6\n",
      "FPR difference between women and men 0.0641891891891892\n",
      "TPR difference between women and men 0.4\n",
      "F1_women 0.787878787878788\n",
      "F1_men 0.5714285714285713\n"
     ]
    }
   ],
   "source": [
    "#FPR anf FNR in for women related identities\n",
    "y_women_actual = Twitter_sexism_test_Set_women_terms[\"oh_label\"].values\n",
    "y_women_MLP_glove_twitter_predict = np.rint(Twitter_sexism_test_Set_women_terms[\"MLP_prediction_glove_twitter_trainable_False\"].values)\n",
    "MLP_glove_twitter_women_FPR, MLP_glove_twitter_women_FNR, MLP_glove_twitter_women_TPR, MLP_glove_twitter_women_TNR = find_FPR_and_TPR(y_women_actual, y_women_MLP_glove_twitter_predict)\n",
    "print(\"FPR women\", MLP_glove_twitter_women_FPR)\n",
    "print(\"TPR women\", MLP_glove_twitter_women_TPR)\n",
    "\n",
    "\n",
    "#FPR anf FNR in for men related identities\n",
    "y_men_actual = Twitter_sexism_test_Set_men_terms[\"oh_label\"].values\n",
    "y_men_MLP_glove_twitter_predict = np.rint(Twitter_sexism_test_Set_men_terms[\"MLP_prediction_glove_twitter_trainable_False\"].values)\n",
    "MLP_glove_twitter_men_FPR, MLP_glove_twitter_men_FNR, MLP_glove_twitter_men_TPR, MLP_glove_twitter_men_TNR = find_FPR_and_TPR(y_men_actual, y_men_MLP_glove_twitter_predict)\n",
    "print(\"FPR men\", MLP_glove_twitter_men_FPR)\n",
    "print(\"TPR men\", MLP_glove_twitter_men_TPR)\n",
    "\n",
    "\n",
    "print(\"FPR difference between women and men\", MLP_glove_twitter_women_FPR - MLP_glove_twitter_men_FPR)\n",
    "print(\"TPR difference between women and men\", MLP_glove_twitter_women_TPR - MLP_glove_twitter_men_TPR)\n",
    "print(\"F1_women\", f1_score(y_women_actual, y_women_MLP_glove_twitter_predict))\n",
    "print(\"F1_men\", f1_score(y_men_actual, y_men_MLP_glove_twitter_predict))"
   ]
  },
  {
   "cell_type": "markdown",
   "id": "345fafbf",
   "metadata": {},
   "source": [
    "### Find fairness metric (Error Rate Equality Difference) in MLP and UD"
   ]
  },
  {
   "cell_type": "code",
   "execution_count": 63,
   "id": "649052ef",
   "metadata": {},
   "outputs": [],
   "source": [
    "#FPR anf FNR in the entire test set\n",
    "y_actual = Twitter_sexism_test_Set[\"oh_label\"].values\n",
    "y_predict_MLP_ud = np.rint(Twitter_sexism_test_Set[\"MLP_prediction_ud_trainable_False\"].values)\n",
    "\n",
    "MLP_ud_FPR, MLP_ud_FNR, MLP_ud_TPR, MLP_ud_TNR = find_FPR_and_TPR(y_actual, y_predict_MLP_ud)"
   ]
  },
  {
   "cell_type": "code",
   "execution_count": 64,
   "id": "62d93b3e",
   "metadata": {},
   "outputs": [
    {
     "data": {
      "text/plain": [
       "(0.06356968215158924, 0.740990990990991)"
      ]
     },
     "execution_count": 64,
     "metadata": {},
     "output_type": "execute_result"
    }
   ],
   "source": [
    "MLP_ud_FPR, MLP_ud_TPR"
   ]
  },
  {
   "cell_type": "code",
   "execution_count": 65,
   "id": "54f1ec85",
   "metadata": {},
   "outputs": [
    {
     "name": "stdout",
     "output_type": "stream",
     "text": [
      "F1 scores 0.7732079905992949\n"
     ]
    }
   ],
   "source": [
    "print(\"F1 scores\", f1_score(y_actual, y_predict_MLP_ud))"
   ]
  },
  {
   "cell_type": "code",
   "execution_count": 66,
   "id": "6f1e45a2",
   "metadata": {},
   "outputs": [
    {
     "name": "stdout",
     "output_type": "stream",
     "text": [
      "FPR women 0.21621621621621623\n",
      "TPR women 1.0\n",
      "FPR men 0.1\n",
      "TPR men 0.7\n",
      "FPR difference between women and men 0.11621621621621622\n",
      "TPR difference between women and men 0.30000000000000004\n",
      "F1-score_women 0.7647058823529412\n",
      "F1-score-men 0.6666666666666666\n"
     ]
    }
   ],
   "source": [
    "#FPR anf FNR in for women related identities\n",
    "y_women_actual = Twitter_sexism_test_Set_women_terms[\"oh_label\"].values\n",
    "y_women_MLP_ud_predict = np.rint(Twitter_sexism_test_Set_women_terms[\"MLP_prediction_ud_trainable_False\"].values)\n",
    "MLP_ud_women_FPR, MLP_ud_women_FNR, MLP_ud_women_TPR, MLP_ud_women_TNR   = find_FPR_and_TPR(y_women_actual, y_women_MLP_ud_predict)\n",
    "print(\"FPR women\", MLP_ud_women_FPR)\n",
    "print(\"TPR women\", MLP_ud_women_TPR)\n",
    "\n",
    "\n",
    "#FPR anf FNR in for men related identities\n",
    "y_men_actual = Twitter_sexism_test_Set_men_terms[\"oh_label\"].values\n",
    "y_men_MLP_ud_predict = np.rint(Twitter_sexism_test_Set_men_terms[\"MLP_prediction_ud_trainable_False\"].values)\n",
    "MLP_ud_men_FPR, BiLstm_ud_men_FNR, MLP_ud_men_TPR, MLP_ud_men_TNR = find_FPR_and_TPR(y_men_actual, y_men_MLP_ud_predict)\n",
    "print(\"FPR men\", MLP_ud_men_FPR)\n",
    "print(\"TPR men\", MLP_ud_men_TPR)\n",
    "\n",
    "\n",
    "print(\"FPR difference between women and men\", MLP_ud_women_FPR - MLP_ud_men_FPR)\n",
    "print(\"TPR difference between women and men\", MLP_ud_women_TPR - MLP_ud_men_TPR)\n",
    "print(\"F1-score_women\",f1_score(y_women_actual, y_women_MLP_ud_predict))\n",
    "print(\"F1-score-men\", f1_score(y_men_actual, y_men_MLP_ud_predict))"
   ]
  },
  {
   "cell_type": "markdown",
   "id": "e05eaa58",
   "metadata": {},
   "source": [
    "### Find fairness metric (Error Rate Equality Difference) in MLP and Chan"
   ]
  },
  {
   "cell_type": "code",
   "execution_count": 67,
   "id": "6411cc39",
   "metadata": {},
   "outputs": [],
   "source": [
    "#FPR anf FNR in the entire test set\n",
    "y_actual = Twitter_sexism_test_Set[\"oh_label\"].values\n",
    "y_predict_MLP_chan = np.rint(Twitter_sexism_test_Set[\"MLP_prediction_chan_trainable_False\"].values)\n",
    "\n",
    "MLP_chan_FPR, MLP_chan_FNR, MLP_chan_TPR, MLP_chan_TNR = find_FPR_and_TPR(y_actual, y_predict_MLP_chan)"
   ]
  },
  {
   "cell_type": "code",
   "execution_count": 68,
   "id": "c426f417",
   "metadata": {},
   "outputs": [
    {
     "data": {
      "text/plain": [
       "(0.05867970660146699, 0.5675675675675675)"
      ]
     },
     "execution_count": 68,
     "metadata": {},
     "output_type": "execute_result"
    }
   ],
   "source": [
    "MLP_chan_FPR, MLP_chan_TPR"
   ]
  },
  {
   "cell_type": "code",
   "execution_count": 69,
   "id": "45c71f2c",
   "metadata": {},
   "outputs": [
    {
     "name": "stdout",
     "output_type": "stream",
     "text": [
      "F1-score 0.65625\n"
     ]
    }
   ],
   "source": [
    "print(\"F1-score\", f1_score(y_actual, y_predict_MLP_chan))"
   ]
  },
  {
   "cell_type": "code",
   "execution_count": 70,
   "id": "3012365d",
   "metadata": {},
   "outputs": [
    {
     "name": "stdout",
     "output_type": "stream",
     "text": [
      "FPR_women 0.1891891891891892\n",
      "TPR_women 0.8108108108108109\n",
      "FPR_men 0.1\n",
      "TPR_men 0.9\n",
      "FPR difference between women and men 0.0891891891891892\n",
      "TPR difference between women and men -0.08461538461538454\n",
      "F1_score_women 0.5714285714285715\n",
      "F1_score_men 0.6666666666666666\n"
     ]
    }
   ],
   "source": [
    "#FPR anf FNR in for women related identities\n",
    "y_women_actual = Twitter_sexism_test_Set_women_terms[\"oh_label\"].values\n",
    "y_women_MLP_chan_predict = np.rint(Twitter_sexism_test_Set_women_terms[\"MLP_prediction_chan_trainable_False\"].values)\n",
    "MLP_chan_women_FPR, MLP_chan_women_FNR, MLP_chan_women_TPR, MLP_chan_women_TNR = find_FPR_and_TPR(y_women_actual, y_women_MLP_chan_predict)\n",
    "print(\"FPR_women\", MLP_chan_women_FPR)\n",
    "print(\"TPR_women\", MLP_chan_women_TNR)\n",
    "\n",
    "#FPR anf FNR in for men related identities\n",
    "y_men_actual = Twitter_sexism_test_Set_men_terms[\"oh_label\"].values\n",
    "y_men_MLP_chan_predict = np.rint(Twitter_sexism_test_Set_men_terms[\"MLP_prediction_chan_trainable_False\"].values)\n",
    "MLP_chan_men_FPR, MLP_chan_men_FNR, MLP_chan_men_TPR, MLP_chan_men_TNR  = find_FPR_and_TPR(y_men_actual, y_men_MLP_chan_predict)\n",
    "print(\"FPR_men\", MLP_chan_men_FPR)\n",
    "print(\"TPR_men\", MLP_chan_men_TNR)\n",
    "\n",
    "print(\"FPR difference between women and men\", MLP_chan_women_FPR - MLP_chan_men_FPR)\n",
    "print(\"TPR difference between women and men\", MLP_chan_women_TPR - MLP_chan_men_TPR)\n",
    "print(\"F1_score_women\", f1_score(y_women_actual, y_women_MLP_chan_predict))\n",
    "print(\"F1_score_men\", f1_score(y_men_actual, y_men_MLP_chan_predict))"
   ]
  },
  {
   "cell_type": "code",
   "execution_count": null,
   "id": "f6062e5c",
   "metadata": {},
   "outputs": [],
   "source": []
  },
  {
   "cell_type": "code",
   "execution_count": null,
   "id": "2911678d",
   "metadata": {},
   "outputs": [],
   "source": []
  }
 ],
 "metadata": {
  "kernelspec": {
   "display_name": "Python 3",
   "language": "python",
   "name": "python3"
  },
  "language_info": {
   "codemirror_mode": {
    "name": "ipython",
    "version": 3
   },
   "file_extension": ".py",
   "mimetype": "text/x-python",
   "name": "python",
   "nbconvert_exporter": "python",
   "pygments_lexer": "ipython3",
   "version": "3.8.10"
  }
 },
 "nbformat": 4,
 "nbformat_minor": 5
}
