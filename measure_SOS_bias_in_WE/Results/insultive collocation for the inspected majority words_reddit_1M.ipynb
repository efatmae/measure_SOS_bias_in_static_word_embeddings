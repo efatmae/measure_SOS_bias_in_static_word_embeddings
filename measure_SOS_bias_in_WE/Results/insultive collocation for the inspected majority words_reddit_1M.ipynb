{
 "cells": [
  {
   "cell_type": "code",
   "execution_count": 1,
   "id": "ffb3f958",
   "metadata": {},
   "outputs": [],
   "source": [
    "import pandas as pd\n",
    "import numpy as np\n",
    "import os"
   ]
  },
  {
   "cell_type": "code",
   "execution_count": 2,
   "id": "26234519",
   "metadata": {},
   "outputs": [],
   "source": [
    "def find_list_of_words_in_df(df, slur_list, text_col):\n",
    "  ps_in_hateEval = []\n",
    "  for i in slur_list: \n",
    "    if  df[text_col].str.contains(i).any() == True:\n",
    "      print(\"terms found \"+ i)  \n",
    "      ps_mid = df[df[text_col].str.contains(i)]\n",
    "      ps_in_hateEval.append(ps_mid)\n",
    "      \n",
    "  if len(ps_in_hateEval)>0:\n",
    "      ps_in_hateEval_df = pd.concat(ps_in_hateEval)\n",
    "      return ps_in_hateEval_df\n",
    "  else:\n",
    "        print (\"Nothing found\")"
   ]
  },
  {
   "cell_type": "code",
   "execution_count": 3,
   "id": "9a4bc94e",
   "metadata": {},
   "outputs": [],
   "source": [
    "data_folder = \"../../../Data/\""
   ]
  },
  {
   "cell_type": "code",
   "execution_count": 4,
   "id": "7e0c3fb2",
   "metadata": {},
   "outputs": [],
   "source": [
    "profane_words = open(data_folder+\"swear_words.txt\").read().splitlines()"
   ]
  },
  {
   "cell_type": "code",
   "execution_count": 5,
   "id": "96de823c",
   "metadata": {},
   "outputs": [],
   "source": [
    "collocation_folder = \"./collocation_results_1M_reddit/majority/\""
   ]
  },
  {
   "cell_type": "code",
   "execution_count": 6,
   "id": "12c019d2",
   "metadata": {},
   "outputs": [
    {
     "data": {
      "text/plain": [
       "['reddit_father_collocation.csv',\n",
       " 'reddit_caucasian_collocation.csv',\n",
       " 'reddit_canadian_collocation.csv',\n",
       " 'reddit_australian_collocation.csv',\n",
       " 'reddit_heterosexual_collocation.csv',\n",
       " 'reddit_english_collocation.csv',\n",
       " 'reddit_cisgender_collocation.csv',\n",
       " 'reddit_arab_collocation.csv',\n",
       " 'reddit_german_collocation.csv',\n",
       " 'reddit_boy_collocation.csv',\n",
       " 'reddit_son_collocation.csv',\n",
       " 'reddit_hetrosexual_collocation.csv',\n",
       " 'reddit_man_collocation.csv',\n",
       " 'reddit_dutch_collocation.csv',\n",
       " 'reddit_european_collocation.csv',\n",
       " 'reddit_norwegian_collocation.csv',\n",
       " 'reddit_american_collocation.csv',\n",
       " 'reddit_french_collocation.csv',\n",
       " 'reddit_brother_collocation.csv',\n",
       " 'reddit_swedish_collocation.csv',\n",
       " 'reddit_male_collocation.csv',\n",
       " 'reddit_husband_collocation.csv',\n",
       " 'reddit_white_collocation.csv']"
      ]
     },
     "execution_count": 6,
     "metadata": {},
     "output_type": "execute_result"
    }
   ],
   "source": [
    "os.listdir(collocation_folder)"
   ]
  },
  {
   "cell_type": "code",
   "execution_count": 7,
   "id": "bba9955a",
   "metadata": {},
   "outputs": [
    {
     "name": "stdout",
     "output_type": "stream",
     "text": [
      "terms found ass\n",
      "terms found bad\n",
      "terms found fag\n",
      "terms found faggot\n",
      "terms found fat\n",
      "terms found hate\n",
      "terms found hell\n",
      "terms found idiot\n",
      "terms found mean\n",
      "terms found sex\n",
      "terms found shi\n",
      "terms found shit\n",
      "terms found shitty\n",
      "terms found sob\n",
      "terms found tit\n",
      "terms found ass\n",
      "terms found asses\n",
      "terms found fat\n",
      "terms found fuck\n",
      "terms found fuckin\n",
      "terms found fucking\n",
      "terms found hate\n",
      "terms found kick\n",
      "terms found kill\n",
      "terms found mean\n",
      "terms found punch\n",
      "terms found sex\n",
      "terms found smell\n"
     ]
    }
   ],
   "source": [
    "reddit_father_collocation = pd.read_csv(collocation_folder+\"/reddit_father_collocation.csv\")\n",
    "reddit_father_collocation_insults1 = find_list_of_words_in_df(reddit_father_collocation,\n",
    "                                                                 profane_words,\n",
    "                                                                 \"word1\")\n",
    "reddit_father_collocation_insults2 = find_list_of_words_in_df(reddit_father_collocation,\n",
    "                                                                 profane_words,\n",
    "                                                                 \"word2\")\n",
    "reddit_father_collocation_insults = pd.concat([reddit_father_collocation_insults1,reddit_father_collocation_insults2])"
   ]
  },
  {
   "cell_type": "code",
   "execution_count": 8,
   "id": "a2303a46",
   "metadata": {},
   "outputs": [
    {
     "name": "stdout",
     "output_type": "stream",
     "text": [
      "father insultive collocation average PMI: 3.8614683378538954\n"
     ]
    }
   ],
   "source": [
    "print(\"father insultive collocation average PMI:\",np.mean(reddit_father_collocation_insults.PMI))"
   ]
  },
  {
   "cell_type": "code",
   "execution_count": 9,
   "id": "ab804741",
   "metadata": {},
   "outputs": [
    {
     "name": "stdout",
     "output_type": "stream",
     "text": [
      "terms found ass\n",
      "terms found shi\n"
     ]
    }
   ],
   "source": [
    "reddit_caucasian_collocation = pd.read_csv(collocation_folder+\"/reddit_caucasian_collocation.csv\")\n",
    "reddit_caucasian_collocation_insults1 = find_list_of_words_in_df(reddit_caucasian_collocation,\n",
    "                                                                 profane_words,\n",
    "                                                                 \"word1\")\n",
    "reddit_caucasian_collocation_insults2 = find_list_of_words_in_df(reddit_caucasian_collocation,\n",
    "                                                                 profane_words,\n",
    "                                                                 \"word2\")\n",
    "reddit_caucasian_collocation_insults = pd.concat([reddit_caucasian_collocation_insults1,reddit_caucasian_collocation_insults2])"
   ]
  },
  {
   "cell_type": "code",
   "execution_count": 10,
   "id": "cc83a4bf",
   "metadata": {},
   "outputs": [
    {
     "name": "stdout",
     "output_type": "stream",
     "text": [
      "caucasian insultive collocation average PMI: 8.605195686453683\n"
     ]
    }
   ],
   "source": [
    "print(\"caucasian insultive collocation average PMI:\",np.mean(reddit_caucasian_collocation_insults.PMI))"
   ]
  },
  {
   "cell_type": "code",
   "execution_count": 11,
   "id": "15fdeb67",
   "metadata": {},
   "outputs": [
    {
     "name": "stdout",
     "output_type": "stream",
     "text": [
      "terms found ass\n",
      "terms found fuck\n",
      "terms found fuckin\n",
      "terms found fucking\n",
      "terms found kill\n",
      "terms found pron\n",
      "terms found shi\n",
      "terms found tit\n",
      "terms found ass\n",
      "terms found dick\n",
      "terms found fuck\n",
      "terms found jerk\n",
      "terms found pron\n",
      "terms found shi\n",
      "terms found spac\n",
      "terms found tit\n"
     ]
    }
   ],
   "source": [
    "reddit_canadian_collocation = pd.read_csv(collocation_folder+\"/reddit_canadian_collocation.csv\")\n",
    "reddit_canadian_collocation_insults1 = find_list_of_words_in_df(reddit_canadian_collocation,\n",
    "                                                                 profane_words,\n",
    "                                                                 \"word1\")\n",
    "reddit_canadian_collocation_insults2 = find_list_of_words_in_df(reddit_canadian_collocation,\n",
    "                                                                 profane_words,\n",
    "                                                                 \"word2\")\n",
    "reddit_canadian_collocation_insults = pd.concat([reddit_canadian_collocation_insults1,reddit_canadian_collocation_insults2])"
   ]
  },
  {
   "cell_type": "code",
   "execution_count": 12,
   "id": "f3efa16f",
   "metadata": {},
   "outputs": [
    {
     "name": "stdout",
     "output_type": "stream",
     "text": [
      "canadian insultive collocation average PMI: 5.080086191965065\n"
     ]
    }
   ],
   "source": [
    "print(\"canadian insultive collocation average PMI:\",np.mean(reddit_canadian_collocation_insults.PMI))"
   ]
  },
  {
   "cell_type": "code",
   "execution_count": 13,
   "id": "864a7f11",
   "metadata": {},
   "outputs": [
    {
     "name": "stdout",
     "output_type": "stream",
     "text": [
      "terms found ass\n",
      "terms found bad\n",
      "terms found fat\n",
      "terms found mean\n",
      "terms found ass\n",
      "terms found fuck\n",
      "terms found horny\n",
      "terms found kill\n",
      "terms found shi\n",
      "terms found tit\n"
     ]
    }
   ],
   "source": [
    "reddit_australian_collocation = pd.read_csv(collocation_folder+\"/reddit_australian_collocation.csv\")\n",
    "reddit_australian_collocation_insults1 = find_list_of_words_in_df(reddit_australian_collocation,\n",
    "                                                                 profane_words,\n",
    "                                                                 \"word1\")\n",
    "reddit_australian_collocation_insults2 = find_list_of_words_in_df(reddit_australian_collocation,\n",
    "                                                                 profane_words,\n",
    "                                                                 \"word2\")\n",
    "reddit_australian_collocation_insults = pd.concat([reddit_australian_collocation_insults1,reddit_australian_collocation_insults2])"
   ]
  },
  {
   "cell_type": "code",
   "execution_count": 14,
   "id": "1aae3c3d",
   "metadata": {},
   "outputs": [
    {
     "name": "stdout",
     "output_type": "stream",
     "text": [
      "australian insultive collocation average PMI: 7.035434233306052\n"
     ]
    }
   ],
   "source": [
    "print(\"australian insultive collocation average PMI:\",np.mean(reddit_australian_collocation_insults.PMI))"
   ]
  },
  {
   "cell_type": "code",
   "execution_count": 15,
   "id": "3a0fddc2",
   "metadata": {},
   "outputs": [
    {
     "name": "stdout",
     "output_type": "stream",
     "text": [
      "terms found ass\n",
      "terms found bad\n",
      "terms found aps\n",
      "terms found fuck\n",
      "terms found fuckin\n",
      "terms found fucking\n",
      "terms found hate\n",
      "terms found homo\n",
      "terms found jap\n",
      "terms found mean\n",
      "terms found aps\n",
      "terms found pron\n",
      "terms found shi\n",
      "terms found shit\n",
      "terms found smell\n",
      "terms found stupid\n",
      "terms found suck\n",
      "terms found arse\n",
      "terms found ass\n",
      "terms found asses\n",
      "terms found cum\n",
      "terms found dick\n",
      "terms found dumb\n",
      "terms found dumbass\n",
      "terms found fuck\n",
      "terms found fucker\n",
      "terms found hate\n",
      "terms found homo\n",
      "terms found kill\n",
      "terms found mean\n",
      "terms found mothafuck\n",
      "terms found mothafucker\n",
      "terms found motherfuck\n",
      "terms found motherfucker\n",
      "terms found muff\n",
      "terms found nazi\n",
      "terms found pron\n",
      "terms found semen\n",
      "terms found shi\n",
      "terms found shit\n",
      "terms found suck\n",
      "terms found tit\n"
     ]
    }
   ],
   "source": [
    "reddit_english_collocation = pd.read_csv(collocation_folder+\"/reddit_english_collocation.csv\")\n",
    "reddit_english_collocation_insults1 = find_list_of_words_in_df(reddit_english_collocation,\n",
    "                                                                 profane_words,\n",
    "                                                                 \"word1\")\n",
    "reddit_english_collocation_insults2 = find_list_of_words_in_df(reddit_english_collocation,\n",
    "                                                                 profane_words,\n",
    "                                                                 \"word2\")\n",
    "\n",
    "reddit_english_collocation_insults = pd.concat([reddit_english_collocation_insults1,reddit_english_collocation_insults2])"
   ]
  },
  {
   "cell_type": "code",
   "execution_count": 16,
   "id": "6f05a457",
   "metadata": {},
   "outputs": [
    {
     "name": "stdout",
     "output_type": "stream",
     "text": [
      "english insultive collocation average PMI: 5.59848447994948\n"
     ]
    }
   ],
   "source": [
    "print(\"english insultive collocation average PMI:\",np.mean(reddit_english_collocation_insults.PMI))"
   ]
  },
  {
   "cell_type": "code",
   "execution_count": 17,
   "id": "4ae65714",
   "metadata": {},
   "outputs": [
    {
     "name": "stdout",
     "output_type": "stream",
     "text": [
      "Nothing found\n",
      "Nothing found\n"
     ]
    }
   ],
   "source": [
    "reddit_cisgender_collocation = pd.read_csv(collocation_folder+\"/reddit_cisgender_collocation.csv\")\n",
    "reddit_cisgender_collocation_insults1 = find_list_of_words_in_df(reddit_cisgender_collocation,\n",
    "                                                                 profane_words,\n",
    "                                                                 \"word1\")\n",
    "reddit_cisgender_collocation_insults2 = find_list_of_words_in_df(reddit_cisgender_collocation,\n",
    "                                                                 profane_words,\n",
    "                                                                 \"word2\")\n",
    "\n",
    "#reddit_cisgender_collocation_insults = pd.concat([reddit_cisgender_collocation_insults1,reddit_cisgender_collocation_insults2])"
   ]
  },
  {
   "cell_type": "code",
   "execution_count": 19,
   "id": "08443d93",
   "metadata": {},
   "outputs": [
    {
     "name": "stdout",
     "output_type": "stream",
     "text": [
      "terms found ass\n",
      "terms found dumb\n",
      "terms found fuck\n",
      "terms found fucked\n",
      "terms found fuckin\n",
      "terms found fucking\n",
      "terms found motherfuck\n",
      "terms found motherfuckin\n",
      "terms found motherfucking\n",
      "terms found nazi\n",
      "terms found shi\n",
      "terms found stupid\n",
      "terms found tit\n",
      "terms found ass\n",
      "terms found asses\n",
      "terms found bastard\n",
      "terms found butt\n",
      "terms found hell\n",
      "terms found kill\n",
      "terms found nazi\n",
      "terms found shi\n",
      "terms found spac\n",
      "terms found suck\n",
      "terms found tit\n"
     ]
    }
   ],
   "source": [
    "reddit_german_collocation = pd.read_csv(collocation_folder+\"/reddit_german_collocation.csv\")\n",
    "reddit_german_collocation_insults1 = find_list_of_words_in_df(reddit_german_collocation,\n",
    "                                                                 profane_words,\n",
    "                                                                 \"word1\")\n",
    "reddit_german_collocation_insults2 = find_list_of_words_in_df(reddit_german_collocation,\n",
    "                                                                 profane_words,\n",
    "                                                                 \"word2\")\n",
    "\n",
    "reddit_german_collocation_insults = pd.concat([reddit_german_collocation_insults1,reddit_german_collocation_insults2])"
   ]
  },
  {
   "cell_type": "code",
   "execution_count": 20,
   "id": "76869ec0",
   "metadata": {},
   "outputs": [
    {
     "name": "stdout",
     "output_type": "stream",
     "text": [
      "german insultive collocation average PMI: 6.960552153214891\n"
     ]
    }
   ],
   "source": [
    "print(\"german insultive collocation average PMI:\",np.mean(reddit_german_collocation_insults.PMI))"
   ]
  },
  {
   "cell_type": "code",
   "execution_count": 21,
   "id": "e77b4653",
   "metadata": {},
   "outputs": [
    {
     "name": "stdout",
     "output_type": "stream",
     "text": [
      "terms found ass\n",
      "terms found bad\n",
      "terms found balls\n",
      "terms found bitch\n",
      "terms found butt\n",
      "terms found dick\n",
      "terms found dirty\n",
      "terms found aps\n",
      "terms found fat\n",
      "terms found fuck\n",
      "terms found hoe\n",
      "terms found hoes\n",
      "terms found homo\n",
      "terms found hore\n",
      "terms found jap\n",
      "terms found mean\n",
      "terms found piss\n",
      "terms found piss\n",
      "terms found aps\n",
      "terms found pube\n",
      "terms found queer\n",
      "terms found retard\n",
      "terms found semen\n",
      "terms found sex\n",
      "terms found shi\n",
      "terms found stupid\n",
      "terms found anus\n",
      "terms found ass\n",
      "terms found asshole\n",
      "terms found assholes\n",
      "terms found bad\n",
      "terms found bitch\n",
      "terms found bitches\n",
      "terms found butt\n",
      "terms found aps\n",
      "terms found fuck\n",
      "terms found fuckin\n",
      "terms found fucking\n",
      "terms found kill\n",
      "terms found masturbate\n",
      "terms found mean\n",
      "terms found motherfuck\n",
      "terms found motherfuckin\n",
      "terms found motherfucking\n",
      "terms found aps\n",
      "terms found sex\n",
      "terms found shi\n",
      "terms found suck\n"
     ]
    }
   ],
   "source": [
    "reddit_boy_collocation = pd.read_csv(collocation_folder+\"/reddit_boy_collocation.csv\")\n",
    "reddit_boy_collocation_insults1 = find_list_of_words_in_df(reddit_boy_collocation,\n",
    "                                                                 profane_words,\n",
    "                                                                 \"word1\")\n",
    "reddit_boy_collocation_insults2 = find_list_of_words_in_df(reddit_boy_collocation,\n",
    "                                                                 profane_words,\n",
    "                                                                 \"word2\")\n",
    "\n",
    "reddit_boy_collocation_insults = pd.concat([reddit_boy_collocation_insults1,reddit_boy_collocation_insults2])"
   ]
  },
  {
   "cell_type": "code",
   "execution_count": 22,
   "id": "82dc4004",
   "metadata": {},
   "outputs": [
    {
     "name": "stdout",
     "output_type": "stream",
     "text": [
      "boy insultive collocation average PMI: 5.5457445431386905\n"
     ]
    }
   ],
   "source": [
    "print(\"boy insultive collocation average PMI:\",np.mean(reddit_boy_collocation_insults.PMI))"
   ]
  },
  {
   "cell_type": "code",
   "execution_count": 23,
   "id": "ef06c7a8",
   "metadata": {},
   "outputs": [
    {
     "name": "stdout",
     "output_type": "stream",
     "text": [
      "terms found ass\n",
      "terms found bastard\n",
      "terms found bitch\n",
      "terms found dumb\n",
      "terms found fat\n",
      "terms found hate\n",
      "terms found idiot\n",
      "terms found lick\n",
      "terms found mean\n",
      "terms found prick\n",
      "terms found retard\n",
      "terms found sex\n",
      "terms found shag\n",
      "terms found shi\n",
      "terms found shit\n",
      "terms found shits\n",
      "terms found stupid\n",
      "terms found ugly\n",
      "terms found bitch\n",
      "terms found butt\n",
      "terms found cum\n",
      "terms found dumb\n",
      "terms found fuck\n",
      "terms found fuckin\n",
      "terms found fucking\n",
      "terms found hate\n",
      "terms found homo\n",
      "terms found kick\n",
      "terms found kill\n",
      "terms found mf\n",
      "terms found mfo\n",
      "terms found queer\n",
      "terms found sex\n",
      "terms found sob\n",
      "terms found spac\n",
      "terms found suck\n"
     ]
    }
   ],
   "source": [
    "reddit_son_collocation = pd.read_csv(collocation_folder+\"/reddit_son_collocation.csv\")\n",
    "reddit_son_collocation_insults1 = find_list_of_words_in_df(reddit_son_collocation,\n",
    "                                                                 profane_words,\n",
    "                                                                 \"word1\")\n",
    "reddit_son_collocation_insults2 = find_list_of_words_in_df(reddit_son_collocation,\n",
    "                                                                 profane_words,\n",
    "                                                                 \"word2\")\n",
    "\n",
    "reddit_son_collocation_insults = pd.concat([reddit_son_collocation_insults1,reddit_son_collocation_insults2])"
   ]
  },
  {
   "cell_type": "code",
   "execution_count": 24,
   "id": "55806225",
   "metadata": {},
   "outputs": [
    {
     "name": "stdout",
     "output_type": "stream",
     "text": [
      "son insultive collocation average PMI: 5.317248608302053\n"
     ]
    }
   ],
   "source": [
    "print(\"son insultive collocation average PMI:\",np.mean(reddit_son_collocation_insults.PMI))"
   ]
  },
  {
   "cell_type": "code",
   "execution_count": 26,
   "id": "7582ec71",
   "metadata": {},
   "outputs": [
    {
     "name": "stdout",
     "output_type": "stream",
     "text": [
      "terms found sex\n",
      "terms found sex\n"
     ]
    }
   ],
   "source": [
    "reddit_hetrosexual_collocation = pd.read_csv(collocation_folder+\"/reddit_hetrosexual_collocation.csv\")\n",
    "reddit_hetrosexual_collocation_insults1 = find_list_of_words_in_df(reddit_hetrosexual_collocation,\n",
    "                                                                 profane_words,\n",
    "                                                                 \"word1\")\n",
    "reddit_hetrosexual_collocation_insults2 = find_list_of_words_in_df(reddit_hetrosexual_collocation,\n",
    "                                                                 profane_words,\n",
    "                                                                 \"word2\")\n",
    "\n",
    "reddit_hetrosexual_collocation_insults = pd.concat([reddit_hetrosexual_collocation_insults1,reddit_hetrosexual_collocation_insults2])"
   ]
  },
  {
   "cell_type": "code",
   "execution_count": 27,
   "id": "3edf01bd",
   "metadata": {},
   "outputs": [
    {
     "name": "stdout",
     "output_type": "stream",
     "text": [
      "hetrosexual insultive collocation average PMI: 11.70916015929588\n"
     ]
    }
   ],
   "source": [
    "print(\"hetrosexual insultive collocation average PMI:\",np.mean(reddit_hetrosexual_collocation_insults.PMI))"
   ]
  },
  {
   "cell_type": "code",
   "execution_count": 28,
   "id": "fd20c414",
   "metadata": {},
   "outputs": [
    {
     "name": "stdout",
     "output_type": "stream",
     "text": [
      "terms found arse\n",
      "terms found ass\n",
      "terms found asses\n",
      "terms found asshole\n",
      "terms found bad\n",
      "terms found balls\n",
      "terms found bitch\n",
      "terms found bitches\n",
      "terms found boob\n",
      "terms found boobs\n",
      "terms found butt\n",
      "terms found cok\n",
      "terms found cum\n",
      "terms found dick\n",
      "terms found dirty\n",
      "terms found disgusting\n",
      "terms found fack\n",
      "terms found fag\n",
      "terms found aps\n",
      "terms found fat\n",
      "terms found fuck\n",
      "terms found fucked\n",
      "terms found fuckin\n",
      "terms found fucking\n",
      "terms found fuk\n",
      "terms found goatse\n",
      "terms found hate\n",
      "terms found hell\n",
      "terms found homo\n",
      "terms found jap\n",
      "terms found kill\n",
      "terms found lick\n",
      "terms found lust\n",
      "terms found mean\n",
      "terms found mf\n",
      "terms found mfo\n",
      "terms found mof\n",
      "terms found mofo\n",
      "terms found motherfuck\n",
      "terms found motherfuckin\n",
      "terms found motherfucking\n",
      "terms found muff\n",
      "terms found nazi\n",
      "terms found nigga\n",
      "terms found niggas\n",
      "terms found penis\n",
      "terms found piss\n",
      "terms found piss\n",
      "terms found aps\n",
      "terms found poop\n",
      "terms found pussy\n",
      "terms found retard\n",
      "terms found sex\n",
      "terms found shag\n",
      "terms found shi\n",
      "terms found shit\n",
      "terms found shitter\n",
      "terms found shitty\n",
      "terms found sob\n",
      "terms found spac\n",
      "terms found stupid\n",
      "terms found suck\n",
      "terms found tit\n",
      "terms found tits\n",
      "terms found turd\n",
      "terms found ugly\n",
      "terms found anal\n",
      "terms found arse\n",
      "terms found ass\n",
      "terms found asses\n",
      "terms found bad\n",
      "terms found balls\n",
      "terms found bitch\n",
      "terms found boob\n",
      "terms found boobs\n",
      "terms found butt\n",
      "terms found cum\n",
      "terms found cums\n",
      "terms found cunt\n",
      "terms found dick\n",
      "terms found dirty\n",
      "terms found disgusting\n",
      "terms found ejaculate\n",
      "terms found ejaculates\n",
      "terms found ejaculating\n",
      "terms found aps\n",
      "terms found fat\n",
      "terms found fuck\n",
      "terms found fucked\n",
      "terms found fuckin\n",
      "terms found fucks\n",
      "terms found fuk\n",
      "terms found hate\n",
      "terms found hell\n",
      "terms found hoe\n",
      "terms found hoes\n",
      "terms found hore\n",
      "terms found jap\n",
      "terms found jerk\n",
      "terms found kick\n",
      "terms found kill\n",
      "terms found lich\n",
      "terms found lick\n",
      "terms found lmfao\n",
      "terms found masturbate\n",
      "terms found mean\n",
      "terms found mf\n",
      "terms found mof\n",
      "terms found nazi\n",
      "terms found penis\n",
      "terms found piss\n",
      "terms found pissed\n",
      "terms found pisses\n",
      "terms found piss\n",
      "terms found aps\n",
      "terms found poop\n",
      "terms found pussy\n",
      "terms found sex\n",
      "terms found shi\n",
      "terms found shit\n",
      "terms found shitting\n",
      "terms found shitty\n",
      "terms found sht\n",
      "terms found slut\n",
      "terms found smell\n",
      "terms found spac\n",
      "terms found stupid\n",
      "terms found suck\n",
      "terms found tit\n",
      "terms found tits\n",
      "terms found titt\n",
      "terms found tittie\n",
      "terms found titties\n",
      "terms found vagina\n",
      "terms found whore\n"
     ]
    }
   ],
   "source": [
    "reddit_man_collocation = pd.read_csv(collocation_folder+\"/reddit_man_collocation.csv\")\n",
    "reddit_man_collocation_insults1 = find_list_of_words_in_df(reddit_man_collocation,\n",
    "                                                                 profane_words,\n",
    "                                                                 \"word1\")\n",
    "reddit_man_collocation_insults2 = find_list_of_words_in_df(reddit_man_collocation,\n",
    "                                                                 profane_words,\n",
    "                                                                 \"word2\")\n",
    "\n",
    "reddit_man_collocation_insults = pd.concat([reddit_man_collocation_insults1,reddit_man_collocation_insults2])"
   ]
  },
  {
   "cell_type": "code",
   "execution_count": 29,
   "id": "bc37e0de",
   "metadata": {},
   "outputs": [
    {
     "name": "stdout",
     "output_type": "stream",
     "text": [
      "man insultive collocation average PMI: 3.2775233739835308\n"
     ]
    }
   ],
   "source": [
    "print(\"man insultive collocation average PMI:\",np.mean(reddit_man_collocation_insults.PMI))"
   ]
  },
  {
   "cell_type": "code",
   "execution_count": 30,
   "id": "4a2256f9",
   "metadata": {},
   "outputs": [
    {
     "name": "stdout",
     "output_type": "stream",
     "text": [
      "terms found kill\n",
      "terms found bastard\n",
      "terms found hell\n",
      "terms found kill\n",
      "terms found mean\n",
      "terms found shi\n"
     ]
    }
   ],
   "source": [
    "reddit_dutch_collocation = pd.read_csv(collocation_folder+\"/reddit_dutch_collocation.csv\")\n",
    "reddit_dutch_collocation_insults1 = find_list_of_words_in_df(reddit_dutch_collocation,\n",
    "                                                                 profane_words,\n",
    "                                                                 \"word1\")\n",
    "reddit_dutch_collocation_insults2 = find_list_of_words_in_df(reddit_dutch_collocation,\n",
    "                                                                 profane_words,\n",
    "                                                                 \"word2\")\n",
    "\n",
    "reddit_dutch_collocation_insults = pd.concat([reddit_dutch_collocation_insults1,reddit_dutch_collocation_insults2])"
   ]
  },
  {
   "cell_type": "code",
   "execution_count": 31,
   "id": "4d7bd8eb",
   "metadata": {},
   "outputs": [
    {
     "name": "stdout",
     "output_type": "stream",
     "text": [
      "dutch insultive collocation average PMI: 6.532399570324317\n"
     ]
    }
   ],
   "source": [
    "print(\"dutch insultive collocation average PMI:\",np.mean(reddit_dutch_collocation_insults.PMI))"
   ]
  },
  {
   "cell_type": "code",
   "execution_count": 32,
   "id": "70b2e52c",
   "metadata": {},
   "outputs": [
    {
     "name": "stdout",
     "output_type": "stream",
     "text": [
      "terms found ass\n",
      "terms found fuck\n",
      "terms found fuckin\n",
      "terms found fucking\n",
      "terms found hate\n",
      "terms found jap\n",
      "terms found mean\n",
      "terms found shi\n",
      "terms found ass\n",
      "terms found butt\n",
      "terms found butts\n",
      "terms found sex\n",
      "terms found shi\n",
      "terms found spac\n",
      "terms found tit\n",
      "terms found tits\n",
      "terms found wse\n"
     ]
    }
   ],
   "source": [
    "reddit_european_collocation = pd.read_csv(collocation_folder+\"/reddit_european_collocation.csv\")\n",
    "reddit_european_collocation_insults1 = find_list_of_words_in_df(reddit_european_collocation,\n",
    "                                                                 profane_words,\n",
    "                                                                 \"word1\")\n",
    "reddit_european_collocation_insults2 = find_list_of_words_in_df(reddit_european_collocation,\n",
    "                                                                 profane_words,\n",
    "                                                                 \"word2\")\n",
    "\n",
    "reddit_european_collocation_insults = pd.concat([reddit_european_collocation_insults1,reddit_european_collocation_insults2])"
   ]
  },
  {
   "cell_type": "code",
   "execution_count": 33,
   "id": "f748d03e",
   "metadata": {},
   "outputs": [
    {
     "name": "stdout",
     "output_type": "stream",
     "text": [
      "european insultive collocation average PMI: 6.00537525783283\n"
     ]
    }
   ],
   "source": [
    "print(\"european insultive collocation average PMI:\",np.mean(reddit_european_collocation_insults.PMI))"
   ]
  },
  {
   "cell_type": "code",
   "execution_count": 36,
   "id": "9d7a1cee",
   "metadata": {},
   "outputs": [
    {
     "name": "stdout",
     "output_type": "stream",
     "text": [
      "terms found ass\n",
      "terms found fuck\n",
      "terms found homo\n",
      "terms found smell\n",
      "terms found ass\n",
      "terms found asshole\n",
      "terms found dumb\n",
      "terms found fuck\n",
      "terms found mean\n",
      "terms found shi\n"
     ]
    }
   ],
   "source": [
    "reddit_norwegian_collocation = pd.read_csv(collocation_folder+\"/reddit_norwegian_collocation.csv\")\n",
    "reddit_norwegian_collocation_insults1 = find_list_of_words_in_df(reddit_norwegian_collocation,\n",
    "                                                                 profane_words,\n",
    "                                                                 \"word1\")\n",
    "reddit_norwegian_collocation_insults2 = find_list_of_words_in_df(reddit_norwegian_collocation,\n",
    "                                                                 profane_words,\n",
    "                                                                 \"word2\")\n",
    "\n",
    "reddit_norwegian_collocation_insults = pd.concat([reddit_norwegian_collocation_insults1,reddit_norwegian_collocation_insults2])"
   ]
  },
  {
   "cell_type": "code",
   "execution_count": 37,
   "id": "0169399c",
   "metadata": {},
   "outputs": [
    {
     "name": "stdout",
     "output_type": "stream",
     "text": [
      "norwegian insultive collocation average PMI: 9.593012494969097\n"
     ]
    }
   ],
   "source": [
    "print(\"norwegian insultive collocation average PMI:\",np.mean(reddit_norwegian_collocation_insults.PMI))"
   ]
  },
  {
   "cell_type": "code",
   "execution_count": 38,
   "id": "4c864ffb",
   "metadata": {},
   "outputs": [
    {
     "name": "stdout",
     "output_type": "stream",
     "text": [
      "terms found anal\n",
      "terms found ass\n",
      "terms found asshole\n",
      "terms found bad\n",
      "terms found cum\n",
      "terms found cunt\n",
      "terms found dumb\n",
      "terms found fat\n",
      "terms found fuck\n",
      "terms found fuckin\n",
      "terms found fucking\n",
      "terms found hate\n",
      "terms found hell\n",
      "terms found jap\n",
      "terms found kill\n",
      "terms found lich\n",
      "terms found mean\n",
      "terms found mf\n",
      "terms found piss\n",
      "terms found pissed\n",
      "terms found piss\n",
      "terms found pron\n",
      "terms found retard\n",
      "terms found sex\n",
      "terms found shi\n",
      "terms found shit\n",
      "terms found shitty\n",
      "terms found stupid\n",
      "terms found ugly\n",
      "terms found anal\n",
      "terms found ass\n",
      "terms found asses\n",
      "terms found asshole\n",
      "terms found bad\n",
      "terms found balls\n",
      "terms found bitch\n",
      "terms found bitches\n",
      "terms found butt\n",
      "terms found cock\n",
      "terms found cox\n",
      "terms found cum\n",
      "terms found dyke\n",
      "terms found fat\n",
      "terms found fuck\n",
      "terms found hate\n",
      "terms found homo\n",
      "terms found hore\n",
      "terms found idiot\n",
      "terms found jerk\n",
      "terms found mean\n",
      "terms found mf\n",
      "terms found mfo\n",
      "terms found piss\n",
      "terms found pissed\n",
      "terms found piss\n",
      "terms found pron\n",
      "terms found retard\n",
      "terms found sex\n",
      "terms found shi\n",
      "terms found shit\n",
      "terms found shitty\n",
      "terms found slut\n",
      "terms found spac\n",
      "terms found stupid\n",
      "terms found suck\n",
      "terms found tit\n",
      "terms found twat\n",
      "terms found wang\n",
      "terms found wank\n",
      "terms found wanker\n"
     ]
    }
   ],
   "source": [
    "reddit_american_collocation = pd.read_csv(collocation_folder+\"/reddit_american_collocation.csv\")\n",
    "reddit_american_collocation_insults1 = find_list_of_words_in_df(reddit_american_collocation,\n",
    "                                                                 profane_words,\n",
    "                                                                 \"word1\")\n",
    "reddit_american_collocation_insults2 = find_list_of_words_in_df(reddit_american_collocation,\n",
    "                                                                 profane_words,\n",
    "                                                                 \"word2\")\n",
    "\n",
    "reddit_american_collocation_insults = pd.concat([reddit_american_collocation_insults1,reddit_american_collocation_insults2])"
   ]
  },
  {
   "cell_type": "code",
   "execution_count": 39,
   "id": "905cb953",
   "metadata": {},
   "outputs": [
    {
     "name": "stdout",
     "output_type": "stream",
     "text": [
      "american insultive collocation average PMI: 4.531958176252399\n"
     ]
    }
   ],
   "source": [
    "print(\"american insultive collocation average PMI:\",np.mean(reddit_american_collocation_insults.PMI))"
   ]
  },
  {
   "cell_type": "code",
   "execution_count": 40,
   "id": "8e8c41da",
   "metadata": {},
   "outputs": [
    {
     "name": "stdout",
     "output_type": "stream",
     "text": [
      "terms found ass\n",
      "terms found asshole\n",
      "terms found coon\n",
      "terms found fuck\n",
      "terms found fuckin\n",
      "terms found fucking\n",
      "terms found fuk\n",
      "terms found hate\n",
      "terms found pron\n",
      "terms found sex\n",
      "terms found shi\n",
      "terms found shit\n",
      "terms found shitty\n",
      "terms found spac\n",
      "terms found stupid\n",
      "terms found ass\n",
      "terms found asses\n",
      "terms found bastard\n",
      "terms found cock\n",
      "terms found disgusting\n",
      "terms found fat\n",
      "terms found hore\n",
      "terms found kill\n",
      "terms found lick\n",
      "terms found mean\n",
      "terms found penis\n",
      "terms found piss\n",
      "terms found pisses\n",
      "terms found piss\n",
      "terms found pron\n",
      "terms found shi\n",
      "terms found shit\n",
      "terms found suck\n",
      "terms found tit\n",
      "terms found whore\n"
     ]
    }
   ],
   "source": [
    "reddit_french_collocation = pd.read_csv(collocation_folder+\"/reddit_french_collocation.csv\")\n",
    "reddit_french_collocation_insults1 = find_list_of_words_in_df(reddit_french_collocation,\n",
    "                                                                 profane_words,\n",
    "                                                                 \"word1\")\n",
    "reddit_french_collocation_insults2 = find_list_of_words_in_df(reddit_french_collocation,\n",
    "                                                                 profane_words,\n",
    "                                                                 \"word2\")\n",
    "\n",
    "reddit_french_collocation_insults = pd.concat([reddit_french_collocation_insults1,reddit_french_collocation_insults2])"
   ]
  },
  {
   "cell_type": "code",
   "execution_count": 41,
   "id": "a9941a5e",
   "metadata": {},
   "outputs": [
    {
     "name": "stdout",
     "output_type": "stream",
     "text": [
      "french insultive collocation average PMI: 4.74665345560693\n"
     ]
    }
   ],
   "source": [
    "print(\"french insultive collocation average PMI:\",np.mean(reddit_french_collocation_insults.PMI))"
   ]
  },
  {
   "cell_type": "code",
   "execution_count": 42,
   "id": "2d6686a7",
   "metadata": {},
   "outputs": [
    {
     "name": "stdout",
     "output_type": "stream",
     "text": [
      "terms found ass\n",
      "terms found asshole\n",
      "terms found bastard\n",
      "terms found cum\n",
      "terms found dumb\n",
      "terms found dumbass\n",
      "terms found fat\n",
      "terms found hate\n",
      "terms found hell\n",
      "terms found idiot\n",
      "terms found kock\n",
      "terms found kum\n",
      "terms found mean\n",
      "terms found retard\n",
      "terms found shi\n",
      "terms found stupid\n",
      "terms found ass\n",
      "terms found bad\n",
      "terms found cum\n",
      "terms found fuck\n",
      "terms found hate\n",
      "terms found hell\n",
      "terms found kill\n",
      "terms found mean\n",
      "terms found piss\n",
      "terms found pisses\n",
      "terms found piss\n",
      "terms found sex\n",
      "terms found shag\n",
      "terms found shi\n",
      "terms found shit\n",
      "terms found slap\n",
      "terms found suck\n"
     ]
    }
   ],
   "source": [
    "reddit_brother_collocation = pd.read_csv(collocation_folder+\"/reddit_brother_collocation.csv\")\n",
    "\n",
    "reddit_brother_collocation_insults1 = find_list_of_words_in_df(reddit_brother_collocation,\n",
    "                                                                 profane_words,\n",
    "                                                                 \"word1\")\n",
    "reddit_brother_collocation_insults2 = find_list_of_words_in_df(reddit_brother_collocation,\n",
    "                                                                 profane_words,\n",
    "                                                                 \"word2\")\n",
    "\n",
    "reddit_brother_collocation_insults = pd.concat([reddit_brother_collocation_insults1,reddit_brother_collocation_insults2])"
   ]
  },
  {
   "cell_type": "code",
   "execution_count": 43,
   "id": "624e7012",
   "metadata": {},
   "outputs": [
    {
     "name": "stdout",
     "output_type": "stream",
     "text": [
      "brother insultive collocation average PMI: 4.522824914320705\n"
     ]
    }
   ],
   "source": [
    "print(\"brother insultive collocation average PMI:\",np.mean(reddit_brother_collocation_insults.PMI))"
   ]
  },
  {
   "cell_type": "code",
   "execution_count": 44,
   "id": "b39afab3",
   "metadata": {},
   "outputs": [
    {
     "name": "stdout",
     "output_type": "stream",
     "text": [
      "terms found fat\n",
      "terms found pron\n",
      "terms found shi\n",
      "terms found shit\n",
      "terms found shitty\n",
      "terms found ass\n",
      "terms found balls\n",
      "terms found cum\n",
      "terms found aps\n",
      "terms found mean\n",
      "terms found aps\n",
      "terms found sex\n",
      "terms found shi\n",
      "terms found tit\n"
     ]
    }
   ],
   "source": [
    "reddit_swedish_collocation = pd.read_csv(collocation_folder+\"/reddit_swedish_collocation.csv\")\n",
    "\n",
    "reddit_swedish_collocation_insults1 = find_list_of_words_in_df(reddit_swedish_collocation,\n",
    "                                                                 profane_words,\n",
    "                                                                 \"word1\")\n",
    "reddit_swedish_collocation_insults2 = find_list_of_words_in_df(reddit_swedish_collocation,\n",
    "                                                                 profane_words,\n",
    "                                                                 \"word2\")\n",
    "\n",
    "reddit_swedish_collocation_insults = pd.concat([reddit_swedish_collocation_insults1,reddit_swedish_collocation_insults2])"
   ]
  },
  {
   "cell_type": "code",
   "execution_count": 45,
   "id": "9939409c",
   "metadata": {},
   "outputs": [
    {
     "name": "stdout",
     "output_type": "stream",
     "text": [
      "swedish insultive collocation average PMI: 7.493817500712593\n"
     ]
    }
   ],
   "source": [
    "print(\"swedish insultive collocation average PMI:\",np.mean(reddit_swedish_collocation_insults.PMI))"
   ]
  },
  {
   "cell_type": "code",
   "execution_count": 46,
   "id": "02b9c0df",
   "metadata": {},
   "outputs": [
    {
     "name": "stdout",
     "output_type": "stream",
     "text": [
      "terms found ass\n",
      "terms found asses\n",
      "terms found bad\n",
      "terms found cum\n",
      "terms found dick\n",
      "terms found fat\n",
      "terms found fuck\n",
      "terms found fuckin\n",
      "terms found fucking\n",
      "terms found hoe\n",
      "terms found homo\n",
      "terms found horny\n",
      "terms found idiot\n",
      "terms found idiotic\n",
      "terms found jap\n",
      "terms found kill\n",
      "terms found mean\n",
      "terms found nazi\n",
      "terms found orgasm\n",
      "terms found orgasms\n",
      "terms found queer\n",
      "terms found retard\n",
      "terms found sex\n",
      "terms found shi\n",
      "terms found anal\n",
      "terms found ass\n",
      "terms found asses\n",
      "terms found bad\n",
      "terms found balls\n",
      "terms found blowjob\n",
      "terms found blowjobs\n",
      "terms found boob\n",
      "terms found butt\n",
      "terms found butts\n",
      "terms found clitoris\n",
      "terms found coon\n",
      "terms found cum\n",
      "terms found cums\n",
      "terms found ejaculate\n",
      "terms found ejaculation\n",
      "terms found fag\n",
      "terms found faggot\n",
      "terms found hate\n",
      "terms found homo\n",
      "terms found idiot\n",
      "terms found kill\n",
      "terms found lick\n",
      "terms found mean\n",
      "terms found orgasm\n",
      "terms found orgasms\n",
      "terms found penis\n",
      "terms found pron\n",
      "terms found pube\n",
      "terms found rimming\n",
      "terms found sadist\n",
      "terms found screwing\n",
      "terms found semen\n",
      "terms found sex\n",
      "terms found shi\n",
      "terms found shit\n",
      "terms found slut\n",
      "terms found suck\n",
      "terms found testicle\n",
      "terms found tit\n"
     ]
    }
   ],
   "source": [
    "reddit_male_collocation = pd.read_csv(collocation_folder+\"/reddit_male_collocation.csv\")\n",
    "\n",
    "reddit_male_collocation_insults1 = find_list_of_words_in_df(reddit_male_collocation,\n",
    "                                                                 profane_words,\n",
    "                                                                 \"word1\")\n",
    "reddit_male_collocation_insults2 = find_list_of_words_in_df(reddit_male_collocation,\n",
    "                                                                 profane_words,\n",
    "                                                                 \"word2\")\n",
    "\n",
    "reddit_male_collocation_insults = pd.concat([reddit_male_collocation_insults1,reddit_male_collocation_insults2])"
   ]
  },
  {
   "cell_type": "code",
   "execution_count": 47,
   "id": "54c30d96",
   "metadata": {},
   "outputs": [
    {
     "name": "stdout",
     "output_type": "stream",
     "text": [
      "male insultive collocation average PMI: 6.07855703335969\n"
     ]
    }
   ],
   "source": [
    "print(\"male insultive collocation average PMI:\",np.mean(reddit_male_collocation_insults.PMI))"
   ]
  },
  {
   "cell_type": "code",
   "execution_count": 48,
   "id": "18a37fc0",
   "metadata": {},
   "outputs": [
    {
     "name": "stdout",
     "output_type": "stream",
     "text": [
      "terms found ass\n",
      "terms found asshole\n",
      "terms found bad\n",
      "terms found dumb\n",
      "terms found fuck\n",
      "terms found fuckin\n",
      "terms found fucking\n",
      "terms found pussy\n",
      "terms found shi\n",
      "terms found shit\n",
      "terms found shitty\n",
      "terms found tit\n",
      "terms found tits\n",
      "terms found ass\n",
      "terms found aps\n",
      "terms found fuck\n",
      "terms found fucked\n",
      "terms found hate\n",
      "terms found kill\n",
      "terms found aps\n",
      "terms found sex\n",
      "terms found shi\n",
      "terms found smell\n",
      "terms found suck\n",
      "terms found testicle\n"
     ]
    }
   ],
   "source": [
    "reddit_husband_collocation = pd.read_csv(collocation_folder+\"/reddit_husband_collocation.csv\")\n",
    "\n",
    "reddit_husband_collocation_insults1 = find_list_of_words_in_df(reddit_husband_collocation,\n",
    "                                                                 profane_words,\n",
    "                                                                 \"word1\")\n",
    "reddit_husband_collocation_insults2 = find_list_of_words_in_df(reddit_husband_collocation,\n",
    "                                                                 profane_words,\n",
    "                                                                 \"word2\")\n",
    "\n",
    "reddit_husband_collocation_insults = pd.concat([reddit_husband_collocation_insults1,reddit_husband_collocation_insults2])"
   ]
  },
  {
   "cell_type": "code",
   "execution_count": 49,
   "id": "8a665385",
   "metadata": {},
   "outputs": [
    {
     "name": "stdout",
     "output_type": "stream",
     "text": [
      "husband insultive collocation average PMI: 3.3132438071696146\n"
     ]
    }
   ],
   "source": [
    "print(\"husband insultive collocation average PMI:\",np.mean(reddit_husband_collocation_insults.PMI))"
   ]
  },
  {
   "cell_type": "code",
   "execution_count": 50,
   "id": "93fd1011",
   "metadata": {},
   "outputs": [
    {
     "name": "stdout",
     "output_type": "stream",
     "text": [
      "terms found ass\n",
      "terms found bad\n",
      "terms found bitch\n",
      "terms found butt\n",
      "terms found dirty\n",
      "terms found disgusting\n",
      "terms found dumb\n",
      "terms found fag\n",
      "terms found faggot\n",
      "terms found fat\n",
      "terms found fuck\n",
      "terms found fucker\n",
      "terms found fuckin\n",
      "terms found fucking\n",
      "terms found fucks\n",
      "terms found hate\n",
      "terms found hell\n",
      "terms found homo\n",
      "terms found jap\n",
      "terms found kill\n",
      "terms found mean\n",
      "terms found mf\n",
      "terms found motherfuck\n",
      "terms found motherfuckin\n",
      "terms found motherfucking\n",
      "terms found piss\n",
      "terms found piss\n",
      "terms found pissin\n",
      "terms found pissing\n",
      "terms found poop\n",
      "terms found sex\n",
      "terms found shi\n",
      "terms found shit\n",
      "terms found shithead\n",
      "terms found smell\n",
      "terms found smelly\n",
      "terms found stupid\n",
      "terms found tit\n",
      "terms found ugly\n",
      "terms found arse\n",
      "terms found ass\n",
      "terms found asses\n",
      "terms found asshole\n",
      "terms found assholes\n",
      "terms found bad\n",
      "terms found balls\n",
      "terms found bitch\n",
      "terms found bitches\n",
      "terms found butt\n",
      "terms found cum\n",
      "terms found cunt\n",
      "terms found dildo\n",
      "terms found fag\n",
      "terms found aps\n",
      "terms found fat\n",
      "terms found fuck\n",
      "terms found fucker\n",
      "terms found fuckers\n",
      "terms found fuckin\n",
      "terms found fucking\n",
      "terms found hate\n",
      "terms found hoe\n",
      "terms found hoes\n",
      "terms found homo\n",
      "terms found jiz\n",
      "terms found jizz\n",
      "terms found kill\n",
      "terms found lick\n",
      "terms found mean\n",
      "terms found mf\n",
      "terms found motherfuck\n",
      "terms found motherfucker\n",
      "terms found motherfuckers\n",
      "terms found nigger\n",
      "terms found niggers\n",
      "terms found aps\n",
      "terms found pron\n",
      "terms found pube\n",
      "terms found queer\n",
      "terms found sex\n",
      "terms found shi\n",
      "terms found shit\n",
      "terms found shut\n",
      "terms found spac\n",
      "terms found stfu\n",
      "terms found tit\n",
      "terms found tits\n"
     ]
    }
   ],
   "source": [
    "reddit_white_collocation = pd.read_csv(collocation_folder+\"/reddit_white_collocation.csv\")\n",
    "\n",
    "reddit_white_collocation_insults1 = find_list_of_words_in_df(reddit_white_collocation,\n",
    "                                                                 profane_words,\n",
    "                                                                 \"word1\")\n",
    "reddit_white_collocation_insults2 = find_list_of_words_in_df(reddit_white_collocation,\n",
    "                                                                 profane_words,\n",
    "                                                                 \"word2\")\n",
    "\n",
    "reddit_white_collocation_insults = pd.concat([reddit_white_collocation_insults1,reddit_white_collocation_insults2])"
   ]
  },
  {
   "cell_type": "code",
   "execution_count": 50,
   "id": "cd0bc45e",
   "metadata": {},
   "outputs": [
    {
     "name": "stdout",
     "output_type": "stream",
     "text": [
      "white insultive collocation average PMI: 5.72370364722497\n"
     ]
    }
   ],
   "source": [
    "print(\"white insultive collocation average PMI:\",np.mean(reddit_white_collocation_insults.PMI))"
   ]
  }
 ],
 "metadata": {
  "kernelspec": {
   "display_name": "Python 3",
   "language": "python",
   "name": "python3"
  },
  "language_info": {
   "codemirror_mode": {
    "name": "ipython",
    "version": 3
   },
   "file_extension": ".py",
   "mimetype": "text/x-python",
   "name": "python",
   "nbconvert_exporter": "python",
   "pygments_lexer": "ipython3",
   "version": "3.6.9"
  }
 },
 "nbformat": 4,
 "nbformat_minor": 5
}
