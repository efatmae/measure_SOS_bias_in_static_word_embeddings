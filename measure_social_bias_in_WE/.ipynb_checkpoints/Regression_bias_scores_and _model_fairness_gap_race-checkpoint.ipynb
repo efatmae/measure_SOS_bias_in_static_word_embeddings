{
 "cells": [
  {
   "cell_type": "code",
   "execution_count": 1,
   "id": "5782cfc3",
   "metadata": {},
   "outputs": [],
   "source": [
    "import numpy as np\n",
    "from sklearn.linear_model import LinearRegression\n",
    "import pandas as pd"
   ]
  },
  {
   "cell_type": "code",
   "execution_count": 2,
   "id": "2a81a2d0",
   "metadata": {},
   "outputs": [],
   "source": [
    "data = pd.read_csv(\"race_fariness_gap_and_bias_scores.csv\")"
   ]
  },
  {
   "cell_type": "code",
   "execution_count": 3,
   "id": "530390dd",
   "metadata": {},
   "outputs": [
    {
     "data": {
      "text/plain": [
       "Index(['word embeddings', 'mean_SOS_eth', 'WEAT_racial bias',\n",
       "       'RNSB_racial_bias ', 'RND_racial_bias ', 'ECT_racial_bias',\n",
       "       'fairness_racial_gap_HateEval_BiLSTM',\n",
       "       'fairness_racial_gap_HateEval_MLP',\n",
       "       'fairness_racial_gap_Twitter_Hate_BiLSTM',\n",
       "       'fairness_racial_gap_Twitter_Hate_MLP',\n",
       "       'fairness_racial_gap_Twitter_racism_BiLSTM',\n",
       "       'fairness_racial_gap_Twitter_racism_MLP'],\n",
       "      dtype='object')"
      ]
     },
     "execution_count": 3,
     "metadata": {},
     "output_type": "execute_result"
    }
   ],
   "source": [
    "data.columns"
   ]
  },
  {
   "cell_type": "code",
   "execution_count": 4,
   "id": "5d7aa194",
   "metadata": {},
   "outputs": [],
   "source": [
    "model_input = [data[\"mean_SOS_eth\"].values,\n",
    "               data[\"WEAT_racial bias\"].values,\n",
    "               data[\"RNSB_racial_bias \"].values,\n",
    "               data[\"RND_racial_bias \"].values,\n",
    "               data[\"ECT_racial_bias\"].values]"
   ]
  },
  {
   "cell_type": "code",
   "execution_count": 5,
   "id": "60690c1c",
   "metadata": {},
   "outputs": [
    {
     "data": {
      "text/plain": [
       "[array([0.20087762, 0.41200352, 0.85253786, 0.55506472, 0.80481106]),\n",
       " array([0.778421, 0.89328 , 0.407471, 0.346125, 0.699857]),\n",
       " array([0.033975, 0.052101, 0.041433, 0.031429, 0.059003]),\n",
       " array([0.087666, 0.204028, 0.127685, 0.051982, 1.666596]),\n",
       " array([0.24749 , 0.170413, 0.064057, 0.347234, 0.216819])]"
      ]
     },
     "execution_count": 5,
     "metadata": {},
     "output_type": "execute_result"
    }
   ],
   "source": [
    "model_input"
   ]
  },
  {
   "cell_type": "code",
   "execution_count": 6,
   "id": "3c9ed452",
   "metadata": {},
   "outputs": [],
   "source": [
    "model_gender_fairnes_gap_HateEval_biLSTM = LinearRegression(normalize = True).fit(model_input,  data[\"fairness_gender_gap_HateEval_BiLSTM\"].values)"
   ]
  },
  {
   "cell_type": "code",
   "execution_count": 7,
   "id": "30a22617",
   "metadata": {},
   "outputs": [
    {
     "data": {
      "text/plain": [
       "1.0"
      ]
     },
     "execution_count": 7,
     "metadata": {},
     "output_type": "execute_result"
    }
   ],
   "source": [
    "model_gender_fairnes_gap_HateEval_biLSTM.score(model_input,  data[\"fairness_racial_gap_HateEval_BiLSTM\"].values)"
   ]
  },
  {
   "cell_type": "code",
   "execution_count": 8,
   "id": "c9b5badd",
   "metadata": {},
   "outputs": [
    {
     "data": {
      "text/plain": [
       "0.12705414676126586"
      ]
     },
     "execution_count": 8,
     "metadata": {},
     "output_type": "execute_result"
    }
   ],
   "source": [
    "model_gender_fairnes_gap_HateEval_biLSTM.intercept_"
   ]
  },
  {
   "cell_type": "code",
   "execution_count": 9,
   "id": "ff5db9d8",
   "metadata": {},
   "outputs": [
    {
     "data": {
      "text/plain": [
       "array([-0.12775822, -0.08411372,  0.07578859,  0.05675373, -0.0233146 ])"
      ]
     },
     "execution_count": 9,
     "metadata": {},
     "output_type": "execute_result"
    }
   ],
   "source": [
    "model_gender_fairnes_gap_HateEval_biLSTM.coef_"
   ]
  },
  {
   "cell_type": "code",
   "execution_count": null,
   "id": "9081927e",
   "metadata": {},
   "outputs": [],
   "source": []
  },
  {
   "cell_type": "code",
   "execution_count": 10,
   "id": "16080919",
   "metadata": {},
   "outputs": [],
   "source": [
    "model_gender_fairnes_gap_HateEval_MLP= LinearRegression(normalize = True).fit(model_input,  data[\"fairness_racial_gap_HateEval_MLP\"].values)"
   ]
  },
  {
   "cell_type": "code",
   "execution_count": 11,
   "id": "42875bd7",
   "metadata": {},
   "outputs": [
    {
     "data": {
      "text/plain": [
       "array([-0.0431426 ,  0.01779853,  0.0904692 , -0.10579367, -0.04329304])"
      ]
     },
     "execution_count": 11,
     "metadata": {},
     "output_type": "execute_result"
    }
   ],
   "source": [
    "model_gender_fairnes_gap_HateEval_MLP.coef_"
   ]
  },
  {
   "cell_type": "code",
   "execution_count": null,
   "id": "b34eccdd",
   "metadata": {},
   "outputs": [],
   "source": []
  },
  {
   "cell_type": "code",
   "execution_count": null,
   "id": "afe8e40e",
   "metadata": {},
   "outputs": [],
   "source": []
  },
  {
   "cell_type": "code",
   "execution_count": null,
   "id": "021c1a81",
   "metadata": {},
   "outputs": [],
   "source": []
  },
  {
   "cell_type": "code",
   "execution_count": 12,
   "id": "dd4663d5",
   "metadata": {},
   "outputs": [
    {
     "data": {
      "text/plain": [
       "array([ 0.01340107, -0.05861092, -0.05450274,  0.26481362,  0.0046301 ])"
      ]
     },
     "execution_count": 12,
     "metadata": {},
     "output_type": "execute_result"
    }
   ],
   "source": [
    "model_fairness_gender_gap_Twitter_Hate_BiLSTM= LinearRegression(normalize = True).fit(model_input,  data[\"fairness_racial_gap_Twitter_Hate_BiLSTM\"].values)\n",
    "model_fairness_gender_gap_Twitter_Hate_BiLSTM.coef_"
   ]
  },
  {
   "cell_type": "code",
   "execution_count": null,
   "id": "74fcd286",
   "metadata": {},
   "outputs": [],
   "source": []
  },
  {
   "cell_type": "code",
   "execution_count": 13,
   "id": "d25df515",
   "metadata": {},
   "outputs": [
    {
     "data": {
      "text/plain": [
       "array([ 0.01553105, -0.07536846, -0.17345239,  0.08574829,  0.04717729])"
      ]
     },
     "execution_count": 13,
     "metadata": {},
     "output_type": "execute_result"
    }
   ],
   "source": [
    "model_fairness_gender_gap_Twitter_Hate_MLP= LinearRegression(normalize = True).fit(model_input,  data[\"fairness_racial_gap_Twitter_Hate_MLP\"].values)\n",
    "model_fairness_gender_gap_Twitter_Hate_MLP.coef_"
   ]
  },
  {
   "cell_type": "code",
   "execution_count": null,
   "id": "0acf6eeb",
   "metadata": {},
   "outputs": [],
   "source": []
  },
  {
   "cell_type": "code",
   "execution_count": null,
   "id": "e1ddb81d",
   "metadata": {},
   "outputs": [],
   "source": []
  },
  {
   "cell_type": "code",
   "execution_count": 14,
   "id": "87c47429",
   "metadata": {},
   "outputs": [
    {
     "data": {
      "text/plain": [
       "array([ 0.03308684,  0.013008  ,  0.00733932, -0.01670345, -0.14010415])"
      ]
     },
     "execution_count": 14,
     "metadata": {},
     "output_type": "execute_result"
    }
   ],
   "source": [
    "model_fairness_gender_gap_Twitter_sexism_BiLSTM= LinearRegression(normalize = True).fit(model_input,  data[\"fairness_racial_gap_Twitter_racism_BiLSTM\"].values)\n",
    "model_fairness_gender_gap_Twitter_sexism_BiLSTM.coef_"
   ]
  },
  {
   "cell_type": "code",
   "execution_count": null,
   "id": "69695b23",
   "metadata": {},
   "outputs": [],
   "source": []
  },
  {
   "cell_type": "code",
   "execution_count": 15,
   "id": "95fa2b5c",
   "metadata": {},
   "outputs": [
    {
     "data": {
      "text/plain": [
       "array([ 0.12073258, -0.06354449, -0.14927492,  0.5170665 , -0.04366993])"
      ]
     },
     "execution_count": 15,
     "metadata": {},
     "output_type": "execute_result"
    }
   ],
   "source": [
    "model_fairness_gender_gap_Twitter_sexism_MLP = LinearRegression(normalize = True).fit(model_input,  data[\"fairness_racial_gap_Twitter_racism_MLP\"].values)\n",
    "model_fairness_gender_gap_Twitter_sexism_MLP.coef_"
   ]
  },
  {
   "cell_type": "code",
   "execution_count": null,
   "id": "9d2e70cf",
   "metadata": {},
   "outputs": [],
   "source": []
  }
 ],
 "metadata": {
  "kernelspec": {
   "display_name": "env_py_39",
   "language": "python",
   "name": "env_py_39"
  },
  "language_info": {
   "codemirror_mode": {
    "name": "ipython",
    "version": 3
   },
   "file_extension": ".py",
   "mimetype": "text/x-python",
   "name": "python",
   "nbconvert_exporter": "python",
   "pygments_lexer": "ipython3",
   "version": "3.8.10"
  }
 },
 "nbformat": 4,
 "nbformat_minor": 5
}
