{
 "cells": [
  {
   "cell_type": "code",
   "execution_count": 1,
   "metadata": {},
   "outputs": [
    {
     "name": "stdout",
     "output_type": "stream",
     "text": [
      "3.8.10 (default, Mar 15 2022, 12:22:08) \n",
      "[GCC 9.4.0]\n"
     ]
    }
   ],
   "source": [
    "import sys\n",
    "print(sys.version)"
   ]
  },
  {
   "cell_type": "code",
   "execution_count": 2,
   "metadata": {},
   "outputs": [],
   "source": [
    "import pandas as pd"
   ]
  },
  {
   "cell_type": "code",
   "execution_count": 3,
   "metadata": {},
   "outputs": [],
   "source": [
    "from wefe.query import Query\n",
    "from wefe.metrics import WEAT, RNSB, RND, MAC, ECT\n",
    "from wefe.word_embedding_model import WordEmbeddingModel\n",
    "from wefe.datasets.datasets import load_weat, fetch_eds, fetch_debias_multiclass, fetch_debiaswe, load_bingliu\n",
    "from wefe.utils import run_queries, plot_queries_results, create_ranking, plot_ranking, plot_ranking_correlations\n",
    "from plotly.subplots import make_subplots\n",
    "import gensim"
   ]
  },
  {
   "cell_type": "code",
   "execution_count": 4,
   "metadata": {},
   "outputs": [],
   "source": [
    "data_folder = \"../../Data/\"\n",
    "embeddings_folder = data_folder+\"/word embeddings/\""
   ]
  },
  {
   "cell_type": "code",
   "execution_count": 5,
   "metadata": {},
   "outputs": [],
   "source": [
    "def get_google_news_embeddings(filename,binary=False):\n",
    "    w2v_model = gensim.models.KeyedVectors.load_word2vec_format(filename, binary=binary, no_header=True)\n",
    "    return w2v_model\n"
   ]
  },
  {
   "cell_type": "code",
   "execution_count": 6,
   "metadata": {},
   "outputs": [
    {
     "name": "stderr",
     "output_type": "stream",
     "text": [
      "INFO:gensim.models.keyedvectors:loading projection weights from ../../Data//word embeddings/FastText/wiki-news-300d-1M.vec\n",
      "DEBUG:smart_open.smart_open_lib:{'uri': '../../Data//word embeddings/FastText/wiki-news-300d-1M.vec', 'mode': 'rb', 'buffering': -1, 'encoding': None, 'errors': None, 'newline': None, 'closefd': True, 'opener': None, 'ignore_ext': False, 'compression': None, 'transport_params': None}\n",
      "DEBUG:gensim.utils:starting a new internal lifecycle event log for KeyedVectors\n",
      "INFO:gensim.utils:KeyedVectors lifecycle event {'msg': 'loaded (999994, 300) matrix of type float32 from ../../Data//word embeddings/FastText/wiki-news-300d-1M.vec', 'binary': False, 'encoding': 'utf8', 'datetime': '2022-04-19T10:55:30.194070', 'gensim': '4.0.1', 'python': '3.8.10 (default, Mar 15 2022, 12:22:08) \\n[GCC 9.4.0]', 'platform': 'Linux-5.4.0-107-generic-x86_64-with-glibc2.29', 'event': 'load_word2vec_format'}\n"
     ]
    }
   ],
   "source": [
    "fasttext_wiki_model = gensim.models.KeyedVectors.load_word2vec_format(embeddings_folder+\"FastText/wiki-news-300d-1M.vec\")"
   ]
  },
  {
   "cell_type": "code",
   "execution_count": 7,
   "metadata": {},
   "outputs": [
    {
     "name": "stderr",
     "output_type": "stream",
     "text": [
      "INFO:gensim.models.keyedvectors:loading projection weights from ../../Data//word embeddings/FastText/wiki-news-300d-1M-subword.vec\n",
      "DEBUG:smart_open.smart_open_lib:{'uri': '../../Data//word embeddings/FastText/wiki-news-300d-1M-subword.vec', 'mode': 'rb', 'buffering': -1, 'encoding': None, 'errors': None, 'newline': None, 'closefd': True, 'opener': None, 'ignore_ext': False, 'compression': None, 'transport_params': None}\n",
      "DEBUG:gensim.utils:starting a new internal lifecycle event log for KeyedVectors\n",
      "INFO:gensim.utils:KeyedVectors lifecycle event {'msg': 'loaded (999994, 300) matrix of type float32 from ../../Data//word embeddings/FastText/wiki-news-300d-1M-subword.vec', 'binary': False, 'encoding': 'utf8', 'datetime': '2022-04-19T10:56:52.165239', 'gensim': '4.0.1', 'python': '3.8.10 (default, Mar 15 2022, 12:22:08) \\n[GCC 9.4.0]', 'platform': 'Linux-5.4.0-107-generic-x86_64-with-glibc2.29', 'event': 'load_word2vec_format'}\n"
     ]
    }
   ],
   "source": [
    "fasttext_wiki_subwords_model = gensim.models.KeyedVectors.load_word2vec_format(embeddings_folder+\"FastText/wiki-news-300d-1M-subword.vec\")"
   ]
  },
  {
   "cell_type": "code",
   "execution_count": 8,
   "metadata": {},
   "outputs": [
    {
     "name": "stderr",
     "output_type": "stream",
     "text": [
      "INFO:gensim.models.keyedvectors:loading projection weights from ../../Data//word embeddings/FastText/crawl-300d-2M.vec\n",
      "DEBUG:smart_open.smart_open_lib:{'uri': '../../Data//word embeddings/FastText/crawl-300d-2M.vec', 'mode': 'rb', 'buffering': -1, 'encoding': None, 'errors': None, 'newline': None, 'closefd': True, 'opener': None, 'ignore_ext': False, 'compression': None, 'transport_params': None}\n",
      "DEBUG:gensim.utils:starting a new internal lifecycle event log for KeyedVectors\n",
      "INFO:gensim.utils:KeyedVectors lifecycle event {'msg': 'loaded (1999995, 300) matrix of type float32 from ../../Data//word embeddings/FastText/crawl-300d-2M.vec', 'binary': False, 'encoding': 'utf8', 'datetime': '2022-04-19T10:59:19.959181', 'gensim': '4.0.1', 'python': '3.8.10 (default, Mar 15 2022, 12:22:08) \\n[GCC 9.4.0]', 'platform': 'Linux-5.4.0-107-generic-x86_64-with-glibc2.29', 'event': 'load_word2vec_format'}\n"
     ]
    }
   ],
   "source": [
    "fasttext_cc_model = gensim.models.KeyedVectors.load_word2vec_format(embeddings_folder+\"FastText/crawl-300d-2M.vec\")"
   ]
  },
  {
   "cell_type": "code",
   "execution_count": 9,
   "metadata": {},
   "outputs": [
    {
     "name": "stderr",
     "output_type": "stream",
     "text": [
      "INFO:gensim.models.keyedvectors:loading projection weights from ../../Data//word embeddings/FastText/crawl-300d-2M-subword.vec\n",
      "DEBUG:smart_open.smart_open_lib:{'uri': '../../Data//word embeddings/FastText/crawl-300d-2M-subword.vec', 'mode': 'rb', 'buffering': -1, 'encoding': None, 'errors': None, 'newline': None, 'closefd': True, 'opener': None, 'ignore_ext': False, 'compression': None, 'transport_params': None}\n",
      "DEBUG:gensim.utils:starting a new internal lifecycle event log for KeyedVectors\n",
      "INFO:gensim.utils:KeyedVectors lifecycle event {'msg': 'loaded (2000000, 300) matrix of type float32 from ../../Data//word embeddings/FastText/crawl-300d-2M-subword.vec', 'binary': False, 'encoding': 'utf8', 'datetime': '2022-04-19T11:01:56.062477', 'gensim': '4.0.1', 'python': '3.8.10 (default, Mar 15 2022, 12:22:08) \\n[GCC 9.4.0]', 'platform': 'Linux-5.4.0-107-generic-x86_64-with-glibc2.29', 'event': 'load_word2vec_format'}\n"
     ]
    }
   ],
   "source": [
    "fasttext_cc_subwords_model = gensim.models.KeyedVectors.load_word2vec_format(embeddings_folder+\"FastText/crawl-300d-2M-subword.vec\")"
   ]
  },
  {
   "cell_type": "code",
   "execution_count": 10,
   "metadata": {},
   "outputs": [
    {
     "name": "stderr",
     "output_type": "stream",
     "text": [
      "INFO:gensim.models.keyedvectors:loading projection weights from ../../Data//word embeddings//debiased_word_embedding/GoogleNews-vectors-negative300-hard-debiased.bin\n",
      "DEBUG:smart_open.smart_open_lib:{'uri': '../../Data//word embeddings//debiased_word_embedding/GoogleNews-vectors-negative300-hard-debiased.bin', 'mode': 'rb', 'buffering': -1, 'encoding': None, 'errors': None, 'newline': None, 'closefd': True, 'opener': None, 'ignore_ext': False, 'compression': None, 'transport_params': None}\n",
      "DEBUG:gensim.utils:starting a new internal lifecycle event log for KeyedVectors\n",
      "INFO:gensim.utils:KeyedVectors lifecycle event {'msg': 'loaded (3000000, 300) matrix of type float32 from ../../Data//word embeddings//debiased_word_embedding/GoogleNews-vectors-negative300-hard-debiased.bin', 'binary': True, 'encoding': 'utf8', 'datetime': '2022-04-19T11:02:20.101948', 'gensim': '4.0.1', 'python': '3.8.10 (default, Mar 15 2022, 12:22:08) \\n[GCC 9.4.0]', 'platform': 'Linux-5.4.0-107-generic-x86_64-with-glibc2.29', 'event': 'load_word2vec_format'}\n"
     ]
    }
   ],
   "source": [
    "debiased_w2v_model = gensim.models.KeyedVectors.load_word2vec_format(embeddings_folder+\"/debiased_word_embedding/GoogleNews-vectors-negative300-hard-debiased.bin\",binary=True)"
   ]
  },
  {
   "cell_type": "code",
   "execution_count": 11,
   "metadata": {},
   "outputs": [],
   "source": [
    "# load the weat word sets\n",
    "WEAT_wordsets = load_weat()\n",
    "RND_wordsets = fetch_eds()\n",
    "sentiments_wordsets = load_bingliu()\n",
    "debias_multiclass_wordsets = fetch_debias_multiclass()"
   ]
  },
  {
   "cell_type": "markdown",
   "metadata": {},
   "source": [
    "#### WEAT Effect Size: represents a normalized measure that quantifies how far apart the two distributions of association between targets and attributes are.\n",
    "\n",
    "#### WEAT score:  Its objective is to quantify the strength of association of both pair of sets through a permutation test. The score being positive and higher than one indicates that word2vec exhibits a moderately strong relationship between men's names and careers and women's names and family."
   ]
  },
  {
   "cell_type": "code",
   "execution_count": 12,
   "metadata": {},
   "outputs": [],
   "source": [
    "profane_words = open(data_folder+\"swear_words.txt\").read().splitlines()"
   ]
  },
  {
   "cell_type": "code",
   "execution_count": 13,
   "metadata": {},
   "outputs": [],
   "source": [
    "harmless_minority_words_clean = [\"woman\", \"female\", \"girl\",\"wife\",\"sister\",\"daughter\",\"mother\"]\n",
    "harmless_majority_words_clean = [\"man\",\"male\",\"boy\",\"husband\",\"brother\",\"son\",\"father\"]\n"
   ]
  },
  {
   "cell_type": "markdown",
   "metadata": {},
   "source": [
    "#### running multiple queries and multiple word embeddings"
   ]
  },
  {
   "cell_type": "code",
   "execution_count": 14,
   "metadata": {},
   "outputs": [],
   "source": [
    "fasttext_wiki_model = WordEmbeddingModel(fasttext_wiki_model, 'fasttext_wiki')\n",
    "fasttext_wiki_subwords_model = WordEmbeddingModel(fasttext_wiki_subwords_model, 'fasttext_wiki_subwords')\n",
    "fasttext_cc_model = WordEmbeddingModel(fasttext_cc_model, 'fasttext_cc')\n",
    "fasttext_cc_subwords_model = WordEmbeddingModel(fasttext_cc_subwords_model, 'fasttext_cc_subwords')\n",
    "debiased_w2v_model = WordEmbeddingModel(debiased_w2v_model, 'debiased_w2v')"
   ]
  },
  {
   "cell_type": "code",
   "execution_count": 15,
   "metadata": {},
   "outputs": [],
   "source": [
    "models = [fasttext_wiki_model, fasttext_wiki_subwords_model, fasttext_cc_model, fasttext_cc_subwords_model, debiased_w2v_model]"
   ]
  },
  {
   "cell_type": "markdown",
   "metadata": {},
   "source": [
    "## Query ranking"
   ]
  },
  {
   "cell_type": "code",
   "execution_count": 16,
   "metadata": {},
   "outputs": [],
   "source": [
    "#query1 = Query([harmless_minority_words_clean, harmless_majority_words_clean],\n",
    "   #                    [WEAT_wordsets['unpleasant_5'], WEAT_wordsets['pleasant_5']])\n",
    "\n",
    "query2 = Query([harmless_minority_words_clean, harmless_majority_words_clean],\n",
    "                       [profane_words, sentiments_wordsets['positive_words']])\n",
    "\n",
    "gender_queries = [query2]"
   ]
  },
  {
   "cell_type": "code",
   "execution_count": 17,
   "metadata": {},
   "outputs": [],
   "source": [
    "# Run the queries WEAT\n",
    "WEAT_gender_results = run_queries(\n",
    "    WEAT,\n",
    "    gender_queries,\n",
    "    models,\n",
    "    aggregate_results=True,\n",
    "    return_only_aggregation=True,\n",
    "    lost_vocabulary_threshold = 0.6,\n",
    "    queries_set_name='SOS Queries')\n",
    "\n",
    "# Run the queries with WEAT Effect Size\n",
    "\n",
    "WEAT_EZ_gender_results = run_queries(WEAT,\n",
    "                                     gender_queries,\n",
    "                                     models,\n",
    "                                     metric_params={\n",
    "                                        \n",
    "                                         'return_effect_size': True\n",
    "                                     },\n",
    "                                     aggregate_results=True,\n",
    "                                     return_only_aggregation=True,\n",
    "                                     lost_vocabulary_threshold = 0.6,\n",
    "                                     queries_set_name='SOS Queries')\n",
    "\n",
    "\n",
    "# Run the queries using RNSB\n",
    "RNSB_gender_results = run_queries(RNSB,\n",
    "                                gender_queries,\n",
    "                                models,\n",
    "                                aggregate_results=True,\n",
    "                                return_only_aggregation=True,\n",
    "                                    lost_vocabulary_threshold = 0.6,\n",
    "                                queries_set_name='SOS Queries')\n",
    "\n",
    "\n"
   ]
  },
  {
   "cell_type": "code",
   "execution_count": 18,
   "metadata": {},
   "outputs": [],
   "source": [
    "# Run the queries using RND\n",
    "RND_gender_results = run_queries(RND,\n",
    "                                gender_queries,\n",
    "                                models,\n",
    "                                aggregate_results=True,\n",
    "                                generate_subqueries=True,\n",
    "                                lost_vocabulary_threshold = 0.6,\n",
    "                                queries_set_name='SOS Queries')\n",
    "\n",
    "\n"
   ]
  },
  {
   "cell_type": "code",
   "execution_count": 19,
   "metadata": {},
   "outputs": [],
   "source": [
    "# Run the queries using ECT\n",
    "ECT_gender_results = run_queries(ECT,\n",
    "                                gender_queries,\n",
    "                                models,\n",
    "                                aggregate_results=True,\n",
    "                                generate_subqueries=True,\n",
    "                                lost_vocabulary_threshold = 0.6,\n",
    "                                queries_set_name='SOS Queries')"
   ]
  },
  {
   "cell_type": "code",
   "execution_count": 20,
   "metadata": {},
   "outputs": [
    {
     "data": {
      "text/html": [
       "<div>\n",
       "<style scoped>\n",
       "    .dataframe tbody tr th:only-of-type {\n",
       "        vertical-align: middle;\n",
       "    }\n",
       "\n",
       "    .dataframe tbody tr th {\n",
       "        vertical-align: top;\n",
       "    }\n",
       "\n",
       "    .dataframe thead th {\n",
       "        text-align: right;\n",
       "    }\n",
       "</style>\n",
       "<table border=\"1\" class=\"dataframe\">\n",
       "  <thead>\n",
       "    <tr style=\"text-align: right;\">\n",
       "      <th></th>\n",
       "      <th>WEAT: SOS Queries average of abs values score</th>\n",
       "    </tr>\n",
       "    <tr>\n",
       "      <th>model_name</th>\n",
       "      <th></th>\n",
       "    </tr>\n",
       "  </thead>\n",
       "  <tbody>\n",
       "    <tr>\n",
       "      <th>fasttext_wiki</th>\n",
       "      <td>0.061530</td>\n",
       "    </tr>\n",
       "    <tr>\n",
       "      <th>fasttext_wiki_subwords</th>\n",
       "      <td>0.044221</td>\n",
       "    </tr>\n",
       "    <tr>\n",
       "      <th>fasttext_cc</th>\n",
       "      <td>0.019011</td>\n",
       "    </tr>\n",
       "    <tr>\n",
       "      <th>fasttext_cc_subwords</th>\n",
       "      <td>0.024218</td>\n",
       "    </tr>\n",
       "    <tr>\n",
       "      <th>debiased_w2v</th>\n",
       "      <td>0.003613</td>\n",
       "    </tr>\n",
       "  </tbody>\n",
       "</table>\n",
       "</div>"
      ],
      "text/plain": [
       "                        WEAT: SOS Queries average of abs values score\n",
       "model_name                                                           \n",
       "fasttext_wiki                                                0.061530\n",
       "fasttext_wiki_subwords                                       0.044221\n",
       "fasttext_cc                                                  0.019011\n",
       "fasttext_cc_subwords                                         0.024218\n",
       "debiased_w2v                                                 0.003613"
      ]
     },
     "execution_count": 20,
     "metadata": {},
     "output_type": "execute_result"
    }
   ],
   "source": [
    "WEAT_gender_results"
   ]
  },
  {
   "cell_type": "code",
   "execution_count": 21,
   "metadata": {},
   "outputs": [
    {
     "data": {
      "text/html": [
       "<div>\n",
       "<style scoped>\n",
       "    .dataframe tbody tr th:only-of-type {\n",
       "        vertical-align: middle;\n",
       "    }\n",
       "\n",
       "    .dataframe tbody tr th {\n",
       "        vertical-align: top;\n",
       "    }\n",
       "\n",
       "    .dataframe thead th {\n",
       "        text-align: right;\n",
       "    }\n",
       "</style>\n",
       "<table border=\"1\" class=\"dataframe\">\n",
       "  <thead>\n",
       "    <tr style=\"text-align: right;\">\n",
       "      <th></th>\n",
       "      <th>RNSB: SOS Queries average of abs values score</th>\n",
       "    </tr>\n",
       "    <tr>\n",
       "      <th>model_name</th>\n",
       "      <th></th>\n",
       "    </tr>\n",
       "  </thead>\n",
       "  <tbody>\n",
       "    <tr>\n",
       "      <th>fasttext_wiki</th>\n",
       "      <td>0.105471</td>\n",
       "    </tr>\n",
       "    <tr>\n",
       "      <th>fasttext_wiki_subwords</th>\n",
       "      <td>0.005187</td>\n",
       "    </tr>\n",
       "    <tr>\n",
       "      <th>fasttext_cc</th>\n",
       "      <td>0.191069</td>\n",
       "    </tr>\n",
       "    <tr>\n",
       "      <th>fasttext_cc_subwords</th>\n",
       "      <td>0.082303</td>\n",
       "    </tr>\n",
       "    <tr>\n",
       "      <th>debiased_w2v</th>\n",
       "      <td>0.059441</td>\n",
       "    </tr>\n",
       "  </tbody>\n",
       "</table>\n",
       "</div>"
      ],
      "text/plain": [
       "                        RNSB: SOS Queries average of abs values score\n",
       "model_name                                                           \n",
       "fasttext_wiki                                                0.105471\n",
       "fasttext_wiki_subwords                                       0.005187\n",
       "fasttext_cc                                                  0.191069\n",
       "fasttext_cc_subwords                                         0.082303\n",
       "debiased_w2v                                                 0.059441"
      ]
     },
     "execution_count": 21,
     "metadata": {},
     "output_type": "execute_result"
    }
   ],
   "source": [
    "RNSB_gender_results"
   ]
  },
  {
   "cell_type": "code",
   "execution_count": 22,
   "metadata": {},
   "outputs": [
    {
     "data": {
      "text/plain": [
       "model_name\n",
       "fasttext_wiki             0.022077\n",
       "fasttext_wiki_subwords    0.033635\n",
       "fasttext_cc               0.024758\n",
       "fasttext_cc_subwords      0.060290\n",
       "debiased_w2v              0.009826\n",
       "Name: RND: SOS Queries average of abs values score, dtype: float64"
      ]
     },
     "execution_count": 22,
     "metadata": {},
     "output_type": "execute_result"
    }
   ],
   "source": [
    "RND_gender_results[\"RND: SOS Queries average of abs values score\"]"
   ]
  },
  {
   "cell_type": "code",
   "execution_count": 23,
   "metadata": {},
   "outputs": [
    {
     "data": {
      "text/plain": [
       "model_name\n",
       "fasttext_wiki             0.924477\n",
       "fasttext_wiki_subwords    0.948985\n",
       "fasttext_cc               0.847977\n",
       "fasttext_cc_subwords      0.935170\n",
       "debiased_w2v              0.986154\n",
       "Name: ECT: SOS Queries average of abs values score, dtype: float64"
      ]
     },
     "execution_count": 23,
     "metadata": {},
     "output_type": "execute_result"
    }
   ],
   "source": [
    "ECT_gender_results[\"ECT: SOS Queries average of abs values score\"]"
   ]
  },
  {
   "cell_type": "code",
   "execution_count": 24,
   "metadata": {},
   "outputs": [],
   "source": [
    "import numpy as np\n",
    "import scipy"
   ]
  },
  {
   "cell_type": "code",
   "execution_count": 25,
   "metadata": {},
   "outputs": [
    {
     "data": {
      "text/plain": [
       "model_name\n",
       "fasttext_wiki             0.924477\n",
       "fasttext_wiki_subwords    0.948985\n",
       "fasttext_cc               0.847977\n",
       "fasttext_cc_subwords      0.935170\n",
       "debiased_w2v              0.986154\n",
       "Name: ECT: SOS Queries average of abs values score, dtype: float64"
      ]
     },
     "execution_count": 25,
     "metadata": {},
     "output_type": "execute_result"
    }
   ],
   "source": [
    "ECT_gender_results[\"ECT: SOS Queries average of abs values score\"]"
   ]
  },
  {
   "cell_type": "code",
   "execution_count": 26,
   "metadata": {},
   "outputs": [
    {
     "data": {
      "text/html": [
       "<div>\n",
       "<style scoped>\n",
       "    .dataframe tbody tr th:only-of-type {\n",
       "        vertical-align: middle;\n",
       "    }\n",
       "\n",
       "    .dataframe tbody tr th {\n",
       "        vertical-align: top;\n",
       "    }\n",
       "\n",
       "    .dataframe thead th {\n",
       "        text-align: right;\n",
       "    }\n",
       "</style>\n",
       "<table border=\"1\" class=\"dataframe\">\n",
       "  <thead>\n",
       "    <tr style=\"text-align: right;\">\n",
       "      <th></th>\n",
       "      <th>Target set 0 and Target set 1 wrt Attribute set 0</th>\n",
       "      <th>Target set 0 and Target set 1 wrt Attribute set 1</th>\n",
       "      <th>ECT: SOS Queries average of abs values score</th>\n",
       "    </tr>\n",
       "    <tr>\n",
       "      <th>model_name</th>\n",
       "      <th></th>\n",
       "      <th></th>\n",
       "      <th></th>\n",
       "    </tr>\n",
       "  </thead>\n",
       "  <tbody>\n",
       "    <tr>\n",
       "      <th>fasttext_wiki</th>\n",
       "      <td>0.885257</td>\n",
       "      <td>0.963697</td>\n",
       "      <td>0.924477</td>\n",
       "    </tr>\n",
       "    <tr>\n",
       "      <th>fasttext_wiki_subwords</th>\n",
       "      <td>0.930289</td>\n",
       "      <td>0.967682</td>\n",
       "      <td>0.948985</td>\n",
       "    </tr>\n",
       "    <tr>\n",
       "      <th>fasttext_cc</th>\n",
       "      <td>0.773962</td>\n",
       "      <td>0.921991</td>\n",
       "      <td>0.847977</td>\n",
       "    </tr>\n",
       "    <tr>\n",
       "      <th>fasttext_cc_subwords</th>\n",
       "      <td>0.903460</td>\n",
       "      <td>0.966879</td>\n",
       "      <td>0.935170</td>\n",
       "    </tr>\n",
       "    <tr>\n",
       "      <th>debiased_w2v</th>\n",
       "      <td>0.975535</td>\n",
       "      <td>0.996773</td>\n",
       "      <td>0.986154</td>\n",
       "    </tr>\n",
       "  </tbody>\n",
       "</table>\n",
       "</div>"
      ],
      "text/plain": [
       "                        Target set 0 and Target set 1 wrt Attribute set 0  \\\n",
       "model_name                                                                  \n",
       "fasttext_wiki                                                    0.885257   \n",
       "fasttext_wiki_subwords                                           0.930289   \n",
       "fasttext_cc                                                      0.773962   \n",
       "fasttext_cc_subwords                                             0.903460   \n",
       "debiased_w2v                                                     0.975535   \n",
       "\n",
       "                        Target set 0 and Target set 1 wrt Attribute set 1  \\\n",
       "model_name                                                                  \n",
       "fasttext_wiki                                                    0.963697   \n",
       "fasttext_wiki_subwords                                           0.967682   \n",
       "fasttext_cc                                                      0.921991   \n",
       "fasttext_cc_subwords                                             0.966879   \n",
       "debiased_w2v                                                     0.996773   \n",
       "\n",
       "                        ECT: SOS Queries average of abs values score  \n",
       "model_name                                                            \n",
       "fasttext_wiki                                               0.924477  \n",
       "fasttext_wiki_subwords                                      0.948985  \n",
       "fasttext_cc                                                 0.847977  \n",
       "fasttext_cc_subwords                                        0.935170  \n",
       "debiased_w2v                                                0.986154  "
      ]
     },
     "execution_count": 26,
     "metadata": {},
     "output_type": "execute_result"
    }
   ],
   "source": [
    "ECT_gender_results"
   ]
  },
  {
   "cell_type": "code",
   "execution_count": 27,
   "metadata": {},
   "outputs": [],
   "source": [
    "gender_ranking = create_ranking([ WEAT_gender_results, \n",
    "                                RNSB_gender_results, RND_gender_results\n",
    "                                ], ascending=True)\n",
    "ect_gender_Ranking = create_ranking([ECT_gender_results], ascending=False)"
   ]
  },
  {
   "cell_type": "code",
   "execution_count": 28,
   "metadata": {},
   "outputs": [
    {
     "data": {
      "text/html": [
       "<div>\n",
       "<style scoped>\n",
       "    .dataframe tbody tr th:only-of-type {\n",
       "        vertical-align: middle;\n",
       "    }\n",
       "\n",
       "    .dataframe tbody tr th {\n",
       "        vertical-align: top;\n",
       "    }\n",
       "\n",
       "    .dataframe thead th {\n",
       "        text-align: right;\n",
       "    }\n",
       "</style>\n",
       "<table border=\"1\" class=\"dataframe\">\n",
       "  <thead>\n",
       "    <tr style=\"text-align: right;\">\n",
       "      <th></th>\n",
       "      <th>ECT: SOS Queries average of abs values score</th>\n",
       "    </tr>\n",
       "    <tr>\n",
       "      <th>model_name</th>\n",
       "      <th></th>\n",
       "    </tr>\n",
       "  </thead>\n",
       "  <tbody>\n",
       "    <tr>\n",
       "      <th>fasttext_wiki</th>\n",
       "      <td>4.0</td>\n",
       "    </tr>\n",
       "    <tr>\n",
       "      <th>fasttext_wiki_subwords</th>\n",
       "      <td>2.0</td>\n",
       "    </tr>\n",
       "    <tr>\n",
       "      <th>fasttext_cc</th>\n",
       "      <td>5.0</td>\n",
       "    </tr>\n",
       "    <tr>\n",
       "      <th>fasttext_cc_subwords</th>\n",
       "      <td>3.0</td>\n",
       "    </tr>\n",
       "    <tr>\n",
       "      <th>debiased_w2v</th>\n",
       "      <td>1.0</td>\n",
       "    </tr>\n",
       "  </tbody>\n",
       "</table>\n",
       "</div>"
      ],
      "text/plain": [
       "                        ECT: SOS Queries average of abs values score\n",
       "model_name                                                          \n",
       "fasttext_wiki                                                    4.0\n",
       "fasttext_wiki_subwords                                           2.0\n",
       "fasttext_cc                                                      5.0\n",
       "fasttext_cc_subwords                                             3.0\n",
       "debiased_w2v                                                     1.0"
      ]
     },
     "execution_count": 28,
     "metadata": {},
     "output_type": "execute_result"
    }
   ],
   "source": [
    "ect_gender_Ranking"
   ]
  },
  {
   "cell_type": "code",
   "execution_count": 29,
   "metadata": {},
   "outputs": [],
   "source": [
    "gender_ranking[\"ECT\"] = ect_gender_Ranking[\"ECT: SOS Queries average of abs values score\"].values"
   ]
  },
  {
   "cell_type": "code",
   "execution_count": 30,
   "metadata": {},
   "outputs": [
    {
     "data": {
      "text/html": [
       "<div>\n",
       "<style scoped>\n",
       "    .dataframe tbody tr th:only-of-type {\n",
       "        vertical-align: middle;\n",
       "    }\n",
       "\n",
       "    .dataframe tbody tr th {\n",
       "        vertical-align: top;\n",
       "    }\n",
       "\n",
       "    .dataframe thead th {\n",
       "        text-align: right;\n",
       "    }\n",
       "</style>\n",
       "<table border=\"1\" class=\"dataframe\">\n",
       "  <thead>\n",
       "    <tr style=\"text-align: right;\">\n",
       "      <th></th>\n",
       "      <th>WEAT: SOS Queries average of abs values score</th>\n",
       "      <th>RNSB: SOS Queries average of abs values score</th>\n",
       "      <th>RND: SOS Queries average of abs values score</th>\n",
       "      <th>ECT</th>\n",
       "    </tr>\n",
       "    <tr>\n",
       "      <th>model_name</th>\n",
       "      <th></th>\n",
       "      <th></th>\n",
       "      <th></th>\n",
       "      <th></th>\n",
       "    </tr>\n",
       "  </thead>\n",
       "  <tbody>\n",
       "    <tr>\n",
       "      <th>fasttext_wiki</th>\n",
       "      <td>5.0</td>\n",
       "      <td>4.0</td>\n",
       "      <td>2.0</td>\n",
       "      <td>4.0</td>\n",
       "    </tr>\n",
       "    <tr>\n",
       "      <th>fasttext_wiki_subwords</th>\n",
       "      <td>4.0</td>\n",
       "      <td>1.0</td>\n",
       "      <td>4.0</td>\n",
       "      <td>2.0</td>\n",
       "    </tr>\n",
       "    <tr>\n",
       "      <th>fasttext_cc</th>\n",
       "      <td>2.0</td>\n",
       "      <td>5.0</td>\n",
       "      <td>3.0</td>\n",
       "      <td>5.0</td>\n",
       "    </tr>\n",
       "    <tr>\n",
       "      <th>fasttext_cc_subwords</th>\n",
       "      <td>3.0</td>\n",
       "      <td>3.0</td>\n",
       "      <td>5.0</td>\n",
       "      <td>3.0</td>\n",
       "    </tr>\n",
       "    <tr>\n",
       "      <th>debiased_w2v</th>\n",
       "      <td>1.0</td>\n",
       "      <td>2.0</td>\n",
       "      <td>1.0</td>\n",
       "      <td>1.0</td>\n",
       "    </tr>\n",
       "  </tbody>\n",
       "</table>\n",
       "</div>"
      ],
      "text/plain": [
       "                        WEAT: SOS Queries average of abs values score  \\\n",
       "model_name                                                              \n",
       "fasttext_wiki                                                     5.0   \n",
       "fasttext_wiki_subwords                                            4.0   \n",
       "fasttext_cc                                                       2.0   \n",
       "fasttext_cc_subwords                                              3.0   \n",
       "debiased_w2v                                                      1.0   \n",
       "\n",
       "                        RNSB: SOS Queries average of abs values score  \\\n",
       "model_name                                                              \n",
       "fasttext_wiki                                                     4.0   \n",
       "fasttext_wiki_subwords                                            1.0   \n",
       "fasttext_cc                                                       5.0   \n",
       "fasttext_cc_subwords                                              3.0   \n",
       "debiased_w2v                                                      2.0   \n",
       "\n",
       "                        RND: SOS Queries average of abs values score  ECT  \n",
       "model_name                                                                 \n",
       "fasttext_wiki                                                    2.0  4.0  \n",
       "fasttext_wiki_subwords                                           4.0  2.0  \n",
       "fasttext_cc                                                      3.0  5.0  \n",
       "fasttext_cc_subwords                                             5.0  3.0  \n",
       "debiased_w2v                                                     1.0  1.0  "
      ]
     },
     "execution_count": 30,
     "metadata": {},
     "output_type": "execute_result"
    }
   ],
   "source": [
    "gender_ranking"
   ]
  }
 ],
 "metadata": {
  "kernelspec": {
   "display_name": "env_py_39",
   "language": "python",
   "name": "env_py_39"
  },
  "language_info": {
   "codemirror_mode": {
    "name": "ipython",
    "version": 3
   },
   "file_extension": ".py",
   "mimetype": "text/x-python",
   "name": "python",
   "nbconvert_exporter": "python",
   "pygments_lexer": "ipython3",
   "version": "3.8.10"
  }
 },
 "nbformat": 4,
 "nbformat_minor": 4
}
