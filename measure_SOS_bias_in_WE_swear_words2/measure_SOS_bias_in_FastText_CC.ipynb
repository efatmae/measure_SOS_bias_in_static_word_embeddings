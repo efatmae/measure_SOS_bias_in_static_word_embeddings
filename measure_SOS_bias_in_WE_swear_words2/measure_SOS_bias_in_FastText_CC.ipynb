{
 "cells": [
  {
   "cell_type": "code",
   "execution_count": 1,
   "metadata": {
    "id": "rYGwLxWbQUU9"
   },
   "outputs": [
    {
     "name": "stderr",
     "output_type": "stream",
     "text": [
      "/home/fatma/.local/lib/python3.8/site-packages/tqdm/auto.py:22: TqdmWarning: IProgress not found. Please update jupyter and ipywidgets. See https://ipywidgets.readthedocs.io/en/stable/user_install.html\n",
      "  from .autonotebook import tqdm as notebook_tqdm\n"
     ]
    }
   ],
   "source": [
    "import pandas as pd\n",
    "import numpy as np\n",
    "import os\n",
    "import time\n",
    "import random\n",
    "import gensim\n",
    "import numpy as np\n",
    "import os\n",
    "import torch\n",
    "from gensim.models import KeyedVectors\n",
    "from matplotlib import pyplot as plt\n",
    "from matplotlib.pyplot import figure"
   ]
  },
  {
   "cell_type": "code",
   "execution_count": 2,
   "metadata": {
    "executionInfo": {
     "elapsed": 279,
     "status": "ok",
     "timestamp": 1628003628443,
     "user": {
      "displayName": "Fatma Elsafoury",
      "photoUrl": "https://lh3.googleusercontent.com/a-/AOh14GiBOqs1m0p9NKAVLeYOvj2cfPepoOadDs_nVw4YEQ=s64",
      "userId": "12155606853084180649"
     },
     "user_tz": -60
    },
    "id": "UVxSzkPlF_2K"
   },
   "outputs": [],
   "source": [
    "def get_mean_vector(model, words):\n",
    "    # remove out-of-vocabulary words\n",
    "    # words: target list words\n",
    "    # returns average vector for all words in target list\n",
    "    import numpy as np\n",
    "    words = [word for word in words if word in model.index_to_key]\n",
    "    if len(words) >= 1:\n",
    "        return np.mean(model[words], axis=0)\n",
    "    else:\n",
    "        return []\n",
    "\n",
    "def get_similarity_Scores(v1,v2):\n",
    "    from numpy import dot\n",
    "    from numpy.linalg import norm\n",
    "    return dot(v1,v2)/(norm(v1)*norm(v2))\n",
    "\n",
    "def normalize_data(a):\n",
    "    normalizded_a = []\n",
    "    amin, amax = min(a), max(a)\n",
    "    for i in a:\n",
    "        normalizded_a.append((i-amin) / (amax-amin))\n",
    "    return normalizded_a\n",
    "    \n",
    "def get_similarity_scores_between_target_words_and_attribute_words(model, attribute_words, target_words):\n",
    "    \n",
    "    similarity_scores_summary = {}\n",
    "    words = []\n",
    "    mean_sim_socres = []\n",
    "\n",
    "    target_words = [word for word in target_words if word in model.index_to_key]\n",
    "    attribute_words = [word for word in attribute_words if word in model.index_to_key]\n",
    "    \n",
    "    if len(target_words) >= 1 and len(attribute_words) >=1:\n",
    "        for i in target_words:\n",
    "            similarity_scores = []\n",
    "            words.append(i)\n",
    "            for j in attribute_words:\n",
    "                cos_sim = get_similarity_Scores(model[i], model[j])\n",
    "                similarity_scores.append(cos_sim)\n",
    "            mean_sim_socres.append(np.mean(normalize_data(similarity_scores)))\n",
    "\n",
    "    similarity_scores_summary[\"word\"] = words\n",
    "    similarity_scores_summary[\"mean_sim_score\"] = mean_sim_socres\n",
    "    return similarity_scores_summary\n",
    "\n",
    "def get_similarity_scores_between_avergare_target_vector_and_attribute_words(model, att_words, target_vector):\n",
    "    # remove out-of-vocabulary words\n",
    "    # att_words: wors in the attribute list\n",
    "    # target_vector: average vector of all words in target group\n",
    "    similarity_scores_summary = {}\n",
    "    words_list = []\n",
    "    similarity_scores = []\n",
    "    words = [word for word in att_words if word in model.index_to_key]\n",
    "    print(len(words))\n",
    "    if len(words) >= 1:\n",
    "        for i in words:\n",
    "            print(i)\n",
    "            words_list.append(i)\n",
    "            cos_sim = get_similarity_Scores(model[i], target_vector)\n",
    "            similarity_scores.append(cos_sim)\n",
    "    similarity_scores_summary[\"words\"] = words_list\n",
    "    similarity_scores_summary[\"cos_sim_scores\"] = similarity_scores\n",
    "    similarity_scores_summary[\"sim_score\"] = normalize_data(similarity_scores)\n",
    "\n",
    "    return similarity_scores_summary\n"
   ]
  },
  {
   "cell_type": "markdown",
   "metadata": {
    "id": "A6yN6B8-RQYh"
   },
   "source": [
    "## Read profane words"
   ]
  },
  {
   "cell_type": "code",
   "execution_count": 3,
   "metadata": {
    "id": "DwpeKwyQP8h3"
   },
   "outputs": [],
   "source": [
    "data_folder = \"../../Data/\"\n",
    "embeddings_folder = data_folder+\"/word embeddings/\"\n",
    "results_folder = \"Results/ethnicity_similarities/FastText_CC/\""
   ]
  },
  {
   "cell_type": "code",
   "execution_count": 4,
   "metadata": {},
   "outputs": [],
   "source": [
    "profane_words = open(data_folder+\"filtered_swear_word_list2.txt\").read().splitlines()"
   ]
  },
  {
   "cell_type": "markdown",
   "metadata": {
    "id": "jzAq2cGSRTFv"
   },
   "source": [
    "## read word embeddings"
   ]
  },
  {
   "cell_type": "code",
   "execution_count": 5,
   "metadata": {
    "id": "x3PE_37vRIxG"
   },
   "outputs": [],
   "source": [
    "def get_google_news_embeddings(filename,binary=False):\n",
    "    w2v_model = gensim.models.KeyedVectors.load_word2vec_format(filename, binary=binary)\n",
    "    return w2v_model\n"
   ]
  },
  {
   "cell_type": "markdown",
   "metadata": {
    "id": "9L4uyN9mTKHV"
   },
   "source": [
    "## word similarity"
   ]
  },
  {
   "cell_type": "code",
   "execution_count": 6,
   "metadata": {
    "colab": {
     "base_uri": "https://localhost:8080/"
    },
    "executionInfo": {
     "elapsed": 38953,
     "status": "ok",
     "timestamp": 1616509831257,
     "user": {
      "displayName": "Fatma Elsafoury",
      "photoUrl": "https://lh3.googleusercontent.com/a-/AOh14GiBOqs1m0p9NKAVLeYOvj2cfPepoOadDs_nVw4YEQ=s64",
      "userId": "12155606853084180649"
     },
     "user_tz": 0
    },
    "id": "uEofSDjTe9iu",
    "outputId": "aa0f188d-d525-4cb0-9091-1913bf6dc7e6"
   },
   "outputs": [],
   "source": [
    "# convert text to w2v\n",
    "#from gensim.scripts.glove2word2vec import glove2word2vec\n",
    "#GLOVE_DIR = data_folder+\"/glove.6B.300d_WP.txt\"\n",
    "#w2v_file = data_folder+\"/wv_2_glove.6B.300d_WP.txt\"\n",
    "#glove2word2vec(GLOVE_DIR, w2v_file)"
   ]
  },
  {
   "cell_type": "code",
   "execution_count": null,
   "metadata": {
    "id": "Qrh1lKFdcbuL"
   },
   "outputs": [],
   "source": [
    "model = get_google_news_embeddings(embeddings_folder+\"FastText/crawl-300d-2M.vec\")"
   ]
  },
  {
   "cell_type": "markdown",
   "metadata": {},
   "source": [
    "## similar words"
   ]
  },
  {
   "cell_type": "code",
   "execution_count": null,
   "metadata": {},
   "outputs": [],
   "source": [
    "model.most_similar(\"girl\")"
   ]
  },
  {
   "cell_type": "code",
   "execution_count": null,
   "metadata": {},
   "outputs": [],
   "source": [
    "model.most_similar(\"queer\")"
   ]
  },
  {
   "cell_type": "code",
   "execution_count": null,
   "metadata": {},
   "outputs": [],
   "source": [
    "model.most_similar(\"queers\")"
   ]
  },
  {
   "cell_type": "code",
   "execution_count": null,
   "metadata": {},
   "outputs": [],
   "source": [
    "model.most_similar(\"immigrant\")"
   ]
  },
  {
   "cell_type": "markdown",
   "metadata": {},
   "source": [
    "## minority and majority words"
   ]
  },
  {
   "cell_type": "code",
   "execution_count": null,
   "metadata": {},
   "outputs": [],
   "source": [
    "harmless_majority_words_clean = [\"hetrosexual\", \"cisgender\", \"man\",\"male\",\"boy\",\"son\",\"father\",\"husband\",\"brother\",\"white\",\"caucasian\",\n",
    "                                 \"european american\",\"european\", \"norwegian\", \"canadian\", \"german\", \"australian\", \"english\",\n",
    "                                \"french\", \"american\", \"swedish\", \"dutch\"]\n",
    "\n",
    "target_words = [\"lesbian\",\"gay\",\"bisexual\",\"transgender\",\"tran\",\"queer\",\n",
    "                \"lgbt\",\"lgbtq\",\"homosexual\", \"woman\", \"female\", \"girl\",\"wife\",\"sister\",\"daughter\",\"mother\", \"non-binary\",\n",
    "               \"african\", \"african american\", \"asian\", \"black\", \"hispanic\", \"latin\", \"mexican\", \"indian\", \"middle eastern\",\n",
    "                \"arab\"]\n",
    "\n",
    "words = harmless_majority_words_clean + target_words"
   ]
  },
  {
   "cell_type": "code",
   "execution_count": null,
   "metadata": {},
   "outputs": [],
   "source": [
    "profane_vector = get_mean_vector(model, profane_words)\n",
    "vec_majority_sim_dict = get_similarity_scores_between_avergare_target_vector_and_attribute_words(model, words, profane_vector)\n",
    "pd.DataFrame(vec_majority_sim_dict).to_csv(results_folder+\"_minority_and_majority_words_sim_to_profane_vector.csv\")"
   ]
  },
  {
   "cell_type": "code",
   "execution_count": null,
   "metadata": {},
   "outputs": [],
   "source": [
    "figure(figsize=(25, 10), dpi=1200)\n",
    "sorted_index = np.argsort(vec_majority_sim_dict[\"sim_score\"])\n",
    "\n",
    "x_axis = np.arange(len(vec_majority_sim_dict[\"words\"]))\n",
    "y_axis = [vec_majority_sim_dict[\"sim_score\"][i] for i in sorted_index]\n",
    "x_ticks = [vec_majority_sim_dict[\"words\"][i] for i in sorted_index]\n",
    "plt.bar(x_axis, y_axis)\n",
    "plt.xticks(x_axis, x_ticks, fontsize=40, fontweight='bold', rotation=90)\n",
    "plt.ylabel(\"similarity score\", fontsize=40, fontweight='bold')\n",
    "plt.yticks(np.arange(0.1,1.1,0.1),fontsize=40, fontweight='bold')\n",
    "plt.savefig(results_folder+\"similarity_score_of_minority_and_majority_words_to_profanity_vector.pdf\", bbox_inches='tight')"
   ]
  },
  {
   "cell_type": "code",
   "execution_count": null,
   "metadata": {
    "id": "6rE8kW-Vulo1"
   },
   "outputs": [],
   "source": []
  }
 ],
 "metadata": {
  "colab": {
   "authorship_tag": "ABX9TyPF4uvqe/FlFmRUzJlu6T4C",
   "collapsed_sections": [],
   "name": "semantic_word_similarity_different_WE_w2v.ipynb",
   "provenance": []
  },
  "kernelspec": {
   "display_name": "Python 3",
   "language": "python",
   "name": "python3"
  },
  "language_info": {
   "codemirror_mode": {
    "name": "ipython",
    "version": 3
   },
   "file_extension": ".py",
   "mimetype": "text/x-python",
   "name": "python",
   "nbconvert_exporter": "python",
   "pygments_lexer": "ipython3",
   "version": "3.8.10"
  }
 },
 "nbformat": 4,
 "nbformat_minor": 1
}
