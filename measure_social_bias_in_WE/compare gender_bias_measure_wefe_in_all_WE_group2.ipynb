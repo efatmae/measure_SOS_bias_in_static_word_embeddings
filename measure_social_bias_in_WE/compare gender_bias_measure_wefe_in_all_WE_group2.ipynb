{
 "cells": [
  {
   "cell_type": "code",
   "execution_count": 1,
   "metadata": {},
   "outputs": [
    {
     "name": "stdout",
     "output_type": "stream",
     "text": [
      "3.8.10 (default, Mar 15 2022, 12:22:08) \n",
      "[GCC 9.4.0]\n"
     ]
    }
   ],
   "source": [
    "import sys\n",
    "print(sys.version)"
   ]
  },
  {
   "cell_type": "code",
   "execution_count": 2,
   "metadata": {},
   "outputs": [],
   "source": [
    "from wefe.query import Query\n",
    "from wefe.metrics import WEAT, RNSB, RND, MAC, ECT\n",
    "from wefe.word_embedding_model import WordEmbeddingModel\n",
    "from wefe.datasets.datasets import load_weat, fetch_eds, fetch_debias_multiclass, fetch_debiaswe, load_bingliu\n",
    "from wefe.utils import run_queries, plot_queries_results, create_ranking, plot_ranking, plot_ranking_correlations\n",
    "from plotly.subplots import make_subplots\n",
    "import gensim\n",
    "import numpy as np"
   ]
  },
  {
   "cell_type": "code",
   "execution_count": 3,
   "metadata": {},
   "outputs": [],
   "source": [
    "data_folder = \"../../Data/\"\n",
    "embeddings_folder = data_folder+\"/word embeddings/\""
   ]
  },
  {
   "cell_type": "code",
   "execution_count": 4,
   "metadata": {},
   "outputs": [],
   "source": [
    "def get_google_news_embeddings(filename,binary=False):\n",
    "    w2v_model = gensim.models.KeyedVectors.load_word2vec_format(filename, binary=binary, no_header=True)\n",
    "    return w2v_model"
   ]
  },
  {
   "cell_type": "code",
   "execution_count": 5,
   "metadata": {},
   "outputs": [
    {
     "name": "stderr",
     "output_type": "stream",
     "text": [
      "INFO:gensim.models.keyedvectors:loading projection weights from ../../Data//word embeddings/debiased_word_embedding/glove_2_wv_U-DeSIP.txt\n",
      "DEBUG:smart_open.smart_open_lib:{'uri': '../../Data//word embeddings/debiased_word_embedding/glove_2_wv_U-DeSIP.txt', 'mode': 'rb', 'buffering': -1, 'encoding': None, 'errors': None, 'newline': None, 'closefd': True, 'opener': None, 'ignore_ext': False, 'compression': None, 'transport_params': None}\n",
      "DEBUG:gensim.utils:starting a new internal lifecycle event log for KeyedVectors\n",
      "INFO:gensim.utils:KeyedVectors lifecycle event {'msg': 'loaded (322636, 300) matrix of type float32 from ../../Data//word embeddings/debiased_word_embedding/glove_2_wv_U-DeSIP.txt', 'binary': False, 'encoding': 'utf8', 'datetime': '2022-04-19T13:32:06.628024', 'gensim': '4.0.1', 'python': '3.8.10 (default, Mar 15 2022, 12:22:08) \\n[GCC 9.4.0]', 'platform': 'Linux-5.4.0-107-generic-x86_64-with-glibc2.29', 'event': 'load_word2vec_format'}\n"
     ]
    }
   ],
   "source": [
    "u_desip_model = gensim.models.KeyedVectors.load_word2vec_format(embeddings_folder+\"debiased_word_embedding/glove_2_wv_U-DeSIP.txt\", binary=False)"
   ]
  },
  {
   "cell_type": "code",
   "execution_count": 6,
   "metadata": {},
   "outputs": [
    {
     "name": "stderr",
     "output_type": "stream",
     "text": [
      "INFO:gensim.models.keyedvectors:loading projection weights from ../../Data//word embeddings//SSWE/embedding-results/sswe-u.bin\n",
      "DEBUG:smart_open.smart_open_lib:{'uri': '../../Data//word embeddings//SSWE/embedding-results/sswe-u.bin', 'mode': 'rb', 'buffering': -1, 'encoding': None, 'errors': None, 'newline': None, 'closefd': True, 'opener': None, 'ignore_ext': False, 'compression': None, 'transport_params': None}\n",
      "DEBUG:gensim.utils:starting a new internal lifecycle event log for KeyedVectors\n",
      "INFO:gensim.utils:KeyedVectors lifecycle event {'msg': 'loaded (137052, 50) matrix of type float32 from ../../Data//word embeddings//SSWE/embedding-results/sswe-u.bin', 'binary': True, 'encoding': 'utf8', 'datetime': '2022-04-19T13:32:15.447133', 'gensim': '4.0.1', 'python': '3.8.10 (default, Mar 15 2022, 12:22:08) \\n[GCC 9.4.0]', 'platform': 'Linux-5.4.0-107-generic-x86_64-with-glibc2.29', 'event': 'load_word2vec_format'}\n"
     ]
    }
   ],
   "source": [
    "sswe_model = gensim.models.KeyedVectors.load_word2vec_format(embeddings_folder+\"/SSWE/embedding-results/sswe-u.bin\",binary=True)"
   ]
  },
  {
   "cell_type": "code",
   "execution_count": 7,
   "metadata": {},
   "outputs": [
    {
     "name": "stderr",
     "output_type": "stream",
     "text": [
      "INFO:gensim.models.keyedvectors:loading projection weights from ../../Data//word embeddings/debiased_word_embedding/glove_2_wv_P-DeSIP.txt\n",
      "DEBUG:smart_open.smart_open_lib:{'uri': '../../Data//word embeddings/debiased_word_embedding/glove_2_wv_P-DeSIP.txt', 'mode': 'rb', 'buffering': -1, 'encoding': None, 'errors': None, 'newline': None, 'closefd': True, 'opener': None, 'ignore_ext': False, 'compression': None, 'transport_params': None}\n",
      "DEBUG:gensim.utils:starting a new internal lifecycle event log for KeyedVectors\n",
      "INFO:gensim.utils:KeyedVectors lifecycle event {'msg': 'loaded (322636, 300) matrix of type float32 from ../../Data//word embeddings/debiased_word_embedding/glove_2_wv_P-DeSIP.txt', 'binary': False, 'encoding': 'utf8', 'datetime': '2022-04-19T13:32:40.162017', 'gensim': '4.0.1', 'python': '3.8.10 (default, Mar 15 2022, 12:22:08) \\n[GCC 9.4.0]', 'platform': 'Linux-5.4.0-107-generic-x86_64-with-glibc2.29', 'event': 'load_word2vec_format'}\n"
     ]
    }
   ],
   "source": [
    "p_desip_model = gensim.models.KeyedVectors.load_word2vec_format(embeddings_folder+\"debiased_word_embedding/glove_2_wv_P-DeSIP.txt\", binary=False)"
   ]
  },
  {
   "cell_type": "code",
   "execution_count": 8,
   "metadata": {},
   "outputs": [
    {
     "name": "stderr",
     "output_type": "stream",
     "text": [
      "INFO:gensim.models.keyedvectors:loading projection weights from ../../Data//word embeddings//Glove/glove.42B.300d.txt\n",
      "DEBUG:smart_open.smart_open_lib:{'uri': '../../Data//word embeddings//Glove/glove.42B.300d.txt', 'mode': 'rb', 'buffering': -1, 'encoding': None, 'errors': None, 'newline': None, 'closefd': True, 'opener': None, 'ignore_ext': False, 'compression': None, 'transport_params': None}\n",
      "DEBUG:smart_open.smart_open_lib:{'uri': '../../Data//word embeddings//Glove/glove.42B.300d.txt', 'mode': 'rb', 'buffering': -1, 'encoding': None, 'errors': None, 'newline': None, 'closefd': True, 'opener': None, 'ignore_ext': False, 'compression': None, 'transport_params': None}\n",
      "DEBUG:gensim.utils:starting a new internal lifecycle event log for KeyedVectors\n",
      "INFO:gensim.utils:KeyedVectors lifecycle event {'msg': 'loaded (1917494, 300) matrix of type float32 from ../../Data//word embeddings//Glove/glove.42B.300d.txt', 'binary': False, 'encoding': 'utf8', 'datetime': '2022-04-19T13:35:00.517952', 'gensim': '4.0.1', 'python': '3.8.10 (default, Mar 15 2022, 12:22:08) \\n[GCC 9.4.0]', 'platform': 'Linux-5.4.0-107-generic-x86_64-with-glibc2.29', 'event': 'load_word2vec_format'}\n"
     ]
    }
   ],
   "source": [
    "glove_cc_model = get_google_news_embeddings(embeddings_folder+\"/Glove/glove.42B.300d.txt\")"
   ]
  },
  {
   "cell_type": "code",
   "execution_count": 9,
   "metadata": {},
   "outputs": [
    {
     "name": "stderr",
     "output_type": "stream",
     "text": [
      "INFO:gensim.models.keyedvectors:loading projection weights from ../../Data//word embeddings//Glove/glove.840B.300d.txt\n",
      "DEBUG:smart_open.smart_open_lib:{'uri': '../../Data//word embeddings//Glove/glove.840B.300d.txt', 'mode': 'rb', 'buffering': -1, 'encoding': None, 'errors': None, 'newline': None, 'closefd': True, 'opener': None, 'ignore_ext': False, 'compression': None, 'transport_params': None}\n",
      "DEBUG:smart_open.smart_open_lib:{'uri': '../../Data//word embeddings//Glove/glove.840B.300d.txt', 'mode': 'rb', 'buffering': -1, 'encoding': None, 'errors': None, 'newline': None, 'closefd': True, 'opener': None, 'ignore_ext': False, 'compression': None, 'transport_params': None}\n",
      "WARNING:gensim.models.keyedvectors:duplicate word '����������������������������������������������������������������������������������������������������������������������������������������������������������������������������������������������������������������������������������������������������������������������������������������������������������������������������������������������' in word2vec file, ignoring all but first\n",
      "DEBUG:gensim.utils:starting a new internal lifecycle event log for KeyedVectors\n",
      "INFO:gensim.utils:KeyedVectors lifecycle event {'msg': 'loaded (2196017, 300) matrix of type float32 from ../../Data//word embeddings//Glove/glove.840B.300d.txt', 'binary': False, 'encoding': 'utf8', 'datetime': '2022-04-19T13:37:42.049800', 'gensim': '4.0.1', 'python': '3.8.10 (default, Mar 15 2022, 12:22:08) \\n[GCC 9.4.0]', 'platform': 'Linux-5.4.0-107-generic-x86_64-with-glibc2.29', 'event': 'load_word2vec_format'}\n"
     ]
    }
   ],
   "source": [
    "glove_cc_large_model = get_google_news_embeddings(embeddings_folder+\"/Glove/glove.840B.300d.txt\")"
   ]
  },
  {
   "cell_type": "markdown",
   "metadata": {},
   "source": [
    "#### WEAT Effect Size: represents a normalized measure that quantifies how far apart the two distributions of association between targets and attributes are.\n",
    "\n",
    "#### WEAT score:  Its objective is to quantify the strength of association of both pair of sets through a permutation test. The score being positive and higher than one indicates that word2vec exhibits a moderately strong relationship between men's names and careers and women's names and family."
   ]
  },
  {
   "cell_type": "code",
   "execution_count": 14,
   "metadata": {},
   "outputs": [],
   "source": [
    "# load the weat word sets\n",
    "WEAT_wordsets = load_weat()\n",
    "RND_wordsets = fetch_eds()\n",
    "sentiments_wordsets = load_bingliu()\n",
    "debias_multiclass_wordsets = fetch_debias_multiclass()"
   ]
  },
  {
   "cell_type": "code",
   "execution_count": 10,
   "metadata": {},
   "outputs": [],
   "source": [
    "u_desip_model = WordEmbeddingModel(u_desip_model, 'u_desip')\n",
    "p_desip_model = WordEmbeddingModel(p_desip_model, 'p_desip')\n",
    "sswe_model = WordEmbeddingModel(sswe_model, 'sswe')\n",
    "glove_cc_model = WordEmbeddingModel(glove_cc_model, 'glove_cc')\n",
    "glove_cc_large_model = WordEmbeddingModel(glove_cc_large_model, 'glove_cc_large')\n"
   ]
  },
  {
   "cell_type": "code",
   "execution_count": 11,
   "metadata": {},
   "outputs": [],
   "source": [
    "models = [u_desip_model, p_desip_model, sswe_model, glove_cc_model, glove_cc_large_model]"
   ]
  },
  {
   "cell_type": "markdown",
   "metadata": {},
   "source": [
    "## Query ranking"
   ]
  },
  {
   "cell_type": "code",
   "execution_count": 15,
   "metadata": {},
   "outputs": [],
   "source": [
    "# Create gender queries\n",
    "gender_query_1 = Query([RND_wordsets['male_terms'], RND_wordsets['female_terms']],\n",
    "                       [WEAT_wordsets['career'], WEAT_wordsets['family']],\n",
    "                       ['Male terms', 'Female terms'], ['Career', 'Family'])\n",
    "gender_query_2 = Query([RND_wordsets['male_terms'], RND_wordsets['female_terms']],\n",
    "                       [WEAT_wordsets['science'], WEAT_wordsets['arts']],\n",
    "                       ['Male terms', 'Female terms'], ['Science', 'Arts'])\n",
    "gender_query_3 = Query([WEAT_wordsets['male_terms'], WEAT_wordsets['female_terms']],\n",
    "                       [WEAT_wordsets['math'], WEAT_wordsets['arts_2']],\n",
    "                       ['Male terms', 'Female terms'], ['Math', 'Arts'])\n",
    "\n",
    "gender_query_4 = Query([RND_wordsets['male_terms'], RND_wordsets['female_terms']], [\n",
    "    RND_wordsets['adjectives_intelligence'],\n",
    "    RND_wordsets['adjectives_appearance']\n",
    "], ['Male terms', 'Female terms'], ['Intelligence', 'Appearence'])\n",
    "\n",
    "gender_query_5 = Query([RND_wordsets['male_terms'], RND_wordsets['female_terms']], [\n",
    "    RND_wordsets['adjectives_intelligence'],\n",
    "    RND_wordsets['adjectives_sensitive']\n",
    "], ['Male terms', 'Female terms'], ['Intelligence', 'Sensitive'])\n",
    "\n",
    "\n",
    "gender_sent_1 = Query(\n",
    "    [RND_wordsets['male_terms'], RND_wordsets['female_terms']], [\n",
    "        sentiments_wordsets['positive_words'],\n",
    "        sentiments_wordsets['negative_words']\n",
    "    ], ['Male terms', 'Female terms'], ['Positive words', 'Negative words'])\n",
    "\n",
    "gender_role_1 = Query(\n",
    "    [RND_wordsets['male_terms'], RND_wordsets['female_terms']], [\n",
    "        debias_multiclass_wordsets['male_roles'],\n",
    "        debias_multiclass_wordsets['female_roles']\n",
    "    ], ['Male terms', 'Female terms'], ['Man Roles', 'Woman Roles'])\n",
    "\n",
    "gender_queries = [gender_query_1, gender_query_2, gender_query_3, \n",
    "                  gender_query_4, gender_query_5, gender_role_1, gender_sent_1]"
   ]
  },
  {
   "cell_type": "code",
   "execution_count": 16,
   "metadata": {},
   "outputs": [
    {
     "name": "stderr",
     "output_type": "stream",
     "text": [
      "WARNING:root:The transformation of 'Intelligence' into sswe embeddings lost proportionally more words than specified in 'lost_words_threshold': 0.21 lost with respect to 0.2 maximum loss allowed.\n",
      "ERROR:root:At least one set of 'Male terms and Female terms wrt Intelligence and Appearence' query has proportionally fewer embeddings than allowed by the lost_vocabulary_threshold parameter (0.2). This query will return np.nan.\n",
      "WARNING:root:The transformation of 'Intelligence' into sswe embeddings lost proportionally more words than specified in 'lost_words_threshold': 0.21 lost with respect to 0.2 maximum loss allowed.\n",
      "ERROR:root:At least one set of 'Male terms and Female terms wrt Intelligence and Sensitive' query has proportionally fewer embeddings than allowed by the lost_vocabulary_threshold parameter (0.2). This query will return np.nan.\n",
      "WARNING:root:The transformation of 'Positive words' into sswe embeddings lost proportionally more words than specified in 'lost_words_threshold': 0.34 lost with respect to 0.2 maximum loss allowed.\n",
      "WARNING:root:The transformation of 'Negative words' into sswe embeddings lost proportionally more words than specified in 'lost_words_threshold': 0.45 lost with respect to 0.2 maximum loss allowed.\n",
      "ERROR:root:At least one set of 'Male terms and Female terms wrt Positive words and Negative words' query has proportionally fewer embeddings than allowed by the lost_vocabulary_threshold parameter (0.2). This query will return np.nan.\n",
      "WARNING:root:The transformation of 'Intelligence' into sswe embeddings lost proportionally more words than specified in 'lost_words_threshold': 0.21 lost with respect to 0.2 maximum loss allowed.\n",
      "ERROR:root:At least one set of 'Male terms and Female terms wrt Intelligence and Appearence' query has proportionally fewer embeddings than allowed by the lost_vocabulary_threshold parameter (0.2). This query will return np.nan.\n",
      "WARNING:root:The transformation of 'Intelligence' into sswe embeddings lost proportionally more words than specified in 'lost_words_threshold': 0.21 lost with respect to 0.2 maximum loss allowed.\n",
      "ERROR:root:At least one set of 'Male terms and Female terms wrt Intelligence and Sensitive' query has proportionally fewer embeddings than allowed by the lost_vocabulary_threshold parameter (0.2). This query will return np.nan.\n",
      "WARNING:root:The transformation of 'Positive words' into sswe embeddings lost proportionally more words than specified in 'lost_words_threshold': 0.34 lost with respect to 0.2 maximum loss allowed.\n",
      "WARNING:root:The transformation of 'Negative words' into sswe embeddings lost proportionally more words than specified in 'lost_words_threshold': 0.45 lost with respect to 0.2 maximum loss allowed.\n",
      "ERROR:root:At least one set of 'Male terms and Female terms wrt Positive words and Negative words' query has proportionally fewer embeddings than allowed by the lost_vocabulary_threshold parameter (0.2). This query will return np.nan.\n"
     ]
    }
   ],
   "source": [
    "# Run the queries WEAT\n",
    "WEAT_gender_results = run_queries(\n",
    "    WEAT,\n",
    "    gender_queries,\n",
    "    models,\n",
    "    metric_params={'preprocessor_args': {\n",
    "        'lowercase': True\n",
    "    }},\n",
    "    aggregate_results=True,\n",
    "    return_only_aggregation=True,\n",
    "    queries_set_name='Gender Queries')\n",
    "\n",
    "\n",
    "# Run the queries using RNSB\n",
    "RNSB_gender_results = run_queries(RNSB,\n",
    "                                gender_queries,\n",
    "                                models,\n",
    "                                metric_params={'preprocessor_args': {\n",
    "                                    'lowercase': True\n",
    "                                }},\n",
    "                                aggregate_results=True,\n",
    "                                return_only_aggregation=True,\n",
    "                                queries_set_name='Gender Queries')\n",
    "\n",
    "\n"
   ]
  },
  {
   "cell_type": "code",
   "execution_count": 17,
   "metadata": {},
   "outputs": [
    {
     "data": {
      "text/html": [
       "<div>\n",
       "<style scoped>\n",
       "    .dataframe tbody tr th:only-of-type {\n",
       "        vertical-align: middle;\n",
       "    }\n",
       "\n",
       "    .dataframe tbody tr th {\n",
       "        vertical-align: top;\n",
       "    }\n",
       "\n",
       "    .dataframe thead th {\n",
       "        text-align: right;\n",
       "    }\n",
       "</style>\n",
       "<table border=\"1\" class=\"dataframe\">\n",
       "  <thead>\n",
       "    <tr style=\"text-align: right;\">\n",
       "      <th></th>\n",
       "      <th>WEAT: Gender Queries average of abs values score</th>\n",
       "    </tr>\n",
       "    <tr>\n",
       "      <th>model_name</th>\n",
       "      <th></th>\n",
       "    </tr>\n",
       "  </thead>\n",
       "  <tbody>\n",
       "    <tr>\n",
       "      <th>u_desip</th>\n",
       "      <td>0.107393</td>\n",
       "    </tr>\n",
       "    <tr>\n",
       "      <th>p_desip</th>\n",
       "      <td>0.107472</td>\n",
       "    </tr>\n",
       "    <tr>\n",
       "      <th>sswe</th>\n",
       "      <td>0.293374</td>\n",
       "    </tr>\n",
       "    <tr>\n",
       "      <th>glove_cc</th>\n",
       "      <td>0.682374</td>\n",
       "    </tr>\n",
       "    <tr>\n",
       "      <th>glove_cc_large</th>\n",
       "      <td>0.841814</td>\n",
       "    </tr>\n",
       "  </tbody>\n",
       "</table>\n",
       "</div>"
      ],
      "text/plain": [
       "                WEAT: Gender Queries average of abs values score\n",
       "model_name                                                      \n",
       "u_desip                                                 0.107393\n",
       "p_desip                                                 0.107472\n",
       "sswe                                                    0.293374\n",
       "glove_cc                                                0.682374\n",
       "glove_cc_large                                          0.841814"
      ]
     },
     "execution_count": 17,
     "metadata": {},
     "output_type": "execute_result"
    }
   ],
   "source": [
    "WEAT_gender_results"
   ]
  },
  {
   "cell_type": "code",
   "execution_count": 18,
   "metadata": {},
   "outputs": [
    {
     "data": {
      "text/html": [
       "<div>\n",
       "<style scoped>\n",
       "    .dataframe tbody tr th:only-of-type {\n",
       "        vertical-align: middle;\n",
       "    }\n",
       "\n",
       "    .dataframe tbody tr th {\n",
       "        vertical-align: top;\n",
       "    }\n",
       "\n",
       "    .dataframe thead th {\n",
       "        text-align: right;\n",
       "    }\n",
       "</style>\n",
       "<table border=\"1\" class=\"dataframe\">\n",
       "  <thead>\n",
       "    <tr style=\"text-align: right;\">\n",
       "      <th></th>\n",
       "      <th>RNSB: Gender Queries average of abs values score</th>\n",
       "    </tr>\n",
       "    <tr>\n",
       "      <th>model_name</th>\n",
       "      <th></th>\n",
       "    </tr>\n",
       "  </thead>\n",
       "  <tbody>\n",
       "    <tr>\n",
       "      <th>u_desip</th>\n",
       "      <td>0.045428</td>\n",
       "    </tr>\n",
       "    <tr>\n",
       "      <th>p_desip</th>\n",
       "      <td>0.042097</td>\n",
       "    </tr>\n",
       "    <tr>\n",
       "      <th>sswe</th>\n",
       "      <td>0.126451</td>\n",
       "    </tr>\n",
       "    <tr>\n",
       "      <th>glove_cc</th>\n",
       "      <td>0.067636</td>\n",
       "    </tr>\n",
       "    <tr>\n",
       "      <th>glove_cc_large</th>\n",
       "      <td>0.063590</td>\n",
       "    </tr>\n",
       "  </tbody>\n",
       "</table>\n",
       "</div>"
      ],
      "text/plain": [
       "                RNSB: Gender Queries average of abs values score\n",
       "model_name                                                      \n",
       "u_desip                                                 0.045428\n",
       "p_desip                                                 0.042097\n",
       "sswe                                                    0.126451\n",
       "glove_cc                                                0.067636\n",
       "glove_cc_large                                          0.063590"
      ]
     },
     "execution_count": 18,
     "metadata": {},
     "output_type": "execute_result"
    }
   ],
   "source": [
    "RNSB_gender_results"
   ]
  },
  {
   "cell_type": "code",
   "execution_count": 19,
   "metadata": {},
   "outputs": [
    {
     "name": "stderr",
     "output_type": "stream",
     "text": [
      "WARNING:root:The transformation of 'Intelligence' into sswe embeddings lost proportionally more words than specified in 'lost_words_threshold': 0.21 lost with respect to 0.2 maximum loss allowed.\n",
      "ERROR:root:At least one set of 'Male terms and Female terms wrt Intelligence' query has proportionally fewer embeddings than allowed by the lost_vocabulary_threshold parameter (0.2). This query will return np.nan.\n",
      "WARNING:root:The transformation of 'Positive words' into sswe embeddings lost proportionally more words than specified in 'lost_words_threshold': 0.34 lost with respect to 0.2 maximum loss allowed.\n",
      "ERROR:root:At least one set of 'Male terms and Female terms wrt Positive words' query has proportionally fewer embeddings than allowed by the lost_vocabulary_threshold parameter (0.2). This query will return np.nan.\n",
      "WARNING:root:The transformation of 'Negative words' into sswe embeddings lost proportionally more words than specified in 'lost_words_threshold': 0.45 lost with respect to 0.2 maximum loss allowed.\n",
      "ERROR:root:At least one set of 'Male terms and Female terms wrt Negative words' query has proportionally fewer embeddings than allowed by the lost_vocabulary_threshold parameter (0.2). This query will return np.nan.\n"
     ]
    }
   ],
   "source": [
    "# Run the queries using RND\n",
    "RND_gender_results = run_queries(RND,\n",
    "                                gender_queries,\n",
    "                                models,\n",
    "                                metric_params={'preprocessor_args': {\n",
    "                                    'lowercase': True\n",
    "                                }},\n",
    "                                aggregate_results=True,\n",
    "                                generate_subqueries=True,\n",
    "                                 return_only_aggregation=True,\n",
    "                                queries_set_name='Gender Queries')\n",
    "\n",
    "\n"
   ]
  },
  {
   "cell_type": "code",
   "execution_count": 20,
   "metadata": {},
   "outputs": [
    {
     "data": {
      "text/html": [
       "<div>\n",
       "<style scoped>\n",
       "    .dataframe tbody tr th:only-of-type {\n",
       "        vertical-align: middle;\n",
       "    }\n",
       "\n",
       "    .dataframe tbody tr th {\n",
       "        vertical-align: top;\n",
       "    }\n",
       "\n",
       "    .dataframe thead th {\n",
       "        text-align: right;\n",
       "    }\n",
       "</style>\n",
       "<table border=\"1\" class=\"dataframe\">\n",
       "  <thead>\n",
       "    <tr style=\"text-align: right;\">\n",
       "      <th></th>\n",
       "      <th>RND: Gender Queries average of abs values score</th>\n",
       "    </tr>\n",
       "    <tr>\n",
       "      <th>model_name</th>\n",
       "      <th></th>\n",
       "    </tr>\n",
       "  </thead>\n",
       "  <tbody>\n",
       "    <tr>\n",
       "      <th>u_desip</th>\n",
       "      <td>0.026729</td>\n",
       "    </tr>\n",
       "    <tr>\n",
       "      <th>p_desip</th>\n",
       "      <td>0.026293</td>\n",
       "    </tr>\n",
       "    <tr>\n",
       "      <th>sswe</th>\n",
       "      <td>0.119304</td>\n",
       "    </tr>\n",
       "    <tr>\n",
       "      <th>glove_cc</th>\n",
       "      <td>0.140001</td>\n",
       "    </tr>\n",
       "    <tr>\n",
       "      <th>glove_cc_large</th>\n",
       "      <td>0.182953</td>\n",
       "    </tr>\n",
       "  </tbody>\n",
       "</table>\n",
       "</div>"
      ],
      "text/plain": [
       "                RND: Gender Queries average of abs values score\n",
       "model_name                                                     \n",
       "u_desip                                                0.026729\n",
       "p_desip                                                0.026293\n",
       "sswe                                                   0.119304\n",
       "glove_cc                                               0.140001\n",
       "glove_cc_large                                         0.182953"
      ]
     },
     "execution_count": 20,
     "metadata": {},
     "output_type": "execute_result"
    }
   ],
   "source": [
    "RND_gender_results"
   ]
  },
  {
   "cell_type": "code",
   "execution_count": 21,
   "metadata": {},
   "outputs": [
    {
     "name": "stderr",
     "output_type": "stream",
     "text": [
      "WARNING:root:The transformation of 'Intelligence' into sswe embeddings lost proportionally more words than specified in 'lost_words_threshold': 0.21 lost with respect to 0.2 maximum loss allowed.\n",
      "ERROR:root:At least one set of 'Male terms and Female terms wrt Intelligence' query has proportionally fewer embeddings than allowed by the lost_vocabulary_threshold parameter (0.2). This query will return np.nan.\n",
      "WARNING:root:The transformation of 'Positive words' into sswe embeddings lost proportionally more words than specified in 'lost_words_threshold': 0.34 lost with respect to 0.2 maximum loss allowed.\n",
      "ERROR:root:At least one set of 'Male terms and Female terms wrt Positive words' query has proportionally fewer embeddings than allowed by the lost_vocabulary_threshold parameter (0.2). This query will return np.nan.\n",
      "WARNING:root:The transformation of 'Negative words' into sswe embeddings lost proportionally more words than specified in 'lost_words_threshold': 0.45 lost with respect to 0.2 maximum loss allowed.\n",
      "ERROR:root:At least one set of 'Male terms and Female terms wrt Negative words' query has proportionally fewer embeddings than allowed by the lost_vocabulary_threshold parameter (0.2). This query will return np.nan.\n"
     ]
    }
   ],
   "source": [
    "# Run the queries using ECT\n",
    "ECT_gender_results = run_queries(ECT,\n",
    "                                gender_queries,\n",
    "                                models,\n",
    "                                metric_params={'preprocessor_args': {\n",
    "                                    'lowercase': True\n",
    "                                }},\n",
    "                                aggregate_results=True,\n",
    "                                 return_only_aggregation=True,\n",
    "                                generate_subqueries=True,\n",
    "                                queries_set_name='Gender Queries')"
   ]
  },
  {
   "cell_type": "code",
   "execution_count": 22,
   "metadata": {},
   "outputs": [
    {
     "data": {
      "text/html": [
       "<div>\n",
       "<style scoped>\n",
       "    .dataframe tbody tr th:only-of-type {\n",
       "        vertical-align: middle;\n",
       "    }\n",
       "\n",
       "    .dataframe tbody tr th {\n",
       "        vertical-align: top;\n",
       "    }\n",
       "\n",
       "    .dataframe thead th {\n",
       "        text-align: right;\n",
       "    }\n",
       "</style>\n",
       "<table border=\"1\" class=\"dataframe\">\n",
       "  <thead>\n",
       "    <tr style=\"text-align: right;\">\n",
       "      <th></th>\n",
       "      <th>ECT: Gender Queries average of abs values score</th>\n",
       "    </tr>\n",
       "    <tr>\n",
       "      <th>model_name</th>\n",
       "      <th></th>\n",
       "    </tr>\n",
       "  </thead>\n",
       "  <tbody>\n",
       "    <tr>\n",
       "      <th>u_desip</th>\n",
       "      <td>0.940929</td>\n",
       "    </tr>\n",
       "    <tr>\n",
       "      <th>p_desip</th>\n",
       "      <td>0.931339</td>\n",
       "    </tr>\n",
       "    <tr>\n",
       "      <th>sswe</th>\n",
       "      <td>0.931320</td>\n",
       "    </tr>\n",
       "    <tr>\n",
       "      <th>glove_cc</th>\n",
       "      <td>0.938996</td>\n",
       "    </tr>\n",
       "    <tr>\n",
       "      <th>glove_cc_large</th>\n",
       "      <td>0.868008</td>\n",
       "    </tr>\n",
       "  </tbody>\n",
       "</table>\n",
       "</div>"
      ],
      "text/plain": [
       "                ECT: Gender Queries average of abs values score\n",
       "model_name                                                     \n",
       "u_desip                                                0.940929\n",
       "p_desip                                                0.931339\n",
       "sswe                                                   0.931320\n",
       "glove_cc                                               0.938996\n",
       "glove_cc_large                                         0.868008"
      ]
     },
     "execution_count": 22,
     "metadata": {},
     "output_type": "execute_result"
    }
   ],
   "source": [
    "ECT_gender_results"
   ]
  }
 ],
 "metadata": {
  "kernelspec": {
   "display_name": "env_py_39",
   "language": "python",
   "name": "env_py_39"
  },
  "language_info": {
   "codemirror_mode": {
    "name": "ipython",
    "version": 3
   },
   "file_extension": ".py",
   "mimetype": "text/x-python",
   "name": "python",
   "nbconvert_exporter": "python",
   "pygments_lexer": "ipython3",
   "version": "3.8.10"
  }
 },
 "nbformat": 4,
 "nbformat_minor": 4
}
