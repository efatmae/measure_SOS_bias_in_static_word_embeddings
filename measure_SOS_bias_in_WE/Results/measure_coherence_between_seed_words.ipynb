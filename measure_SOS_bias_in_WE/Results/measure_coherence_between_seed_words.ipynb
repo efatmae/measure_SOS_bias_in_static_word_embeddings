{
 "cells": [
  {
   "cell_type": "markdown",
   "id": "43317f08",
   "metadata": {},
   "source": [
    "# measure coherence seed words (NOI) according to Maria antoniak "
   ]
  },
  {
   "cell_type": "code",
   "execution_count": 1,
   "id": "3cb5bc65",
   "metadata": {},
   "outputs": [],
   "source": [
    "import pandas as pd\n",
    "from scipy.stats import rankdata"
   ]
  },
  {
   "cell_type": "code",
   "execution_count": 2,
   "id": "4bfc86ff",
   "metadata": {},
   "outputs": [],
   "source": [
    "w2v_cos_sim_Scores_path = \"ethnicity_similarities/word2vec\"\n",
    "glove_twitter_cos_sim_scores_path = \"ethnicity_similarities/glove_twitter\"\n",
    "glove_wk_cos_sim_scores_path = \"ethnicity_similarities/glove-wk\"\n",
    "ud_cos_sim_scores_path = \"ethnicity_similarities/UD\"\n",
    "chan_cos_sim_scores_path = \"ethnicity_similarities/chan\""
   ]
  },
  {
   "cell_type": "code",
   "execution_count": 3,
   "id": "0622546d",
   "metadata": {},
   "outputs": [],
   "source": [
    "w2v_cos_sim_majority_df = pd.read_csv(w2v_cos_sim_Scores_path+\"/\"+\"majority_words_sim_to_profane_vector.csv\")\n",
    "w2v_cos_sim_minority_df = pd.read_csv(w2v_cos_sim_Scores_path+\"/\"+\"minority_words_sim_to_profane_vector.csv\")"
   ]
  },
  {
   "cell_type": "code",
   "execution_count": 4,
   "id": "d6ef8882",
   "metadata": {},
   "outputs": [],
   "source": [
    "glove_twitter_cos_sim_majority_df = pd.read_csv(glove_twitter_cos_sim_scores_path+\"/\"+\"majority_words_sim_to_profane_vector.csv\")\n",
    "glove_twitter_cos_sim_minority_df = pd.read_csv(glove_twitter_cos_sim_scores_path+\"/\"+\"minority_words_sim_to_profane_vector.csv\")"
   ]
  },
  {
   "cell_type": "code",
   "execution_count": 5,
   "id": "c15e8b0b",
   "metadata": {},
   "outputs": [],
   "source": [
    "glove_wk_cos_sim_majority_df = pd.read_csv(glove_wk_cos_sim_scores_path+\"/\"+\"majority_words_sim_to_profane_vector.csv\")\n",
    "glove_wk_cos_sim_minority_df = pd.read_csv(glove_wk_cos_sim_scores_path+\"/\"+\"minority_words_sim_to_profane_vector.csv\")"
   ]
  },
  {
   "cell_type": "code",
   "execution_count": 6,
   "id": "9ba026cc",
   "metadata": {},
   "outputs": [],
   "source": [
    "ud_cos_sim_majority_df = pd.read_csv(ud_cos_sim_scores_path+\"/\"+\"majority_words_sim_to_profane_vector.csv\")\n",
    "ud_cos_sim_minority_df = pd.read_csv(ud_cos_sim_scores_path+\"/\"+\"minority_words_sim_to_profane_vector.csv\")"
   ]
  },
  {
   "cell_type": "code",
   "execution_count": 7,
   "id": "a787ad0c",
   "metadata": {},
   "outputs": [],
   "source": [
    "chan_cos_sim_majority_df = pd.read_csv(chan_cos_sim_scores_path+\"/\"+\"majority_words_sim_to_profane_vector.csv\")\n",
    "chan_cos_sim_minority_df = pd.read_csv(chan_cos_sim_scores_path+\"/\"+\"minority_words_sim_to_profane_vector.csv\")"
   ]
  },
  {
   "cell_type": "code",
   "execution_count": 8,
   "id": "95bc2333",
   "metadata": {},
   "outputs": [],
   "source": [
    "lgtb_words = [\"lesbian\",\"gay\",\"bisexual\",\"transgender\",\"tran\",\"queer\",\n",
    "                \"lgbt\",\"lgbtq\",\"homosexual\",\"non-binary\"]\n",
    "\n",
    "women_words = [\"woman\", \"female\", \"girl\",\"wife\",\"sister\",\"daughter\",\"mother\"]\n",
    "\n",
    "\n",
    "eth_words = [\"african\", \"african american\", \"asian\", \"black\", \"hispanic\", \"latin\", \"mexican\", \"indian\", \"middle eastern\",\n",
    "                \"arab\"]\n",
    "\n",
    "straight_words = [\"hetrosexual\", \"cisgender\"]\n",
    "\n",
    "men_words = [\"man\",\"male\",\"boy\",\"son\",\"father\",\"husband\",\"brother\"]\n",
    "\n",
    "white_eth_words = [\"white\",\"caucasian\", \"european american\",\"european\", \"norwegian\", \"canadian\", \"german\", \"australian\", \"english\",\n",
    "                                \"french\", \"american\", \"swedish\", \"dutch\"]"
   ]
  },
  {
   "cell_type": "code",
   "execution_count": 9,
   "id": "77605e8e",
   "metadata": {},
   "outputs": [],
   "source": [
    "def normalize_data(a):\n",
    "    normalizded_a = []\n",
    "    amin, amax = min(a), max(a)\n",
    "    for i in a:\n",
    "        normalizded_a.append((i-amin) / (amax-amin))\n",
    "    return normalizded_a"
   ]
  },
  {
   "cell_type": "code",
   "execution_count": 32,
   "id": "fa502bac",
   "metadata": {},
   "outputs": [],
   "source": [
    "def measure_coherence_word_lists(model_minority_cos_sim_df, model_majority_cos_sim_df, minority_word_list, majority_word_list):\n",
    "    \n",
    "    cos_sim_minority_wordlist = model_minority_cos_sim_df[model_minority_cos_sim_df[\"words\"].isin(minority_word_list)][\"cos_sim_scores\"]\n",
    "    cos_sim_majority_word_list = model_majority_cos_sim_df[model_majority_cos_sim_df[\"words\"].isin(majority_word_list)][\"cos_sim_scores\"]\n",
    "    \n",
    "    \n",
    "    mean_ranks_minority_word_list = (cos_sim_minority_wordlist).mean()\n",
    "    mean_ranks_majority_word_list = (cos_sim_majority_word_list).mean()\n",
    "    \n",
    "    coherence = mean_ranks_minority_word_list - mean_ranks_majority_word_list\n",
    "\n",
    "    return coherence\n",
    "    "
   ]
  },
  {
   "cell_type": "markdown",
   "id": "22d2ae46",
   "metadata": {},
   "source": [
    "## measue coherence in w2v models"
   ]
  },
  {
   "cell_type": "code",
   "execution_count": 33,
   "id": "d99b67ad",
   "metadata": {},
   "outputs": [],
   "source": [
    "w2v_sex_or = measure_coherence_word_lists(w2v_cos_sim_minority_df, w2v_cos_sim_majority_df, lgtb_words, straight_words)"
   ]
  },
  {
   "cell_type": "code",
   "execution_count": 34,
   "id": "9b2f77c1",
   "metadata": {},
   "outputs": [],
   "source": [
    "w2v_gender = measure_coherence_word_lists(w2v_cos_sim_minority_df, w2v_cos_sim_majority_df, women_words, men_words)"
   ]
  },
  {
   "cell_type": "code",
   "execution_count": 35,
   "id": "62ffa60d",
   "metadata": {},
   "outputs": [],
   "source": [
    "w2v_eth = measure_coherence_word_lists(w2v_cos_sim_minority_df, w2v_cos_sim_majority_df, eth_words, white_eth_words)"
   ]
  },
  {
   "cell_type": "code",
   "execution_count": 36,
   "id": "d4e6c43a",
   "metadata": {},
   "outputs": [],
   "source": [
    "normalized_coherence = normalize_data ([w2v_sex_or, w2v_gender, w2v_eth])"
   ]
  },
  {
   "cell_type": "code",
   "execution_count": 37,
   "id": "a7eb3542",
   "metadata": {},
   "outputs": [
    {
     "data": {
      "text/plain": [
       "[0.0, 0.9888198353926599, 1.0]"
      ]
     },
     "execution_count": 37,
     "metadata": {},
     "output_type": "execute_result"
    }
   ],
   "source": [
    "normalized_coherence"
   ]
  },
  {
   "cell_type": "markdown",
   "id": "a34561bf",
   "metadata": {},
   "source": [
    "## measue coherence in glove-wk models"
   ]
  },
  {
   "cell_type": "code",
   "execution_count": 38,
   "id": "f6293111",
   "metadata": {},
   "outputs": [],
   "source": [
    "glove_wk_sex_or = measure_coherence_word_lists(glove_wk_cos_sim_minority_df, glove_wk_cos_sim_majority_df, lgtb_words, straight_words)"
   ]
  },
  {
   "cell_type": "code",
   "execution_count": 39,
   "id": "867085ec",
   "metadata": {},
   "outputs": [],
   "source": [
    "glove_wk_gender = measure_coherence_word_lists(glove_wk_cos_sim_minority_df, glove_wk_cos_sim_majority_df, women_words, men_words)"
   ]
  },
  {
   "cell_type": "code",
   "execution_count": 40,
   "id": "7b833c68",
   "metadata": {},
   "outputs": [],
   "source": [
    "glove_wk_eth = measure_coherence_word_lists(glove_wk_cos_sim_minority_df, glove_wk_cos_sim_majority_df, eth_words, white_eth_words)"
   ]
  },
  {
   "cell_type": "code",
   "execution_count": 41,
   "id": "2750ae0a",
   "metadata": {},
   "outputs": [
    {
     "data": {
      "text/plain": [
       "[0.0, 0.9187169910981976, 1.0]"
      ]
     },
     "execution_count": 41,
     "metadata": {},
     "output_type": "execute_result"
    }
   ],
   "source": [
    "normalized_coherence = normalize_data ([glove_wk_sex_or,glove_wk_gender,glove_wk_eth])\n",
    "normalized_coherence"
   ]
  },
  {
   "cell_type": "markdown",
   "id": "9174eb74",
   "metadata": {},
   "source": [
    "## measue coherence in glove-twitter models"
   ]
  },
  {
   "cell_type": "code",
   "execution_count": 42,
   "id": "be9e7c8a",
   "metadata": {},
   "outputs": [
    {
     "data": {
      "text/plain": [
       "nan"
      ]
     },
     "execution_count": 42,
     "metadata": {},
     "output_type": "execute_result"
    }
   ],
   "source": [
    "measure_coherence_word_lists(glove_twitter_cos_sim_minority_df, glove_twitter_cos_sim_majority_df, lgtb_words, straight_words)"
   ]
  },
  {
   "cell_type": "code",
   "execution_count": 43,
   "id": "4a8e100a",
   "metadata": {},
   "outputs": [
    {
     "data": {
      "text/plain": [
       "0.10214580595493317"
      ]
     },
     "execution_count": 43,
     "metadata": {},
     "output_type": "execute_result"
    }
   ],
   "source": [
    "measure_coherence_word_lists(glove_twitter_cos_sim_minority_df, glove_twitter_cos_sim_majority_df, women_words, men_words)"
   ]
  },
  {
   "cell_type": "code",
   "execution_count": 44,
   "id": "ad6dfdef",
   "metadata": {},
   "outputs": [
    {
     "data": {
      "text/plain": [
       "0.017385903745889664"
      ]
     },
     "execution_count": 44,
     "metadata": {},
     "output_type": "execute_result"
    }
   ],
   "source": [
    "measure_coherence_word_lists(glove_twitter_cos_sim_minority_df, glove_twitter_cos_sim_majority_df, eth_words, white_eth_words)"
   ]
  },
  {
   "cell_type": "markdown",
   "id": "3bea834c",
   "metadata": {},
   "source": [
    "## measue coherence in UD models"
   ]
  },
  {
   "cell_type": "code",
   "execution_count": 45,
   "id": "f4be1bb8",
   "metadata": {},
   "outputs": [],
   "source": [
    "ud_sex_or = measure_coherence_word_lists(ud_cos_sim_minority_df, ud_cos_sim_majority_df, lgtb_words, straight_words)"
   ]
  },
  {
   "cell_type": "code",
   "execution_count": 46,
   "id": "eb8ec049",
   "metadata": {},
   "outputs": [],
   "source": [
    "ud_gender = measure_coherence_word_lists(ud_cos_sim_minority_df, ud_cos_sim_majority_df, women_words, men_words)"
   ]
  },
  {
   "cell_type": "code",
   "execution_count": 47,
   "id": "8d411757",
   "metadata": {},
   "outputs": [],
   "source": [
    "ud_eth = measure_coherence_word_lists(ud_cos_sim_minority_df, ud_cos_sim_majority_df, eth_words, white_eth_words)"
   ]
  },
  {
   "cell_type": "code",
   "execution_count": 48,
   "id": "71badc15",
   "metadata": {},
   "outputs": [
    {
     "data": {
      "text/plain": [
       "[1.0, 0.028543336924576182, 0.0]"
      ]
     },
     "execution_count": 48,
     "metadata": {},
     "output_type": "execute_result"
    }
   ],
   "source": [
    "normalized_coherence = normalize_data ([ud_sex_or,ud_gender,ud_eth])\n",
    "normalized_coherence"
   ]
  },
  {
   "cell_type": "markdown",
   "id": "3ad569d6",
   "metadata": {},
   "source": [
    "## measue coherence in chan models"
   ]
  },
  {
   "cell_type": "code",
   "execution_count": 49,
   "id": "a4c6c4e7",
   "metadata": {},
   "outputs": [],
   "source": [
    "chan_sex_or = measure_coherence_word_lists(chan_cos_sim_minority_df, chan_cos_sim_majority_df, lgtb_words, straight_words)"
   ]
  },
  {
   "cell_type": "code",
   "execution_count": 50,
   "id": "b5a003c6",
   "metadata": {},
   "outputs": [],
   "source": [
    "chan_gender =  measure_coherence_word_lists(chan_cos_sim_minority_df, chan_cos_sim_majority_df, women_words, men_words)"
   ]
  },
  {
   "cell_type": "code",
   "execution_count": 51,
   "id": "3434b7b4",
   "metadata": {},
   "outputs": [],
   "source": [
    "chan_eth = measure_coherence_word_lists(chan_cos_sim_minority_df, chan_cos_sim_majority_df, eth_words, white_eth_words)"
   ]
  },
  {
   "cell_type": "code",
   "execution_count": 52,
   "id": "8ad74081",
   "metadata": {},
   "outputs": [
    {
     "data": {
      "text/plain": [
       "[0.8845330761073148, 0.0, 1.0]"
      ]
     },
     "execution_count": 52,
     "metadata": {},
     "output_type": "execute_result"
    }
   ],
   "source": [
    "normalized_coherence = normalize_data ([chan_sex_or,chan_gender,chan_eth])\n",
    "normalized_coherence"
   ]
  },
  {
   "cell_type": "code",
   "execution_count": null,
   "id": "f6b7bfda",
   "metadata": {},
   "outputs": [],
   "source": []
  },
  {
   "cell_type": "code",
   "execution_count": null,
   "id": "7363a965",
   "metadata": {},
   "outputs": [],
   "source": []
  },
  {
   "cell_type": "code",
   "execution_count": null,
   "id": "5ea96526",
   "metadata": {},
   "outputs": [],
   "source": []
  }
 ],
 "metadata": {
  "kernelspec": {
   "display_name": "env_py_39",
   "language": "python",
   "name": "env_py_39"
  },
  "language_info": {
   "codemirror_mode": {
    "name": "ipython",
    "version": 3
   },
   "file_extension": ".py",
   "mimetype": "text/x-python",
   "name": "python",
   "nbconvert_exporter": "python",
   "pygments_lexer": "ipython3",
   "version": "3.8.10"
  }
 },
 "nbformat": 4,
 "nbformat_minor": 5
}
