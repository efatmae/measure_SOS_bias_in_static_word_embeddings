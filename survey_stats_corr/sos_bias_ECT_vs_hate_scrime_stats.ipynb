{
 "cells": [
  {
   "cell_type": "code",
   "execution_count": 1,
   "id": "e382e704",
   "metadata": {},
   "outputs": [],
   "source": [
    "import numpy as np\n",
    "from scipy import stats \n",
    "import pandas as pd"
   ]
  },
  {
   "cell_type": "markdown",
   "id": "4032b436",
   "metadata": {},
   "source": [
    "## WEAT_SOS_bias_scores"
   ]
  },
  {
   "cell_type": "code",
   "execution_count": 2,
   "id": "2ba6d591",
   "metadata": {},
   "outputs": [],
   "source": [
    "weat_sos_women_w2v = 1 - 0.862764\n",
    "weat_sos_eth_w2v = 1 - 0.880087\n",
    "weat_sos_lgtbq_w2v = 1 - 0.780800"
   ]
  },
  {
   "cell_type": "code",
   "execution_count": 3,
   "id": "a617a573",
   "metadata": {},
   "outputs": [],
   "source": [
    "weat_sos_women_glove_wk = 1 - 0.956840\n",
    "weat_sos_eth_glove_wk = 1 - 0.942214\n",
    "weat_sos_lgtbq_glove_wk = 1 - 0.020149"
   ]
  },
  {
   "cell_type": "code",
   "execution_count": 4,
   "id": "3cde2018",
   "metadata": {},
   "outputs": [],
   "source": [
    "weat_sos_women_glove_twitter = 1 - 0.979259\n",
    "weat_sos_eth_glove_twitter = 1 - 0.960936\n",
    "weat_sos_lgtbq_glove_twitter = nan"
   ]
  },
  {
   "cell_type": "code",
   "execution_count": 5,
   "id": "bb72a1f1",
   "metadata": {},
   "outputs": [],
   "source": [
    "weat_sos_women_ud = 1 - 0.766151\n",
    "weat_sos_eth_ud = 1 - 0.618317\n",
    "weat_sos_lgtbq_ud = 1 - 0.631056"
   ]
  },
  {
   "cell_type": "code",
   "execution_count": 6,
   "id": "0715cee6",
   "metadata": {},
   "outputs": [],
   "source": [
    "weat_sos_women_chan = 1 - 0.919794\n",
    "weat_sos_eth_chan =  1 - 0.734377\n",
    "weat_sos_lgtbq_chan = 1 - 0.573317"
   ]
  },
  {
   "cell_type": "markdown",
   "id": "5a1736e0",
   "metadata": {},
   "source": [
    "## hate crime stats (department of justice US)"
   ]
  },
  {
   "cell_type": "code",
   "execution_count": 7,
   "id": "91af66c0",
   "metadata": {},
   "outputs": [],
   "source": [
    "crime_rate = [61.9, 15.4,0.7]"
   ]
  },
  {
   "cell_type": "code",
   "execution_count": 8,
   "id": "8008048e",
   "metadata": {},
   "outputs": [
    {
     "data": {
      "text/plain": [
       "(-0.4399161257184889, 0.710016336092243)"
      ]
     },
     "execution_count": 8,
     "metadata": {},
     "output_type": "execute_result"
    }
   ],
   "source": [
    "stats.pearsonr([weat_sos_eth_w2v, weat_sos_lgtbq_w2v, weat_sos_women_w2v], crime_rate)"
   ]
  },
  {
   "cell_type": "code",
   "execution_count": 9,
   "id": "86358d6f",
   "metadata": {},
   "outputs": [
    {
     "data": {
      "text/plain": [
       "(-0.27426443619821794, 0.8231312870199521)"
      ]
     },
     "execution_count": 9,
     "metadata": {},
     "output_type": "execute_result"
    }
   ],
   "source": [
    "stats.pearsonr([weat_sos_eth_glove_wk, weat_sos_lgtbq_glove_wk, weat_sos_women_glove_wk], crime_rate)"
   ]
  },
  {
   "cell_type": "code",
   "execution_count": 10,
   "id": "3bca7f11",
   "metadata": {},
   "outputs": [
    {
     "data": {
      "text/plain": [
       "(0.7028027940512483, 0.5038632517462327)"
      ]
     },
     "execution_count": 10,
     "metadata": {},
     "output_type": "execute_result"
    }
   ],
   "source": [
    "stats.pearsonr([weat_sos_eth_glove_twitter, weat_sos_lgtbq_glove_twitter, weat_sos_women_glove_twitter], crime_rate)"
   ]
  },
  {
   "cell_type": "code",
   "execution_count": 11,
   "id": "e29a26c8",
   "metadata": {},
   "outputs": [
    {
     "data": {
      "text/plain": [
       "(0.7403383111309058, 0.46933063928136687)"
      ]
     },
     "execution_count": 11,
     "metadata": {},
     "output_type": "execute_result"
    }
   ],
   "source": [
    "stats.pearsonr([weat_sos_eth_ud, weat_sos_lgtbq_ud, weat_sos_women_ud], crime_rate)"
   ]
  },
  {
   "cell_type": "code",
   "execution_count": 12,
   "id": "1f9551ba",
   "metadata": {},
   "outputs": [
    {
     "data": {
      "text/plain": [
       "(0.26934304793638353, 0.8263869097192403)"
      ]
     },
     "execution_count": 12,
     "metadata": {},
     "output_type": "execute_result"
    }
   ],
   "source": [
    "stats.pearsonr([weat_sos_eth_chan, weat_sos_lgtbq_chan,weat_sos_women_chan], crime_rate )"
   ]
  },
  {
   "cell_type": "markdown",
   "id": "46bb2935",
   "metadata": {},
   "source": [
    "## Online Extremism and Online Hate"
   ]
  },
  {
   "cell_type": "code",
   "execution_count": 13,
   "id": "c8ad2d40",
   "metadata": {},
   "outputs": [],
   "source": [
    "hate_finland = [0.67, 0.63, 0.25]\n",
    "hate_us = [0.60, 0.61, 0.44]\n",
    "germany = [0.48, 0.50, 0.20]\n",
    "uk = [0.57, 0.55, 0.44]"
   ]
  },
  {
   "cell_type": "code",
   "execution_count": 14,
   "id": "be395c14",
   "metadata": {},
   "outputs": [
    {
     "name": "stdout",
     "output_type": "stream",
     "text": [
      "w2v_finland (0.26977501282973265, 0.8261013417007177)\n",
      "glove_wk_finland (0.4357216869286781, 0.7129863907730087)\n",
      "glove_twitter (0.050643460879054025, 0.9677455739532725)\n",
      "ud_finland (0.9999633788603025, 0.005448317074332925)\n",
      "chan_finland (0.8422133486381561, 0.36250458751220066)\n"
     ]
    }
   ],
   "source": [
    "print(\"w2v_finland\",stats.pearsonr([weat_sos_eth_w2v, weat_sos_lgtbq_w2v, weat_sos_women_w2v], hate_finland))\n",
    "print(\"glove_wk_finland\",stats.pearsonr([weat_sos_eth_glove_wk, weat_sos_lgtbq_glove_wk, weat_sos_women_glove_wk], hate_finland))\n",
    "print(\"glove_twitter\",stats.pearsonr([weat_sos_eth_glove_twitter, weat_sos_lgtbq_glove_twitter, weat_sos_women_glove_twitter], hate_finland))\n",
    "print(\"ud_finland\",stats.pearsonr([weat_sos_eth_ud, weat_sos_lgtbq_ud, weat_sos_women_ud], hate_finland))\n",
    "print(\"chan_finland\",stats.pearsonr([weat_sos_eth_chan, weat_sos_lgtbq_chan, weat_sos_women_chan], hate_finland))"
   ]
  },
  {
   "cell_type": "code",
   "execution_count": 15,
   "id": "3fd149da",
   "metadata": {},
   "outputs": [
    {
     "name": "stdout",
     "output_type": "stream",
     "text": [
      "w2v_us (0.40042870336397046, 0.7377224274532733)\n",
      "glove_wk_us (0.5560827902869984, 0.6246074765255644)\n",
      "glove_us (-0.08804598442253363, 0.9438755117992834)\n",
      "ud_us (0.9915272359988201, 0.08293059717311749)\n",
      "chan_us (0.9087172999476744, 0.2741256732647562)\n"
     ]
    }
   ],
   "source": [
    "print(\"w2v_us\",stats.pearsonr([weat_sos_eth_w2v, weat_sos_lgtbq_w2v, weat_sos_women_w2v], hate_us))\n",
    "print(\"glove_wk_us\",stats.pearsonr([weat_sos_eth_glove_wk, weat_sos_lgtbq_glove_wk, weat_sos_women_glove_wk], hate_us))\n",
    "print(\"glove_us\",stats.pearsonr([weat_sos_eth_glove_twitter, weat_sos_lgtbq_glove_twitter, weat_sos_women_glove_twitter], hate_us))\n",
    "print(\"ud_us\",stats.pearsonr([weat_sos_eth_ud, weat_sos_lgtbq_ud, weat_sos_women_ud], hate_us))\n",
    "print(\"chan_us\",stats.pearsonr([weat_sos_eth_chan, weat_sos_lgtbq_chan, weat_sos_women_chan], hate_us))"
   ]
  },
  {
   "cell_type": "code",
   "execution_count": 16,
   "id": "e9b3dc9b",
   "metadata": {},
   "outputs": [
    {
     "name": "stdout",
     "output_type": "stream",
     "text": [
      "w2v_germany (0.40703113086034337, 0.733128099752951)\n",
      "glove_wk_germany (0.5620662951055243, 0.620013148825242)\n",
      "glove_germany (-0.09523235542232392, 0.9392811840989611)\n",
      "ud_germany (0.9905639753909192, 0.08752492487344025)\n",
      "chan_germany (0.911705970332822, 0.2695313455644339)\n"
     ]
    }
   ],
   "source": [
    "print(\"w2v_germany\",stats.pearsonr([weat_sos_eth_w2v, weat_sos_lgtbq_w2v, weat_sos_women_w2v], germany))\n",
    "print(\"glove_wk_germany\",stats.pearsonr([weat_sos_eth_glove_wk, weat_sos_lgtbq_glove_wk, weat_sos_women_glove_wk], germany))\n",
    "print(\"glove_germany\",stats.pearsonr([weat_sos_eth_glove_twitter, weat_sos_lgtbq_glove_twitter, weat_sos_women_glove_twitter], germany))\n",
    "print(\"ud_germany\",stats.pearsonr([weat_sos_eth_ud, weat_sos_lgtbq_ud, weat_sos_women_ud], germany))\n",
    "print(\"chan_germany\",stats.pearsonr([weat_sos_eth_chan, weat_sos_lgtbq_chan, weat_sos_women_chan], germany))"
   ]
  },
  {
   "cell_type": "code",
   "execution_count": 17,
   "id": "f8b0bc4b",
   "metadata": {},
   "outputs": [
    {
     "name": "stdout",
     "output_type": "stream",
     "text": [
      "w2v_uk (0.21451848173729, 0.8623635641268427)\n",
      "glove_wk_uk (0.38377359805759104, 0.7492486131991336)\n",
      "glove_uk (0.10741804341152437, 0.9314833515271477)\n",
      "ud_uk (0.9978544135936667, 0.041710539500452046)\n",
      "chan_uk (0.8101540689990384, 0.3987668099383256)\n"
     ]
    }
   ],
   "source": [
    "print(\"w2v_uk\",stats.pearsonr([weat_sos_eth_w2v, weat_sos_lgtbq_w2v, weat_sos_women_w2v], uk))\n",
    "print(\"glove_wk_uk\",stats.pearsonr([weat_sos_eth_glove_wk, weat_sos_lgtbq_glove_wk, weat_sos_women_glove_wk], uk))\n",
    "print(\"glove_uk\",stats.pearsonr([weat_sos_eth_glove_twitter, weat_sos_lgtbq_glove_twitter, weat_sos_women_glove_twitter], uk))\n",
    "print(\"ud_uk\",stats.pearsonr([weat_sos_eth_ud, weat_sos_lgtbq_ud, weat_sos_women_ud], uk))\n",
    "print(\"chan_uk\",stats.pearsonr([weat_sos_eth_chan, weat_sos_lgtbq_chan, weat_sos_women_chan], uk))"
   ]
  },
  {
   "cell_type": "code",
   "execution_count": 18,
   "id": "dea11ad3",
   "metadata": {},
   "outputs": [],
   "source": [
    "## difference between majoirty and minority added (online harassment) (https://www.womensmediacenter.com/speech-project/research-statistics)"
   ]
  },
  {
   "cell_type": "code",
   "execution_count": 19,
   "id": "dbf886d6",
   "metadata": {},
   "outputs": [],
   "source": [
    "bullying_diff = [0.23,0.25,0.31]"
   ]
  },
  {
   "cell_type": "code",
   "execution_count": 20,
   "id": "8caea272",
   "metadata": {},
   "outputs": [
    {
     "name": "stdout",
     "output_type": "stream",
     "text": [
      "w2v_uk (-0.11671586946280377, 0.9255266257521296)\n",
      "glove_wk_uk (-0.29041744118664103, 0.8124116748244206)\n",
      "glove_uk (-0.20537024870087867, 0.8683202899018607)\n",
      "ud_uk (-0.9864618365206717, 0.10487360112573896)\n",
      "chan_uk (-0.7481029020510538, 0.4619298715636125)\n"
     ]
    }
   ],
   "source": [
    "print(\"w2v_uk\",stats.pearsonr([weat_sos_eth_w2v, weat_sos_lgtbq_w2v, weat_sos_women_w2v], bullying_diff))\n",
    "print(\"glove_wk_uk\",stats.pearsonr([weat_sos_eth_glove_wk, weat_sos_lgtbq_glove_wk, weat_sos_women_glove_wk], bullying_diff))\n",
    "print(\"glove_uk\",stats.pearsonr([weat_sos_eth_glove_twitter, weat_sos_lgtbq_glove_twitter, weat_sos_women_glove_twitter], bullying_diff))\n",
    "print(\"ud_uk\",stats.pearsonr([weat_sos_eth_ud, weat_sos_lgtbq_ud, weat_sos_women_ud], bullying_diff))\n",
    "print(\"chan_uk\",stats.pearsonr([weat_sos_eth_chan, weat_sos_lgtbq_chan, weat_sos_women_chan], bullying_diff))"
   ]
  },
  {
   "cell_type": "code",
   "execution_count": 21,
   "id": "900b0363",
   "metadata": {},
   "outputs": [],
   "source": [
    "## https://enough.org/stats_cyberbullying"
   ]
  },
  {
   "cell_type": "code",
   "execution_count": 22,
   "id": "807a3047",
   "metadata": {},
   "outputs": [],
   "source": [
    "bullying = [0.17,0.15,0.2]"
   ]
  },
  {
   "cell_type": "code",
   "execution_count": 23,
   "id": "be6b2cf6",
   "metadata": {},
   "outputs": [
    {
     "name": "stdout",
     "output_type": "stream",
     "text": [
      "w2v_uk (-0.6948305324717764, 0.510958729147857)\n",
      "glove_wk_uk (-0.8110031701660135, 0.39784377822014794)\n",
      "glove_uk (0.4298798723926713, 0.7171118134938671)\n",
      "ud_uk (-0.8839902278668766, 0.3096942954785339)\n",
      "chan_uk (-0.9972338925462053, 0.04736197495934055)\n"
     ]
    }
   ],
   "source": [
    "print(\"w2v_uk\",stats.pearsonr([weat_sos_eth_w2v, weat_sos_lgtbq_w2v, weat_sos_women_w2v], bullying))\n",
    "print(\"glove_wk_uk\",stats.pearsonr([weat_sos_eth_glove_wk, weat_sos_lgtbq_glove_wk, weat_sos_women_glove_wk], bullying))\n",
    "print(\"glove_uk\",stats.pearsonr([weat_sos_eth_glove_twitter, weat_sos_lgtbq_glove_twitter, weat_sos_women_glove_twitter], bullying))\n",
    "print(\"ud_uk\",stats.pearsonr([weat_sos_eth_ud, weat_sos_lgtbq_ud, weat_sos_women_ud], bullying))\n",
    "print(\"chan_uk\",stats.pearsonr([weat_sos_eth_chan, weat_sos_lgtbq_chan, weat_sos_women_chan], bullying))"
   ]
  },
  {
   "cell_type": "code",
   "execution_count": null,
   "id": "fae48974",
   "metadata": {},
   "outputs": [],
   "source": []
  }
 ],
 "metadata": {
  "kernelspec": {
   "display_name": "Python 3",
   "language": "python",
   "name": "python3"
  },
  "language_info": {
   "codemirror_mode": {
    "name": "ipython",
    "version": 3
   },
   "file_extension": ".py",
   "mimetype": "text/x-python",
   "name": "python",
   "nbconvert_exporter": "python",
   "pygments_lexer": "ipython3",
   "version": "3.6.9"
  }
 },
 "nbformat": 4,
 "nbformat_minor": 5
}
