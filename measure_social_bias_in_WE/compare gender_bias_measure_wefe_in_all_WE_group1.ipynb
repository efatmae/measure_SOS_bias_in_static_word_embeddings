{
 "cells": [
  {
   "cell_type": "code",
   "execution_count": 1,
   "metadata": {},
   "outputs": [
    {
     "name": "stdout",
     "output_type": "stream",
     "text": [
      "3.8.10 (default, Mar 15 2022, 12:22:08) \n",
      "[GCC 9.4.0]\n"
     ]
    }
   ],
   "source": [
    "import sys\n",
    "print(sys.version)"
   ]
  },
  {
   "cell_type": "code",
   "execution_count": 2,
   "metadata": {},
   "outputs": [],
   "source": [
    "from wefe.query import Query\n",
    "from wefe.metrics import WEAT, RNSB, RND, MAC, ECT\n",
    "from wefe.word_embedding_model import WordEmbeddingModel\n",
    "from wefe.datasets.datasets import load_weat, fetch_eds, fetch_debias_multiclass, fetch_debiaswe, load_bingliu\n",
    "from wefe.utils import run_queries, plot_queries_results, create_ranking, plot_ranking, plot_ranking_correlations\n",
    "from plotly.subplots import make_subplots\n",
    "import gensim\n",
    "import numpy as np"
   ]
  },
  {
   "cell_type": "code",
   "execution_count": 3,
   "metadata": {},
   "outputs": [],
   "source": [
    "data_folder = \"../../Data/\"\n",
    "embeddings_folder = data_folder+\"/word embeddings/\""
   ]
  },
  {
   "cell_type": "code",
   "execution_count": 4,
   "metadata": {},
   "outputs": [
    {
     "name": "stderr",
     "output_type": "stream",
     "text": [
      "INFO:gensim.models.keyedvectors:loading projection weights from ../../Data//word embeddings/W2V/GoogleNews-vectors-negative300.bin\n",
      "DEBUG:smart_open.smart_open_lib:{'uri': '../../Data//word embeddings/W2V/GoogleNews-vectors-negative300.bin', 'mode': 'rb', 'buffering': -1, 'encoding': None, 'errors': None, 'newline': None, 'closefd': True, 'opener': None, 'ignore_ext': False, 'compression': None, 'transport_params': None}\n",
      "DEBUG:gensim.utils:starting a new internal lifecycle event log for KeyedVectors\n",
      "INFO:gensim.utils:KeyedVectors lifecycle event {'msg': 'loaded (3000000, 300) matrix of type float32 from ../../Data//word embeddings/W2V/GoogleNews-vectors-negative300.bin', 'binary': True, 'encoding': 'utf8', 'datetime': '2022-04-19T13:26:07.793328', 'gensim': '4.0.1', 'python': '3.8.10 (default, Mar 15 2022, 12:22:08) \\n[GCC 9.4.0]', 'platform': 'Linux-5.4.0-107-generic-x86_64-with-glibc2.29', 'event': 'load_word2vec_format'}\n"
     ]
    }
   ],
   "source": [
    "w2v = gensim.models.KeyedVectors.load_word2vec_format(embeddings_folder+'W2V/GoogleNews-vectors-negative300.bin',binary=True)\n",
    "model_wv = WordEmbeddingModel(w2v, 'WE')\n",
    "\n"
   ]
  },
  {
   "cell_type": "code",
   "execution_count": 5,
   "metadata": {},
   "outputs": [
    {
     "name": "stderr",
     "output_type": "stream",
     "text": [
      "INFO:gensim.models.keyedvectors:loading projection weights from ../../Data//word embeddings/Glove/glove.twitter.27B/glove_2_word2vec.twitter.27B.200d.txt\n",
      "DEBUG:smart_open.smart_open_lib:{'uri': '../../Data//word embeddings/Glove/glove.twitter.27B/glove_2_word2vec.twitter.27B.200d.txt', 'mode': 'rb', 'buffering': -1, 'encoding': None, 'errors': None, 'newline': None, 'closefd': True, 'opener': None, 'ignore_ext': False, 'compression': None, 'transport_params': None}\n",
      "DEBUG:gensim.utils:starting a new internal lifecycle event log for KeyedVectors\n",
      "INFO:gensim.utils:KeyedVectors lifecycle event {'msg': 'loaded (1193514, 200) matrix of type float32 from ../../Data//word embeddings/Glove/glove.twitter.27B/glove_2_word2vec.twitter.27B.200d.txt', 'binary': False, 'encoding': 'utf8', 'datetime': '2022-04-19T13:27:26.074551', 'gensim': '4.0.1', 'python': '3.8.10 (default, Mar 15 2022, 12:22:08) \\n[GCC 9.4.0]', 'platform': 'Linux-5.4.0-107-generic-x86_64-with-glibc2.29', 'event': 'load_word2vec_format'}\n"
     ]
    }
   ],
   "source": [
    "glove_twitter = gensim.models.KeyedVectors.load_word2vec_format(embeddings_folder+'Glove/glove.twitter.27B/glove_2_word2vec.twitter.27B.200d.txt')\n",
    "model_glove_twitter = WordEmbeddingModel(glove_twitter, 'glove_twitter')"
   ]
  },
  {
   "cell_type": "code",
   "execution_count": 6,
   "metadata": {},
   "outputs": [
    {
     "name": "stderr",
     "output_type": "stream",
     "text": [
      "INFO:gensim.models.keyedvectors:loading projection weights from ../../Data//word embeddings/Glove/glove.6B/glove_2_word2vec.6B.200d.txt\n",
      "DEBUG:smart_open.smart_open_lib:{'uri': '../../Data//word embeddings/Glove/glove.6B/glove_2_word2vec.6B.200d.txt', 'mode': 'rb', 'buffering': -1, 'encoding': None, 'errors': None, 'newline': None, 'closefd': True, 'opener': None, 'ignore_ext': False, 'compression': None, 'transport_params': None}\n",
      "DEBUG:gensim.utils:starting a new internal lifecycle event log for KeyedVectors\n",
      "INFO:gensim.utils:KeyedVectors lifecycle event {'msg': 'loaded (400000, 200) matrix of type float32 from ../../Data//word embeddings/Glove/glove.6B/glove_2_word2vec.6B.200d.txt', 'binary': False, 'encoding': 'utf8', 'datetime': '2022-04-19T13:29:18.730777', 'gensim': '4.0.1', 'python': '3.8.10 (default, Mar 15 2022, 12:22:08) \\n[GCC 9.4.0]', 'platform': 'Linux-5.4.0-107-generic-x86_64-with-glibc2.29', 'event': 'load_word2vec_format'}\n"
     ]
    }
   ],
   "source": [
    "glove_wk = gensim.models.KeyedVectors.load_word2vec_format(embeddings_folder+'Glove/glove.6B/glove_2_word2vec.6B.200d.txt')\n",
    "model_glove_wk = WordEmbeddingModel(glove_wk, 'glove_wk')"
   ]
  },
  {
   "cell_type": "code",
   "execution_count": 7,
   "metadata": {},
   "outputs": [
    {
     "name": "stderr",
     "output_type": "stream",
     "text": [
      "INFO:gensim.models.keyedvectors:loading projection weights from ../../Data//word embeddings/ud_embeddings/ud_basic.vec\n",
      "DEBUG:smart_open.smart_open_lib:{'uri': '../../Data//word embeddings/ud_embeddings/ud_basic.vec', 'mode': 'rb', 'buffering': -1, 'encoding': None, 'errors': None, 'newline': None, 'closefd': True, 'opener': None, 'ignore_ext': False, 'compression': None, 'transport_params': None}\n",
      "DEBUG:gensim.utils:starting a new internal lifecycle event log for KeyedVectors\n",
      "INFO:gensim.utils:KeyedVectors lifecycle event {'msg': 'loaded (542320, 300) matrix of type float32 from ../../Data//word embeddings/ud_embeddings/ud_basic.vec', 'binary': False, 'encoding': 'utf8', 'datetime': '2022-04-19T13:29:56.999693', 'gensim': '4.0.1', 'python': '3.8.10 (default, Mar 15 2022, 12:22:08) \\n[GCC 9.4.0]', 'platform': 'Linux-5.4.0-107-generic-x86_64-with-glibc2.29', 'event': 'load_word2vec_format'}\n"
     ]
    }
   ],
   "source": [
    "UD = gensim.models.KeyedVectors.load_word2vec_format(embeddings_folder+'ud_embeddings/ud_basic.vec')\n",
    "model_ud = WordEmbeddingModel(UD, 'UD')"
   ]
  },
  {
   "cell_type": "code",
   "execution_count": 8,
   "metadata": {},
   "outputs": [
    {
     "name": "stderr",
     "output_type": "stream",
     "text": [
      "INFO:gensim.models.keyedvectors:loading projection weights from ../../Data//word embeddings/4_8_chan_word_embeddings/48chan_2_wv_embeddings.txt\n",
      "DEBUG:smart_open.smart_open_lib:{'uri': '../../Data//word embeddings/4_8_chan_word_embeddings/48chan_2_wv_embeddings.txt', 'mode': 'rb', 'buffering': -1, 'encoding': None, 'errors': None, 'newline': None, 'closefd': True, 'opener': None, 'ignore_ext': False, 'compression': None, 'transport_params': None}\n",
      "DEBUG:gensim.utils:starting a new internal lifecycle event log for KeyedVectors\n",
      "INFO:gensim.utils:KeyedVectors lifecycle event {'msg': 'loaded (255938, 150) matrix of type float32 from ../../Data//word embeddings/4_8_chan_word_embeddings/48chan_2_wv_embeddings.txt', 'binary': False, 'encoding': 'utf8', 'datetime': '2022-04-19T13:30:06.841372', 'gensim': '4.0.1', 'python': '3.8.10 (default, Mar 15 2022, 12:22:08) \\n[GCC 9.4.0]', 'platform': 'Linux-5.4.0-107-generic-x86_64-with-glibc2.29', 'event': 'load_word2vec_format'}\n"
     ]
    }
   ],
   "source": [
    "chan = gensim.models.KeyedVectors.load_word2vec_format(embeddings_folder+'4_8_chan_word_embeddings/48chan_2_wv_embeddings.txt')\n",
    "model_chan = WordEmbeddingModel(chan, 'Chan')"
   ]
  },
  {
   "cell_type": "code",
   "execution_count": 9,
   "metadata": {},
   "outputs": [],
   "source": [
    "# load the weat word sets\n",
    "WEAT_wordsets = load_weat()\n",
    "RND_wordsets = fetch_eds()\n",
    "sentiments_wordsets = load_bingliu()\n",
    "debias_multiclass_wordsets = fetch_debias_multiclass()"
   ]
  },
  {
   "cell_type": "markdown",
   "metadata": {},
   "source": [
    "#### WEAT Effect Size: represents a normalized measure that quantifies how far apart the two distributions of association between targets and attributes are.\n",
    "\n",
    "#### WEAT score:  Its objective is to quantify the strength of association of both pair of sets through a permutation test. The score being positive and higher than one indicates that word2vec exhibits a moderately strong relationship between men's names and careers and women's names and family."
   ]
  },
  {
   "cell_type": "code",
   "execution_count": 10,
   "metadata": {},
   "outputs": [],
   "source": [
    "models = [model_wv, model_glove_wk, model_glove_twitter, model_ud, model_chan]"
   ]
  },
  {
   "cell_type": "markdown",
   "metadata": {},
   "source": [
    "## Query ranking"
   ]
  },
  {
   "cell_type": "code",
   "execution_count": 11,
   "metadata": {},
   "outputs": [],
   "source": [
    "# Create gender queries\n",
    "gender_query_1 = Query([RND_wordsets['male_terms'], RND_wordsets['female_terms']],\n",
    "                       [WEAT_wordsets['career'], WEAT_wordsets['family']],\n",
    "                       ['Male terms', 'Female terms'], ['Career', 'Family'])\n",
    "gender_query_2 = Query([RND_wordsets['male_terms'], RND_wordsets['female_terms']],\n",
    "                       [WEAT_wordsets['science'], WEAT_wordsets['arts']],\n",
    "                       ['Male terms', 'Female terms'], ['Science', 'Arts'])\n",
    "gender_query_3 = Query([WEAT_wordsets['male_terms'], WEAT_wordsets['female_terms']],\n",
    "                       [WEAT_wordsets['math'], WEAT_wordsets['arts_2']],\n",
    "                       ['Male terms', 'Female terms'], ['Math', 'Arts'])\n",
    "\n",
    "gender_query_4 = Query([RND_wordsets['male_terms'], RND_wordsets['female_terms']], [\n",
    "    RND_wordsets['adjectives_intelligence'],\n",
    "    RND_wordsets['adjectives_appearance']\n",
    "], ['Male terms', 'Female terms'], ['Intelligence', 'Appearence'])\n",
    "\n",
    "gender_query_5 = Query([RND_wordsets['male_terms'], RND_wordsets['female_terms']], [\n",
    "    RND_wordsets['adjectives_intelligence'],\n",
    "    RND_wordsets['adjectives_sensitive']\n",
    "], ['Male terms', 'Female terms'], ['Intelligence', 'Sensitive'])\n",
    "\n",
    "\n",
    "gender_sent_1 = Query(\n",
    "    [RND_wordsets['male_terms'], RND_wordsets['female_terms']], [\n",
    "        sentiments_wordsets['positive_words'],\n",
    "        sentiments_wordsets['negative_words']\n",
    "    ], ['Male terms', 'Female terms'], ['Positive words', 'Negative words'])\n",
    "\n",
    "gender_role_1 = Query(\n",
    "    [RND_wordsets['male_terms'], RND_wordsets['female_terms']], [\n",
    "        debias_multiclass_wordsets['male_roles'],\n",
    "        debias_multiclass_wordsets['female_roles']\n",
    "    ], ['Male terms', 'Female terms'], ['Man Roles', 'Woman Roles'])\n",
    "\n",
    "gender_queries = [gender_query_1, gender_query_2, gender_query_3, \n",
    "                  gender_query_4, gender_query_5, gender_role_1, gender_sent_1]"
   ]
  },
  {
   "cell_type": "code",
   "execution_count": 12,
   "metadata": {},
   "outputs": [],
   "source": [
    "# Run the queries WEAT\n",
    "WEAT_gender_results = run_queries(\n",
    "    WEAT,\n",
    "    gender_queries,\n",
    "    models,\n",
    "    metric_params={'preprocessor_args': {\n",
    "        'lowercase': True\n",
    "    }},\n",
    "    aggregate_results=True,\n",
    "    return_only_aggregation=True,\n",
    "    queries_set_name='Gender Queries')\n",
    "\n",
    "\n",
    "# Run the queries using RNSB\n",
    "RNSB_gender_results = run_queries(RNSB,\n",
    "                                gender_queries,\n",
    "                                models,\n",
    "                                metric_params={'preprocessor_args': {\n",
    "                                    'lowercase': True\n",
    "                                }},\n",
    "                                aggregate_results=True,\n",
    "                                return_only_aggregation=True,\n",
    "                                queries_set_name='Gender Queries')\n",
    "\n",
    "\n"
   ]
  },
  {
   "cell_type": "code",
   "execution_count": 13,
   "metadata": {},
   "outputs": [
    {
     "data": {
      "text/html": [
       "<div>\n",
       "<style scoped>\n",
       "    .dataframe tbody tr th:only-of-type {\n",
       "        vertical-align: middle;\n",
       "    }\n",
       "\n",
       "    .dataframe tbody tr th {\n",
       "        vertical-align: top;\n",
       "    }\n",
       "\n",
       "    .dataframe thead th {\n",
       "        text-align: right;\n",
       "    }\n",
       "</style>\n",
       "<table border=\"1\" class=\"dataframe\">\n",
       "  <thead>\n",
       "    <tr style=\"text-align: right;\">\n",
       "      <th></th>\n",
       "      <th>WEAT: Gender Queries average of abs values score</th>\n",
       "    </tr>\n",
       "    <tr>\n",
       "      <th>model_name</th>\n",
       "      <th></th>\n",
       "    </tr>\n",
       "  </thead>\n",
       "  <tbody>\n",
       "    <tr>\n",
       "      <th>WE</th>\n",
       "      <td>0.778421</td>\n",
       "    </tr>\n",
       "    <tr>\n",
       "      <th>glove_wk</th>\n",
       "      <td>0.893280</td>\n",
       "    </tr>\n",
       "    <tr>\n",
       "      <th>glove_twitter</th>\n",
       "      <td>0.407471</td>\n",
       "    </tr>\n",
       "    <tr>\n",
       "      <th>UD</th>\n",
       "      <td>0.346125</td>\n",
       "    </tr>\n",
       "    <tr>\n",
       "      <th>Chan</th>\n",
       "      <td>0.699857</td>\n",
       "    </tr>\n",
       "  </tbody>\n",
       "</table>\n",
       "</div>"
      ],
      "text/plain": [
       "               WEAT: Gender Queries average of abs values score\n",
       "model_name                                                     \n",
       "WE                                                     0.778421\n",
       "glove_wk                                               0.893280\n",
       "glove_twitter                                          0.407471\n",
       "UD                                                     0.346125\n",
       "Chan                                                   0.699857"
      ]
     },
     "execution_count": 13,
     "metadata": {},
     "output_type": "execute_result"
    }
   ],
   "source": [
    "WEAT_gender_results"
   ]
  },
  {
   "cell_type": "code",
   "execution_count": 14,
   "metadata": {},
   "outputs": [
    {
     "data": {
      "text/html": [
       "<div>\n",
       "<style scoped>\n",
       "    .dataframe tbody tr th:only-of-type {\n",
       "        vertical-align: middle;\n",
       "    }\n",
       "\n",
       "    .dataframe tbody tr th {\n",
       "        vertical-align: top;\n",
       "    }\n",
       "\n",
       "    .dataframe thead th {\n",
       "        text-align: right;\n",
       "    }\n",
       "</style>\n",
       "<table border=\"1\" class=\"dataframe\">\n",
       "  <thead>\n",
       "    <tr style=\"text-align: right;\">\n",
       "      <th></th>\n",
       "      <th>RNSB: Gender Queries average of abs values score</th>\n",
       "    </tr>\n",
       "    <tr>\n",
       "      <th>model_name</th>\n",
       "      <th></th>\n",
       "    </tr>\n",
       "  </thead>\n",
       "  <tbody>\n",
       "    <tr>\n",
       "      <th>WE</th>\n",
       "      <td>0.029882</td>\n",
       "    </tr>\n",
       "    <tr>\n",
       "      <th>glove_wk</th>\n",
       "      <td>0.043810</td>\n",
       "    </tr>\n",
       "    <tr>\n",
       "      <th>glove_twitter</th>\n",
       "      <td>0.033452</td>\n",
       "    </tr>\n",
       "    <tr>\n",
       "      <th>UD</th>\n",
       "      <td>0.027039</td>\n",
       "    </tr>\n",
       "    <tr>\n",
       "      <th>Chan</th>\n",
       "      <td>0.141702</td>\n",
       "    </tr>\n",
       "  </tbody>\n",
       "</table>\n",
       "</div>"
      ],
      "text/plain": [
       "               RNSB: Gender Queries average of abs values score\n",
       "model_name                                                     \n",
       "WE                                                     0.029882\n",
       "glove_wk                                               0.043810\n",
       "glove_twitter                                          0.033452\n",
       "UD                                                     0.027039\n",
       "Chan                                                   0.141702"
      ]
     },
     "execution_count": 14,
     "metadata": {},
     "output_type": "execute_result"
    }
   ],
   "source": [
    "RNSB_gender_results"
   ]
  },
  {
   "cell_type": "code",
   "execution_count": 15,
   "metadata": {},
   "outputs": [],
   "source": [
    "# Run the queries using RND\n",
    "RND_gender_results = run_queries(RND,\n",
    "                                gender_queries,\n",
    "                                models,\n",
    "                                metric_params={'preprocessor_args': {\n",
    "                                    'lowercase': True\n",
    "                                }},\n",
    "                                aggregate_results=True,\n",
    "                                generate_subqueries=True,\n",
    "                                 return_only_aggregation=True,\n",
    "                                queries_set_name='Gender Queries')\n",
    "\n",
    "\n"
   ]
  },
  {
   "cell_type": "code",
   "execution_count": 16,
   "metadata": {},
   "outputs": [
    {
     "data": {
      "text/html": [
       "<div>\n",
       "<style scoped>\n",
       "    .dataframe tbody tr th:only-of-type {\n",
       "        vertical-align: middle;\n",
       "    }\n",
       "\n",
       "    .dataframe tbody tr th {\n",
       "        vertical-align: top;\n",
       "    }\n",
       "\n",
       "    .dataframe thead th {\n",
       "        text-align: right;\n",
       "    }\n",
       "</style>\n",
       "<table border=\"1\" class=\"dataframe\">\n",
       "  <thead>\n",
       "    <tr style=\"text-align: right;\">\n",
       "      <th></th>\n",
       "      <th>RND: Gender Queries average of abs values score</th>\n",
       "    </tr>\n",
       "    <tr>\n",
       "      <th>model_name</th>\n",
       "      <th></th>\n",
       "    </tr>\n",
       "  </thead>\n",
       "  <tbody>\n",
       "    <tr>\n",
       "      <th>WE</th>\n",
       "      <td>0.087666</td>\n",
       "    </tr>\n",
       "    <tr>\n",
       "      <th>glove_wk</th>\n",
       "      <td>0.204028</td>\n",
       "    </tr>\n",
       "    <tr>\n",
       "      <th>glove_twitter</th>\n",
       "      <td>0.127685</td>\n",
       "    </tr>\n",
       "    <tr>\n",
       "      <th>UD</th>\n",
       "      <td>0.051982</td>\n",
       "    </tr>\n",
       "    <tr>\n",
       "      <th>Chan</th>\n",
       "      <td>1.666596</td>\n",
       "    </tr>\n",
       "  </tbody>\n",
       "</table>\n",
       "</div>"
      ],
      "text/plain": [
       "               RND: Gender Queries average of abs values score\n",
       "model_name                                                    \n",
       "WE                                                    0.087666\n",
       "glove_wk                                              0.204028\n",
       "glove_twitter                                         0.127685\n",
       "UD                                                    0.051982\n",
       "Chan                                                  1.666596"
      ]
     },
     "execution_count": 16,
     "metadata": {},
     "output_type": "execute_result"
    }
   ],
   "source": [
    "RND_gender_results"
   ]
  },
  {
   "cell_type": "code",
   "execution_count": 17,
   "metadata": {},
   "outputs": [],
   "source": [
    "# Run the queries using ECT\n",
    "ECT_gender_results = run_queries(ECT,\n",
    "                                gender_queries,\n",
    "                                models,\n",
    "                                metric_params={'preprocessor_args': {\n",
    "                                    'lowercase': True\n",
    "                                }},\n",
    "                                aggregate_results=True,\n",
    "                                 return_only_aggregation=True,\n",
    "                                generate_subqueries=True,\n",
    "                                queries_set_name='Gender Queries')"
   ]
  },
  {
   "cell_type": "code",
   "execution_count": 18,
   "metadata": {},
   "outputs": [
    {
     "data": {
      "text/html": [
       "<div>\n",
       "<style scoped>\n",
       "    .dataframe tbody tr th:only-of-type {\n",
       "        vertical-align: middle;\n",
       "    }\n",
       "\n",
       "    .dataframe tbody tr th {\n",
       "        vertical-align: top;\n",
       "    }\n",
       "\n",
       "    .dataframe thead th {\n",
       "        text-align: right;\n",
       "    }\n",
       "</style>\n",
       "<table border=\"1\" class=\"dataframe\">\n",
       "  <thead>\n",
       "    <tr style=\"text-align: right;\">\n",
       "      <th></th>\n",
       "      <th>ECT: Gender Queries average of abs values score</th>\n",
       "    </tr>\n",
       "    <tr>\n",
       "      <th>model_name</th>\n",
       "      <th></th>\n",
       "    </tr>\n",
       "  </thead>\n",
       "  <tbody>\n",
       "    <tr>\n",
       "      <th>WE</th>\n",
       "      <td>0.752510</td>\n",
       "    </tr>\n",
       "    <tr>\n",
       "      <th>glove_wk</th>\n",
       "      <td>0.829587</td>\n",
       "    </tr>\n",
       "    <tr>\n",
       "      <th>glove_twitter</th>\n",
       "      <td>0.935943</td>\n",
       "    </tr>\n",
       "    <tr>\n",
       "      <th>UD</th>\n",
       "      <td>0.652766</td>\n",
       "    </tr>\n",
       "    <tr>\n",
       "      <th>Chan</th>\n",
       "      <td>0.783181</td>\n",
       "    </tr>\n",
       "  </tbody>\n",
       "</table>\n",
       "</div>"
      ],
      "text/plain": [
       "               ECT: Gender Queries average of abs values score\n",
       "model_name                                                    \n",
       "WE                                                    0.752510\n",
       "glove_wk                                              0.829587\n",
       "glove_twitter                                         0.935943\n",
       "UD                                                    0.652766\n",
       "Chan                                                  0.783181"
      ]
     },
     "execution_count": 18,
     "metadata": {},
     "output_type": "execute_result"
    }
   ],
   "source": [
    "ECT_gender_results"
   ]
  },
  {
   "cell_type": "code",
   "execution_count": null,
   "metadata": {},
   "outputs": [],
   "source": []
  }
 ],
 "metadata": {
  "kernelspec": {
   "display_name": "env_py_39",
   "language": "python",
   "name": "env_py_39"
  },
  "language_info": {
   "codemirror_mode": {
    "name": "ipython",
    "version": 3
   },
   "file_extension": ".py",
   "mimetype": "text/x-python",
   "name": "python",
   "nbconvert_exporter": "python",
   "pygments_lexer": "ipython3",
   "version": "3.8.10"
  }
 },
 "nbformat": 4,
 "nbformat_minor": 4
}
