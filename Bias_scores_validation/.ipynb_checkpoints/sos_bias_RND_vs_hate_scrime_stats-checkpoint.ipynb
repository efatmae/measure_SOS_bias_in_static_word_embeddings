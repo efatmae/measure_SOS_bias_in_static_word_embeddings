{
 "cells": [
  {
   "cell_type": "code",
   "execution_count": 1,
   "id": "fd67229e",
   "metadata": {},
   "outputs": [],
   "source": [
    "import numpy as np\n",
    "from scipy import stats \n",
    "import pandas as pd"
   ]
  },
  {
   "cell_type": "markdown",
   "id": "fe9f14db",
   "metadata": {},
   "source": [
    "## bias_scores"
   ]
  },
  {
   "cell_type": "code",
   "execution_count": 2,
   "id": "7deadce5",
   "metadata": {},
   "outputs": [],
   "source": [
    "bias_Scores = pd.read_csv(\"../Bias_scores/RND_bias_scores.csv\", index_col=False)"
   ]
  },
  {
   "cell_type": "code",
   "execution_count": 3,
   "id": "b56c124c",
   "metadata": {},
   "outputs": [
    {
     "data": {
      "text/plain": [
       "Index(['word embeddings', 'RND_SOS ', 'RND_SOS_women', 'RND_SOS_lgbtq ',\n",
       "       'RND_SOS_eth', 'RND_Gender_bias ', 'RND_Racial_bias'],\n",
       "      dtype='object')"
      ]
     },
     "execution_count": 3,
     "metadata": {},
     "output_type": "execute_result"
    }
   ],
   "source": [
    "bias_Scores.columns"
   ]
  },
  {
   "cell_type": "markdown",
   "id": "10f0bea8",
   "metadata": {},
   "source": [
    "## Online Extremism and Online Hate"
   ]
  },
  {
   "cell_type": "code",
   "execution_count": 4,
   "id": "f98883cb",
   "metadata": {},
   "outputs": [],
   "source": [
    "hate_stats = pd.read_csv(\"Hate_stats.csv\", index_col=False)"
   ]
  },
  {
   "cell_type": "code",
   "execution_count": 5,
   "id": "4aa07142",
   "metadata": {},
   "outputs": [
    {
     "data": {
      "text/html": [
       "<div>\n",
       "<style scoped>\n",
       "    .dataframe tbody tr th:only-of-type {\n",
       "        vertical-align: middle;\n",
       "    }\n",
       "\n",
       "    .dataframe tbody tr th {\n",
       "        vertical-align: top;\n",
       "    }\n",
       "\n",
       "    .dataframe thead th {\n",
       "        text-align: right;\n",
       "    }\n",
       "</style>\n",
       "<table border=\"1\" class=\"dataframe\">\n",
       "  <thead>\n",
       "    <tr style=\"text-align: right;\">\n",
       "      <th></th>\n",
       "      <th>hate_survey</th>\n",
       "      <th>ethnicity_pct</th>\n",
       "      <th>lgbtq_pct</th>\n",
       "      <th>women_pct</th>\n",
       "    </tr>\n",
       "  </thead>\n",
       "  <tbody>\n",
       "    <tr>\n",
       "      <th>0</th>\n",
       "      <td>OEOH_Finland</td>\n",
       "      <td>0.67</td>\n",
       "      <td>0.63</td>\n",
       "      <td>0.25</td>\n",
       "    </tr>\n",
       "    <tr>\n",
       "      <th>1</th>\n",
       "      <td>OEOH_US</td>\n",
       "      <td>0.60</td>\n",
       "      <td>0.61</td>\n",
       "      <td>0.44</td>\n",
       "    </tr>\n",
       "    <tr>\n",
       "      <th>2</th>\n",
       "      <td>OEOH_Germany</td>\n",
       "      <td>0.48</td>\n",
       "      <td>0.50</td>\n",
       "      <td>0.20</td>\n",
       "    </tr>\n",
       "    <tr>\n",
       "      <th>3</th>\n",
       "      <td>OEOH_UK</td>\n",
       "      <td>0.57</td>\n",
       "      <td>0.55</td>\n",
       "      <td>0.44</td>\n",
       "    </tr>\n",
       "    <tr>\n",
       "      <th>4</th>\n",
       "      <td>RAD</td>\n",
       "      <td>0.32</td>\n",
       "      <td>0.42</td>\n",
       "      <td>0.25</td>\n",
       "    </tr>\n",
       "  </tbody>\n",
       "</table>\n",
       "</div>"
      ],
      "text/plain": [
       "    hate_survey  ethnicity_pct  lgbtq_pct  women_pct\n",
       "0  OEOH_Finland           0.67       0.63       0.25\n",
       "1       OEOH_US           0.60       0.61       0.44\n",
       "2  OEOH_Germany           0.48       0.50       0.20\n",
       "3       OEOH_UK           0.57       0.55       0.44\n",
       "4           RAD           0.32       0.42       0.25"
      ]
     },
     "execution_count": 5,
     "metadata": {},
     "output_type": "execute_result"
    }
   ],
   "source": [
    "hate_stats"
   ]
  },
  {
   "cell_type": "markdown",
   "id": "ae919754",
   "metadata": {},
   "source": [
    "## correlation"
   ]
  },
  {
   "cell_type": "code",
   "execution_count": 6,
   "id": "5ba6f8c2",
   "metadata": {},
   "outputs": [],
   "source": [
    "correlations = {}"
   ]
  },
  {
   "cell_type": "code",
   "execution_count": 7,
   "id": "215b57f6",
   "metadata": {},
   "outputs": [],
   "source": [
    "WE = bias_Scores[\"word embeddings\"].values.tolist()\n",
    "surveys = hate_stats.hate_survey.values.tolist()"
   ]
  },
  {
   "cell_type": "code",
   "execution_count": 8,
   "id": "48c7d0e2",
   "metadata": {},
   "outputs": [
    {
     "data": {
      "text/plain": [
       "['w2v',\n",
       " 'glove-wk',\n",
       " 'glove-twitter',\n",
       " 'UD',\n",
       " 'Chan',\n",
       " 'Glove-CC',\n",
       " 'Glove-CC-large',\n",
       " 'FastText-CC',\n",
       " 'FastText-CC-subwords',\n",
       " 'FastText-wiki',\n",
       " 'FastText-wiki-subwords',\n",
       " 'SSWE',\n",
       " 'Debias-W2v',\n",
       " 'P-DESIP',\n",
       " 'U-DESIP']"
      ]
     },
     "execution_count": 8,
     "metadata": {},
     "output_type": "execute_result"
    }
   ],
   "source": [
    "WE"
   ]
  },
  {
   "cell_type": "code",
   "execution_count": 9,
   "id": "c05e72a6",
   "metadata": {},
   "outputs": [],
   "source": [
    "corrs = []\n",
    "s = []\n",
    "w = []"
   ]
  },
  {
   "cell_type": "code",
   "execution_count": 10,
   "id": "a65f2115",
   "metadata": {},
   "outputs": [],
   "source": [
    "def retrive_corr (survey_name, word_embeddings):\n",
    "    survey_pct = hate_stats[hate_stats[\"hate_survey\"] == survey_name][[\"ethnicity_pct\",\"lgbtq_pct\",\"women_pct\"]].values.flatten().tolist()\n",
    "    WE_SOS_bias_scores = bias_Scores[bias_Scores[\"word embeddings\"] == word_embeddings][[\"RND_SOS_eth\", \"RND_SOS_lgbtq \", \"RND_SOS_women\"]].values.flatten().tolist()\n",
    "    corr = stats.pearsonr(survey_pct, WE_SOS_bias_scores)\n",
    "    return corr[0]"
   ]
  },
  {
   "cell_type": "code",
   "execution_count": 11,
   "id": "d07e4de5",
   "metadata": {},
   "outputs": [],
   "source": [
    "for j in surveys:\n",
    "    for i in WE:\n",
    "        s.append(j)\n",
    "        w.append(i)\n",
    "        corrs.append(retrive_corr(j, i))"
   ]
  },
  {
   "cell_type": "code",
   "execution_count": 12,
   "id": "a22a94a0",
   "metadata": {},
   "outputs": [],
   "source": [
    "correlations[\"hate_survey\"] = s\n",
    "correlations[\"WE\"] = w\n",
    "correlations[\"pearson_r\"] = corrs"
   ]
  },
  {
   "cell_type": "code",
   "execution_count": 13,
   "id": "43094c1a",
   "metadata": {},
   "outputs": [],
   "source": [
    "pd.DataFrame(correlations).to_csv(\"RND_SOS_survey_correlations.csv\", index=False)"
   ]
  },
  {
   "cell_type": "code",
   "execution_count": 14,
   "id": "b8c70bb3",
   "metadata": {},
   "outputs": [
    {
     "data": {
      "text/plain": [
       "{'hate_survey': ['OEOH_Finland',\n",
       "  'OEOH_Finland',\n",
       "  'OEOH_Finland',\n",
       "  'OEOH_Finland',\n",
       "  'OEOH_Finland',\n",
       "  'OEOH_Finland',\n",
       "  'OEOH_Finland',\n",
       "  'OEOH_Finland',\n",
       "  'OEOH_Finland',\n",
       "  'OEOH_Finland',\n",
       "  'OEOH_Finland',\n",
       "  'OEOH_Finland',\n",
       "  'OEOH_Finland',\n",
       "  'OEOH_Finland',\n",
       "  'OEOH_Finland',\n",
       "  'OEOH_US',\n",
       "  'OEOH_US',\n",
       "  'OEOH_US',\n",
       "  'OEOH_US',\n",
       "  'OEOH_US',\n",
       "  'OEOH_US',\n",
       "  'OEOH_US',\n",
       "  'OEOH_US',\n",
       "  'OEOH_US',\n",
       "  'OEOH_US',\n",
       "  'OEOH_US',\n",
       "  'OEOH_US',\n",
       "  'OEOH_US',\n",
       "  'OEOH_US',\n",
       "  'OEOH_US',\n",
       "  'OEOH_Germany',\n",
       "  'OEOH_Germany',\n",
       "  'OEOH_Germany',\n",
       "  'OEOH_Germany',\n",
       "  'OEOH_Germany',\n",
       "  'OEOH_Germany',\n",
       "  'OEOH_Germany',\n",
       "  'OEOH_Germany',\n",
       "  'OEOH_Germany',\n",
       "  'OEOH_Germany',\n",
       "  'OEOH_Germany',\n",
       "  'OEOH_Germany',\n",
       "  'OEOH_Germany',\n",
       "  'OEOH_Germany',\n",
       "  'OEOH_Germany',\n",
       "  'OEOH_UK',\n",
       "  'OEOH_UK',\n",
       "  'OEOH_UK',\n",
       "  'OEOH_UK',\n",
       "  'OEOH_UK',\n",
       "  'OEOH_UK',\n",
       "  'OEOH_UK',\n",
       "  'OEOH_UK',\n",
       "  'OEOH_UK',\n",
       "  'OEOH_UK',\n",
       "  'OEOH_UK',\n",
       "  'OEOH_UK',\n",
       "  'OEOH_UK',\n",
       "  'OEOH_UK',\n",
       "  'OEOH_UK',\n",
       "  'RAD',\n",
       "  'RAD',\n",
       "  'RAD',\n",
       "  'RAD',\n",
       "  'RAD',\n",
       "  'RAD',\n",
       "  'RAD',\n",
       "  'RAD',\n",
       "  'RAD',\n",
       "  'RAD',\n",
       "  'RAD',\n",
       "  'RAD',\n",
       "  'RAD',\n",
       "  'RAD',\n",
       "  'RAD'],\n",
       " 'WE': ['w2v',\n",
       "  'glove-wk',\n",
       "  'glove-twitter',\n",
       "  'UD',\n",
       "  'Chan',\n",
       "  'Glove-CC',\n",
       "  'Glove-CC-large',\n",
       "  'FastText-CC',\n",
       "  'FastText-CC-subwords',\n",
       "  'FastText-wiki',\n",
       "  'FastText-wiki-subwords',\n",
       "  'SSWE',\n",
       "  'Debias-W2v',\n",
       "  'P-DESIP',\n",
       "  'U-DESIP',\n",
       "  'w2v',\n",
       "  'glove-wk',\n",
       "  'glove-twitter',\n",
       "  'UD',\n",
       "  'Chan',\n",
       "  'Glove-CC',\n",
       "  'Glove-CC-large',\n",
       "  'FastText-CC',\n",
       "  'FastText-CC-subwords',\n",
       "  'FastText-wiki',\n",
       "  'FastText-wiki-subwords',\n",
       "  'SSWE',\n",
       "  'Debias-W2v',\n",
       "  'P-DESIP',\n",
       "  'U-DESIP',\n",
       "  'w2v',\n",
       "  'glove-wk',\n",
       "  'glove-twitter',\n",
       "  'UD',\n",
       "  'Chan',\n",
       "  'Glove-CC',\n",
       "  'Glove-CC-large',\n",
       "  'FastText-CC',\n",
       "  'FastText-CC-subwords',\n",
       "  'FastText-wiki',\n",
       "  'FastText-wiki-subwords',\n",
       "  'SSWE',\n",
       "  'Debias-W2v',\n",
       "  'P-DESIP',\n",
       "  'U-DESIP',\n",
       "  'w2v',\n",
       "  'glove-wk',\n",
       "  'glove-twitter',\n",
       "  'UD',\n",
       "  'Chan',\n",
       "  'Glove-CC',\n",
       "  'Glove-CC-large',\n",
       "  'FastText-CC',\n",
       "  'FastText-CC-subwords',\n",
       "  'FastText-wiki',\n",
       "  'FastText-wiki-subwords',\n",
       "  'SSWE',\n",
       "  'Debias-W2v',\n",
       "  'P-DESIP',\n",
       "  'U-DESIP',\n",
       "  'w2v',\n",
       "  'glove-wk',\n",
       "  'glove-twitter',\n",
       "  'UD',\n",
       "  'Chan',\n",
       "  'Glove-CC',\n",
       "  'Glove-CC-large',\n",
       "  'FastText-CC',\n",
       "  'FastText-CC-subwords',\n",
       "  'FastText-wiki',\n",
       "  'FastText-wiki-subwords',\n",
       "  'SSWE',\n",
       "  'Debias-W2v',\n",
       "  'P-DESIP',\n",
       "  'U-DESIP'],\n",
       " 'pearson_r': [0.5348540202579969,\n",
       "  -0.09233374500758325,\n",
       "  -0.20604756770376273,\n",
       "  0.48923708984495223,\n",
       "  -0.09852112202228344,\n",
       "  0.5100915354282769,\n",
       "  0.4933544366609959,\n",
       "  0.45875513484419866,\n",
       "  0.17403372230235906,\n",
       "  0.4342850298643103,\n",
       "  0.13729809146555727,\n",
       "  0.44081281979659764,\n",
       "  0.43551049624669946,\n",
       "  0.19457853088329308,\n",
       "  0.18120044858233264,\n",
       "  0.6466315535237281,\n",
       "  0.04634321951290891,\n",
       "  -0.3394756623931816,\n",
       "  0.6052183013868523,\n",
       "  0.04013328907485411,\n",
       "  0.6242073046368342,\n",
       "  0.6089746552211184,\n",
       "  0.5773006813484173,\n",
       "  0.03609131721960816,\n",
       "  0.5547559987189465,\n",
       "  -0.0010921190468094174,\n",
       "  0.31236229978960195,\n",
       "  0.5558877745282426,\n",
       "  0.3284414624314043,\n",
       "  0.3155462347165271,\n",
       "  0.6521196242271851,\n",
       "  0.05355094935126506,\n",
       "  -0.34625494833319514,\n",
       "  0.6109474564498991,\n",
       "  0.04734312017575804,\n",
       "  0.6298291524492867,\n",
       "  0.6146830015043623,\n",
       "  0.5831783041566349,\n",
       "  0.02887838864696707,\n",
       "  0.5607459334187092,\n",
       "  -0.008308776736229467,\n",
       "  0.3054985764283608,\n",
       "  0.5618722258152726,\n",
       "  0.335249249282081,\n",
       "  0.3223860088726107,\n",
       "  0.4858840918644781,\n",
       "  -0.14887056869402066,\n",
       "  -0.15000522780366343,\n",
       "  0.4387922925230769,\n",
       "  -0.15501414273589917,\n",
       "  0.4602978214443996,\n",
       "  0.44303517865212483,\n",
       "  0.40742544786989826,\n",
       "  0.22981247545518518,\n",
       "  0.3822997583555711,\n",
       "  0.19346605098161612,\n",
       "  0.49119801014002107,\n",
       "  0.3835569313798692,\n",
       "  0.13842129322233984,\n",
       "  0.12491921068209086,\n",
       "  0.9568194099923332,\n",
       "  0.5802660350726424,\n",
       "  -0.7950286930853009,\n",
       "  0.9400359008275345,\n",
       "  0.5751925807824453,\n",
       "  0.9479745395227037,\n",
       "  0.941637722666264,\n",
       "  0.9276665375076844,\n",
       "  -0.5112136571542686,\n",
       "  0.9171083961903145,\n",
       "  -0.5428169552697,\n",
       "  -0.2522616018823739,\n",
       "  0.9176500546602953,\n",
       "  0.7878736229822465,\n",
       "  0.779412617930473]}"
      ]
     },
     "execution_count": 14,
     "metadata": {},
     "output_type": "execute_result"
    }
   ],
   "source": [
    "correlations"
   ]
  },
  {
   "cell_type": "code",
   "execution_count": null,
   "id": "9e7a6f4f",
   "metadata": {},
   "outputs": [],
   "source": []
  }
 ],
 "metadata": {
  "kernelspec": {
   "display_name": "Python 3",
   "language": "python",
   "name": "python3"
  },
  "language_info": {
   "codemirror_mode": {
    "name": "ipython",
    "version": 3
   },
   "file_extension": ".py",
   "mimetype": "text/x-python",
   "name": "python",
   "nbconvert_exporter": "python",
   "pygments_lexer": "ipython3",
   "version": "3.8.10"
  }
 },
 "nbformat": 4,
 "nbformat_minor": 5
}
