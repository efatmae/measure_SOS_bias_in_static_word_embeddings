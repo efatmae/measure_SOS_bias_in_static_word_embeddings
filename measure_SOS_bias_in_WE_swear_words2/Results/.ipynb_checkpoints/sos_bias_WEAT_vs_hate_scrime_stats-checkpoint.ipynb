{
 "cells": [
  {
   "cell_type": "markdown",
   "id": "e66102e8",
   "metadata": {},
   "source": [
    "## WEAT_SOS_bias_scores"
   ]
  },
  {
   "cell_type": "code",
   "execution_count": null,
   "id": "faae4c81",
   "metadata": {},
   "outputs": [],
   "source": [
    "weat_sos_women_w2v = 0.046077\n",
    "weat_sos_eth_w2v = \n",
    "weat_sos_lgtbq_w2v = "
   ]
  },
  {
   "cell_type": "code",
   "execution_count": null,
   "id": "2d18dc66",
   "metadata": {},
   "outputs": [],
   "source": [
    "weat_sos_women_glove_wk = 0.051040\n",
    "weat_sos_eth_glove_wk = \n",
    "weat_sos_lgtbq_glove_wk = "
   ]
  },
  {
   "cell_type": "code",
   "execution_count": null,
   "id": "0c53f9a7",
   "metadata": {},
   "outputs": [],
   "source": [
    "weat_sos_women_glove_twitter = 0.054989\n",
    "weat_sos_eth_glove_twitter = \n",
    "weat_sos_lgtbq_glove_twitter = "
   ]
  },
  {
   "cell_type": "code",
   "execution_count": null,
   "id": "c64decb2",
   "metadata": {},
   "outputs": [],
   "source": [
    "weat_sos_women_ud = 0.032825\n",
    "weat_sos_eth_ud = \n",
    "weat_sos_lgtbq_ud = "
   ]
  },
  {
   "cell_type": "code",
   "execution_count": null,
   "id": "9f4f86bd",
   "metadata": {},
   "outputs": [],
   "source": [
    "weat_sos_women_chan = 0.114028\n",
    "weat_sos_eth_chan = \n",
    "weat_sos_lgtbq_chan = "
   ]
  },
  {
   "cell_type": "markdown",
   "id": "7258f5b3",
   "metadata": {},
   "source": [
    "## hate crime stats (department of justice US)"
   ]
  },
  {
   "cell_type": "code",
   "execution_count": 96,
   "id": "c7f65faa",
   "metadata": {},
   "outputs": [],
   "source": [
    "crime_rate = [61.9, 15.4,0.7]"
   ]
  },
  {
   "cell_type": "code",
   "execution_count": 97,
   "id": "797f3277",
   "metadata": {},
   "outputs": [
    {
     "data": {
      "text/plain": [
       "(0.9534083802463681, 0.1950966549722685)"
      ]
     },
     "execution_count": 97,
     "metadata": {},
     "output_type": "execute_result"
    }
   ],
   "source": [
    "stats.pearsonr([weat_sos_eth_w2v, weat_sos_lgtbq_w2v, weat_sos_women_w2v], crime_rate)"
   ]
  },
  {
   "cell_type": "code",
   "execution_count": 98,
   "id": "d331cf66",
   "metadata": {},
   "outputs": [
    {
     "data": {
      "text/plain": [
       "(-0.6560040907754124, 0.54449078498182)"
      ]
     },
     "execution_count": 98,
     "metadata": {},
     "output_type": "execute_result"
    }
   ],
   "source": [
    "stats.pearsonr([weat_sos_eth_glove_wk, weat_sos_lgtbq_glove_wk, weat_sos_women_glove_wk], crime_rate)"
   ]
  },
  {
   "cell_type": "code",
   "execution_count": 99,
   "id": "1f1166e1",
   "metadata": {},
   "outputs": [
    {
     "data": {
      "text/plain": [
       "(-0.5312086972415772, 0.6434760215488058)"
      ]
     },
     "execution_count": 99,
     "metadata": {},
     "output_type": "execute_result"
    }
   ],
   "source": [
    "stats.pearsonr([weat_sos_eth_glove_twitter, weat_sos_lgtbq_glove_twitter, weat_sos_women_glove_twitter], crime_rate)"
   ]
  },
  {
   "cell_type": "code",
   "execution_count": 100,
   "id": "6d9ada92",
   "metadata": {},
   "outputs": [
    {
     "data": {
      "text/plain": [
       "(-0.9999880290590172, 0.0031150118197465076)"
      ]
     },
     "execution_count": 100,
     "metadata": {},
     "output_type": "execute_result"
    }
   ],
   "source": [
    "stats.pearsonr([weat_sos_eth_ud, weat_sos_lgtbq_ud, weat_sos_women_ud], crime_rate)"
   ]
  },
  {
   "cell_type": "code",
   "execution_count": 101,
   "id": "29fd3ecf",
   "metadata": {},
   "outputs": [
    {
     "data": {
      "text/plain": [
       "(-0.9278721362418108, 0.24327208161394445)"
      ]
     },
     "execution_count": 101,
     "metadata": {},
     "output_type": "execute_result"
    }
   ],
   "source": [
    "stats.pearsonr([weat_sos_eth_chan, weat_sos_lgtbq_chan,weat_sos_women_chan], crime_rate )"
   ]
  },
  {
   "cell_type": "markdown",
   "id": "e871290a",
   "metadata": {},
   "source": [
    "## Hate crime England and wales"
   ]
  },
  {
   "cell_type": "code",
   "execution_count": 54,
   "id": "5f4d9fcf",
   "metadata": {},
   "outputs": [],
   "source": [
    "crime_rate2 = [72, 8]"
   ]
  },
  {
   "cell_type": "code",
   "execution_count": 55,
   "id": "8d3bef7c",
   "metadata": {},
   "outputs": [
    {
     "data": {
      "text/plain": [
       "(1.0, 1.0)"
      ]
     },
     "execution_count": 55,
     "metadata": {},
     "output_type": "execute_result"
    }
   ],
   "source": [
    "stats.pearsonr([np.mean(eth_w2v), np.mean(lgtbq_w2V_sim)], crime_rate2)"
   ]
  },
  {
   "cell_type": "code",
   "execution_count": 56,
   "id": "3403dbcf",
   "metadata": {},
   "outputs": [
    {
     "data": {
      "text/plain": [
       "(-1.0, 1.0)"
      ]
     },
     "execution_count": 56,
     "metadata": {},
     "output_type": "execute_result"
    }
   ],
   "source": [
    "stats.pearsonr([np.mean(eth_glove_wk), np.mean(lgtbq_glove_wk_sim)], crime_rate2)"
   ]
  },
  {
   "cell_type": "code",
   "execution_count": 57,
   "id": "4b660575",
   "metadata": {},
   "outputs": [
    {
     "data": {
      "text/plain": [
       "(1.0, 1.0)"
      ]
     },
     "execution_count": 57,
     "metadata": {},
     "output_type": "execute_result"
    }
   ],
   "source": [
    "stats.pearsonr([np.mean(eth_glove_twitter), np.mean(lgtbq_glove_twitter)], crime_rate2)"
   ]
  },
  {
   "cell_type": "code",
   "execution_count": 58,
   "id": "9084e04a",
   "metadata": {},
   "outputs": [
    {
     "data": {
      "text/plain": [
       "(-1.0, 1.0)"
      ]
     },
     "execution_count": 58,
     "metadata": {},
     "output_type": "execute_result"
    }
   ],
   "source": [
    "stats.pearsonr([np.mean(eth_ud), np.mean(lgtbq_ud)], crime_rate2)"
   ]
  },
  {
   "cell_type": "code",
   "execution_count": 59,
   "id": "037572e8",
   "metadata": {},
   "outputs": [
    {
     "data": {
      "text/plain": [
       "(-1.0, 1.0)"
      ]
     },
     "execution_count": 59,
     "metadata": {},
     "output_type": "execute_result"
    }
   ],
   "source": [
    "stats.pearsonr([np.mean(eth_chan), np.mean(lgtbq_chan)], crime_rate2)"
   ]
  },
  {
   "cell_type": "markdown",
   "id": "21c2b194",
   "metadata": {},
   "source": [
    "## Online Extremism and Online Hate"
   ]
  },
  {
   "cell_type": "code",
   "execution_count": 90,
   "id": "7fecf2ee",
   "metadata": {},
   "outputs": [],
   "source": [
    "hate_finland = [0.67, 0.63, 0.25]\n",
    "hate_us = [0.60, 0.61, 0.44]\n",
    "germany = [0.48, 0.50, 0.20]\n",
    "uk = [0.57, 0.55, 0.44]"
   ]
  },
  {
   "cell_type": "code",
   "execution_count": 62,
   "id": "0a740cc9",
   "metadata": {},
   "outputs": [
    {
     "data": {
      "text/plain": [
       "(0.7895054407417775, 0.5291550204157829, 0.2549104520252774)"
      ]
     },
     "execution_count": 62,
     "metadata": {},
     "output_type": "execute_result"
    }
   ],
   "source": [
    "np.mean(eth_w2v), np.mean(lgtbq_w2V_sim), np.mean(women_w2v)"
   ]
  },
  {
   "cell_type": "code",
   "execution_count": 64,
   "id": "9863e32c",
   "metadata": {},
   "outputs": [
    {
     "data": {
      "text/plain": [
       "(0.13636286929249775, 0.6294413149356843, 0.3402559693370547)"
      ]
     },
     "execution_count": 64,
     "metadata": {},
     "output_type": "execute_result"
    }
   ],
   "source": [
    "np.mean(eth_glove_wk), np.mean(lgtbq_glove_wk_sim), np.mean(women_glove_wk)"
   ]
  },
  {
   "cell_type": "code",
   "execution_count": 91,
   "id": "09e2359a",
   "metadata": {},
   "outputs": [
    {
     "name": "stdout",
     "output_type": "stream",
     "text": [
      "w2v_finland (0.9121865691831138, 0.2687856672347714)\n",
      "glove_wk_finland (0.013152066819396204, 0.9916268928111406)\n",
      "glove_twitter (-0.9604715465628506, 0.17959369934176592)\n",
      "ud_finland (-0.7493134534938759, 0.460767310387291)\n",
      "chan_finland (-0.9405556348744067, 0.22061024059309567)\n"
     ]
    }
   ],
   "source": [
    "print(\"w2v_finland\",stats.pearsonr([weat_sos_eth_w2v, weat_sos_lgtbq_w2v, weat_sos_women_w2v], hate_finland))\n",
    "print(\"glove_wk_finland\",stats.pearsonr([weat_sos_eth_glove_wk, weat_sos_lgtbq_glove_wk, weat_sos_women_glove_wk], hate_finland))\n",
    "print(\"glove_twitter\",stats.pearsonr([weat_sos_eth_glove_twitter, weat_sos_lgtbq_glove_twitter, weat_sos_women_glove_twitter], hate_finland))\n",
    "print(\"ud_finland\",stats.pearsonr([weat_sos_eth_ud, weat_sos_lgtbq_ud, weat_sos_women_ud], hate_finland))\n",
    "print(\"chan_finland\",stats.pearsonr([weat_sos_eth_chan, weat_sos_lgtbq_chan, weat_sos_women_chan], hate_finland))"
   ]
  },
  {
   "cell_type": "code",
   "execution_count": 92,
   "id": "377cc858",
   "metadata": {},
   "outputs": [
    {
     "name": "stdout",
     "output_type": "stream",
     "text": [
      "w2v_us (0.8467060434000625, 0.35716458148221564)\n",
      "glove_wk_us (0.15139335116425331, 0.9032479785636961)\n",
      "glove_us (-0.9897529905598762, 0.09121478509432115)\n",
      "ud_us (-0.6504672499073821, 0.5491462246347354)\n",
      "chan_us (-0.8845075095662721, 0.30898915484054)\n"
     ]
    }
   ],
   "source": [
    "print(\"w2v_us\",stats.pearsonr([weat_sos_eth_w2v, weat_sos_lgtbq_w2v, weat_sos_women_w2v], hate_us))\n",
    "print(\"glove_wk_us\",stats.pearsonr([weat_sos_eth_glove_wk, weat_sos_lgtbq_glove_wk, weat_sos_women_glove_wk], hate_us))\n",
    "print(\"glove_us\",stats.pearsonr([weat_sos_eth_glove_twitter, weat_sos_lgtbq_glove_twitter, weat_sos_women_glove_twitter], hate_us))\n",
    "print(\"ud_us\",stats.pearsonr([weat_sos_eth_ud, weat_sos_lgtbq_ud, weat_sos_women_ud], hate_us))\n",
    "print(\"chan_us\",stats.pearsonr([weat_sos_eth_chan, weat_sos_lgtbq_chan, weat_sos_women_chan], hate_us))"
   ]
  },
  {
   "cell_type": "code",
   "execution_count": 93,
   "id": "5e44c742",
   "metadata": {},
   "outputs": [
    {
     "name": "stdout",
     "output_type": "stream",
     "text": [
      "w2v_germany (0.8428442753111477, 0.3617589091825382)\n",
      "glove_wk_germany (0.1585229167380718, 0.898653650863374)\n",
      "glove_germany (-0.9907576888245998, 0.08662045739399923)\n",
      "ud_germany (-0.6449689873830183, 0.5537405523350578)\n",
      "chan_germany (-0.8811177030292635, 0.31358348254086243)\n"
     ]
    }
   ],
   "source": [
    "print(\"w2v_germany\",stats.pearsonr([weat_sos_eth_w2v, weat_sos_lgtbq_w2v, weat_sos_women_w2v], germany))\n",
    "print(\"glove_wk_germany\",stats.pearsonr([weat_sos_eth_glove_wk, weat_sos_lgtbq_glove_wk, weat_sos_women_glove_wk], germany))\n",
    "print(\"glove_germany\",stats.pearsonr([weat_sos_eth_glove_twitter, weat_sos_lgtbq_glove_twitter, weat_sos_women_glove_twitter], germany))\n",
    "print(\"ud_germany\",stats.pearsonr([weat_sos_eth_ud, weat_sos_lgtbq_ud, weat_sos_women_ud], germany))\n",
    "print(\"chan_germany\",stats.pearsonr([weat_sos_eth_chan, weat_sos_lgtbq_chan, weat_sos_women_chan], germany))"
   ]
  },
  {
   "cell_type": "code",
   "execution_count": 94,
   "id": "315c5163",
   "metadata": {},
   "outputs": [
    {
     "name": "stdout",
     "output_type": "stream",
     "text": [
      "w2v_uk (0.9340355758390307, 0.23252344480864656)\n",
      "glove_wk_uk (-0.04379410871469876, 0.9721108847627347)\n",
      "glove_uk (-0.9430658346488991, 0.21585592176789073)\n",
      "ud_uk (-0.7857979808837772, 0.4245050879611661)\n",
      "chan_uk (-0.9583658355584561, 0.18434801816697066)\n"
     ]
    }
   ],
   "source": [
    "print(\"w2v_uk\",stats.pearsonr([weat_sos_eth_w2v, weat_sos_lgtbq_w2v, weat_sos_women_w2v], uk))\n",
    "print(\"glove_wk_uk\",stats.pearsonr([weat_sos_eth_glove_wk, weat_sos_lgtbq_glove_wk, weat_sos_women_glove_wk], uk))\n",
    "print(\"glove_uk\",stats.pearsonr([weat_sos_eth_glove_twitter, weat_sos_lgtbq_glove_twitter, weat_sos_women_glove_twitter], uk))\n",
    "print(\"ud_uk\",stats.pearsonr([weat_sos_eth_ud, weat_sos_lgtbq_ud, weat_sos_women_ud], uk))\n",
    "print(\"chan_uk\",stats.pearsonr([weat_sos_eth_chan, weat_sos_lgtbq_chan, weat_sos_women_chan], uk))"
   ]
  },
  {
   "cell_type": "code",
   "execution_count": 71,
   "id": "d9ffece4",
   "metadata": {},
   "outputs": [],
   "source": [
    "## difference between majoirty and minority added (online harassment) (https://www.womensmediacenter.com/speech-project/research-statistics)"
   ]
  },
  {
   "cell_type": "code",
   "execution_count": 72,
   "id": "fb0f5322",
   "metadata": {},
   "outputs": [],
   "source": [
    "bullying_diff = [0.23,0.25,0.31]"
   ]
  },
  {
   "cell_type": "code",
   "execution_count": 73,
   "id": "61ff1af9",
   "metadata": {},
   "outputs": [
    {
     "name": "stdout",
     "output_type": "stream",
     "text": [
      "w2v_uk (-0.9648220468802434, 0.16936038318335925)\n",
      "glove_wk_uk (0.14253730584547158, 0.9089478231374478)\n",
      "glove_uk (0.9054820941161025, 0.2790189833931778)\n",
      "ud_uk (0.843196500599462, 0.3613420263358791)\n",
      "chan_uk (0.9819367717505211, 0.12118495654168342)\n"
     ]
    }
   ],
   "source": [
    "print(\"w2v_uk\",stats.pearsonr([weat_sos_eth_w2v, weat_sos_lgtbq_w2v, weat_sos_women_w2v], bullying_diff))\n",
    "print(\"glove_wk_uk\",stats.pearsonr([weat_sos_eth_glove_wk, weat_sos_lgtbq_glove_wk, weat_sos_women_glove_wk], bullying_diff))\n",
    "print(\"glove_uk\",stats.pearsonr([weat_sos_eth_glove_twitter, weat_sos_lgtbq_glove_twitter, weat_sos_women_glove_twitter], bullying_diff))\n",
    "print(\"ud_uk\",stats.pearsonr([weat_sos_eth_ud, weat_sos_lgtbq_ud, weat_sos_women_ud], bullying_diff))\n",
    "print(\"chan_uk\",stats.pearsonr([weat_sos_eth_chan, weat_sos_lgtbq_chan, weat_sos_women_chan], bullying_diff))"
   ]
  },
  {
   "cell_type": "code",
   "execution_count": 93,
   "id": "69bd8657",
   "metadata": {},
   "outputs": [],
   "source": [
    "## https://enough.org/stats_cyberbullying"
   ]
  },
  {
   "cell_type": "code",
   "execution_count": 94,
   "id": "0b12aecc",
   "metadata": {},
   "outputs": [],
   "source": [
    "bullying = [0.17,0.15,0.2]"
   ]
  },
  {
   "cell_type": "code",
   "execution_count": 95,
   "id": "75223c4c",
   "metadata": {},
   "outputs": [
    {
     "name": "stdout",
     "output_type": "stream",
     "text": [
      "w2v_uk (-0.6080197430847254, 0.5839282797876322)\n",
      "glove_wk_uk (-0.4865856891260954, 0.6764842802582799)\n",
      "glove_uk (0.9774180991472742, 0.1355489132110946)\n",
      "ud_uk (0.34477574372610187, 0.7759099229401519)\n",
      "chan_uk (0.6663014045487782, 0.5357528531459566)\n"
     ]
    }
   ],
   "source": [
    "print(\"w2v_uk\",stats.pearsonr([weat_sos_eth_w2v, weat_sos_lgtbq_w2v, weat_sos_women_w2v], bullying))\n",
    "print(\"glove_wk_uk\",stats.pearsonr([weat_sos_eth_glove_wk, weat_sos_lgtbq_glove_wk, weat_sos_women_glove_wk], bullying))\n",
    "print(\"glove_uk\",stats.pearsonr([weat_sos_eth_glove_twitter, weat_sos_lgtbq_glove_twitter, weat_sos_women_glove_twitter], bullying))\n",
    "print(\"ud_uk\",stats.pearsonr([weat_sos_eth_ud, weat_sos_lgtbq_ud, weat_sos_women_ud], bullying))\n",
    "print(\"chan_uk\",stats.pearsonr([weat_sos_eth_chan, weat_sos_lgtbq_chan, weat_sos_women_chan], bullying))"
   ]
  },
  {
   "cell_type": "code",
   "execution_count": null,
   "id": "8779bd24",
   "metadata": {},
   "outputs": [],
   "source": []
  }
 ],
 "metadata": {
  "kernelspec": {
   "display_name": "Python 3",
   "language": "python",
   "name": "python3"
  },
  "language_info": {
   "codemirror_mode": {
    "name": "ipython",
    "version": 3
   },
   "file_extension": ".py",
   "mimetype": "text/x-python",
   "name": "python",
   "nbconvert_exporter": "python",
   "pygments_lexer": "ipython3",
   "version": "3.6.9"
  }
 },
 "nbformat": 4,
 "nbformat_minor": 5
}
