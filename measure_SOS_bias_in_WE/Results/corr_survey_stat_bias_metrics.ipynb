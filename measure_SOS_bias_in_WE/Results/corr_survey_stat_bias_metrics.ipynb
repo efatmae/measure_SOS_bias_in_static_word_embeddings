{
 "cells": [
  {
   "cell_type": "code",
   "execution_count": 7,
   "id": "5130ca1c",
   "metadata": {},
   "outputs": [],
   "source": [
    "import pandas as pd\n",
    "import numpy as np\n",
    "import matplotlib.pyplot as plt\n",
    "import seaborn as sns\n",
    "import scipy"
   ]
  },
  {
   "cell_type": "code",
   "execution_count": 8,
   "id": "48504c77",
   "metadata": {},
   "outputs": [],
   "source": [
    "stats_Corr = pd.read_csv(\"corr_survey_stat_bias_metrics.csv\")"
   ]
  },
  {
   "cell_type": "code",
   "execution_count": 9,
   "id": "da0362ee",
   "metadata": {},
   "outputs": [],
   "source": [
    "#stats_Corr.rename(columns={\"Our_metric\",\"\"})"
   ]
  },
  {
   "cell_type": "code",
   "execution_count": 10,
   "id": "19a4476b",
   "metadata": {},
   "outputs": [
    {
     "data": {
      "text/plain": [
       "Index(['survey', 'WE', 'WEAT', 'RNSB', 'RND', 'ECT', 'Our_metric'], dtype='object')"
      ]
     },
     "execution_count": 10,
     "metadata": {},
     "output_type": "execute_result"
    }
   ],
   "source": [
    "stats_Corr.columns"
   ]
  },
  {
   "cell_type": "code",
   "execution_count": 11,
   "id": "ec0124e8",
   "metadata": {},
   "outputs": [],
   "source": [
    "RAD_stat = stats_Corr[stats_Corr[\"survey\"] == \"RAD\"]\n",
    "COX_stat = stats_Corr[stats_Corr[\"survey\"] == \"COX\"]\n",
    "OEOH_US_stat = stats_Corr[stats_Corr[\"survey\"] == \"OEOH-US\"]\n",
    "OEOH_UK_stat = stats_Corr[stats_Corr[\"survey\"] == \"OEOH-UK\"]\n",
    "OEOH_fin_stat = stats_Corr[stats_Corr[\"survey\"] == \"OEOH-Fin\"]\n",
    "OEOH_GR_stat = stats_Corr[stats_Corr[\"survey\"] == \"OEOH-GR\"]"
   ]
  },
  {
   "cell_type": "code",
   "execution_count": 12,
   "id": "a1b11cc1",
   "metadata": {},
   "outputs": [
    {
     "name": "stderr",
     "output_type": "stream",
     "text": [
      "<ipython-input-12-20c3ba7b1c26>:1: SettingWithCopyWarning: \n",
      "A value is trying to be set on a copy of a slice from a DataFrame.\n",
      "Try using .loc[row_indexer,col_indexer] = value instead\n",
      "\n",
      "See the caveats in the documentation: https://pandas.pydata.org/pandas-docs/stable/user_guide/indexing.html#returning-a-view-versus-a-copy\n",
      "  RAD_stat[\"WEAT_ranked\"] = scipy.stats.rankdata([RAD_stat[\"WEAT\"]])\n",
      "<ipython-input-12-20c3ba7b1c26>:2: SettingWithCopyWarning: \n",
      "A value is trying to be set on a copy of a slice from a DataFrame.\n",
      "Try using .loc[row_indexer,col_indexer] = value instead\n",
      "\n",
      "See the caveats in the documentation: https://pandas.pydata.org/pandas-docs/stable/user_guide/indexing.html#returning-a-view-versus-a-copy\n",
      "  RAD_stat[\"RNSB_ranked\"] = scipy.stats.rankdata([RAD_stat[\"RNSB\"]])\n",
      "<ipython-input-12-20c3ba7b1c26>:3: SettingWithCopyWarning: \n",
      "A value is trying to be set on a copy of a slice from a DataFrame.\n",
      "Try using .loc[row_indexer,col_indexer] = value instead\n",
      "\n",
      "See the caveats in the documentation: https://pandas.pydata.org/pandas-docs/stable/user_guide/indexing.html#returning-a-view-versus-a-copy\n",
      "  RAD_stat[\"RND_ranked\"] = scipy.stats.rankdata([RAD_stat[\"RND\"]])\n",
      "<ipython-input-12-20c3ba7b1c26>:4: SettingWithCopyWarning: \n",
      "A value is trying to be set on a copy of a slice from a DataFrame.\n",
      "Try using .loc[row_indexer,col_indexer] = value instead\n",
      "\n",
      "See the caveats in the documentation: https://pandas.pydata.org/pandas-docs/stable/user_guide/indexing.html#returning-a-view-versus-a-copy\n",
      "  RAD_stat[\"ECT_ranked\"] = scipy.stats.rankdata([RAD_stat[\"ECT\"]])\n",
      "<ipython-input-12-20c3ba7b1c26>:5: SettingWithCopyWarning: \n",
      "A value is trying to be set on a copy of a slice from a DataFrame.\n",
      "Try using .loc[row_indexer,col_indexer] = value instead\n",
      "\n",
      "See the caveats in the documentation: https://pandas.pydata.org/pandas-docs/stable/user_guide/indexing.html#returning-a-view-versus-a-copy\n",
      "  RAD_stat[\"OUR_metric_ranked\"] = scipy.stats.rankdata([RAD_stat[\"Our_metric\"]])\n"
     ]
    }
   ],
   "source": [
    "RAD_stat[\"WEAT_ranked\"] = scipy.stats.rankdata([RAD_stat[\"WEAT\"]])\n",
    "RAD_stat[\"RNSB_ranked\"] = scipy.stats.rankdata([RAD_stat[\"RNSB\"]])\n",
    "RAD_stat[\"RND_ranked\"] = scipy.stats.rankdata([RAD_stat[\"RND\"]])\n",
    "RAD_stat[\"ECT_ranked\"] = scipy.stats.rankdata([RAD_stat[\"ECT\"]])\n",
    "RAD_stat[\"OUR_metric_ranked\"] = scipy.stats.rankdata([RAD_stat[\"Our_metric\"]])"
   ]
  },
  {
   "cell_type": "code",
   "execution_count": 13,
   "id": "3cf4c3a5",
   "metadata": {},
   "outputs": [],
   "source": [
    "RAD_stat.index = RAD_stat.WE\n",
    "COX_stat.index = COX_stat.WE\n",
    "OEOH_US_stat.index = OEOH_US_stat.WE\n",
    "OEOH_UK_stat.index = OEOH_UK_stat.WE\n",
    "OEOH_fin_stat.index = OEOH_fin_stat.WE\n",
    "OEOH_GR_stat.index = OEOH_GR_stat.WE"
   ]
  },
  {
   "cell_type": "code",
   "execution_count": 14,
   "id": "a59f43fc",
   "metadata": {},
   "outputs": [
    {
     "data": {
      "text/html": [
       "<div>\n",
       "<style scoped>\n",
       "    .dataframe tbody tr th:only-of-type {\n",
       "        vertical-align: middle;\n",
       "    }\n",
       "\n",
       "    .dataframe tbody tr th {\n",
       "        vertical-align: top;\n",
       "    }\n",
       "\n",
       "    .dataframe thead th {\n",
       "        text-align: right;\n",
       "    }\n",
       "</style>\n",
       "<table border=\"1\" class=\"dataframe\">\n",
       "  <thead>\n",
       "    <tr style=\"text-align: right;\">\n",
       "      <th></th>\n",
       "      <th>survey</th>\n",
       "      <th>WE</th>\n",
       "      <th>WEAT</th>\n",
       "      <th>RNSB</th>\n",
       "      <th>RND</th>\n",
       "      <th>ECT</th>\n",
       "      <th>Our_metric</th>\n",
       "      <th>WEAT_ranked</th>\n",
       "      <th>RNSB_ranked</th>\n",
       "      <th>RND_ranked</th>\n",
       "      <th>ECT_ranked</th>\n",
       "      <th>OUR_metric_ranked</th>\n",
       "    </tr>\n",
       "    <tr>\n",
       "      <th>WE</th>\n",
       "      <th></th>\n",
       "      <th></th>\n",
       "      <th></th>\n",
       "      <th></th>\n",
       "      <th></th>\n",
       "      <th></th>\n",
       "      <th></th>\n",
       "      <th></th>\n",
       "      <th></th>\n",
       "      <th></th>\n",
       "      <th></th>\n",
       "      <th></th>\n",
       "    </tr>\n",
       "  </thead>\n",
       "  <tbody>\n",
       "    <tr>\n",
       "      <th>w2v</th>\n",
       "      <td>RAD</td>\n",
       "      <td>w2v</td>\n",
       "      <td>-0.88</td>\n",
       "      <td>-0.73</td>\n",
       "      <td>-0.39</td>\n",
       "      <td>-0.11</td>\n",
       "      <td>-0.96</td>\n",
       "      <td>1.0</td>\n",
       "      <td>2.0</td>\n",
       "      <td>1.0</td>\n",
       "      <td>5.0</td>\n",
       "      <td>1.0</td>\n",
       "    </tr>\n",
       "    <tr>\n",
       "      <th>Glove-wk</th>\n",
       "      <td>RAD</td>\n",
       "      <td>Glove-wk</td>\n",
       "      <td>-0.57</td>\n",
       "      <td>-0.89</td>\n",
       "      <td>0.24</td>\n",
       "      <td>-0.29</td>\n",
       "      <td>0.15</td>\n",
       "      <td>3.0</td>\n",
       "      <td>1.0</td>\n",
       "      <td>4.0</td>\n",
       "      <td>3.0</td>\n",
       "      <td>2.0</td>\n",
       "    </tr>\n",
       "    <tr>\n",
       "      <th>Glove-Twitter</th>\n",
       "      <td>RAD</td>\n",
       "      <td>Glove-Twitter</td>\n",
       "      <td>-0.46</td>\n",
       "      <td>0.55</td>\n",
       "      <td>0.05</td>\n",
       "      <td>-0.20</td>\n",
       "      <td>0.90</td>\n",
       "      <td>4.0</td>\n",
       "      <td>4.0</td>\n",
       "      <td>3.0</td>\n",
       "      <td>4.0</td>\n",
       "      <td>4.0</td>\n",
       "    </tr>\n",
       "    <tr>\n",
       "      <th>UD</th>\n",
       "      <td>RAD</td>\n",
       "      <td>UD</td>\n",
       "      <td>-0.21</td>\n",
       "      <td>-0.41</td>\n",
       "      <td>-0.34</td>\n",
       "      <td>-0.98</td>\n",
       "      <td>0.84</td>\n",
       "      <td>5.0</td>\n",
       "      <td>3.0</td>\n",
       "      <td>2.0</td>\n",
       "      <td>1.0</td>\n",
       "      <td>3.0</td>\n",
       "    </tr>\n",
       "    <tr>\n",
       "      <th>Chan</th>\n",
       "      <td>RAD</td>\n",
       "      <td>Chan</td>\n",
       "      <td>-0.84</td>\n",
       "      <td>0.77</td>\n",
       "      <td>0.25</td>\n",
       "      <td>-0.74</td>\n",
       "      <td>0.98</td>\n",
       "      <td>2.0</td>\n",
       "      <td>5.0</td>\n",
       "      <td>5.0</td>\n",
       "      <td>2.0</td>\n",
       "      <td>5.0</td>\n",
       "    </tr>\n",
       "  </tbody>\n",
       "</table>\n",
       "</div>"
      ],
      "text/plain": [
       "              survey             WE  WEAT  RNSB   RND   ECT  Our_metric  \\\n",
       "WE                                                                        \n",
       "w2v              RAD            w2v -0.88 -0.73 -0.39 -0.11       -0.96   \n",
       "Glove-wk         RAD       Glove-wk -0.57 -0.89  0.24 -0.29        0.15   \n",
       "Glove-Twitter    RAD  Glove-Twitter -0.46  0.55  0.05 -0.20        0.90   \n",
       "UD               RAD             UD -0.21 -0.41 -0.34 -0.98        0.84   \n",
       "Chan             RAD           Chan -0.84  0.77  0.25 -0.74        0.98   \n",
       "\n",
       "               WEAT_ranked  RNSB_ranked  RND_ranked  ECT_ranked  \\\n",
       "WE                                                                \n",
       "w2v                    1.0          2.0         1.0         5.0   \n",
       "Glove-wk               3.0          1.0         4.0         3.0   \n",
       "Glove-Twitter          4.0          4.0         3.0         4.0   \n",
       "UD                     5.0          3.0         2.0         1.0   \n",
       "Chan                   2.0          5.0         5.0         2.0   \n",
       "\n",
       "               OUR_metric_ranked  \n",
       "WE                                \n",
       "w2v                          1.0  \n",
       "Glove-wk                     2.0  \n",
       "Glove-Twitter                4.0  \n",
       "UD                           3.0  \n",
       "Chan                         5.0  "
      ]
     },
     "execution_count": 14,
     "metadata": {},
     "output_type": "execute_result"
    }
   ],
   "source": [
    "RAD_stat"
   ]
  },
  {
   "cell_type": "code",
   "execution_count": 22,
   "id": "60251b31",
   "metadata": {},
   "outputs": [],
   "source": [
    "columns = ['WEAT_ranked', 'RNSB_ranked', 'RND_ranked', 'ECT_ranked', 'OUR_metric_ranked']\n",
    "rows = [\"w2v\", \"glove-wk\", \"glove-twtr\", 'ud', 'chan']\n",
    "x_labels = ['WEAT', 'RNSB', 'RND', 'ECT', 'OM']"
   ]
  },
  {
   "cell_type": "code",
   "execution_count": 23,
   "id": "92a6ceac",
   "metadata": {},
   "outputs": [
    {
     "ename": "KeyError",
     "evalue": "\"None of [Index(['WEAT_ranked', 'RNSB_ranked', 'RND_ranked', 'ECT_ranked',\\n       'OUR_metric_ranked'],\\n      dtype='object')] are in the [columns]\"",
     "output_type": "error",
     "traceback": [
      "\u001b[0;31m---------------------------------------------------------------------------\u001b[0m",
      "\u001b[0;31mKeyError\u001b[0m                                  Traceback (most recent call last)",
      "\u001b[0;32m<ipython-input-23-ab184e5a5e19>\u001b[0m in \u001b[0;36m<module>\u001b[0;34m\u001b[0m\n\u001b[1;32m     21\u001b[0m \u001b[0;31m#ax2.set_xticklabels(columns, fontweight=\"bold\", rotation=90, fontsize=40)\u001b[0m\u001b[0;34m\u001b[0m\u001b[0;34m\u001b[0m\u001b[0;34m\u001b[0m\u001b[0m\n\u001b[1;32m     22\u001b[0m \u001b[0;34m\u001b[0m\u001b[0m\n\u001b[0;32m---> 23\u001b[0;31m \u001b[0msns\u001b[0m\u001b[0;34m.\u001b[0m\u001b[0mheatmap\u001b[0m\u001b[0;34m(\u001b[0m\u001b[0mdata\u001b[0m\u001b[0;34m=\u001b[0m\u001b[0mOEOH_fin_stat\u001b[0m\u001b[0;34m[\u001b[0m\u001b[0mcolumns\u001b[0m\u001b[0;34m]\u001b[0m\u001b[0;34m,\u001b[0m \u001b[0max\u001b[0m\u001b[0;34m=\u001b[0m\u001b[0max3\u001b[0m\u001b[0;34m,\u001b[0m \u001b[0mvmin\u001b[0m\u001b[0;34m=\u001b[0m\u001b[0;34m-\u001b[0m\u001b[0;36m1\u001b[0m\u001b[0;34m,\u001b[0m \u001b[0mvmax\u001b[0m\u001b[0;34m=\u001b[0m\u001b[0;36m1\u001b[0m\u001b[0;34m,\u001b[0m\u001b[0mcbar\u001b[0m\u001b[0;34m=\u001b[0m\u001b[0;32mTrue\u001b[0m\u001b[0;34m,\u001b[0m \u001b[0myticklabels\u001b[0m\u001b[0;34m=\u001b[0m\u001b[0;32mFalse\u001b[0m\u001b[0;34m,\u001b[0m\u001b[0mcmap\u001b[0m\u001b[0;34m=\u001b[0m\u001b[0;34m\"YlGnBu\"\u001b[0m\u001b[0;34m)\u001b[0m\u001b[0;34m\u001b[0m\u001b[0;34m\u001b[0m\u001b[0m\n\u001b[0m\u001b[1;32m     24\u001b[0m \u001b[0max3\u001b[0m\u001b[0;34m.\u001b[0m\u001b[0mset_title\u001b[0m\u001b[0;34m(\u001b[0m\u001b[0;34m'OEOH-US'\u001b[0m\u001b[0;34m,\u001b[0m \u001b[0mfontweight\u001b[0m\u001b[0;34m=\u001b[0m\u001b[0;34m\"bold\"\u001b[0m\u001b[0;34m,\u001b[0m \u001b[0mfontsize\u001b[0m\u001b[0;34m=\u001b[0m\u001b[0;36m40\u001b[0m\u001b[0;34m)\u001b[0m\u001b[0;34m\u001b[0m\u001b[0;34m\u001b[0m\u001b[0m\n\u001b[1;32m     25\u001b[0m \u001b[0max3\u001b[0m\u001b[0;34m.\u001b[0m\u001b[0mset_ylabel\u001b[0m\u001b[0;34m(\u001b[0m\u001b[0;34m\"\"\u001b[0m\u001b[0;34m)\u001b[0m\u001b[0;34m\u001b[0m\u001b[0;34m\u001b[0m\u001b[0m\n",
      "\u001b[0;32m~/.local/lib/python3.8/site-packages/pandas/core/frame.py\u001b[0m in \u001b[0;36m__getitem__\u001b[0;34m(self, key)\u001b[0m\n\u001b[1;32m   3028\u001b[0m             \u001b[0;32mif\u001b[0m \u001b[0mis_iterator\u001b[0m\u001b[0;34m(\u001b[0m\u001b[0mkey\u001b[0m\u001b[0;34m)\u001b[0m\u001b[0;34m:\u001b[0m\u001b[0;34m\u001b[0m\u001b[0;34m\u001b[0m\u001b[0m\n\u001b[1;32m   3029\u001b[0m                 \u001b[0mkey\u001b[0m \u001b[0;34m=\u001b[0m \u001b[0mlist\u001b[0m\u001b[0;34m(\u001b[0m\u001b[0mkey\u001b[0m\u001b[0;34m)\u001b[0m\u001b[0;34m\u001b[0m\u001b[0;34m\u001b[0m\u001b[0m\n\u001b[0;32m-> 3030\u001b[0;31m             \u001b[0mindexer\u001b[0m \u001b[0;34m=\u001b[0m \u001b[0mself\u001b[0m\u001b[0;34m.\u001b[0m\u001b[0mloc\u001b[0m\u001b[0;34m.\u001b[0m\u001b[0m_get_listlike_indexer\u001b[0m\u001b[0;34m(\u001b[0m\u001b[0mkey\u001b[0m\u001b[0;34m,\u001b[0m \u001b[0maxis\u001b[0m\u001b[0;34m=\u001b[0m\u001b[0;36m1\u001b[0m\u001b[0;34m,\u001b[0m \u001b[0mraise_missing\u001b[0m\u001b[0;34m=\u001b[0m\u001b[0;32mTrue\u001b[0m\u001b[0;34m)\u001b[0m\u001b[0;34m[\u001b[0m\u001b[0;36m1\u001b[0m\u001b[0;34m]\u001b[0m\u001b[0;34m\u001b[0m\u001b[0;34m\u001b[0m\u001b[0m\n\u001b[0m\u001b[1;32m   3031\u001b[0m \u001b[0;34m\u001b[0m\u001b[0m\n\u001b[1;32m   3032\u001b[0m         \u001b[0;31m# take() does not accept boolean indexers\u001b[0m\u001b[0;34m\u001b[0m\u001b[0;34m\u001b[0m\u001b[0;34m\u001b[0m\u001b[0m\n",
      "\u001b[0;32m~/.local/lib/python3.8/site-packages/pandas/core/indexing.py\u001b[0m in \u001b[0;36m_get_listlike_indexer\u001b[0;34m(self, key, axis, raise_missing)\u001b[0m\n\u001b[1;32m   1264\u001b[0m             \u001b[0mkeyarr\u001b[0m\u001b[0;34m,\u001b[0m \u001b[0mindexer\u001b[0m\u001b[0;34m,\u001b[0m \u001b[0mnew_indexer\u001b[0m \u001b[0;34m=\u001b[0m \u001b[0max\u001b[0m\u001b[0;34m.\u001b[0m\u001b[0m_reindex_non_unique\u001b[0m\u001b[0;34m(\u001b[0m\u001b[0mkeyarr\u001b[0m\u001b[0;34m)\u001b[0m\u001b[0;34m\u001b[0m\u001b[0;34m\u001b[0m\u001b[0m\n\u001b[1;32m   1265\u001b[0m \u001b[0;34m\u001b[0m\u001b[0m\n\u001b[0;32m-> 1266\u001b[0;31m         \u001b[0mself\u001b[0m\u001b[0;34m.\u001b[0m\u001b[0m_validate_read_indexer\u001b[0m\u001b[0;34m(\u001b[0m\u001b[0mkeyarr\u001b[0m\u001b[0;34m,\u001b[0m \u001b[0mindexer\u001b[0m\u001b[0;34m,\u001b[0m \u001b[0maxis\u001b[0m\u001b[0;34m,\u001b[0m \u001b[0mraise_missing\u001b[0m\u001b[0;34m=\u001b[0m\u001b[0mraise_missing\u001b[0m\u001b[0;34m)\u001b[0m\u001b[0;34m\u001b[0m\u001b[0;34m\u001b[0m\u001b[0m\n\u001b[0m\u001b[1;32m   1267\u001b[0m         \u001b[0;32mreturn\u001b[0m \u001b[0mkeyarr\u001b[0m\u001b[0;34m,\u001b[0m \u001b[0mindexer\u001b[0m\u001b[0;34m\u001b[0m\u001b[0;34m\u001b[0m\u001b[0m\n\u001b[1;32m   1268\u001b[0m \u001b[0;34m\u001b[0m\u001b[0m\n",
      "\u001b[0;32m~/.local/lib/python3.8/site-packages/pandas/core/indexing.py\u001b[0m in \u001b[0;36m_validate_read_indexer\u001b[0;34m(self, key, indexer, axis, raise_missing)\u001b[0m\n\u001b[1;32m   1306\u001b[0m             \u001b[0;32mif\u001b[0m \u001b[0mmissing\u001b[0m \u001b[0;34m==\u001b[0m \u001b[0mlen\u001b[0m\u001b[0;34m(\u001b[0m\u001b[0mindexer\u001b[0m\u001b[0;34m)\u001b[0m\u001b[0;34m:\u001b[0m\u001b[0;34m\u001b[0m\u001b[0;34m\u001b[0m\u001b[0m\n\u001b[1;32m   1307\u001b[0m                 \u001b[0maxis_name\u001b[0m \u001b[0;34m=\u001b[0m \u001b[0mself\u001b[0m\u001b[0;34m.\u001b[0m\u001b[0mobj\u001b[0m\u001b[0;34m.\u001b[0m\u001b[0m_get_axis_name\u001b[0m\u001b[0;34m(\u001b[0m\u001b[0maxis\u001b[0m\u001b[0;34m)\u001b[0m\u001b[0;34m\u001b[0m\u001b[0;34m\u001b[0m\u001b[0m\n\u001b[0;32m-> 1308\u001b[0;31m                 \u001b[0;32mraise\u001b[0m \u001b[0mKeyError\u001b[0m\u001b[0;34m(\u001b[0m\u001b[0;34mf\"None of [{key}] are in the [{axis_name}]\"\u001b[0m\u001b[0;34m)\u001b[0m\u001b[0;34m\u001b[0m\u001b[0;34m\u001b[0m\u001b[0m\n\u001b[0m\u001b[1;32m   1309\u001b[0m \u001b[0;34m\u001b[0m\u001b[0m\n\u001b[1;32m   1310\u001b[0m             \u001b[0max\u001b[0m \u001b[0;34m=\u001b[0m \u001b[0mself\u001b[0m\u001b[0;34m.\u001b[0m\u001b[0mobj\u001b[0m\u001b[0;34m.\u001b[0m\u001b[0m_get_axis\u001b[0m\u001b[0;34m(\u001b[0m\u001b[0maxis\u001b[0m\u001b[0;34m)\u001b[0m\u001b[0;34m\u001b[0m\u001b[0;34m\u001b[0m\u001b[0m\n",
      "\u001b[0;31mKeyError\u001b[0m: \"None of [Index(['WEAT_ranked', 'RNSB_ranked', 'RND_ranked', 'ECT_ranked',\\n       'OUR_metric_ranked'],\\n      dtype='object')] are in the [columns]\""
     ]
    },
    {
     "data": {
      "image/png": "[encoded data removed]",
      "text/plain": [
       "<Figure size 864x360 with 2 Axes>"
      ]
     },
     "metadata": {},
     "output_type": "display_data"
    }
   ],
   "source": [
    "sns.set(font_scale=3)\n",
    "\n",
    "fig2 = plt.figure(figsize = (12,5)) # width x height\n",
    "ax1 = fig2.add_subplot(1, 2, 1) # row, column, position\n",
    "#ax2 = fig.add_subplot(1, 3, 2)\n",
    "ax3 = fig2.add_subplot(1, 2, 2)\n",
    "#ax4 = fig.add_subplot(2, 3, 4)\n",
    "#ax5 = fig.add_subplot(1, 6, 5)\n",
    "#ax6 = fig.add_subplot(1, 6, 6)\n",
    "\n",
    "# We use ax parameter to tell seaborn which subplot to use for this plot\n",
    "sns.heatmap(data=RAD_stat[columns], ax=ax1, vmin=-1, vmax=1,cbar=False, cmap=\"YlGnBu\")\n",
    "ax1.set_title('RAD', fontweight=\"bold\", fontsize=40)\n",
    "ax1.set_ylabel(\"\")\n",
    "ax1.set_xticklabels(x_labels, fontweight=\"bold\", rotation=90, fontsize=40)\n",
    "ax1.set_yticklabels(rows, fontweight=\"bold\", fontsize=40)\n",
    "\n",
    "#sns.heatmap(data=COX_stat[columns], ax=ax2, vmin=-1, vmax=1,cbar=False, yticklabels=False,cmap=\"YlGnBu\")\n",
    "#ax2.set_title('COX', fontweight=\"bold\", fontsize=40)\n",
    "#ax2.set_ylabel(\"\")\n",
    "#ax2.set_xticklabels(columns, fontweight=\"bold\", rotation=90, fontsize=40)\n",
    "\n",
    "sns.heatmap(data=OEOH_fin_stat[columns], ax=ax3, vmin=-1, vmax=1,cbar=True, yticklabels=False,cmap=\"YlGnBu\")\n",
    "ax3.set_title('OEOH-US', fontweight=\"bold\", fontsize=40)\n",
    "ax3.set_ylabel(\"\")\n",
    "ax3.set_xticklabels(x_labels, fontweight=\"bold\", rotation=90, fontsize=40)\n",
    "\n",
    "#sns.heatmap(data=OEOH_fin_stat[columns], ax=ax4, vmin=-1, vmax=1,cbar=True, yticklabels=False,cbar_kws={'label': 'correlation'},cmap=\"YlGnBu\")\n",
    "#ax4.set_title('OEOH-UK', fontweight=\"bold\", fontsize=35)\n",
    "#ax4.set_ylabel(\"\")\n",
    "#ax4.set_xticklabels(columns, fontweight=\"bold\", rotation=90, fontsize=35)\n",
    "\n",
    "#sns.heatmap(data=OEOH_GR_stat[columns], ax=ax5, vmin=-1, vmax=1,cbar=False, yticklabels=False,cmap=\"YlGnBu\")\n",
    "#ax5.set_title('OEOH-Germany', fontweight=\"bold\", fontsize=35)\n",
    "#ax5.set_ylabel(\"\")\n",
    "#ax5.set_xticklabels(columns, fontweight=\"bold\", rotation=45, fontsize=35)\n",
    "\n",
    "#sns.heatmap(data=OEOH_fin_stat[columns], ax=ax5, vmin=-1, vmax=1,cbar=True, yticklabels=False,cbar_kws={'label': 'correlation'},cmap=\"YlGnBu\")\n",
    "#ax5.set_title('OEOH-FI', fontweight=\"bold\", fontsize=35)\n",
    "#ax5.set_ylabel(\"\")\n",
    "#ax5.set_xticklabels(columns, fontweight=\"bold\", fontsize=35, rotation=90)\n"
   ]
  },
  {
   "cell_type": "code",
   "execution_count": 26,
   "id": "a90589ed",
   "metadata": {},
   "outputs": [],
   "source": [
    "fig2.savefig(\"heat_map_sos_metrics_corr_without_cox.pdf\",bbox_inches='tight')"
   ]
  },
  {
   "cell_type": "code",
   "execution_count": null,
   "id": "39307b7c",
   "metadata": {},
   "outputs": [],
   "source": []
  }
 ],
 "metadata": {
  "kernelspec": {
   "display_name": "Python 3",
   "language": "python",
   "name": "python3"
  },
  "language_info": {
   "codemirror_mode": {
    "name": "ipython",
    "version": 3
   },
   "file_extension": ".py",
   "mimetype": "text/x-python",
   "name": "python",
   "nbconvert_exporter": "python",
   "pygments_lexer": "ipython3",
   "version": "3.8.10"
  }
 },
 "nbformat": 4,
 "nbformat_minor": 5
}
