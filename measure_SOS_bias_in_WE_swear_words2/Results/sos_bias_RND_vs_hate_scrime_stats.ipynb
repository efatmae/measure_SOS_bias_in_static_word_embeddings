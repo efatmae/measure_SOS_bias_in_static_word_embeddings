{
 "cells": [
  {
   "cell_type": "code",
   "execution_count": 1,
   "id": "d15842f4",
   "metadata": {},
   "outputs": [],
   "source": [
    "import numpy as np\n",
    "from scipy import stats \n",
    "import pandas as pd"
   ]
  },
  {
   "cell_type": "markdown",
   "id": "99f6b126",
   "metadata": {},
   "source": [
    "## RND_SOS_bias_scores"
   ]
  },
  {
   "cell_type": "code",
   "execution_count": 2,
   "id": "9f3f76d9",
   "metadata": {},
   "outputs": [],
   "source": [
    "weat_sos_women_w2v = 0.065988\n",
    "weat_sos_eth_w2v = 0.108392\n",
    "weat_sos_lgtbq_w2v = 0.374509"
   ]
  },
  {
   "cell_type": "code",
   "execution_count": 3,
   "id": "0282a31d",
   "metadata": {},
   "outputs": [],
   "source": [
    "weat_sos_women_glove_wk = 0.235874\n",
    "weat_sos_eth_glove_wk = 0.065026\n",
    "weat_sos_lgtbq_glove_wk = 0.403162"
   ]
  },
  {
   "cell_type": "code",
   "execution_count": 4,
   "id": "59d26faf",
   "metadata": {},
   "outputs": [],
   "source": [
    "weat_sos_women_glove_twitter = 0.171841\n",
    "weat_sos_eth_glove_twitter = 0.225473\n",
    "weat_sos_lgtbq_glove_twitter = 0"
   ]
  },
  {
   "cell_type": "code",
   "execution_count": 5,
   "id": "f3cab108",
   "metadata": {},
   "outputs": [],
   "source": [
    "weat_sos_women_ud = 0.050763\n",
    "weat_sos_eth_ud = 0.126520\n",
    "weat_sos_lgtbq_ud = 0.973574"
   ]
  },
  {
   "cell_type": "code",
   "execution_count": 6,
   "id": "e79046ee",
   "metadata": {},
   "outputs": [],
   "source": [
    "weat_sos_women_chan = 4.041449\n",
    "weat_sos_eth_chan = 2.148778\n",
    "weat_sos_lgtbq_chan = 5.855191"
   ]
  },
  {
   "cell_type": "markdown",
   "id": "fc52b686",
   "metadata": {},
   "source": [
    "## hate crime stats (department of justice US)"
   ]
  },
  {
   "cell_type": "code",
   "execution_count": 7,
   "id": "e621d8db",
   "metadata": {},
   "outputs": [],
   "source": [
    "crime_rate = [61.9, 15.4,0.7]"
   ]
  },
  {
   "cell_type": "code",
   "execution_count": 8,
   "id": "85a99231",
   "metadata": {},
   "outputs": [
    {
     "data": {
      "text/plain": [
       "(-0.16359107675114667, 0.8953844774513403)"
      ]
     },
     "execution_count": 8,
     "metadata": {},
     "output_type": "execute_result"
    }
   ],
   "source": [
    "stats.pearsonr([weat_sos_eth_w2v, weat_sos_lgtbq_w2v, weat_sos_women_w2v], crime_rate)"
   ]
  },
  {
   "cell_type": "code",
   "execution_count": 9,
   "id": "aa89518c",
   "metadata": {},
   "outputs": [
    {
     "data": {
      "text/plain": [
       "(-0.731916339217043, 0.47725234419491724)"
      ]
     },
     "execution_count": 9,
     "metadata": {},
     "output_type": "execute_result"
    }
   ],
   "source": [
    "stats.pearsonr([weat_sos_eth_glove_wk, weat_sos_lgtbq_glove_wk, weat_sos_women_glove_wk], crime_rate)"
   ]
  },
  {
   "cell_type": "code",
   "execution_count": 10,
   "id": "04d7cc38",
   "metadata": {},
   "outputs": [
    {
     "data": {
      "text/plain": [
       "(0.4978609084300203, 0.6682380059697816)"
      ]
     },
     "execution_count": 10,
     "metadata": {},
     "output_type": "execute_result"
    }
   ],
   "source": [
    "stats.pearsonr([weat_sos_eth_glove_twitter, weat_sos_lgtbq_glove_twitter, weat_sos_women_glove_twitter], crime_rate)"
   ]
  },
  {
   "cell_type": "code",
   "execution_count": 11,
   "id": "17dea7e9",
   "metadata": {},
   "outputs": [
    {
     "data": {
      "text/plain": [
       "(-0.21574023651831745, 0.8615671225866515)"
      ]
     },
     "execution_count": 11,
     "metadata": {},
     "output_type": "execute_result"
    }
   ],
   "source": [
    "stats.pearsonr([weat_sos_eth_ud, weat_sos_lgtbq_ud, weat_sos_women_ud], crime_rate)"
   ]
  },
  {
   "cell_type": "code",
   "execution_count": 12,
   "id": "8a2cf3fa",
   "metadata": {},
   "outputs": [
    {
     "data": {
      "text/plain": [
       "(-0.7361375532833401, 0.4732952725976566)"
      ]
     },
     "execution_count": 12,
     "metadata": {},
     "output_type": "execute_result"
    }
   ],
   "source": [
    "stats.pearsonr([weat_sos_eth_chan, weat_sos_lgtbq_chan,weat_sos_women_chan], crime_rate )"
   ]
  },
  {
   "cell_type": "markdown",
   "id": "686b9b57",
   "metadata": {},
   "source": [
    "## Online Extremism and Online Hate"
   ]
  },
  {
   "cell_type": "code",
   "execution_count": 13,
   "id": "1a683ca0",
   "metadata": {},
   "outputs": [],
   "source": [
    "hate_finland = [0.67, 0.63, 0.25]\n",
    "hate_us = [0.60, 0.61, 0.44]\n",
    "germany = [0.48, 0.50, 0.20]\n",
    "uk = [0.57, 0.55, 0.44]"
   ]
  },
  {
   "cell_type": "code",
   "execution_count": 14,
   "id": "8df9612a",
   "metadata": {},
   "outputs": [
    {
     "name": "stdout",
     "output_type": "stream",
     "text": [
      "w2v_finland (0.5348540202579969, 0.6407332003416202)\n",
      "glove_wk_finland (-0.09233374500758325, 0.941134666401957)\n",
      "glove_twitter (-0.20604756770376273, 0.8678796718231789)\n",
      "ud_finland (0.48923708984495223, 0.674550555206309)\n",
      "chan_finland (-0.09852112202228344, 0.9371775948046965)\n"
     ]
    }
   ],
   "source": [
    "print(\"w2v_finland\",stats.pearsonr([weat_sos_eth_w2v, weat_sos_lgtbq_w2v, weat_sos_women_w2v], hate_finland))\n",
    "print(\"glove_wk_finland\",stats.pearsonr([weat_sos_eth_glove_wk, weat_sos_lgtbq_glove_wk, weat_sos_women_glove_wk], hate_finland))\n",
    "print(\"glove_twitter\",stats.pearsonr([weat_sos_eth_glove_twitter, weat_sos_lgtbq_glove_twitter, weat_sos_women_glove_twitter], hate_finland))\n",
    "print(\"ud_finland\",stats.pearsonr([weat_sos_eth_ud, weat_sos_lgtbq_ud, weat_sos_women_ud], hate_finland))\n",
    "print(\"chan_finland\",stats.pearsonr([weat_sos_eth_chan, weat_sos_lgtbq_chan, weat_sos_women_chan], hate_finland))"
   ]
  },
  {
   "cell_type": "code",
   "execution_count": 15,
   "id": "c996c169",
   "metadata": {},
   "outputs": [
    {
     "name": "stdout",
     "output_type": "stream",
     "text": [
      "w2v_us (0.6466315535237281, 0.5523542860941758)\n",
      "glove_wk_us (0.04634321951290891, 0.9704864193505991)\n",
      "glove_us (-0.3394756623931816, 0.7795007575757348)\n",
      "ud_us (0.6052183013868523, 0.5861716409588649)\n",
      "chan_us (0.04013328907485411, 0.9744434909478596)\n"
     ]
    }
   ],
   "source": [
    "print(\"w2v_us\",stats.pearsonr([weat_sos_eth_w2v, weat_sos_lgtbq_w2v, weat_sos_women_w2v], hate_us))\n",
    "print(\"glove_wk_us\",stats.pearsonr([weat_sos_eth_glove_wk, weat_sos_lgtbq_glove_wk, weat_sos_women_glove_wk], hate_us))\n",
    "print(\"glove_us\",stats.pearsonr([weat_sos_eth_glove_twitter, weat_sos_lgtbq_glove_twitter, weat_sos_women_glove_twitter], hate_us))\n",
    "print(\"ud_us\",stats.pearsonr([weat_sos_eth_ud, weat_sos_lgtbq_ud, weat_sos_women_ud], hate_us))\n",
    "print(\"chan_us\",stats.pearsonr([weat_sos_eth_chan, weat_sos_lgtbq_chan, weat_sos_women_chan], hate_us))"
   ]
  },
  {
   "cell_type": "code",
   "execution_count": 16,
   "id": "143f4bd0",
   "metadata": {},
   "outputs": [
    {
     "name": "stdout",
     "output_type": "stream",
     "text": [
      "w2v_germany (0.6521196242271851, 0.5477599583938535)\n",
      "glove_wk_germany (0.05355094935126506, 0.9658920916502766)\n",
      "glove_germany (-0.34625494833319514, 0.7749064298754127)\n",
      "ud_germany (0.6109474564498991, 0.5815773132585424)\n",
      "chan_germany (0.04734312017575804, 0.9698491632475372)\n"
     ]
    }
   ],
   "source": [
    "print(\"w2v_germany\",stats.pearsonr([weat_sos_eth_w2v, weat_sos_lgtbq_w2v, weat_sos_women_w2v], germany))\n",
    "print(\"glove_wk_germany\",stats.pearsonr([weat_sos_eth_glove_wk, weat_sos_lgtbq_glove_wk, weat_sos_women_glove_wk], germany))\n",
    "print(\"glove_germany\",stats.pearsonr([weat_sos_eth_glove_twitter, weat_sos_lgtbq_glove_twitter, weat_sos_women_glove_twitter], germany))\n",
    "print(\"ud_germany\",stats.pearsonr([weat_sos_eth_ud, weat_sos_lgtbq_ud, weat_sos_women_ud], germany))\n",
    "print(\"chan_germany\",stats.pearsonr([weat_sos_eth_chan, weat_sos_lgtbq_chan, weat_sos_women_chan], germany))"
   ]
  },
  {
   "cell_type": "code",
   "execution_count": 17,
   "id": "d80300ae",
   "metadata": {},
   "outputs": [
    {
     "name": "stdout",
     "output_type": "stream",
     "text": [
      "w2v_uk (0.4858840918644781, 0.676995422767745)\n",
      "glove_wk_uk (-0.14887056869402066, 0.904872443975832)\n",
      "glove_uk (-0.15000522780366343, 0.9041418942493042)\n",
      "ud_uk (0.4387922925230769, 0.7108127776324341)\n",
      "chan_uk (-0.15501414273589917, 0.9009153723785713)\n"
     ]
    }
   ],
   "source": [
    "print(\"w2v_uk\",stats.pearsonr([weat_sos_eth_w2v, weat_sos_lgtbq_w2v, weat_sos_women_w2v], uk))\n",
    "print(\"glove_wk_uk\",stats.pearsonr([weat_sos_eth_glove_wk, weat_sos_lgtbq_glove_wk, weat_sos_women_glove_wk], uk))\n",
    "print(\"glove_uk\",stats.pearsonr([weat_sos_eth_glove_twitter, weat_sos_lgtbq_glove_twitter, weat_sos_women_glove_twitter], uk))\n",
    "print(\"ud_uk\",stats.pearsonr([weat_sos_eth_ud, weat_sos_lgtbq_ud, weat_sos_women_ud], uk))\n",
    "print(\"chan_uk\",stats.pearsonr([weat_sos_eth_chan, weat_sos_lgtbq_chan, weat_sos_women_chan], uk))"
   ]
  },
  {
   "cell_type": "code",
   "execution_count": 18,
   "id": "ae76a531",
   "metadata": {},
   "outputs": [],
   "source": [
    "## difference between majoirty and minority added (online harassment) (https://www.womensmediacenter.com/speech-project/research-statistics)"
   ]
  },
  {
   "cell_type": "code",
   "execution_count": 19,
   "id": "988d2f9b",
   "metadata": {},
   "outputs": [],
   "source": [
    "bullying_diff = [0.23,0.25,0.31]"
   ]
  },
  {
   "cell_type": "code",
   "execution_count": 20,
   "id": "bd8b0c2f",
   "metadata": {},
   "outputs": [
    {
     "name": "stdout",
     "output_type": "stream",
     "text": [
      "w2v_uk (-0.3969194063429246, 0.7401584843930319)\n",
      "glove_wk_uk (0.24608825936892997, 0.8417093823505453)\n",
      "glove_uk (0.05133468182113163, 0.9673049558745912)\n",
      "ud_uk (-0.3476259219104886, 0.7739758392577212)\n",
      "chan_uk (0.2521080698034672, 0.8377523107532846)\n"
     ]
    }
   ],
   "source": [
    "print(\"w2v_uk\",stats.pearsonr([weat_sos_eth_w2v, weat_sos_lgtbq_w2v, weat_sos_women_w2v], bullying_diff))\n",
    "print(\"glove_wk_uk\",stats.pearsonr([weat_sos_eth_glove_wk, weat_sos_lgtbq_glove_wk, weat_sos_women_glove_wk], bullying_diff))\n",
    "print(\"glove_uk\",stats.pearsonr([weat_sos_eth_glove_twitter, weat_sos_lgtbq_glove_twitter, weat_sos_women_glove_twitter], bullying_diff))\n",
    "print(\"ud_uk\",stats.pearsonr([weat_sos_eth_ud, weat_sos_lgtbq_ud, weat_sos_women_ud], bullying_diff))\n",
    "print(\"chan_uk\",stats.pearsonr([weat_sos_eth_chan, weat_sos_lgtbq_chan, weat_sos_women_chan], bullying_diff))"
   ]
  },
  {
   "cell_type": "code",
   "execution_count": 21,
   "id": "8ba77658",
   "metadata": {},
   "outputs": [],
   "source": [
    "## https://enough.org/stats_cyberbullying"
   ]
  },
  {
   "cell_type": "code",
   "execution_count": 22,
   "id": "55256c85",
   "metadata": {},
   "outputs": [],
   "source": [
    "bullying = [0.17,0.15,0.2]"
   ]
  },
  {
   "cell_type": "code",
   "execution_count": 23,
   "id": "5f6f0822",
   "metadata": {},
   "outputs": [
    {
     "name": "stdout",
     "output_type": "stream",
     "text": [
      "w2v_uk (-0.8720423411279323, 0.3255905877887593)\n",
      "glove_wk_uk (-0.3917744355456655, 0.7437227210451827)\n",
      "glove_uk (0.6461727950379094, 0.5527370592703185)\n",
      "ud_uk (-0.8448258800252803, 0.35940794265344844)\n",
      "chan_uk (-0.38604802991741716, 0.7476797926424432)\n"
     ]
    }
   ],
   "source": [
    "print(\"w2v_uk\",stats.pearsonr([weat_sos_eth_w2v, weat_sos_lgtbq_w2v, weat_sos_women_w2v], bullying))\n",
    "print(\"glove_wk_uk\",stats.pearsonr([weat_sos_eth_glove_wk, weat_sos_lgtbq_glove_wk, weat_sos_women_glove_wk], bullying))\n",
    "print(\"glove_uk\",stats.pearsonr([weat_sos_eth_glove_twitter, weat_sos_lgtbq_glove_twitter, weat_sos_women_glove_twitter], bullying))\n",
    "print(\"ud_uk\",stats.pearsonr([weat_sos_eth_ud, weat_sos_lgtbq_ud, weat_sos_women_ud], bullying))\n",
    "print(\"chan_uk\",stats.pearsonr([weat_sos_eth_chan, weat_sos_lgtbq_chan, weat_sos_women_chan], bullying))"
   ]
  },
  {
   "cell_type": "code",
   "execution_count": null,
   "id": "e03419f8",
   "metadata": {},
   "outputs": [],
   "source": []
  }
 ],
 "metadata": {
  "kernelspec": {
   "display_name": "Python 3",
   "language": "python",
   "name": "python3"
  },
  "language_info": {
   "codemirror_mode": {
    "name": "ipython",
    "version": 3
   },
   "file_extension": ".py",
   "mimetype": "text/x-python",
   "name": "python",
   "nbconvert_exporter": "python",
   "pygments_lexer": "ipython3",
   "version": "3.6.9"
  }
 },
 "nbformat": 4,
 "nbformat_minor": 5
}
