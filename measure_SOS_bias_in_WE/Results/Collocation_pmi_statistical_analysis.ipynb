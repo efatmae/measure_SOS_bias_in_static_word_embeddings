{
 "cells": [
  {
   "cell_type": "code",
   "execution_count": 1,
   "id": "399f5b3f",
   "metadata": {},
   "outputs": [],
   "source": [
    "import numpy as np\n",
    "from scipy import stats \n",
    "import pandas as pd"
   ]
  },
  {
   "cell_type": "code",
   "execution_count": 2,
   "id": "ddf4b2e2",
   "metadata": {},
   "outputs": [],
   "source": [
    "min_df = pd.read_csv(\"./all_WE_minority_words_sim_to_profane_vector.csv\")\n",
    "maj_df = pd.read_csv(\"./all_WE_majority_words_sim_to_profane_vector.csv\")\n",
    "random_df = pd.read_csv(\"./all_WE_random_words_sim_to_profane_vector.csv\")"
   ]
  },
  {
   "cell_type": "code",
   "execution_count": 3,
   "id": "856b51ae",
   "metadata": {},
   "outputs": [
    {
     "data": {
      "text/plain": [
       "Index(['Unnamed: 0', 'ethnicity_word', 'w2v_sim', 'glove_wk_sim',\n",
       "       'glove_twitter_sim', 'ud_sim', 'chan_sim',\n",
       "       'reddit_collocation_mean_pmi_fatma',\n",
       "       'reddit_100K_collocation_mean_pmi_swear_words',\n",
       "       'reddit_1M_collocation_mean_pmi_swear_words'],\n",
       "      dtype='object')"
      ]
     },
     "execution_count": 3,
     "metadata": {},
     "output_type": "execute_result"
    }
   ],
   "source": [
    "min_df.columns"
   ]
  },
  {
   "cell_type": "code",
   "execution_count": 4,
   "id": "48c4dc96",
   "metadata": {},
   "outputs": [
    {
     "data": {
      "text/plain": [
       "Index(['Unnamed: 0', 'ethnicity_word', 'w2v_sim', 'glove_wk_sim',\n",
       "       'glove_twitter_sim', 'ud_sim', 'chan_sim',\n",
       "       'reddit_100K_collocation_mean_pmi_swear_words',\n",
       "       'reddit_1M_collocation_mean_pmi_swear_words'],\n",
       "      dtype='object')"
      ]
     },
     "execution_count": 4,
     "metadata": {},
     "output_type": "execute_result"
    }
   ],
   "source": [
    "maj_df.columns"
   ]
  },
  {
   "cell_type": "markdown",
   "id": "13889f29",
   "metadata": {},
   "source": [
    "## correlating sos to collocation  PMI"
   ]
  },
  {
   "cell_type": "code",
   "execution_count": 5,
   "id": "2546fde6",
   "metadata": {},
   "outputs": [],
   "source": [
    "lgtb_words = [\"lesbian\",\"gay\",\"bisexual\",\"transgender\",\"tran\",\"queer\",\n",
    "                \"lgbt\",\"lgbtq\",\"homosexual\",\"non-binary\"]"
   ]
  },
  {
   "cell_type": "code",
   "execution_count": 6,
   "id": "a8fa4623",
   "metadata": {},
   "outputs": [],
   "source": [
    "women_words = [\"woman\", \"female\", \"girl\",\"wife\",\"sister\",\"daughter\",\"mother\"]\n",
    "#women_words = [\"woman\", \"female\",\"daughter\",\"mother\"]"
   ]
  },
  {
   "cell_type": "code",
   "execution_count": 7,
   "id": "f020f1c5",
   "metadata": {},
   "outputs": [],
   "source": [
    "eth_words = [\"african\", \"asian\", \"black\", \"hispanic\", \"latin\", \"mexican\", \"indian\",\n",
    "                \"arab\"]"
   ]
  },
  {
   "cell_type": "code",
   "execution_count": 8,
   "id": "a2402b66",
   "metadata": {},
   "outputs": [],
   "source": [
    "#min_df_selection = min_df[~min_df.ethnicity_word.isin(['indian','hispanic',\"latin\",\"african\",\"daughter\",'mother','female','girl','bisexual','transgender','lgbt', 'lgbtq', 'non-binary'])]\n",
    "min_df_selection = min_df#[~min_df.ethnicity_word.isin([\"latin\",'bisexual','transgender','lgbt', 'lgbtq', 'non-binary','sister'])]"
   ]
  },
  {
   "cell_type": "code",
   "execution_count": 9,
   "id": "1cf78a27",
   "metadata": {},
   "outputs": [],
   "source": [
    "min_df_selection_lgtbq = min_df_selection[min_df_selection.ethnicity_word.isin(lgtb_words)]\n",
    "min_df_selection_woman = min_df_selection[min_df_selection.ethnicity_word.isin(women_words)]\n",
    "min_df_selection_eth = min_df_selection[min_df_selection.ethnicity_word.isin(eth_words)]"
   ]
  },
  {
   "cell_type": "code",
   "execution_count": 10,
   "id": "195c0aa1",
   "metadata": {},
   "outputs": [],
   "source": [
    "def NormalizeData(data):\n",
    "    return (data - np.min(data)) / (np.max(data) - np.min(data))"
   ]
  },
  {
   "cell_type": "code",
   "execution_count": 11,
   "id": "037a9125",
   "metadata": {},
   "outputs": [
    {
     "name": "stdout",
     "output_type": "stream",
     "text": [
      "w2v (0.4145624498661492, 0.039355069800588054)\n",
      "glove_wk (-0.021650216200814767, 0.9181846129281293)\n",
      "glove_twitter (0.39752011321682695, 0.04909145710218187)\n",
      "ud (0.259672238930152, 0.2100137885877164)\n",
      "chan (0.300135426341973, 0.1449227462110085)\n"
     ]
    }
   ],
   "source": [
    "print(\"w2v\",stats.pearsonr(min_df.w2v_sim,NormalizeData(min_df.reddit_collocation_mean_pmi_fatma)))\n",
    "print(\"glove_wk\",stats.pearsonr(min_df.glove_wk_sim,NormalizeData(min_df.reddit_collocation_mean_pmi_fatma)))\n",
    "print(\"glove_twitter\",stats.pearsonr(min_df.glove_twitter_sim,NormalizeData(min_df.reddit_collocation_mean_pmi_fatma)))\n",
    "print(\"ud\",stats.pearsonr(min_df.ud_sim,NormalizeData(min_df.reddit_collocation_mean_pmi_fatma)))\n",
    "print(\"chan\",stats.pearsonr(min_df.chan_sim,NormalizeData(min_df.reddit_collocation_mean_pmi_fatma)))"
   ]
  },
  {
   "cell_type": "markdown",
   "id": "69817736",
   "metadata": {},
   "source": [
    "## correlation lgtbq and mean collocation pmi (Fatma)"
   ]
  },
  {
   "cell_type": "code",
   "execution_count": 12,
   "id": "bb904190",
   "metadata": {},
   "outputs": [
    {
     "name": "stdout",
     "output_type": "stream",
     "text": [
      "w2v (0.5141240168175766, 0.1284458739896413)\n",
      "glove_wk (0.32661278499845675, 0.356996427705962)\n",
      "glove_twitter (0.6214127515262694, 0.05513722785218898)\n",
      "ud (0.5424692902654241, 0.1052118229486206)\n",
      "chan (0.8093931404259422, 0.0045559356179539325)\n"
     ]
    }
   ],
   "source": [
    "print(\"w2v\",stats.pearsonr(min_df_selection_lgtbq.w2v_sim,NormalizeData(min_df_selection_lgtbq.reddit_collocation_mean_pmi_fatma)))\n",
    "print(\"glove_wk\",stats.pearsonr(min_df_selection_lgtbq.glove_wk_sim, NormalizeData(min_df_selection_lgtbq.reddit_collocation_mean_pmi_fatma)))\n",
    "print(\"glove_twitter\",stats.pearsonr(min_df_selection_lgtbq.glove_twitter_sim, NormalizeData(min_df_selection_lgtbq.reddit_collocation_mean_pmi_fatma)))\n",
    "print(\"ud\",stats.pearsonr(min_df_selection_lgtbq.ud_sim, NormalizeData(min_df_selection_lgtbq.reddit_collocation_mean_pmi_fatma)))\n",
    "print(\"chan\",stats.pearsonr(min_df_selection_lgtbq.chan_sim, NormalizeData(min_df_selection_lgtbq.reddit_collocation_mean_pmi_fatma)))"
   ]
  },
  {
   "cell_type": "code",
   "execution_count": 13,
   "id": "0150b061",
   "metadata": {},
   "outputs": [
    {
     "name": "stdout",
     "output_type": "stream",
     "text": [
      "w2v SpearmanrResult(correlation=0.36963146240318606, pvalue=0.2931422890964402)\n",
      "glove_wk SpearmanrResult(correlation=0.2262778643423326, pvalue=0.529592020309138)\n",
      "glove_twitter SpearmanrResult(correlation=0.4539333748811057, pvalue=0.1875741865263601)\n",
      "ud SpearmanrResult(correlation=0.49781130155313164, pvalue=0.14314197094587167)\n",
      "chan SpearmanrResult(correlation=0.7305542477338166, pvalue=0.016408921036284635)\n"
     ]
    }
   ],
   "source": [
    "print(\"w2v\",stats.spearmanr(stats.rankdata(min_df_selection_lgtbq.w2v_sim),stats.rankdata(min_df_selection_lgtbq.reddit_collocation_mean_pmi_fatma)))\n",
    "print(\"glove_wk\",stats.spearmanr(stats.rankdata(min_df_selection_lgtbq.glove_wk_sim),stats.rankdata(min_df_selection_lgtbq.reddit_collocation_mean_pmi_fatma)))\n",
    "print(\"glove_twitter\",stats.spearmanr(stats.rankdata(min_df_selection_lgtbq.glove_twitter_sim),stats.rankdata(min_df_selection_lgtbq.reddit_collocation_mean_pmi_fatma)))\n",
    "print(\"ud\",stats.spearmanr(stats.rankdata(min_df_selection_lgtbq.ud_sim), stats.rankdata(min_df_selection_lgtbq.reddit_collocation_mean_pmi_fatma)))\n",
    "print(\"chan\",stats.spearmanr(stats.rankdata(min_df_selection_lgtbq.chan_sim),stats.rankdata(min_df_selection_lgtbq.reddit_collocation_mean_pmi_fatma)))"
   ]
  },
  {
   "cell_type": "markdown",
   "id": "43f3977a",
   "metadata": {},
   "source": [
    "## correlation women and mean collocation pmi (Fatma)"
   ]
  },
  {
   "cell_type": "code",
   "execution_count": 14,
   "id": "4d1cf774",
   "metadata": {},
   "outputs": [
    {
     "name": "stdout",
     "output_type": "stream",
     "text": [
      "w2v (0.5798880115779963, 0.17235046086264394)\n",
      "glove_wk (0.39106591844451094, 0.38568462193246)\n",
      "glove_twitter (0.16212985031080399, 0.7283630030355638)\n",
      "ud (0.29824266376429526, 0.5159017354677778)\n",
      "chan (-0.5768759075459775, 0.1751264348706131)\n"
     ]
    }
   ],
   "source": [
    "print(\"w2v\",stats.pearsonr(min_df_selection_woman.w2v_sim,NormalizeData(min_df_selection_woman.reddit_collocation_mean_pmi_fatma)))\n",
    "print(\"glove_wk\",stats.pearsonr(min_df_selection_woman.glove_wk_sim,NormalizeData(min_df_selection_woman.reddit_collocation_mean_pmi_fatma)))\n",
    "print(\"glove_twitter\",stats.pearsonr(min_df_selection_woman.glove_twitter_sim,NormalizeData(min_df_selection_woman.reddit_collocation_mean_pmi_fatma)))\n",
    "print(\"ud\",stats.pearsonr(min_df_selection_woman.ud_sim,NormalizeData(min_df_selection_woman.reddit_collocation_mean_pmi_fatma)))\n",
    "print(\"chan\",stats.pearsonr(min_df_selection_woman.chan_sim,NormalizeData(min_df_selection_woman.reddit_collocation_mean_pmi_fatma)))"
   ]
  },
  {
   "cell_type": "code",
   "execution_count": 15,
   "id": "1ed9858c",
   "metadata": {},
   "outputs": [
    {
     "name": "stdout",
     "output_type": "stream",
     "text": [
      "w2v SpearmanrResult(correlation=0.5, pvalue=0.25316999510032273)\n",
      "glove_wk SpearmanrResult(correlation=0.42857142857142866, pvalue=0.337368311085824)\n",
      "glove_twitter SpearmanrResult(correlation=-0.07142857142857144, pvalue=0.8790481931481541)\n",
      "ud SpearmanrResult(correlation=0.3214285714285715, pvalue=0.4820720382996776)\n",
      "chan SpearmanrResult(correlation=-0.7500000000000002, pvalue=0.05218140045705776)\n"
     ]
    }
   ],
   "source": [
    "print(\"w2v\",stats.spearmanr(stats.rankdata(min_df_selection_woman.w2v_sim),stats.rankdata(min_df_selection_woman.reddit_collocation_mean_pmi_fatma)))\n",
    "print(\"glove_wk\",stats.spearmanr(stats.rankdata(min_df_selection_woman.glove_wk_sim),stats.rankdata(min_df_selection_woman.reddit_collocation_mean_pmi_fatma)))\n",
    "print(\"glove_twitter\",stats.spearmanr(min_df_selection_woman.glove_twitter_sim,stats.rankdata(min_df_selection_woman.reddit_collocation_mean_pmi_fatma)))\n",
    "print(\"ud\",stats.spearmanr(stats.rankdata(min_df_selection_woman.ud_sim),stats.rankdata(min_df_selection_woman.reddit_collocation_mean_pmi_fatma)))\n",
    "print(\"chan\",stats.spearmanr(stats.rankdata(min_df_selection_woman.chan_sim),stats.rankdata(min_df_selection_woman.reddit_collocation_mean_pmi_fatma)))"
   ]
  },
  {
   "cell_type": "markdown",
   "id": "fa7d1304",
   "metadata": {},
   "source": [
    "## corrleation ethnicity and mean collocation pmi (Fatma)"
   ]
  },
  {
   "cell_type": "code",
   "execution_count": 16,
   "id": "1a1bb76f",
   "metadata": {},
   "outputs": [
    {
     "name": "stdout",
     "output_type": "stream",
     "text": [
      "w2v (0.01475737990453857, 0.9723339297490927)\n",
      "glove_wk (-0.3951468118814933, 0.33261037049269904)\n",
      "glove_twitter (0.10349551237331685, 0.807327178521256)\n",
      "ud (0.05149966620195295, 0.9036087252971474)\n",
      "chan (0.3931740363624079, 0.3352492497012899)\n"
     ]
    }
   ],
   "source": [
    "print(\"w2v\",stats.pearsonr(min_df_selection_eth.w2v_sim,NormalizeData(min_df_selection_eth.reddit_collocation_mean_pmi_fatma)))\n",
    "print(\"glove_wk\",stats.pearsonr(min_df_selection_eth.glove_wk_sim,NormalizeData(min_df_selection_eth.reddit_collocation_mean_pmi_fatma)))\n",
    "print(\"glove_twitter\",stats.pearsonr(min_df_selection_eth.glove_twitter_sim,NormalizeData(min_df_selection_eth.reddit_collocation_mean_pmi_fatma)))\n",
    "print(\"ud\",stats.pearsonr(min_df_selection_eth.ud_sim,NormalizeData(min_df_selection_eth.reddit_collocation_mean_pmi_fatma)))\n",
    "print(\"chan\",stats.pearsonr(min_df_selection_eth.chan_sim,NormalizeData(min_df_selection_eth.reddit_collocation_mean_pmi_fatma)))"
   ]
  },
  {
   "cell_type": "code",
   "execution_count": 17,
   "id": "e6e5a015",
   "metadata": {},
   "outputs": [
    {
     "name": "stdout",
     "output_type": "stream",
     "text": [
      "w2v SpearmanrResult(correlation=0.14285714285714288, pvalue=0.735764859879812)\n",
      "glove_wk SpearmanrResult(correlation=-0.4761904761904762, pvalue=0.23293553465009798)\n",
      "glove_twitter SpearmanrResult(correlation=-0.14285714285714288, pvalue=0.735764859879812)\n",
      "ud SpearmanrResult(correlation=-0.04761904761904763, pvalue=0.9108491685195836)\n",
      "chan SpearmanrResult(correlation=0.04761904761904763, pvalue=0.9108491685195836)\n"
     ]
    }
   ],
   "source": [
    "print(\"w2v\",stats.spearmanr(stats.rankdata(min_df_selection_eth.w2v_sim),stats.rankdata(min_df_selection_eth.reddit_collocation_mean_pmi_fatma)))\n",
    "print(\"glove_wk\",stats.spearmanr(stats.rankdata(min_df_selection_eth.glove_wk_sim),stats.rankdata(min_df_selection_eth.reddit_collocation_mean_pmi_fatma)))\n",
    "print(\"glove_twitter\",stats.spearmanr(stats.rankdata(min_df_selection_eth.glove_twitter_sim),stats.rankdata(min_df_selection_eth.reddit_collocation_mean_pmi_fatma)))\n",
    "print(\"ud\",stats.spearmanr(stats.rankdata(min_df_selection_eth.ud_sim),stats.rankdata(min_df_selection_eth.reddit_collocation_mean_pmi_fatma)))\n",
    "print(\"chan\",stats.spearmanr(stats.rankdata(min_df_selection_eth.chan_sim),stats.rankdata(min_df_selection_eth.reddit_collocation_mean_pmi_fatma)))"
   ]
  },
  {
   "cell_type": "markdown",
   "id": "3a67f385",
   "metadata": {},
   "source": [
    "# correalting mean collocation to pmi (sweat words)"
   ]
  },
  {
   "cell_type": "code",
   "execution_count": 18,
   "id": "48d7d36a",
   "metadata": {},
   "outputs": [],
   "source": [
    "all_df = pd.concat([min_df[['ethnicity_word', 'w2v_sim', 'glove_wk_sim',\n",
    "       'glove_twitter_sim', 'ud_sim', 'chan_sim',\n",
    "       'reddit_100K_collocation_mean_pmi_swear_words','reddit_1M_collocation_mean_pmi_swear_words']], maj_df[['ethnicity_word', 'w2v_sim', 'glove_wk_sim',\n",
    "       'glove_twitter_sim', 'ud_sim', 'chan_sim',\n",
    "       'reddit_100K_collocation_mean_pmi_swear_words','reddit_1M_collocation_mean_pmi_swear_words']]])"
   ]
  },
  {
   "cell_type": "markdown",
   "id": "064db32c",
   "metadata": {},
   "source": [
    "## reddit 100K"
   ]
  },
  {
   "cell_type": "code",
   "execution_count": 19,
   "id": "7caf62db",
   "metadata": {},
   "outputs": [
    {
     "name": "stdout",
     "output_type": "stream",
     "text": [
      "w2v SpearmanrResult(correlation=0.1617353595832893, pvalue=0.2828928081090202)\n",
      "glove_wk SpearmanrResult(correlation=-0.19025836371081933, pvalue=0.20533833442542082)\n",
      "glove_twitter SpearmanrResult(correlation=0.23555080606233186, pvalue=0.11505304510223557)\n",
      "ud SpearmanrResult(correlation=0.05992437315984337, pvalue=0.6924018858380135)\n",
      "chan SpearmanrResult(correlation=0.2007621745344804, pvalue=0.18095194832169098)\n"
     ]
    }
   ],
   "source": [
    "print(\"w2v\",stats.spearmanr(stats.rankdata(all_df.w2v_sim),stats.rankdata(all_df.reddit_100K_collocation_mean_pmi_swear_words)))\n",
    "print(\"glove_wk\",stats.spearmanr(stats.rankdata(all_df.glove_wk_sim),stats.rankdata(all_df.reddit_100K_collocation_mean_pmi_swear_words)))\n",
    "print(\"glove_twitter\",stats.spearmanr(stats.rankdata(all_df.glove_twitter_sim),stats.rankdata(all_df.reddit_100K_collocation_mean_pmi_swear_words)))\n",
    "print(\"ud\",stats.spearmanr(stats.rankdata(all_df.ud_sim),stats.rankdata(all_df.reddit_100K_collocation_mean_pmi_swear_words)))\n",
    "print(\"chan\",stats.spearmanr(stats.rankdata(all_df.chan_sim),stats.rankdata(all_df.reddit_100K_collocation_mean_pmi_swear_words)))"
   ]
  },
  {
   "cell_type": "code",
   "execution_count": 20,
   "id": "f31b4472",
   "metadata": {},
   "outputs": [
    {
     "name": "stdout",
     "output_type": "stream",
     "text": [
      "w2v (0.1478028383186903, 0.48076873549084065)\n",
      "glove_wk (-0.22083954007788373, 0.2887650129467459)\n",
      "glove_twitter (0.36214552884817464, 0.07524422573160573)\n",
      "ud (0.20480330842206906, 0.3260739959216846)\n",
      "chan (0.4234111599149626, 0.03494139393470243)\n"
     ]
    }
   ],
   "source": [
    "print(\"w2v\",stats.pearsonr(min_df.w2v_sim,NormalizeData(min_df.reddit_100K_collocation_mean_pmi_swear_words)))\n",
    "print(\"glove_wk\",stats.pearsonr(min_df.glove_wk_sim,NormalizeData(min_df.reddit_100K_collocation_mean_pmi_swear_words)))\n",
    "print(\"glove_twitter\",stats.pearsonr(min_df.glove_twitter_sim,NormalizeData(min_df.reddit_100K_collocation_mean_pmi_swear_words)))\n",
    "print(\"ud\",stats.pearsonr(min_df.ud_sim,NormalizeData(min_df.reddit_100K_collocation_mean_pmi_swear_words)))\n",
    "print(\"chan\",stats.pearsonr(min_df.chan_sim,NormalizeData(min_df.reddit_100K_collocation_mean_pmi_swear_words)))"
   ]
  },
  {
   "cell_type": "code",
   "execution_count": 21,
   "id": "bb1160b3",
   "metadata": {},
   "outputs": [
    {
     "name": "stdout",
     "output_type": "stream",
     "text": [
      "w2v SpearmanrResult(correlation=0.21790998432366526, pvalue=0.2953715564578068)\n",
      "glove_wk SpearmanrResult(correlation=-0.2407293015509617, pvalue=0.24638695934234478)\n",
      "glove_twitter SpearmanrResult(correlation=0.2706746266227292, pvalue=0.19064466255205717)\n",
      "ud SpearmanrResult(correlation=0.15241960771712568, pvalue=0.4670128446193025)\n",
      "chan SpearmanrResult(correlation=0.3359452578255015, pvalue=0.10062105249255364)\n"
     ]
    }
   ],
   "source": [
    "print(\"w2v\",stats.spearmanr(stats.rankdata(min_df.w2v_sim),stats.rankdata(min_df.reddit_100K_collocation_mean_pmi_swear_words)))\n",
    "print(\"glove_wk\",stats.spearmanr(stats.rankdata(min_df.glove_wk_sim),stats.rankdata(min_df.reddit_100K_collocation_mean_pmi_swear_words)))\n",
    "print(\"glove_twitter\",stats.spearmanr(stats.rankdata(min_df.glove_twitter_sim),stats.rankdata(min_df.reddit_100K_collocation_mean_pmi_swear_words)))\n",
    "print(\"ud\",stats.spearmanr(stats.rankdata(min_df.ud_sim),stats.rankdata(min_df.reddit_100K_collocation_mean_pmi_swear_words)))\n",
    "print(\"chan\",stats.spearmanr(stats.rankdata(min_df.chan_sim),stats.rankdata(min_df.reddit_100K_collocation_mean_pmi_swear_words)))"
   ]
  },
  {
   "cell_type": "code",
   "execution_count": 22,
   "id": "df7dbff3",
   "metadata": {},
   "outputs": [
    {
     "name": "stdout",
     "output_type": "stream",
     "text": [
      "w2v (-0.003252028681861412, 0.9888378862389063)\n",
      "glove_wk (-0.1952055877705245, 0.3964544559111931)\n",
      "glove_twitter (0.3659394450474315, 0.10280086482291899)\n",
      "ud (0.06896146985013021, 0.7664483472519339)\n",
      "chan (0.03541710944294088, 0.8788631399502418)\n"
     ]
    }
   ],
   "source": [
    "print(\"w2v\",stats.pearsonr(maj_df.w2v_sim,NormalizeData(maj_df.reddit_100K_collocation_mean_pmi_swear_words)))\n",
    "print(\"glove_wk\",stats.pearsonr(maj_df.glove_wk_sim,NormalizeData(maj_df.reddit_100K_collocation_mean_pmi_swear_words)))\n",
    "print(\"glove_twitter\",stats.pearsonr(maj_df.glove_twitter_sim,NormalizeData(maj_df.reddit_100K_collocation_mean_pmi_swear_words)))\n",
    "print(\"ud\",stats.pearsonr(maj_df.ud_sim,NormalizeData(maj_df.reddit_100K_collocation_mean_pmi_swear_words)))\n",
    "print(\"chan\",stats.pearsonr(maj_df.chan_sim,NormalizeData(maj_df.reddit_100K_collocation_mean_pmi_swear_words)))"
   ]
  },
  {
   "cell_type": "code",
   "execution_count": 53,
   "id": "a9fb2339",
   "metadata": {},
   "outputs": [
    {
     "name": "stdout",
     "output_type": "stream",
     "text": [
      "w2v SpearmanrResult(correlation=0.11371831237692019, pvalue=0.6235607804222055)\n",
      "glove_wk SpearmanrResult(correlation=-0.11762839761624122, pvalue=0.6115917056895753)\n",
      "glove_twitter SpearmanrResult(correlation=0.2635360558316671, pvalue=0.24838825285995048)\n",
      "ud SpearmanrResult(correlation=-0.08273659527854271, pvalue=0.7214342840182013)\n",
      "chan SpearmanrResult(correlation=-0.08599394154935149, pvalue=0.7109122944320734)\n"
     ]
    }
   ],
   "source": [
    "print(\"w2v\",stats.spearmanr(stats.rankdata(maj_df.w2v_sim),stats.rankdata(maj_df.reddit_100K_collocation_mean_pmi_swear_words)))\n",
    "print(\"glove_wk\",stats.spearmanr(stats.rankdata(maj_df.glove_wk_sim),stats.rankdata(maj_df.reddit_100K_collocation_mean_pmi_swear_words)))\n",
    "print(\"glove_twitter\",stats.spearmanr(stats.rankdata(maj_df.glove_twitter_sim),stats.rankdata(maj_df.reddit_100K_collocation_mean_pmi_swear_words)))\n",
    "print(\"ud\",stats.spearmanr(stats.rankdata(maj_df.ud_sim),stats.rankdata(maj_df.reddit_100K_collocation_mean_pmi_swear_words)))\n",
    "print(\"chan\",stats.spearmanr(stats.rankdata(maj_df.chan_sim),stats.rankdata(maj_df.reddit_100K_collocation_mean_pmi_swear_words)))"
   ]
  },
  {
   "cell_type": "markdown",
   "id": "02f3ce28",
   "metadata": {},
   "source": [
    "## 1M"
   ]
  },
  {
   "cell_type": "code",
   "execution_count": 23,
   "id": "408a43f7",
   "metadata": {},
   "outputs": [
    {
     "name": "stdout",
     "output_type": "stream",
     "text": [
      "w2v SpearmanrResult(correlation=0.5483343112928718, pvalue=7.978436143775899e-05)\n",
      "glove_wk SpearmanrResult(correlation=-0.01851909080988853, pvalue=0.9027752186151632)\n",
      "glove_twitter SpearmanrResult(correlation=-0.20371113659405227, pvalue=0.174495138782442)\n",
      "ud SpearmanrResult(correlation=-0.08886696014024777, pvalue=0.5570011351672747)\n",
      "chan SpearmanrResult(correlation=-0.30924467865470945, pvalue=0.03650631996453987)\n"
     ]
    }
   ],
   "source": [
    "print(\"w2v\",stats.spearmanr(stats.rankdata(all_df.w2v_sim),stats.rankdata(all_df.reddit_1M_collocation_mean_pmi_swear_words)))\n",
    "print(\"glove_wk\",stats.spearmanr(stats.rankdata(all_df.glove_wk_sim),stats.rankdata(all_df.reddit_1M_collocation_mean_pmi_swear_words)))\n",
    "print(\"glove_twitter\",stats.spearmanr(stats.rankdata(all_df.glove_twitter_sim),stats.rankdata(all_df.reddit_1M_collocation_mean_pmi_swear_words)))\n",
    "print(\"ud\",stats.spearmanr(stats.rankdata(all_df.ud_sim),stats.rankdata(all_df.reddit_1M_collocation_mean_pmi_swear_words)))\n",
    "print(\"chan\",stats.spearmanr(stats.rankdata(all_df.chan_sim),stats.rankdata(all_df.reddit_1M_collocation_mean_pmi_swear_words)))"
   ]
  },
  {
   "cell_type": "code",
   "execution_count": 24,
   "id": "f04811d3",
   "metadata": {},
   "outputs": [
    {
     "name": "stdout",
     "output_type": "stream",
     "text": [
      "w2v SpearmanrResult(correlation=0.547242942425172, pvalue=0.0046377359490403286)\n",
      "glove_wk SpearmanrResult(correlation=0.22798261310450235, pvalue=0.27304915776866906)\n",
      "glove_twitter SpearmanrResult(correlation=0.024667603108517584, pvalue=0.906827549456646)\n",
      "ud SpearmanrResult(correlation=0.1579964397158207, pvalue=0.4506721406893325)\n",
      "chan SpearmanrResult(correlation=-0.14874786763489461, pvalue=0.4779363317279608)\n"
     ]
    }
   ],
   "source": [
    "print(\"w2v\",stats.spearmanr(stats.rankdata(min_df.w2v_sim),stats.rankdata(min_df.reddit_1M_collocation_mean_pmi_swear_words)))\n",
    "print(\"glove_wk\",stats.spearmanr(stats.rankdata(min_df.glove_wk_sim),stats.rankdata(min_df.reddit_1M_collocation_mean_pmi_swear_words)))\n",
    "print(\"glove_twitter\",stats.spearmanr(stats.rankdata(min_df.glove_twitter_sim),stats.rankdata(min_df.reddit_1M_collocation_mean_pmi_swear_words)))\n",
    "print(\"ud\",stats.spearmanr(stats.rankdata(min_df.ud_sim),stats.rankdata(min_df.reddit_1M_collocation_mean_pmi_swear_words)))\n",
    "print(\"chan\",stats.spearmanr(stats.rankdata(min_df.chan_sim),stats.rankdata(min_df.reddit_1M_collocation_mean_pmi_swear_words)))"
   ]
  },
  {
   "cell_type": "code",
   "execution_count": 25,
   "id": "2ccc1a3c",
   "metadata": {},
   "outputs": [
    {
     "name": "stdout",
     "output_type": "stream",
     "text": [
      "w2v (0.6850760358005021, 0.0006108103789097606)\n",
      "glove_wk (-0.417554060491218, 0.05964747081409998)\n",
      "glove_twitter (-0.3500467485614547, 0.11980782677009671)\n",
      "ud (-0.2280654929478208, 0.3200691095874306)\n",
      "chan (-0.38251958680032283, 0.08701141103954736)\n"
     ]
    }
   ],
   "source": [
    "print(\"w2v\",stats.pearsonr(maj_df.w2v_sim,NormalizeData(maj_df.reddit_1M_collocation_mean_pmi_swear_words)))\n",
    "print(\"glove_wk\",stats.pearsonr(maj_df.glove_wk_sim,NormalizeData(maj_df.reddit_1M_collocation_mean_pmi_swear_words)))\n",
    "print(\"glove_twitter\",stats.pearsonr(maj_df.glove_twitter_sim,NormalizeData(maj_df.reddit_1M_collocation_mean_pmi_swear_words)))\n",
    "print(\"ud\",stats.pearsonr(maj_df.ud_sim,NormalizeData(maj_df.reddit_1M_collocation_mean_pmi_swear_words)))\n",
    "print(\"chan\",stats.pearsonr(maj_df.chan_sim,NormalizeData(maj_df.reddit_1M_collocation_mean_pmi_swear_words)))"
   ]
  },
  {
   "cell_type": "code",
   "execution_count": 54,
   "id": "07fd620c",
   "metadata": {},
   "outputs": [
    {
     "name": "stdout",
     "output_type": "stream",
     "text": [
      "w2v SpearmanrResult(correlation=0.6183826243648574, pvalue=0.0028079964398499725)\n",
      "glove_wk SpearmanrResult(correlation=-0.3598571154392133, pvalue=0.10908731720253527)\n",
      "glove_twitter SpearmanrResult(correlation=-0.4317298838865485, pvalue=0.05066698092331309)\n",
      "ud SpearmanrResult(correlation=-0.33246753246753247, pvalue=0.14087699566933984)\n",
      "chan SpearmanrResult(correlation=-0.448051948051948, pvalue=0.04165618995678563)\n"
     ]
    }
   ],
   "source": [
    "print(\"w2v\",stats.spearmanr(stats.rankdata(maj_df.w2v_sim),stats.rankdata(maj_df.reddit_1M_collocation_mean_pmi_swear_words)))\n",
    "print(\"glove_wk\",stats.spearmanr(stats.rankdata(maj_df.glove_wk_sim),stats.rankdata(maj_df.reddit_1M_collocation_mean_pmi_swear_words)))\n",
    "print(\"glove_twitter\",stats.spearmanr(stats.rankdata(maj_df.glove_twitter_sim),stats.rankdata(maj_df.reddit_1M_collocation_mean_pmi_swear_words)))\n",
    "print(\"ud\",stats.spearmanr(stats.rankdata(maj_df.ud_sim),stats.rankdata(maj_df.reddit_1M_collocation_mean_pmi_swear_words)))\n",
    "print(\"chan\",stats.spearmanr(stats.rankdata(maj_df.chan_sim),stats.rankdata(maj_df.reddit_1M_collocation_mean_pmi_swear_words)))"
   ]
  },
  {
   "cell_type": "code",
   "execution_count": 27,
   "id": "f8f92755",
   "metadata": {},
   "outputs": [],
   "source": [
    "straight_words = [\"hetrosexual\", \"cisgender\"]\n",
    "men_words = [\"man\",\"male\",\"boy\",\"son\",\"father\",\"husband\",\"brother\"]\n",
    "white_eth_words = [\"white\",\"caucasian\", \"european american\",\"european\", \"norwegian\", \"canadian\", \"german\", \"australian\", \"english\",\n",
    "                                \"french\", \"american\", \"swedish\", \"dutch\"]\n",
    "\n",
    "majority_df_selection = maj_df#[~maj_df.ethnicity_word.isin(['hetrosexual','cisgender','norwegian','german'])]"
   ]
  },
  {
   "cell_type": "code",
   "execution_count": 28,
   "id": "917c5270",
   "metadata": {},
   "outputs": [],
   "source": [
    "min_df_selection_lgtbq = min_df_selection[min_df_selection.ethnicity_word.isin(lgtb_words)]\n",
    "min_df_selection_woman = min_df_selection[min_df_selection.ethnicity_word.isin(women_words)]\n",
    "min_df_selection_eth = min_df_selection[min_df_selection.ethnicity_word.isin(eth_words)]"
   ]
  },
  {
   "cell_type": "code",
   "execution_count": 29,
   "id": "8a6f5155",
   "metadata": {},
   "outputs": [],
   "source": [
    "majority_df_selection_straight = majority_df_selection[majority_df_selection.ethnicity_word.isin(straight_words)]\n",
    "majority_selection_men = majority_df_selection[majority_df_selection.ethnicity_word.isin(men_words)]\n",
    "majority_selection_white_eth = majority_df_selection[majority_df_selection.ethnicity_word.isin(white_eth_words)]"
   ]
  },
  {
   "cell_type": "code",
   "execution_count": 30,
   "id": "f333f61e",
   "metadata": {},
   "outputs": [
    {
     "data": {
      "text/html": [
       "<div>\n",
       "<style scoped>\n",
       "    .dataframe tbody tr th:only-of-type {\n",
       "        vertical-align: middle;\n",
       "    }\n",
       "\n",
       "    .dataframe tbody tr th {\n",
       "        vertical-align: top;\n",
       "    }\n",
       "\n",
       "    .dataframe thead th {\n",
       "        text-align: right;\n",
       "    }\n",
       "</style>\n",
       "<table border=\"1\" class=\"dataframe\">\n",
       "  <thead>\n",
       "    <tr style=\"text-align: right;\">\n",
       "      <th></th>\n",
       "      <th>Unnamed: 0</th>\n",
       "      <th>ethnicity_word</th>\n",
       "      <th>w2v_sim</th>\n",
       "      <th>glove_wk_sim</th>\n",
       "      <th>glove_twitter_sim</th>\n",
       "      <th>ud_sim</th>\n",
       "      <th>chan_sim</th>\n",
       "      <th>reddit_100K_collocation_mean_pmi_swear_words</th>\n",
       "      <th>reddit_1M_collocation_mean_pmi_swear_words</th>\n",
       "    </tr>\n",
       "  </thead>\n",
       "  <tbody>\n",
       "    <tr>\n",
       "      <th>0</th>\n",
       "      <td>0</td>\n",
       "      <td>hetrosexual</td>\n",
       "      <td>1.0</td>\n",
       "      <td>0.0</td>\n",
       "      <td>0.0</td>\n",
       "      <td>0.285626</td>\n",
       "      <td>0.300248</td>\n",
       "      <td>0.0</td>\n",
       "      <td>11.70916</td>\n",
       "    </tr>\n",
       "    <tr>\n",
       "      <th>1</th>\n",
       "      <td>1</td>\n",
       "      <td>cisgender</td>\n",
       "      <td>0.0</td>\n",
       "      <td>1.0</td>\n",
       "      <td>0.0</td>\n",
       "      <td>0.085993</td>\n",
       "      <td>0.548878</td>\n",
       "      <td>0.0</td>\n",
       "      <td>0.00000</td>\n",
       "    </tr>\n",
       "  </tbody>\n",
       "</table>\n",
       "</div>"
      ],
      "text/plain": [
       "   Unnamed: 0 ethnicity_word  w2v_sim  glove_wk_sim  glove_twitter_sim  \\\n",
       "0           0    hetrosexual      1.0           0.0                0.0   \n",
       "1           1      cisgender      0.0           1.0                0.0   \n",
       "\n",
       "     ud_sim  chan_sim  reddit_100K_collocation_mean_pmi_swear_words  \\\n",
       "0  0.285626  0.300248                                           0.0   \n",
       "1  0.085993  0.548878                                           0.0   \n",
       "\n",
       "   reddit_1M_collocation_mean_pmi_swear_words  \n",
       "0                                    11.70916  \n",
       "1                                     0.00000  "
      ]
     },
     "execution_count": 30,
     "metadata": {},
     "output_type": "execute_result"
    }
   ],
   "source": [
    "majority_df_selection_straight"
   ]
  },
  {
   "cell_type": "markdown",
   "id": "cb19a298",
   "metadata": {},
   "source": [
    "## correlating lgtbq to mean collocation pmi (swear words)"
   ]
  },
  {
   "cell_type": "markdown",
   "id": "c5d1e102",
   "metadata": {},
   "source": [
    "### 100K"
   ]
  },
  {
   "cell_type": "code",
   "execution_count": 31,
   "id": "811ebf8f",
   "metadata": {},
   "outputs": [
    {
     "name": "stdout",
     "output_type": "stream",
     "text": [
      "w2v (0.43435339367714526, 0.2097295424033232)\n",
      "glove_wk (0.20420922297072347, 0.5714591942932469)\n",
      "glove_twitter (0.46217683026144624, 0.17867715480033586)\n",
      "ud (0.3502621621754791, 0.32108425919580935)\n",
      "chan (0.7462691083092782, 0.013174509393125028)\n"
     ]
    }
   ],
   "source": [
    "print(\"w2v\",stats.pearsonr(min_df_selection_lgtbq.w2v_sim,NormalizeData(min_df_selection_lgtbq.reddit_100K_collocation_mean_pmi_swear_words)))\n",
    "print(\"glove_wk\",stats.pearsonr(min_df_selection_lgtbq.glove_wk_sim, NormalizeData(min_df_selection_lgtbq.reddit_100K_collocation_mean_pmi_swear_words)))\n",
    "print(\"glove_twitter\",stats.pearsonr(min_df_selection_lgtbq.glove_twitter_sim, NormalizeData(min_df_selection_lgtbq.reddit_100K_collocation_mean_pmi_swear_words)))\n",
    "print(\"ud\",stats.pearsonr(min_df_selection_lgtbq.ud_sim, NormalizeData(min_df_selection_lgtbq.reddit_100K_collocation_mean_pmi_swear_words)))\n",
    "print(\"chan\",stats.pearsonr(min_df_selection_lgtbq.chan_sim, NormalizeData(min_df_selection_lgtbq.reddit_100K_collocation_mean_pmi_swear_words)))"
   ]
  },
  {
   "cell_type": "code",
   "execution_count": 32,
   "id": "422f0e72",
   "metadata": {},
   "outputs": [
    {
     "name": "stdout",
     "output_type": "stream",
     "text": [
      "w2v SpearmanrResult(correlation=0.2788447874269649, pvalue=0.4352834359172336)\n",
      "glove_wk SpearmanrResult(correlation=0.12283655492869483, pvalue=0.7353129025554093)\n",
      "glove_twitter SpearmanrResult(correlation=0.3372076499116785, pvalue=0.3406671899283503)\n",
      "ud SpearmanrResult(correlation=0.2392080280190373, pvalue=0.5056601006121273)\n",
      "chan SpearmanrResult(correlation=0.7822749024406355, pvalue=0.007488468496491263)\n"
     ]
    }
   ],
   "source": [
    "print(\"w2v\",stats.spearmanr(stats.rankdata(min_df_selection_lgtbq.w2v_sim),stats.rankdata(min_df_selection_lgtbq.reddit_100K_collocation_mean_pmi_swear_words)))\n",
    "print(\"glove_wk\",stats.spearmanr(stats.rankdata(min_df_selection_lgtbq.glove_wk_sim), stats.rankdata(min_df_selection_lgtbq.reddit_100K_collocation_mean_pmi_swear_words)))\n",
    "print(\"glove_twitter\",stats.spearmanr(stats.rankdata(min_df_selection_lgtbq.glove_twitter_sim), stats.rankdata(min_df_selection_lgtbq.reddit_100K_collocation_mean_pmi_swear_words)))\n",
    "print(\"ud\",stats.spearmanr(stats.rankdata(min_df_selection_lgtbq.ud_sim), stats.rankdata(min_df_selection_lgtbq.reddit_100K_collocation_mean_pmi_swear_words)))\n",
    "print(\"chan\",stats.spearmanr(stats.rankdata(min_df_selection_lgtbq.chan_sim), stats.rankdata(min_df_selection_lgtbq.reddit_100K_collocation_mean_pmi_swear_words)))"
   ]
  },
  {
   "cell_type": "markdown",
   "id": "266a73b3",
   "metadata": {},
   "source": [
    "### 1M"
   ]
  },
  {
   "cell_type": "code",
   "execution_count": 33,
   "id": "838e09fc",
   "metadata": {},
   "outputs": [
    {
     "name": "stdout",
     "output_type": "stream",
     "text": [
      "w2v (0.3640487946910939, 0.3010578495677986)\n",
      "glove_wk (0.3766475572272159, 0.28335419796571554)\n",
      "glove_twitter (0.37260779977623903, 0.2889682166985008)\n",
      "ud (0.23010810506892432, 0.5224552976023417)\n",
      "chan (0.02395424099358226, 0.9476301548367934)\n"
     ]
    }
   ],
   "source": [
    "print(\"w2v\",stats.pearsonr(min_df_selection_lgtbq.w2v_sim,NormalizeData(min_df_selection_lgtbq.reddit_1M_collocation_mean_pmi_swear_words)))\n",
    "print(\"glove_wk\",stats.pearsonr(min_df_selection_lgtbq.glove_wk_sim, NormalizeData(min_df_selection_lgtbq.reddit_1M_collocation_mean_pmi_swear_words)))\n",
    "print(\"glove_twitter\",stats.pearsonr(min_df_selection_lgtbq.glove_twitter_sim, NormalizeData(min_df_selection_lgtbq.reddit_1M_collocation_mean_pmi_swear_words)))\n",
    "print(\"ud\",stats.pearsonr(min_df_selection_lgtbq.ud_sim, NormalizeData(min_df_selection_lgtbq.reddit_1M_collocation_mean_pmi_swear_words)))\n",
    "print(\"chan\",stats.pearsonr(min_df_selection_lgtbq.chan_sim, NormalizeData(min_df_selection_lgtbq.reddit_1M_collocation_mean_pmi_swear_words)))"
   ]
  },
  {
   "cell_type": "code",
   "execution_count": 34,
   "id": "62844e7d",
   "metadata": {},
   "outputs": [
    {
     "name": "stdout",
     "output_type": "stream",
     "text": [
      "w2v SpearmanrResult(correlation=0.473866342664784, pvalue=0.16649774820685187)\n",
      "glove_wk SpearmanrResult(correlation=0.1533857797849622, pvalue=0.67225190847117)\n",
      "glove_twitter SpearmanrResult(correlation=0.4861745593573757, pvalue=0.15422591743228606)\n",
      "ud SpearmanrResult(correlation=0.2024692293161501, pvalue=0.5748125526418609)\n",
      "chan SpearmanrResult(correlation=0.042948018339789416, pvalue=0.9062243097567702)\n"
     ]
    }
   ],
   "source": [
    "print(\"w2v\",stats.spearmanr(stats.rankdata(min_df_selection_lgtbq.w2v_sim),stats.rankdata(min_df_selection_lgtbq.reddit_1M_collocation_mean_pmi_swear_words)))\n",
    "print(\"glove_wk\",stats.spearmanr(stats.rankdata(min_df_selection_lgtbq.glove_wk_sim), stats.rankdata(min_df_selection_lgtbq.reddit_1M_collocation_mean_pmi_swear_words)))\n",
    "print(\"glove_twitter\",stats.spearmanr(stats.rankdata(min_df_selection_lgtbq.glove_twitter_sim), stats.rankdata(min_df_selection_lgtbq.reddit_1M_collocation_mean_pmi_swear_words)))\n",
    "print(\"ud\",stats.spearmanr(stats.rankdata(min_df_selection_lgtbq.ud_sim), stats.rankdata(min_df_selection_lgtbq.reddit_1M_collocation_mean_pmi_swear_words)))\n",
    "print(\"chan\",stats.spearmanr(stats.rankdata(min_df_selection_lgtbq.chan_sim), stats.rankdata(min_df_selection_lgtbq.reddit_1M_collocation_mean_pmi_swear_words)))"
   ]
  },
  {
   "cell_type": "markdown",
   "id": "7e20a80c",
   "metadata": {},
   "source": [
    "## correlating straight to mean collocation pmi (swear words)"
   ]
  },
  {
   "cell_type": "code",
   "execution_count": 35,
   "id": "fe72a226",
   "metadata": {},
   "outputs": [
    {
     "name": "stdout",
     "output_type": "stream",
     "text": [
      "w2v (1.0, 1.0)\n",
      "glove_wk (-1.0, 1.0)\n",
      "glove_twitter (nan, nan)\n",
      "ud (1.0, 1.0)\n",
      "chan (-1.0, 1.0)\n"
     ]
    },
    {
     "name": "stderr",
     "output_type": "stream",
     "text": [
      "/home/fatma/.local/lib/python3.6/site-packages/scipy/stats/stats.py:3845: PearsonRConstantInputWarning: An input array is constant; the correlation coefficent is not defined.\n",
      "  warnings.warn(PearsonRConstantInputWarning())\n"
     ]
    }
   ],
   "source": [
    "print(\"w2v\",stats.pearsonr(majority_df_selection_straight.w2v_sim,NormalizeData(majority_df_selection_straight.reddit_1M_collocation_mean_pmi_swear_words)))\n",
    "print(\"glove_wk\",stats.pearsonr(majority_df_selection_straight.glove_wk_sim, NormalizeData(majority_df_selection_straight.reddit_1M_collocation_mean_pmi_swear_words)))\n",
    "print(\"glove_twitter\",stats.pearsonr(majority_df_selection_straight.glove_twitter_sim, NormalizeData(majority_df_selection_straight.reddit_1M_collocation_mean_pmi_swear_words)))\n",
    "print(\"ud\",stats.pearsonr(majority_df_selection_straight.ud_sim, NormalizeData(majority_df_selection_straight.reddit_1M_collocation_mean_pmi_swear_words)))\n",
    "print(\"chan\",stats.pearsonr(majority_df_selection_straight.chan_sim, NormalizeData(majority_df_selection_straight.reddit_1M_collocation_mean_pmi_swear_words)))"
   ]
  },
  {
   "cell_type": "code",
   "execution_count": 36,
   "id": "5f0b1d51",
   "metadata": {},
   "outputs": [
    {
     "name": "stderr",
     "output_type": "stream",
     "text": [
      "/home/fatma/.local/lib/python3.6/site-packages/scipy/stats/stats.py:4196: SpearmanRConstantInputWarning: An input array is constant; the correlation coefficent is not defined.\n",
      "  warnings.warn(SpearmanRConstantInputWarning())\n"
     ]
    },
    {
     "name": "stdout",
     "output_type": "stream",
     "text": [
      "w2v SpearmanrResult(correlation=0.9999999999999999, pvalue=nan)\n",
      "glove_wk SpearmanrResult(correlation=-0.9999999999999999, pvalue=nan)\n",
      "glove_twitter SpearmanrResult(correlation=nan, pvalue=nan)\n",
      "ud SpearmanrResult(correlation=0.9999999999999999, pvalue=nan)\n",
      "chan SpearmanrResult(correlation=-0.9999999999999999, pvalue=nan)\n"
     ]
    }
   ],
   "source": [
    "print(\"w2v\",stats.spearmanr(stats.rankdata(majority_df_selection_straight.w2v_sim),stats.rankdata(majority_df_selection_straight.reddit_1M_collocation_mean_pmi_swear_words)))\n",
    "print(\"glove_wk\",stats.spearmanr(stats.rankdata(majority_df_selection_straight.glove_wk_sim), stats.rankdata(majority_df_selection_straight.reddit_1M_collocation_mean_pmi_swear_words)))\n",
    "print(\"glove_twitter\",stats.spearmanr(stats.rankdata(majority_df_selection_straight.glove_twitter_sim), stats.rankdata(majority_df_selection_straight.reddit_1M_collocation_mean_pmi_swear_words)))\n",
    "print(\"ud\",stats.spearmanr(stats.rankdata(majority_df_selection_straight.ud_sim), stats.rankdata(majority_df_selection_straight.reddit_1M_collocation_mean_pmi_swear_words)))\n",
    "print(\"chan\",stats.spearmanr(stats.rankdata(majority_df_selection_straight.chan_sim), stats.rankdata(majority_df_selection_straight.reddit_1M_collocation_mean_pmi_swear_words)))"
   ]
  },
  {
   "cell_type": "markdown",
   "id": "05034d5a",
   "metadata": {},
   "source": [
    "## correlating women to mean collocation pmi (swear words)"
   ]
  },
  {
   "cell_type": "markdown",
   "id": "9487ce9a",
   "metadata": {},
   "source": [
    "### 100K"
   ]
  },
  {
   "cell_type": "code",
   "execution_count": 37,
   "id": "2d5ae924",
   "metadata": {},
   "outputs": [
    {
     "name": "stdout",
     "output_type": "stream",
     "text": [
      "w2v (-0.7027713182613643, 0.0782129422437468)\n",
      "glove_wk (-0.6430597351472155, 0.11923785161519196)\n",
      "glove_twitter (-0.5848018852518723, 0.16786868397836302)\n",
      "ud (-0.07326309694023801, 0.8759582258696404)\n",
      "chan (0.020314176691434867, 0.9655206977985734)\n"
     ]
    }
   ],
   "source": [
    "print(\"w2v\",stats.pearsonr(min_df_selection_woman.w2v_sim,NormalizeData(min_df_selection_woman.reddit_100K_collocation_mean_pmi_swear_words)))\n",
    "print(\"glove_wk\",stats.pearsonr(min_df_selection_woman.glove_wk_sim,NormalizeData(min_df_selection_woman.reddit_100K_collocation_mean_pmi_swear_words)))\n",
    "print(\"glove_twitter\",stats.pearsonr(min_df_selection_woman.glove_twitter_sim,NormalizeData(min_df_selection_woman.reddit_100K_collocation_mean_pmi_swear_words)))\n",
    "print(\"ud\",stats.pearsonr(min_df_selection_woman.ud_sim,NormalizeData(min_df_selection_woman.reddit_100K_collocation_mean_pmi_swear_words)))\n",
    "print(\"chan\",stats.pearsonr(min_df_selection_woman.chan_sim,NormalizeData(min_df_selection_woman.reddit_100K_collocation_mean_pmi_swear_words)))"
   ]
  },
  {
   "cell_type": "code",
   "execution_count": 38,
   "id": "e94e4d67",
   "metadata": {},
   "outputs": [
    {
     "name": "stdout",
     "output_type": "stream",
     "text": [
      "w2v SpearmanrResult(correlation=-0.5357142857142858, pvalue=0.21521745567801273)\n",
      "glove_wk SpearmanrResult(correlation=-0.642857142857143, pvalue=0.11939237342741094)\n",
      "glove_twitter SpearmanrResult(correlation=-0.4642857142857144, pvalue=0.2939341076002517)\n",
      "ud SpearmanrResult(correlation=0.14285714285714288, pvalue=0.7599453002180929)\n",
      "chan SpearmanrResult(correlation=-0.10714285714285716, pvalue=0.8191508555699912)\n"
     ]
    }
   ],
   "source": [
    "print(\"w2v\",stats.spearmanr(stats.rankdata(min_df_selection_woman.w2v_sim),stats.rankdata(min_df_selection_woman.reddit_100K_collocation_mean_pmi_swear_words)))\n",
    "print(\"glove_wk\",stats.spearmanr(stats.rankdata(min_df_selection_woman.glove_wk_sim),stats.rankdata(min_df_selection_woman.reddit_100K_collocation_mean_pmi_swear_words)))\n",
    "print(\"glove_twitter\",stats.spearmanr(stats.rankdata(min_df_selection_woman.glove_twitter_sim),stats.rankdata(min_df_selection_woman.reddit_100K_collocation_mean_pmi_swear_words)))\n",
    "print(\"ud\",stats.spearmanr(stats.rankdata(min_df_selection_woman.ud_sim),stats.rankdata(min_df_selection_woman.reddit_100K_collocation_mean_pmi_swear_words)))\n",
    "print(\"chan\",stats.spearmanr(stats.rankdata(min_df_selection_woman.chan_sim),stats.rankdata(min_df_selection_woman.reddit_100K_collocation_mean_pmi_swear_words)))"
   ]
  },
  {
   "cell_type": "markdown",
   "id": "8d908f72",
   "metadata": {},
   "source": [
    "### 1M"
   ]
  },
  {
   "cell_type": "code",
   "execution_count": 39,
   "id": "a9b32dca",
   "metadata": {},
   "outputs": [
    {
     "name": "stdout",
     "output_type": "stream",
     "text": [
      "w2v (0.2742090258536111, 0.5517901553593462)\n",
      "glove_wk (0.12361025679688396, 0.7917522098331394)\n",
      "glove_twitter (-0.4196393079498669, 0.3486306098057154)\n",
      "ud (0.3480261275836719, 0.4442938487608984)\n",
      "chan (-0.7234034562131224, 0.06614346510659644)\n"
     ]
    }
   ],
   "source": [
    "print(\"w2v\",stats.pearsonr(min_df_selection_woman.w2v_sim,NormalizeData(min_df_selection_woman.reddit_1M_collocation_mean_pmi_swear_words)))\n",
    "print(\"glove_wk\",stats.pearsonr(min_df_selection_woman.glove_wk_sim,NormalizeData(min_df_selection_woman.reddit_1M_collocation_mean_pmi_swear_words)))\n",
    "print(\"glove_twitter\",stats.pearsonr(min_df_selection_woman.glove_twitter_sim,NormalizeData(min_df_selection_woman.reddit_1M_collocation_mean_pmi_swear_words)))\n",
    "print(\"ud\",stats.pearsonr(min_df_selection_woman.ud_sim,NormalizeData(min_df_selection_woman.reddit_1M_collocation_mean_pmi_swear_words)))\n",
    "print(\"chan\",stats.pearsonr(min_df_selection_woman.chan_sim,NormalizeData(min_df_selection_woman.reddit_1M_collocation_mean_pmi_swear_words)))"
   ]
  },
  {
   "cell_type": "code",
   "execution_count": 40,
   "id": "110c9fc5",
   "metadata": {},
   "outputs": [
    {
     "name": "stdout",
     "output_type": "stream",
     "text": [
      "w2v SpearmanrResult(correlation=0.5, pvalue=0.25316999510032273)\n",
      "glove_wk SpearmanrResult(correlation=0.39285714285714296, pvalue=0.38331687042697266)\n",
      "glove_twitter SpearmanrResult(correlation=-0.39285714285714296, pvalue=0.38331687042697266)\n",
      "ud SpearmanrResult(correlation=0.6071428571428572, pvalue=0.1482311614811614)\n",
      "chan SpearmanrResult(correlation=-0.642857142857143, pvalue=0.11939237342741094)\n"
     ]
    }
   ],
   "source": [
    "print(\"w2v\",stats.spearmanr(stats.rankdata(min_df_selection_woman.w2v_sim),stats.rankdata(min_df_selection_woman.reddit_1M_collocation_mean_pmi_swear_words)))\n",
    "print(\"glove_wk\",stats.spearmanr(stats.rankdata(min_df_selection_woman.glove_wk_sim),stats.rankdata(min_df_selection_woman.reddit_1M_collocation_mean_pmi_swear_words)))\n",
    "print(\"glove_twitter\",stats.spearmanr(stats.rankdata(min_df_selection_woman.glove_twitter_sim),stats.rankdata(min_df_selection_woman.reddit_1M_collocation_mean_pmi_swear_words)))\n",
    "print(\"ud\",stats.spearmanr(stats.rankdata(min_df_selection_woman.ud_sim),stats.rankdata(min_df_selection_woman.reddit_1M_collocation_mean_pmi_swear_words)))\n",
    "print(\"chan\",stats.spearmanr(stats.rankdata(min_df_selection_woman.chan_sim),stats.rankdata(min_df_selection_woman.reddit_1M_collocation_mean_pmi_swear_words)))"
   ]
  },
  {
   "cell_type": "markdown",
   "id": "89ca0553",
   "metadata": {},
   "source": [
    "## correlating men to mean collocation pmi (swear words)"
   ]
  },
  {
   "cell_type": "markdown",
   "id": "92b9e6b4",
   "metadata": {},
   "source": [
    "### 100K"
   ]
  },
  {
   "cell_type": "code",
   "execution_count": 41,
   "id": "602f6e5e",
   "metadata": {},
   "outputs": [
    {
     "name": "stdout",
     "output_type": "stream",
     "text": [
      "w2v (0.075461261372409, 0.8722574185588958)\n",
      "glove_wk (-0.0495552756911637, 0.9159756102580578)\n",
      "glove_twitter (-0.44712412705606275, 0.3144813268234882)\n",
      "ud (-0.20425697445317245, 0.6604306121047513)\n",
      "chan (0.016581760260221217, 0.9718537993256698)\n"
     ]
    }
   ],
   "source": [
    "print(\"w2v\",stats.pearsonr(majority_selection_men.w2v_sim,NormalizeData(majority_selection_men.reddit_100K_collocation_mean_pmi_swear_words)))\n",
    "print(\"glove_wk\",stats.pearsonr(majority_selection_men.glove_wk_sim,NormalizeData(majority_selection_men.reddit_100K_collocation_mean_pmi_swear_words)))\n",
    "print(\"glove_twitter\",stats.pearsonr(majority_selection_men.glove_twitter_sim,NormalizeData(majority_selection_men.reddit_100K_collocation_mean_pmi_swear_words)))\n",
    "print(\"ud\",stats.pearsonr(majority_selection_men.ud_sim,NormalizeData(majority_selection_men.reddit_100K_collocation_mean_pmi_swear_words)))\n",
    "print(\"chan\",stats.pearsonr(majority_selection_men.chan_sim,NormalizeData(majority_selection_men.reddit_100K_collocation_mean_pmi_swear_words)))"
   ]
  },
  {
   "cell_type": "code",
   "execution_count": 42,
   "id": "7b0b6f05",
   "metadata": {},
   "outputs": [
    {
     "name": "stdout",
     "output_type": "stream",
     "text": [
      "w2v (0.21428571428571427, 0.6445115810207203)\n",
      "glove_wk (-0.03571428571428572, 0.9394082054712853)\n",
      "glove_twitter (-0.49999999999999994, 0.2531699951003227)\n",
      "ud (-0.35714285714285726, 0.431611352038328)\n",
      "chan (-0.10714285714285714, 0.8191508555699916)\n"
     ]
    }
   ],
   "source": [
    "print(\"w2v\",stats.pearsonr(stats.rankdata(majority_selection_men.w2v_sim),stats.rankdata(majority_selection_men.reddit_100K_collocation_mean_pmi_swear_words)))\n",
    "print(\"glove_wk\",stats.pearsonr(stats.rankdata(majority_selection_men.glove_wk_sim),stats.rankdata(majority_selection_men.reddit_100K_collocation_mean_pmi_swear_words)))\n",
    "print(\"glove_twitter\",stats.pearsonr(stats.rankdata(majority_selection_men.glove_twitter_sim),stats.rankdata(majority_selection_men.reddit_100K_collocation_mean_pmi_swear_words)))\n",
    "print(\"ud\",stats.pearsonr(stats.rankdata(majority_selection_men.ud_sim),stats.rankdata(majority_selection_men.reddit_100K_collocation_mean_pmi_swear_words)))\n",
    "print(\"chan\",stats.pearsonr(stats.rankdata(majority_selection_men.chan_sim),stats.rankdata(majority_selection_men.reddit_100K_collocation_mean_pmi_swear_words)))"
   ]
  },
  {
   "cell_type": "markdown",
   "id": "36c77919",
   "metadata": {},
   "source": [
    "### 1M"
   ]
  },
  {
   "cell_type": "code",
   "execution_count": 43,
   "id": "c291a4f1",
   "metadata": {},
   "outputs": [
    {
     "name": "stdout",
     "output_type": "stream",
     "text": [
      "w2v (0.3090230767838344, 0.5000721931063921)\n",
      "glove_wk (0.3146419223361484, 0.4918903137240345)\n",
      "glove_twitter (-0.5024120485344978, 0.25051675309421034)\n",
      "ud (0.29591800497949355, 0.5193374465311705)\n",
      "chan (0.037880154455874955, 0.9357387800853035)\n"
     ]
    }
   ],
   "source": [
    "print(\"w2v\",stats.pearsonr(majority_selection_men.w2v_sim,NormalizeData(majority_selection_men.reddit_1M_collocation_mean_pmi_swear_words)))\n",
    "print(\"glove_wk\",stats.pearsonr(majority_selection_men.glove_wk_sim,NormalizeData(majority_selection_men.reddit_1M_collocation_mean_pmi_swear_words)))\n",
    "print(\"glove_twitter\",stats.pearsonr(majority_selection_men.glove_twitter_sim,NormalizeData(majority_selection_men.reddit_1M_collocation_mean_pmi_swear_words)))\n",
    "print(\"ud\",stats.pearsonr(majority_selection_men.ud_sim,NormalizeData(majority_selection_men.reddit_1M_collocation_mean_pmi_swear_words)))\n",
    "print(\"chan\",stats.pearsonr(majority_selection_men.chan_sim,NormalizeData(majority_selection_men.reddit_1M_collocation_mean_pmi_swear_words)))"
   ]
  },
  {
   "cell_type": "code",
   "execution_count": 44,
   "id": "fe5212bb",
   "metadata": {},
   "outputs": [
    {
     "name": "stdout",
     "output_type": "stream",
     "text": [
      "w2v (0.3928571428571429, 0.38331687042697277)\n",
      "glove_wk (0.14285714285714285, 0.759945300218093)\n",
      "glove_twitter (-0.2857142857142857, 0.5345092286010407)\n",
      "ud (0.24999999999999992, 0.5887244480896834)\n",
      "chan (-0.0714285714285715, 0.8790481931481553)\n"
     ]
    }
   ],
   "source": [
    "print(\"w2v\",stats.pearsonr(stats.rankdata(majority_selection_men.w2v_sim),stats.rankdata(majority_selection_men.reddit_1M_collocation_mean_pmi_swear_words)))\n",
    "print(\"glove_wk\",stats.pearsonr(stats.rankdata(majority_selection_men.glove_wk_sim),stats.rankdata(majority_selection_men.reddit_1M_collocation_mean_pmi_swear_words)))\n",
    "print(\"glove_twitter\",stats.pearsonr(stats.rankdata(majority_selection_men.glove_twitter_sim),stats.rankdata(majority_selection_men.reddit_1M_collocation_mean_pmi_swear_words)))\n",
    "print(\"ud\",stats.pearsonr(stats.rankdata(majority_selection_men.ud_sim),stats.rankdata(majority_selection_men.reddit_1M_collocation_mean_pmi_swear_words)))\n",
    "print(\"chan\",stats.pearsonr(stats.rankdata(majority_selection_men.chan_sim),stats.rankdata(majority_selection_men.reddit_1M_collocation_mean_pmi_swear_words)))"
   ]
  },
  {
   "cell_type": "markdown",
   "id": "72d81487",
   "metadata": {},
   "source": [
    "## correlating ethnicties to mean collocation pmi (swear words)"
   ]
  },
  {
   "cell_type": "markdown",
   "id": "824bd6b6",
   "metadata": {},
   "source": [
    "### 100K"
   ]
  },
  {
   "cell_type": "code",
   "execution_count": 45,
   "id": "171b42dd",
   "metadata": {},
   "outputs": [
    {
     "name": "stdout",
     "output_type": "stream",
     "text": [
      "w2v (0.30711218754323827, 0.45934785669933914)\n",
      "glove_wk (-0.5649558191474994, 0.14452501396933043)\n",
      "glove_twitter (0.15643719440727322, 0.7114306564642343)\n",
      "ud (0.3581183536975938, 0.38372953866455656)\n",
      "chan (0.37773071327219004, 0.3562397660904938)\n"
     ]
    }
   ],
   "source": [
    "print(\"w2v\",stats.pearsonr(min_df_selection_eth.w2v_sim,NormalizeData(min_df_selection_eth.reddit_100K_collocation_mean_pmi_swear_words)))\n",
    "print(\"glove_wk\",stats.pearsonr(min_df_selection_eth.glove_wk_sim,NormalizeData(min_df_selection_eth.reddit_100K_collocation_mean_pmi_swear_words)))\n",
    "print(\"glove_twitter\",stats.pearsonr(min_df_selection_eth.glove_twitter_sim,NormalizeData(min_df_selection_eth.reddit_100K_collocation_mean_pmi_swear_words)))\n",
    "print(\"ud\",stats.pearsonr(min_df_selection_eth.ud_sim,NormalizeData(min_df_selection_eth.reddit_100K_collocation_mean_pmi_swear_words)))\n",
    "print(\"chan\",stats.pearsonr(min_df_selection_eth.chan_sim,NormalizeData(min_df_selection_eth.reddit_100K_collocation_mean_pmi_swear_words)))"
   ]
  },
  {
   "cell_type": "code",
   "execution_count": 46,
   "id": "f154083f",
   "metadata": {},
   "outputs": [
    {
     "name": "stdout",
     "output_type": "stream",
     "text": [
      "w2v (0.3712641411931102, 0.3652020580197783)\n",
      "glove_wk (-0.6826469692905575, 0.06209269238231726)\n",
      "glove_twitter (0.03592878785739773, 0.9326914749090881)\n",
      "ud (0.22754898976351914, 0.587844564501082)\n",
      "chan (0.2634777776209169, 0.5283664705769089)\n"
     ]
    }
   ],
   "source": [
    "print(\"w2v\",stats.pearsonr(stats.rankdata(min_df_selection_eth.w2v_sim),stats.rankdata(min_df_selection_eth.reddit_100K_collocation_mean_pmi_swear_words)))\n",
    "print(\"glove_wk\",stats.pearsonr(stats.rankdata(min_df_selection_eth.glove_wk_sim),stats.rankdata(min_df_selection_eth.reddit_100K_collocation_mean_pmi_swear_words)))\n",
    "print(\"glove_twitter\",stats.pearsonr(stats.rankdata(min_df_selection_eth.glove_twitter_sim),stats.rankdata(min_df_selection_eth.reddit_100K_collocation_mean_pmi_swear_words)))\n",
    "print(\"ud\",stats.pearsonr(stats.rankdata(min_df_selection_eth.ud_sim),stats.rankdata(min_df_selection_eth.reddit_100K_collocation_mean_pmi_swear_words)))\n",
    "print(\"chan\",stats.pearsonr(stats.rankdata(min_df_selection_eth.chan_sim),stats.rankdata(min_df_selection_eth.reddit_100K_collocation_mean_pmi_swear_words)))"
   ]
  },
  {
   "cell_type": "markdown",
   "id": "67ec593a",
   "metadata": {},
   "source": [
    "### 1M"
   ]
  },
  {
   "cell_type": "code",
   "execution_count": 47,
   "id": "fc03b74c",
   "metadata": {},
   "outputs": [
    {
     "name": "stdout",
     "output_type": "stream",
     "text": [
      "w2v (0.615813220320911, 0.1040550640846894)\n",
      "glove_wk (-0.39845236362571795, 0.32821053843413056)\n",
      "glove_twitter (-0.17009295819525955, 0.6871736428670181)\n",
      "ud (0.1265294450861375, 0.7652772520497344)\n",
      "chan (0.06567214356075873, 0.8772183137726549)\n"
     ]
    }
   ],
   "source": [
    "print(\"w2v\",stats.pearsonr(min_df_selection_eth.w2v_sim,NormalizeData(min_df_selection_eth.reddit_1M_collocation_mean_pmi_swear_words)))\n",
    "print(\"glove_wk\",stats.pearsonr(min_df_selection_eth.glove_wk_sim,NormalizeData(min_df_selection_eth.reddit_1M_collocation_mean_pmi_swear_words)))\n",
    "print(\"glove_twitter\",stats.pearsonr(min_df_selection_eth.glove_twitter_sim,NormalizeData(min_df_selection_eth.reddit_1M_collocation_mean_pmi_swear_words)))\n",
    "print(\"ud\",stats.pearsonr(min_df_selection_eth.ud_sim,NormalizeData(min_df_selection_eth.reddit_1M_collocation_mean_pmi_swear_words)))\n",
    "print(\"chan\",stats.pearsonr(min_df_selection_eth.chan_sim,NormalizeData(min_df_selection_eth.reddit_1M_collocation_mean_pmi_swear_words)))"
   ]
  },
  {
   "cell_type": "code",
   "execution_count": 48,
   "id": "db5f1a84",
   "metadata": {},
   "outputs": [
    {
     "name": "stdout",
     "output_type": "stream",
     "text": [
      "w2v (0.5476190476190476, 0.1600256425388966)\n",
      "glove_wk (-0.19047619047619047, 0.6514014957024815)\n",
      "glove_twitter (-0.4999999999999999, 0.2070312500000001)\n",
      "ud (-0.14285714285714285, 0.735764859879812)\n",
      "chan (0.0238095238095238, 0.9553740118158802)\n"
     ]
    }
   ],
   "source": [
    "print(\"w2v\",stats.pearsonr(stats.rankdata(min_df_selection_eth.w2v_sim),stats.rankdata(min_df_selection_eth.reddit_1M_collocation_mean_pmi_swear_words)))\n",
    "print(\"glove_wk\",stats.pearsonr(stats.rankdata(min_df_selection_eth.glove_wk_sim),stats.rankdata(min_df_selection_eth.reddit_1M_collocation_mean_pmi_swear_words)))\n",
    "print(\"glove_twitter\",stats.pearsonr(stats.rankdata(min_df_selection_eth.glove_twitter_sim),stats.rankdata(min_df_selection_eth.reddit_1M_collocation_mean_pmi_swear_words)))\n",
    "print(\"ud\",stats.pearsonr(stats.rankdata(min_df_selection_eth.ud_sim),stats.rankdata(min_df_selection_eth.reddit_1M_collocation_mean_pmi_swear_words)))\n",
    "print(\"chan\",stats.pearsonr(stats.rankdata(min_df_selection_eth.chan_sim),stats.rankdata(min_df_selection_eth.reddit_1M_collocation_mean_pmi_swear_words)))"
   ]
  },
  {
   "cell_type": "markdown",
   "id": "54b16a5b",
   "metadata": {},
   "source": [
    "## correlating white ethnicities to mean collocation pmi (swear words)"
   ]
  },
  {
   "cell_type": "markdown",
   "id": "100baa4b",
   "metadata": {},
   "source": [
    "### 100K"
   ]
  },
  {
   "cell_type": "code",
   "execution_count": 49,
   "id": "80db1c53",
   "metadata": {},
   "outputs": [
    {
     "name": "stdout",
     "output_type": "stream",
     "text": [
      "w2v (0.032770972349641894, 0.9194680538143047)\n",
      "glove_wk (-0.030380256499006743, 0.9253280165959786)\n",
      "glove_twitter (0.4672729300566446, 0.12560750533106033)\n",
      "ud (0.08764541242478172, 0.7865040590840275)\n",
      "chan (0.33441679442367567, 0.2880297413260052)\n"
     ]
    }
   ],
   "source": [
    "print(\"w2v\",stats.pearsonr(majority_selection_white_eth.w2v_sim,NormalizeData(majority_selection_white_eth.reddit_100K_collocation_mean_pmi_swear_words)))\n",
    "print(\"glove_wk\",stats.pearsonr(majority_selection_white_eth.glove_wk_sim,NormalizeData(majority_selection_white_eth.reddit_100K_collocation_mean_pmi_swear_words)))\n",
    "print(\"glove_twitter\",stats.pearsonr(majority_selection_white_eth.glove_twitter_sim,NormalizeData(majority_selection_white_eth.reddit_100K_collocation_mean_pmi_swear_words)))\n",
    "print(\"ud\",stats.pearsonr(majority_selection_white_eth.ud_sim,NormalizeData(majority_selection_white_eth.reddit_100K_collocation_mean_pmi_swear_words)))\n",
    "print(\"chan\",stats.pearsonr(majority_selection_white_eth.chan_sim,NormalizeData(majority_selection_white_eth.reddit_100K_collocation_mean_pmi_swear_words)))"
   ]
  },
  {
   "cell_type": "code",
   "execution_count": 50,
   "id": "bd4a0a04",
   "metadata": {},
   "outputs": [
    {
     "name": "stdout",
     "output_type": "stream",
     "text": [
      "w2v (0.0070052646833834884, 0.9827616094034651)\n",
      "glove_wk (-0.08756580854229327, 0.7866940142086333)\n",
      "glove_twitter (0.48336326315345896, 0.11138981647538271)\n",
      "ud (0.11908949961751887, 0.7123998368899922)\n",
      "chan (0.28721585201872185, 0.3653744519387001)\n"
     ]
    }
   ],
   "source": [
    "print(\"w2v\",stats.pearsonr(stats.rankdata(majority_selection_white_eth.w2v_sim),stats.rankdata(majority_selection_white_eth.reddit_100K_collocation_mean_pmi_swear_words)))\n",
    "print(\"glove_wk\",stats.pearsonr(stats.rankdata(majority_selection_white_eth.glove_wk_sim),stats.rankdata(majority_selection_white_eth.reddit_100K_collocation_mean_pmi_swear_words)))\n",
    "print(\"glove_twitter\",stats.pearsonr(stats.rankdata(majority_selection_white_eth.glove_twitter_sim),stats.rankdata(majority_selection_white_eth.reddit_100K_collocation_mean_pmi_swear_words)))\n",
    "print(\"ud\",stats.pearsonr(stats.rankdata(majority_selection_white_eth.ud_sim),stats.rankdata(majority_selection_white_eth.reddit_100K_collocation_mean_pmi_swear_words)))\n",
    "print(\"chan\",stats.pearsonr(stats.rankdata(majority_selection_white_eth.chan_sim),stats.rankdata(majority_selection_white_eth.reddit_100K_collocation_mean_pmi_swear_words)))"
   ]
  },
  {
   "cell_type": "markdown",
   "id": "bb9d7669",
   "metadata": {},
   "source": [
    "### 1M"
   ]
  },
  {
   "cell_type": "code",
   "execution_count": 51,
   "id": "f58059c3",
   "metadata": {},
   "outputs": [
    {
     "name": "stdout",
     "output_type": "stream",
     "text": [
      "w2v (0.013349124704968015, 0.9671564426150634)\n",
      "glove_wk (0.478918763561503, 0.11520494754729162)\n",
      "glove_twitter (-0.5518853298060494, 0.0628345027641623)\n",
      "ud (-0.7203308483184889, 0.008233024692162064)\n",
      "chan (0.12813673645049123, 0.691465639870823)\n"
     ]
    }
   ],
   "source": [
    "print(\"w2v\",stats.pearsonr(majority_selection_white_eth.w2v_sim,NormalizeData(majority_selection_white_eth.reddit_1M_collocation_mean_pmi_swear_words)))\n",
    "print(\"glove_wk\",stats.pearsonr(majority_selection_white_eth.glove_wk_sim,NormalizeData(majority_selection_white_eth.reddit_1M_collocation_mean_pmi_swear_words)))\n",
    "print(\"glove_twitter\",stats.pearsonr(majority_selection_white_eth.glove_twitter_sim,NormalizeData(majority_selection_white_eth.reddit_1M_collocation_mean_pmi_swear_words)))\n",
    "print(\"ud\",stats.pearsonr(majority_selection_white_eth.ud_sim,NormalizeData(majority_selection_white_eth.reddit_1M_collocation_mean_pmi_swear_words)))\n",
    "print(\"chan\",stats.pearsonr(majority_selection_white_eth.chan_sim,NormalizeData(majority_selection_white_eth.reddit_1M_collocation_mean_pmi_swear_words)))"
   ]
  },
  {
   "cell_type": "code",
   "execution_count": 52,
   "id": "db1077b6",
   "metadata": {},
   "outputs": [
    {
     "name": "stdout",
     "output_type": "stream",
     "text": [
      "w2v (-0.09790209790209786, 0.7621216559962991)\n",
      "glove_wk (0.3636363636363637, 0.24526500073077726)\n",
      "glove_twitter (-0.45454545454545453, 0.13765791634772942)\n",
      "ud (-0.6713286713286714, 0.016831456186893422)\n",
      "chan (0.0769230769230769, 0.8121826980280592)\n"
     ]
    }
   ],
   "source": [
    "print(\"w2v\",stats.pearsonr(stats.rankdata(majority_selection_white_eth.w2v_sim),stats.rankdata(majority_selection_white_eth.reddit_1M_collocation_mean_pmi_swear_words)))\n",
    "print(\"glove_wk\",stats.pearsonr(stats.rankdata(majority_selection_white_eth.glove_wk_sim),stats.rankdata(majority_selection_white_eth.reddit_1M_collocation_mean_pmi_swear_words)))\n",
    "print(\"glove_twitter\",stats.pearsonr(stats.rankdata(majority_selection_white_eth.glove_twitter_sim),stats.rankdata(majority_selection_white_eth.reddit_1M_collocation_mean_pmi_swear_words)))\n",
    "print(\"ud\",stats.pearsonr(stats.rankdata(majority_selection_white_eth.ud_sim),stats.rankdata(majority_selection_white_eth.reddit_1M_collocation_mean_pmi_swear_words)))\n",
    "print(\"chan\",stats.pearsonr(stats.rankdata(majority_selection_white_eth.chan_sim),stats.rankdata(majority_selection_white_eth.reddit_1M_collocation_mean_pmi_swear_words)))"
   ]
  },
  {
   "cell_type": "code",
   "execution_count": null,
   "id": "1f69904a",
   "metadata": {},
   "outputs": [],
   "source": []
  },
  {
   "cell_type": "code",
   "execution_count": null,
   "id": "7c981ade",
   "metadata": {},
   "outputs": [],
   "source": []
  },
  {
   "cell_type": "code",
   "execution_count": null,
   "id": "e39173fb",
   "metadata": {},
   "outputs": [],
   "source": []
  }
 ],
 "metadata": {
  "kernelspec": {
   "display_name": "Python 3",
   "language": "python",
   "name": "python3"
  },
  "language_info": {
   "codemirror_mode": {
    "name": "ipython",
    "version": 3
   },
   "file_extension": ".py",
   "mimetype": "text/x-python",
   "name": "python",
   "nbconvert_exporter": "python",
   "pygments_lexer": "ipython3",
   "version": "3.6.9"
  }
 },
 "nbformat": 4,
 "nbformat_minor": 5
}
