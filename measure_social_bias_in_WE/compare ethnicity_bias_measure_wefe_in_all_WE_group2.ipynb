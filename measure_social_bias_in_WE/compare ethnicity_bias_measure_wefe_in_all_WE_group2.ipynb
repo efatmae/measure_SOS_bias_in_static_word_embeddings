{
 "cells": [
  {
   "cell_type": "code",
   "execution_count": 1,
   "metadata": {},
   "outputs": [
    {
     "name": "stdout",
     "output_type": "stream",
     "text": [
      "3.8.10 (default, Mar 15 2022, 12:22:08) \n",
      "[GCC 9.4.0]\n"
     ]
    }
   ],
   "source": [
    "import sys\n",
    "print(sys.version)"
   ]
  },
  {
   "cell_type": "code",
   "execution_count": 2,
   "metadata": {},
   "outputs": [],
   "source": [
    "from wefe.query import Query\n",
    "from wefe.metrics import WEAT, RNSB, RND, MAC, ECT\n",
    "from wefe.word_embedding_model import WordEmbeddingModel\n",
    "from wefe.datasets.datasets import load_weat, fetch_eds, fetch_debias_multiclass, fetch_debiaswe, load_bingliu\n",
    "from wefe.utils import run_queries, plot_queries_results, create_ranking, plot_ranking, plot_ranking_correlations\n",
    "from plotly.subplots import make_subplots\n",
    "import gensim"
   ]
  },
  {
   "cell_type": "code",
   "execution_count": 3,
   "metadata": {},
   "outputs": [],
   "source": [
    "data_folder = \"../../Data/\"\n",
    "embeddings_folder = data_folder+\"/word embeddings/\""
   ]
  },
  {
   "cell_type": "code",
   "execution_count": 4,
   "metadata": {},
   "outputs": [],
   "source": [
    "def get_google_news_embeddings(filename,binary=False):\n",
    "    w2v_model = gensim.models.KeyedVectors.load_word2vec_format(filename, binary=binary, no_header=True)\n",
    "    return w2v_model"
   ]
  },
  {
   "cell_type": "code",
   "execution_count": 5,
   "metadata": {},
   "outputs": [
    {
     "name": "stderr",
     "output_type": "stream",
     "text": [
      "INFO:gensim.models.keyedvectors:loading projection weights from ../../Data//word embeddings/debiased_word_embedding/glove_2_wv_U-DeSIP.txt\n",
      "DEBUG:smart_open.smart_open_lib:{'uri': '../../Data//word embeddings/debiased_word_embedding/glove_2_wv_U-DeSIP.txt', 'mode': 'rb', 'buffering': -1, 'encoding': None, 'errors': None, 'newline': None, 'closefd': True, 'opener': None, 'ignore_ext': False, 'compression': None, 'transport_params': None}\n",
      "DEBUG:gensim.utils:starting a new internal lifecycle event log for KeyedVectors\n",
      "INFO:gensim.utils:KeyedVectors lifecycle event {'msg': 'loaded (322636, 300) matrix of type float32 from ../../Data//word embeddings/debiased_word_embedding/glove_2_wv_U-DeSIP.txt', 'binary': False, 'encoding': 'utf8', 'datetime': '2022-04-19T14:22:27.611369', 'gensim': '4.0.1', 'python': '3.8.10 (default, Mar 15 2022, 12:22:08) \\n[GCC 9.4.0]', 'platform': 'Linux-5.4.0-107-generic-x86_64-with-glibc2.29', 'event': 'load_word2vec_format'}\n"
     ]
    }
   ],
   "source": [
    "u_desip_model = gensim.models.KeyedVectors.load_word2vec_format(embeddings_folder+\"debiased_word_embedding/glove_2_wv_U-DeSIP.txt\", binary=False)"
   ]
  },
  {
   "cell_type": "code",
   "execution_count": 6,
   "metadata": {},
   "outputs": [
    {
     "name": "stderr",
     "output_type": "stream",
     "text": [
      "INFO:gensim.models.keyedvectors:loading projection weights from ../../Data//word embeddings//SSWE/embedding-results/sswe-u.bin\n",
      "DEBUG:smart_open.smart_open_lib:{'uri': '../../Data//word embeddings//SSWE/embedding-results/sswe-u.bin', 'mode': 'rb', 'buffering': -1, 'encoding': None, 'errors': None, 'newline': None, 'closefd': True, 'opener': None, 'ignore_ext': False, 'compression': None, 'transport_params': None}\n",
      "DEBUG:gensim.utils:starting a new internal lifecycle event log for KeyedVectors\n",
      "INFO:gensim.utils:KeyedVectors lifecycle event {'msg': 'loaded (137052, 50) matrix of type float32 from ../../Data//word embeddings//SSWE/embedding-results/sswe-u.bin', 'binary': True, 'encoding': 'utf8', 'datetime': '2022-04-19T14:22:28.080966', 'gensim': '4.0.1', 'python': '3.8.10 (default, Mar 15 2022, 12:22:08) \\n[GCC 9.4.0]', 'platform': 'Linux-5.4.0-107-generic-x86_64-with-glibc2.29', 'event': 'load_word2vec_format'}\n"
     ]
    }
   ],
   "source": [
    "sswe_model = gensim.models.KeyedVectors.load_word2vec_format(embeddings_folder+\"/SSWE/embedding-results/sswe-u.bin\",binary=True)"
   ]
  },
  {
   "cell_type": "code",
   "execution_count": 7,
   "metadata": {},
   "outputs": [
    {
     "name": "stderr",
     "output_type": "stream",
     "text": [
      "INFO:gensim.models.keyedvectors:loading projection weights from ../../Data//word embeddings/debiased_word_embedding/glove_2_wv_P-DeSIP.txt\n",
      "DEBUG:smart_open.smart_open_lib:{'uri': '../../Data//word embeddings/debiased_word_embedding/glove_2_wv_P-DeSIP.txt', 'mode': 'rb', 'buffering': -1, 'encoding': None, 'errors': None, 'newline': None, 'closefd': True, 'opener': None, 'ignore_ext': False, 'compression': None, 'transport_params': None}\n",
      "DEBUG:gensim.utils:starting a new internal lifecycle event log for KeyedVectors\n",
      "INFO:gensim.utils:KeyedVectors lifecycle event {'msg': 'loaded (322636, 300) matrix of type float32 from ../../Data//word embeddings/debiased_word_embedding/glove_2_wv_P-DeSIP.txt', 'binary': False, 'encoding': 'utf8', 'datetime': '2022-04-19T14:22:50.830869', 'gensim': '4.0.1', 'python': '3.8.10 (default, Mar 15 2022, 12:22:08) \\n[GCC 9.4.0]', 'platform': 'Linux-5.4.0-107-generic-x86_64-with-glibc2.29', 'event': 'load_word2vec_format'}\n"
     ]
    }
   ],
   "source": [
    "p_desip_model = gensim.models.KeyedVectors.load_word2vec_format(embeddings_folder+\"debiased_word_embedding/glove_2_wv_P-DeSIP.txt\", binary=False)"
   ]
  },
  {
   "cell_type": "code",
   "execution_count": 8,
   "metadata": {},
   "outputs": [
    {
     "name": "stderr",
     "output_type": "stream",
     "text": [
      "INFO:gensim.models.keyedvectors:loading projection weights from ../../Data//word embeddings//Glove/glove.42B.300d.txt\n",
      "DEBUG:smart_open.smart_open_lib:{'uri': '../../Data//word embeddings//Glove/glove.42B.300d.txt', 'mode': 'rb', 'buffering': -1, 'encoding': None, 'errors': None, 'newline': None, 'closefd': True, 'opener': None, 'ignore_ext': False, 'compression': None, 'transport_params': None}\n",
      "DEBUG:smart_open.smart_open_lib:{'uri': '../../Data//word embeddings//Glove/glove.42B.300d.txt', 'mode': 'rb', 'buffering': -1, 'encoding': None, 'errors': None, 'newline': None, 'closefd': True, 'opener': None, 'ignore_ext': False, 'compression': None, 'transport_params': None}\n",
      "DEBUG:gensim.utils:starting a new internal lifecycle event log for KeyedVectors\n",
      "INFO:gensim.utils:KeyedVectors lifecycle event {'msg': 'loaded (1917494, 300) matrix of type float32 from ../../Data//word embeddings//Glove/glove.42B.300d.txt', 'binary': False, 'encoding': 'utf8', 'datetime': '2022-04-19T14:25:06.484780', 'gensim': '4.0.1', 'python': '3.8.10 (default, Mar 15 2022, 12:22:08) \\n[GCC 9.4.0]', 'platform': 'Linux-5.4.0-107-generic-x86_64-with-glibc2.29', 'event': 'load_word2vec_format'}\n"
     ]
    }
   ],
   "source": [
    "glove_cc_model = get_google_news_embeddings(embeddings_folder+\"/Glove/glove.42B.300d.txt\")"
   ]
  },
  {
   "cell_type": "code",
   "execution_count": 9,
   "metadata": {},
   "outputs": [
    {
     "name": "stderr",
     "output_type": "stream",
     "text": [
      "INFO:gensim.models.keyedvectors:loading projection weights from ../../Data//word embeddings//Glove/glove.840B.300d.txt\n",
      "DEBUG:smart_open.smart_open_lib:{'uri': '../../Data//word embeddings//Glove/glove.840B.300d.txt', 'mode': 'rb', 'buffering': -1, 'encoding': None, 'errors': None, 'newline': None, 'closefd': True, 'opener': None, 'ignore_ext': False, 'compression': None, 'transport_params': None}\n",
      "DEBUG:smart_open.smart_open_lib:{'uri': '../../Data//word embeddings//Glove/glove.840B.300d.txt', 'mode': 'rb', 'buffering': -1, 'encoding': None, 'errors': None, 'newline': None, 'closefd': True, 'opener': None, 'ignore_ext': False, 'compression': None, 'transport_params': None}\n",
      "WARNING:gensim.models.keyedvectors:duplicate word '����������������������������������������������������������������������������������������������������������������������������������������������������������������������������������������������������������������������������������������������������������������������������������������������������������������������������������������������' in word2vec file, ignoring all but first\n",
      "DEBUG:gensim.utils:starting a new internal lifecycle event log for KeyedVectors\n",
      "INFO:gensim.utils:KeyedVectors lifecycle event {'msg': 'loaded (2196017, 300) matrix of type float32 from ../../Data//word embeddings//Glove/glove.840B.300d.txt', 'binary': False, 'encoding': 'utf8', 'datetime': '2022-04-19T14:27:46.174066', 'gensim': '4.0.1', 'python': '3.8.10 (default, Mar 15 2022, 12:22:08) \\n[GCC 9.4.0]', 'platform': 'Linux-5.4.0-107-generic-x86_64-with-glibc2.29', 'event': 'load_word2vec_format'}\n"
     ]
    }
   ],
   "source": [
    "glove_cc_large_model = get_google_news_embeddings(embeddings_folder+\"/Glove/glove.840B.300d.txt\")"
   ]
  },
  {
   "cell_type": "code",
   "execution_count": 10,
   "metadata": {},
   "outputs": [],
   "source": [
    "# load the weat word sets\n",
    "WEAT_wordsets = load_weat()\n",
    "RND_wordsets = fetch_eds()\n",
    "sentiments_wordsets = load_bingliu()\n",
    "debias_multiclass_wordsets = fetch_debias_multiclass()"
   ]
  },
  {
   "cell_type": "markdown",
   "metadata": {},
   "source": [
    "#### WEAT Effect Size: represents a normalized measure that quantifies how far apart the two distributions of association between targets and attributes are.\n",
    "\n",
    "#### WEAT score:  Its objective is to quantify the strength of association of both pair of sets through a permutation test. The score being positive and higher than one indicates that word2vec exhibits a moderately strong relationship between men's names and careers and women's names and family."
   ]
  },
  {
   "cell_type": "markdown",
   "metadata": {},
   "source": [
    "#### running multiple queries and multiple word embeddings"
   ]
  },
  {
   "cell_type": "code",
   "execution_count": 11,
   "metadata": {},
   "outputs": [],
   "source": [
    "u_desip_model = WordEmbeddingModel(u_desip_model, 'u_desip')\n",
    "p_desip_model = WordEmbeddingModel(p_desip_model, 'p_desip')\n",
    "sswe_model = WordEmbeddingModel(sswe_model, 'sswe')\n",
    "glove_cc_model = WordEmbeddingModel(glove_cc_model, 'glove_cc')\n",
    "glove_cc_large_model = WordEmbeddingModel(glove_cc_large_model, 'glove_cc_large')"
   ]
  },
  {
   "cell_type": "code",
   "execution_count": 12,
   "metadata": {},
   "outputs": [],
   "source": [
    "models = [u_desip_model, p_desip_model, sswe_model, glove_cc_model, glove_cc_large_model]"
   ]
  },
  {
   "cell_type": "markdown",
   "metadata": {},
   "source": [
    "## Query ranking"
   ]
  },
  {
   "cell_type": "code",
   "execution_count": 13,
   "metadata": {},
   "outputs": [],
   "source": [
    "# Create gender queries\n",
    "eth_1 = Query([RND_wordsets['names_white'], RND_wordsets['names_black']],\n",
    "              [WEAT_wordsets['pleasant_5'], WEAT_wordsets['unpleasant_5']],\n",
    "              ['White last names', 'Black last names'],\n",
    "              ['Pleasant', 'Unpleasant'])\n",
    "\n",
    "eth_2 = Query([RND_wordsets['names_white'], RND_wordsets['names_asian']],\n",
    "              [WEAT_wordsets['pleasant_5'], WEAT_wordsets['unpleasant_5']],\n",
    "              ['White last names', 'Asian last names'],\n",
    "              ['Pleasant', 'Unpleasant'])\n",
    "\n",
    "eth_3 = Query([RND_wordsets['names_white'], RND_wordsets['names_hispanic']],\n",
    "              [WEAT_wordsets['pleasant_5'], WEAT_wordsets['unpleasant_5']],\n",
    "              ['White last names', 'Hispanic last names'],\n",
    "              ['Pleasant', 'Unpleasant'])\n",
    "\n",
    "\n",
    "\n",
    "eth_5 = Query(\n",
    "    [RND_wordsets['names_white'], RND_wordsets['names_black']],\n",
    "    [list(RND_wordsets['occupations_white']), list(RND_wordsets['occupations_black'])],\n",
    "    ['White last names', 'Black last names'],\n",
    "    ['Occupations white', 'Occupations black'])\n",
    "\n",
    "eth_6 = Query(\n",
    "    [RND_wordsets['names_white'], RND_wordsets['names_asian']],\n",
    "    [list(RND_wordsets['occupations_white']), list(RND_wordsets['occupations_asian'])],\n",
    "    ['White last names', 'Asian last names'],\n",
    "    ['Occupations white', 'Occupations asian'])\n",
    "\n",
    "eth_7 = Query(\n",
    "    [RND_wordsets['names_white'], RND_wordsets['names_hispanic']],\n",
    "    [list(RND_wordsets['occupations_white']), list(RND_wordsets['occupations_hispanic'])],\n",
    "    ['White last names', 'Hispanic last names'],\n",
    "    ['Occupations white', 'Occupations hispanic'])\n",
    "\n",
    "eth_sent_1 = Query([RND_wordsets['names_white'], RND_wordsets['names_black']],\n",
    "                   [\n",
    "                       sentiments_wordsets['positive_words'],\n",
    "                       sentiments_wordsets['negative_words']\n",
    "                   ], ['White last names', 'Black last names'],\n",
    "                   ['Positive words', 'Negative words'])\n",
    "\n",
    "eth_sent_2 = Query([RND_wordsets['names_white'], RND_wordsets['names_asian']],\n",
    "                   [\n",
    "                       sentiments_wordsets['positive_words'],\n",
    "                       sentiments_wordsets['negative_words']\n",
    "                   ], ['White last names', 'Asian last names'],\n",
    "                   ['Positive words', 'Negative words'])\n",
    "\n",
    "eth_sent_3 = Query(\n",
    "    [RND_wordsets['names_white'], RND_wordsets['names_hispanic']], [\n",
    "        sentiments_wordsets['positive_words'],\n",
    "        sentiments_wordsets['negative_words']\n",
    "    ], ['White last names', 'Hispanic last names'],\n",
    "    ['Positive words', 'Negative words'])\n",
    "\n",
    "\n",
    "\n",
    "ethnicity_queries = [\n",
    "    eth_1, eth_2, eth_3, eth_5, eth_6, eth_7, eth_sent_1, eth_sent_2,\n",
    "    eth_sent_3]"
   ]
  },
  {
   "cell_type": "code",
   "execution_count": 14,
   "metadata": {
    "scrolled": true
   },
   "outputs": [
    {
     "name": "stderr",
     "output_type": "stream",
     "text": [
      "WARNING:root:The transformation of 'Occupations asian' into sswe embeddings lost proportionally more words than specified in 'lost_words_threshold': 0.6 lost with respect to 0.5 maximum loss allowed.\n",
      "ERROR:root:At least one set of 'White last names and Asian last names wrt Occupations white and Occupations asian' query has proportionally fewer embeddings than allowed by the lost_vocabulary_threshold parameter (0.5). This query will return np.nan.\n"
     ]
    }
   ],
   "source": [
    "# Run the queries WEAT\n",
    "WEAT_ethnicity_results = run_queries(\n",
    "    WEAT,\n",
    "    ethnicity_queries,\n",
    "    models,\n",
    "    metric_params={'preprocessor_args': {\n",
    "        'lowercase': True\n",
    "    }},\n",
    "    aggregate_results=True,\n",
    "    return_only_aggregation=True,\n",
    "    lost_vocabulary_threshold = 0.5,\n",
    "    queries_set_name='ethnicity Queries')\n"
   ]
  },
  {
   "cell_type": "code",
   "execution_count": 15,
   "metadata": {},
   "outputs": [
    {
     "name": "stderr",
     "output_type": "stream",
     "text": [
      "WARNING:root:The transformation of 'Occupations white' into sswe embeddings lost proportionally more words than specified in 'lost_words_threshold': 0.33 lost with respect to 0.2 maximum loss allowed.\n",
      "WARNING:root:The transformation of 'Occupations black' into sswe embeddings lost proportionally more words than specified in 'lost_words_threshold': 0.27 lost with respect to 0.2 maximum loss allowed.\n",
      "ERROR:root:At least one set of 'White last names and Black last names wrt Occupations white and Occupations black' query has proportionally fewer embeddings than allowed by the lost_vocabulary_threshold parameter (0.2). This query will return np.nan.\n",
      "WARNING:root:The transformation of 'Occupations white' into sswe embeddings lost proportionally more words than specified in 'lost_words_threshold': 0.33 lost with respect to 0.2 maximum loss allowed.\n",
      "WARNING:root:The transformation of 'Occupations asian' into sswe embeddings lost proportionally more words than specified in 'lost_words_threshold': 0.6 lost with respect to 0.2 maximum loss allowed.\n",
      "ERROR:root:At least one set of 'White last names and Asian last names wrt Occupations white and Occupations asian' query has proportionally fewer embeddings than allowed by the lost_vocabulary_threshold parameter (0.2). This query will return np.nan.\n",
      "WARNING:root:The transformation of 'Occupations white' into sswe embeddings lost proportionally more words than specified in 'lost_words_threshold': 0.33 lost with respect to 0.2 maximum loss allowed.\n",
      "ERROR:root:At least one set of 'White last names and Hispanic last names wrt Occupations white and Occupations hispanic' query has proportionally fewer embeddings than allowed by the lost_vocabulary_threshold parameter (0.2). This query will return np.nan.\n",
      "WARNING:root:The transformation of 'Positive words' into sswe embeddings lost proportionally more words than specified in 'lost_words_threshold': 0.34 lost with respect to 0.2 maximum loss allowed.\n",
      "WARNING:root:The transformation of 'Negative words' into sswe embeddings lost proportionally more words than specified in 'lost_words_threshold': 0.45 lost with respect to 0.2 maximum loss allowed.\n",
      "ERROR:root:At least one set of 'White last names and Black last names wrt Positive words and Negative words' query has proportionally fewer embeddings than allowed by the lost_vocabulary_threshold parameter (0.2). This query will return np.nan.\n",
      "WARNING:root:The transformation of 'Positive words' into sswe embeddings lost proportionally more words than specified in 'lost_words_threshold': 0.34 lost with respect to 0.2 maximum loss allowed.\n",
      "WARNING:root:The transformation of 'Negative words' into sswe embeddings lost proportionally more words than specified in 'lost_words_threshold': 0.45 lost with respect to 0.2 maximum loss allowed.\n",
      "ERROR:root:At least one set of 'White last names and Asian last names wrt Positive words and Negative words' query has proportionally fewer embeddings than allowed by the lost_vocabulary_threshold parameter (0.2). This query will return np.nan.\n",
      "WARNING:root:The transformation of 'Positive words' into sswe embeddings lost proportionally more words than specified in 'lost_words_threshold': 0.34 lost with respect to 0.2 maximum loss allowed.\n",
      "WARNING:root:The transformation of 'Negative words' into sswe embeddings lost proportionally more words than specified in 'lost_words_threshold': 0.45 lost with respect to 0.2 maximum loss allowed.\n",
      "ERROR:root:At least one set of 'White last names and Hispanic last names wrt Positive words and Negative words' query has proportionally fewer embeddings than allowed by the lost_vocabulary_threshold parameter (0.2). This query will return np.nan.\n"
     ]
    }
   ],
   "source": [
    "# Run the queries using RNSB\n",
    "RNSB_ethnicity_results = run_queries(RNSB,\n",
    "                                ethnicity_queries,\n",
    "                                models,\n",
    "                                metric_params={'preprocessor_args': {\n",
    "                                    'lowercase': True\n",
    "                                }},\n",
    "                                aggregate_results=True,\n",
    "                                     #lost_vocabulary_threshold = 0.5,\n",
    "                                return_only_aggregation=True,\n",
    "                                queries_set_name='ethnicity Queries')\n"
   ]
  },
  {
   "cell_type": "code",
   "execution_count": 16,
   "metadata": {},
   "outputs": [
    {
     "name": "stderr",
     "output_type": "stream",
     "text": [
      "WARNING:root:The transformation of 'Occupations asian' into sswe embeddings lost proportionally more words than specified in 'lost_words_threshold': 0.6 lost with respect to 0.5 maximum loss allowed.\n",
      "ERROR:root:At least one set of 'White last names and Asian last names wrt Occupations asian' query has proportionally fewer embeddings than allowed by the lost_vocabulary_threshold parameter (0.5). This query will return np.nan.\n"
     ]
    }
   ],
   "source": [
    "# Run the queries using RND\n",
    "RND_ethnicity_results = run_queries(RND,\n",
    "                                ethnicity_queries,\n",
    "                                models,\n",
    "                                metric_params={'preprocessor_args': {\n",
    "                                    'lowercase': True\n",
    "                                }},\n",
    "                                aggregate_results=True,\n",
    "                                    lost_vocabulary_threshold = 0.5,\n",
    "                                generate_subqueries=True,\n",
    "                                    return_only_aggregation=True,\n",
    "                                queries_set_name='ethnicity Queries')\n",
    "\n",
    "\n"
   ]
  },
  {
   "cell_type": "code",
   "execution_count": 17,
   "metadata": {},
   "outputs": [
    {
     "name": "stderr",
     "output_type": "stream",
     "text": [
      "WARNING:root:The transformation of 'Occupations asian' into sswe embeddings lost proportionally more words than specified in 'lost_words_threshold': 0.6 lost with respect to 0.5 maximum loss allowed.\n",
      "ERROR:root:At least one set of 'White last names and Asian last names wrt Occupations asian' query has proportionally fewer embeddings than allowed by the lost_vocabulary_threshold parameter (0.5). This query will return np.nan.\n"
     ]
    }
   ],
   "source": [
    "# Run the queries using ECT\n",
    "ECT_ethnicity_results = run_queries(ECT,\n",
    "                                ethnicity_queries,\n",
    "                                models,\n",
    "                                metric_params={'preprocessor_args': {\n",
    "                                    'lowercase': True\n",
    "                                }},\n",
    "                                aggregate_results=True,\n",
    "                                    return_only_aggregation=True,\n",
    "                                generate_subqueries=True,\n",
    "                                    lost_vocabulary_threshold = 0.5,\n",
    "                                queries_set_name='ethnicity Queries')"
   ]
  },
  {
   "cell_type": "code",
   "execution_count": 18,
   "metadata": {},
   "outputs": [
    {
     "data": {
      "text/html": [
       "<div>\n",
       "<style scoped>\n",
       "    .dataframe tbody tr th:only-of-type {\n",
       "        vertical-align: middle;\n",
       "    }\n",
       "\n",
       "    .dataframe tbody tr th {\n",
       "        vertical-align: top;\n",
       "    }\n",
       "\n",
       "    .dataframe thead th {\n",
       "        text-align: right;\n",
       "    }\n",
       "</style>\n",
       "<table border=\"1\" class=\"dataframe\">\n",
       "  <thead>\n",
       "    <tr style=\"text-align: right;\">\n",
       "      <th></th>\n",
       "      <th>WEAT: ethnicity Queries average of abs values score</th>\n",
       "    </tr>\n",
       "    <tr>\n",
       "      <th>model_name</th>\n",
       "      <th></th>\n",
       "    </tr>\n",
       "  </thead>\n",
       "  <tbody>\n",
       "    <tr>\n",
       "      <th>u_desip</th>\n",
       "      <td>0.303094</td>\n",
       "    </tr>\n",
       "    <tr>\n",
       "      <th>p_desip</th>\n",
       "      <td>0.294613</td>\n",
       "    </tr>\n",
       "    <tr>\n",
       "      <th>sswe</th>\n",
       "      <td>0.782470</td>\n",
       "    </tr>\n",
       "    <tr>\n",
       "      <th>glove_cc</th>\n",
       "      <td>0.476342</td>\n",
       "    </tr>\n",
       "    <tr>\n",
       "      <th>glove_cc_large</th>\n",
       "      <td>0.195866</td>\n",
       "    </tr>\n",
       "  </tbody>\n",
       "</table>\n",
       "</div>"
      ],
      "text/plain": [
       "                WEAT: ethnicity Queries average of abs values score\n",
       "model_name                                                         \n",
       "u_desip                                                  0.303094  \n",
       "p_desip                                                  0.294613  \n",
       "sswe                                                     0.782470  \n",
       "glove_cc                                                 0.476342  \n",
       "glove_cc_large                                           0.195866  "
      ]
     },
     "execution_count": 18,
     "metadata": {},
     "output_type": "execute_result"
    }
   ],
   "source": [
    "WEAT_ethnicity_results"
   ]
  },
  {
   "cell_type": "code",
   "execution_count": 19,
   "metadata": {},
   "outputs": [
    {
     "data": {
      "text/html": [
       "<div>\n",
       "<style scoped>\n",
       "    .dataframe tbody tr th:only-of-type {\n",
       "        vertical-align: middle;\n",
       "    }\n",
       "\n",
       "    .dataframe tbody tr th {\n",
       "        vertical-align: top;\n",
       "    }\n",
       "\n",
       "    .dataframe thead th {\n",
       "        text-align: right;\n",
       "    }\n",
       "</style>\n",
       "<table border=\"1\" class=\"dataframe\">\n",
       "  <thead>\n",
       "    <tr style=\"text-align: right;\">\n",
       "      <th></th>\n",
       "      <th>RNSB: ethnicity Queries average of abs values score</th>\n",
       "    </tr>\n",
       "    <tr>\n",
       "      <th>model_name</th>\n",
       "      <th></th>\n",
       "    </tr>\n",
       "  </thead>\n",
       "  <tbody>\n",
       "    <tr>\n",
       "      <th>u_desip</th>\n",
       "      <td>0.090777</td>\n",
       "    </tr>\n",
       "    <tr>\n",
       "      <th>p_desip</th>\n",
       "      <td>0.082652</td>\n",
       "    </tr>\n",
       "    <tr>\n",
       "      <th>sswe</th>\n",
       "      <td>0.336518</td>\n",
       "    </tr>\n",
       "    <tr>\n",
       "      <th>glove_cc</th>\n",
       "      <td>0.100426</td>\n",
       "    </tr>\n",
       "    <tr>\n",
       "      <th>glove_cc_large</th>\n",
       "      <td>0.206047</td>\n",
       "    </tr>\n",
       "  </tbody>\n",
       "</table>\n",
       "</div>"
      ],
      "text/plain": [
       "                RNSB: ethnicity Queries average of abs values score\n",
       "model_name                                                         \n",
       "u_desip                                                  0.090777  \n",
       "p_desip                                                  0.082652  \n",
       "sswe                                                     0.336518  \n",
       "glove_cc                                                 0.100426  \n",
       "glove_cc_large                                           0.206047  "
      ]
     },
     "execution_count": 19,
     "metadata": {},
     "output_type": "execute_result"
    }
   ],
   "source": [
    "RNSB_ethnicity_results"
   ]
  },
  {
   "cell_type": "code",
   "execution_count": 20,
   "metadata": {},
   "outputs": [
    {
     "data": {
      "text/html": [
       "<div>\n",
       "<style scoped>\n",
       "    .dataframe tbody tr th:only-of-type {\n",
       "        vertical-align: middle;\n",
       "    }\n",
       "\n",
       "    .dataframe tbody tr th {\n",
       "        vertical-align: top;\n",
       "    }\n",
       "\n",
       "    .dataframe thead th {\n",
       "        text-align: right;\n",
       "    }\n",
       "</style>\n",
       "<table border=\"1\" class=\"dataframe\">\n",
       "  <thead>\n",
       "    <tr style=\"text-align: right;\">\n",
       "      <th></th>\n",
       "      <th>RND: ethnicity Queries average of abs values score</th>\n",
       "    </tr>\n",
       "    <tr>\n",
       "      <th>model_name</th>\n",
       "      <th></th>\n",
       "    </tr>\n",
       "  </thead>\n",
       "  <tbody>\n",
       "    <tr>\n",
       "      <th>u_desip</th>\n",
       "      <td>0.268488</td>\n",
       "    </tr>\n",
       "    <tr>\n",
       "      <th>p_desip</th>\n",
       "      <td>0.277304</td>\n",
       "    </tr>\n",
       "    <tr>\n",
       "      <th>sswe</th>\n",
       "      <td>0.196185</td>\n",
       "    </tr>\n",
       "    <tr>\n",
       "      <th>glove_cc</th>\n",
       "      <td>0.216269</td>\n",
       "    </tr>\n",
       "    <tr>\n",
       "      <th>glove_cc_large</th>\n",
       "      <td>0.162707</td>\n",
       "    </tr>\n",
       "  </tbody>\n",
       "</table>\n",
       "</div>"
      ],
      "text/plain": [
       "                RND: ethnicity Queries average of abs values score\n",
       "model_name                                                        \n",
       "u_desip                                                  0.268488 \n",
       "p_desip                                                  0.277304 \n",
       "sswe                                                     0.196185 \n",
       "glove_cc                                                 0.216269 \n",
       "glove_cc_large                                           0.162707 "
      ]
     },
     "execution_count": 20,
     "metadata": {},
     "output_type": "execute_result"
    }
   ],
   "source": [
    "RND_ethnicity_results"
   ]
  },
  {
   "cell_type": "code",
   "execution_count": 21,
   "metadata": {},
   "outputs": [
    {
     "data": {
      "text/html": [
       "<div>\n",
       "<style scoped>\n",
       "    .dataframe tbody tr th:only-of-type {\n",
       "        vertical-align: middle;\n",
       "    }\n",
       "\n",
       "    .dataframe tbody tr th {\n",
       "        vertical-align: top;\n",
       "    }\n",
       "\n",
       "    .dataframe thead th {\n",
       "        text-align: right;\n",
       "    }\n",
       "</style>\n",
       "<table border=\"1\" class=\"dataframe\">\n",
       "  <thead>\n",
       "    <tr style=\"text-align: right;\">\n",
       "      <th></th>\n",
       "      <th>ECT: ethnicity Queries average of abs values score</th>\n",
       "    </tr>\n",
       "    <tr>\n",
       "      <th>model_name</th>\n",
       "      <th></th>\n",
       "    </tr>\n",
       "  </thead>\n",
       "  <tbody>\n",
       "    <tr>\n",
       "      <th>u_desip</th>\n",
       "      <td>0.659180</td>\n",
       "    </tr>\n",
       "    <tr>\n",
       "      <th>p_desip</th>\n",
       "      <td>0.653009</td>\n",
       "    </tr>\n",
       "    <tr>\n",
       "      <th>sswe</th>\n",
       "      <td>0.774987</td>\n",
       "    </tr>\n",
       "    <tr>\n",
       "      <th>glove_cc</th>\n",
       "      <td>0.954578</td>\n",
       "    </tr>\n",
       "    <tr>\n",
       "      <th>glove_cc_large</th>\n",
       "      <td>0.728678</td>\n",
       "    </tr>\n",
       "  </tbody>\n",
       "</table>\n",
       "</div>"
      ],
      "text/plain": [
       "                ECT: ethnicity Queries average of abs values score\n",
       "model_name                                                        \n",
       "u_desip                                                  0.659180 \n",
       "p_desip                                                  0.653009 \n",
       "sswe                                                     0.774987 \n",
       "glove_cc                                                 0.954578 \n",
       "glove_cc_large                                           0.728678 "
      ]
     },
     "execution_count": 21,
     "metadata": {},
     "output_type": "execute_result"
    }
   ],
   "source": [
    "ECT_ethnicity_results"
   ]
  }
 ],
 "metadata": {
  "kernelspec": {
   "display_name": "env_py_39",
   "language": "python",
   "name": "env_py_39"
  },
  "language_info": {
   "codemirror_mode": {
    "name": "ipython",
    "version": 3
   },
   "file_extension": ".py",
   "mimetype": "text/x-python",
   "name": "python",
   "nbconvert_exporter": "python",
   "pygments_lexer": "ipython3",
   "version": "3.8.10"
  }
 },
 "nbformat": 4,
 "nbformat_minor": 4
}
