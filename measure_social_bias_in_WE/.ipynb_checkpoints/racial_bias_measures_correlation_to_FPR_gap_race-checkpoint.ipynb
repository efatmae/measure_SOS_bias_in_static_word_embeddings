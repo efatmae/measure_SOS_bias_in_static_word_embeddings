{
 "cells": [
  {
   "cell_type": "code",
   "execution_count": 1,
   "id": "8bc4bac1",
   "metadata": {},
   "outputs": [],
   "source": [
    " import scipy.stats"
   ]
  },
  {
   "cell_type": "code",
   "execution_count": 2,
   "id": "b8403782",
   "metadata": {},
   "outputs": [],
   "source": [
    "#scipy.stats.rankdata"
   ]
  },
  {
   "cell_type": "code",
   "execution_count": 3,
   "id": "b74f0e47",
   "metadata": {},
   "outputs": [],
   "source": [
    "HateEval_biLSTM_FPR_racial_gap = ([0.006666666667,\n",
    "-0.05176470588,\n",
    "0.06862745098,\n",
    "0.1066666667,\n",
    "0.06823529412])"
   ]
  },
  {
   "cell_type": "code",
   "execution_count": 4,
   "id": "806ca56c",
   "metadata": {},
   "outputs": [],
   "source": [
    "HateEval_mlp_FPR_racial_gap = ([0.02862745098,\n",
    "0.06588235294,\n",
    "-0.09215686275,\n",
    "-0.0737254902,\n",
    "0.1454901961])"
   ]
  },
  {
   "cell_type": "code",
   "execution_count": 5,
   "id": "b2445c31",
   "metadata": {},
   "outputs": [],
   "source": [
    "Twitter_hate_biLSTM_FPR_racial_gap = ([0.03787878788,\n",
    "-0.1401515152,\n",
    "0.06818181818,\n",
    "0.0303030303,\n",
    "-0.07575757576])"
   ]
  },
  {
   "cell_type": "code",
   "execution_count": 6,
   "id": "efc2d9a3",
   "metadata": {},
   "outputs": [],
   "source": [
    "Twitter_hate_mlp_FPR_racial_gap = ([0.007575757576,\n",
    "0.02651515152,\n",
    "0.007575757576,\n",
    "0.007575757576,\n",
    "-0.06818181818])"
   ]
  },
  {
   "cell_type": "code",
   "execution_count": 7,
   "id": "1f9a5cef",
   "metadata": {},
   "outputs": [],
   "source": [
    "Twitter_rac_biLSTM_FPR_racial_gap = ([0.1012909633,\n",
    "0.08242303873,\n",
    "0.09731876862,\n",
    "0.2025819265,\n",
    "0.1087388282])"
   ]
  },
  {
   "cell_type": "code",
   "execution_count": 8,
   "id": "84354dd8",
   "metadata": {},
   "outputs": [],
   "source": [
    "Twitter_rac_mlp_FPR_racial_gap = ([0.1499503476,\n",
    "0.1539225422,\n",
    "0.1425024826,\n",
    "0.176266137,\n",
    "0.1425024826])"
   ]
  },
  {
   "cell_type": "code",
   "execution_count": null,
   "id": "cbc0d37f",
   "metadata": {},
   "outputs": [],
   "source": []
  },
  {
   "cell_type": "code",
   "execution_count": 9,
   "id": "693339a1",
   "metadata": {},
   "outputs": [],
   "source": [
    "SOS_eth = ([0.5896657184,\n",
    "0.2423544228,\n",
    "0.4950044453,\n",
    "0.2026063921,\n",
    "0.3586871233])"
   ]
  },
  {
   "cell_type": "code",
   "execution_count": 10,
   "id": "40b0a3ad",
   "metadata": {},
   "outputs": [],
   "source": [
    "ECT_eth = ([ 1 - 0.786201,\n",
    " 1 - 0.90329,\n",
    " 1 - 0.898255,\n",
    " 1 - 0.726946,\n",
    " 1 - 0.835833])"
   ]
  },
  {
   "cell_type": "code",
   "execution_count": 11,
   "id": "589a78d9",
   "metadata": {},
   "outputs": [],
   "source": [
    "RND_eth = ([0.15134,\n",
    "0.253914,\n",
    "0.179578,\n",
    "0.196933,\n",
    "2.572293])"
   ]
  },
  {
   "cell_type": "code",
   "execution_count": 12,
   "id": "e052fee8",
   "metadata": {},
   "outputs": [],
   "source": [
    "RNSB_eth = ([0.095888,\n",
    "0.118518,\n",
    "0.122344,\n",
    "0.132363,\n",
    "0.299961])"
   ]
  },
  {
   "cell_type": "code",
   "execution_count": 13,
   "id": "274787ac",
   "metadata": {},
   "outputs": [],
   "source": [
    "WEAT_eth = ([0.17977,\n",
    "0.439381,\n",
    "0.275816,\n",
    "0.093028,\n",
    "0.271122])"
   ]
  },
  {
   "cell_type": "markdown",
   "id": "93325b2d",
   "metadata": {},
   "source": [
    "## correlation bias measure and Twitter-racism_ gender bilstm FPR gap"
   ]
  },
  {
   "cell_type": "code",
   "execution_count": 45,
   "id": "a07b916f",
   "metadata": {},
   "outputs": [
    {
     "data": {
      "text/plain": [
       "(-0.5004335802773099, 0.39052419740857014)"
      ]
     },
     "execution_count": 45,
     "metadata": {},
     "output_type": "execute_result"
    }
   ],
   "source": [
    "scipy.stats.pearsonr(Twitter_rac_biLSTM_FPR_racial_gap, SOS_eth)"
   ]
  },
  {
   "cell_type": "code",
   "execution_count": 15,
   "id": "fd799f4c",
   "metadata": {},
   "outputs": [
    {
     "data": {
      "text/plain": [
       "(0.8356649137488091, 0.07796922545247904)"
      ]
     },
     "execution_count": 15,
     "metadata": {},
     "output_type": "execute_result"
    }
   ],
   "source": [
    "scipy.stats.pearsonr(Twitter_rac_biLSTM_FPR_racial_gap, ECT_eth)"
   ]
  },
  {
   "cell_type": "code",
   "execution_count": 16,
   "id": "06e15692",
   "metadata": {},
   "outputs": [
    {
     "data": {
      "text/plain": [
       "(-0.11765229006710351, 0.8505467619687491)"
      ]
     },
     "execution_count": 16,
     "metadata": {},
     "output_type": "execute_result"
    }
   ],
   "source": [
    "scipy.stats.pearsonr(Twitter_rac_biLSTM_FPR_racial_gap, RND_eth)"
   ]
  },
  {
   "cell_type": "code",
   "execution_count": 17,
   "id": "84fa77ce",
   "metadata": {},
   "outputs": [
    {
     "data": {
      "text/plain": [
       "(-0.01846518471801077, 0.9764907327256888)"
      ]
     },
     "execution_count": 17,
     "metadata": {},
     "output_type": "execute_result"
    }
   ],
   "source": [
    "scipy.stats.pearsonr(Twitter_rac_biLSTM_FPR_racial_gap, RNSB_eth)"
   ]
  },
  {
   "cell_type": "code",
   "execution_count": 18,
   "id": "3e958cc5",
   "metadata": {},
   "outputs": [
    {
     "data": {
      "text/plain": [
       "(-0.7907098644740872, 0.11125766295607914)"
      ]
     },
     "execution_count": 18,
     "metadata": {},
     "output_type": "execute_result"
    }
   ],
   "source": [
    "scipy.stats.pearsonr(Twitter_rac_biLSTM_FPR_racial_gap, WEAT_eth)"
   ]
  },
  {
   "cell_type": "markdown",
   "id": "eb76db9e",
   "metadata": {},
   "source": [
    "## correlation bias measure and Twitter-racism_ gender mlp FPR gap"
   ]
  },
  {
   "cell_type": "code",
   "execution_count": 19,
   "id": "4f308472",
   "metadata": {},
   "outputs": [
    {
     "data": {
      "text/plain": [
       "(-0.6435897694225605, 0.2412994627751297)"
      ]
     },
     "execution_count": 19,
     "metadata": {},
     "output_type": "execute_result"
    }
   ],
   "source": [
    "scipy.stats.pearsonr(Twitter_rac_mlp_FPR_racial_gap, SOS_eth)"
   ]
  },
  {
   "cell_type": "code",
   "execution_count": 20,
   "id": "bb557bf5",
   "metadata": {},
   "outputs": [
    {
     "data": {
      "text/plain": [
       "(0.7120791634991097, 0.17722921123272883)"
      ]
     },
     "execution_count": 20,
     "metadata": {},
     "output_type": "execute_result"
    }
   ],
   "source": [
    "scipy.stats.pearsonr(Twitter_rac_mlp_FPR_racial_gap, ECT_eth)"
   ]
  },
  {
   "cell_type": "code",
   "execution_count": 21,
   "id": "c5d89574",
   "metadata": {},
   "outputs": [
    {
     "data": {
      "text/plain": [
       "(-0.4167506236893005, 0.48516380875562287)"
      ]
     },
     "execution_count": 21,
     "metadata": {},
     "output_type": "execute_result"
    }
   ],
   "source": [
    "scipy.stats.pearsonr(Twitter_rac_mlp_FPR_racial_gap, RND_eth)"
   ]
  },
  {
   "cell_type": "code",
   "execution_count": 22,
   "id": "84b14257",
   "metadata": {},
   "outputs": [
    {
     "data": {
      "text/plain": [
       "(-0.3388957382000961, 0.5769125874427422)"
      ]
     },
     "execution_count": 22,
     "metadata": {},
     "output_type": "execute_result"
    }
   ],
   "source": [
    "scipy.stats.pearsonr(Twitter_rac_mlp_FPR_racial_gap, RNSB_eth)"
   ]
  },
  {
   "cell_type": "code",
   "execution_count": 23,
   "id": "1263d5e6",
   "metadata": {},
   "outputs": [
    {
     "data": {
      "text/plain": [
       "(-0.5241606081845306, 0.3645805543253187)"
      ]
     },
     "execution_count": 23,
     "metadata": {},
     "output_type": "execute_result"
    }
   ],
   "source": [
    "scipy.stats.pearsonr(Twitter_rac_mlp_FPR_racial_gap, WEAT_eth)"
   ]
  },
  {
   "cell_type": "markdown",
   "id": "24222b45",
   "metadata": {},
   "source": [
    "## correlation bias measure and Twitter-Hate_ gender bilstm FPR gap"
   ]
  },
  {
   "cell_type": "code",
   "execution_count": 24,
   "id": "76d25bf5",
   "metadata": {},
   "outputs": [
    {
     "data": {
      "text/plain": [
       "(0.536873210248502, 0.35086011711416965)"
      ]
     },
     "execution_count": 24,
     "metadata": {},
     "output_type": "execute_result"
    }
   ],
   "source": [
    "scipy.stats.pearsonr(Twitter_hate_biLSTM_FPR_racial_gap, SOS_eth)"
   ]
  },
  {
   "cell_type": "code",
   "execution_count": 25,
   "id": "5b989a2c",
   "metadata": {},
   "outputs": [
    {
     "data": {
      "text/plain": [
       "(0.4084881828795315, 0.4947465346855996)"
      ]
     },
     "execution_count": 25,
     "metadata": {},
     "output_type": "execute_result"
    }
   ],
   "source": [
    "scipy.stats.pearsonr(Twitter_hate_biLSTM_FPR_racial_gap, ECT_eth)"
   ]
  },
  {
   "cell_type": "code",
   "execution_count": 26,
   "id": "383f55af",
   "metadata": {},
   "outputs": [
    {
     "data": {
      "text/plain": [
       "(-0.40813380702173035, 0.49515841428093943)"
      ]
     },
     "execution_count": 26,
     "metadata": {},
     "output_type": "execute_result"
    }
   ],
   "source": [
    "scipy.stats.pearsonr(Twitter_hate_biLSTM_FPR_racial_gap, RND_eth)"
   ]
  },
  {
   "cell_type": "code",
   "execution_count": 27,
   "id": "5bd73c69",
   "metadata": {},
   "outputs": [
    {
     "data": {
      "text/plain": [
       "(-0.38057015759763685, 0.5274079833533282)"
      ]
     },
     "execution_count": 27,
     "metadata": {},
     "output_type": "execute_result"
    }
   ],
   "source": [
    "scipy.stats.pearsonr(Twitter_hate_biLSTM_FPR_racial_gap, RNSB_eth)"
   ]
  },
  {
   "cell_type": "code",
   "execution_count": 28,
   "id": "f1d0f175",
   "metadata": {},
   "outputs": [
    {
     "data": {
      "text/plain": [
       "(-0.7396210113031548, 0.15311142519289583)"
      ]
     },
     "execution_count": 28,
     "metadata": {},
     "output_type": "execute_result"
    }
   ],
   "source": [
    "scipy.stats.pearsonr(Twitter_hate_biLSTM_FPR_racial_gap, WEAT_eth)"
   ]
  },
  {
   "cell_type": "markdown",
   "id": "86d9cefd",
   "metadata": {},
   "source": [
    "## correlation bias measure and Twitter-Hate_ gender MLP FPR gap"
   ]
  },
  {
   "cell_type": "code",
   "execution_count": 29,
   "id": "870f3a0b",
   "metadata": {},
   "outputs": [
    {
     "data": {
      "text/plain": [
       "(-0.046357605506970365, 0.9409968111106249)"
      ]
     },
     "execution_count": 29,
     "metadata": {},
     "output_type": "execute_result"
    }
   ],
   "source": [
    "scipy.stats.pearsonr(Twitter_hate_mlp_FPR_racial_gap, SOS_eth)"
   ]
  },
  {
   "cell_type": "code",
   "execution_count": 30,
   "id": "af028edf",
   "metadata": {},
   "outputs": [
    {
     "data": {
      "text/plain": [
       "(-0.08576965108911601, 0.8909287302254191)"
      ]
     },
     "execution_count": 30,
     "metadata": {},
     "output_type": "execute_result"
    }
   ],
   "source": [
    "scipy.stats.pearsonr(Twitter_hate_mlp_FPR_racial_gap, ECT_eth)"
   ]
  },
  {
   "cell_type": "code",
   "execution_count": 31,
   "id": "be805d81",
   "metadata": {},
   "outputs": [
    {
     "data": {
      "text/plain": [
       "(-0.9673610351137613, 0.007043697494886569)"
      ]
     },
     "execution_count": 31,
     "metadata": {},
     "output_type": "execute_result"
    }
   ],
   "source": [
    "scipy.stats.pearsonr(Twitter_hate_mlp_FPR_racial_gap, RND_eth)"
   ]
  },
  {
   "cell_type": "code",
   "execution_count": 32,
   "id": "833182a6",
   "metadata": {},
   "outputs": [
    {
     "data": {
      "text/plain": [
       "(-0.9603444672544164, 0.009423000768689257)"
      ]
     },
     "execution_count": 32,
     "metadata": {},
     "output_type": "execute_result"
    }
   ],
   "source": [
    "scipy.stats.pearsonr(Twitter_hate_mlp_FPR_racial_gap, RNSB_eth)"
   ]
  },
  {
   "cell_type": "code",
   "execution_count": 33,
   "id": "fa3ed32b",
   "metadata": {},
   "outputs": [
    {
     "data": {
      "text/plain": [
       "(0.1097442969811951, 0.8605502120190945)"
      ]
     },
     "execution_count": 33,
     "metadata": {},
     "output_type": "execute_result"
    }
   ],
   "source": [
    "scipy.stats.pearsonr(Twitter_hate_mlp_FPR_racial_gap, WEAT_eth)"
   ]
  },
  {
   "cell_type": "markdown",
   "id": "71b0372f",
   "metadata": {},
   "source": [
    "## correlation bias measure and Hate-eval_ gender bilstm FPR gap"
   ]
  },
  {
   "cell_type": "code",
   "execution_count": 34,
   "id": "d1effff4",
   "metadata": {},
   "outputs": [
    {
     "data": {
      "text/plain": [
       "(-0.08521189453931077, 0.8916362879975507)"
      ]
     },
     "execution_count": 34,
     "metadata": {},
     "output_type": "execute_result"
    }
   ],
   "source": [
    "scipy.stats.pearsonr(HateEval_biLSTM_FPR_racial_gap, SOS_eth)"
   ]
  },
  {
   "cell_type": "code",
   "execution_count": 35,
   "id": "b8013df9",
   "metadata": {},
   "outputs": [
    {
     "data": {
      "text/plain": [
       "(0.5335746668400829, 0.35440775821858606)"
      ]
     },
     "execution_count": 35,
     "metadata": {},
     "output_type": "execute_result"
    }
   ],
   "source": [
    "scipy.stats.pearsonr(HateEval_biLSTM_FPR_racial_gap, ECT_eth)"
   ]
  },
  {
   "cell_type": "code",
   "execution_count": 36,
   "id": "67083ce8",
   "metadata": {},
   "outputs": [
    {
     "data": {
      "text/plain": [
       "(0.23945561147389538, 0.6980548607054087)"
      ]
     },
     "execution_count": 36,
     "metadata": {},
     "output_type": "execute_result"
    }
   ],
   "source": [
    "scipy.stats.pearsonr(HateEval_biLSTM_FPR_racial_gap, RND_eth)"
   ]
  },
  {
   "cell_type": "code",
   "execution_count": 37,
   "id": "4fcd6990",
   "metadata": {},
   "outputs": [
    {
     "data": {
      "text/plain": [
       "(0.3369166221868491, 0.5792842553562154)"
      ]
     },
     "execution_count": 37,
     "metadata": {},
     "output_type": "execute_result"
    }
   ],
   "source": [
    "scipy.stats.pearsonr(HateEval_biLSTM_FPR_racial_gap, RNSB_eth)"
   ]
  },
  {
   "cell_type": "code",
   "execution_count": 38,
   "id": "4e23ab2c",
   "metadata": {},
   "outputs": [
    {
     "data": {
      "text/plain": [
       "(-0.7502209565344906, 0.14410756536553165)"
      ]
     },
     "execution_count": 38,
     "metadata": {},
     "output_type": "execute_result"
    }
   ],
   "source": [
    "scipy.stats.pearsonr(HateEval_biLSTM_FPR_racial_gap, WEAT_eth)"
   ]
  },
  {
   "cell_type": "markdown",
   "id": "3699497a",
   "metadata": {},
   "source": [
    "## correlation bias measure and Hate-eval_ gender MLP FPR gap"
   ]
  },
  {
   "cell_type": "code",
   "execution_count": 39,
   "id": "1804c8a5",
   "metadata": {},
   "outputs": [
    {
     "data": {
      "text/plain": [
       "(-0.05402756605525878, 0.9312434471588739)"
      ]
     },
     "execution_count": 39,
     "metadata": {},
     "output_type": "execute_result"
    }
   ],
   "source": [
    "scipy.stats.pearsonr(HateEval_mlp_FPR_racial_gap, SOS_eth)"
   ]
  },
  {
   "cell_type": "code",
   "execution_count": 40,
   "id": "9997a9b3",
   "metadata": {},
   "outputs": [
    {
     "data": {
      "text/plain": [
       "(-0.19237309284350995, 0.7565822174356178)"
      ]
     },
     "execution_count": 40,
     "metadata": {},
     "output_type": "execute_result"
    }
   ],
   "source": [
    "scipy.stats.pearsonr(HateEval_mlp_FPR_racial_gap, ECT_eth)"
   ]
  },
  {
   "cell_type": "code",
   "execution_count": 41,
   "id": "e8306faa",
   "metadata": {},
   "outputs": [
    {
     "data": {
      "text/plain": [
       "(0.7471749227597869, 0.14667854944631215)"
      ]
     },
     "execution_count": 41,
     "metadata": {},
     "output_type": "execute_result"
    }
   ],
   "source": [
    "scipy.stats.pearsonr(HateEval_mlp_FPR_racial_gap, RND_eth)"
   ]
  },
  {
   "cell_type": "code",
   "execution_count": 42,
   "id": "cdfb4b2b",
   "metadata": {},
   "outputs": [
    {
     "data": {
      "text/plain": [
       "(0.6642199404791304, 0.22142742275517835)"
      ]
     },
     "execution_count": 42,
     "metadata": {},
     "output_type": "execute_result"
    }
   ],
   "source": [
    "scipy.stats.pearsonr(HateEval_mlp_FPR_racial_gap, RNSB_eth)"
   ]
  },
  {
   "cell_type": "code",
   "execution_count": 43,
   "id": "c32e03c8",
   "metadata": {},
   "outputs": [
    {
     "data": {
      "text/plain": [
       "(0.442735064549741, 0.4552914545075698)"
      ]
     },
     "execution_count": 43,
     "metadata": {},
     "output_type": "execute_result"
    }
   ],
   "source": [
    "scipy.stats.pearsonr(HateEval_mlp_FPR_racial_gap, WEAT_eth)"
   ]
  },
  {
   "cell_type": "code",
   "execution_count": null,
   "id": "74f4a86d",
   "metadata": {},
   "outputs": [],
   "source": []
  }
 ],
 "metadata": {
  "kernelspec": {
   "display_name": "env_py_39",
   "language": "python",
   "name": "env_py_39"
  },
  "language_info": {
   "codemirror_mode": {
    "name": "ipython",
    "version": 3
   },
   "file_extension": ".py",
   "mimetype": "text/x-python",
   "name": "python",
   "nbconvert_exporter": "python",
   "pygments_lexer": "ipython3",
   "version": "3.8.10"
  }
 },
 "nbformat": 4,
 "nbformat_minor": 5
}
