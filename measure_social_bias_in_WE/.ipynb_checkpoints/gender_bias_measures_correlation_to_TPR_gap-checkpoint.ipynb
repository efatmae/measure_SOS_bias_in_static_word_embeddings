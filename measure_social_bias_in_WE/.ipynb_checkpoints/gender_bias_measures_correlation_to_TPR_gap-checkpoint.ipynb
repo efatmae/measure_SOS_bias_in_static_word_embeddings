{
 "cells": [
  {
   "cell_type": "code",
   "execution_count": 1,
   "id": "8bc4bac1",
   "metadata": {},
   "outputs": [],
   "source": [
    " import scipy.stats"
   ]
  },
  {
   "cell_type": "code",
   "execution_count": 2,
   "id": "b8403782",
   "metadata": {},
   "outputs": [],
   "source": [
    "#scipy.stats.rankdata"
   ]
  },
  {
   "cell_type": "code",
   "execution_count": 3,
   "id": "b74f0e47",
   "metadata": {},
   "outputs": [],
   "source": [
    "HateEval_biLSTM_FPR_gender_gap = ([0.0644899465\n",
    "0.05423353625\n",
    "0.06740453791\n",
    "-0.05559859804\n",
    "-0.05054418004])"
   ]
  },
  {
   "cell_type": "code",
   "execution_count": 4,
   "id": "806ca56c",
   "metadata": {},
   "outputs": [],
   "source": [
    "HateEval_mlp_FPR_gender_gap = ([0.0666297731\n",
    "-0.01335546947\n",
    "0.02737502306\n",
    "0.009370964767\n",
    "-0.0669249216])"
   ]
  },
  {
   "cell_type": "code",
   "execution_count": 5,
   "id": "b2445c31",
   "metadata": {},
   "outputs": [],
   "source": [
    "Twitter_hate_biLSTM_FPR_gender_gap = ([0.02307692308\n",
    "-0.07692307692\n",
    "0\n",
    "0.01538461538\n",
    "0.04615384615])"
   ]
  },
  {
   "cell_type": "code",
   "execution_count": 6,
   "id": "efc2d9a3",
   "metadata": {},
   "outputs": [],
   "source": [
    "Twitter_hate_mlp_FPR_gender_gap = ([0.04615384615\n",
    "0.2230769231\n",
    "0.4\n",
    "0.3\n",
    "-0.08461538462])"
   ]
  },
  {
   "cell_type": "code",
   "execution_count": 7,
   "id": "1f9a5cef",
   "metadata": {},
   "outputs": [],
   "source": [
    "Twitter_sex_biLSTM_FPR_gender_gap = ([0.3284810515\n",
    "0.3279282599\n",
    "0.2002948222\n",
    "0.2147902463\n",
    "0.1853694491])"
   ]
  },
  {
   "cell_type": "code",
   "execution_count": 8,
   "id": "84354dd8",
   "metadata": {},
   "outputs": [],
   "source": [
    "Twitter_sex_mlp_FPR_gender_gap = ([0.2419998772\n",
    "0.2445795713\n",
    "0.2276272956\n",
    "0.1700141269\n",
    "0.202383146])"
   ]
  },
  {
   "cell_type": "code",
   "execution_count": null,
   "id": "cbc0d37f",
   "metadata": {},
   "outputs": [],
   "source": []
  },
  {
   "cell_type": "code",
   "execution_count": 9,
   "id": "693339a1",
   "metadata": {},
   "outputs": [],
   "source": [
    "SOS_women = ([0.2008776198,\n",
    "0.4120035214,\n",
    "0.8525378619,\n",
    "0.5550647165,\n",
    "0.8048110647])"
   ]
  },
  {
   "cell_type": "code",
   "execution_count": 10,
   "id": "40b0a3ad",
   "metadata": {},
   "outputs": [],
   "source": [
    "ECT_women = ([ 1 - 0.75251,\n",
    "1 - 0.829587,\n",
    "1 - 0.935943,\n",
    "1 - 0.652766,\n",
    "1 - 0.783181])"
   ]
  },
  {
   "cell_type": "code",
   "execution_count": 11,
   "id": "589a78d9",
   "metadata": {},
   "outputs": [],
   "source": [
    "RND_women = ([0.087666,\n",
    "0.204028,\n",
    "0.127685,\n",
    "0.051982,\n",
    "1.666596])"
   ]
  },
  {
   "cell_type": "code",
   "execution_count": 12,
   "id": "e052fee8",
   "metadata": {},
   "outputs": [],
   "source": [
    "RNSB_women = ([0.033975,\n",
    "0.052101,\n",
    "0.041433,\n",
    "0.031429,\n",
    "0.059003])"
   ]
  },
  {
   "cell_type": "code",
   "execution_count": 13,
   "id": "274787ac",
   "metadata": {},
   "outputs": [],
   "source": [
    "WEAT_women = ([0.778421,\n",
    "0.89328,\n",
    "0.407471,\n",
    "0.346125,\n",
    "0.699857])"
   ]
  },
  {
   "cell_type": "markdown",
   "id": "93325b2d",
   "metadata": {},
   "source": [
    "## correlation bias measure and Twitter-sexism_ gender bilstm FPR gap"
   ]
  },
  {
   "cell_type": "code",
   "execution_count": 14,
   "id": "a07b916f",
   "metadata": {},
   "outputs": [
    {
     "data": {
      "text/plain": [
       "(0.43661799529413164, 0.462286722302331)"
      ]
     },
     "execution_count": 14,
     "metadata": {},
     "output_type": "execute_result"
    }
   ],
   "source": [
    "scipy.stats.pearsonr(Twitter_sex_biLSTM_FPR_gender_gap, SOS_women)"
   ]
  },
  {
   "cell_type": "code",
   "execution_count": 15,
   "id": "fd799f4c",
   "metadata": {},
   "outputs": [
    {
     "data": {
      "text/plain": [
       "(-0.8811402924713385, 0.04830446788608534)"
      ]
     },
     "execution_count": 15,
     "metadata": {},
     "output_type": "execute_result"
    }
   ],
   "source": [
    "scipy.stats.pearsonr(Twitter_sex_biLSTM_FPR_gender_gap, ECT_women)"
   ]
  },
  {
   "cell_type": "code",
   "execution_count": 16,
   "id": "06e15692",
   "metadata": {},
   "outputs": [
    {
     "data": {
      "text/plain": [
       "(0.43250610427624514, 0.46700195787338067)"
      ]
     },
     "execution_count": 16,
     "metadata": {},
     "output_type": "execute_result"
    }
   ],
   "source": [
    "scipy.stats.pearsonr(Twitter_sex_biLSTM_FPR_gender_gap, RND_women)"
   ]
  },
  {
   "cell_type": "code",
   "execution_count": 17,
   "id": "84fa77ce",
   "metadata": {},
   "outputs": [
    {
     "data": {
      "text/plain": [
       "(0.6885122866837771, 0.19864737016744444)"
      ]
     },
     "execution_count": 17,
     "metadata": {},
     "output_type": "execute_result"
    }
   ],
   "source": [
    "scipy.stats.pearsonr(Twitter_sex_biLSTM_FPR_gender_gap, RNSB_women)"
   ]
  },
  {
   "cell_type": "code",
   "execution_count": 18,
   "id": "3e958cc5",
   "metadata": {},
   "outputs": [
    {
     "data": {
      "text/plain": [
       "(0.36077331315609357, 0.5508180098350628)"
      ]
     },
     "execution_count": 18,
     "metadata": {},
     "output_type": "execute_result"
    }
   ],
   "source": [
    "scipy.stats.pearsonr(Twitter_sex_biLSTM_FPR_gender_gap, WEAT_women)"
   ]
  },
  {
   "cell_type": "markdown",
   "id": "eb76db9e",
   "metadata": {},
   "source": [
    "## correlation bias measure and Twitter-sexism_ gender mlp FPR gap"
   ]
  },
  {
   "cell_type": "code",
   "execution_count": 19,
   "id": "4f308472",
   "metadata": {},
   "outputs": [
    {
     "data": {
      "text/plain": [
       "(-0.16153598850609663, 0.7952239976173613)"
      ]
     },
     "execution_count": 19,
     "metadata": {},
     "output_type": "execute_result"
    }
   ],
   "source": [
    "scipy.stats.pearsonr(Twitter_sex_mlp_FPR_gender_gap, SOS_women)"
   ]
  },
  {
   "cell_type": "code",
   "execution_count": 20,
   "id": "bb557bf5",
   "metadata": {},
   "outputs": [
    {
     "data": {
      "text/plain": [
       "(-0.2221516930242484, 0.7194917382879806)"
      ]
     },
     "execution_count": 20,
     "metadata": {},
     "output_type": "execute_result"
    }
   ],
   "source": [
    "scipy.stats.pearsonr(Twitter_sex_mlp_FPR_gender_gap, ECT_women)"
   ]
  },
  {
   "cell_type": "code",
   "execution_count": 21,
   "id": "c5d89574",
   "metadata": {},
   "outputs": [
    {
     "data": {
      "text/plain": [
       "(0.6290047823789168, 0.2556249591039248)"
      ]
     },
     "execution_count": 21,
     "metadata": {},
     "output_type": "execute_result"
    }
   ],
   "source": [
    "scipy.stats.pearsonr(Twitter_sex_mlp_FPR_gender_gap, RND_women)"
   ]
  },
  {
   "cell_type": "code",
   "execution_count": 22,
   "id": "84b14257",
   "metadata": {},
   "outputs": [
    {
     "data": {
      "text/plain": [
       "(0.7291348021284174, 0.16217340776980696)"
      ]
     },
     "execution_count": 22,
     "metadata": {},
     "output_type": "execute_result"
    }
   ],
   "source": [
    "scipy.stats.pearsonr(Twitter_sex_mlp_FPR_gender_gap, RNSB_women)"
   ]
  },
  {
   "cell_type": "code",
   "execution_count": 23,
   "id": "1263d5e6",
   "metadata": {},
   "outputs": [
    {
     "data": {
      "text/plain": [
       "(0.86532035545147, 0.0581182808614193)"
      ]
     },
     "execution_count": 23,
     "metadata": {},
     "output_type": "execute_result"
    }
   ],
   "source": [
    "scipy.stats.pearsonr(Twitter_sex_mlp_FPR_gender_gap, WEAT_women)"
   ]
  },
  {
   "cell_type": "markdown",
   "id": "24222b45",
   "metadata": {},
   "source": [
    "## correlation bias measure and Twitter-Hate_ gender bilstm FPR gap"
   ]
  },
  {
   "cell_type": "code",
   "execution_count": 24,
   "id": "76d25bf5",
   "metadata": {},
   "outputs": [
    {
     "data": {
      "text/plain": [
       "(-0.32153107745473775, 0.597781433378896)"
      ]
     },
     "execution_count": 24,
     "metadata": {},
     "output_type": "execute_result"
    }
   ],
   "source": [
    "scipy.stats.pearsonr(Twitter_hate_biLSTM_FPR_gender_gap, SOS_women)"
   ]
  },
  {
   "cell_type": "code",
   "execution_count": 25,
   "id": "5b989a2c",
   "metadata": {},
   "outputs": [
    {
     "data": {
      "text/plain": [
       "(0.15559617298411352, 0.802691112207148)"
      ]
     },
     "execution_count": 25,
     "metadata": {},
     "output_type": "execute_result"
    }
   ],
   "source": [
    "scipy.stats.pearsonr(Twitter_hate_biLSTM_FPR_gender_gap, ECT_women)"
   ]
  },
  {
   "cell_type": "code",
   "execution_count": 26,
   "id": "383f55af",
   "metadata": {},
   "outputs": [
    {
     "data": {
      "text/plain": [
       "(0.5860635498675372, 0.29904415576348753)"
      ]
     },
     "execution_count": 26,
     "metadata": {},
     "output_type": "execute_result"
    }
   ],
   "source": [
    "scipy.stats.pearsonr(Twitter_hate_biLSTM_FPR_gender_gap, RND_women)"
   ]
  },
  {
   "cell_type": "code",
   "execution_count": 27,
   "id": "5bd73c69",
   "metadata": {},
   "outputs": [
    {
     "data": {
      "text/plain": [
       "(0.36616214610200054, 0.544426009538544)"
      ]
     },
     "execution_count": 27,
     "metadata": {},
     "output_type": "execute_result"
    }
   ],
   "source": [
    "scipy.stats.pearsonr(Twitter_hate_biLSTM_FPR_gender_gap, RNSB_women)"
   ]
  },
  {
   "cell_type": "code",
   "execution_count": 28,
   "id": "f1d0f175",
   "metadata": {},
   "outputs": [
    {
     "data": {
      "text/plain": [
       "(0.6660342674665354, 0.21970242242847388)"
      ]
     },
     "execution_count": 28,
     "metadata": {},
     "output_type": "execute_result"
    }
   ],
   "source": [
    "scipy.stats.pearsonr(Twitter_hate_biLSTM_FPR_gender_gap, WEAT_women)"
   ]
  },
  {
   "cell_type": "markdown",
   "id": "86d9cefd",
   "metadata": {},
   "source": [
    "## correlation bias measure and Twitter-Hate_ gender MLP FPR gap"
   ]
  },
  {
   "cell_type": "code",
   "execution_count": 29,
   "id": "870f3a0b",
   "metadata": {},
   "outputs": [
    {
     "data": {
      "text/plain": [
       "(0.72886149005541, 0.16241161356521627)"
      ]
     },
     "execution_count": 29,
     "metadata": {},
     "output_type": "execute_result"
    }
   ],
   "source": [
    "scipy.stats.pearsonr(Twitter_hate_mlp_FPR_gender_gap, SOS_women)"
   ]
  },
  {
   "cell_type": "code",
   "execution_count": 30,
   "id": "af028edf",
   "metadata": {},
   "outputs": [
    {
     "data": {
      "text/plain": [
       "(0.2679787207130053, 0.6629278108189035)"
      ]
     },
     "execution_count": 30,
     "metadata": {},
     "output_type": "execute_result"
    }
   ],
   "source": [
    "scipy.stats.pearsonr(Twitter_hate_mlp_FPR_gender_gap, ECT_women)"
   ]
  },
  {
   "cell_type": "code",
   "execution_count": 31,
   "id": "be805d81",
   "metadata": {},
   "outputs": [
    {
     "data": {
      "text/plain": [
       "(0.33572445364853826, 0.5807137490808254)"
      ]
     },
     "execution_count": 31,
     "metadata": {},
     "output_type": "execute_result"
    }
   ],
   "source": [
    "scipy.stats.pearsonr(Twitter_hate_mlp_FPR_gender_gap, RND_women)"
   ]
  },
  {
   "cell_type": "code",
   "execution_count": 32,
   "id": "833182a6",
   "metadata": {},
   "outputs": [
    {
     "data": {
      "text/plain": [
       "(0.028401816573742758, 0.9638425463859402)"
      ]
     },
     "execution_count": 32,
     "metadata": {},
     "output_type": "execute_result"
    }
   ],
   "source": [
    "scipy.stats.pearsonr(Twitter_hate_mlp_FPR_gender_gap, RNSB_women)"
   ]
  },
  {
   "cell_type": "code",
   "execution_count": 33,
   "id": "fa3ed32b",
   "metadata": {},
   "outputs": [
    {
     "data": {
      "text/plain": [
       "(-0.7590316015474562, 0.13674690832695988)"
      ]
     },
     "execution_count": 33,
     "metadata": {},
     "output_type": "execute_result"
    }
   ],
   "source": [
    "scipy.stats.pearsonr(Twitter_hate_mlp_FPR_gender_gap, WEAT_women)"
   ]
  },
  {
   "cell_type": "markdown",
   "id": "71b0372f",
   "metadata": {},
   "source": [
    "## correlation bias measure and Hate-eval_ gender bilstm FPR gap"
   ]
  },
  {
   "cell_type": "code",
   "execution_count": 34,
   "id": "d1effff4",
   "metadata": {},
   "outputs": [
    {
     "data": {
      "text/plain": [
       "(0.1203315974077472, 0.8471596002004884)"
      ]
     },
     "execution_count": 34,
     "metadata": {},
     "output_type": "execute_result"
    }
   ],
   "source": [
    "scipy.stats.pearsonr(HateEval_biLSTM_FPR_gender_gap, SOS_women)"
   ]
  },
  {
   "cell_type": "code",
   "execution_count": 35,
   "id": "b8013df9",
   "metadata": {},
   "outputs": [
    {
     "data": {
      "text/plain": [
       "(-0.03500669354501682, 0.9554371987008162)"
      ]
     },
     "execution_count": 35,
     "metadata": {},
     "output_type": "execute_result"
    }
   ],
   "source": [
    "scipy.stats.pearsonr(HateEval_biLSTM_FPR_gender_gap, ECT_women)"
   ]
  },
  {
   "cell_type": "code",
   "execution_count": 36,
   "id": "67083ce8",
   "metadata": {},
   "outputs": [
    {
     "data": {
      "text/plain": [
       "(0.08767021997731388, 0.8885179674665876)"
      ]
     },
     "execution_count": 36,
     "metadata": {},
     "output_type": "execute_result"
    }
   ],
   "source": [
    "scipy.stats.pearsonr(HateEval_biLSTM_FPR_gender_gap, RND_women)"
   ]
  },
  {
   "cell_type": "code",
   "execution_count": 37,
   "id": "4fcd6990",
   "metadata": {},
   "outputs": [
    {
     "data": {
      "text/plain": [
       "(-0.3793117837597328, 0.5288900459011241)"
      ]
     },
     "execution_count": 37,
     "metadata": {},
     "output_type": "execute_result"
    }
   ],
   "source": [
    "scipy.stats.pearsonr(HateEval_biLSTM_FPR_gender_gap, RNSB_women)"
   ]
  },
  {
   "cell_type": "code",
   "execution_count": 38,
   "id": "4e23ab2c",
   "metadata": {},
   "outputs": [
    {
     "data": {
      "text/plain": [
       "(-0.3558265201237188, 0.5566982783909096)"
      ]
     },
     "execution_count": 38,
     "metadata": {},
     "output_type": "execute_result"
    }
   ],
   "source": [
    "scipy.stats.pearsonr(HateEval_biLSTM_FPR_gender_gap, WEAT_women)"
   ]
  },
  {
   "cell_type": "markdown",
   "id": "3699497a",
   "metadata": {},
   "source": [
    "## correlation bias measure and Hate-eval_ gender MLP FPR gap"
   ]
  },
  {
   "cell_type": "code",
   "execution_count": 39,
   "id": "1804c8a5",
   "metadata": {},
   "outputs": [
    {
     "data": {
      "text/plain": [
       "(0.07766930857903244, 0.9012078827216641)"
      ]
     },
     "execution_count": 39,
     "metadata": {},
     "output_type": "execute_result"
    }
   ],
   "source": [
    "scipy.stats.pearsonr(HateEval_mlp_FPR_gender_gap, SOS_women)"
   ]
  },
  {
   "cell_type": "code",
   "execution_count": 40,
   "id": "9997a9b3",
   "metadata": {},
   "outputs": [
    {
     "data": {
      "text/plain": [
       "(-0.745231588789384, 0.14832575437537387)"
      ]
     },
     "execution_count": 40,
     "metadata": {},
     "output_type": "execute_result"
    }
   ],
   "source": [
    "scipy.stats.pearsonr(HateEval_mlp_FPR_gender_gap, ECT_women)"
   ]
  },
  {
   "cell_type": "code",
   "execution_count": 41,
   "id": "e8306faa",
   "metadata": {},
   "outputs": [
    {
     "data": {
      "text/plain": [
       "(-0.23867418493751666, 0.699020954066531)"
      ]
     },
     "execution_count": 41,
     "metadata": {},
     "output_type": "execute_result"
    }
   ],
   "source": [
    "scipy.stats.pearsonr(HateEval_mlp_FPR_gender_gap, RND_women)"
   ]
  },
  {
   "cell_type": "code",
   "execution_count": 42,
   "id": "cdfb4b2b",
   "metadata": {},
   "outputs": [
    {
     "data": {
      "text/plain": [
       "(-0.13529036306790154, 0.8282698959132416)"
      ]
     },
     "execution_count": 42,
     "metadata": {},
     "output_type": "execute_result"
    }
   ],
   "source": [
    "scipy.stats.pearsonr(HateEval_mlp_FPR_gender_gap, RNSB_women)"
   ]
  },
  {
   "cell_type": "code",
   "execution_count": 43,
   "id": "c32e03c8",
   "metadata": {},
   "outputs": [
    {
     "data": {
      "text/plain": [
       "(-0.002548999182380794, 0.9967545169560343)"
      ]
     },
     "execution_count": 43,
     "metadata": {},
     "output_type": "execute_result"
    }
   ],
   "source": [
    "scipy.stats.pearsonr(HateEval_mlp_FPR_gender_gap, WEAT_women)"
   ]
  },
  {
   "cell_type": "code",
   "execution_count": null,
   "id": "74f4a86d",
   "metadata": {},
   "outputs": [],
   "source": []
  }
 ],
 "metadata": {
  "kernelspec": {
   "display_name": "env_py_39",
   "language": "python",
   "name": "env_py_39"
  },
  "language_info": {
   "codemirror_mode": {
    "name": "ipython",
    "version": 3
   },
   "file_extension": ".py",
   "mimetype": "text/x-python",
   "name": "python",
   "nbconvert_exporter": "python",
   "pygments_lexer": "ipython3",
   "version": "3.8.10"
  }
 },
 "nbformat": 4,
 "nbformat_minor": 5
}
