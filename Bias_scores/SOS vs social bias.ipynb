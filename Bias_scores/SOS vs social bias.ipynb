{
 "cells": [
  {
   "cell_type": "code",
   "execution_count": 1,
   "id": "c7cff8d1",
   "metadata": {},
   "outputs": [],
   "source": [
    "import scipy.stats\n",
    "import pandas as pd\n",
    "import numpy as np"
   ]
  },
  {
   "cell_type": "code",
   "execution_count": 2,
   "id": "4e39b5b2",
   "metadata": {},
   "outputs": [],
   "source": [
    "SOS_women = pd.read_csv(\"../Bias_scores/SOS_bias_scores_swear_list_2.csv\", index_col=False)[\"mean_SOS_women\"].values.tolist()\n",
    "ECT_women = pd.read_csv(\"../Bias_scores/ECT_bias_scores.csv\", index_col=False)[\"ECT_Gender_bias_reversed\"].values.tolist()\n",
    "RNSB_women = pd.read_csv(\"../Bias_scores/RNSB_bias_scores.csv\", index_col=False)[\"RNSB_Gender bias\"].values.tolist()\n",
    "RND_women = pd.read_csv(\"../Bias_scores/RND_bias_scores.csv\", index_col=False)[\"RND_Gender_bias \"].values.tolist()\n",
    "WEAT_women = pd.read_csv(\"../Bias_scores/WEAT_bias_scores.csv\", index_col=False)[\"WEAT_Gender bias\"].values.tolist()"
   ]
  },
  {
   "cell_type": "code",
   "execution_count": 3,
   "id": "f536baf8",
   "metadata": {},
   "outputs": [],
   "source": [
    "SOS_eth = pd.read_csv(\"../Bias_scores/SOS_bias_scores_swear_list_2.csv\", index_col=False)[\"mean_SOS_eth\"].values.tolist()\n",
    "ECT_eth = pd.read_csv(\"../Bias_scores/ECT_bias_scores.csv\", index_col=False)[\"ECT_Racial_bias_reversed\"].values.tolist()\n",
    "RNSB_eth = pd.read_csv(\"../Bias_scores/RNSB_bias_scores.csv\", index_col=False)[\"RNSB_Racial bias\"].values.tolist()\n",
    "RND_eth = pd.read_csv(\"../Bias_scores/RND_bias_scores.csv\", index_col=False)[\"RND_Racial_bias\"].values.tolist()\n",
    "WEAT_eth = pd.read_csv(\"../Bias_scores/WEAT_bias_scores.csv\", index_col=False)[\"WEAT_Racial bias\"].values.tolist()"
   ]
  },
  {
   "cell_type": "code",
   "execution_count": 4,
   "id": "41321d17",
   "metadata": {},
   "outputs": [],
   "source": [
    "df = pd.read_csv(\"../Bias_scores/SOS_bias_scores_swear_list_2.csv\", index_col=False)"
   ]
  },
  {
   "cell_type": "code",
   "execution_count": 5,
   "id": "6f2562b6",
   "metadata": {},
   "outputs": [
    {
     "data": {
      "text/plain": [
       "Index(['word embeddings', 'mean_SOS_min', 'mean_SOS_maj', 'mean_SOS_women',\n",
       "       'mean_SOS_lgbtq', 'mean_SOS_eth', 'mean_SOS_men', 'mean_SOS_straight',\n",
       "       'mean_SOS_white', 'gender_diff', 'so_diff', 'racial_diff'],\n",
       "      dtype='object')"
      ]
     },
     "execution_count": 5,
     "metadata": {},
     "output_type": "execute_result"
    }
   ],
   "source": [
    "df.columns"
   ]
  },
  {
   "cell_type": "code",
   "execution_count": 6,
   "id": "03de074a",
   "metadata": {},
   "outputs": [],
   "source": [
    "gender_bias = {\"word embeddings\": df[\"word embeddings\"].values.tolist(),\n",
    "               \"SOS\": SOS_women,\n",
    "               \"ECT\": ECT_women,\n",
    "               \"RNSB\": RNSB_women,\n",
    "               \"RND\": RND_women,\n",
    "               \"WEAT\":WEAT_women\n",
    "    \n",
    "}"
   ]
  },
  {
   "cell_type": "code",
   "execution_count": 7,
   "id": "c9c8f081",
   "metadata": {},
   "outputs": [],
   "source": [
    "racial_bias = {\"word embeddings\": df[\"word embeddings\"].values.tolist(),\n",
    "               \"SOS\": SOS_eth,\n",
    "               \"ECT\": ECT_eth,\n",
    "               \"RNSB\": RNSB_eth,\n",
    "               \"RND\": RND_eth,\n",
    "               \"WEAT\":WEAT_eth\n",
    "    \n",
    "}"
   ]
  },
  {
   "cell_type": "code",
   "execution_count": 8,
   "id": "c4f94de9",
   "metadata": {},
   "outputs": [],
   "source": [
    "gender_bias_df = pd.DataFrame(gender_bias)"
   ]
  },
  {
   "cell_type": "code",
   "execution_count": 9,
   "id": "6067c551",
   "metadata": {},
   "outputs": [],
   "source": [
    "racial_bias_df = pd.DataFrame(racial_bias)"
   ]
  },
  {
   "cell_type": "code",
   "execution_count": 10,
   "id": "82766e26",
   "metadata": {},
   "outputs": [
    {
     "data": {
      "text/html": [
       "<div>\n",
       "<style scoped>\n",
       "    .dataframe tbody tr th:only-of-type {\n",
       "        vertical-align: middle;\n",
       "    }\n",
       "\n",
       "    .dataframe tbody tr th {\n",
       "        vertical-align: top;\n",
       "    }\n",
       "\n",
       "    .dataframe thead th {\n",
       "        text-align: right;\n",
       "    }\n",
       "</style>\n",
       "<table border=\"1\" class=\"dataframe\">\n",
       "  <thead>\n",
       "    <tr style=\"text-align: right;\">\n",
       "      <th></th>\n",
       "      <th>SOS</th>\n",
       "      <th>ECT</th>\n",
       "      <th>RNSB</th>\n",
       "      <th>RND</th>\n",
       "      <th>WEAT</th>\n",
       "    </tr>\n",
       "  </thead>\n",
       "  <tbody>\n",
       "    <tr>\n",
       "      <th>SOS</th>\n",
       "      <td>1.000000</td>\n",
       "      <td>0.160714</td>\n",
       "      <td>0.175000</td>\n",
       "      <td>0.514286</td>\n",
       "      <td>0.253571</td>\n",
       "    </tr>\n",
       "    <tr>\n",
       "      <th>ECT</th>\n",
       "      <td>0.160714</td>\n",
       "      <td>1.000000</td>\n",
       "      <td>-0.021429</td>\n",
       "      <td>0.360714</td>\n",
       "      <td>0.560714</td>\n",
       "    </tr>\n",
       "    <tr>\n",
       "      <th>RNSB</th>\n",
       "      <td>0.175000</td>\n",
       "      <td>-0.021429</td>\n",
       "      <td>1.000000</td>\n",
       "      <td>0.671429</td>\n",
       "      <td>0.310714</td>\n",
       "    </tr>\n",
       "    <tr>\n",
       "      <th>RND</th>\n",
       "      <td>0.514286</td>\n",
       "      <td>0.360714</td>\n",
       "      <td>0.671429</td>\n",
       "      <td>1.000000</td>\n",
       "      <td>0.771429</td>\n",
       "    </tr>\n",
       "    <tr>\n",
       "      <th>WEAT</th>\n",
       "      <td>0.253571</td>\n",
       "      <td>0.560714</td>\n",
       "      <td>0.310714</td>\n",
       "      <td>0.771429</td>\n",
       "      <td>1.000000</td>\n",
       "    </tr>\n",
       "  </tbody>\n",
       "</table>\n",
       "</div>"
      ],
      "text/plain": [
       "           SOS       ECT      RNSB       RND      WEAT\n",
       "SOS   1.000000  0.160714  0.175000  0.514286  0.253571\n",
       "ECT   0.160714  1.000000 -0.021429  0.360714  0.560714\n",
       "RNSB  0.175000 -0.021429  1.000000  0.671429  0.310714\n",
       "RND   0.514286  0.360714  0.671429  1.000000  0.771429\n",
       "WEAT  0.253571  0.560714  0.310714  0.771429  1.000000"
      ]
     },
     "execution_count": 10,
     "metadata": {},
     "output_type": "execute_result"
    }
   ],
   "source": [
    "gender_bias_df.corr(\"spearman\")"
   ]
  },
  {
   "cell_type": "code",
   "execution_count": 11,
   "id": "bb59d2c1",
   "metadata": {},
   "outputs": [],
   "source": [
    "import matplotlib.pyplot as plt\n",
    "from matplotlib.pyplot import figure"
   ]
  },
  {
   "cell_type": "code",
   "execution_count": 14,
   "id": "d67b21d5",
   "metadata": {},
   "outputs": [
    {
     "data": {
      "text/html": [
       "<div>\n",
       "<style scoped>\n",
       "    .dataframe tbody tr th:only-of-type {\n",
       "        vertical-align: middle;\n",
       "    }\n",
       "\n",
       "    .dataframe tbody tr th {\n",
       "        vertical-align: top;\n",
       "    }\n",
       "\n",
       "    .dataframe thead th {\n",
       "        text-align: right;\n",
       "    }\n",
       "</style>\n",
       "<table border=\"1\" class=\"dataframe\">\n",
       "  <thead>\n",
       "    <tr style=\"text-align: right;\">\n",
       "      <th></th>\n",
       "      <th>SOS</th>\n",
       "      <th>ECT</th>\n",
       "      <th>RNSB</th>\n",
       "      <th>RND</th>\n",
       "      <th>WEAT</th>\n",
       "    </tr>\n",
       "  </thead>\n",
       "  <tbody>\n",
       "    <tr>\n",
       "      <th>SOS</th>\n",
       "      <td>1.000000</td>\n",
       "      <td>0.010714</td>\n",
       "      <td>-0.157143</td>\n",
       "      <td>-0.596429</td>\n",
       "      <td>-0.178571</td>\n",
       "    </tr>\n",
       "    <tr>\n",
       "      <th>ECT</th>\n",
       "      <td>0.010714</td>\n",
       "      <td>1.000000</td>\n",
       "      <td>0.032143</td>\n",
       "      <td>0.142857</td>\n",
       "      <td>-0.075000</td>\n",
       "    </tr>\n",
       "    <tr>\n",
       "      <th>RNSB</th>\n",
       "      <td>-0.157143</td>\n",
       "      <td>0.032143</td>\n",
       "      <td>1.000000</td>\n",
       "      <td>0.482143</td>\n",
       "      <td>0.403571</td>\n",
       "    </tr>\n",
       "    <tr>\n",
       "      <th>RND</th>\n",
       "      <td>-0.596429</td>\n",
       "      <td>0.142857</td>\n",
       "      <td>0.482143</td>\n",
       "      <td>1.000000</td>\n",
       "      <td>0.482143</td>\n",
       "    </tr>\n",
       "    <tr>\n",
       "      <th>WEAT</th>\n",
       "      <td>-0.178571</td>\n",
       "      <td>-0.075000</td>\n",
       "      <td>0.403571</td>\n",
       "      <td>0.482143</td>\n",
       "      <td>1.000000</td>\n",
       "    </tr>\n",
       "  </tbody>\n",
       "</table>\n",
       "</div>"
      ],
      "text/plain": [
       "           SOS       ECT      RNSB       RND      WEAT\n",
       "SOS   1.000000  0.010714 -0.157143 -0.596429 -0.178571\n",
       "ECT   0.010714  1.000000  0.032143  0.142857 -0.075000\n",
       "RNSB -0.157143  0.032143  1.000000  0.482143  0.403571\n",
       "RND  -0.596429  0.142857  0.482143  1.000000  0.482143\n",
       "WEAT -0.178571 -0.075000  0.403571  0.482143  1.000000"
      ]
     },
     "execution_count": 14,
     "metadata": {},
     "output_type": "execute_result"
    }
   ],
   "source": [
    "racial_bias_df.corr(\"spearman\")"
   ]
  },
  {
   "cell_type": "code",
   "execution_count": 23,
   "id": "504cc5ca",
   "metadata": {},
   "outputs": [],
   "source": [
    "import scipy.stats as st"
   ]
  },
  {
   "cell_type": "code",
   "execution_count": 24,
   "id": "e2e0c873",
   "metadata": {},
   "outputs": [
    {
     "data": {
      "text/plain": [
       "SpearmanrResult(correlation=0.010714285714285713, pvalue=0.9697698761545686)"
      ]
     },
     "execution_count": 24,
     "metadata": {},
     "output_type": "execute_result"
    }
   ],
   "source": [
    "st.spearmanr(racial_bias_df[\"SOS\"],racial_bias_df[\"ECT\"])"
   ]
  },
  {
   "cell_type": "code",
   "execution_count": 25,
   "id": "a1c11d20",
   "metadata": {},
   "outputs": [
    {
     "data": {
      "text/plain": [
       "<matplotlib.colorbar.Colorbar at 0x7fb5e5c381f0>"
      ]
     },
     "execution_count": 25,
     "metadata": {},
     "output_type": "execute_result"
    },
    {
     "data": {
      "image/png": "[encoded data removed]",
      "text/plain": [
       "<Figure size 360x216 with 3 Axes>"
      ]
     },
     "metadata": {
      "needs_background": "light"
     },
     "output_type": "display_data"
    }
   ],
   "source": [
    "rows = ['SOS',\"ECT\",\"RNSB\",\"RND\",\"WEAT\"]\n",
    "columns =  ['SOS',\"ECT\",\"RNSB\",\"RND\",\"WEAT\"]\n",
    "\n",
    "fig, axs = plt.subplots(nrows=1, ncols=2, figsize=(5, 3))\n",
    "x_ticks = np.arange(len(rows))\n",
    "y_ticks = np.arange(len(columns))\n",
    "\n",
    "\n",
    "# We use ax parameter to tell seaborn which subplot to use for this plot\n",
    "#sns.heatmap(data=RAD_stat[columns].values.T, ax=axs[0], vmin=-1, vmax=1,cbar=True, cmap=\"YlGnBu\")\n",
    "im0 = axs[0].imshow(gender_bias_df.corr(\"spearman\").values, cmap =\"YlGn\")\n",
    "axs[0].set_title('Gender Bias', fontweight=\"bold\", fontsize=16)\n",
    "axs[0].set_xticks(x_ticks)\n",
    "axs[0].set_yticks(y_ticks)\n",
    "axs[0].set_xticklabels([\"\" for i in rows], fontweight=\"bold\", rotation=90, fontsize=16)\n",
    "axs[0].set_xticklabels(rows, fontweight=\"bold\", rotation=90, fontsize=14)\n",
    "axs[0].set_yticklabels(columns, fontweight=\"bold\", rotation=0, fontsize=14)\n",
    "\n",
    "#sns.heatmap(data=OHOE_US_stat[columns].values.T, ax=axs[1], vmin=-1, vmax=1,cbar=True, yticklabels=False,cmap=\"YlGnBu\", cbar_kws={\"orientation\": \"vertical\"})\n",
    "im1 = axs[1].imshow(racial_bias_df.corr(\"spearman\").values, cmap =\"YlGn\")\n",
    "axs[1].set_title('Racial Bias', fontweight=\"bold\", fontsize=16)\n",
    "axs[1].set_xticks(x_ticks)\n",
    "axs[1].set_yticks(y_ticks)\n",
    "axs[1].set_xticklabels(rows, fontweight=\"bold\", rotation=90, fontsize=14)\n",
    "axs[1].set_yticklabels([])\n",
    "\n",
    "#plt.colorbar(im0,boundaries=np.arange(-1,1,0.1), shrink=0.7, orientation=\"horizontal\", location=\"top\")\n",
    "cbar_ax = fig.add_axes([0.91, 0.2, 0.05, 0.6])\n",
    "fig.colorbar(im1, cax=cbar_ax,boundaries=np.arange(-1,1.1,0.1), shrink=0.05)\n",
    "#sns.heatmap(data=OEOH_fin_stat[columns], ax=ax4, vmin=-1, vmax=1,cbar=True, yticklabels=False,cbar_kws={'label': 'correlation'},cmap=\"YlGnBu\")\n",
    "#ax4.set_title('OEOH-UK', fontweight=\"bold\", fontsize=35)\n",
    "#ax4.set_ylabel(\"\")\n",
    "#ax4.set_xticklabels(columns, fontweight=\"bold\", rotation=90, fontsize=35)\n",
    "\n",
    "#sns.heatmap(data=OEOH_GR_stat[columns], ax=ax5, vmin=-1, vmax=1,cbar=False, yticklabels=False,cmap=\"YlGnBu\")\n",
    "#ax5.set_title('OEOH-Germany', fontweight=\"bold\", fontsize=35)\n",
    "#ax5.set_ylabel(\"\")\n",
    "#ax5.set_xticklabels(columns, fontweight=\"bold\", rotation=45, fontsize=35)\n",
    "\n",
    "#sns.heatmap(data=OEOH_fin_stat[columns], ax=ax5, vmin=-1, vmax=1,cbar=True, yticklabels=False,cbar_kws={'label': 'correlation'},cmap=\"YlGnBu\")\n",
    "#ax5.set_title('OEOH-FI', fontweight=\"bold\", fontsize=35)\n",
    "#ax5.set_ylabel(\"\")\n",
    "#ax5.set_xticklabels(columns, fontweight=\"bold\", fontsize=35, rotation=90)"
   ]
  },
  {
   "cell_type": "code",
   "execution_count": 26,
   "id": "06604b44",
   "metadata": {},
   "outputs": [],
   "source": [
    "fig.savefig(\"bias_metrics_corr_swear_words_list2.pdf\",bbox_inches='tight')"
   ]
  },
  {
   "cell_type": "code",
   "execution_count": null,
   "id": "911b993c",
   "metadata": {},
   "outputs": [],
   "source": []
  }
 ],
 "metadata": {
  "kernelspec": {
   "display_name": "env_py_39",
   "language": "python",
   "name": "env_py_39"
  },
  "language_info": {
   "codemirror_mode": {
    "name": "ipython",
    "version": 3
   },
   "file_extension": ".py",
   "mimetype": "text/x-python",
   "name": "python",
   "nbconvert_exporter": "python",
   "pygments_lexer": "ipython3",
   "version": "3.8.10"
  }
 },
 "nbformat": 4,
 "nbformat_minor": 5
}
