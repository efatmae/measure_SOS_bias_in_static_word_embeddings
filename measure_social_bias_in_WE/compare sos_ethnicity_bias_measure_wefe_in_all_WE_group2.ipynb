{
 "cells": [
  {
   "cell_type": "code",
   "execution_count": 1,
   "metadata": {},
   "outputs": [
    {
     "name": "stdout",
     "output_type": "stream",
     "text": [
      "3.8.10 (default, Mar 15 2022, 12:22:08) \n",
      "[GCC 9.4.0]\n"
     ]
    }
   ],
   "source": [
    "import sys\n",
    "print(sys.version)"
   ]
  },
  {
   "cell_type": "code",
   "execution_count": 2,
   "metadata": {},
   "outputs": [],
   "source": [
    "import pandas as pd"
   ]
  },
  {
   "cell_type": "code",
   "execution_count": 3,
   "metadata": {},
   "outputs": [],
   "source": [
    "from wefe.query import Query\n",
    "from wefe.metrics import WEAT, RNSB, RND, MAC, ECT\n",
    "from wefe.word_embedding_model import WordEmbeddingModel\n",
    "from wefe.datasets.datasets import load_weat, fetch_eds, fetch_debias_multiclass, fetch_debiaswe, load_bingliu\n",
    "from wefe.utils import run_queries, plot_queries_results, create_ranking, plot_ranking, plot_ranking_correlations\n",
    "from plotly.subplots import make_subplots\n",
    "import gensim"
   ]
  },
  {
   "cell_type": "code",
   "execution_count": 4,
   "metadata": {},
   "outputs": [],
   "source": [
    "data_folder = \"../../Data/\"\n",
    "embeddings_folder = data_folder+\"/word embeddings/\""
   ]
  },
  {
   "cell_type": "code",
   "execution_count": 5,
   "metadata": {},
   "outputs": [],
   "source": [
    "def get_google_news_embeddings(filename,binary=False):\n",
    "    w2v_model = gensim.models.KeyedVectors.load_word2vec_format(filename, binary=binary, no_header=True)\n",
    "    return w2v_model\n"
   ]
  },
  {
   "cell_type": "code",
   "execution_count": 6,
   "metadata": {},
   "outputs": [
    {
     "name": "stderr",
     "output_type": "stream",
     "text": [
      "INFO:gensim.models.keyedvectors:loading projection weights from ../../Data//word embeddings/debiased_word_embedding/glove_2_wv_U-DeSIP.txt\n",
      "DEBUG:smart_open.smart_open_lib:{'uri': '../../Data//word embeddings/debiased_word_embedding/glove_2_wv_U-DeSIP.txt', 'mode': 'rb', 'buffering': -1, 'encoding': None, 'errors': None, 'newline': None, 'closefd': True, 'opener': None, 'ignore_ext': False, 'compression': None, 'transport_params': None}\n",
      "DEBUG:gensim.utils:starting a new internal lifecycle event log for KeyedVectors\n",
      "INFO:gensim.utils:KeyedVectors lifecycle event {'msg': 'loaded (322636, 300) matrix of type float32 from ../../Data//word embeddings/debiased_word_embedding/glove_2_wv_U-DeSIP.txt', 'binary': False, 'encoding': 'utf8', 'datetime': '2022-04-19T12:47:15.343012', 'gensim': '4.0.1', 'python': '3.8.10 (default, Mar 15 2022, 12:22:08) \\n[GCC 9.4.0]', 'platform': 'Linux-5.4.0-107-generic-x86_64-with-glibc2.29', 'event': 'load_word2vec_format'}\n"
     ]
    }
   ],
   "source": [
    "u_desip_model = gensim.models.KeyedVectors.load_word2vec_format(embeddings_folder+\"debiased_word_embedding/glove_2_wv_U-DeSIP.txt\", binary=False)"
   ]
  },
  {
   "cell_type": "code",
   "execution_count": 7,
   "metadata": {},
   "outputs": [
    {
     "name": "stderr",
     "output_type": "stream",
     "text": [
      "INFO:gensim.models.keyedvectors:loading projection weights from ../../Data//word embeddings//SSWE/embedding-results/sswe-u.bin\n",
      "DEBUG:smart_open.smart_open_lib:{'uri': '../../Data//word embeddings//SSWE/embedding-results/sswe-u.bin', 'mode': 'rb', 'buffering': -1, 'encoding': None, 'errors': None, 'newline': None, 'closefd': True, 'opener': None, 'ignore_ext': False, 'compression': None, 'transport_params': None}\n",
      "DEBUG:gensim.utils:starting a new internal lifecycle event log for KeyedVectors\n",
      "INFO:gensim.utils:KeyedVectors lifecycle event {'msg': 'loaded (137052, 50) matrix of type float32 from ../../Data//word embeddings//SSWE/embedding-results/sswe-u.bin', 'binary': True, 'encoding': 'utf8', 'datetime': '2022-04-19T12:51:05.441221', 'gensim': '4.0.1', 'python': '3.8.10 (default, Mar 15 2022, 12:22:08) \\n[GCC 9.4.0]', 'platform': 'Linux-5.4.0-107-generic-x86_64-with-glibc2.29', 'event': 'load_word2vec_format'}\n"
     ]
    }
   ],
   "source": [
    "sswe_model = gensim.models.KeyedVectors.load_word2vec_format(embeddings_folder+\"/SSWE/embedding-results/sswe-u.bin\",binary=True)"
   ]
  },
  {
   "cell_type": "code",
   "execution_count": 8,
   "metadata": {},
   "outputs": [
    {
     "name": "stderr",
     "output_type": "stream",
     "text": [
      "INFO:gensim.models.keyedvectors:loading projection weights from ../../Data//word embeddings/debiased_word_embedding/glove_2_wv_P-DeSIP.txt\n",
      "DEBUG:smart_open.smart_open_lib:{'uri': '../../Data//word embeddings/debiased_word_embedding/glove_2_wv_P-DeSIP.txt', 'mode': 'rb', 'buffering': -1, 'encoding': None, 'errors': None, 'newline': None, 'closefd': True, 'opener': None, 'ignore_ext': False, 'compression': None, 'transport_params': None}\n",
      "DEBUG:gensim.utils:starting a new internal lifecycle event log for KeyedVectors\n",
      "INFO:gensim.utils:KeyedVectors lifecycle event {'msg': 'loaded (322636, 300) matrix of type float32 from ../../Data//word embeddings/debiased_word_embedding/glove_2_wv_P-DeSIP.txt', 'binary': False, 'encoding': 'utf8', 'datetime': '2022-04-19T12:51:29.725620', 'gensim': '4.0.1', 'python': '3.8.10 (default, Mar 15 2022, 12:22:08) \\n[GCC 9.4.0]', 'platform': 'Linux-5.4.0-107-generic-x86_64-with-glibc2.29', 'event': 'load_word2vec_format'}\n"
     ]
    }
   ],
   "source": [
    "p_desip_model = gensim.models.KeyedVectors.load_word2vec_format(embeddings_folder+\"debiased_word_embedding/glove_2_wv_P-DeSIP.txt\", binary=False)"
   ]
  },
  {
   "cell_type": "code",
   "execution_count": 9,
   "metadata": {},
   "outputs": [
    {
     "name": "stderr",
     "output_type": "stream",
     "text": [
      "INFO:gensim.models.keyedvectors:loading projection weights from ../../Data//word embeddings//Glove/glove.42B.300d.txt\n",
      "DEBUG:smart_open.smart_open_lib:{'uri': '../../Data//word embeddings//Glove/glove.42B.300d.txt', 'mode': 'rb', 'buffering': -1, 'encoding': None, 'errors': None, 'newline': None, 'closefd': True, 'opener': None, 'ignore_ext': False, 'compression': None, 'transport_params': None}\n",
      "DEBUG:smart_open.smart_open_lib:{'uri': '../../Data//word embeddings//Glove/glove.42B.300d.txt', 'mode': 'rb', 'buffering': -1, 'encoding': None, 'errors': None, 'newline': None, 'closefd': True, 'opener': None, 'ignore_ext': False, 'compression': None, 'transport_params': None}\n",
      "DEBUG:gensim.utils:starting a new internal lifecycle event log for KeyedVectors\n",
      "INFO:gensim.utils:KeyedVectors lifecycle event {'msg': 'loaded (1917494, 300) matrix of type float32 from ../../Data//word embeddings//Glove/glove.42B.300d.txt', 'binary': False, 'encoding': 'utf8', 'datetime': '2022-04-19T12:53:47.653659', 'gensim': '4.0.1', 'python': '3.8.10 (default, Mar 15 2022, 12:22:08) \\n[GCC 9.4.0]', 'platform': 'Linux-5.4.0-107-generic-x86_64-with-glibc2.29', 'event': 'load_word2vec_format'}\n"
     ]
    }
   ],
   "source": [
    "glove_cc_model = get_google_news_embeddings(embeddings_folder+\"/Glove/glove.42B.300d.txt\")"
   ]
  },
  {
   "cell_type": "code",
   "execution_count": 10,
   "metadata": {},
   "outputs": [
    {
     "name": "stderr",
     "output_type": "stream",
     "text": [
      "INFO:gensim.models.keyedvectors:loading projection weights from ../../Data//word embeddings//Glove/glove.840B.300d.txt\n",
      "DEBUG:smart_open.smart_open_lib:{'uri': '../../Data//word embeddings//Glove/glove.840B.300d.txt', 'mode': 'rb', 'buffering': -1, 'encoding': None, 'errors': None, 'newline': None, 'closefd': True, 'opener': None, 'ignore_ext': False, 'compression': None, 'transport_params': None}\n",
      "DEBUG:smart_open.smart_open_lib:{'uri': '../../Data//word embeddings//Glove/glove.840B.300d.txt', 'mode': 'rb', 'buffering': -1, 'encoding': None, 'errors': None, 'newline': None, 'closefd': True, 'opener': None, 'ignore_ext': False, 'compression': None, 'transport_params': None}\n",
      "WARNING:gensim.models.keyedvectors:duplicate word '����������������������������������������������������������������������������������������������������������������������������������������������������������������������������������������������������������������������������������������������������������������������������������������������������������������������������������������������' in word2vec file, ignoring all but first\n",
      "DEBUG:gensim.utils:starting a new internal lifecycle event log for KeyedVectors\n",
      "INFO:gensim.utils:KeyedVectors lifecycle event {'msg': 'loaded (2196017, 300) matrix of type float32 from ../../Data//word embeddings//Glove/glove.840B.300d.txt', 'binary': False, 'encoding': 'utf8', 'datetime': '2022-04-19T12:56:26.468187', 'gensim': '4.0.1', 'python': '3.8.10 (default, Mar 15 2022, 12:22:08) \\n[GCC 9.4.0]', 'platform': 'Linux-5.4.0-107-generic-x86_64-with-glibc2.29', 'event': 'load_word2vec_format'}\n"
     ]
    }
   ],
   "source": [
    "glove_cc_large_model = get_google_news_embeddings(embeddings_folder+\"/Glove/glove.840B.300d.txt\")"
   ]
  },
  {
   "cell_type": "code",
   "execution_count": 11,
   "metadata": {},
   "outputs": [],
   "source": [
    "# load the weat word sets\n",
    "WEAT_wordsets = load_weat()\n",
    "RND_wordsets = fetch_eds()\n",
    "sentiments_wordsets = load_bingliu()\n",
    "debias_multiclass_wordsets = fetch_debias_multiclass()"
   ]
  },
  {
   "cell_type": "markdown",
   "metadata": {},
   "source": [
    "#### WEAT Effect Size: represents a normalized measure that quantifies how far apart the two distributions of association between targets and attributes are.\n",
    "\n",
    "#### WEAT score:  Its objective is to quantify the strength of association of both pair of sets through a permutation test. The score being positive and higher than one indicates that word2vec exhibits a moderately strong relationship between men's names and careers and women's names and family."
   ]
  },
  {
   "cell_type": "code",
   "execution_count": 12,
   "metadata": {},
   "outputs": [],
   "source": [
    "profane_words = open(data_folder+\"swear_words.txt\").read().splitlines()"
   ]
  },
  {
   "cell_type": "code",
   "execution_count": 13,
   "metadata": {},
   "outputs": [],
   "source": [
    "harmless_minority_words_clean = [\"african\", \"african american\", \"asian\", \"black\",\n",
    "                                 \"hispanic\", \"latin\", \"mexican\",\n",
    "                                 \"indian\", \"middle eastern\", \"arab\"]\n",
    "\n",
    "harmless_majority_words_clean = [\"white\",\"caucasian\",\n",
    "                                 \"european american\",\"european\", \"norwegian\",\n",
    "                                 \"canadian\", \"german\", \"australian\", \"english\",\n",
    "                                \"french\", \"american\", \"swedish\", \"dutch\"]\n"
   ]
  },
  {
   "cell_type": "markdown",
   "metadata": {},
   "source": [
    "#### running multiple queries and multiple word embeddings"
   ]
  },
  {
   "cell_type": "code",
   "execution_count": 14,
   "metadata": {},
   "outputs": [],
   "source": [
    "u_desip_model = WordEmbeddingModel(u_desip_model, 'u_desip')\n",
    "p_desip_model = WordEmbeddingModel(p_desip_model, 'p_desip')\n",
    "sswe_model = WordEmbeddingModel(sswe_model, 'sswe')\n",
    "glove_cc_model = WordEmbeddingModel(glove_cc_model, 'glove_cc')\n",
    "glove_cc_large_model = WordEmbeddingModel(glove_cc_large_model, 'glove_cc_large')"
   ]
  },
  {
   "cell_type": "code",
   "execution_count": 15,
   "metadata": {},
   "outputs": [],
   "source": [
    "models = [u_desip_model, p_desip_model, sswe_model, glove_cc_model, glove_cc_large_model]"
   ]
  },
  {
   "cell_type": "markdown",
   "metadata": {},
   "source": [
    "## Query ranking"
   ]
  },
  {
   "cell_type": "code",
   "execution_count": 16,
   "metadata": {},
   "outputs": [],
   "source": [
    "#query1 = Query([harmless_minority_words_clean, harmless_majority_words_clean],\n",
    "   #                    [WEAT_wordsets['unpleasant_5'], WEAT_wordsets['pleasant_5']])\n",
    "\n",
    "query2 = Query([harmless_minority_words_clean, harmless_majority_words_clean],\n",
    "                       [profane_words, sentiments_wordsets['positive_words']])\n",
    "\n",
    "gender_queries = [query2]"
   ]
  },
  {
   "cell_type": "code",
   "execution_count": 17,
   "metadata": {},
   "outputs": [
    {
     "name": "stderr",
     "output_type": "stream",
     "text": [
      "/home/fatma/.local/lib/python3.8/site-packages/wefe/metrics/RNSB.py:150: VisibleDeprecationWarning: Creating an ndarray from ragged nested sequences (which is a list-or-tuple of lists-or-tuples-or ndarrays with different lengths or shapes) is deprecated. If you meant to do this, you must specify 'dtype=object' when creating the ndarray.\n",
      "  probabilities = np.array([\n",
      "/home/fatma/.local/lib/python3.8/site-packages/wefe/metrics/RNSB.py:156: VisibleDeprecationWarning: Creating an ndarray from ragged nested sequences (which is a list-or-tuple of lists-or-tuples-or ndarrays with different lengths or shapes) is deprecated. If you meant to do this, you must specify 'dtype=object' when creating the ndarray.\n",
      "  negative_probabilities = np.array(\n",
      "/home/fatma/.local/lib/python3.8/site-packages/wefe/metrics/RNSB.py:150: VisibleDeprecationWarning: Creating an ndarray from ragged nested sequences (which is a list-or-tuple of lists-or-tuples-or ndarrays with different lengths or shapes) is deprecated. If you meant to do this, you must specify 'dtype=object' when creating the ndarray.\n",
      "  probabilities = np.array([\n",
      "/home/fatma/.local/lib/python3.8/site-packages/wefe/metrics/RNSB.py:156: VisibleDeprecationWarning: Creating an ndarray from ragged nested sequences (which is a list-or-tuple of lists-or-tuples-or ndarrays with different lengths or shapes) is deprecated. If you meant to do this, you must specify 'dtype=object' when creating the ndarray.\n",
      "  negative_probabilities = np.array(\n",
      "/home/fatma/.local/lib/python3.8/site-packages/wefe/metrics/RNSB.py:150: VisibleDeprecationWarning: Creating an ndarray from ragged nested sequences (which is a list-or-tuple of lists-or-tuples-or ndarrays with different lengths or shapes) is deprecated. If you meant to do this, you must specify 'dtype=object' when creating the ndarray.\n",
      "  probabilities = np.array([\n",
      "/home/fatma/.local/lib/python3.8/site-packages/wefe/metrics/RNSB.py:156: VisibleDeprecationWarning: Creating an ndarray from ragged nested sequences (which is a list-or-tuple of lists-or-tuples-or ndarrays with different lengths or shapes) is deprecated. If you meant to do this, you must specify 'dtype=object' when creating the ndarray.\n",
      "  negative_probabilities = np.array(\n",
      "/home/fatma/.local/lib/python3.8/site-packages/wefe/metrics/RNSB.py:150: VisibleDeprecationWarning: Creating an ndarray from ragged nested sequences (which is a list-or-tuple of lists-or-tuples-or ndarrays with different lengths or shapes) is deprecated. If you meant to do this, you must specify 'dtype=object' when creating the ndarray.\n",
      "  probabilities = np.array([\n",
      "/home/fatma/.local/lib/python3.8/site-packages/wefe/metrics/RNSB.py:156: VisibleDeprecationWarning: Creating an ndarray from ragged nested sequences (which is a list-or-tuple of lists-or-tuples-or ndarrays with different lengths or shapes) is deprecated. If you meant to do this, you must specify 'dtype=object' when creating the ndarray.\n",
      "  negative_probabilities = np.array(\n",
      "/home/fatma/.local/lib/python3.8/site-packages/wefe/metrics/RNSB.py:150: VisibleDeprecationWarning: Creating an ndarray from ragged nested sequences (which is a list-or-tuple of lists-or-tuples-or ndarrays with different lengths or shapes) is deprecated. If you meant to do this, you must specify 'dtype=object' when creating the ndarray.\n",
      "  probabilities = np.array([\n",
      "/home/fatma/.local/lib/python3.8/site-packages/wefe/metrics/RNSB.py:156: VisibleDeprecationWarning: Creating an ndarray from ragged nested sequences (which is a list-or-tuple of lists-or-tuples-or ndarrays with different lengths or shapes) is deprecated. If you meant to do this, you must specify 'dtype=object' when creating the ndarray.\n",
      "  negative_probabilities = np.array(\n"
     ]
    }
   ],
   "source": [
    "# Run the queries WEAT\n",
    "WEAT_gender_results = run_queries(\n",
    "    WEAT,\n",
    "    gender_queries,\n",
    "    models,\n",
    "    aggregate_results=True,\n",
    "    return_only_aggregation=True,\n",
    "    lost_vocabulary_threshold = 0.6,\n",
    "    queries_set_name='SOS Queries')\n",
    "\n",
    "# Run the queries with WEAT Effect Size\n",
    "\n",
    "WEAT_EZ_gender_results = run_queries(WEAT,\n",
    "                                     gender_queries,\n",
    "                                     models,\n",
    "                                     metric_params={\n",
    "                                        \n",
    "                                         'return_effect_size': True\n",
    "                                     },\n",
    "                                     aggregate_results=True,\n",
    "                                     return_only_aggregation=True,\n",
    "                                     lost_vocabulary_threshold = 0.6,\n",
    "                                     queries_set_name='SOS Queries')\n",
    "\n",
    "\n",
    "# Run the queries using RNSB\n",
    "RNSB_gender_results = run_queries(RNSB,\n",
    "                                gender_queries,\n",
    "                                models,\n",
    "                                aggregate_results=True,\n",
    "                                return_only_aggregation=True,\n",
    "                                    lost_vocabulary_threshold = 0.6,\n",
    "                                queries_set_name='SOS Queries')\n",
    "\n",
    "\n"
   ]
  },
  {
   "cell_type": "code",
   "execution_count": 18,
   "metadata": {},
   "outputs": [],
   "source": [
    "# Run the queries using RND\n",
    "RND_gender_results = run_queries(RND,\n",
    "                                gender_queries,\n",
    "                                models,\n",
    "                                aggregate_results=True,\n",
    "                                generate_subqueries=True,\n",
    "                                lost_vocabulary_threshold = 0.6,\n",
    "                                queries_set_name='SOS Queries')\n",
    "\n",
    "\n"
   ]
  },
  {
   "cell_type": "code",
   "execution_count": 19,
   "metadata": {},
   "outputs": [],
   "source": [
    "# Run the queries using ECT\n",
    "ECT_gender_results = run_queries(ECT,\n",
    "                                gender_queries,\n",
    "                                models,\n",
    "                                aggregate_results=True,\n",
    "                                generate_subqueries=True,\n",
    "                                lost_vocabulary_threshold = 0.6,\n",
    "                                queries_set_name='SOS Queries')"
   ]
  },
  {
   "cell_type": "code",
   "execution_count": 20,
   "metadata": {},
   "outputs": [
    {
     "data": {
      "text/html": [
       "<div>\n",
       "<style scoped>\n",
       "    .dataframe tbody tr th:only-of-type {\n",
       "        vertical-align: middle;\n",
       "    }\n",
       "\n",
       "    .dataframe tbody tr th {\n",
       "        vertical-align: top;\n",
       "    }\n",
       "\n",
       "    .dataframe thead th {\n",
       "        text-align: right;\n",
       "    }\n",
       "</style>\n",
       "<table border=\"1\" class=\"dataframe\">\n",
       "  <thead>\n",
       "    <tr style=\"text-align: right;\">\n",
       "      <th></th>\n",
       "      <th>WEAT: SOS Queries average of abs values score</th>\n",
       "    </tr>\n",
       "    <tr>\n",
       "      <th>model_name</th>\n",
       "      <th></th>\n",
       "    </tr>\n",
       "  </thead>\n",
       "  <tbody>\n",
       "    <tr>\n",
       "      <th>u_desip</th>\n",
       "      <td>0.076516</td>\n",
       "    </tr>\n",
       "    <tr>\n",
       "      <th>p_desip</th>\n",
       "      <td>0.063753</td>\n",
       "    </tr>\n",
       "    <tr>\n",
       "      <th>sswe</th>\n",
       "      <td>1.765366</td>\n",
       "    </tr>\n",
       "    <tr>\n",
       "      <th>glove_cc</th>\n",
       "      <td>0.628459</td>\n",
       "    </tr>\n",
       "    <tr>\n",
       "      <th>glove_cc_large</th>\n",
       "      <td>0.274132</td>\n",
       "    </tr>\n",
       "  </tbody>\n",
       "</table>\n",
       "</div>"
      ],
      "text/plain": [
       "                WEAT: SOS Queries average of abs values score\n",
       "model_name                                                   \n",
       "u_desip                                              0.076516\n",
       "p_desip                                              0.063753\n",
       "sswe                                                 1.765366\n",
       "glove_cc                                             0.628459\n",
       "glove_cc_large                                       0.274132"
      ]
     },
     "execution_count": 20,
     "metadata": {},
     "output_type": "execute_result"
    }
   ],
   "source": [
    "WEAT_gender_results"
   ]
  },
  {
   "cell_type": "code",
   "execution_count": 21,
   "metadata": {},
   "outputs": [
    {
     "data": {
      "text/html": [
       "<div>\n",
       "<style scoped>\n",
       "    .dataframe tbody tr th:only-of-type {\n",
       "        vertical-align: middle;\n",
       "    }\n",
       "\n",
       "    .dataframe tbody tr th {\n",
       "        vertical-align: top;\n",
       "    }\n",
       "\n",
       "    .dataframe thead th {\n",
       "        text-align: right;\n",
       "    }\n",
       "</style>\n",
       "<table border=\"1\" class=\"dataframe\">\n",
       "  <thead>\n",
       "    <tr style=\"text-align: right;\">\n",
       "      <th></th>\n",
       "      <th>RNSB: SOS Queries average of abs values score</th>\n",
       "    </tr>\n",
       "    <tr>\n",
       "      <th>model_name</th>\n",
       "      <th></th>\n",
       "    </tr>\n",
       "  </thead>\n",
       "  <tbody>\n",
       "    <tr>\n",
       "      <th>u_desip</th>\n",
       "      <td>0.811371</td>\n",
       "    </tr>\n",
       "    <tr>\n",
       "      <th>p_desip</th>\n",
       "      <td>0.878332</td>\n",
       "    </tr>\n",
       "    <tr>\n",
       "      <th>sswe</th>\n",
       "      <td>0.230516</td>\n",
       "    </tr>\n",
       "    <tr>\n",
       "      <th>glove_cc</th>\n",
       "      <td>1.493269</td>\n",
       "    </tr>\n",
       "    <tr>\n",
       "      <th>glove_cc_large</th>\n",
       "      <td>1.332916</td>\n",
       "    </tr>\n",
       "  </tbody>\n",
       "</table>\n",
       "</div>"
      ],
      "text/plain": [
       "                RNSB: SOS Queries average of abs values score\n",
       "model_name                                                   \n",
       "u_desip                                              0.811371\n",
       "p_desip                                              0.878332\n",
       "sswe                                                 0.230516\n",
       "glove_cc                                             1.493269\n",
       "glove_cc_large                                       1.332916"
      ]
     },
     "execution_count": 21,
     "metadata": {},
     "output_type": "execute_result"
    }
   ],
   "source": [
    "RNSB_gender_results"
   ]
  },
  {
   "cell_type": "code",
   "execution_count": 22,
   "metadata": {},
   "outputs": [
    {
     "data": {
      "text/plain": [
       "model_name\n",
       "u_desip           0.011194\n",
       "p_desip           0.027578\n",
       "sswe              0.306853\n",
       "glove_cc          0.126138\n",
       "glove_cc_large    0.206265\n",
       "Name: RND: SOS Queries average of abs values score, dtype: float64"
      ]
     },
     "execution_count": 22,
     "metadata": {},
     "output_type": "execute_result"
    }
   ],
   "source": [
    "RND_gender_results[\"RND: SOS Queries average of abs values score\"]"
   ]
  },
  {
   "cell_type": "code",
   "execution_count": 23,
   "metadata": {},
   "outputs": [
    {
     "data": {
      "text/plain": [
       "model_name\n",
       "u_desip           0.816771\n",
       "p_desip           0.804652\n",
       "sswe              0.869437\n",
       "glove_cc          0.966801\n",
       "glove_cc_large    0.934579\n",
       "Name: ECT: SOS Queries average of abs values score, dtype: float64"
      ]
     },
     "execution_count": 23,
     "metadata": {},
     "output_type": "execute_result"
    }
   ],
   "source": [
    "ECT_gender_results[\"ECT: SOS Queries average of abs values score\"]"
   ]
  },
  {
   "cell_type": "code",
   "execution_count": 24,
   "metadata": {},
   "outputs": [],
   "source": [
    "import numpy as np\n",
    "import scipy"
   ]
  },
  {
   "cell_type": "code",
   "execution_count": 25,
   "metadata": {},
   "outputs": [
    {
     "data": {
      "text/plain": [
       "model_name\n",
       "u_desip           0.816771\n",
       "p_desip           0.804652\n",
       "sswe              0.869437\n",
       "glove_cc          0.966801\n",
       "glove_cc_large    0.934579\n",
       "Name: ECT: SOS Queries average of abs values score, dtype: float64"
      ]
     },
     "execution_count": 25,
     "metadata": {},
     "output_type": "execute_result"
    }
   ],
   "source": [
    "ECT_gender_results[\"ECT: SOS Queries average of abs values score\"]"
   ]
  },
  {
   "cell_type": "code",
   "execution_count": 26,
   "metadata": {},
   "outputs": [
    {
     "data": {
      "text/html": [
       "<div>\n",
       "<style scoped>\n",
       "    .dataframe tbody tr th:only-of-type {\n",
       "        vertical-align: middle;\n",
       "    }\n",
       "\n",
       "    .dataframe tbody tr th {\n",
       "        vertical-align: top;\n",
       "    }\n",
       "\n",
       "    .dataframe thead th {\n",
       "        text-align: right;\n",
       "    }\n",
       "</style>\n",
       "<table border=\"1\" class=\"dataframe\">\n",
       "  <thead>\n",
       "    <tr style=\"text-align: right;\">\n",
       "      <th></th>\n",
       "      <th>Target set 0 and Target set 1 wrt Attribute set 0</th>\n",
       "      <th>Target set 0 and Target set 1 wrt Attribute set 1</th>\n",
       "      <th>ECT: SOS Queries average of abs values score</th>\n",
       "    </tr>\n",
       "    <tr>\n",
       "      <th>model_name</th>\n",
       "      <th></th>\n",
       "      <th></th>\n",
       "      <th></th>\n",
       "    </tr>\n",
       "  </thead>\n",
       "  <tbody>\n",
       "    <tr>\n",
       "      <th>u_desip</th>\n",
       "      <td>0.770581</td>\n",
       "      <td>0.862961</td>\n",
       "      <td>0.816771</td>\n",
       "    </tr>\n",
       "    <tr>\n",
       "      <th>p_desip</th>\n",
       "      <td>0.755079</td>\n",
       "      <td>0.854225</td>\n",
       "      <td>0.804652</td>\n",
       "    </tr>\n",
       "    <tr>\n",
       "      <th>sswe</th>\n",
       "      <td>0.866476</td>\n",
       "      <td>0.872398</td>\n",
       "      <td>0.869437</td>\n",
       "    </tr>\n",
       "    <tr>\n",
       "      <th>glove_cc</th>\n",
       "      <td>0.958292</td>\n",
       "      <td>0.975310</td>\n",
       "      <td>0.966801</td>\n",
       "    </tr>\n",
       "    <tr>\n",
       "      <th>glove_cc_large</th>\n",
       "      <td>0.941969</td>\n",
       "      <td>0.927190</td>\n",
       "      <td>0.934579</td>\n",
       "    </tr>\n",
       "  </tbody>\n",
       "</table>\n",
       "</div>"
      ],
      "text/plain": [
       "                Target set 0 and Target set 1 wrt Attribute set 0  \\\n",
       "model_name                                                          \n",
       "u_desip                                                  0.770581   \n",
       "p_desip                                                  0.755079   \n",
       "sswe                                                     0.866476   \n",
       "glove_cc                                                 0.958292   \n",
       "glove_cc_large                                           0.941969   \n",
       "\n",
       "                Target set 0 and Target set 1 wrt Attribute set 1  \\\n",
       "model_name                                                          \n",
       "u_desip                                                  0.862961   \n",
       "p_desip                                                  0.854225   \n",
       "sswe                                                     0.872398   \n",
       "glove_cc                                                 0.975310   \n",
       "glove_cc_large                                           0.927190   \n",
       "\n",
       "                ECT: SOS Queries average of abs values score  \n",
       "model_name                                                    \n",
       "u_desip                                             0.816771  \n",
       "p_desip                                             0.804652  \n",
       "sswe                                                0.869437  \n",
       "glove_cc                                            0.966801  \n",
       "glove_cc_large                                      0.934579  "
      ]
     },
     "execution_count": 26,
     "metadata": {},
     "output_type": "execute_result"
    }
   ],
   "source": [
    "ECT_gender_results"
   ]
  },
  {
   "cell_type": "code",
   "execution_count": 27,
   "metadata": {},
   "outputs": [],
   "source": [
    "gender_ranking = create_ranking([ WEAT_gender_results, \n",
    "                                RNSB_gender_results, RND_gender_results\n",
    "                                ], ascending=True)\n",
    "ect_gender_Ranking = create_ranking([ECT_gender_results], ascending=False)"
   ]
  },
  {
   "cell_type": "code",
   "execution_count": 28,
   "metadata": {},
   "outputs": [
    {
     "data": {
      "text/html": [
       "<div>\n",
       "<style scoped>\n",
       "    .dataframe tbody tr th:only-of-type {\n",
       "        vertical-align: middle;\n",
       "    }\n",
       "\n",
       "    .dataframe tbody tr th {\n",
       "        vertical-align: top;\n",
       "    }\n",
       "\n",
       "    .dataframe thead th {\n",
       "        text-align: right;\n",
       "    }\n",
       "</style>\n",
       "<table border=\"1\" class=\"dataframe\">\n",
       "  <thead>\n",
       "    <tr style=\"text-align: right;\">\n",
       "      <th></th>\n",
       "      <th>ECT: SOS Queries average of abs values score</th>\n",
       "    </tr>\n",
       "    <tr>\n",
       "      <th>model_name</th>\n",
       "      <th></th>\n",
       "    </tr>\n",
       "  </thead>\n",
       "  <tbody>\n",
       "    <tr>\n",
       "      <th>u_desip</th>\n",
       "      <td>4.0</td>\n",
       "    </tr>\n",
       "    <tr>\n",
       "      <th>p_desip</th>\n",
       "      <td>5.0</td>\n",
       "    </tr>\n",
       "    <tr>\n",
       "      <th>sswe</th>\n",
       "      <td>3.0</td>\n",
       "    </tr>\n",
       "    <tr>\n",
       "      <th>glove_cc</th>\n",
       "      <td>1.0</td>\n",
       "    </tr>\n",
       "    <tr>\n",
       "      <th>glove_cc_large</th>\n",
       "      <td>2.0</td>\n",
       "    </tr>\n",
       "  </tbody>\n",
       "</table>\n",
       "</div>"
      ],
      "text/plain": [
       "                ECT: SOS Queries average of abs values score\n",
       "model_name                                                  \n",
       "u_desip                                                  4.0\n",
       "p_desip                                                  5.0\n",
       "sswe                                                     3.0\n",
       "glove_cc                                                 1.0\n",
       "glove_cc_large                                           2.0"
      ]
     },
     "execution_count": 28,
     "metadata": {},
     "output_type": "execute_result"
    }
   ],
   "source": [
    "ect_gender_Ranking"
   ]
  },
  {
   "cell_type": "code",
   "execution_count": 29,
   "metadata": {},
   "outputs": [],
   "source": [
    "gender_ranking[\"ECT\"] = ect_gender_Ranking[\"ECT: SOS Queries average of abs values score\"].values"
   ]
  },
  {
   "cell_type": "code",
   "execution_count": 30,
   "metadata": {},
   "outputs": [
    {
     "data": {
      "text/html": [
       "<div>\n",
       "<style scoped>\n",
       "    .dataframe tbody tr th:only-of-type {\n",
       "        vertical-align: middle;\n",
       "    }\n",
       "\n",
       "    .dataframe tbody tr th {\n",
       "        vertical-align: top;\n",
       "    }\n",
       "\n",
       "    .dataframe thead th {\n",
       "        text-align: right;\n",
       "    }\n",
       "</style>\n",
       "<table border=\"1\" class=\"dataframe\">\n",
       "  <thead>\n",
       "    <tr style=\"text-align: right;\">\n",
       "      <th></th>\n",
       "      <th>WEAT: SOS Queries average of abs values score</th>\n",
       "      <th>RNSB: SOS Queries average of abs values score</th>\n",
       "      <th>RND: SOS Queries average of abs values score</th>\n",
       "      <th>ECT</th>\n",
       "    </tr>\n",
       "    <tr>\n",
       "      <th>model_name</th>\n",
       "      <th></th>\n",
       "      <th></th>\n",
       "      <th></th>\n",
       "      <th></th>\n",
       "    </tr>\n",
       "  </thead>\n",
       "  <tbody>\n",
       "    <tr>\n",
       "      <th>u_desip</th>\n",
       "      <td>2.0</td>\n",
       "      <td>2.0</td>\n",
       "      <td>1.0</td>\n",
       "      <td>4.0</td>\n",
       "    </tr>\n",
       "    <tr>\n",
       "      <th>p_desip</th>\n",
       "      <td>1.0</td>\n",
       "      <td>3.0</td>\n",
       "      <td>2.0</td>\n",
       "      <td>5.0</td>\n",
       "    </tr>\n",
       "    <tr>\n",
       "      <th>sswe</th>\n",
       "      <td>5.0</td>\n",
       "      <td>1.0</td>\n",
       "      <td>5.0</td>\n",
       "      <td>3.0</td>\n",
       "    </tr>\n",
       "    <tr>\n",
       "      <th>glove_cc</th>\n",
       "      <td>4.0</td>\n",
       "      <td>5.0</td>\n",
       "      <td>3.0</td>\n",
       "      <td>1.0</td>\n",
       "    </tr>\n",
       "    <tr>\n",
       "      <th>glove_cc_large</th>\n",
       "      <td>3.0</td>\n",
       "      <td>4.0</td>\n",
       "      <td>4.0</td>\n",
       "      <td>2.0</td>\n",
       "    </tr>\n",
       "  </tbody>\n",
       "</table>\n",
       "</div>"
      ],
      "text/plain": [
       "                WEAT: SOS Queries average of abs values score  \\\n",
       "model_name                                                      \n",
       "u_desip                                                   2.0   \n",
       "p_desip                                                   1.0   \n",
       "sswe                                                      5.0   \n",
       "glove_cc                                                  4.0   \n",
       "glove_cc_large                                            3.0   \n",
       "\n",
       "                RNSB: SOS Queries average of abs values score  \\\n",
       "model_name                                                      \n",
       "u_desip                                                   2.0   \n",
       "p_desip                                                   3.0   \n",
       "sswe                                                      1.0   \n",
       "glove_cc                                                  5.0   \n",
       "glove_cc_large                                            4.0   \n",
       "\n",
       "                RND: SOS Queries average of abs values score  ECT  \n",
       "model_name                                                         \n",
       "u_desip                                                  1.0  4.0  \n",
       "p_desip                                                  2.0  5.0  \n",
       "sswe                                                     5.0  3.0  \n",
       "glove_cc                                                 3.0  1.0  \n",
       "glove_cc_large                                           4.0  2.0  "
      ]
     },
     "execution_count": 30,
     "metadata": {},
     "output_type": "execute_result"
    }
   ],
   "source": [
    "gender_ranking"
   ]
  }
 ],
 "metadata": {
  "kernelspec": {
   "display_name": "env_py_39",
   "language": "python",
   "name": "env_py_39"
  },
  "language_info": {
   "codemirror_mode": {
    "name": "ipython",
    "version": 3
   },
   "file_extension": ".py",
   "mimetype": "text/x-python",
   "name": "python",
   "nbconvert_exporter": "python",
   "pygments_lexer": "ipython3",
   "version": "3.8.10"
  }
 },
 "nbformat": 4,
 "nbformat_minor": 4
}
