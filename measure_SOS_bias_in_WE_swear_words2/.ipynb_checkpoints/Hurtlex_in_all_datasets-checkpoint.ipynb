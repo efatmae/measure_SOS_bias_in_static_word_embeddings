{
 "cells": [
  {
   "cell_type": "code",
   "execution_count": 1,
   "metadata": {
    "executionInfo": {
     "elapsed": 5412,
     "status": "ok",
     "timestamp": 1619615034898,
     "user": {
      "displayName": "Fatma Elsafoury",
      "photoUrl": "https://lh3.googleusercontent.com/a-/AOh14GiBOqs1m0p9NKAVLeYOvj2cfPepoOadDs_nVw4YEQ=s64",
      "userId": "12155606853084180649"
     },
     "user_tz": -60
    },
    "id": "-Hrtg828GvSK"
   },
   "outputs": [
    {
     "name": "stderr",
     "output_type": "stream",
     "text": [
      "In /home/fatma/.local/lib/python3.6/site-packages/matplotlib/mpl-data/stylelib/_classic_test.mplstyle: \n",
      "The text.latex.preview rcparam was deprecated in Matplotlib 3.3 and will be removed two minor releases later.\n",
      "In /home/fatma/.local/lib/python3.6/site-packages/matplotlib/mpl-data/stylelib/_classic_test.mplstyle: \n",
      "The mathtext.fallback_to_cm rcparam was deprecated in Matplotlib 3.3 and will be removed two minor releases later.\n",
      "In /home/fatma/.local/lib/python3.6/site-packages/matplotlib/mpl-data/stylelib/_classic_test.mplstyle: Support for setting the 'mathtext.fallback_to_cm' rcParam is deprecated since 3.3 and will be removed two minor releases later; use 'mathtext.fallback : 'cm' instead.\n",
      "In /home/fatma/.local/lib/python3.6/site-packages/matplotlib/mpl-data/stylelib/_classic_test.mplstyle: \n",
      "The validate_bool_maybe_none function was deprecated in Matplotlib 3.3 and will be removed two minor releases later.\n",
      "In /home/fatma/.local/lib/python3.6/site-packages/matplotlib/mpl-data/stylelib/_classic_test.mplstyle: \n",
      "The savefig.jpeg_quality rcparam was deprecated in Matplotlib 3.3 and will be removed two minor releases later.\n",
      "In /home/fatma/.local/lib/python3.6/site-packages/matplotlib/mpl-data/stylelib/_classic_test.mplstyle: \n",
      "The keymap.all_axes rcparam was deprecated in Matplotlib 3.3 and will be removed two minor releases later.\n",
      "In /home/fatma/.local/lib/python3.6/site-packages/matplotlib/mpl-data/stylelib/_classic_test.mplstyle: \n",
      "The animation.avconv_path rcparam was deprecated in Matplotlib 3.3 and will be removed two minor releases later.\n",
      "In /home/fatma/.local/lib/python3.6/site-packages/matplotlib/mpl-data/stylelib/_classic_test.mplstyle: \n",
      "The animation.avconv_args rcparam was deprecated in Matplotlib 3.3 and will be removed two minor releases later.\n"
     ]
    }
   ],
   "source": [
    "import pandas as pd\n",
    "import numpy as np\n",
    "import os\n",
    "import time\n",
    "import random\n",
    "import gensim\n",
    "import numpy as np\n",
    "import os\n",
    "import torch\n",
    "from gensim.models import KeyedVectors\n",
    "from matplotlib import pyplot as plt"
   ]
  },
  {
   "cell_type": "code",
   "execution_count": 2,
   "metadata": {
    "executionInfo": {
     "elapsed": 5413,
     "status": "ok",
     "timestamp": 1619615034900,
     "user": {
      "displayName": "Fatma Elsafoury",
      "photoUrl": "https://lh3.googleusercontent.com/a-/AOh14GiBOqs1m0p9NKAVLeYOvj2cfPepoOadDs_nVw4YEQ=s64",
      "userId": "12155606853084180649"
     },
     "user_tz": -60
    },
    "id": "9VlvSt6ESPfB"
   },
   "outputs": [],
   "source": [
    "pd.set_option(\"max_colwidth\",1000000000)"
   ]
  },
  {
   "cell_type": "code",
   "execution_count": 3,
   "metadata": {
    "executionInfo": {
     "elapsed": 5412,
     "status": "ok",
     "timestamp": 1619615034902,
     "user": {
      "displayName": "Fatma Elsafoury",
      "photoUrl": "https://lh3.googleusercontent.com/a-/AOh14GiBOqs1m0p9NKAVLeYOvj2cfPepoOadDs_nVw4YEQ=s64",
      "userId": "12155606853084180649"
     },
     "user_tz": -60
    },
    "id": "2MWCmYTHG1SS"
   },
   "outputs": [],
   "source": [
    "data_folder = \"../../Data\""
   ]
  },
  {
   "cell_type": "code",
   "execution_count": 4,
   "metadata": {
    "colab": {
     "base_uri": "https://localhost:8080/"
    },
    "executionInfo": {
     "elapsed": 6388,
     "status": "ok",
     "timestamp": 1619615035885,
     "user": {
      "displayName": "Fatma Elsafoury",
      "photoUrl": "https://lh3.googleusercontent.com/a-/AOh14GiBOqs1m0p9NKAVLeYOvj2cfPepoOadDs_nVw4YEQ=s64",
      "userId": "12155606853084180649"
     },
     "user_tz": -60
    },
    "id": "2U6DA0leG2qq",
    "outputId": "322f66ce-28ab-4e0a-c206-6c8f3b5b860c"
   },
   "outputs": [
    {
     "data": {
      "text/plain": [
       "array(['qas', 'cds', 'is', 're', 'om', 'an', 'or', 'svp', 'asm', 'pr',\n",
       "       'dmc', 'asf', 'ddp', 'ps', 'pa', 'rci', 'ddf'], dtype=object)"
      ]
     },
     "execution_count": 4,
     "metadata": {},
     "output_type": "execute_result"
    }
   ],
   "source": [
    "hurtlex_df = pd.read_csv(data_folder+\"/Hurtlex.tsv\", sep=\"\\t\")\n",
    "hurtlex_df.category.unique()"
   ]
  },
  {
   "cell_type": "code",
   "execution_count": 5,
   "metadata": {
    "colab": {
     "base_uri": "https://localhost:8080/"
    },
    "executionInfo": {
     "elapsed": 6382,
     "status": "ok",
     "timestamp": 1619615035886,
     "user": {
      "displayName": "Fatma Elsafoury",
      "photoUrl": "https://lh3.googleusercontent.com/a-/AOh14GiBOqs1m0p9NKAVLeYOvj2cfPepoOadDs_nVw4YEQ=s64",
      "userId": "12155606853084180649"
     },
     "user_tz": -60
    },
    "id": "-MrEe_Jj6xuJ",
    "outputId": "6f052086-ac8a-4d90-a46a-c79ada72201d"
   },
   "outputs": [
    {
     "data": {
      "text/plain": [
       "8228"
      ]
     },
     "execution_count": 5,
     "metadata": {},
     "output_type": "execute_result"
    }
   ],
   "source": [
    "len(hurtlex_df)"
   ]
  },
  {
   "cell_type": "code",
   "execution_count": 6,
   "metadata": {
    "colab": {
     "base_uri": "https://localhost:8080/"
    },
    "executionInfo": {
     "elapsed": 6375,
     "status": "ok",
     "timestamp": 1619615035886,
     "user": {
      "displayName": "Fatma Elsafoury",
      "photoUrl": "https://lh3.googleusercontent.com/a-/AOh14GiBOqs1m0p9NKAVLeYOvj2cfPepoOadDs_nVw4YEQ=s64",
      "userId": "12155606853084180649"
     },
     "user_tz": -60
    },
    "id": "-Hw8cfod_8eY",
    "outputId": "697aa529-a70d-48d1-d570-27da0ad057a4"
   },
   "outputs": [
    {
     "data": {
      "text/plain": [
       "5963"
      ]
     },
     "execution_count": 6,
     "metadata": {},
     "output_type": "execute_result"
    }
   ],
   "source": [
    "len(hurtlex_df[\"lemma\"].unique())"
   ]
  },
  {
   "cell_type": "code",
   "execution_count": 7,
   "metadata": {
    "colab": {
     "base_uri": "https://localhost:8080/"
    },
    "executionInfo": {
     "elapsed": 6369,
     "status": "ok",
     "timestamp": 1619615035887,
     "user": {
      "displayName": "Fatma Elsafoury",
      "photoUrl": "https://lh3.googleusercontent.com/a-/AOh14GiBOqs1m0p9NKAVLeYOvj2cfPepoOadDs_nVw4YEQ=s64",
      "userId": "12155606853084180649"
     },
     "user_tz": -60
    },
    "id": "ZQSU_LmK6plj",
    "outputId": "f48b4610-aea0-418c-b999-1d01db810114"
   },
   "outputs": [
    {
     "data": {
      "text/plain": [
       "5963"
      ]
     },
     "execution_count": 7,
     "metadata": {},
     "output_type": "execute_result"
    }
   ],
   "source": [
    "len(hurtlex_df.drop_duplicates(subset=[\"lemma\"]))"
   ]
  },
  {
   "cell_type": "code",
   "execution_count": 8,
   "metadata": {
    "executionInfo": {
     "elapsed": 6369,
     "status": "ok",
     "timestamp": 1619615035888,
     "user": {
      "displayName": "Fatma Elsafoury",
      "photoUrl": "https://lh3.googleusercontent.com/a-/AOh14GiBOqs1m0p9NKAVLeYOvj2cfPepoOadDs_nVw4YEQ=s64",
      "userId": "12155606853084180649"
     },
     "user_tz": -60
    },
    "id": "ZRorTnex-U3R"
   },
   "outputs": [],
   "source": [
    "duplicated_hurtlex = hurtlex_df[hurtlex_df.duplicated(subset=[\"lemma\"])]"
   ]
  },
  {
   "cell_type": "code",
   "execution_count": 9,
   "metadata": {
    "colab": {
     "base_uri": "https://localhost:8080/"
    },
    "executionInfo": {
     "elapsed": 6362,
     "status": "ok",
     "timestamp": 1619615035888,
     "user": {
      "displayName": "Fatma Elsafoury",
      "photoUrl": "https://lh3.googleusercontent.com/a-/AOh14GiBOqs1m0p9NKAVLeYOvj2cfPepoOadDs_nVw4YEQ=s64",
      "userId": "12155606853084180649"
     },
     "user_tz": -60
    },
    "id": "aP-T3WUN_O4u",
    "outputId": "732bf555-39c7-4be4-b3b4-db800dafadef"
   },
   "outputs": [
    {
     "data": {
      "text/plain": [
       "2265"
      ]
     },
     "execution_count": 9,
     "metadata": {},
     "output_type": "execute_result"
    }
   ],
   "source": [
    "len(duplicated_hurtlex)"
   ]
  },
  {
   "cell_type": "code",
   "execution_count": 10,
   "metadata": {
    "executionInfo": {
     "elapsed": 6811,
     "status": "ok",
     "timestamp": 1619615036338,
     "user": {
      "displayName": "Fatma Elsafoury",
      "photoUrl": "https://lh3.googleusercontent.com/a-/AOh14GiBOqs1m0p9NKAVLeYOvj2cfPepoOadDs_nVw4YEQ=s64",
      "userId": "12155606853084180649"
     },
     "user_tz": -60
    },
    "id": "WPNvkWVk_usm"
   },
   "outputs": [],
   "source": [
    "duplicated_hurtlex.to_csv(data_folder+\"/duplicated_hurtlex_vocab.csv\")"
   ]
  },
  {
   "cell_type": "code",
   "execution_count": 11,
   "metadata": {
    "colab": {
     "base_uri": "https://localhost:8080/",
     "height": 406
    },
    "executionInfo": {
     "elapsed": 6814,
     "status": "ok",
     "timestamp": 1619615036349,
     "user": {
      "displayName": "Fatma Elsafoury",
      "photoUrl": "https://lh3.googleusercontent.com/a-/AOh14GiBOqs1m0p9NKAVLeYOvj2cfPepoOadDs_nVw4YEQ=s64",
      "userId": "12155606853084180649"
     },
     "user_tz": -60
    },
    "id": "90HNslTP_Snn",
    "outputId": "8e48eea8-4cb7-4c59-df6d-fb6e3bc62420"
   },
   "outputs": [
    {
     "data": {
      "text/html": [
       "<div>\n",
       "<style scoped>\n",
       "    .dataframe tbody tr th:only-of-type {\n",
       "        vertical-align: middle;\n",
       "    }\n",
       "\n",
       "    .dataframe tbody tr th {\n",
       "        vertical-align: top;\n",
       "    }\n",
       "\n",
       "    .dataframe thead th {\n",
       "        text-align: right;\n",
       "    }\n",
       "</style>\n",
       "<table border=\"1\" class=\"dataframe\">\n",
       "  <thead>\n",
       "    <tr style=\"text-align: right;\">\n",
       "      <th></th>\n",
       "      <th>id</th>\n",
       "      <th>pos</th>\n",
       "      <th>category</th>\n",
       "      <th>stereotype</th>\n",
       "      <th>lemma</th>\n",
       "      <th>level</th>\n",
       "    </tr>\n",
       "  </thead>\n",
       "  <tbody>\n",
       "    <tr>\n",
       "      <th>0</th>\n",
       "      <td>EN1382</td>\n",
       "      <td>n</td>\n",
       "      <td>qas</td>\n",
       "      <td>no</td>\n",
       "      <td>gag reel</td>\n",
       "      <td>inclusive</td>\n",
       "    </tr>\n",
       "    <tr>\n",
       "      <th>2</th>\n",
       "      <td>EN6856</td>\n",
       "      <td>n</td>\n",
       "      <td>is</td>\n",
       "      <td>yes</td>\n",
       "      <td>mendicant</td>\n",
       "      <td>conservative</td>\n",
       "    </tr>\n",
       "    <tr>\n",
       "      <th>3</th>\n",
       "      <td>EN5485</td>\n",
       "      <td>n</td>\n",
       "      <td>re</td>\n",
       "      <td>no</td>\n",
       "      <td>maffias</td>\n",
       "      <td>conservative</td>\n",
       "    </tr>\n",
       "    <tr>\n",
       "      <th>4</th>\n",
       "      <td>EN5024</td>\n",
       "      <td>n</td>\n",
       "      <td>cds</td>\n",
       "      <td>no</td>\n",
       "      <td>lying in trade</td>\n",
       "      <td>conservative</td>\n",
       "    </tr>\n",
       "    <tr>\n",
       "      <th>9</th>\n",
       "      <td>EN858</td>\n",
       "      <td>n</td>\n",
       "      <td>an</td>\n",
       "      <td>no</td>\n",
       "      <td>sucker</td>\n",
       "      <td>inclusive</td>\n",
       "    </tr>\n",
       "    <tr>\n",
       "      <th>...</th>\n",
       "      <td>...</td>\n",
       "      <td>...</td>\n",
       "      <td>...</td>\n",
       "      <td>...</td>\n",
       "      <td>...</td>\n",
       "      <td>...</td>\n",
       "    </tr>\n",
       "    <tr>\n",
       "      <th>8216</th>\n",
       "      <td>EN2043</td>\n",
       "      <td>n</td>\n",
       "      <td>re</td>\n",
       "      <td>no</td>\n",
       "      <td>fraudster</td>\n",
       "      <td>inclusive</td>\n",
       "    </tr>\n",
       "    <tr>\n",
       "      <th>8221</th>\n",
       "      <td>EN333</td>\n",
       "      <td>n</td>\n",
       "      <td>an</td>\n",
       "      <td>no</td>\n",
       "      <td>wish-wash</td>\n",
       "      <td>conservative</td>\n",
       "    </tr>\n",
       "    <tr>\n",
       "      <th>8224</th>\n",
       "      <td>EN1319</td>\n",
       "      <td>n</td>\n",
       "      <td>cds</td>\n",
       "      <td>no</td>\n",
       "      <td>mother fucka</td>\n",
       "      <td>conservative</td>\n",
       "    </tr>\n",
       "    <tr>\n",
       "      <th>8225</th>\n",
       "      <td>EN2597</td>\n",
       "      <td>n</td>\n",
       "      <td>cds</td>\n",
       "      <td>no</td>\n",
       "      <td>refuse</td>\n",
       "      <td>conservative</td>\n",
       "    </tr>\n",
       "    <tr>\n",
       "      <th>8226</th>\n",
       "      <td>EN521</td>\n",
       "      <td>n</td>\n",
       "      <td>asm</td>\n",
       "      <td>no</td>\n",
       "      <td>simple</td>\n",
       "      <td>inclusive</td>\n",
       "    </tr>\n",
       "  </tbody>\n",
       "</table>\n",
       "<p>3588 rows × 6 columns</p>\n",
       "</div>"
      ],
      "text/plain": [
       "          id pos category stereotype           lemma         level\n",
       "0     EN1382   n      qas         no        gag reel     inclusive\n",
       "2     EN6856   n       is        yes       mendicant  conservative\n",
       "3     EN5485   n       re         no         maffias  conservative\n",
       "4     EN5024   n      cds         no  lying in trade  conservative\n",
       "9      EN858   n       an         no          sucker     inclusive\n",
       "...      ...  ..      ...        ...             ...           ...\n",
       "8216  EN2043   n       re         no       fraudster     inclusive\n",
       "8221   EN333   n       an         no       wish-wash  conservative\n",
       "8224  EN1319   n      cds         no    mother fucka  conservative\n",
       "8225  EN2597   n      cds         no          refuse  conservative\n",
       "8226   EN521   n      asm         no          simple     inclusive\n",
       "\n",
       "[3588 rows x 6 columns]"
      ]
     },
     "execution_count": 11,
     "metadata": {},
     "output_type": "execute_result"
    }
   ],
   "source": [
    "hurtlex_df[hurtlex_df[\"lemma\"].isin(duplicated_hurtlex[\"lemma\"].values)]"
   ]
  },
  {
   "cell_type": "code",
   "execution_count": 12,
   "metadata": {
    "executionInfo": {
     "elapsed": 6811,
     "status": "ok",
     "timestamp": 1619615036349,
     "user": {
      "displayName": "Fatma Elsafoury",
      "photoUrl": "https://lh3.googleusercontent.com/a-/AOh14GiBOqs1m0p9NKAVLeYOvj2cfPepoOadDs_nVw4YEQ=s64",
      "userId": "12155606853084180649"
     },
     "user_tz": -60
    },
    "id": "gkDEwzp964RB"
   },
   "outputs": [],
   "source": [
    "hurtlex_df = hurtlex_df.drop_duplicates(subset=[\"lemma\"])"
   ]
  },
  {
   "cell_type": "code",
   "execution_count": 13,
   "metadata": {
    "executionInfo": {
     "elapsed": 6811,
     "status": "ok",
     "timestamp": 1619615036350,
     "user": {
      "displayName": "Fatma Elsafoury",
      "photoUrl": "https://lh3.googleusercontent.com/a-/AOh14GiBOqs1m0p9NKAVLeYOvj2cfPepoOadDs_nVw4YEQ=s64",
      "userId": "12155606853084180649"
     },
     "user_tz": -60
    },
    "id": "1OIAIJ0RHCU5"
   },
   "outputs": [],
   "source": [
    "hurtlex_df_ps = hurtlex_df[(hurtlex_df[\"category\"] == \"ps\")][\"lemma\"].unique() #& (hurtlex_df[\"stereotype\"] == \"yes\")]\n",
    "hurtlex_df_om = hurtlex_df[(hurtlex_df[\"category\"] == \"om\")][\"lemma\"].unique() #& (hurtlex_df[\"stereotype\"] == \"no\")]\n",
    "hurtlex_df_qas = hurtlex_df[(hurtlex_df[\"category\"] == \"qas\")][\"lemma\"].unique() #& (hurtlex_df[\"stereotype\"] == \"no\")]\n",
    "hurtlex_df_cds = hurtlex_df[(hurtlex_df[\"category\"] == \"cds\")][\"lemma\"].unique() #& (hurtlex_df[\"stereotype\"] == \"no\")]\n",
    "hurtlex_df_is = hurtlex_df[(hurtlex_df[\"category\"] == \"is\")][\"lemma\"].unique() #& (hurtlex_df[\"stereotype\"] == \"no\")]\n",
    "hurtlex_df_re = hurtlex_df[(hurtlex_df[\"category\"] == \"re\")][\"lemma\"].unique() #& (hurtlex_df[\"stereotype\"] == \"no\")]\n",
    "hurtlex_df_pr = hurtlex_df[(hurtlex_df[\"category\"] == \"pr\")][\"lemma\"].unique() #& (hurtlex_df[\"stereotype\"] == \"no\")]\n",
    "hurtlex_df_asf = hurtlex_df[(hurtlex_df[\"category\"] == \"asf\")][\"lemma\"].unique() #& (hurtlex_df[\"stereotype\"] == \"no\")]\n",
    "hurtlex_df_asm = hurtlex_df[(hurtlex_df[\"category\"] == \"asm\")][\"lemma\"].unique() #& (hurtlex_df[\"stereotype\"] == \"no\")]\n",
    "hurtlex_df_ddp = hurtlex_df[(hurtlex_df[\"category\"] == \"ddp\")][\"lemma\"].unique() #& (hurtlex_df[\"stereotype\"] == \"yes\")]\n",
    "hurtlex_df_ddf = hurtlex_df[(hurtlex_df[\"category\"] == \"ddf\")][\"lemma\"].unique() #& (hurtlex_df[\"stereotype\"] == \"yes\")]"
   ]
  },
  {
   "cell_type": "code",
   "execution_count": 14,
   "metadata": {
    "colab": {
     "base_uri": "https://localhost:8080/"
    },
    "executionInfo": {
     "elapsed": 6803,
     "status": "ok",
     "timestamp": 1619615036350,
     "user": {
      "displayName": "Fatma Elsafoury",
      "photoUrl": "https://lh3.googleusercontent.com/a-/AOh14GiBOqs1m0p9NKAVLeYOvj2cfPepoOadDs_nVw4YEQ=s64",
      "userId": "12155606853084180649"
     },
     "user_tz": -60
    },
    "id": "Km_xNU7A3lWR",
    "outputId": "1e3d331b-fff4-4435-bc7b-acac29a52ae5"
   },
   "outputs": [
    {
     "data": {
      "text/plain": [
       "array(['snotty', 'lying in trade', 'nerdiness', ..., 'faction',\n",
       "       'fascisti', 'egoistic'], dtype=object)"
      ]
     },
     "execution_count": 14,
     "metadata": {},
     "output_type": "execute_result"
    }
   ],
   "source": [
    "hurtlex_df_cds"
   ]
  },
  {
   "cell_type": "code",
   "execution_count": 15,
   "metadata": {
    "executionInfo": {
     "elapsed": 6802,
     "status": "ok",
     "timestamp": 1619615036351,
     "user": {
      "displayName": "Fatma Elsafoury",
      "photoUrl": "https://lh3.googleusercontent.com/a-/AOh14GiBOqs1m0p9NKAVLeYOvj2cfPepoOadDs_nVw4YEQ=s64",
      "userId": "12155606853084180649"
     },
     "user_tz": -60
    },
    "id": "55pfiWdzHlVi"
   },
   "outputs": [],
   "source": [
    "def find_list_of_words_in_df(df, slur_list,cat):\n",
    "  ps_in_hateEval = []\n",
    "  for i in slur_list: \n",
    "    if  df['Text_clean'].str.contains(\" \"+i+\" \").any() == True:\n",
    "      ps = df[df[\"Text_clean\"].str.contains(\" \"+i+\" \")][[\"Text_clean\",\"oh_label\"]]\n",
    "      ps[\"cat\"] = cat\n",
    "      #if ps.index not in ps_in_hateEval:\n",
    "      ps_in_hateEval.append(ps)\n",
    "\n",
    "  ps_in_hateEval_df = pd.concat(ps_in_hateEval).drop_duplicates(subset=[\"Text_clean\"])\n",
    "  return ps_in_hateEval_df"
   ]
  },
  {
   "cell_type": "code",
   "execution_count": 16,
   "metadata": {
    "executionInfo": {
     "elapsed": 6801,
     "status": "ok",
     "timestamp": 1619615036351,
     "user": {
      "displayName": "Fatma Elsafoury",
      "photoUrl": "https://lh3.googleusercontent.com/a-/AOh14GiBOqs1m0p9NKAVLeYOvj2cfPepoOadDs_nVw4YEQ=s64",
      "userId": "12155606853084180649"
     },
     "user_tz": -60
    },
    "id": "BRfegiqW7qo5"
   },
   "outputs": [],
   "source": [
    "def return_dataset_with_hurtlex_unique(dataset_df):\n",
    "\n",
    "  ps_in_ds = find_list_of_words_in_df(dataset_df, hurtlex_df_ps,\"PS\")\n",
    "    \n",
    "  om_in_ds = find_list_of_words_in_df(dataset_df, hurtlex_df_om,\"OM\")\n",
    "\n",
    "  qas_in_ds = find_list_of_words_in_df(dataset_df, hurtlex_df_qas,\"QAS\")\n",
    "  cds_in_ds = find_list_of_words_in_df(dataset_df, hurtlex_df_cds,\"CDS\")\n",
    "  is_in_ds = find_list_of_words_in_df(dataset_df, hurtlex_df_is,\"IS\")\n",
    "  re_in_ds = find_list_of_words_in_df(dataset_df, hurtlex_df_re,\"RE\")\n",
    "  pr_in_ds = find_list_of_words_in_df(dataset_df, hurtlex_df_pr,\"PR\")\n",
    " \n",
    "  asf_in_ds = find_list_of_words_in_df(dataset_df, hurtlex_df_asf,\"ASF\")\n",
    "  asm_in_ds = find_list_of_words_in_df(dataset_df, hurtlex_df_asm,\"ASM\")\n",
    "  ddp_in_ds = find_list_of_words_in_df(dataset_df, hurtlex_df_ddp,\"DDP\")\n",
    "  ddf_in_ds = find_list_of_words_in_df(dataset_df, hurtlex_df_ddf,\"DDF\")\n",
    "\n",
    "\n",
    "  test_set_cat = pd.concat([ps_in_ds,om_in_ds,qas_in_ds,cds_in_ds,is_in_ds,re_in_ds,pr_in_ds,\n",
    "                           asf_in_ds, asm_in_ds,ddp_in_ds,ddf_in_ds ]).drop_duplicates(subset=[\"Text_clean\"], keep=False)\n",
    " \n",
    "\n",
    "  return test_set_cat                  \n"
   ]
  },
  {
   "cell_type": "code",
   "execution_count": 17,
   "metadata": {
    "executionInfo": {
     "elapsed": 6800,
     "status": "ok",
     "timestamp": 1619615036352,
     "user": {
      "displayName": "Fatma Elsafoury",
      "photoUrl": "https://lh3.googleusercontent.com/a-/AOh14GiBOqs1m0p9NKAVLeYOvj2cfPepoOadDs_nVw4YEQ=s64",
      "userId": "12155606853084180649"
     },
     "user_tz": -60
    },
    "id": "24JdD0M6CjUd"
   },
   "outputs": [],
   "source": [
    "def return_hurtlex_in_dataset_unique(dataset_df):\n",
    "\n",
    "  ps_in_ds = find_list_of_words_in_df(dataset_df, hurtlex_df_ps,\"PS\")\n",
    "    \n",
    "  om_in_ds = find_list_of_words_in_df(dataset_df, hurtlex_df_om,\"OM\")\n",
    "\n",
    "  qas_in_ds = find_list_of_words_in_df(dataset_df, hurtlex_df_qas,\"QAS\")\n",
    "  cds_in_ds = find_list_of_words_in_df(dataset_df, hurtlex_df_cds,\"CDS\")\n",
    "  is_in_ds = find_list_of_words_in_df(dataset_df, hurtlex_df_is,\"IS\")\n",
    "  re_in_ds = find_list_of_words_in_df(dataset_df, hurtlex_df_re,\"RE\")\n",
    "  pr_in_ds = find_list_of_words_in_df(dataset_df, hurtlex_df_pr,\"PR\")\n",
    " \n",
    "  asf_in_ds = find_list_of_words_in_df(dataset_df, hurtlex_df_asf,\"ASF\")\n",
    "  asm_in_ds = find_list_of_words_in_df(dataset_df, hurtlex_df_asm,\"ASM\")\n",
    "  ddp_in_ds = find_list_of_words_in_df(dataset_df, hurtlex_df_ddp,\"DDP\")\n",
    "  ddf_in_ds = find_list_of_words_in_df(dataset_df, hurtlex_df_ddf,\"DDF\")\n",
    "\n",
    "\n",
    "  test_set_cat = pd.concat([ps_in_ds,om_in_ds,qas_in_ds,cds_in_ds,is_in_ds,re_in_ds,pr_in_ds,\n",
    "                           asf_in_ds, asm_in_ds,ddp_in_ds,ddf_in_ds ]).drop_duplicates(subset=[\"Text_clean\"], keep=False)\n",
    " \n",
    "\n",
    "  dataset_hurtlex_no = [len(test_set_cat[test_set_cat[\"cat\"]==\"PS\"])/len(dataset_df),\n",
    "                        len(test_set_cat[test_set_cat[\"cat\"]==\"OM\"])/len(dataset_df),\n",
    "                     len(test_set_cat[test_set_cat[\"cat\"]==\"QAS\"])/len(dataset_df),\n",
    "                     len(test_set_cat[test_set_cat[\"cat\"]==\"CDS\"])/len(dataset_df),\n",
    "                    len(test_set_cat[test_set_cat[\"cat\"]==\"IS\"])/len(dataset_df),\n",
    "                    len(test_set_cat[test_set_cat[\"cat\"]==\"RE\"])/len(dataset_df),\n",
    "                    len(test_set_cat[test_set_cat[\"cat\"]==\"PR\"])/len(dataset_df),\n",
    "                    len(test_set_cat[test_set_cat[\"cat\"]==\"ASF\"])/len(dataset_df),\n",
    "                    len(test_set_cat[test_set_cat[\"cat\"]==\"ASM\"])/len(dataset_df),\n",
    "                    len(test_set_cat[test_set_cat[\"cat\"]==\"DDP\"])/len(dataset_df),\n",
    "                    len(test_set_cat[test_set_cat[\"cat\"]==\"DDF\"])/len(dataset_df)]\n",
    "\n",
    "  return dataset_hurtlex_no                  \n"
   ]
  },
  {
   "cell_type": "code",
   "execution_count": 18,
   "metadata": {
    "executionInfo": {
     "elapsed": 6799,
     "status": "ok",
     "timestamp": 1619615036352,
     "user": {
      "displayName": "Fatma Elsafoury",
      "photoUrl": "https://lh3.googleusercontent.com/a-/AOh14GiBOqs1m0p9NKAVLeYOvj2cfPepoOadDs_nVw4YEQ=s64",
      "userId": "12155606853084180649"
     },
     "user_tz": -60
    },
    "id": "mJyvYxY2B2i6"
   },
   "outputs": [],
   "source": [
    "def return_dataset_with_hurtlex(dataset_df):\n",
    "\n",
    "  ps_in_ds = find_list_of_words_in_df(dataset_df, hurtlex_df_ps,\"PS\")\n",
    "    \n",
    "  om_in_ds = find_list_of_words_in_df(dataset_df, hurtlex_df_om,\"OM\")\n",
    "\n",
    "  qas_in_ds = find_list_of_words_in_df(dataset_df, hurtlex_df_qas,\"QAS\")\n",
    "  cds_in_ds = find_list_of_words_in_df(dataset_df, hurtlex_df_cds,\"CDS\")\n",
    "  is_in_ds = find_list_of_words_in_df(dataset_df, hurtlex_df_is,\"IS\")\n",
    "  re_in_ds = find_list_of_words_in_df(dataset_df, hurtlex_df_re,\"RE\")\n",
    "  pr_in_ds = find_list_of_words_in_df(dataset_df, hurtlex_df_pr,\"PR\")\n",
    " \n",
    "  asf_in_ds = find_list_of_words_in_df(dataset_df, hurtlex_df_asf,\"ASF\")\n",
    "  asm_in_ds = find_list_of_words_in_df(dataset_df, hurtlex_df_asm,\"ASM\")\n",
    "  ddp_in_ds = find_list_of_words_in_df(dataset_df, hurtlex_df_ddp,\"DDP\")\n",
    "  ddf_in_ds = find_list_of_words_in_df(dataset_df, hurtlex_df_ddf,\"DDF\")\n",
    "\n",
    "\n",
    "  test_set_cat = pd.concat([ps_in_ds,om_in_ds,qas_in_ds,cds_in_ds,is_in_ds,re_in_ds,pr_in_ds,\n",
    "                           asf_in_ds, asm_in_ds,ddp_in_ds,ddf_in_ds ]).drop_duplicates(subset=[\"Text_clean\"])\n",
    " \n",
    "\n",
    "  return test_set_cat                  \n"
   ]
  },
  {
   "cell_type": "code",
   "execution_count": 19,
   "metadata": {
    "executionInfo": {
     "elapsed": 6797,
     "status": "ok",
     "timestamp": 1619615036352,
     "user": {
      "displayName": "Fatma Elsafoury",
      "photoUrl": "https://lh3.googleusercontent.com/a-/AOh14GiBOqs1m0p9NKAVLeYOvj2cfPepoOadDs_nVw4YEQ=s64",
      "userId": "12155606853084180649"
     },
     "user_tz": -60
    },
    "id": "KWBTX94SHCZW"
   },
   "outputs": [],
   "source": [
    "def return_hurtlex_in_dataset(dataset_df):\n",
    "\n",
    "  ps_in_ds = find_list_of_words_in_df(dataset_df, hurtlex_df_ps,\"PS\")\n",
    "    \n",
    "  om_in_ds = find_list_of_words_in_df(dataset_df, hurtlex_df_om,\"OM\")\n",
    "\n",
    "  qas_in_ds = find_list_of_words_in_df(dataset_df, hurtlex_df_qas,\"QAS\")\n",
    "  cds_in_ds = find_list_of_words_in_df(dataset_df, hurtlex_df_cds,\"CDS\")\n",
    "  is_in_ds = find_list_of_words_in_df(dataset_df, hurtlex_df_is,\"IS\")\n",
    "  re_in_ds = find_list_of_words_in_df(dataset_df, hurtlex_df_re,\"RE\")\n",
    "  pr_in_ds = find_list_of_words_in_df(dataset_df, hurtlex_df_pr,\"PR\")\n",
    " \n",
    "  asf_in_ds = find_list_of_words_in_df(dataset_df, hurtlex_df_asf,\"ASF\")\n",
    "  asm_in_ds = find_list_of_words_in_df(dataset_df, hurtlex_df_asm,\"ASM\")\n",
    "  ddp_in_ds = find_list_of_words_in_df(dataset_df, hurtlex_df_ddp,\"DDP\")\n",
    "  ddf_in_ds = find_list_of_words_in_df(dataset_df, hurtlex_df_ddf,\"DDF\")\n",
    "\n",
    "\n",
    "  test_set_cat = pd.concat([ps_in_ds,om_in_ds,qas_in_ds,cds_in_ds,is_in_ds,re_in_ds,pr_in_ds,\n",
    "                           asf_in_ds, asm_in_ds,ddp_in_ds,ddf_in_ds ]).drop_duplicates(subset=[\"Text_clean\"])\n",
    " \n",
    "\n",
    "  dataset_hurtlex_no = [len(test_set_cat[test_set_cat[\"cat\"]==\"PS\"])/len(dataset_df),\n",
    "                        len(test_set_cat[test_set_cat[\"cat\"]==\"OM\"])/len(dataset_df),\n",
    "                     len(test_set_cat[test_set_cat[\"cat\"]==\"QAS\"])/len(dataset_df),\n",
    "                     len(test_set_cat[test_set_cat[\"cat\"]==\"CDS\"])/len(dataset_df),\n",
    "                    len(test_set_cat[test_set_cat[\"cat\"]==\"IS\"])/len(dataset_df),\n",
    "                    len(test_set_cat[test_set_cat[\"cat\"]==\"RE\"])/len(dataset_df),\n",
    "                    len(test_set_cat[test_set_cat[\"cat\"]==\"PR\"])/len(dataset_df),\n",
    "                    len(test_set_cat[test_set_cat[\"cat\"]==\"ASF\"])/len(dataset_df),\n",
    "                    len(test_set_cat[test_set_cat[\"cat\"]==\"ASM\"])/len(dataset_df),\n",
    "                    len(test_set_cat[test_set_cat[\"cat\"]==\"DDP\"])/len(dataset_df),\n",
    "                    len(test_set_cat[test_set_cat[\"cat\"]==\"DDF\"])/len(dataset_df)]\n",
    "\n",
    "  return dataset_hurtlex_no                  \n"
   ]
  },
  {
   "cell_type": "code",
   "execution_count": 20,
   "metadata": {
    "executionInfo": {
     "elapsed": 6971,
     "status": "ok",
     "timestamp": 1619615036527,
     "user": {
      "displayName": "Fatma Elsafoury",
      "photoUrl": "https://lh3.googleusercontent.com/a-/AOh14GiBOqs1m0p9NKAVLeYOvj2cfPepoOadDs_nVw4YEQ=s64",
      "userId": "12155606853084180649"
     },
     "user_tz": -60
    },
    "id": "N73DY8CnoFcb"
   },
   "outputs": [],
   "source": [
    "def return_hurtlex_cat_in_duplicated_data(dataset_df):\n",
    "\n",
    "  ps_in_ds = find_list_of_words_in_df(dataset_df, hurtlex_df_ps,\"PS\")\n",
    "    \n",
    "  om_in_ds = find_list_of_words_in_df(dataset_df, hurtlex_df_om,\"OM\")\n",
    "\n",
    "  qas_in_ds = find_list_of_words_in_df(dataset_df, hurtlex_df_qas,\"QAS\")\n",
    "  cds_in_ds = find_list_of_words_in_df(dataset_df, hurtlex_df_cds,\"CDS\")\n",
    "  is_in_ds = find_list_of_words_in_df(dataset_df, hurtlex_df_is,\"IS\")\n",
    "  re_in_ds = find_list_of_words_in_df(dataset_df, hurtlex_df_re,\"RE\")\n",
    "  pr_in_ds = find_list_of_words_in_df(dataset_df, hurtlex_df_pr,\"PR\")\n",
    " \n",
    "  asf_in_ds = find_list_of_words_in_df(dataset_df, hurtlex_df_asf,\"ASF\")\n",
    "  asm_in_ds = find_list_of_words_in_df(dataset_df, hurtlex_df_asm,\"ASM\")\n",
    "  ddp_in_ds = find_list_of_words_in_df(dataset_df, hurtlex_df_ddp,\"DDP\")\n",
    "  ddf_in_ds = find_list_of_words_in_df(dataset_df, hurtlex_df_ddf,\"DDF\")\n",
    "\n",
    "\n",
    "  test_set_cat = pd.concat([ps_in_ds,om_in_ds,qas_in_ds,cds_in_ds,is_in_ds,re_in_ds,pr_in_ds,\n",
    "                           asf_in_ds, asm_in_ds,ddp_in_ds,ddf_in_ds ])\n",
    " \n",
    "\n",
    "  dataset_hurtlex_no = [len(test_set_cat[test_set_cat[\"cat\"]==\"PS\"])/len(dataset_df),\n",
    "                        len(test_set_cat[test_set_cat[\"cat\"]==\"OM\"])/len(dataset_df),\n",
    "                     len(test_set_cat[test_set_cat[\"cat\"]==\"QAS\"])/len(dataset_df),\n",
    "                     len(test_set_cat[test_set_cat[\"cat\"]==\"CDS\"])/len(dataset_df),\n",
    "                    len(test_set_cat[test_set_cat[\"cat\"]==\"IS\"])/len(dataset_df),\n",
    "                    len(test_set_cat[test_set_cat[\"cat\"]==\"RE\"])/len(dataset_df),\n",
    "                    len(test_set_cat[test_set_cat[\"cat\"]==\"PR\"])/len(dataset_df),\n",
    "                    len(test_set_cat[test_set_cat[\"cat\"]==\"ASF\"])/len(dataset_df),\n",
    "                    len(test_set_cat[test_set_cat[\"cat\"]==\"ASM\"])/len(dataset_df),\n",
    "                    len(test_set_cat[test_set_cat[\"cat\"]==\"DDP\"])/len(dataset_df),\n",
    "                    len(test_set_cat[test_set_cat[\"cat\"]==\"DDF\"])/len(dataset_df)]\n",
    "\n",
    "  return dataset_hurtlex_no                  \n"
   ]
  },
  {
   "cell_type": "code",
   "execution_count": 21,
   "metadata": {
    "executionInfo": {
     "elapsed": 6969,
     "status": "ok",
     "timestamp": 1619615036527,
     "user": {
      "displayName": "Fatma Elsafoury",
      "photoUrl": "https://lh3.googleusercontent.com/a-/AOh14GiBOqs1m0p9NKAVLeYOvj2cfPepoOadDs_nVw4YEQ=s64",
      "userId": "12155606853084180649"
     },
     "user_tz": -60
    },
    "id": "DJxE6m4OMjJT"
   },
   "outputs": [],
   "source": [
    "def return_dataset_duplicated_hurtlex_in_dataset(dataset_df):\n",
    "\n",
    "  ps_in_ds = find_list_of_words_in_df(dataset_df, hurtlex_df_ps,\"PS\")\n",
    "    \n",
    "  om_in_ds = find_list_of_words_in_df(dataset_df, hurtlex_df_om,\"OM\")\n",
    "\n",
    "  qas_in_ds = find_list_of_words_in_df(dataset_df, hurtlex_df_qas,\"QAS\")\n",
    "  cds_in_ds = find_list_of_words_in_df(dataset_df, hurtlex_df_cds,\"CDS\")\n",
    "  is_in_ds = find_list_of_words_in_df(dataset_df, hurtlex_df_is,\"IS\")\n",
    "  re_in_ds = find_list_of_words_in_df(dataset_df, hurtlex_df_re,\"RE\")\n",
    "  pr_in_ds = find_list_of_words_in_df(dataset_df, hurtlex_df_pr,\"PR\")\n",
    " \n",
    "  asf_in_ds = find_list_of_words_in_df(dataset_df, hurtlex_df_asf,\"ASF\")\n",
    "  asm_in_ds = find_list_of_words_in_df(dataset_df, hurtlex_df_asm,\"ASM\")\n",
    "  ddp_in_ds = find_list_of_words_in_df(dataset_df, hurtlex_df_ddp,\"DDP\")\n",
    "  ddf_in_ds = find_list_of_words_in_df(dataset_df, hurtlex_df_ddf,\"DDF\")\n",
    "\n",
    "\n",
    "  test_set_cat = pd.concat([ps_in_ds,om_in_ds,qas_in_ds,cds_in_ds,is_in_ds,re_in_ds,pr_in_ds,\n",
    "                           asf_in_ds, asm_in_ds,ddp_in_ds,ddf_in_ds ])\n",
    " \n",
    "\n",
    "  return test_set_cat\n"
   ]
  },
  {
   "cell_type": "code",
   "execution_count": 22,
   "metadata": {
    "executionInfo": {
     "elapsed": 6969,
     "status": "ok",
     "timestamp": 1619615036528,
     "user": {
      "displayName": "Fatma Elsafoury",
      "photoUrl": "https://lh3.googleusercontent.com/a-/AOh14GiBOqs1m0p9NKAVLeYOvj2cfPepoOadDs_nVw4YEQ=s64",
      "userId": "12155606853084180649"
     },
     "user_tz": -60
    },
    "id": "1SVoVBFFBHTh"
   },
   "outputs": [],
   "source": [
    "def return_duplicated_hurtlex_in_dataset(dataset_df):\n",
    "\n",
    "  ps_in_ds = find_list_of_words_in_df(dataset_df, hurtlex_df_ps,\"PS\")\n",
    "    \n",
    "  om_in_ds = find_list_of_words_in_df(dataset_df, hurtlex_df_om,\"OM\")\n",
    "\n",
    "  qas_in_ds = find_list_of_words_in_df(dataset_df, hurtlex_df_qas,\"QAS\")\n",
    "  cds_in_ds = find_list_of_words_in_df(dataset_df, hurtlex_df_cds,\"CDS\")\n",
    "  is_in_ds = find_list_of_words_in_df(dataset_df, hurtlex_df_is,\"IS\")\n",
    "  re_in_ds = find_list_of_words_in_df(dataset_df, hurtlex_df_re,\"RE\")\n",
    "  pr_in_ds = find_list_of_words_in_df(dataset_df, hurtlex_df_pr,\"PR\")\n",
    " \n",
    "  asf_in_ds = find_list_of_words_in_df(dataset_df, hurtlex_df_asf,\"ASF\")\n",
    "  asm_in_ds = find_list_of_words_in_df(dataset_df, hurtlex_df_asm,\"ASM\")\n",
    "  ddp_in_ds = find_list_of_words_in_df(dataset_df, hurtlex_df_ddp,\"DDP\")\n",
    "  ddf_in_ds = find_list_of_words_in_df(dataset_df, hurtlex_df_ddf,\"DDF\")\n",
    "\n",
    "\n",
    "  test_set_cat = pd.concat([ps_in_ds,om_in_ds,qas_in_ds,cds_in_ds,is_in_ds,re_in_ds,pr_in_ds,\n",
    "                           asf_in_ds, asm_in_ds,ddp_in_ds,ddf_in_ds ])\n",
    " \n",
    "  duplicated_test_Set = test_set_cat[test_set_cat.duplicated(subset=[\"Text_clean\"], keep=False)][\"Text_clean\"].unique()\n",
    "\n",
    "  dataset_hurtlex_no = len(duplicated_test_Set)/len(dataset_df)\n",
    "\n",
    "  return dataset_hurtlex_no\n"
   ]
  },
  {
   "cell_type": "markdown",
   "metadata": {
    "id": "yCkCiGPkE-7L"
   },
   "source": [
    "# HateEval DS"
   ]
  },
  {
   "cell_type": "code",
   "execution_count": 27,
   "metadata": {
    "executionInfo": {
     "elapsed": 10364,
     "status": "ok",
     "timestamp": 1619615039925,
     "user": {
      "displayName": "Fatma Elsafoury",
      "photoUrl": "https://lh3.googleusercontent.com/a-/AOh14GiBOqs1m0p9NKAVLeYOvj2cfPepoOadDs_nVw4YEQ=s64",
      "userId": "12155606853084180649"
     },
     "user_tz": -60
    },
    "id": "6G2biPTuHE0B"
   },
   "outputs": [],
   "source": [
    "hateEval_train_df = pd.read_csv(data_folder+\"/HateEval/HateEval_data_train.csv\", index_col=False)\n",
    "hateEval_test_df = pd.read_csv(data_folder+\"/HateEval/HateEval_data_test.csv\", index_col=False)\n",
    "\n",
    "hateEval_df = pd.concat([hateEval_train_df,hateEval_test_df])\n",
    "hateEval_df = hateEval_df.dropna()"
   ]
  },
  {
   "cell_type": "code",
   "execution_count": 28,
   "metadata": {
    "colab": {
     "base_uri": "https://localhost:8080/"
    },
    "executionInfo": {
     "elapsed": 10359,
     "status": "ok",
     "timestamp": 1619615039926,
     "user": {
      "displayName": "Fatma Elsafoury",
      "photoUrl": "https://lh3.googleusercontent.com/a-/AOh14GiBOqs1m0p9NKAVLeYOvj2cfPepoOadDs_nVw4YEQ=s64",
      "userId": "12155606853084180649"
     },
     "user_tz": -60
    },
    "id": "wCVm3M7qHnZY",
    "outputId": "3b657a87-f64e-4026-e8f7-d5cf67dcd56e"
   },
   "outputs": [
    {
     "data": {
      "text/plain": [
       "3817"
      ]
     },
     "execution_count": 28,
     "metadata": {},
     "output_type": "execute_result"
    }
   ],
   "source": [
    "len(hateEval_df)"
   ]
  },
  {
   "cell_type": "code",
   "execution_count": 29,
   "metadata": {
    "colab": {
     "base_uri": "https://localhost:8080/"
    },
    "executionInfo": {
     "elapsed": 188052,
     "status": "ok",
     "timestamp": 1619615217624,
     "user": {
      "displayName": "Fatma Elsafoury",
      "photoUrl": "https://lh3.googleusercontent.com/a-/AOh14GiBOqs1m0p9NKAVLeYOvj2cfPepoOadDs_nVw4YEQ=s64",
      "userId": "12155606853084180649"
     },
     "user_tz": -60
    },
    "id": "Zqzv3mWVImsQ",
    "outputId": "8e08d721-dcda-4ebf-d93a-5891bbd55f11"
   },
   "outputs": [
    {
     "name": "stderr",
     "output_type": "stream",
     "text": [
      "/home/fatma/.local/lib/python3.6/site-packages/pandas/core/strings.py:2001: UserWarning: This pattern has match groups. To actually get the groups, use str.extract.\n",
      "  return func(self, *args, **kwargs)\n"
     ]
    }
   ],
   "source": [
    "hateEval_hurtlex_no = return_hurtlex_in_dataset_unique(hateEval_df)\n",
    "hateEval_duplicated_hurtlex_no = return_duplicated_hurtlex_in_dataset(hateEval_df)\n",
    "hateEval_with_duplicated_hurtlex = return_dataset_duplicated_hurtlex_in_dataset(hateEval_df)\n",
    "hateEval_duplictates_Hurtlext_no = return_hurtlex_cat_in_duplicated_data(hateEval_with_duplicated_hurtlex)\n"
   ]
  },
  {
   "cell_type": "code",
   "execution_count": null,
   "metadata": {
    "colab": {
     "base_uri": "https://localhost:8080/"
    },
    "executionInfo": {
     "elapsed": 231450,
     "status": "ok",
     "timestamp": 1619615261028,
     "user": {
      "displayName": "Fatma Elsafoury",
      "photoUrl": "https://lh3.googleusercontent.com/a-/AOh14GiBOqs1m0p9NKAVLeYOvj2cfPepoOadDs_nVw4YEQ=s64",
      "userId": "12155606853084180649"
     },
     "user_tz": -60
    },
    "id": "hXdWG7RMlsHK",
    "outputId": "ce07c158-e2c2-4479-a023-5fcdafb38efe"
   },
   "outputs": [],
   "source": [
    "hateEval_with_hurtlex = return_dataset_with_hurtlex_unique(hateEval_df)\n",
    "hateEval_without_hurtlex = hateEval_df[(~hateEval_df[\"Text_clean\"].isin(hateEval_with_hurtlex.Text_clean.values)) &\n",
    "                                       (~hateEval_df[\"Text_clean\"].isin(hateEval_with_duplicated_hurtlex.Text_clean.values))]"
   ]
  },
  {
   "cell_type": "code",
   "execution_count": null,
   "metadata": {
    "colab": {
     "base_uri": "https://localhost:8080/"
    },
    "executionInfo": {
     "elapsed": 231444,
     "status": "ok",
     "timestamp": 1619615261029,
     "user": {
      "displayName": "Fatma Elsafoury",
      "photoUrl": "https://lh3.googleusercontent.com/a-/AOh14GiBOqs1m0p9NKAVLeYOvj2cfPepoOadDs_nVw4YEQ=s64",
      "userId": "12155606853084180649"
     },
     "user_tz": -60
    },
    "id": "Ih0inxZtDW1q",
    "outputId": "239d80d7-efcc-450e-af25-642aae636a3a"
   },
   "outputs": [],
   "source": [
    "np.sum(hateEval_hurtlex_no)+np.sum(hateEval_duplicated_hurtlex_no)+len(hateEval_without_hurtlex)/len(hateEval_df)"
   ]
  },
  {
   "cell_type": "code",
   "execution_count": null,
   "metadata": {
    "colab": {
     "base_uri": "https://localhost:8080/"
    },
    "executionInfo": {
     "elapsed": 231439,
     "status": "ok",
     "timestamp": 1619615261030,
     "user": {
      "displayName": "Fatma Elsafoury",
      "photoUrl": "https://lh3.googleusercontent.com/a-/AOh14GiBOqs1m0p9NKAVLeYOvj2cfPepoOadDs_nVw4YEQ=s64",
      "userId": "12155606853084180649"
     },
     "user_tz": -60
    },
    "id": "NvviHFaVT5sQ",
    "outputId": "dc83b45c-4230-4608-8130-87c9e44b2a26"
   },
   "outputs": [],
   "source": [
    "np.sum(hateEval_hurtlex_no)+ + len(hateEval_without_hurtlex)/len(hateEval_df)"
   ]
  },
  {
   "cell_type": "code",
   "execution_count": null,
   "metadata": {
    "colab": {
     "base_uri": "https://localhost:8080/",
     "height": 282
    },
    "executionInfo": {
     "elapsed": 232517,
     "status": "ok",
     "timestamp": 1619615262113,
     "user": {
      "displayName": "Fatma Elsafoury",
      "photoUrl": "https://lh3.googleusercontent.com/a-/AOh14GiBOqs1m0p9NKAVLeYOvj2cfPepoOadDs_nVw4YEQ=s64",
      "userId": "12155606853084180649"
     },
     "user_tz": -60
    },
    "id": "Fqk2BhjZ9CCj",
    "outputId": "1acad31f-df08-4361-9f8e-3690f5771a2e"
   },
   "outputs": [],
   "source": [
    "data = [len(hateEval_with_hurtlex)/len(hateEval_df), len(hateEval_without_hurtlex)/len(hateEval_df)]\n",
    "ind = 0.3\n",
    "plt.bar(ind + 0 ,len(hateEval_with_hurtlex)/len(hateEval_df), label=\"HateEval with hurtlex\", width=0.1)\n",
    "plt.bar(ind + 0.1,len(hateEval_without_hurtlex)/len(hateEval_df), label=\"hateeval without hurtlex\", width=0.1)\n",
    "plt.legend()"
   ]
  },
  {
   "cell_type": "markdown",
   "metadata": {
    "id": "ZDutVUB2GOQi"
   },
   "source": [
    "# Kaggle DS"
   ]
  },
  {
   "cell_type": "code",
   "execution_count": 31,
   "metadata": {
    "colab": {
     "base_uri": "https://localhost:8080/"
    },
    "executionInfo": {
     "elapsed": 282731,
     "status": "ok",
     "timestamp": 1619615312334,
     "user": {
      "displayName": "Fatma Elsafoury",
      "photoUrl": "https://lh3.googleusercontent.com/a-/AOh14GiBOqs1m0p9NKAVLeYOvj2cfPepoOadDs_nVw4YEQ=s64",
      "userId": "12155606853084180649"
     },
     "user_tz": -60
    },
    "id": "bxKIgdD6HCSb",
    "outputId": "50ea04d4-4cc9-4317-ff55-31b32182dad3"
   },
   "outputs": [
    {
     "name": "stderr",
     "output_type": "stream",
     "text": [
      "/usr/local/lib/python3.7/dist-packages/pandas/core/strings.py:2001: UserWarning: This pattern has match groups. To actually get the groups, use str.extract.\n",
      "  return func(self, *args, **kwargs)\n",
      "/usr/local/lib/python3.7/dist-packages/ipykernel_launcher.py:6: SettingWithCopyWarning: \n",
      "A value is trying to be set on a copy of a slice from a DataFrame.\n",
      "Try using .loc[row_indexer,col_indexer] = value instead\n",
      "\n",
      "See the caveats in the documentation: https://pandas.pydata.org/pandas-docs/stable/user_guide/indexing.html#returning-a-view-versus-a-copy\n",
      "  \n"
     ]
    }
   ],
   "source": [
    "Kaggle_train_df = pd.read_csv(data_folder+\"/Kaggle/kaggle_data_train.csv\", index_col=False)\n",
    "Kaggle_test_df = pd.read_csv(data_folder+\"/Kaggle/kaggle_data_test.csv\", index_col=False)\n",
    "\n",
    "kaggle_df = pd.concat([Kaggle_train_df,Kaggle_test_df])\n",
    "kaggle_df = kaggle_df.dropna()\n",
    "\n",
    "kaggle_hurtlex_no = return_hurtlex_in_dataset_unique(kaggle_df)\n",
    "kaggle_duplicated_hurtlex_no = return_duplicated_hurtlex_in_dataset(kaggle_df)\n",
    "kaggle_with_duplicated_hurtlex = return_dataset_duplicated_hurtlex_in_dataset(kaggle_df)\n",
    "kaggle_duplictates_Hurtlext_no = return_hurtlex_cat_in_duplicated_data(kaggle_with_duplicated_hurtlex)\n",
    "kaggle_with_hurtlex = return_dataset_with_hurtlex_unique(kaggle_df)\n",
    "kaggle_without_hurtlex = kaggle_df[(~kaggle_df[\"Text_clean\"].isin(kaggle_with_duplicated_hurtlex.Text_clean.values)) &\n",
    "                                   (~kaggle_df[\"Text_clean\"].isin(kaggle_with_hurtlex.Text_clean.values))]"
   ]
  },
  {
   "cell_type": "code",
   "execution_count": 32,
   "metadata": {
    "colab": {
     "base_uri": "https://localhost:8080/"
    },
    "executionInfo": {
     "elapsed": 282733,
     "status": "ok",
     "timestamp": 1619615312341,
     "user": {
      "displayName": "Fatma Elsafoury",
      "photoUrl": "https://lh3.googleusercontent.com/a-/AOh14GiBOqs1m0p9NKAVLeYOvj2cfPepoOadDs_nVw4YEQ=s64",
      "userId": "12155606853084180649"
     },
     "user_tz": -60
    },
    "id": "POHl4wSiVkj4",
    "outputId": "9406ee29-9b80-4cdf-f294-2757e31d118a"
   },
   "outputs": [
    {
     "data": {
      "text/plain": [
       "1.0"
      ]
     },
     "execution_count": 32,
     "metadata": {
      "tags": []
     },
     "output_type": "execute_result"
    }
   ],
   "source": [
    "np.sum(kaggle_hurtlex_no)+np.sum(kaggle_duplicated_hurtlex_no)+len(kaggle_without_hurtlex)/len(kaggle_df)"
   ]
  },
  {
   "cell_type": "markdown",
   "metadata": {
    "id": "8RZuVlLlNW-o"
   },
   "source": [
    "# Twitter-sexism"
   ]
  },
  {
   "cell_type": "code",
   "execution_count": 33,
   "metadata": {
    "colab": {
     "base_uri": "https://localhost:8080/"
    },
    "executionInfo": {
     "elapsed": 345709,
     "status": "ok",
     "timestamp": 1619615375323,
     "user": {
      "displayName": "Fatma Elsafoury",
      "photoUrl": "https://lh3.googleusercontent.com/a-/AOh14GiBOqs1m0p9NKAVLeYOvj2cfPepoOadDs_nVw4YEQ=s64",
      "userId": "12155606853084180649"
     },
     "user_tz": -60
    },
    "id": "gg-FIAg4NQy_",
    "outputId": "9599bb4f-fd07-49fa-ae30-2fe44c7138f7"
   },
   "outputs": [
    {
     "name": "stderr",
     "output_type": "stream",
     "text": [
      "/usr/local/lib/python3.7/dist-packages/pandas/core/strings.py:2001: UserWarning: This pattern has match groups. To actually get the groups, use str.extract.\n",
      "  return func(self, *args, **kwargs)\n",
      "/usr/local/lib/python3.7/dist-packages/ipykernel_launcher.py:6: SettingWithCopyWarning: \n",
      "A value is trying to be set on a copy of a slice from a DataFrame.\n",
      "Try using .loc[row_indexer,col_indexer] = value instead\n",
      "\n",
      "See the caveats in the documentation: https://pandas.pydata.org/pandas-docs/stable/user_guide/indexing.html#returning-a-view-versus-a-copy\n",
      "  \n"
     ]
    }
   ],
   "source": [
    "twitter_sex_train_df = pd.read_csv(data_folder+\"/Twitter_sexism/Twitter_sex_data_train.csv\", index_col=False)\n",
    "twitter_sex_test_df = pd.read_csv(data_folder+\"/Twitter_sexism/Twitter_sex_data_test.csv\", index_col=False)\n",
    "\n",
    "twitter_sex_df = pd.concat([twitter_sex_train_df,twitter_sex_test_df])\n",
    "twitter_sex_df = twitter_sex_df.dropna()\n",
    "\n",
    "twitter_sex_hurtlex_no = return_hurtlex_in_dataset_unique(twitter_sex_df)\n",
    "twitter_sex_duplicated_hurtlex_no = return_duplicated_hurtlex_in_dataset(twitter_sex_df)\n",
    "twitter_sex_with_duplicated_hurtlex = return_dataset_duplicated_hurtlex_in_dataset(twitter_sex_df)\n",
    "twitter_sex_duplictates_Hurtlext_no = return_hurtlex_cat_in_duplicated_data(twitter_sex_with_duplicated_hurtlex)\n",
    "twitter_sex_with_hurtlex = return_dataset_with_hurtlex_unique(twitter_sex_df)\n",
    "twitter_sex_without_hurtlex = twitter_sex_df[ (~twitter_sex_df[\"Text_clean\"].isin(twitter_sex_with_duplicated_hurtlex.Text_clean.values)) &\n",
    "                                             (~twitter_sex_df[\"Text_clean\"].isin(twitter_sex_with_hurtlex.Text_clean.values))]"
   ]
  },
  {
   "cell_type": "code",
   "execution_count": 34,
   "metadata": {
    "colab": {
     "base_uri": "https://localhost:8080/"
    },
    "executionInfo": {
     "elapsed": 345708,
     "status": "ok",
     "timestamp": 1619615375327,
     "user": {
      "displayName": "Fatma Elsafoury",
      "photoUrl": "https://lh3.googleusercontent.com/a-/AOh14GiBOqs1m0p9NKAVLeYOvj2cfPepoOadDs_nVw4YEQ=s64",
      "userId": "12155606853084180649"
     },
     "user_tz": -60
    },
    "id": "NWOkISLtXd7j",
    "outputId": "12847444-468a-4e80-ecb8-3903ba282734"
   },
   "outputs": [
    {
     "data": {
      "text/plain": [
       "1.0"
      ]
     },
     "execution_count": 34,
     "metadata": {
      "tags": []
     },
     "output_type": "execute_result"
    }
   ],
   "source": [
    "np.sum(twitter_sex_hurtlex_no)+ np.sum(twitter_sex_duplicated_hurtlex_no)+len(twitter_sex_without_hurtlex)/len(twitter_sex_df)"
   ]
  },
  {
   "cell_type": "markdown",
   "metadata": {
    "id": "Spd2hCeBOCA4"
   },
   "source": [
    "# Twitter_racism"
   ]
  },
  {
   "cell_type": "code",
   "execution_count": 35,
   "metadata": {
    "colab": {
     "base_uri": "https://localhost:8080/"
    },
    "executionInfo": {
     "elapsed": 403950,
     "status": "ok",
     "timestamp": 1619615433574,
     "user": {
      "displayName": "Fatma Elsafoury",
      "photoUrl": "https://lh3.googleusercontent.com/a-/AOh14GiBOqs1m0p9NKAVLeYOvj2cfPepoOadDs_nVw4YEQ=s64",
      "userId": "12155606853084180649"
     },
     "user_tz": -60
    },
    "id": "rAmN48tUOErF",
    "outputId": "b5ea5be5-5fa7-481a-f8c5-394505817171"
   },
   "outputs": [
    {
     "name": "stderr",
     "output_type": "stream",
     "text": [
      "/usr/local/lib/python3.7/dist-packages/pandas/core/strings.py:2001: UserWarning: This pattern has match groups. To actually get the groups, use str.extract.\n",
      "  return func(self, *args, **kwargs)\n"
     ]
    }
   ],
   "source": [
    "twitter_rac_train_df = pd.read_csv(data_folder+\"/Twitter_racism/Twitter_rac_data_train.csv\", index_col=False)\n",
    "twitter_rac_test_df = pd.read_csv(data_folder+\"/Twitter_racism/Twitter_rac_data_test.csv\", index_col=False)\n",
    "\n",
    "twitter_rac_df = pd.concat([twitter_rac_train_df,twitter_rac_test_df])\n",
    "twitter_rac_df = twitter_rac_df.dropna()\n",
    "\n",
    "twitter_rac_hurtlex_no = return_hurtlex_in_dataset_unique(twitter_rac_df)\n",
    "twitter_rac_duplicated_hurtlex_no = return_duplicated_hurtlex_in_dataset(twitter_rac_df)\n",
    "twitter_rac_with_duplicated_hurtlex = return_dataset_duplicated_hurtlex_in_dataset(twitter_rac_df)\n",
    "twitter_rac_duplictates_Hurtlext_no = return_hurtlex_cat_in_duplicated_data(twitter_rac_with_duplicated_hurtlex)\n",
    "twitter_rac_with_hurtlex = return_dataset_with_hurtlex_unique(twitter_rac_df)\n",
    "twitter_rac_without_hurtlex = twitter_rac_df[(~twitter_rac_df[\"Text_clean\"].isin(twitter_rac_with_duplicated_hurtlex.Text_clean.values)) &\n",
    "                                             (~twitter_rac_df[\"Text_clean\"].isin(twitter_rac_with_hurtlex.Text_clean.values))]"
   ]
  },
  {
   "cell_type": "code",
   "execution_count": 36,
   "metadata": {
    "colab": {
     "base_uri": "https://localhost:8080/"
    },
    "executionInfo": {
     "elapsed": 403949,
     "status": "ok",
     "timestamp": 1619615433578,
     "user": {
      "displayName": "Fatma Elsafoury",
      "photoUrl": "https://lh3.googleusercontent.com/a-/AOh14GiBOqs1m0p9NKAVLeYOvj2cfPepoOadDs_nVw4YEQ=s64",
      "userId": "12155606853084180649"
     },
     "user_tz": -60
    },
    "id": "1H78NAvXX5In",
    "outputId": "f89e1cc7-2cbe-42ff-cba2-ff73bed32cf4"
   },
   "outputs": [
    {
     "data": {
      "text/plain": [
       "1.0"
      ]
     },
     "execution_count": 36,
     "metadata": {
      "tags": []
     },
     "output_type": "execute_result"
    }
   ],
   "source": [
    "np.sum(twitter_rac_hurtlex_no)+ np.sum(twitter_rac_duplicated_hurtlex_no)+len(twitter_rac_without_hurtlex)/len(twitter_rac_df)"
   ]
  },
  {
   "cell_type": "markdown",
   "metadata": {
    "id": "3o1uREoYOUi8"
   },
   "source": [
    "# jigsaw_tox"
   ]
  },
  {
   "cell_type": "code",
   "execution_count": 37,
   "metadata": {
    "colab": {
     "base_uri": "https://localhost:8080/"
    },
    "executionInfo": {
     "elapsed": 3585549,
     "status": "ok",
     "timestamp": 1619618615184,
     "user": {
      "displayName": "Fatma Elsafoury",
      "photoUrl": "https://lh3.googleusercontent.com/a-/AOh14GiBOqs1m0p9NKAVLeYOvj2cfPepoOadDs_nVw4YEQ=s64",
      "userId": "12155606853084180649"
     },
     "user_tz": -60
    },
    "id": "c_qK4TyUPVGr",
    "outputId": "0a14c886-e47c-4bb9-f71f-f53e018823c1"
   },
   "outputs": [
    {
     "name": "stderr",
     "output_type": "stream",
     "text": [
      "/usr/local/lib/python3.7/dist-packages/pandas/core/strings.py:2001: UserWarning: This pattern has match groups. To actually get the groups, use str.extract.\n",
      "  return func(self, *args, **kwargs)\n",
      "/usr/local/lib/python3.7/dist-packages/ipykernel_launcher.py:6: SettingWithCopyWarning: \n",
      "A value is trying to be set on a copy of a slice from a DataFrame.\n",
      "Try using .loc[row_indexer,col_indexer] = value instead\n",
      "\n",
      "See the caveats in the documentation: https://pandas.pydata.org/pandas-docs/stable/user_guide/indexing.html#returning-a-view-versus-a-copy\n",
      "  \n"
     ]
    }
   ],
   "source": [
    "jig_tox_train_df = pd.read_csv(CB_data_folder+\"/Jigsaw_tox/jigsaw_data_sample_100k_train.csv\", index_col=False)\n",
    "jig_tox_test_df = pd.read_csv(CB_data_folder+\"/Jigsaw_tox/jigsaw_data_sample_100k_test.csv\", index_col=False)\n",
    "\n",
    "jig_tox_df = pd.concat([jig_tox_train_df,jig_tox_test_df])\n",
    "jig_tox_df = jig_tox_df.dropna()\n",
    "\n",
    "jig_tox_df = jig_tox_df.rename(columns={\"toxic\":\"oh_label\"})\n",
    "\n",
    "jig_tox_hurtlex_no = return_hurtlex_in_dataset_unique(jig_tox_df)\n",
    "jig_tox_duplicated_hurtlex_no = return_duplicated_hurtlex_in_dataset(jig_tox_df)\n",
    "jig_tox_with_duplicated_hurtlex = return_dataset_duplicated_hurtlex_in_dataset(jig_tox_df)\n",
    "jig_tox_duplictates_Hurtlext_no = return_hurtlex_cat_in_duplicated_data(jig_tox_with_duplicated_hurtlex)\n",
    "jig_tox_with_hurtlex = return_dataset_with_hurtlex_unique(jig_tox_df)\n"
   ]
  },
  {
   "cell_type": "code",
   "execution_count": 38,
   "metadata": {
    "executionInfo": {
     "elapsed": 3585555,
     "status": "ok",
     "timestamp": 1619618615191,
     "user": {
      "displayName": "Fatma Elsafoury",
      "photoUrl": "https://lh3.googleusercontent.com/a-/AOh14GiBOqs1m0p9NKAVLeYOvj2cfPepoOadDs_nVw4YEQ=s64",
      "userId": "12155606853084180649"
     },
     "user_tz": -60
    },
    "id": "l_rHl9YUyiFf"
   },
   "outputs": [],
   "source": [
    "jig_tox_without_hurtlex = jig_tox_df[ (~jig_tox_df[\"Text_clean\"].isin(jig_tox_with_duplicated_hurtlex.Text_clean.values)) &\n",
    "                                     (~jig_tox_df[\"Text_clean\"].isin(jig_tox_with_hurtlex.Text_clean.values))]"
   ]
  },
  {
   "cell_type": "code",
   "execution_count": 39,
   "metadata": {
    "colab": {
     "base_uri": "https://localhost:8080/"
    },
    "executionInfo": {
     "elapsed": 3585550,
     "status": "ok",
     "timestamp": 1619618615192,
     "user": {
      "displayName": "Fatma Elsafoury",
      "photoUrl": "https://lh3.googleusercontent.com/a-/AOh14GiBOqs1m0p9NKAVLeYOvj2cfPepoOadDs_nVw4YEQ=s64",
      "userId": "12155606853084180649"
     },
     "user_tz": -60
    },
    "id": "p4cbUMCrYVYz",
    "outputId": "6c85336e-1b7f-474d-a8f2-ebeaa13e027d"
   },
   "outputs": [
    {
     "data": {
      "text/plain": [
       "1.0"
      ]
     },
     "execution_count": 39,
     "metadata": {
      "tags": []
     },
     "output_type": "execute_result"
    }
   ],
   "source": [
    "np.sum(jig_tox_hurtlex_no)+np.sum(jig_tox_duplicated_hurtlex_no)+len(jig_tox_without_hurtlex)/len(jig_tox_df)"
   ]
  },
  {
   "cell_type": "markdown",
   "metadata": {
    "id": "SYlqljmLG5Em"
   },
   "source": [
    "# plotting the dataset"
   ]
  },
  {
   "cell_type": "code",
   "execution_count": 40,
   "metadata": {
    "colab": {
     "base_uri": "https://localhost:8080/",
     "height": 412
    },
    "executionInfo": {
     "elapsed": 3586498,
     "status": "ok",
     "timestamp": 1619618616145,
     "user": {
      "displayName": "Fatma Elsafoury",
      "photoUrl": "https://lh3.googleusercontent.com/a-/AOh14GiBOqs1m0p9NKAVLeYOvj2cfPepoOadDs_nVw4YEQ=s64",
      "userId": "12155606853084180649"
     },
     "user_tz": -60
    },
    "id": "8AbFOIzXzkQK",
    "outputId": "f486f27d-d2b8-4589-8a20-489563f771cb"
   },
   "outputs": [
    {
     "data": {
      "text/plain": [
       "<matplotlib.legend.Legend at 0x7f890a3fe990>"
      ]
     },
     "execution_count": 40,
     "metadata": {
      "tags": []
     },
     "output_type": "execute_result"
    },
    {
     "data": {
      "image/png": "[encoded data removed]",
      "text/plain": [
       "<Figure size 720x432 with 1 Axes>"
      ]
     },
     "metadata": {
      "needs_background": "light",
      "tags": []
     },
     "output_type": "display_data"
    }
   ],
   "source": [
    "hurtlex_labels = [\"PS\",\"OM\",\"QAS\",\"CDS\",\"IS\",\"RE\",\"PR\",\"ASF\",\"ASM\",\"DDP\",\"DDF\"]\n",
    "fig = plt.figure(figsize=(10, 6))\n",
    "ind = np.arange(len(hurtlex_labels))\n",
    " \n",
    "plt.bar(ind + 0 ,hateEval_hurtlex_no, label=\"HateEval\", width=0.1)\n",
    "plt.bar(ind + 0.1,kaggle_hurtlex_no, label=\"Kaggle\", width=0.1)\n",
    "plt.bar(ind + 0.2,twitter_rac_hurtlex_no, label=\"Twitter_racism\", width=0.1)\n",
    "plt.bar(ind + 0.3,twitter_sex_hurtlex_no, label=\"Twitter_sex\", width=0.1)\n",
    "plt.bar(ind + 0.4,jig_tox_hurtlex_no, label=\"Jigsaw_tox\", width=0.1)\n",
    "\n",
    "#plt.plot(list(np.arange(0,11,1)),neg_hurtlex_no, label=\"not-bullying\")\n",
    "plt.xticks(np.arange(0,11,1), labels=hurtlex_labels, fontsize=12)\n",
    "plt.yticks(fontsize=12)\n",
    "#plt.yscale(\"log\")\n",
    "plt.ylabel(\"No.occurences(%) of the dataset\", fontsize=16)\n",
    "plt.xlabel(\"Hurtlexh categories\", fontsize=16)\n",
    "plt.legend()"
   ]
  },
  {
   "cell_type": "code",
   "execution_count": 41,
   "metadata": {
    "executionInfo": {
     "elapsed": 3586497,
     "status": "ok",
     "timestamp": 1619618616146,
     "user": {
      "displayName": "Fatma Elsafoury",
      "photoUrl": "https://lh3.googleusercontent.com/a-/AOh14GiBOqs1m0p9NKAVLeYOvj2cfPepoOadDs_nVw4YEQ=s64",
      "userId": "12155606853084180649"
     },
     "user_tz": -60
    },
    "id": "M07xwxgVabIf"
   },
   "outputs": [],
   "source": [
    "dic = {\"Dataset\":[\"hateEval\",\"Kaggle\", \"twitter-sex\",\"twitter-rac\",\"jigsaw\"],\n",
    "       \"PS\":[hateEval_hurtlex_no[0]*100,kaggle_hurtlex_no[0]*100,twitter_sex_hurtlex_no[0]*100,twitter_rac_hurtlex_no[0]*100,jig_tox_hurtlex_no[0]*100],\n",
    "       \"OM\":[hateEval_hurtlex_no[1]*100,kaggle_hurtlex_no[1]*100,twitter_sex_hurtlex_no[1]*100,twitter_rac_hurtlex_no[1]*100,jig_tox_hurtlex_no[1]*100],\n",
    "       \"QAS\":[hateEval_hurtlex_no[2]*100,kaggle_hurtlex_no[2]*100,twitter_sex_hurtlex_no[2]*100,twitter_rac_hurtlex_no[2]*100,jig_tox_hurtlex_no[2]*100],\n",
    "       \"CDS\":[hateEval_hurtlex_no[3]*100,kaggle_hurtlex_no[3]*100,twitter_sex_hurtlex_no[3]*100,twitter_rac_hurtlex_no[3]*100,jig_tox_hurtlex_no[3]*100],\n",
    "       \"IS\":[hateEval_hurtlex_no[4]*100,kaggle_hurtlex_no[4]*100,twitter_sex_hurtlex_no[4]*100,twitter_rac_hurtlex_no[4]*100,jig_tox_hurtlex_no[4]*100],\n",
    "       \"RE\":[hateEval_hurtlex_no[5]*100,kaggle_hurtlex_no[5]*100,twitter_sex_hurtlex_no[5]*100,twitter_rac_hurtlex_no[5]*100,jig_tox_hurtlex_no[5]*100],\n",
    "       \"PR\":[hateEval_hurtlex_no[6]*100,kaggle_hurtlex_no[6]*100,twitter_sex_hurtlex_no[6]*100,twitter_rac_hurtlex_no[6]*100,jig_tox_hurtlex_no[6]*100],\n",
    "       \"ASF\":[hateEval_hurtlex_no[7]*100,kaggle_hurtlex_no[7]*100,twitter_sex_hurtlex_no[7]*100,twitter_rac_hurtlex_no[7]*100,jig_tox_hurtlex_no[7]*100],\n",
    "       \"ASM\":[hateEval_hurtlex_no[8]*100,kaggle_hurtlex_no[8]*100,twitter_sex_hurtlex_no[8]*100,twitter_rac_hurtlex_no[8]*100,jig_tox_hurtlex_no[8]*100],\n",
    "       \"DDP\":[hateEval_hurtlex_no[9]*100,kaggle_hurtlex_no[9]*100,twitter_sex_hurtlex_no[9]*100,twitter_rac_hurtlex_no[9]*100,jig_tox_hurtlex_no[0]*100],\n",
    "       \"DDF\":[hateEval_hurtlex_no[10]*100,kaggle_hurtlex_no[10]*100,twitter_sex_hurtlex_no[10]*100,twitter_rac_hurtlex_no[10]*100,jig_tox_hurtlex_no[10]*100],\n",
    "       \"Mixed\":[hateEval_duplicated_hurtlex_no *100, kaggle_duplicated_hurtlex_no*100, twitter_sex_duplicated_hurtlex_no*100,twitter_rac_duplicated_hurtlex_no*100, jig_tox_duplicated_hurtlex_no*100],\n",
    "       \"No_hurtlex\":[len(hateEval_without_hurtlex)/len(hateEval_df)*100, len(kaggle_without_hurtlex)/len(kaggle_df)*100, len(twitter_sex_without_hurtlex)/len(twitter_sex_df)*100,\n",
    "               len(twitter_rac_without_hurtlex)/len(twitter_rac_df)*100, len(jig_tox_without_hurtlex)/len(jig_tox_df)*100]}"
   ]
  },
  {
   "cell_type": "code",
   "execution_count": 42,
   "metadata": {
    "executionInfo": {
     "elapsed": 3586495,
     "status": "ok",
     "timestamp": 1619618616147,
     "user": {
      "displayName": "Fatma Elsafoury",
      "photoUrl": "https://lh3.googleusercontent.com/a-/AOh14GiBOqs1m0p9NKAVLeYOvj2cfPepoOadDs_nVw4YEQ=s64",
      "userId": "12155606853084180649"
     },
     "user_tz": -60
    },
    "id": "uQMHda9yYwbu"
   },
   "outputs": [],
   "source": [
    "df = pd.DataFrame.from_dict(dic)"
   ]
  },
  {
   "cell_type": "code",
   "execution_count": 43,
   "metadata": {
    "colab": {
     "base_uri": "https://localhost:8080/"
    },
    "executionInfo": {
     "elapsed": 3586489,
     "status": "ok",
     "timestamp": 1619618616147,
     "user": {
      "displayName": "Fatma Elsafoury",
      "photoUrl": "https://lh3.googleusercontent.com/a-/AOh14GiBOqs1m0p9NKAVLeYOvj2cfPepoOadDs_nVw4YEQ=s64",
      "userId": "12155606853084180649"
     },
     "user_tz": -60
    },
    "id": "Yy7fS2eqhkUI",
    "outputId": "d63cca18-26eb-429d-c968-df096e75f2db"
   },
   "outputs": [
    {
     "data": {
      "text/plain": [
       "0    100.000000\n",
       "1    100.000000\n",
       "2    100.000000\n",
       "3    100.000000\n",
       "4     99.483647\n",
       "dtype: float64"
      ]
     },
     "execution_count": 43,
     "metadata": {
      "tags": []
     },
     "output_type": "execute_result"
    }
   ],
   "source": [
    "df.sum(axis=1)"
   ]
  },
  {
   "cell_type": "code",
   "execution_count": 44,
   "metadata": {
    "executionInfo": {
     "elapsed": 3586488,
     "status": "ok",
     "timestamp": 1619618616148,
     "user": {
      "displayName": "Fatma Elsafoury",
      "photoUrl": "https://lh3.googleusercontent.com/a-/AOh14GiBOqs1m0p9NKAVLeYOvj2cfPepoOadDs_nVw4YEQ=s64",
      "userId": "12155606853084180649"
     },
     "user_tz": -60
    },
    "id": "28ZjedBbhRlg"
   },
   "outputs": [],
   "source": [
    "def get_cmap(n, name='hsv'):\n",
    "    '''Returns a function that maps each index in 0, 1, ..., n-1 to a distinct \n",
    "    RGB color; the keyword argument name must be a standard mpl colormap name.'''\n",
    "    return plt.cm.get_cmap(name, n)"
   ]
  },
  {
   "cell_type": "code",
   "execution_count": 45,
   "metadata": {
    "executionInfo": {
     "elapsed": 3586487,
     "status": "ok",
     "timestamp": 1619618616149,
     "user": {
      "displayName": "Fatma Elsafoury",
      "photoUrl": "https://lh3.googleusercontent.com/a-/AOh14GiBOqs1m0p9NKAVLeYOvj2cfPepoOadDs_nVw4YEQ=s64",
      "userId": "12155606853084180649"
     },
     "user_tz": -60
    },
    "id": "HN9rau7Nhe83"
   },
   "outputs": [],
   "source": [
    "color=['#808080', '#000000', '#FF0000', '#800000',\n",
    "            '#808000', '#00FFFF', '#0000FF', '#FF00FF', '#008000',\n",
    "            '#FFFF00', '#000080', \"#9370DB\", '#FF7F50']"
   ]
  },
  {
   "cell_type": "code",
   "execution_count": 56,
   "metadata": {
    "colab": {
     "base_uri": "https://localhost:8080/",
     "height": 197
    },
    "executionInfo": {
     "elapsed": 968,
     "status": "ok",
     "timestamp": 1619619598165,
     "user": {
      "displayName": "Fatma Elsafoury",
      "photoUrl": "https://lh3.googleusercontent.com/a-/AOh14GiBOqs1m0p9NKAVLeYOvj2cfPepoOadDs_nVw4YEQ=s64",
      "userId": "12155606853084180649"
     },
     "user_tz": -60
    },
    "id": "wJ2O3DgNcJ7z",
    "outputId": "980d32e9-f715-45b7-91e9-aaf6cb98c4c7"
   },
   "outputs": [
    {
     "data": {
      "text/html": [
       "<div>\n",
       "<style scoped>\n",
       "    .dataframe tbody tr th:only-of-type {\n",
       "        vertical-align: middle;\n",
       "    }\n",
       "\n",
       "    .dataframe tbody tr th {\n",
       "        vertical-align: top;\n",
       "    }\n",
       "\n",
       "    .dataframe thead th {\n",
       "        text-align: right;\n",
       "    }\n",
       "</style>\n",
       "<table border=\"1\" class=\"dataframe\">\n",
       "  <thead>\n",
       "    <tr style=\"text-align: right;\">\n",
       "      <th></th>\n",
       "      <th>No_hurtlex</th>\n",
       "    </tr>\n",
       "  </thead>\n",
       "  <tbody>\n",
       "    <tr>\n",
       "      <th>0</th>\n",
       "      <td>38.626002</td>\n",
       "    </tr>\n",
       "    <tr>\n",
       "      <th>1</th>\n",
       "      <td>44.923630</td>\n",
       "    </tr>\n",
       "    <tr>\n",
       "      <th>2</th>\n",
       "      <td>65.988241</td>\n",
       "    </tr>\n",
       "    <tr>\n",
       "      <th>3</th>\n",
       "      <td>63.620474</td>\n",
       "    </tr>\n",
       "    <tr>\n",
       "      <th>4</th>\n",
       "      <td>41.480679</td>\n",
       "    </tr>\n",
       "  </tbody>\n",
       "</table>\n",
       "</div>"
      ],
      "text/plain": [
       "   No_hurtlex\n",
       "0   38.626002\n",
       "1   44.923630\n",
       "2   65.988241\n",
       "3   63.620474\n",
       "4   41.480679"
      ]
     },
     "execution_count": 56,
     "metadata": {
      "tags": []
     },
     "output_type": "execute_result"
    }
   ],
   "source": [
    "df[[\"No_hurtlex\"]]"
   ]
  },
  {
   "cell_type": "code",
   "execution_count": 61,
   "metadata": {
    "colab": {
     "base_uri": "https://localhost:8080/",
     "height": 374
    },
    "executionInfo": {
     "elapsed": 1337,
     "status": "ok",
     "timestamp": 1619619768069,
     "user": {
      "displayName": "Fatma Elsafoury",
      "photoUrl": "https://lh3.googleusercontent.com/a-/AOh14GiBOqs1m0p9NKAVLeYOvj2cfPepoOadDs_nVw4YEQ=s64",
      "userId": "12155606853084180649"
     },
     "user_tz": -60
    },
    "id": "WJrou8SLcEWX",
    "outputId": "0acbcd81-ee68-45ff-b809-965bebad76f8"
   },
   "outputs": [
    {
     "data": {
      "text/plain": [
       "<matplotlib.legend.Legend at 0x7f8905c71cd0>"
      ]
     },
     "execution_count": 61,
     "metadata": {
      "tags": []
     },
     "output_type": "execute_result"
    },
    {
     "data": {
      "image/png": "[encoded data removed]",
      "text/plain": [
       "<Figure size 720x216 with 1 Axes>"
      ]
     },
     "metadata": {
      "needs_background": "light",
      "tags": []
     },
     "output_type": "display_data"
    }
   ],
   "source": [
    "ax = df.plot(kind=\"bar\",figsize = (10, 3),color=color)\n",
    "plt.ylim(0,50)\n",
    "ax.annotate('40%', xy=(0.25, 35), xytext=(0.25, 35), fontsize=16)\n",
    "ax.annotate('45%', xy=(1.25, 35), xytext=(1.25, 35), fontsize=16)\n",
    "ax.annotate('66%', xy=(2.25, 35), xytext=(2.25, 35), fontsize=16)\n",
    "ax.annotate('64%', xy=(3.25, 35), xytext=(3.25, 35), fontsize=16)\n",
    "ax.annotate('41%', xy=(4.25, 35), xytext=(4.25, 35), fontsize=16)\n",
    "plt.xticks(np.arange(0,5,1), labels=df.Dataset.unique(), fontsize=25)\n",
    "plt.yticks(np.arange(0,50,10),fontsize=15)\n",
    "plt.legend(bbox_to_anchor=(1.12, 1))\n",
    "plt.ylabel(\"% of the dataset\", fontsize=25)\n",
    "#plt.xlabel(\"datasets\", fontsize=25)\n",
    "plt.legend(bbox_to_anchor=(1, 1.05), fontsize=16)"
   ]
  },
  {
   "cell_type": "code",
   "execution_count": 48,
   "metadata": {
    "colab": {
     "base_uri": "https://localhost:8080/",
     "height": 515
    },
    "executionInfo": {
     "elapsed": 3587387,
     "status": "ok",
     "timestamp": 1619618617068,
     "user": {
      "displayName": "Fatma Elsafoury",
      "photoUrl": "https://lh3.googleusercontent.com/a-/AOh14GiBOqs1m0p9NKAVLeYOvj2cfPepoOadDs_nVw4YEQ=s64",
      "userId": "12155606853084180649"
     },
     "user_tz": -60
    },
    "id": "0ZqLjBwpqQMt",
    "outputId": "9043ccc1-75de-4072-bc88-58cd5fc6f9bc"
   },
   "outputs": [
    {
     "data": {
      "text/plain": [
       "<matplotlib.legend.Legend at 0x7f8906b13110>"
      ]
     },
     "execution_count": 48,
     "metadata": {
      "tags": []
     },
     "output_type": "execute_result"
    },
    {
     "data": {
      "image/png": "[encoded data removed]",
      "text/plain": [
       "<Figure size 720x432 with 1 Axes>"
      ]
     },
     "metadata": {
      "needs_background": "light",
      "tags": []
     },
     "output_type": "display_data"
    }
   ],
   "source": [
    "duplicates_dist_dic = {\"Dataset\":[\"hateEval\",\"Kaggle\", \"twitter-sex\",\"twitter-rac\",\"jigsaw\"],\n",
    "       \"PS\":[hateEval_duplictates_Hurtlext_no[0]*100,kaggle_duplictates_Hurtlext_no[0]*100,twitter_sex_duplictates_Hurtlext_no[0]*100,twitter_rac_duplictates_Hurtlext_no[0]*100,jig_tox_duplictates_Hurtlext_no[0]*100],\n",
    "       \"OM\":[hateEval_duplictates_Hurtlext_no[1]*100,kaggle_duplictates_Hurtlext_no[1]*100,twitter_sex_duplictates_Hurtlext_no[1]*100,twitter_rac_duplictates_Hurtlext_no[1]*100,jig_tox_duplictates_Hurtlext_no[1]*100],\n",
    "       \"QAS\":[hateEval_duplictates_Hurtlext_no[2]*100,kaggle_duplictates_Hurtlext_no[2]*100,twitter_sex_duplictates_Hurtlext_no[2]*100,twitter_rac_duplictates_Hurtlext_no[2]*100,jig_tox_duplictates_Hurtlext_no[2]*100],\n",
    "       \"CDS\":[hateEval_duplictates_Hurtlext_no[3]*100,kaggle_duplictates_Hurtlext_no[3]*100,twitter_sex_duplictates_Hurtlext_no[3]*100,twitter_rac_duplictates_Hurtlext_no[3]*100,jig_tox_duplictates_Hurtlext_no[3]*100],\n",
    "       \"IS\":[hateEval_duplictates_Hurtlext_no[4]*100,kaggle_duplictates_Hurtlext_no[4]*100,twitter_sex_duplictates_Hurtlext_no[4]*100,twitter_rac_duplictates_Hurtlext_no[4]*100,jig_tox_duplictates_Hurtlext_no[4]*100],\n",
    "       \"RE\":[hateEval_duplictates_Hurtlext_no[5]*100,kaggle_duplictates_Hurtlext_no[5]*100,twitter_sex_duplictates_Hurtlext_no[5]*100,twitter_rac_duplictates_Hurtlext_no[5]*100,jig_tox_duplictates_Hurtlext_no[5]*100],\n",
    "       \"PR\":[hateEval_duplictates_Hurtlext_no[6]*100,kaggle_duplictates_Hurtlext_no[6]*100,twitter_sex_duplictates_Hurtlext_no[6]*100,twitter_rac_duplictates_Hurtlext_no[6]*100,jig_tox_duplictates_Hurtlext_no[6]*100],\n",
    "       \"ASF\":[hateEval_duplictates_Hurtlext_no[7]*100,kaggle_duplictates_Hurtlext_no[7]*100,twitter_sex_duplictates_Hurtlext_no[7]*100,twitter_rac_duplictates_Hurtlext_no[7]*100,jig_tox_duplictates_Hurtlext_no[7]*100],\n",
    "       \"ASM\":[hateEval_duplictates_Hurtlext_no[8]*100,kaggle_duplictates_Hurtlext_no[8]*100,twitter_sex_duplictates_Hurtlext_no[8]*100,twitter_rac_duplictates_Hurtlext_no[8]*100,jig_tox_duplictates_Hurtlext_no[8]*100],\n",
    "       \"DDP\":[hateEval_duplictates_Hurtlext_no[9]*100,kaggle_duplictates_Hurtlext_no[9]*100,twitter_sex_duplictates_Hurtlext_no[9]*100,twitter_rac_duplictates_Hurtlext_no[9]*100,jig_tox_duplictates_Hurtlext_no[9]*100],\n",
    "       \"DDF\":[hateEval_duplictates_Hurtlext_no[10]*100,kaggle_duplictates_Hurtlext_no[10]*100,twitter_sex_duplictates_Hurtlext_no[10]*100,twitter_rac_duplictates_Hurtlext_no[10]*100,jig_tox_duplictates_Hurtlext_no[10]*100]}\n",
    "\n",
    "duplicates_dist_df = pd.DataFrame.from_dict(duplicates_dist_dic)\n",
    "\n",
    "ax2 = duplicates_dist_df.plot(kind=\"bar\",figsize = (10, 6),color=color)\n",
    "plt.xticks(np.arange(0,5,1), labels=df.Dataset.unique(), fontsize=25)\n",
    "plt.yticks(fontsize=15)\n",
    "plt.legend(bbox_to_anchor=(1.12, 1))\n",
    "plt.ylabel(\"% of the dataset\", fontsize=25)\n",
    "#plt.xlabel(\"datasets\", fontsize=25)\n",
    "plt.legend(bbox_to_anchor=(1, 1.03), fontsize=16)"
   ]
  },
  {
   "cell_type": "code",
   "execution_count": 49,
   "metadata": {
    "executionInfo": {
     "elapsed": 3587386,
     "status": "ok",
     "timestamp": 1619618617069,
     "user": {
      "displayName": "Fatma Elsafoury",
      "photoUrl": "https://lh3.googleusercontent.com/a-/AOh14GiBOqs1m0p9NKAVLeYOvj2cfPepoOadDs_nVw4YEQ=s64",
      "userId": "12155606853084180649"
     },
     "user_tz": -60
    },
    "id": "Ci5MIry7GSHd"
   },
   "outputs": [],
   "source": [
    " images_folder = \"/content/drive/My Drive/Colab Notebooks/Cyberbullying_WE_intrinsic_analysis/images\""
   ]
  },
  {
   "cell_type": "code",
   "execution_count": 62,
   "metadata": {
    "colab": {
     "base_uri": "https://localhost:8080/"
    },
    "executionInfo": {
     "elapsed": 865,
     "status": "ok",
     "timestamp": 1619619785371,
     "user": {
      "displayName": "Fatma Elsafoury",
      "photoUrl": "https://lh3.googleusercontent.com/a-/AOh14GiBOqs1m0p9NKAVLeYOvj2cfPepoOadDs_nVw4YEQ=s64",
      "userId": "12155606853084180649"
     },
     "user_tz": -60
    },
    "id": "1DJEBcBSzSfN",
    "outputId": "405bd7e9-d8fe-45c9-b03a-eb8431a55f24"
   },
   "outputs": [
    {
     "name": "stderr",
     "output_type": "stream",
     "text": [
      "The PostScript backend does not support transparency; partially transparent artists will be rendered opaque.\n",
      "The PostScript backend does not support transparency; partially transparent artists will be rendered opaque.\n"
     ]
    }
   ],
   "source": [
    "fig2 = ax2.get_figure()\n",
    "fig2.savefig(images_folder+\"/prcntg_of_all_duplicates_lexicon_for_each_ds.eps\", format='eps',bbox_inches='tight') "
   ]
  },
  {
   "cell_type": "code",
   "execution_count": 63,
   "metadata": {
    "colab": {
     "base_uri": "https://localhost:8080/"
    },
    "executionInfo": {
     "elapsed": 784,
     "status": "ok",
     "timestamp": 1619619785560,
     "user": {
      "displayName": "Fatma Elsafoury",
      "photoUrl": "https://lh3.googleusercontent.com/a-/AOh14GiBOqs1m0p9NKAVLeYOvj2cfPepoOadDs_nVw4YEQ=s64",
      "userId": "12155606853084180649"
     },
     "user_tz": -60
    },
    "id": "V2u8Pd4gQK3C",
    "outputId": "2a613399-d340-4a23-d61f-462cc220c4ba"
   },
   "outputs": [
    {
     "name": "stderr",
     "output_type": "stream",
     "text": [
      "The PostScript backend does not support transparency; partially transparent artists will be rendered opaque.\n",
      "The PostScript backend does not support transparency; partially transparent artists will be rendered opaque.\n"
     ]
    }
   ],
   "source": [
    "fig.savefig(images_folder+\"/prcntg_of_all_lexicon_in_all_ds.eps\", format='eps',bbox_inches='tight') "
   ]
  },
  {
   "cell_type": "code",
   "execution_count": 64,
   "metadata": {
    "colab": {
     "base_uri": "https://localhost:8080/"
    },
    "executionInfo": {
     "elapsed": 890,
     "status": "ok",
     "timestamp": 1619619786026,
     "user": {
      "displayName": "Fatma Elsafoury",
      "photoUrl": "https://lh3.googleusercontent.com/a-/AOh14GiBOqs1m0p9NKAVLeYOvj2cfPepoOadDs_nVw4YEQ=s64",
      "userId": "12155606853084180649"
     },
     "user_tz": -60
    },
    "id": "qoNwmgzEXkpQ",
    "outputId": "b22f3369-173e-45e4-e85e-eb87b3823971"
   },
   "outputs": [
    {
     "name": "stderr",
     "output_type": "stream",
     "text": [
      "The PostScript backend does not support transparency; partially transparent artists will be rendered opaque.\n",
      "The PostScript backend does not support transparency; partially transparent artists will be rendered opaque.\n"
     ]
    }
   ],
   "source": [
    "fig = ax.get_figure()\n",
    "fig.savefig(images_folder+\"/prcntg_of_all_lexicon_for_each_ds_zoom.eps\", format='eps',bbox_inches='tight') "
   ]
  },
  {
   "cell_type": "code",
   "execution_count": 52,
   "metadata": {
    "executionInfo": {
     "elapsed": 3588681,
     "status": "ok",
     "timestamp": 1619618618383,
     "user": {
      "displayName": "Fatma Elsafoury",
      "photoUrl": "https://lh3.googleusercontent.com/a-/AOh14GiBOqs1m0p9NKAVLeYOvj2cfPepoOadDs_nVw4YEQ=s64",
      "userId": "12155606853084180649"
     },
     "user_tz": -60
    },
    "id": "T1TiqkZZHv2J"
   },
   "outputs": [],
   "source": []
  }
 ],
 "metadata": {
  "colab": {
   "authorship_tag": "ABX9TyPCq8lV3n90v5fyulnp6Qr8",
   "collapsed_sections": [],
   "name": "Hurtlex_in_all_datasets.ipynb",
   "provenance": []
  },
  "kernelspec": {
   "display_name": "Python 3",
   "language": "python",
   "name": "python3"
  },
  "language_info": {
   "codemirror_mode": {
    "name": "ipython",
    "version": 3
   },
   "file_extension": ".py",
   "mimetype": "text/x-python",
   "name": "python",
   "nbconvert_exporter": "python",
   "pygments_lexer": "ipython3",
   "version": "3.6.9"
  }
 },
 "nbformat": 4,
 "nbformat_minor": 1
}
