{
 "cells": [
  {
   "cell_type": "code",
   "execution_count": 1,
   "metadata": {},
   "outputs": [
    {
     "name": "stdout",
     "output_type": "stream",
     "text": [
      "3.8.10 (default, Mar 15 2022, 12:22:08) \n",
      "[GCC 9.4.0]\n"
     ]
    }
   ],
   "source": [
    "import sys\n",
    "print(sys.version)"
   ]
  },
  {
   "cell_type": "code",
   "execution_count": 2,
   "metadata": {},
   "outputs": [],
   "source": [
    "import pandas as pd"
   ]
  },
  {
   "cell_type": "code",
   "execution_count": 3,
   "metadata": {},
   "outputs": [],
   "source": [
    "from wefe.query import Query\n",
    "from wefe.metrics import WEAT, RNSB, RND, MAC, ECT\n",
    "from wefe.word_embedding_model import WordEmbeddingModel\n",
    "from wefe.datasets.datasets import load_weat, fetch_eds, fetch_debias_multiclass, fetch_debiaswe, load_bingliu\n",
    "from wefe.utils import run_queries, plot_queries_results, create_ranking, plot_ranking, plot_ranking_correlations\n",
    "from plotly.subplots import make_subplots\n",
    "import gensim"
   ]
  },
  {
   "cell_type": "code",
   "execution_count": 4,
   "metadata": {},
   "outputs": [],
   "source": [
    "data_folder = \"../../Data/\"\n",
    "embeddings_folder = data_folder+\"/word embeddings/\""
   ]
  },
  {
   "cell_type": "code",
   "execution_count": 5,
   "metadata": {},
   "outputs": [
    {
     "name": "stderr",
     "output_type": "stream",
     "text": [
      "INFO:gensim.models.keyedvectors:loading projection weights from ../../Data//word embeddings/W2V/GoogleNews-vectors-negative300.bin\n",
      "DEBUG:smart_open.smart_open_lib:{'uri': '../../Data//word embeddings/W2V/GoogleNews-vectors-negative300.bin', 'mode': 'rb', 'buffering': -1, 'encoding': None, 'errors': None, 'newline': None, 'closefd': True, 'opener': None, 'ignore_ext': False, 'compression': None, 'transport_params': None}\n",
      "DEBUG:gensim.utils:starting a new internal lifecycle event log for KeyedVectors\n",
      "INFO:gensim.utils:KeyedVectors lifecycle event {'msg': 'loaded (3000000, 300) matrix of type float32 from ../../Data//word embeddings/W2V/GoogleNews-vectors-negative300.bin', 'binary': True, 'encoding': 'utf8', 'datetime': '2022-04-19T12:42:14.043144', 'gensim': '4.0.1', 'python': '3.8.10 (default, Mar 15 2022, 12:22:08) \\n[GCC 9.4.0]', 'platform': 'Linux-5.4.0-107-generic-x86_64-with-glibc2.29', 'event': 'load_word2vec_format'}\n"
     ]
    }
   ],
   "source": [
    "w2v = gensim.models.KeyedVectors.load_word2vec_format(embeddings_folder+'W2V/GoogleNews-vectors-negative300.bin',binary=True)\n",
    "model_wv = WordEmbeddingModel(w2v, 'WE')\n",
    "\n"
   ]
  },
  {
   "cell_type": "code",
   "execution_count": 6,
   "metadata": {},
   "outputs": [
    {
     "name": "stderr",
     "output_type": "stream",
     "text": [
      "INFO:gensim.models.keyedvectors:loading projection weights from ../../Data//word embeddings/Glove/glove.twitter.27B/glove_2_word2vec.twitter.27B.200d.txt\n",
      "DEBUG:smart_open.smart_open_lib:{'uri': '../../Data//word embeddings/Glove/glove.twitter.27B/glove_2_word2vec.twitter.27B.200d.txt', 'mode': 'rb', 'buffering': -1, 'encoding': None, 'errors': None, 'newline': None, 'closefd': True, 'opener': None, 'ignore_ext': False, 'compression': None, 'transport_params': None}\n",
      "DEBUG:gensim.utils:starting a new internal lifecycle event log for KeyedVectors\n",
      "INFO:gensim.utils:KeyedVectors lifecycle event {'msg': 'loaded (1193514, 200) matrix of type float32 from ../../Data//word embeddings/Glove/glove.twitter.27B/glove_2_word2vec.twitter.27B.200d.txt', 'binary': False, 'encoding': 'utf8', 'datetime': '2022-04-19T12:43:11.473026', 'gensim': '4.0.1', 'python': '3.8.10 (default, Mar 15 2022, 12:22:08) \\n[GCC 9.4.0]', 'platform': 'Linux-5.4.0-107-generic-x86_64-with-glibc2.29', 'event': 'load_word2vec_format'}\n"
     ]
    }
   ],
   "source": [
    "glove_twitter = gensim.models.KeyedVectors.load_word2vec_format(embeddings_folder+'Glove/glove.twitter.27B/glove_2_word2vec.twitter.27B.200d.txt')\n",
    "model_glove_twitter = WordEmbeddingModel(glove_twitter, 'glove_twitter')"
   ]
  },
  {
   "cell_type": "code",
   "execution_count": 7,
   "metadata": {},
   "outputs": [
    {
     "name": "stderr",
     "output_type": "stream",
     "text": [
      "INFO:gensim.models.keyedvectors:loading projection weights from ../../Data//word embeddings/Glove/glove.6B/glove_2_word2vec.6B.200d.txt\n",
      "DEBUG:smart_open.smart_open_lib:{'uri': '../../Data//word embeddings/Glove/glove.6B/glove_2_word2vec.6B.200d.txt', 'mode': 'rb', 'buffering': -1, 'encoding': None, 'errors': None, 'newline': None, 'closefd': True, 'opener': None, 'ignore_ext': False, 'compression': None, 'transport_params': None}\n",
      "DEBUG:gensim.utils:starting a new internal lifecycle event log for KeyedVectors\n",
      "INFO:gensim.utils:KeyedVectors lifecycle event {'msg': 'loaded (400000, 200) matrix of type float32 from ../../Data//word embeddings/Glove/glove.6B/glove_2_word2vec.6B.200d.txt', 'binary': False, 'encoding': 'utf8', 'datetime': '2022-04-19T12:43:33.997339', 'gensim': '4.0.1', 'python': '3.8.10 (default, Mar 15 2022, 12:22:08) \\n[GCC 9.4.0]', 'platform': 'Linux-5.4.0-107-generic-x86_64-with-glibc2.29', 'event': 'load_word2vec_format'}\n"
     ]
    }
   ],
   "source": [
    "glove_wk = gensim.models.KeyedVectors.load_word2vec_format(embeddings_folder+'Glove/glove.6B/glove_2_word2vec.6B.200d.txt')\n",
    "model_glove_wk = WordEmbeddingModel(glove_wk, 'glove_wk')"
   ]
  },
  {
   "cell_type": "code",
   "execution_count": 8,
   "metadata": {},
   "outputs": [
    {
     "name": "stderr",
     "output_type": "stream",
     "text": [
      "INFO:gensim.models.keyedvectors:loading projection weights from ../../Data//word embeddings/ud_embeddings/ud_basic.vec\n",
      "DEBUG:smart_open.smart_open_lib:{'uri': '../../Data//word embeddings/ud_embeddings/ud_basic.vec', 'mode': 'rb', 'buffering': -1, 'encoding': None, 'errors': None, 'newline': None, 'closefd': True, 'opener': None, 'ignore_ext': False, 'compression': None, 'transport_params': None}\n",
      "DEBUG:gensim.utils:starting a new internal lifecycle event log for KeyedVectors\n",
      "INFO:gensim.utils:KeyedVectors lifecycle event {'msg': 'loaded (542320, 300) matrix of type float32 from ../../Data//word embeddings/ud_embeddings/ud_basic.vec', 'binary': False, 'encoding': 'utf8', 'datetime': '2022-04-19T12:44:13.428350', 'gensim': '4.0.1', 'python': '3.8.10 (default, Mar 15 2022, 12:22:08) \\n[GCC 9.4.0]', 'platform': 'Linux-5.4.0-107-generic-x86_64-with-glibc2.29', 'event': 'load_word2vec_format'}\n"
     ]
    }
   ],
   "source": [
    "UD = gensim.models.KeyedVectors.load_word2vec_format(embeddings_folder+'ud_embeddings/ud_basic.vec')\n",
    "model_ud = WordEmbeddingModel(UD, 'UD')"
   ]
  },
  {
   "cell_type": "code",
   "execution_count": 9,
   "metadata": {},
   "outputs": [
    {
     "name": "stderr",
     "output_type": "stream",
     "text": [
      "INFO:gensim.models.keyedvectors:loading projection weights from ../../Data//word embeddings/4_8_chan_word_embeddings/48chan_2_wv_embeddings.txt\n",
      "DEBUG:smart_open.smart_open_lib:{'uri': '../../Data//word embeddings/4_8_chan_word_embeddings/48chan_2_wv_embeddings.txt', 'mode': 'rb', 'buffering': -1, 'encoding': None, 'errors': None, 'newline': None, 'closefd': True, 'opener': None, 'ignore_ext': False, 'compression': None, 'transport_params': None}\n",
      "DEBUG:gensim.utils:starting a new internal lifecycle event log for KeyedVectors\n",
      "INFO:gensim.utils:KeyedVectors lifecycle event {'msg': 'loaded (255938, 150) matrix of type float32 from ../../Data//word embeddings/4_8_chan_word_embeddings/48chan_2_wv_embeddings.txt', 'binary': False, 'encoding': 'utf8', 'datetime': '2022-04-19T12:44:25.150016', 'gensim': '4.0.1', 'python': '3.8.10 (default, Mar 15 2022, 12:22:08) \\n[GCC 9.4.0]', 'platform': 'Linux-5.4.0-107-generic-x86_64-with-glibc2.29', 'event': 'load_word2vec_format'}\n"
     ]
    }
   ],
   "source": [
    "chan = gensim.models.KeyedVectors.load_word2vec_format(embeddings_folder+'4_8_chan_word_embeddings/48chan_2_wv_embeddings.txt')\n",
    "model_chan = WordEmbeddingModel(chan, 'Chan')"
   ]
  },
  {
   "cell_type": "code",
   "execution_count": 10,
   "metadata": {},
   "outputs": [],
   "source": [
    "# load the weat word sets\n",
    "WEAT_wordsets = load_weat()\n",
    "RND_wordsets = fetch_eds()\n",
    "sentiments_wordsets = load_bingliu()\n",
    "debias_multiclass_wordsets = fetch_debias_multiclass()"
   ]
  },
  {
   "cell_type": "markdown",
   "metadata": {},
   "source": [
    "#### WEAT Effect Size: represents a normalized measure that quantifies how far apart the two distributions of association between targets and attributes are.\n",
    "\n",
    "#### WEAT score:  Its objective is to quantify the strength of association of both pair of sets through a permutation test. The score being positive and higher than one indicates that word2vec exhibits a moderately strong relationship between men's names and careers and women's names and family."
   ]
  },
  {
   "cell_type": "code",
   "execution_count": 11,
   "metadata": {},
   "outputs": [],
   "source": [
    "profane_words = open(data_folder+\"swear_words.txt\").read().splitlines()"
   ]
  },
  {
   "cell_type": "code",
   "execution_count": 12,
   "metadata": {},
   "outputs": [],
   "source": [
    "harmless_minority_words_clean = [\"african\", \"african american\", \"asian\", \"black\",\n",
    "                                 \"hispanic\", \"latin\", \"mexican\",\n",
    "                                 \"indian\", \"middle eastern\", \"arab\"]\n",
    "\n",
    "harmless_majority_words_clean = [\"white\",\"caucasian\",\n",
    "                                 \"european american\",\"european\", \"norwegian\",\n",
    "                                 \"canadian\", \"german\", \"australian\", \"english\",\n",
    "                                \"french\", \"american\", \"swedish\", \"dutch\"]\n"
   ]
  },
  {
   "cell_type": "markdown",
   "metadata": {},
   "source": [
    "#### running multiple queries and multiple word embeddings"
   ]
  },
  {
   "cell_type": "code",
   "execution_count": 13,
   "metadata": {},
   "outputs": [],
   "source": [
    "models = [model_wv, model_glove_wk, model_glove_twitter, model_ud, model_chan]"
   ]
  },
  {
   "cell_type": "markdown",
   "metadata": {},
   "source": [
    "## Query ranking"
   ]
  },
  {
   "cell_type": "code",
   "execution_count": 14,
   "metadata": {},
   "outputs": [],
   "source": [
    "#query1 = Query([harmless_minority_words_clean, harmless_majority_words_clean],\n",
    "   #                    [WEAT_wordsets['unpleasant_5'], WEAT_wordsets['pleasant_5']])\n",
    "\n",
    "query2 = Query([harmless_minority_words_clean, harmless_majority_words_clean],\n",
    "                       [profane_words, sentiments_wordsets['positive_words']])\n",
    "\n",
    "gender_queries = [query2]"
   ]
  },
  {
   "cell_type": "code",
   "execution_count": 15,
   "metadata": {},
   "outputs": [
    {
     "name": "stderr",
     "output_type": "stream",
     "text": [
      "/home/fatma/.local/lib/python3.8/site-packages/wefe/metrics/RNSB.py:150: VisibleDeprecationWarning: Creating an ndarray from ragged nested sequences (which is a list-or-tuple of lists-or-tuples-or ndarrays with different lengths or shapes) is deprecated. If you meant to do this, you must specify 'dtype=object' when creating the ndarray.\n",
      "  probabilities = np.array([\n",
      "/home/fatma/.local/lib/python3.8/site-packages/wefe/metrics/RNSB.py:156: VisibleDeprecationWarning: Creating an ndarray from ragged nested sequences (which is a list-or-tuple of lists-or-tuples-or ndarrays with different lengths or shapes) is deprecated. If you meant to do this, you must specify 'dtype=object' when creating the ndarray.\n",
      "  negative_probabilities = np.array(\n",
      "/home/fatma/.local/lib/python3.8/site-packages/wefe/metrics/RNSB.py:150: VisibleDeprecationWarning: Creating an ndarray from ragged nested sequences (which is a list-or-tuple of lists-or-tuples-or ndarrays with different lengths or shapes) is deprecated. If you meant to do this, you must specify 'dtype=object' when creating the ndarray.\n",
      "  probabilities = np.array([\n",
      "/home/fatma/.local/lib/python3.8/site-packages/wefe/metrics/RNSB.py:156: VisibleDeprecationWarning: Creating an ndarray from ragged nested sequences (which is a list-or-tuple of lists-or-tuples-or ndarrays with different lengths or shapes) is deprecated. If you meant to do this, you must specify 'dtype=object' when creating the ndarray.\n",
      "  negative_probabilities = np.array(\n",
      "/home/fatma/.local/lib/python3.8/site-packages/wefe/metrics/RNSB.py:150: VisibleDeprecationWarning: Creating an ndarray from ragged nested sequences (which is a list-or-tuple of lists-or-tuples-or ndarrays with different lengths or shapes) is deprecated. If you meant to do this, you must specify 'dtype=object' when creating the ndarray.\n",
      "  probabilities = np.array([\n",
      "/home/fatma/.local/lib/python3.8/site-packages/wefe/metrics/RNSB.py:156: VisibleDeprecationWarning: Creating an ndarray from ragged nested sequences (which is a list-or-tuple of lists-or-tuples-or ndarrays with different lengths or shapes) is deprecated. If you meant to do this, you must specify 'dtype=object' when creating the ndarray.\n",
      "  negative_probabilities = np.array(\n",
      "/home/fatma/.local/lib/python3.8/site-packages/wefe/metrics/RNSB.py:150: VisibleDeprecationWarning: Creating an ndarray from ragged nested sequences (which is a list-or-tuple of lists-or-tuples-or ndarrays with different lengths or shapes) is deprecated. If you meant to do this, you must specify 'dtype=object' when creating the ndarray.\n",
      "  probabilities = np.array([\n",
      "/home/fatma/.local/lib/python3.8/site-packages/wefe/metrics/RNSB.py:156: VisibleDeprecationWarning: Creating an ndarray from ragged nested sequences (which is a list-or-tuple of lists-or-tuples-or ndarrays with different lengths or shapes) is deprecated. If you meant to do this, you must specify 'dtype=object' when creating the ndarray.\n",
      "  negative_probabilities = np.array(\n",
      "/home/fatma/.local/lib/python3.8/site-packages/wefe/metrics/RNSB.py:150: VisibleDeprecationWarning: Creating an ndarray from ragged nested sequences (which is a list-or-tuple of lists-or-tuples-or ndarrays with different lengths or shapes) is deprecated. If you meant to do this, you must specify 'dtype=object' when creating the ndarray.\n",
      "  probabilities = np.array([\n",
      "/home/fatma/.local/lib/python3.8/site-packages/wefe/metrics/RNSB.py:156: VisibleDeprecationWarning: Creating an ndarray from ragged nested sequences (which is a list-or-tuple of lists-or-tuples-or ndarrays with different lengths or shapes) is deprecated. If you meant to do this, you must specify 'dtype=object' when creating the ndarray.\n",
      "  negative_probabilities = np.array(\n"
     ]
    }
   ],
   "source": [
    "# Run the queries WEAT\n",
    "WEAT_gender_results = run_queries(\n",
    "    WEAT,\n",
    "    gender_queries,\n",
    "    models,\n",
    "    aggregate_results=True,\n",
    "    return_only_aggregation=True,\n",
    "    lost_vocabulary_threshold = 0.6,\n",
    "    queries_set_name='SOS Queries')\n",
    "\n",
    "# Run the queries with WEAT Effect Size\n",
    "\n",
    "WEAT_EZ_gender_results = run_queries(WEAT,\n",
    "                                     gender_queries,\n",
    "                                     models,\n",
    "                                     metric_params={\n",
    "                                        \n",
    "                                         'return_effect_size': True\n",
    "                                     },\n",
    "                                     aggregate_results=True,\n",
    "                                     return_only_aggregation=True,\n",
    "                                     lost_vocabulary_threshold = 0.6,\n",
    "                                     queries_set_name='SOS Queries')\n",
    "\n",
    "\n",
    "# Run the queries using RNSB\n",
    "RNSB_gender_results = run_queries(RNSB,\n",
    "                                gender_queries,\n",
    "                                models,\n",
    "                                aggregate_results=True,\n",
    "                                return_only_aggregation=True,\n",
    "                                    lost_vocabulary_threshold = 0.6,\n",
    "                                queries_set_name='SOS Queries')\n",
    "\n",
    "\n"
   ]
  },
  {
   "cell_type": "code",
   "execution_count": 16,
   "metadata": {},
   "outputs": [],
   "source": [
    "# Run the queries using RND\n",
    "RND_gender_results = run_queries(RND,\n",
    "                                gender_queries,\n",
    "                                models,\n",
    "                                aggregate_results=True,\n",
    "                                generate_subqueries=True,\n",
    "                                lost_vocabulary_threshold = 0.6,\n",
    "                                queries_set_name='SOS Queries')\n",
    "\n",
    "\n"
   ]
  },
  {
   "cell_type": "code",
   "execution_count": 17,
   "metadata": {},
   "outputs": [],
   "source": [
    "# Run the queries using ECT\n",
    "ECT_gender_results = run_queries(ECT,\n",
    "                                gender_queries,\n",
    "                                models,\n",
    "                                aggregate_results=True,\n",
    "                                generate_subqueries=True,\n",
    "                                lost_vocabulary_threshold = 0.6,\n",
    "                                queries_set_name='SOS Queries')"
   ]
  },
  {
   "cell_type": "code",
   "execution_count": 18,
   "metadata": {},
   "outputs": [
    {
     "data": {
      "text/html": [
       "<div>\n",
       "<style scoped>\n",
       "    .dataframe tbody tr th:only-of-type {\n",
       "        vertical-align: middle;\n",
       "    }\n",
       "\n",
       "    .dataframe tbody tr th {\n",
       "        vertical-align: top;\n",
       "    }\n",
       "\n",
       "    .dataframe thead th {\n",
       "        text-align: right;\n",
       "    }\n",
       "</style>\n",
       "<table border=\"1\" class=\"dataframe\">\n",
       "  <thead>\n",
       "    <tr style=\"text-align: right;\">\n",
       "      <th></th>\n",
       "      <th>WEAT: SOS Queries average of abs values score</th>\n",
       "    </tr>\n",
       "    <tr>\n",
       "      <th>model_name</th>\n",
       "      <th></th>\n",
       "    </tr>\n",
       "  </thead>\n",
       "  <tbody>\n",
       "    <tr>\n",
       "      <th>WE</th>\n",
       "      <td>0.636393</td>\n",
       "    </tr>\n",
       "    <tr>\n",
       "      <th>glove_wk</th>\n",
       "      <td>0.302182</td>\n",
       "    </tr>\n",
       "    <tr>\n",
       "      <th>glove_twitter</th>\n",
       "      <td>0.189505</td>\n",
       "    </tr>\n",
       "    <tr>\n",
       "      <th>UD</th>\n",
       "      <td>0.001476</td>\n",
       "    </tr>\n",
       "    <tr>\n",
       "      <th>Chan</th>\n",
       "      <td>0.441893</td>\n",
       "    </tr>\n",
       "  </tbody>\n",
       "</table>\n",
       "</div>"
      ],
      "text/plain": [
       "               WEAT: SOS Queries average of abs values score\n",
       "model_name                                                  \n",
       "WE                                                  0.636393\n",
       "glove_wk                                            0.302182\n",
       "glove_twitter                                       0.189505\n",
       "UD                                                  0.001476\n",
       "Chan                                                0.441893"
      ]
     },
     "execution_count": 18,
     "metadata": {},
     "output_type": "execute_result"
    }
   ],
   "source": [
    "WEAT_gender_results"
   ]
  },
  {
   "cell_type": "code",
   "execution_count": 19,
   "metadata": {},
   "outputs": [
    {
     "data": {
      "text/html": [
       "<div>\n",
       "<style scoped>\n",
       "    .dataframe tbody tr th:only-of-type {\n",
       "        vertical-align: middle;\n",
       "    }\n",
       "\n",
       "    .dataframe tbody tr th {\n",
       "        vertical-align: top;\n",
       "    }\n",
       "\n",
       "    .dataframe thead th {\n",
       "        text-align: right;\n",
       "    }\n",
       "</style>\n",
       "<table border=\"1\" class=\"dataframe\">\n",
       "  <thead>\n",
       "    <tr style=\"text-align: right;\">\n",
       "      <th></th>\n",
       "      <th>RNSB: SOS Queries average of abs values score</th>\n",
       "    </tr>\n",
       "    <tr>\n",
       "      <th>model_name</th>\n",
       "      <th></th>\n",
       "    </tr>\n",
       "  </thead>\n",
       "  <tbody>\n",
       "    <tr>\n",
       "      <th>WE</th>\n",
       "      <td>0.335636</td>\n",
       "    </tr>\n",
       "    <tr>\n",
       "      <th>glove_wk</th>\n",
       "      <td>0.814237</td>\n",
       "    </tr>\n",
       "    <tr>\n",
       "      <th>glove_twitter</th>\n",
       "      <td>0.578523</td>\n",
       "    </tr>\n",
       "    <tr>\n",
       "      <th>UD</th>\n",
       "      <td>0.592651</td>\n",
       "    </tr>\n",
       "    <tr>\n",
       "      <th>Chan</th>\n",
       "      <td>0.655616</td>\n",
       "    </tr>\n",
       "  </tbody>\n",
       "</table>\n",
       "</div>"
      ],
      "text/plain": [
       "               RNSB: SOS Queries average of abs values score\n",
       "model_name                                                  \n",
       "WE                                                  0.335636\n",
       "glove_wk                                            0.814237\n",
       "glove_twitter                                       0.578523\n",
       "UD                                                  0.592651\n",
       "Chan                                                0.655616"
      ]
     },
     "execution_count": 19,
     "metadata": {},
     "output_type": "execute_result"
    }
   ],
   "source": [
    "RNSB_gender_results"
   ]
  },
  {
   "cell_type": "code",
   "execution_count": 20,
   "metadata": {},
   "outputs": [
    {
     "data": {
      "text/plain": [
       "model_name\n",
       "WE               0.108392\n",
       "glove_wk         0.065026\n",
       "glove_twitter    0.225473\n",
       "UD               0.126520\n",
       "Chan             2.148778\n",
       "Name: RND: SOS Queries average of abs values score, dtype: float64"
      ]
     },
     "execution_count": 20,
     "metadata": {},
     "output_type": "execute_result"
    }
   ],
   "source": [
    "RND_gender_results[\"RND: SOS Queries average of abs values score\"]"
   ]
  },
  {
   "cell_type": "code",
   "execution_count": 21,
   "metadata": {},
   "outputs": [
    {
     "data": {
      "text/plain": [
       "model_name\n",
       "WE               0.880087\n",
       "glove_wk         0.942214\n",
       "glove_twitter    0.960936\n",
       "UD               0.618317\n",
       "Chan             0.734377\n",
       "Name: ECT: SOS Queries average of abs values score, dtype: float64"
      ]
     },
     "execution_count": 21,
     "metadata": {},
     "output_type": "execute_result"
    }
   ],
   "source": [
    "ECT_gender_results[\"ECT: SOS Queries average of abs values score\"]"
   ]
  },
  {
   "cell_type": "code",
   "execution_count": 22,
   "metadata": {},
   "outputs": [],
   "source": [
    "import numpy as np\n",
    "import scipy"
   ]
  },
  {
   "cell_type": "code",
   "execution_count": 23,
   "metadata": {},
   "outputs": [
    {
     "data": {
      "text/plain": [
       "model_name\n",
       "WE               0.880087\n",
       "glove_wk         0.942214\n",
       "glove_twitter    0.960936\n",
       "UD               0.618317\n",
       "Chan             0.734377\n",
       "Name: ECT: SOS Queries average of abs values score, dtype: float64"
      ]
     },
     "execution_count": 23,
     "metadata": {},
     "output_type": "execute_result"
    }
   ],
   "source": [
    "ECT_gender_results[\"ECT: SOS Queries average of abs values score\"]"
   ]
  },
  {
   "cell_type": "code",
   "execution_count": 24,
   "metadata": {},
   "outputs": [
    {
     "data": {
      "text/html": [
       "<div>\n",
       "<style scoped>\n",
       "    .dataframe tbody tr th:only-of-type {\n",
       "        vertical-align: middle;\n",
       "    }\n",
       "\n",
       "    .dataframe tbody tr th {\n",
       "        vertical-align: top;\n",
       "    }\n",
       "\n",
       "    .dataframe thead th {\n",
       "        text-align: right;\n",
       "    }\n",
       "</style>\n",
       "<table border=\"1\" class=\"dataframe\">\n",
       "  <thead>\n",
       "    <tr style=\"text-align: right;\">\n",
       "      <th></th>\n",
       "      <th>Target set 0 and Target set 1 wrt Attribute set 0</th>\n",
       "      <th>Target set 0 and Target set 1 wrt Attribute set 1</th>\n",
       "      <th>ECT: SOS Queries average of abs values score</th>\n",
       "    </tr>\n",
       "    <tr>\n",
       "      <th>model_name</th>\n",
       "      <th></th>\n",
       "      <th></th>\n",
       "      <th></th>\n",
       "    </tr>\n",
       "  </thead>\n",
       "  <tbody>\n",
       "    <tr>\n",
       "      <th>WE</th>\n",
       "      <td>0.939688</td>\n",
       "      <td>0.820485</td>\n",
       "      <td>0.880087</td>\n",
       "    </tr>\n",
       "    <tr>\n",
       "      <th>glove_wk</th>\n",
       "      <td>0.923409</td>\n",
       "      <td>0.961019</td>\n",
       "      <td>0.942214</td>\n",
       "    </tr>\n",
       "    <tr>\n",
       "      <th>glove_twitter</th>\n",
       "      <td>0.963976</td>\n",
       "      <td>0.957896</td>\n",
       "      <td>0.960936</td>\n",
       "    </tr>\n",
       "    <tr>\n",
       "      <th>UD</th>\n",
       "      <td>0.621348</td>\n",
       "      <td>0.615287</td>\n",
       "      <td>0.618317</td>\n",
       "    </tr>\n",
       "    <tr>\n",
       "      <th>Chan</th>\n",
       "      <td>0.639547</td>\n",
       "      <td>0.829206</td>\n",
       "      <td>0.734377</td>\n",
       "    </tr>\n",
       "  </tbody>\n",
       "</table>\n",
       "</div>"
      ],
      "text/plain": [
       "               Target set 0 and Target set 1 wrt Attribute set 0  \\\n",
       "model_name                                                         \n",
       "WE                                                      0.939688   \n",
       "glove_wk                                                0.923409   \n",
       "glove_twitter                                           0.963976   \n",
       "UD                                                      0.621348   \n",
       "Chan                                                    0.639547   \n",
       "\n",
       "               Target set 0 and Target set 1 wrt Attribute set 1  \\\n",
       "model_name                                                         \n",
       "WE                                                      0.820485   \n",
       "glove_wk                                                0.961019   \n",
       "glove_twitter                                           0.957896   \n",
       "UD                                                      0.615287   \n",
       "Chan                                                    0.829206   \n",
       "\n",
       "               ECT: SOS Queries average of abs values score  \n",
       "model_name                                                   \n",
       "WE                                                 0.880087  \n",
       "glove_wk                                           0.942214  \n",
       "glove_twitter                                      0.960936  \n",
       "UD                                                 0.618317  \n",
       "Chan                                               0.734377  "
      ]
     },
     "execution_count": 24,
     "metadata": {},
     "output_type": "execute_result"
    }
   ],
   "source": [
    "ECT_gender_results"
   ]
  },
  {
   "cell_type": "code",
   "execution_count": 25,
   "metadata": {},
   "outputs": [],
   "source": [
    "gender_ranking = create_ranking([ WEAT_gender_results, \n",
    "                                RNSB_gender_results, RND_gender_results\n",
    "                                ], ascending=True)\n",
    "ect_gender_Ranking = create_ranking([ECT_gender_results], ascending=False)"
   ]
  },
  {
   "cell_type": "code",
   "execution_count": 26,
   "metadata": {},
   "outputs": [
    {
     "data": {
      "text/html": [
       "<div>\n",
       "<style scoped>\n",
       "    .dataframe tbody tr th:only-of-type {\n",
       "        vertical-align: middle;\n",
       "    }\n",
       "\n",
       "    .dataframe tbody tr th {\n",
       "        vertical-align: top;\n",
       "    }\n",
       "\n",
       "    .dataframe thead th {\n",
       "        text-align: right;\n",
       "    }\n",
       "</style>\n",
       "<table border=\"1\" class=\"dataframe\">\n",
       "  <thead>\n",
       "    <tr style=\"text-align: right;\">\n",
       "      <th></th>\n",
       "      <th>ECT: SOS Queries average of abs values score</th>\n",
       "    </tr>\n",
       "    <tr>\n",
       "      <th>model_name</th>\n",
       "      <th></th>\n",
       "    </tr>\n",
       "  </thead>\n",
       "  <tbody>\n",
       "    <tr>\n",
       "      <th>WE</th>\n",
       "      <td>3.0</td>\n",
       "    </tr>\n",
       "    <tr>\n",
       "      <th>glove_wk</th>\n",
       "      <td>2.0</td>\n",
       "    </tr>\n",
       "    <tr>\n",
       "      <th>glove_twitter</th>\n",
       "      <td>1.0</td>\n",
       "    </tr>\n",
       "    <tr>\n",
       "      <th>UD</th>\n",
       "      <td>5.0</td>\n",
       "    </tr>\n",
       "    <tr>\n",
       "      <th>Chan</th>\n",
       "      <td>4.0</td>\n",
       "    </tr>\n",
       "  </tbody>\n",
       "</table>\n",
       "</div>"
      ],
      "text/plain": [
       "               ECT: SOS Queries average of abs values score\n",
       "model_name                                                 \n",
       "WE                                                      3.0\n",
       "glove_wk                                                2.0\n",
       "glove_twitter                                           1.0\n",
       "UD                                                      5.0\n",
       "Chan                                                    4.0"
      ]
     },
     "execution_count": 26,
     "metadata": {},
     "output_type": "execute_result"
    }
   ],
   "source": [
    "ect_gender_Ranking"
   ]
  },
  {
   "cell_type": "code",
   "execution_count": 27,
   "metadata": {},
   "outputs": [],
   "source": [
    "gender_ranking[\"ECT\"] = ect_gender_Ranking[\"ECT: SOS Queries average of abs values score\"].values"
   ]
  },
  {
   "cell_type": "code",
   "execution_count": 28,
   "metadata": {},
   "outputs": [
    {
     "data": {
      "text/html": [
       "<div>\n",
       "<style scoped>\n",
       "    .dataframe tbody tr th:only-of-type {\n",
       "        vertical-align: middle;\n",
       "    }\n",
       "\n",
       "    .dataframe tbody tr th {\n",
       "        vertical-align: top;\n",
       "    }\n",
       "\n",
       "    .dataframe thead th {\n",
       "        text-align: right;\n",
       "    }\n",
       "</style>\n",
       "<table border=\"1\" class=\"dataframe\">\n",
       "  <thead>\n",
       "    <tr style=\"text-align: right;\">\n",
       "      <th></th>\n",
       "      <th>WEAT: SOS Queries average of abs values score</th>\n",
       "      <th>RNSB: SOS Queries average of abs values score</th>\n",
       "      <th>RND: SOS Queries average of abs values score</th>\n",
       "      <th>ECT</th>\n",
       "    </tr>\n",
       "    <tr>\n",
       "      <th>model_name</th>\n",
       "      <th></th>\n",
       "      <th></th>\n",
       "      <th></th>\n",
       "      <th></th>\n",
       "    </tr>\n",
       "  </thead>\n",
       "  <tbody>\n",
       "    <tr>\n",
       "      <th>WE</th>\n",
       "      <td>5.0</td>\n",
       "      <td>1.0</td>\n",
       "      <td>2.0</td>\n",
       "      <td>3.0</td>\n",
       "    </tr>\n",
       "    <tr>\n",
       "      <th>glove_wk</th>\n",
       "      <td>3.0</td>\n",
       "      <td>5.0</td>\n",
       "      <td>1.0</td>\n",
       "      <td>2.0</td>\n",
       "    </tr>\n",
       "    <tr>\n",
       "      <th>glove_twitter</th>\n",
       "      <td>2.0</td>\n",
       "      <td>2.0</td>\n",
       "      <td>4.0</td>\n",
       "      <td>1.0</td>\n",
       "    </tr>\n",
       "    <tr>\n",
       "      <th>UD</th>\n",
       "      <td>1.0</td>\n",
       "      <td>3.0</td>\n",
       "      <td>3.0</td>\n",
       "      <td>5.0</td>\n",
       "    </tr>\n",
       "    <tr>\n",
       "      <th>Chan</th>\n",
       "      <td>4.0</td>\n",
       "      <td>4.0</td>\n",
       "      <td>5.0</td>\n",
       "      <td>4.0</td>\n",
       "    </tr>\n",
       "  </tbody>\n",
       "</table>\n",
       "</div>"
      ],
      "text/plain": [
       "               WEAT: SOS Queries average of abs values score  \\\n",
       "model_name                                                     \n",
       "WE                                                       5.0   \n",
       "glove_wk                                                 3.0   \n",
       "glove_twitter                                            2.0   \n",
       "UD                                                       1.0   \n",
       "Chan                                                     4.0   \n",
       "\n",
       "               RNSB: SOS Queries average of abs values score  \\\n",
       "model_name                                                     \n",
       "WE                                                       1.0   \n",
       "glove_wk                                                 5.0   \n",
       "glove_twitter                                            2.0   \n",
       "UD                                                       3.0   \n",
       "Chan                                                     4.0   \n",
       "\n",
       "               RND: SOS Queries average of abs values score  ECT  \n",
       "model_name                                                        \n",
       "WE                                                      2.0  3.0  \n",
       "glove_wk                                                1.0  2.0  \n",
       "glove_twitter                                           4.0  1.0  \n",
       "UD                                                      3.0  5.0  \n",
       "Chan                                                    5.0  4.0  "
      ]
     },
     "execution_count": 28,
     "metadata": {},
     "output_type": "execute_result"
    }
   ],
   "source": [
    "gender_ranking"
   ]
  },
  {
   "cell_type": "code",
   "execution_count": null,
   "metadata": {},
   "outputs": [],
   "source": []
  }
 ],
 "metadata": {
  "kernelspec": {
   "display_name": "env_py_39",
   "language": "python",
   "name": "env_py_39"
  },
  "language_info": {
   "codemirror_mode": {
    "name": "ipython",
    "version": 3
   },
   "file_extension": ".py",
   "mimetype": "text/x-python",
   "name": "python",
   "nbconvert_exporter": "python",
   "pygments_lexer": "ipython3",
   "version": "3.8.10"
  }
 },
 "nbformat": 4,
 "nbformat_minor": 4
}
