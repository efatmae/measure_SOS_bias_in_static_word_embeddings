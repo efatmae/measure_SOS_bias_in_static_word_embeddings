{
 "cells": [
  {
   "cell_type": "code",
   "execution_count": 1,
   "id": "fd67229e",
   "metadata": {},
   "outputs": [],
   "source": [
    "import numpy as np\n",
    "from scipy import stats \n",
    "import pandas as pd"
   ]
  },
  {
   "cell_type": "markdown",
   "id": "fe9f14db",
   "metadata": {},
   "source": [
    "## bias_scores"
   ]
  },
  {
   "cell_type": "code",
   "execution_count": 2,
   "id": "7deadce5",
   "metadata": {},
   "outputs": [],
   "source": [
    "bias_Scores = pd.read_csv(\"../Bias_scores/SOS_bias_scores.csv\", index_col=False)"
   ]
  },
  {
   "cell_type": "code",
   "execution_count": 3,
   "id": "b56c124c",
   "metadata": {},
   "outputs": [
    {
     "data": {
      "text/plain": [
       "Index(['word embeddings', 'mean_SOS', 'mean_SOS_women', 'mean_SOS_lgbtq',\n",
       "       'mean_SOS_eth', 'mean_SOS_men', 'mean_SOS_straight', 'mean_SOS_white'],\n",
       "      dtype='object')"
      ]
     },
     "execution_count": 3,
     "metadata": {},
     "output_type": "execute_result"
    }
   ],
   "source": [
    "bias_Scores.columns"
   ]
  },
  {
   "cell_type": "markdown",
   "id": "10f0bea8",
   "metadata": {},
   "source": [
    "## Online Extremism and Online Hate"
   ]
  },
  {
   "cell_type": "code",
   "execution_count": 4,
   "id": "f98883cb",
   "metadata": {},
   "outputs": [],
   "source": [
    "hate_stats = pd.read_csv(\"Hate_stats.csv\", index_col=False)"
   ]
  },
  {
   "cell_type": "code",
   "execution_count": 5,
   "id": "4aa07142",
   "metadata": {},
   "outputs": [
    {
     "data": {
      "text/html": [
       "<div>\n",
       "<style scoped>\n",
       "    .dataframe tbody tr th:only-of-type {\n",
       "        vertical-align: middle;\n",
       "    }\n",
       "\n",
       "    .dataframe tbody tr th {\n",
       "        vertical-align: top;\n",
       "    }\n",
       "\n",
       "    .dataframe thead th {\n",
       "        text-align: right;\n",
       "    }\n",
       "</style>\n",
       "<table border=\"1\" class=\"dataframe\">\n",
       "  <thead>\n",
       "    <tr style=\"text-align: right;\">\n",
       "      <th></th>\n",
       "      <th>hate_survey</th>\n",
       "      <th>ethnicity_pct</th>\n",
       "      <th>lgbtq_pct</th>\n",
       "      <th>women_pct</th>\n",
       "    </tr>\n",
       "  </thead>\n",
       "  <tbody>\n",
       "    <tr>\n",
       "      <th>0</th>\n",
       "      <td>OEOH_Finland</td>\n",
       "      <td>0.67</td>\n",
       "      <td>0.63</td>\n",
       "      <td>0.25</td>\n",
       "    </tr>\n",
       "    <tr>\n",
       "      <th>1</th>\n",
       "      <td>OEOH_US</td>\n",
       "      <td>0.60</td>\n",
       "      <td>0.61</td>\n",
       "      <td>0.44</td>\n",
       "    </tr>\n",
       "    <tr>\n",
       "      <th>2</th>\n",
       "      <td>OEOH_Germany</td>\n",
       "      <td>0.48</td>\n",
       "      <td>0.50</td>\n",
       "      <td>0.20</td>\n",
       "    </tr>\n",
       "    <tr>\n",
       "      <th>3</th>\n",
       "      <td>OEOH_UK</td>\n",
       "      <td>0.57</td>\n",
       "      <td>0.55</td>\n",
       "      <td>0.44</td>\n",
       "    </tr>\n",
       "    <tr>\n",
       "      <th>4</th>\n",
       "      <td>RAD</td>\n",
       "      <td>0.32</td>\n",
       "      <td>0.42</td>\n",
       "      <td>0.25</td>\n",
       "    </tr>\n",
       "  </tbody>\n",
       "</table>\n",
       "</div>"
      ],
      "text/plain": [
       "    hate_survey  ethnicity_pct  lgbtq_pct  women_pct\n",
       "0  OEOH_Finland           0.67       0.63       0.25\n",
       "1       OEOH_US           0.60       0.61       0.44\n",
       "2  OEOH_Germany           0.48       0.50       0.20\n",
       "3       OEOH_UK           0.57       0.55       0.44\n",
       "4           RAD           0.32       0.42       0.25"
      ]
     },
     "execution_count": 5,
     "metadata": {},
     "output_type": "execute_result"
    }
   ],
   "source": [
    "hate_stats"
   ]
  },
  {
   "cell_type": "markdown",
   "id": "ae919754",
   "metadata": {},
   "source": [
    "## correlation"
   ]
  },
  {
   "cell_type": "code",
   "execution_count": 6,
   "id": "5ba6f8c2",
   "metadata": {},
   "outputs": [],
   "source": [
    "correlations = {}"
   ]
  },
  {
   "cell_type": "code",
   "execution_count": 7,
   "id": "215b57f6",
   "metadata": {},
   "outputs": [],
   "source": [
    "WE = bias_Scores[\"word embeddings\"].values.tolist()\n",
    "surveys = hate_stats.hate_survey.values.tolist()"
   ]
  },
  {
   "cell_type": "code",
   "execution_count": 8,
   "id": "c05e72a6",
   "metadata": {},
   "outputs": [],
   "source": [
    "corrs = []\n",
    "s = []\n",
    "w = []"
   ]
  },
  {
   "cell_type": "code",
   "execution_count": 9,
   "id": "a65f2115",
   "metadata": {},
   "outputs": [],
   "source": [
    "def retrive_corr (survey_name, word_embeddings):\n",
    "    survey_pct = hate_stats[hate_stats[\"hate_survey\"] == survey_name][[\"ethnicity_pct\",\"lgbtq_pct\",\"women_pct\"]].values.flatten().tolist()\n",
    "    WE_SOS_bias_scores = bias_Scores[bias_Scores[\"word embeddings\"] == word_embeddings][[\"mean_SOS_eth\", \"mean_SOS_lgbtq\", \"mean_SOS_women\"]].values.flatten().tolist()\n",
    "    corr = stats.pearsonr(survey_pct, WE_SOS_bias_scores)\n",
    "    return corr[0]"
   ]
  },
  {
   "cell_type": "code",
   "execution_count": 10,
   "id": "d07e4de5",
   "metadata": {},
   "outputs": [],
   "source": [
    "for j in surveys:\n",
    "    for i in WE:\n",
    "        s.append(j)\n",
    "        w.append(i)\n",
    "        corrs.append(retrive_corr(j, i))"
   ]
  },
  {
   "cell_type": "code",
   "execution_count": 11,
   "id": "a22a94a0",
   "metadata": {},
   "outputs": [],
   "source": [
    "correlations[\"hate_survey\"] = s\n",
    "correlations[\"WE\"] = w\n",
    "correlations[\"pearson_r\"] = corrs"
   ]
  },
  {
   "cell_type": "code",
   "execution_count": 12,
   "id": "43094c1a",
   "metadata": {},
   "outputs": [],
   "source": [
    "pd.DataFrame(correlations).to_csv(\"my_metric_SOS_survey_correlations.csv\", index=False)"
   ]
  },
  {
   "cell_type": "code",
   "execution_count": null,
   "id": "b8c70bb3",
   "metadata": {},
   "outputs": [],
   "source": []
  }
 ],
 "metadata": {
  "kernelspec": {
   "display_name": "Python 3",
   "language": "python",
   "name": "python3"
  },
  "language_info": {
   "codemirror_mode": {
    "name": "ipython",
    "version": 3
   },
   "file_extension": ".py",
   "mimetype": "text/x-python",
   "name": "python",
   "nbconvert_exporter": "python",
   "pygments_lexer": "ipython3",
   "version": "3.8.10"
  }
 },
 "nbformat": 4,
 "nbformat_minor": 5
}
