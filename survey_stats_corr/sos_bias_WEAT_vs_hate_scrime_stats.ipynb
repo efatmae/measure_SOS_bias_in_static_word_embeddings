{
 "cells": [
  {
   "cell_type": "code",
   "execution_count": 1,
   "id": "fd67229e",
   "metadata": {},
   "outputs": [],
   "source": [
    "import numpy as np\n",
    "from scipy import stats \n",
    "import pandas as pd"
   ]
  },
  {
   "cell_type": "markdown",
   "id": "fe9f14db",
   "metadata": {},
   "source": [
    "## WEAT_SOS_bias_scores"
   ]
  },
  {
   "cell_type": "code",
   "execution_count": 2,
   "id": "77dab9ab",
   "metadata": {},
   "outputs": [],
   "source": [
    "weat_sos_women_w2v = 0.046077\n",
    "weat_sos_eth_w2v = 0.636393\n",
    "weat_sos_lgtbq_w2v = 0.824543"
   ]
  },
  {
   "cell_type": "code",
   "execution_count": 3,
   "id": "2cfd60e5",
   "metadata": {},
   "outputs": [],
   "source": [
    "weat_sos_women_glove_wk = 0.051040\n",
    "weat_sos_eth_glove_wk = 0.302182\n",
    "weat_sos_lgtbq_glove_wk = 0.001300"
   ]
  },
  {
   "cell_type": "code",
   "execution_count": 4,
   "id": "c2fa15e1",
   "metadata": {},
   "outputs": [],
   "source": [
    "weat_sos_women_glove_twitter = 0.054989\n",
    "weat_sos_eth_glove_twitter = 0.189505\n",
    "weat_sos_lgtbq_glove_twitter = 0"
   ]
  },
  {
   "cell_type": "code",
   "execution_count": 5,
   "id": "0ec146a2",
   "metadata": {},
   "outputs": [],
   "source": [
    "weat_sos_women_ud = 0.032825\n",
    "weat_sos_eth_ud = 0.001476\n",
    "weat_sos_lgtbq_ud = 0.412504"
   ]
  },
  {
   "cell_type": "code",
   "execution_count": 6,
   "id": "de794f80",
   "metadata": {},
   "outputs": [],
   "source": [
    "weat_sos_women_chan = 0.114028\n",
    "weat_sos_eth_chan = 0.441893\n",
    "weat_sos_lgtbq_chan = 0.593770"
   ]
  },
  {
   "cell_type": "markdown",
   "id": "2ad14718",
   "metadata": {},
   "source": [
    "## hate crime stats (department of justice US)"
   ]
  },
  {
   "cell_type": "code",
   "execution_count": 7,
   "id": "dcf37cc4",
   "metadata": {},
   "outputs": [],
   "source": [
    "crime_rate = [61.9, 15.4,0.7]"
   ]
  },
  {
   "cell_type": "code",
   "execution_count": 8,
   "id": "a1914556",
   "metadata": {},
   "outputs": [
    {
     "data": {
      "text/plain": [
       "(0.49862513676060416, 0.6676768734452896)"
      ]
     },
     "execution_count": 8,
     "metadata": {},
     "output_type": "execute_result"
    }
   ],
   "source": [
    "stats.pearsonr([weat_sos_eth_w2v, weat_sos_lgtbq_w2v, weat_sos_women_w2v], crime_rate)"
   ]
  },
  {
   "cell_type": "code",
   "execution_count": 9,
   "id": "b33f43ae",
   "metadata": {},
   "outputs": [
    {
     "data": {
      "text/plain": [
       "(0.9260593967522864, 0.24634834448160328)"
      ]
     },
     "execution_count": 9,
     "metadata": {},
     "output_type": "execute_result"
    }
   ],
   "source": [
    "stats.pearsonr([weat_sos_eth_glove_wk, weat_sos_lgtbq_glove_wk, weat_sos_women_glove_wk], crime_rate)"
   ]
  },
  {
   "cell_type": "code",
   "execution_count": 10,
   "id": "15402aa7",
   "metadata": {},
   "outputs": [],
   "source": [
    "#stats.pearsonr([weat_sos_eth_glove_twitter, weat_sos_lgtbq_glove_twitter, weat_sos_women_glove_twitter], crime_rate)"
   ]
  },
  {
   "cell_type": "code",
   "execution_count": 11,
   "id": "f9a582db",
   "metadata": {},
   "outputs": [
    {
     "data": {
      "text/plain": [
       "(-0.3522887452493671, 0.7708070105211545)"
      ]
     },
     "execution_count": 11,
     "metadata": {},
     "output_type": "execute_result"
    }
   ],
   "source": [
    "stats.pearsonr([weat_sos_eth_ud, weat_sos_lgtbq_ud, weat_sos_women_ud], crime_rate)"
   ]
  },
  {
   "cell_type": "code",
   "execution_count": 12,
   "id": "08a5120a",
   "metadata": {},
   "outputs": [
    {
     "data": {
      "text/plain": [
       "(0.4267139410516809, 0.7193422376917687)"
      ]
     },
     "execution_count": 12,
     "metadata": {},
     "output_type": "execute_result"
    }
   ],
   "source": [
    "stats.pearsonr([weat_sos_eth_chan, weat_sos_lgtbq_chan,weat_sos_women_chan], crime_rate )"
   ]
  },
  {
   "cell_type": "markdown",
   "id": "10f0bea8",
   "metadata": {},
   "source": [
    "## Online Extremism and Online Hate"
   ]
  },
  {
   "cell_type": "code",
   "execution_count": 13,
   "id": "b9bde43e",
   "metadata": {},
   "outputs": [],
   "source": [
    "hate_finland = [0.67, 0.63, 0.25]\n",
    "hate_us = [0.60, 0.61, 0.44]\n",
    "germany = [0.48, 0.50, 0.20]\n",
    "uk = [0.57, 0.55, 0.44]"
   ]
  },
  {
   "cell_type": "code",
   "execution_count": 14,
   "id": "b3ebc079",
   "metadata": {},
   "outputs": [
    {
     "name": "stdout",
     "output_type": "stream",
     "text": [
      "w2v_finland (0.9491977474359102, 0.2037945512382499)\n",
      "glove_wk_finland (0.43961375830542765, 0.710230666688643)\n",
      "glove_twitter (0.31845101364707484, 0.7936747267337816)\n",
      "ud_finland (0.36035566035524524, 0.7653106672718061)\n",
      "chan_finland (0.9205635430208868, 0.2554599154847287)\n"
     ]
    }
   ],
   "source": [
    "print(\"w2v_finland\",stats.pearsonr([weat_sos_eth_w2v, weat_sos_lgtbq_w2v, weat_sos_women_w2v], hate_finland))\n",
    "print(\"glove_wk_finland\",stats.pearsonr([weat_sos_eth_glove_wk, weat_sos_lgtbq_glove_wk, weat_sos_women_glove_wk], hate_finland))\n",
    "print(\"glove_twitter\",stats.pearsonr([weat_sos_eth_glove_twitter, weat_sos_lgtbq_glove_twitter, weat_sos_women_glove_twitter], hate_finland))\n",
    "print(\"ud_finland\",stats.pearsonr([weat_sos_eth_ud, weat_sos_lgtbq_ud, weat_sos_women_ud], hate_finland))\n",
    "print(\"chan_finland\",stats.pearsonr([weat_sos_eth_chan, weat_sos_lgtbq_chan, weat_sos_women_chan], hate_finland))"
   ]
  },
  {
   "cell_type": "code",
   "execution_count": 15,
   "id": "65e2af32",
   "metadata": {},
   "outputs": [
    {
     "name": "stdout",
     "output_type": "stream",
     "text": [
      "w2v_us (0.9836111221992029, 0.11541563699080543)\n",
      "glove_wk_us (0.31109342509739885, 0.7986095809360872)\n",
      "glove_twitter_us (0.18421163211874042, 0.882053640981226)\n",
      "ud_us (0.48597150242200143, 0.6769317530243618)\n",
      "chan_us (0.9657571731738336, 0.16708100123728395)\n"
     ]
    }
   ],
   "source": [
    "print(\"w2v_us\",stats.pearsonr([weat_sos_eth_w2v, weat_sos_lgtbq_w2v, weat_sos_women_w2v], hate_us))\n",
    "print(\"glove_wk_us\",stats.pearsonr([weat_sos_eth_glove_wk, weat_sos_lgtbq_glove_wk, weat_sos_women_glove_wk], hate_us))\n",
    "print(\"glove_twitter_us\",stats.pearsonr([weat_sos_eth_glove_twitter, weat_sos_lgtbq_glove_twitter, weat_sos_women_glove_twitter], hate_us))\n",
    "print(\"ud_us\",stats.pearsonr([weat_sos_eth_ud, weat_sos_lgtbq_ud, weat_sos_women_ud], hate_us))\n",
    "print(\"chan_us\",stats.pearsonr([weat_sos_eth_chan, weat_sos_lgtbq_chan, weat_sos_women_chan], hate_us))"
   ]
  },
  {
   "cell_type": "code",
   "execution_count": 16,
   "id": "c0d7274c",
   "metadata": {},
   "outputs": [
    {
     "name": "stdout",
     "output_type": "stream",
     "text": [
      "w2v_germany (0.9848866990312427, 0.11082130929048319)\n",
      "glove_wk_germany (0.304226730566495, 0.8032039086364097)\n",
      "glove_twitter_germany (0.17711364678306835, 0.8866479686815484)\n",
      "ud_germany (0.49226605194476153, 0.6723374253240394)\n",
      "chan_germany (0.9676043775946355, 0.16248667353696195)\n"
     ]
    }
   ],
   "source": [
    "print(\"w2v_germany\",stats.pearsonr([weat_sos_eth_w2v, weat_sos_lgtbq_w2v, weat_sos_women_w2v], germany))\n",
    "print(\"glove_wk_germany\",stats.pearsonr([weat_sos_eth_glove_wk, weat_sos_lgtbq_glove_wk, weat_sos_women_glove_wk], germany))\n",
    "print(\"glove_twitter_germany\",stats.pearsonr([weat_sos_eth_glove_twitter, weat_sos_lgtbq_glove_twitter, weat_sos_women_glove_twitter], germany))\n",
    "print(\"ud_germany\",stats.pearsonr([weat_sos_eth_ud, weat_sos_lgtbq_ud, weat_sos_women_ud], germany))\n",
    "print(\"chan_germany\",stats.pearsonr([weat_sos_eth_chan, weat_sos_lgtbq_chan, weat_sos_women_chan], germany))"
   ]
  },
  {
   "cell_type": "code",
   "execution_count": 17,
   "id": "3a983a7f",
   "metadata": {},
   "outputs": [
    {
     "name": "stdout",
     "output_type": "stream",
     "text": [
      "w2v_uk (0.9297436528936722, 0.2400567736643748)\n",
      "glove_wk_uk (0.4900343605095141, 0.673968444262518)\n",
      "glove_twitter_uk (0.3719005119135123, 0.7574125043076566)\n",
      "ud_uk (0.3066662883833734, 0.8015728896979311)\n",
      "chan_uk (0.8968341997335527, 0.2917221379108537)\n"
     ]
    }
   ],
   "source": [
    "print(\"w2v_uk\",stats.pearsonr([weat_sos_eth_w2v, weat_sos_lgtbq_w2v, weat_sos_women_w2v], uk))\n",
    "print(\"glove_wk_uk\",stats.pearsonr([weat_sos_eth_glove_wk, weat_sos_lgtbq_glove_wk, weat_sos_women_glove_wk], uk))\n",
    "print(\"glove_twitter_uk\",stats.pearsonr([weat_sos_eth_glove_twitter, weat_sos_lgtbq_glove_twitter, weat_sos_women_glove_twitter], uk))\n",
    "print(\"ud_uk\",stats.pearsonr([weat_sos_eth_ud, weat_sos_lgtbq_ud, weat_sos_women_ud], uk))\n",
    "print(\"chan_uk\",stats.pearsonr([weat_sos_eth_chan, weat_sos_lgtbq_chan, weat_sos_women_chan], uk))"
   ]
  },
  {
   "cell_type": "code",
   "execution_count": 18,
   "id": "e9692d25",
   "metadata": {},
   "outputs": [],
   "source": [
    "## difference between majoirty and minority added (online harassment) (https://www.womensmediacenter.com/speech-project/research-statistics)"
   ]
  },
  {
   "cell_type": "code",
   "execution_count": 19,
   "id": "6ec2e55e",
   "metadata": {},
   "outputs": [],
   "source": [
    "bullying_diff = [0.23,0.25,0.31]"
   ]
  },
  {
   "cell_type": "code",
   "execution_count": 20,
   "id": "d8e8506f",
   "metadata": {},
   "outputs": [
    {
     "name": "stdout",
     "output_type": "stream",
     "text": [
      "w2v_uk (-0.8886989876344509, 0.3032198352896616)\n",
      "glove_wk_uk (-0.5739697574490534, 0.610805382637231)\n",
      "glove_twitter_uk (-0.4620202901291372, 0.6942494426823695)\n",
      "ud_uk (-0.2108772175976833, 0.8647359513232181)\n",
      "chan_uk (-0.8486056270536046, 0.3548851995361406)\n"
     ]
    }
   ],
   "source": [
    "print(\"w2v_uk\",stats.pearsonr([weat_sos_eth_w2v, weat_sos_lgtbq_w2v, weat_sos_women_w2v], bullying_diff))\n",
    "print(\"glove_wk_uk\",stats.pearsonr([weat_sos_eth_glove_wk, weat_sos_lgtbq_glove_wk, weat_sos_women_glove_wk], bullying_diff))\n",
    "print(\"glove_twitter_uk\",stats.pearsonr([weat_sos_eth_glove_twitter, weat_sos_lgtbq_glove_twitter, weat_sos_women_glove_twitter], bullying_diff))\n",
    "print(\"ud_uk\",stats.pearsonr([weat_sos_eth_ud, weat_sos_lgtbq_ud, weat_sos_women_ud], bullying_diff))\n",
    "print(\"chan_uk\",stats.pearsonr([weat_sos_eth_chan, weat_sos_lgtbq_chan, weat_sos_women_chan], bullying_diff))"
   ]
  },
  {
   "cell_type": "code",
   "execution_count": 21,
   "id": "9b1f41d8",
   "metadata": {},
   "outputs": [],
   "source": [
    "## https://enough.org/stats_cyberbullying"
   ]
  },
  {
   "cell_type": "code",
   "execution_count": 22,
   "id": "aeedae4e",
   "metadata": {},
   "outputs": [],
   "source": [
    "bullying = [0.17,0.15,0.2]"
   ]
  },
  {
   "cell_type": "code",
   "execution_count": 23,
   "id": "4da9ef0c",
   "metadata": {},
   "outputs": [
    {
     "name": "stdout",
     "output_type": "stream",
     "text": [
      "w2v_uk (-0.9847430528592418, 0.11134806131461153)\n",
      "glove_wk_uk (0.03984570258687753, 0.9746267207584967)\n",
      "glove_twitter_uk (0.17009874824300944, 0.8911826607133582)\n",
      "ud_uk (-0.7602344979836259, 0.45016805471894544)\n",
      "chan_uk (-0.9956087462456447, 0.05968269706813084)\n"
     ]
    }
   ],
   "source": [
    "print(\"w2v_uk\",stats.pearsonr([weat_sos_eth_w2v, weat_sos_lgtbq_w2v, weat_sos_women_w2v], bullying))\n",
    "print(\"glove_wk_uk\",stats.pearsonr([weat_sos_eth_glove_wk, weat_sos_lgtbq_glove_wk, weat_sos_women_glove_wk], bullying))\n",
    "print(\"glove_twitter_uk\",stats.pearsonr([weat_sos_eth_glove_twitter, weat_sos_lgtbq_glove_twitter, weat_sos_women_glove_twitter], bullying))\n",
    "print(\"ud_uk\",stats.pearsonr([weat_sos_eth_ud, weat_sos_lgtbq_ud, weat_sos_women_ud], bullying))\n",
    "print(\"chan_uk\",stats.pearsonr([weat_sos_eth_chan, weat_sos_lgtbq_chan, weat_sos_women_chan], bullying))"
   ]
  },
  {
   "cell_type": "code",
   "execution_count": null,
   "id": "f98883cb",
   "metadata": {},
   "outputs": [],
   "source": []
  }
 ],
 "metadata": {
  "kernelspec": {
   "display_name": "Python 3",
   "language": "python",
   "name": "python3"
  },
  "language_info": {
   "codemirror_mode": {
    "name": "ipython",
    "version": 3
   },
   "file_extension": ".py",
   "mimetype": "text/x-python",
   "name": "python",
   "nbconvert_exporter": "python",
   "pygments_lexer": "ipython3",
   "version": "3.6.9"
  }
 },
 "nbformat": 4,
 "nbformat_minor": 5
}
