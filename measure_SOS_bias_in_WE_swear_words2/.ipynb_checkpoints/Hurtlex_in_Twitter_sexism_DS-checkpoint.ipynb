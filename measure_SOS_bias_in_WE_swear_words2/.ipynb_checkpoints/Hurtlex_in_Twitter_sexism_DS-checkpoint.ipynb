{
 "cells": [
  {
   "cell_type": "code",
   "execution_count": 1,
   "metadata": {
    "colab": {
     "base_uri": "https://localhost:8080/"
    },
    "executionInfo": {
     "elapsed": 20241,
     "status": "ok",
     "timestamp": 1617180248306,
     "user": {
      "displayName": "Fatma Elsafoury",
      "photoUrl": "https://lh3.googleusercontent.com/a-/AOh14GiBOqs1m0p9NKAVLeYOvj2cfPepoOadDs_nVw4YEQ=s64",
      "userId": "12155606853084180649"
     },
     "user_tz": -60
    },
    "id": "NNPOv5EMGj5k",
    "outputId": "f08dd358-b840-47d1-e9ce-cf8c92b64412"
   },
   "outputs": [
    {
     "name": "stdout",
     "output_type": "stream",
     "text": [
      "Mounted at /content/drive\n"
     ]
    }
   ],
   "source": [
    "from google.colab import drive\n",
    "drive.mount('/content/drive')"
   ]
  },
  {
   "cell_type": "code",
   "execution_count": 2,
   "metadata": {
    "executionInfo": {
     "elapsed": 24064,
     "status": "ok",
     "timestamp": 1617180252133,
     "user": {
      "displayName": "Fatma Elsafoury",
      "photoUrl": "https://lh3.googleusercontent.com/a-/AOh14GiBOqs1m0p9NKAVLeYOvj2cfPepoOadDs_nVw4YEQ=s64",
      "userId": "12155606853084180649"
     },
     "user_tz": -60
    },
    "id": "-Hrtg828GvSK"
   },
   "outputs": [],
   "source": [
    "import pandas as pd\n",
    "import numpy as np\n",
    "import os\n",
    "import time\n",
    "import random\n",
    "import gensim\n",
    "import numpy as np\n",
    "import os\n",
    "import torch\n",
    "from gensim.models import KeyedVectors\n",
    "from matplotlib import pyplot as plt"
   ]
  },
  {
   "cell_type": "code",
   "execution_count": 3,
   "metadata": {
    "executionInfo": {
     "elapsed": 24062,
     "status": "ok",
     "timestamp": 1617180252134,
     "user": {
      "displayName": "Fatma Elsafoury",
      "photoUrl": "https://lh3.googleusercontent.com/a-/AOh14GiBOqs1m0p9NKAVLeYOvj2cfPepoOadDs_nVw4YEQ=s64",
      "userId": "12155606853084180649"
     },
     "user_tz": -60
    },
    "id": "9VlvSt6ESPfB"
   },
   "outputs": [],
   "source": [
    "pd.set_option(\"max_colwidth\",1000000000)"
   ]
  },
  {
   "cell_type": "code",
   "execution_count": 4,
   "metadata": {
    "executionInfo": {
     "elapsed": 24464,
     "status": "ok",
     "timestamp": 1617180252538,
     "user": {
      "displayName": "Fatma Elsafoury",
      "photoUrl": "https://lh3.googleusercontent.com/a-/AOh14GiBOqs1m0p9NKAVLeYOvj2cfPepoOadDs_nVw4YEQ=s64",
      "userId": "12155606853084180649"
     },
     "user_tz": -60
    },
    "id": "2MWCmYTHG1SS"
   },
   "outputs": [],
   "source": [
    "data_folder = \"/content/drive/My Drive/Colab Notebooks/Cyberbullying_WE_intrinsic_analysis/Data\"\n",
    "CB_data_folder = \"/content/drive/My Drive/Colab Notebooks/Cyberbullying_WE_intrinsic_analysis/Data/CB_Data\""
   ]
  },
  {
   "cell_type": "code",
   "execution_count": 5,
   "metadata": {
    "colab": {
     "base_uri": "https://localhost:8080/"
    },
    "executionInfo": {
     "elapsed": 25159,
     "status": "ok",
     "timestamp": 1617180253241,
     "user": {
      "displayName": "Fatma Elsafoury",
      "photoUrl": "https://lh3.googleusercontent.com/a-/AOh14GiBOqs1m0p9NKAVLeYOvj2cfPepoOadDs_nVw4YEQ=s64",
      "userId": "12155606853084180649"
     },
     "user_tz": -60
    },
    "id": "2U6DA0leG2qq",
    "outputId": "58e1500a-fa42-4e92-a163-fc5c577fcff1"
   },
   "outputs": [
    {
     "data": {
      "text/plain": [
       "array(['qas', 'cds', 'is', 're', 'om', 'an', 'or', 'svp', 'asm', 'pr',\n",
       "       'dmc', 'asf', 'ddp', 'ps', 'pa', 'rci', 'ddf'], dtype=object)"
      ]
     },
     "execution_count": 5,
     "metadata": {
      "tags": []
     },
     "output_type": "execute_result"
    }
   ],
   "source": [
    "hurtlex_df = pd.read_csv(data_folder+\"/Hurtlex.tsv\", sep=\"\\t\")\n",
    "hurtlex_df.category.unique()"
   ]
  },
  {
   "cell_type": "code",
   "execution_count": 6,
   "metadata": {
    "executionInfo": {
     "elapsed": 25157,
     "status": "ok",
     "timestamp": 1617180253242,
     "user": {
      "displayName": "Fatma Elsafoury",
      "photoUrl": "https://lh3.googleusercontent.com/a-/AOh14GiBOqs1m0p9NKAVLeYOvj2cfPepoOadDs_nVw4YEQ=s64",
      "userId": "12155606853084180649"
     },
     "user_tz": -60
    },
    "id": "1OIAIJ0RHCU5"
   },
   "outputs": [],
   "source": [
    "hurtlex_df_ps = hurtlex_df[(hurtlex_df[\"category\"] == \"ps\")][\"lemma\"].unique() #& (hurtlex_df[\"stereotype\"] == \"yes\")]\n",
    "hurtlex_df_om = hurtlex_df[(hurtlex_df[\"category\"] == \"om\")][\"lemma\"].unique() #& (hurtlex_df[\"stereotype\"] == \"no\")]\n",
    "hurtlex_df_qas = hurtlex_df[(hurtlex_df[\"category\"] == \"qas\")][\"lemma\"].unique() #& (hurtlex_df[\"stereotype\"] == \"no\")]\n",
    "hurtlex_df_cds = hurtlex_df[(hurtlex_df[\"category\"] == \"cds\")][\"lemma\"].unique() #& (hurtlex_df[\"stereotype\"] == \"no\")]\n",
    "hurtlex_df_is = hurtlex_df[(hurtlex_df[\"category\"] == \"is\")][\"lemma\"].unique() #& (hurtlex_df[\"stereotype\"] == \"no\")]\n",
    "hurtlex_df_re = hurtlex_df[(hurtlex_df[\"category\"] == \"re\")][\"lemma\"].unique() #& (hurtlex_df[\"stereotype\"] == \"no\")]\n",
    "hurtlex_df_pr = hurtlex_df[(hurtlex_df[\"category\"] == \"pr\")][\"lemma\"].unique() #& (hurtlex_df[\"stereotype\"] == \"no\")]\n",
    "hurtlex_df_asf = hurtlex_df[(hurtlex_df[\"category\"] == \"asf\")][\"lemma\"].unique() #& (hurtlex_df[\"stereotype\"] == \"no\")]\n",
    "hurtlex_df_asm = hurtlex_df[(hurtlex_df[\"category\"] == \"asm\")][\"lemma\"].unique() #& (hurtlex_df[\"stereotype\"] == \"no\")]\n",
    "hurtlex_df_ddp = hurtlex_df[(hurtlex_df[\"category\"] == \"ddp\")][\"lemma\"].unique() #& (hurtlex_df[\"stereotype\"] == \"yes\")]\n",
    "hurtlex_df_ddf = hurtlex_df[(hurtlex_df[\"category\"] == \"ddf\")][\"lemma\"].unique() #& (hurtlex_df[\"stereotype\"] == \"yes\")]"
   ]
  },
  {
   "cell_type": "code",
   "execution_count": 7,
   "metadata": {
    "executionInfo": {
     "elapsed": 26901,
     "status": "ok",
     "timestamp": 1617180254988,
     "user": {
      "displayName": "Fatma Elsafoury",
      "photoUrl": "https://lh3.googleusercontent.com/a-/AOh14GiBOqs1m0p9NKAVLeYOvj2cfPepoOadDs_nVw4YEQ=s64",
      "userId": "12155606853084180649"
     },
     "user_tz": -60
    },
    "id": "6G2biPTuHE0B"
   },
   "outputs": [],
   "source": [
    "Twiiter_sex_train_df = pd.read_csv(CB_data_folder+\"/Twitter_sexism/Twitter_sex_data_train.csv\", index_col=False)\n",
    "Twiiter_sex_test_df = pd.read_csv(CB_data_folder+\"/Twitter_sexism/Twitter_sex_data_test.csv\", index_col=False)\n",
    "\n",
    "Twiiter_sex_df = pd.concat([Twiiter_sex_train_df,Twiiter_sex_test_df])"
   ]
  },
  {
   "cell_type": "code",
   "execution_count": 8,
   "metadata": {
    "colab": {
     "base_uri": "https://localhost:8080/"
    },
    "executionInfo": {
     "elapsed": 26897,
     "status": "ok",
     "timestamp": 1617180254991,
     "user": {
      "displayName": "Fatma Elsafoury",
      "photoUrl": "https://lh3.googleusercontent.com/a-/AOh14GiBOqs1m0p9NKAVLeYOvj2cfPepoOadDs_nVw4YEQ=s64",
      "userId": "12155606853084180649"
     },
     "user_tz": -60
    },
    "id": "-G2Yr9n1MRQ1",
    "outputId": "64d7a545-3961-4d82-f2a0-d270e14b15a5"
   },
   "outputs": [
    {
     "data": {
      "text/plain": [
       "14741"
      ]
     },
     "execution_count": 8,
     "metadata": {
      "tags": []
     },
     "output_type": "execute_result"
    }
   ],
   "source": [
    "len(Twiiter_sex_df)"
   ]
  },
  {
   "cell_type": "code",
   "execution_count": 9,
   "metadata": {
    "executionInfo": {
     "elapsed": 26896,
     "status": "ok",
     "timestamp": 1617180254992,
     "user": {
      "displayName": "Fatma Elsafoury",
      "photoUrl": "https://lh3.googleusercontent.com/a-/AOh14GiBOqs1m0p9NKAVLeYOvj2cfPepoOadDs_nVw4YEQ=s64",
      "userId": "12155606853084180649"
     },
     "user_tz": -60
    },
    "id": "55pfiWdzHlVi"
   },
   "outputs": [],
   "source": [
    "def find_list_of_words_in_df(df, slur_list):\n",
    "  ps_in_Twiiter_sex = []\n",
    "  for i in slur_list: \n",
    "    if  df['Text_clean'].str.contains(i).any():\n",
    "      ps = df[df[\"Text_clean\"].str.contains(i)][[\"Text_clean\",\"oh_label\"]]\n",
    "      ps_in_Twiiter_sex.append(ps)\n",
    "  ps_in_Twiiter_sex_df = pd.concat(ps_in_Twiiter_sex)\n",
    "  return ps_in_Twiiter_sex_df"
   ]
  },
  {
   "cell_type": "code",
   "execution_count": 10,
   "metadata": {
    "colab": {
     "base_uri": "https://localhost:8080/"
    },
    "executionInfo": {
     "elapsed": 29951,
     "status": "ok",
     "timestamp": 1617180258054,
     "user": {
      "displayName": "Fatma Elsafoury",
      "photoUrl": "https://lh3.googleusercontent.com/a-/AOh14GiBOqs1m0p9NKAVLeYOvj2cfPepoOadDs_nVw4YEQ=s64",
      "userId": "12155606853084180649"
     },
     "user_tz": -60
    },
    "id": "Zqzv3mWVImsQ",
    "outputId": "98b11d2b-5bb9-40da-98ae-fe4c81e90c27"
   },
   "outputs": [
    {
     "name": "stderr",
     "output_type": "stream",
     "text": [
      "/usr/local/lib/python3.7/dist-packages/pandas/core/strings.py:2001: UserWarning: This pattern has match groups. To actually get the groups, use str.extract.\n",
      "  return func(self, *args, **kwargs)\n"
     ]
    },
    {
     "name": "stdout",
     "output_type": "stream",
     "text": [
      "lenght of data items cntain PS words 1179\n"
     ]
    },
    {
     "data": {
      "text/plain": [
       "(227, 952)"
      ]
     },
     "execution_count": 10,
     "metadata": {
      "tags": []
     },
     "output_type": "execute_result"
    }
   ],
   "source": [
    "ps_in_Twiiter_sex = find_list_of_words_in_df(Twiiter_sex_df, hurtlex_df_ps)\n",
    "print(\"lenght of data items cntain PS words\", len(ps_in_Twiiter_sex))\n",
    "len(ps_in_Twiiter_sex[ps_in_Twiiter_sex[\"oh_label\"]==1]), len(ps_in_Twiiter_sex[ps_in_Twiiter_sex[\"oh_label\"]==0])"
   ]
  },
  {
   "cell_type": "code",
   "execution_count": 11,
   "metadata": {
    "colab": {
     "base_uri": "https://localhost:8080/"
    },
    "executionInfo": {
     "elapsed": 32824,
     "status": "ok",
     "timestamp": 1617180260934,
     "user": {
      "displayName": "Fatma Elsafoury",
      "photoUrl": "https://lh3.googleusercontent.com/a-/AOh14GiBOqs1m0p9NKAVLeYOvj2cfPepoOadDs_nVw4YEQ=s64",
      "userId": "12155606853084180649"
     },
     "user_tz": -60
    },
    "id": "bIqP6djpI4-O",
    "outputId": "a63329cd-302c-4f2a-d0e2-7c21386ce866"
   },
   "outputs": [
    {
     "name": "stdout",
     "output_type": "stream",
     "text": [
      "lenght of data items cntain OM words 1824\n"
     ]
    },
    {
     "data": {
      "text/plain": [
       "(535, 1289)"
      ]
     },
     "execution_count": 11,
     "metadata": {
      "tags": []
     },
     "output_type": "execute_result"
    }
   ],
   "source": [
    "om_in_Twiiter_sex = find_list_of_words_in_df(Twiiter_sex_df, hurtlex_df_om)\n",
    "print(\"lenght of data items cntain OM words\", len(om_in_Twiiter_sex))\n",
    "len(om_in_Twiiter_sex[om_in_Twiiter_sex[\"oh_label\"]==1]), len(om_in_Twiiter_sex[om_in_Twiiter_sex[\"oh_label\"]==0])"
   ]
  },
  {
   "cell_type": "code",
   "execution_count": 12,
   "metadata": {
    "colab": {
     "base_uri": "https://localhost:8080/"
    },
    "executionInfo": {
     "elapsed": 37078,
     "status": "ok",
     "timestamp": 1617180265195,
     "user": {
      "displayName": "Fatma Elsafoury",
      "photoUrl": "https://lh3.googleusercontent.com/a-/AOh14GiBOqs1m0p9NKAVLeYOvj2cfPepoOadDs_nVw4YEQ=s64",
      "userId": "12155606853084180649"
     },
     "user_tz": -60
    },
    "id": "UGCNGGv8NPBP",
    "outputId": "878c1636-b5bb-4c88-bf84-bae54b2795be"
   },
   "outputs": [
    {
     "name": "stdout",
     "output_type": "stream",
     "text": [
      "lenght of data items cntain QAS words 3387\n"
     ]
    },
    {
     "data": {
      "text/plain": [
       "(818, 2569)"
      ]
     },
     "execution_count": 12,
     "metadata": {
      "tags": []
     },
     "output_type": "execute_result"
    }
   ],
   "source": [
    "qas_in_Twiiter_sex = find_list_of_words_in_df(Twiiter_sex_df, hurtlex_df_qas)\n",
    "print(\"lenght of data items cntain QAS words\", len(qas_in_Twiiter_sex))\n",
    "len(qas_in_Twiiter_sex[qas_in_Twiiter_sex[\"oh_label\"]==1]), len(qas_in_Twiiter_sex[qas_in_Twiiter_sex[\"oh_label\"]==0])"
   ]
  },
  {
   "cell_type": "code",
   "execution_count": 13,
   "metadata": {
    "colab": {
     "base_uri": "https://localhost:8080/"
    },
    "executionInfo": {
     "elapsed": 53201,
     "status": "ok",
     "timestamp": 1617180281325,
     "user": {
      "displayName": "Fatma Elsafoury",
      "photoUrl": "https://lh3.googleusercontent.com/a-/AOh14GiBOqs1m0p9NKAVLeYOvj2cfPepoOadDs_nVw4YEQ=s64",
      "userId": "12155606853084180649"
     },
     "user_tz": -60
    },
    "id": "NXgB8zgONFbT",
    "outputId": "5201cb6b-294e-49f8-c9cd-b1a1c3373d33"
   },
   "outputs": [
    {
     "name": "stderr",
     "output_type": "stream",
     "text": [
      "/usr/local/lib/python3.7/dist-packages/pandas/core/strings.py:2001: UserWarning: This pattern has match groups. To actually get the groups, use str.extract.\n",
      "  return func(self, *args, **kwargs)\n"
     ]
    },
    {
     "name": "stdout",
     "output_type": "stream",
     "text": [
      "lenght of data items cntain CDS words 16628\n"
     ]
    },
    {
     "data": {
      "text/plain": [
       "(4435, 12193)"
      ]
     },
     "execution_count": 13,
     "metadata": {
      "tags": []
     },
     "output_type": "execute_result"
    }
   ],
   "source": [
    "cds_in_Twiiter_sex = find_list_of_words_in_df(Twiiter_sex_df, hurtlex_df_cds)\n",
    "print(\"lenght of data items cntain CDS words\", len(cds_in_Twiiter_sex))\n",
    "len(cds_in_Twiiter_sex[cds_in_Twiiter_sex[\"oh_label\"]==1]), len(cds_in_Twiiter_sex[cds_in_Twiiter_sex[\"oh_label\"]==0])"
   ]
  },
  {
   "cell_type": "code",
   "execution_count": 14,
   "metadata": {
    "colab": {
     "base_uri": "https://localhost:8080/"
    },
    "executionInfo": {
     "elapsed": 54204,
     "status": "ok",
     "timestamp": 1617180282334,
     "user": {
      "displayName": "Fatma Elsafoury",
      "photoUrl": "https://lh3.googleusercontent.com/a-/AOh14GiBOqs1m0p9NKAVLeYOvj2cfPepoOadDs_nVw4YEQ=s64",
      "userId": "12155606853084180649"
     },
     "user_tz": -60
    },
    "id": "tYljnWEZOIaS",
    "outputId": "60f84b72-36ba-44ca-cf44-aa3c988fe6d9"
   },
   "outputs": [
    {
     "name": "stdout",
     "output_type": "stream",
     "text": [
      "lenght of data items cntain IS words 607\n"
     ]
    },
    {
     "data": {
      "text/plain": [
       "(148, 459)"
      ]
     },
     "execution_count": 14,
     "metadata": {
      "tags": []
     },
     "output_type": "execute_result"
    }
   ],
   "source": [
    "is_in_Twiiter_sex = find_list_of_words_in_df(Twiiter_sex_df, hurtlex_df_is)\n",
    "print(\"lenght of data items cntain IS words\", len(is_in_Twiiter_sex))\n",
    "len(is_in_Twiiter_sex[is_in_Twiiter_sex[\"oh_label\"]==1]), len(is_in_Twiiter_sex[is_in_Twiiter_sex[\"oh_label\"]==0])"
   ]
  },
  {
   "cell_type": "code",
   "execution_count": 15,
   "metadata": {
    "colab": {
     "base_uri": "https://localhost:8080/"
    },
    "executionInfo": {
     "elapsed": 59343,
     "status": "ok",
     "timestamp": 1617180287480,
     "user": {
      "displayName": "Fatma Elsafoury",
      "photoUrl": "https://lh3.googleusercontent.com/a-/AOh14GiBOqs1m0p9NKAVLeYOvj2cfPepoOadDs_nVw4YEQ=s64",
      "userId": "12155606853084180649"
     },
     "user_tz": -60
    },
    "id": "2SrV-eEpOqcu",
    "outputId": "c37b40f2-14b6-487d-a98e-bad3c1788d5f"
   },
   "outputs": [
    {
     "name": "stdout",
     "output_type": "stream",
     "text": [
      "lenght of data items cntain RE words 3704\n"
     ]
    },
    {
     "data": {
      "text/plain": [
       "(731, 2973)"
      ]
     },
     "execution_count": 15,
     "metadata": {
      "tags": []
     },
     "output_type": "execute_result"
    }
   ],
   "source": [
    "re_in_Twiiter_sex = find_list_of_words_in_df(Twiiter_sex_df, hurtlex_df_re)\n",
    "print(\"lenght of data items cntain RE words\", len(re_in_Twiiter_sex))\n",
    "len(re_in_Twiiter_sex[re_in_Twiiter_sex[\"oh_label\"]==1]), len(re_in_Twiiter_sex[re_in_Twiiter_sex[\"oh_label\"]==0])"
   ]
  },
  {
   "cell_type": "code",
   "execution_count": 16,
   "metadata": {
    "colab": {
     "base_uri": "https://localhost:8080/"
    },
    "executionInfo": {
     "elapsed": 60991,
     "status": "ok",
     "timestamp": 1617180289134,
     "user": {
      "displayName": "Fatma Elsafoury",
      "photoUrl": "https://lh3.googleusercontent.com/a-/AOh14GiBOqs1m0p9NKAVLeYOvj2cfPepoOadDs_nVw4YEQ=s64",
      "userId": "12155606853084180649"
     },
     "user_tz": -60
    },
    "id": "vJdpIFm3PFd2",
    "outputId": "c0d8e43a-75fe-4dcb-975f-b6cbec024826"
   },
   "outputs": [
    {
     "name": "stdout",
     "output_type": "stream",
     "text": [
      "lenght of data items cntain PR words 1458\n"
     ]
    },
    {
     "data": {
      "text/plain": [
       "(504, 954)"
      ]
     },
     "execution_count": 16,
     "metadata": {
      "tags": []
     },
     "output_type": "execute_result"
    }
   ],
   "source": [
    "pr_in_Twiiter_sex = find_list_of_words_in_df(Twiiter_sex_df, hurtlex_df_pr)\n",
    "print(\"lenght of data items cntain PR words\", len(pr_in_Twiiter_sex))\n",
    "len(pr_in_Twiiter_sex[pr_in_Twiiter_sex[\"oh_label\"]==1]), len(pr_in_Twiiter_sex[pr_in_Twiiter_sex[\"oh_label\"]==0])"
   ]
  },
  {
   "cell_type": "code",
   "execution_count": 17,
   "metadata": {
    "colab": {
     "base_uri": "https://localhost:8080/"
    },
    "executionInfo": {
     "elapsed": 62504,
     "status": "ok",
     "timestamp": 1617180290654,
     "user": {
      "displayName": "Fatma Elsafoury",
      "photoUrl": "https://lh3.googleusercontent.com/a-/AOh14GiBOqs1m0p9NKAVLeYOvj2cfPepoOadDs_nVw4YEQ=s64",
      "userId": "12155606853084180649"
     },
     "user_tz": -60
    },
    "id": "dY-5FoFkPSW2",
    "outputId": "1f9498ef-e2c1-476e-dc37-21c07ce3aee7"
   },
   "outputs": [
    {
     "name": "stdout",
     "output_type": "stream",
     "text": [
      "lenght of data items cntain ASF words 733\n"
     ]
    },
    {
     "data": {
      "text/plain": [
       "(251, 482)"
      ]
     },
     "execution_count": 17,
     "metadata": {
      "tags": []
     },
     "output_type": "execute_result"
    }
   ],
   "source": [
    "asf_in_Twiiter_sex = find_list_of_words_in_df(Twiiter_sex_df, hurtlex_df_asf)\n",
    "print(\"lenght of data items cntain ASF words\", len(asf_in_Twiiter_sex))\n",
    "len(asf_in_Twiiter_sex[asf_in_Twiiter_sex[\"oh_label\"]==1]), len(asf_in_Twiiter_sex[asf_in_Twiiter_sex[\"oh_label\"]==0])"
   ]
  },
  {
   "cell_type": "code",
   "execution_count": 18,
   "metadata": {
    "colab": {
     "base_uri": "https://localhost:8080/"
    },
    "executionInfo": {
     "elapsed": 66753,
     "status": "ok",
     "timestamp": 1617180294909,
     "user": {
      "displayName": "Fatma Elsafoury",
      "photoUrl": "https://lh3.googleusercontent.com/a-/AOh14GiBOqs1m0p9NKAVLeYOvj2cfPepoOadDs_nVw4YEQ=s64",
      "userId": "12155606853084180649"
     },
     "user_tz": -60
    },
    "id": "8GZr-dgSPl_0",
    "outputId": "7ec63955-f5ee-4a76-8a2a-ec4eceaa1bc4"
   },
   "outputs": [
    {
     "name": "stdout",
     "output_type": "stream",
     "text": [
      "lenght of data items cntain ASM words 5821\n"
     ]
    },
    {
     "data": {
      "text/plain": [
       "(1368, 4453)"
      ]
     },
     "execution_count": 18,
     "metadata": {
      "tags": []
     },
     "output_type": "execute_result"
    }
   ],
   "source": [
    "asm_in_Twiiter_sex = find_list_of_words_in_df(Twiiter_sex_df, hurtlex_df_asm)\n",
    "print(\"lenght of data items cntain ASM words\", len(asm_in_Twiiter_sex))\n",
    "len(asm_in_Twiiter_sex[asm_in_Twiiter_sex[\"oh_label\"]==1]), len(asm_in_Twiiter_sex[asm_in_Twiiter_sex[\"oh_label\"]==0])"
   ]
  },
  {
   "cell_type": "code",
   "execution_count": 19,
   "metadata": {
    "colab": {
     "base_uri": "https://localhost:8080/"
    },
    "executionInfo": {
     "elapsed": 70128,
     "status": "ok",
     "timestamp": 1617180298290,
     "user": {
      "displayName": "Fatma Elsafoury",
      "photoUrl": "https://lh3.googleusercontent.com/a-/AOh14GiBOqs1m0p9NKAVLeYOvj2cfPepoOadDs_nVw4YEQ=s64",
      "userId": "12155606853084180649"
     },
     "user_tz": -60
    },
    "id": "jMUVIkn5Pvtn",
    "outputId": "4ad1098a-7553-481a-c408-6107af2c9bb3"
   },
   "outputs": [
    {
     "name": "stdout",
     "output_type": "stream",
     "text": [
      "lenght of data items cntain DDP words 2301\n"
     ]
    },
    {
     "data": {
      "text/plain": [
       "(516, 1785)"
      ]
     },
     "execution_count": 19,
     "metadata": {
      "tags": []
     },
     "output_type": "execute_result"
    }
   ],
   "source": [
    "ddp_in_Twiiter_sex = find_list_of_words_in_df(Twiiter_sex_df, hurtlex_df_ddp)\n",
    "print(\"lenght of data items cntain DDP words\", len(ddp_in_Twiiter_sex))\n",
    "len(ddp_in_Twiiter_sex[ddp_in_Twiiter_sex[\"oh_label\"]==1]), len(ddp_in_Twiiter_sex[ddp_in_Twiiter_sex[\"oh_label\"]==0])"
   ]
  },
  {
   "cell_type": "code",
   "execution_count": 20,
   "metadata": {
    "colab": {
     "base_uri": "https://localhost:8080/"
    },
    "executionInfo": {
     "elapsed": 71066,
     "status": "ok",
     "timestamp": 1617180299235,
     "user": {
      "displayName": "Fatma Elsafoury",
      "photoUrl": "https://lh3.googleusercontent.com/a-/AOh14GiBOqs1m0p9NKAVLeYOvj2cfPepoOadDs_nVw4YEQ=s64",
      "userId": "12155606853084180649"
     },
     "user_tz": -60
    },
    "id": "0wx15BerQBrd",
    "outputId": "ebea5dfa-2580-4c14-a1c4-d67724582a6c"
   },
   "outputs": [
    {
     "name": "stdout",
     "output_type": "stream",
     "text": [
      "lenght of data items cntain DDF words 637\n"
     ]
    },
    {
     "data": {
      "text/plain": [
       "(186, 451)"
      ]
     },
     "execution_count": 20,
     "metadata": {
      "tags": []
     },
     "output_type": "execute_result"
    }
   ],
   "source": [
    "ddf_in_Twiiter_sex = find_list_of_words_in_df(Twiiter_sex_df, hurtlex_df_ddf)\n",
    "print(\"lenght of data items cntain DDF words\", len(ddf_in_Twiiter_sex))\n",
    "len(ddf_in_Twiiter_sex[ddf_in_Twiiter_sex[\"oh_label\"]==1]), len(ddf_in_Twiiter_sex[ddf_in_Twiiter_sex[\"oh_label\"]==0])"
   ]
  },
  {
   "cell_type": "code",
   "execution_count": 21,
   "metadata": {
    "colab": {
     "base_uri": "https://localhost:8080/",
     "height": 303
    },
    "executionInfo": {
     "elapsed": 71550,
     "status": "ok",
     "timestamp": 1617180299728,
     "user": {
      "displayName": "Fatma Elsafoury",
      "photoUrl": "https://lh3.googleusercontent.com/a-/AOh14GiBOqs1m0p9NKAVLeYOvj2cfPepoOadDs_nVw4YEQ=s64",
      "userId": "12155606853084180649"
     },
     "user_tz": -60
    },
    "id": "UqHvlmbYZGSJ",
    "outputId": "621c2071-4738-4b2e-da96-7cb820e2aea2"
   },
   "outputs": [
    {
     "data": {
      "text/plain": [
       "<matplotlib.legend.Legend at 0x7fbf792b5550>"
      ]
     },
     "execution_count": 21,
     "metadata": {
      "tags": []
     },
     "output_type": "execute_result"
    },
    {
     "data": {
      "image/png": "[encoded data removed]",
      "text/plain": [
       "<Figure size 432x288 with 1 Axes>"
      ]
     },
     "metadata": {
      "needs_background": "light",
      "tags": []
     },
     "output_type": "display_data"
    }
   ],
   "source": [
    "pos_hurtlex_no = [len(ps_in_Twiiter_sex[\"oh_label\"]==1),len(om_in_Twiiter_sex[\"oh_label\"]==1),\n",
    "                 len(qas_in_Twiiter_sex[\"oh_label\"]==1),len(cds_in_Twiiter_sex[\"oh_label\"]==1),\n",
    "                  len(is_in_Twiiter_sex[\"oh_label\"]==1),len(re_in_Twiiter_sex[\"oh_label\"]==1),\n",
    "                  len(pr_in_Twiiter_sex[\"oh_label\"]==1),len(asf_in_Twiiter_sex[\"oh_label\"]==1),\n",
    "                  len(asm_in_Twiiter_sex[\"oh_label\"]==1),len(ddp_in_Twiiter_sex[\"oh_label\"]==1),len(ddf_in_Twiiter_sex[\"oh_label\"]==1)]\n",
    "                \n",
    "\n",
    "neg_hurtlex_no = [len(ps_in_Twiiter_sex[\"oh_label\"]==0),len(om_in_Twiiter_sex[\"oh_label\"]==0),\n",
    "                 len(qas_in_Twiiter_sex[\"oh_label\"]==0),len(cds_in_Twiiter_sex[\"oh_label\"]==0),\n",
    "                  len(is_in_Twiiter_sex[\"oh_label\"]==0),len(re_in_Twiiter_sex[\"oh_label\"]==0),\n",
    "                  len(pr_in_Twiiter_sex[\"oh_label\"]==0),len(asf_in_Twiiter_sex[\"oh_label\"]==0),\n",
    "                  len(asm_in_Twiiter_sex[\"oh_label\"]==0),len(ddp_in_Twiiter_sex[\"oh_label\"]==0),len(ddf_in_Twiiter_sex[\"oh_label\"]==0)]\n",
    "\n",
    "hurtlex_labels = [\"PS\",\"OM\",\"QAS\",\"CDS\",\"IS\",\"RE\",\"PR\",\"ASF\",\"ASM\",\"DDP\",\"DDF\"]\n",
    "\n",
    "\n",
    "plt.bar(list(np.arange(0,11,1)),pos_hurtlex_no, label=\"bullying\")\n",
    "plt.bar(list(np.arange(0,11,1)),neg_hurtlex_no, bottom=pos_hurtlex_no, label=\"not-bullying\")\n",
    "plt.xticks(np.arange(0,11,1), labels=hurtlex_labels, fontsize=12)\n",
    "plt.yticks(fontsize=12)\n",
    "plt.yscale(\"log\")\n",
    "plt.ylabel(\"No. occurences\", fontsize=16)\n",
    "plt.xlabel(\"Hurtlexh categories\", fontsize=16)\n",
    "plt.legend()"
   ]
  },
  {
   "cell_type": "code",
   "execution_count": 22,
   "metadata": {
    "colab": {
     "base_uri": "https://localhost:8080/"
    },
    "executionInfo": {
     "elapsed": 71542,
     "status": "ok",
     "timestamp": 1617180299729,
     "user": {
      "displayName": "Fatma Elsafoury",
      "photoUrl": "https://lh3.googleusercontent.com/a-/AOh14GiBOqs1m0p9NKAVLeYOvj2cfPepoOadDs_nVw4YEQ=s64",
      "userId": "12155606853084180649"
     },
     "user_tz": -60
    },
    "id": "z8AXJvqHbS_B",
    "outputId": "1120b554-43f0-4469-930c-d6bb58e5778c"
   },
   "outputs": [
    {
     "data": {
      "text/plain": [
       "[1179, 1824, 3387, 16628, 607, 3704, 1458, 733, 5821, 2301, 637]"
      ]
     },
     "execution_count": 22,
     "metadata": {
      "tags": []
     },
     "output_type": "execute_result"
    }
   ],
   "source": [
    "pos_hurtlex_no"
   ]
  },
  {
   "cell_type": "code",
   "execution_count": 23,
   "metadata": {
    "colab": {
     "base_uri": "https://localhost:8080/",
     "height": 406
    },
    "executionInfo": {
     "elapsed": 71536,
     "status": "ok",
     "timestamp": 1617180299730,
     "user": {
      "displayName": "Fatma Elsafoury",
      "photoUrl": "https://lh3.googleusercontent.com/a-/AOh14GiBOqs1m0p9NKAVLeYOvj2cfPepoOadDs_nVw4YEQ=s64",
      "userId": "12155606853084180649"
     },
     "user_tz": -60
    },
    "id": "QLnAfRnbSBl-",
    "outputId": "32aa0c97-fe71-4295-9e4c-4df8e5c58ee9"
   },
   "outputs": [
    {
     "data": {
      "text/html": [
       "<div>\n",
       "<style scoped>\n",
       "    .dataframe tbody tr th:only-of-type {\n",
       "        vertical-align: middle;\n",
       "    }\n",
       "\n",
       "    .dataframe tbody tr th {\n",
       "        vertical-align: top;\n",
       "    }\n",
       "\n",
       "    .dataframe thead th {\n",
       "        text-align: right;\n",
       "    }\n",
       "</style>\n",
       "<table border=\"1\" class=\"dataframe\">\n",
       "  <thead>\n",
       "    <tr style=\"text-align: right;\">\n",
       "      <th></th>\n",
       "      <th>Text_clean</th>\n",
       "      <th>oh_label</th>\n",
       "    </tr>\n",
       "  </thead>\n",
       "  <tbody>\n",
       "    <tr>\n",
       "      <th>5</th>\n",
       "      <td>rt zane rt chr88 outside synagogue copenhagen rip denmarkshooting jewish lives matter dkpol</td>\n",
       "      <td>0.0</td>\n",
       "    </tr>\n",
       "    <tr>\n",
       "      <th>446</th>\n",
       "      <td>iranian dignity peshmerga he faced death remarkably heroic</td>\n",
       "      <td>0.0</td>\n",
       "    </tr>\n",
       "    <tr>\n",
       "      <th>1046</th>\n",
       "      <td>pro death penalty anti provisions obamacare fewer govt regulations free market better</td>\n",
       "      <td>0.0</td>\n",
       "    </tr>\n",
       "    <tr>\n",
       "      <th>1240</th>\n",
       "      <td>flea markets help raqqa mosul go long way around able reinforce kobane</td>\n",
       "      <td>0.0</td>\n",
       "    </tr>\n",
       "    <tr>\n",
       "      <th>2529</th>\n",
       "      <td>faulty mark kern dictionary definition willfully dense d3</td>\n",
       "      <td>0.0</td>\n",
       "    </tr>\n",
       "    <tr>\n",
       "      <th>...</th>\n",
       "      <td>...</td>\n",
       "      <td>...</td>\n",
       "    </tr>\n",
       "    <tr>\n",
       "      <th>10008</th>\n",
       "      <td>your porch pork ninja like pork wanker mkr</td>\n",
       "      <td>0.0</td>\n",
       "    </tr>\n",
       "    <tr>\n",
       "      <th>1888</th>\n",
       "      <td>forgot many fand in wankers mkr you think u get rid two twelve walk playincatchupketchupketzupmrburns</td>\n",
       "      <td>0.0</td>\n",
       "    </tr>\n",
       "    <tr>\n",
       "      <th>7875</th>\n",
       "      <td>sideboob tonight mkr</td>\n",
       "      <td>0.0</td>\n",
       "    </tr>\n",
       "    <tr>\n",
       "      <th>9681</th>\n",
       "      <td>magic let start new trend selfie random boobpillow</td>\n",
       "      <td>0.0</td>\n",
       "    </tr>\n",
       "    <tr>\n",
       "      <th>1827</th>\n",
       "      <td>dream jeanies boobs addboobstotvtitles</td>\n",
       "      <td>0.0</td>\n",
       "    </tr>\n",
       "  </tbody>\n",
       "</table>\n",
       "<p>4453 rows × 2 columns</p>\n",
       "</div>"
      ],
      "text/plain": [
       "                                                                                                  Text_clean  oh_label\n",
       "5                rt zane rt chr88 outside synagogue copenhagen rip denmarkshooting jewish lives matter dkpol       0.0\n",
       "446                                              iranian dignity peshmerga he faced death remarkably heroic        0.0\n",
       "1046                  pro death penalty anti provisions obamacare fewer govt regulations free market better        0.0\n",
       "1240                                 flea markets help raqqa mosul go long way around able reinforce kobane        0.0\n",
       "2529                                               faulty mark kern dictionary definition willfully dense d3       0.0\n",
       "...                                                                                                      ...       ...\n",
       "10008                                                             your porch pork ninja like pork wanker mkr       0.0\n",
       "1888   forgot many fand in wankers mkr you think u get rid two twelve walk playincatchupketchupketzupmrburns       0.0\n",
       "7875                                                                                    sideboob tonight mkr       0.0\n",
       "9681                                                     magic let start new trend selfie random boobpillow        0.0\n",
       "1827                                                                  dream jeanies boobs addboobstotvtitles       0.0\n",
       "\n",
       "[4453 rows x 2 columns]"
      ]
     },
     "execution_count": 23,
     "metadata": {
      "tags": []
     },
     "output_type": "execute_result"
    }
   ],
   "source": [
    "asm_in_Twiiter_sex[asm_in_Twiiter_sex[\"oh_label\"]==0]"
   ]
  }
 ],
 "metadata": {
  "colab": {
   "authorship_tag": "ABX9TyN9XEXTEAQo3do9PopBAeqB",
   "collapsed_sections": [],
   "name": "Hurtlex_in_Twitter_sexism_DS.ipynb",
   "provenance": []
  },
  "kernelspec": {
   "display_name": "Python 3",
   "language": "python",
   "name": "python3"
  },
  "language_info": {
   "codemirror_mode": {
    "name": "ipython",
    "version": 3
   },
   "file_extension": ".py",
   "mimetype": "text/x-python",
   "name": "python",
   "nbconvert_exporter": "python",
   "pygments_lexer": "ipython3",
   "version": "3.6.9"
  }
 },
 "nbformat": 4,
 "nbformat_minor": 1
}
