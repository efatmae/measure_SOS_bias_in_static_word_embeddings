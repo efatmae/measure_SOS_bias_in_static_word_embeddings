{
 "cells": [
  {
   "cell_type": "code",
   "execution_count": 1,
   "id": "becbc0e8",
   "metadata": {},
   "outputs": [],
   "source": [
    "#from wefe.datasets.datasets import load_weat, fetch_eds, fetch_debias_multiclass, fetch_debiaswe, load_bingliu\n",
    "import pandas as pd\n",
    "import numpy as np\n",
    "import matplotlib.pyplot as plt\n",
    "import numpy as np\n",
    "import random\n",
    "from sklearn.metrics import confusion_matrix,f1_score"
   ]
  },
  {
   "cell_type": "code",
   "execution_count": 2,
   "id": "d9b1424e",
   "metadata": {},
   "outputs": [],
   "source": [
    "import scipy.stats as ss"
   ]
  },
  {
   "cell_type": "code",
   "execution_count": 3,
   "id": "cc44ad74",
   "metadata": {},
   "outputs": [],
   "source": [
    "Twitter_sexism_test_Set = pd.read_csv(\"../../Data/Hate speech datasets/HateEval/HateEval_data_test.csv\")\n"
   ]
  },
  {
   "cell_type": "code",
   "execution_count": 4,
   "id": "fb83b336",
   "metadata": {},
   "outputs": [],
   "source": [
    "Twitter_sexism_test_Set = Twitter_sexism_test_Set.dropna()"
   ]
  },
  {
   "cell_type": "code",
   "execution_count": 5,
   "id": "d1569eb6",
   "metadata": {},
   "outputs": [
    {
     "data": {
      "text/plain": [
       "3817"
      ]
     },
     "execution_count": 5,
     "metadata": {},
     "output_type": "execute_result"
    }
   ],
   "source": [
    "len(Twitter_sexism_test_Set)"
   ]
  },
  {
   "cell_type": "code",
   "execution_count": 6,
   "id": "b10cbc80",
   "metadata": {},
   "outputs": [
    {
     "data": {
      "text/plain": [
       "Index(['id', 'text', 'HS', 'TR', 'AG', 'Text', 'oh_label',\n",
       "       'Text_clean_for_BERT', 'Text_clean',\n",
       "       'Bilstm_prediction_chan_trainable_False',\n",
       "       'Bilstm_prediction_w2v_news_trainable_False',\n",
       "       'Bilstm_prediction_glove_wk_trainable_False',\n",
       "       'Bilstm_prediction_ud_trainable_False',\n",
       "       'Bilstm_prediction_glove_twitter_trainable_False',\n",
       "       'MLP_prediction_chan_trainable_False',\n",
       "       'MLP_prediction_w2v_news_trainable_False',\n",
       "       'MLP_prediction_glove_wk_trainable_False',\n",
       "       'MLP_prediction_ud_trainable_False',\n",
       "       'MLP_prediction_glove_twitter_trainable_False'],\n",
       "      dtype='object')"
      ]
     },
     "execution_count": 6,
     "metadata": {},
     "output_type": "execute_result"
    }
   ],
   "source": [
    "Twitter_sexism_test_Set.columns"
   ]
  },
  {
   "cell_type": "code",
   "execution_count": 7,
   "id": "4c17cce2",
   "metadata": {},
   "outputs": [],
   "source": [
    "female_terms = ['woman', 'female', 'girl', 'wife', 'sister', 'mother', 'daughter']\n",
    "male_terms = ['man', 'male', 'boy', 'son', 'father','husband', 'brother']"
   ]
  },
  {
   "cell_type": "code",
   "execution_count": 8,
   "id": "92457af5",
   "metadata": {},
   "outputs": [],
   "source": [
    "def find_list_of_words_in_df(df, slur_list, text_col):\n",
    "  ps_in_hateEval = []\n",
    "  for i in slur_list: \n",
    "    if  df[text_col].str.contains(\" \"+i+\" \").any() == True or df[text_col].str.contains(i+\" \").any() == True or df[text_col].str.contains(\" \"+i).any() == True:\n",
    "      print(\"terms found \"+ i)  \n",
    "      ps_mid = df[df[text_col].str.contains(\" \"+i+\" \")]\n",
    "      ps_start = df[df[text_col].str.contains(i+\" \")]\n",
    "      ps_end = df[df[text_col].str.contains(\" \"+i)]\n",
    "      #if ps.index not in ps_in_hateEval:\n",
    "      ps_in_hateEval.append(ps_mid)\n",
    "      ps_in_hateEval.append(ps_start)\n",
    "      ps_in_hateEval.append(ps_end)\n",
    "\n",
    "  ps_in_hateEval_df = pd.concat(ps_in_hateEval).drop_duplicates(subset=[\"Text_clean\"])\n",
    "  return ps_in_hateEval_df\n",
    "\n",
    "\n",
    "def find_FPR_and_TPR(y_true, y_pred):\n",
    "    TN, FP, FN, TP = confusion_matrix(y_true, y_pred, labels=[0, 1]).ravel()\n",
    "\n",
    "    TPR = TP/(TP+FN)\n",
    "    # Specificity or true negative rate\n",
    "    TNR = TN/(TN+FP) \n",
    "    # Precision or positive predictive value\n",
    "    PPV = TP/(TP+FP)\n",
    "    # Negative predictive value\n",
    "    NPV = TN/(TN+FN)\n",
    "    # Fall out or false positive rate\n",
    "    FPR = FP/(FP+TN)\n",
    "    # False negative rate\n",
    "    FNR = FN/(TP+FN)\n",
    "    # False discovery rate\n",
    "    FDR = FP/(TP+FP)\n",
    "\n",
    "    return FPR, FNR, TPR, TNR"
   ]
  },
  {
   "cell_type": "code",
   "execution_count": 9,
   "id": "8e0fdecb",
   "metadata": {},
   "outputs": [
    {
     "name": "stdout",
     "output_type": "stream",
     "text": [
      "terms found woman\n",
      "terms found female\n",
      "terms found girl\n",
      "terms found wife\n",
      "terms found sister\n",
      "terms found mother\n",
      "terms found daughter\n"
     ]
    }
   ],
   "source": [
    "Twitter_sexism_test_Set_women_terms = find_list_of_words_in_df(Twitter_sexism_test_Set, female_terms, \"Text_clean\")"
   ]
  },
  {
   "cell_type": "code",
   "execution_count": 10,
   "id": "dfe597fb",
   "metadata": {},
   "outputs": [
    {
     "name": "stdout",
     "output_type": "stream",
     "text": [
      "terms found man\n",
      "terms found male\n",
      "terms found boy\n",
      "terms found son\n",
      "terms found father\n",
      "terms found husband\n",
      "terms found brother\n"
     ]
    }
   ],
   "source": [
    "Twitter_sexism_test_Set_men_terms = find_list_of_words_in_df(Twitter_sexism_test_Set, male_terms, \"Text_clean\")"
   ]
  },
  {
   "cell_type": "code",
   "execution_count": 11,
   "id": "906e8717",
   "metadata": {},
   "outputs": [],
   "source": [
    "Twitter_sexism_test_Set_men_terms = Twitter_sexism_test_Set_men_terms[~Twitter_sexism_test_Set_men_terms[\"Text_clean\"].isin(Twitter_sexism_test_Set_women_terms[\"Text_clean\"])]"
   ]
  },
  {
   "cell_type": "code",
   "execution_count": 12,
   "id": "21e7e01c",
   "metadata": {},
   "outputs": [
    {
     "data": {
      "text/plain": [
       "(381, 369)"
      ]
     },
     "execution_count": 12,
     "metadata": {},
     "output_type": "execute_result"
    }
   ],
   "source": [
    "len(Twitter_sexism_test_Set_women_terms), len(Twitter_sexism_test_Set_men_terms)"
   ]
  },
  {
   "cell_type": "markdown",
   "id": "5732b98b",
   "metadata": {},
   "source": [
    "### Find fairness metric (Error Rate Equality Difference) in Bi-LSTM abd w2v"
   ]
  },
  {
   "cell_type": "code",
   "execution_count": 13,
   "id": "b95e5cab",
   "metadata": {},
   "outputs": [],
   "source": [
    "#Using the identity phrase test set, we calculate the false positive\n",
    "#rate, FPR and false negative rate, FN R on the entire test set, as\n",
    "#well as these same metrics on each subset of the data containing\n",
    "#each specific identity term, FPRt and FN Rt\n",
    "#. A more fair model\n",
    "#will have similar values across all terms, approaching the equality\n",
    "#of odds ideal, where FPR = FPRt and FN R = FN Rt for all terms\n",
    "#t. Wide variation among these values across terms indicates high\n",
    "#unintended bias\n",
    "\n",
    "#FPR anf FNR in the entire test set\n",
    "y_actual = Twitter_sexism_test_Set[\"oh_label\"].values\n",
    "y_predict_Bilstm_w2v = np.rint(Twitter_sexism_test_Set[\"Bilstm_prediction_w2v_news_trainable_False\"].values)\n",
    "\n",
    "BiLstm_w2v_FPR, BiLstm_w2v_FNR, BiLstm_w2v_TPR, BiLstm_w2v_TNR = find_FPR_and_TPR(y_actual, y_predict_Bilstm_w2v)\n"
   ]
  },
  {
   "cell_type": "code",
   "execution_count": 14,
   "id": "e504a127",
   "metadata": {},
   "outputs": [
    {
     "data": {
      "text/plain": [
       "(0.24415467625899281,\n",
       " 0.34588826114249843,\n",
       " 0.6541117388575016,\n",
       " 0.7558453237410072)"
      ]
     },
     "execution_count": 14,
     "metadata": {},
     "output_type": "execute_result"
    }
   ],
   "source": [
    "BiLstm_w2v_FPR, BiLstm_w2v_FNR, BiLstm_w2v_TPR, BiLstm_w2v_TNR"
   ]
  },
  {
   "cell_type": "code",
   "execution_count": 37,
   "id": "233656b5",
   "metadata": {},
   "outputs": [
    {
     "name": "stdout",
     "output_type": "stream",
     "text": [
      "F1 score 0.6557583385777218\n"
     ]
    }
   ],
   "source": [
    "print(\"F1 score\", f1_score(y_actual, y_predict_Bilstm_w2v))"
   ]
  },
  {
   "cell_type": "code",
   "execution_count": 38,
   "id": "21ea6d63",
   "metadata": {},
   "outputs": [],
   "source": [
    "#FPR anf FNR in for women related identities\n",
    "y_women_actual = Twitter_sexism_test_Set_women_terms[\"oh_label\"].values\n",
    "y_women_predict_w2v = np.rint(Twitter_sexism_test_Set_women_terms[\"Bilstm_prediction_w2v_news_trainable_False\"].values)\n",
    "\n",
    "BiLstm_w2v_women_FPR, BiLstm_w2v_women_FNR, BiLstm_w2v_women_TPR, BiLstm_w2v_women_TNR = find_FPR_and_TPR(y_women_actual, y_women_predict_w2v)"
   ]
  },
  {
   "cell_type": "code",
   "execution_count": 39,
   "id": "8863f574",
   "metadata": {},
   "outputs": [
    {
     "data": {
      "text/plain": [
       "(0.34408602150537637, 0.6256410256410256)"
      ]
     },
     "execution_count": 39,
     "metadata": {},
     "output_type": "execute_result"
    }
   ],
   "source": [
    "BiLstm_w2v_women_FPR, BiLstm_w2v_women_TPR"
   ]
  },
  {
   "cell_type": "code",
   "execution_count": 40,
   "id": "72ba67e0",
   "metadata": {},
   "outputs": [
    {
     "name": "stdout",
     "output_type": "stream",
     "text": [
      "F1_women 0.6404199475065617\n"
     ]
    }
   ],
   "source": [
    "print(\"F1_women\", f1_score(y_women_actual, y_women_predict_w2v))"
   ]
  },
  {
   "cell_type": "code",
   "execution_count": 41,
   "id": "c462ffbd",
   "metadata": {},
   "outputs": [],
   "source": [
    "#FPR anf FNR in for men related identities\n",
    "y_men_actual = Twitter_sexism_test_Set_men_terms[\"oh_label\"].values\n",
    "y_men_predict_w2v = np.rint(Twitter_sexism_test_Set_men_terms[\"Bilstm_prediction_w2v_news_trainable_False\"].values)\n",
    "\n",
    "BiLstm_w2v_men_FPR, BiLstm_w2v_men_FNR, BiLstm_w2v_men_TPR, BiLstm_w2v_men_TNR = find_FPR_and_TPR(y_men_actual, y_men_predict_w2v)"
   ]
  },
  {
   "cell_type": "code",
   "execution_count": 42,
   "id": "3a944d80",
   "metadata": {},
   "outputs": [
    {
     "data": {
      "text/plain": [
       "(0.2, 0.5611510791366906)"
      ]
     },
     "execution_count": 42,
     "metadata": {},
     "output_type": "execute_result"
    }
   ],
   "source": [
    "BiLstm_w2v_men_FPR, BiLstm_w2v_men_TPR"
   ]
  },
  {
   "cell_type": "code",
   "execution_count": 43,
   "id": "2102eeda",
   "metadata": {},
   "outputs": [
    {
     "name": "stdout",
     "output_type": "stream",
     "text": [
      "F1_men 0.5931558935361216\n"
     ]
    }
   ],
   "source": [
    "print(\"F1_men\", f1_score(y_men_actual, y_men_predict_w2v))"
   ]
  },
  {
   "cell_type": "code",
   "execution_count": 22,
   "id": "11908673",
   "metadata": {},
   "outputs": [
    {
     "name": "stdout",
     "output_type": "stream",
     "text": [
      "FPR difference between women and men 0.14408602150537636\n"
     ]
    }
   ],
   "source": [
    "print(\"FPR difference between women and men\", BiLstm_w2v_women_FPR - BiLstm_w2v_men_FPR)"
   ]
  },
  {
   "cell_type": "code",
   "execution_count": 23,
   "id": "82ce53c6",
   "metadata": {},
   "outputs": [
    {
     "name": "stdout",
     "output_type": "stream",
     "text": [
      "TPR difference between women and men 0.06448994650433504\n"
     ]
    }
   ],
   "source": [
    "print(\"TPR difference between women and men\", BiLstm_w2v_women_TPR - BiLstm_w2v_men_TPR)"
   ]
  },
  {
   "cell_type": "markdown",
   "id": "3596245f",
   "metadata": {},
   "source": [
    "### Find fairness metric (Error Rate Equality Difference) in Bi-LSTM abd glove-wk"
   ]
  },
  {
   "cell_type": "code",
   "execution_count": 29,
   "id": "9d3e8744",
   "metadata": {},
   "outputs": [],
   "source": [
    "#FPR anf FNR in the entire test set\n",
    "y_actual = Twitter_sexism_test_Set[\"oh_label\"].values\n",
    "y_predict_BiLSTM_glove_wk = np.rint(Twitter_sexism_test_Set[\"Bilstm_prediction_glove_wk_trainable_False\"].values)\n",
    "\n",
    "BiLstm_glove_wk_FPR, BiLstm_glove_wk_FNR, BiLstm_glove_wk_TPR, BiLstm_glove_wk_TNR = find_FPR_and_TPR(y_actual, y_predict_BiLSTM_glove_wk)"
   ]
  },
  {
   "cell_type": "code",
   "execution_count": 30,
   "id": "7af1d80e",
   "metadata": {},
   "outputs": [
    {
     "data": {
      "text/plain": [
       "(0.22841726618705036, 0.6139359698681732)"
      ]
     },
     "execution_count": 30,
     "metadata": {},
     "output_type": "execute_result"
    }
   ],
   "source": [
    "BiLstm_glove_wk_FPR, BiLstm_glove_wk_TPR"
   ]
  },
  {
   "cell_type": "code",
   "execution_count": 44,
   "id": "2c69e39b",
   "metadata": {},
   "outputs": [
    {
     "name": "stdout",
     "output_type": "stream",
     "text": [
      "F1 scores 0.6352711919454368\n"
     ]
    }
   ],
   "source": [
    "print(\"F1 scores\", f1_score(y_actual, y_predict_BiLSTM_glove_wk))"
   ]
  },
  {
   "cell_type": "code",
   "execution_count": 28,
   "id": "8f35ec9e",
   "metadata": {},
   "outputs": [
    {
     "name": "stdout",
     "output_type": "stream",
     "text": [
      "FPR women 0.22580645161290322\n",
      "TPR women 0.6153846153846154\n",
      "FPR men 0.2391304347826087\n",
      "TPR men 0.5611510791366906\n",
      "FPR difference between women and men -0.013323983169705483\n",
      "TPR difference between women and men 0.05423353624792482\n"
     ]
    }
   ],
   "source": [
    "#FPR anf FNR in for women related identities\n",
    "y_women_actual = Twitter_sexism_test_Set_women_terms[\"oh_label\"].values\n",
    "y_women_bilstm_glove_wk_predict = np.rint(Twitter_sexism_test_Set_women_terms[\"Bilstm_prediction_glove_wk_trainable_False\"].values)\n",
    "BiLstm_glove_wk_women_FPR, BiLstm_glove_wk_women_FNR, BiLstm_glove_wk_women_TPR, BiLstm_glove_wk_women_TNR = find_FPR_and_TPR(y_women_actual, y_women_bilstm_glove_wk_predict)\n",
    "print(\"FPR women\", BiLstm_glove_wk_women_FPR)\n",
    "print(\"TPR women\", BiLstm_glove_wk_women_TPR)\n",
    "\n",
    "\n",
    "#FPR anf FNR in for men related identities\n",
    "y_men_actual = Twitter_sexism_test_Set_men_terms[\"oh_label\"].values\n",
    "y_men_bilstm_glove_wk_predict = np.rint(Twitter_sexism_test_Set_men_terms[\"Bilstm_prediction_glove_wk_trainable_False\"].values)\n",
    "BiLstm_glove_wk_men_FPR, BiLstm_glove_wk_men_FNR, BiLstm_glove_wk_men_TPR, BiLstm_glove_wk_men_TNR = find_FPR_and_TPR(y_men_actual, y_men_bilstm_glove_wk_predict)\n",
    "print(\"FPR men\", BiLstm_glove_wk_men_FPR)\n",
    "print(\"TPR men\", BiLstm_glove_wk_men_TPR)\n",
    "\n",
    "\n",
    "print(\"FPR difference between women and men\", BiLstm_glove_wk_women_FPR - BiLstm_glove_wk_men_FPR)\n",
    "print(\"TPR difference between women and men\", BiLstm_glove_wk_women_TPR - BiLstm_glove_wk_men_TPR)"
   ]
  },
  {
   "cell_type": "code",
   "execution_count": 45,
   "id": "2a6f399c",
   "metadata": {},
   "outputs": [
    {
     "name": "stdout",
     "output_type": "stream",
     "text": [
      "F1_women 0.6722689075630253\n"
     ]
    }
   ],
   "source": [
    "print(\"F1_women\", f1_score(y_women_actual, y_women_bilstm_glove_wk_predict))"
   ]
  },
  {
   "cell_type": "code",
   "execution_count": 46,
   "id": "35b04f40",
   "metadata": {},
   "outputs": [
    {
     "name": "stdout",
     "output_type": "stream",
     "text": [
      "F1_men 0.5735294117647058\n"
     ]
    }
   ],
   "source": [
    "print(\"F1_men\", f1_score(y_men_actual, y_men_bilstm_glove_wk_predict))"
   ]
  },
  {
   "cell_type": "markdown",
   "id": "716e73ff",
   "metadata": {},
   "source": [
    "### Find fairness metric (Error Rate Equality Difference) in Bi-LSTM abd glove-twitter"
   ]
  },
  {
   "cell_type": "code",
   "execution_count": 33,
   "id": "20020171",
   "metadata": {},
   "outputs": [],
   "source": [
    "#FPR anf FNR in the entire test set\n",
    "y_actual = Twitter_sexism_test_Set[\"oh_label\"].values\n",
    "y_predict_BiLSTM_glove_twitter = np.rint(Twitter_sexism_test_Set[\"Bilstm_prediction_glove_twitter_trainable_False\"].values)\n",
    "\n",
    "BiLstm_glove_twitter_FPR, BiLstm_glove_twitter_FNR, BiLstm_glove_twitter_TPR, BiLstm_glove_twitter_TNR = find_FPR_and_TPR(y_actual, y_predict_BiLSTM_glove_twitter)"
   ]
  },
  {
   "cell_type": "code",
   "execution_count": 34,
   "id": "13aa2d13",
   "metadata": {},
   "outputs": [
    {
     "data": {
      "text/plain": [
       "(0.2702338129496403, 0.7250470809792844)"
      ]
     },
     "execution_count": 34,
     "metadata": {},
     "output_type": "execute_result"
    }
   ],
   "source": [
    "BiLstm_glove_twitter_FPR, BiLstm_glove_twitter_TPR"
   ]
  },
  {
   "cell_type": "code",
   "execution_count": 47,
   "id": "f5a291b4",
   "metadata": {},
   "outputs": [
    {
     "name": "stdout",
     "output_type": "stream",
     "text": [
      "F1-score 0.6897581367572411\n"
     ]
    }
   ],
   "source": [
    "print(\"F1-score\", f1_score(y_actual, y_predict_BiLSTM_glove_twitter))"
   ]
  },
  {
   "cell_type": "code",
   "execution_count": 32,
   "id": "39d4eddb",
   "metadata": {},
   "outputs": [
    {
     "name": "stdout",
     "output_type": "stream",
     "text": [
      "FPR women 0.3870967741935484\n",
      "TPR women 0.7076923076923077\n",
      "FPR men 0.26521739130434785\n",
      "TPR men 0.6402877697841727\n",
      "FPR difference between women and men 0.12187938288920053\n",
      "TPR difference between women and men 0.06740453790813505\n"
     ]
    }
   ],
   "source": [
    "#FPR anf FNR in for women related identities\n",
    "y_women_actual = Twitter_sexism_test_Set_women_terms[\"oh_label\"].values\n",
    "y_women_bilstm_glove_twitter_predict = np.rint(Twitter_sexism_test_Set_women_terms[\"Bilstm_prediction_glove_twitter_trainable_False\"].values)\n",
    "BiLstm_glove_twitter_women_FPR, BiLstm_glove_twitter_women_FNR, BiLstm_glove_twitter_women_TPR, BiLstm_glove_twitter_women_TNR = find_FPR_and_TPR(y_women_actual, y_women_bilstm_glove_twitter_predict)\n",
    "print(\"FPR women\", BiLstm_glove_twitter_women_FPR)\n",
    "print(\"TPR women\", BiLstm_glove_twitter_women_TPR)\n",
    "\n",
    "\n",
    "#FPR anf FNR in for men related identities\n",
    "y_men_actual = Twitter_sexism_test_Set_men_terms[\"oh_label\"].values\n",
    "y_men_bilstm_glove_twitter_predict = np.rint(Twitter_sexism_test_Set_men_terms[\"Bilstm_prediction_glove_twitter_trainable_False\"].values)\n",
    "BiLstm_glove_twitter_men_FPR, BiLstm_glove_twitter_men_FNR, BiLstm_glove_twitter_men_TPR, BiLstm_glove_twitter_men_TNR = find_FPR_and_TPR(y_men_actual, y_men_bilstm_glove_twitter_predict)\n",
    "print(\"FPR men\", BiLstm_glove_twitter_men_FPR)\n",
    "print(\"TPR men\", BiLstm_glove_twitter_men_TPR)\n",
    "\n",
    "\n",
    "print(\"FPR difference between women and men\", BiLstm_glove_twitter_women_FPR - BiLstm_glove_twitter_men_FPR)\n",
    "print(\"TPR difference between women and men\", BiLstm_glove_twitter_women_TPR - BiLstm_glove_twitter_men_TPR)"
   ]
  },
  {
   "cell_type": "code",
   "execution_count": 48,
   "id": "da792666",
   "metadata": {},
   "outputs": [
    {
     "name": "stdout",
     "output_type": "stream",
     "text": [
      "F1_women 0.6814814814814816\n"
     ]
    }
   ],
   "source": [
    "print(\"F1_women\", f1_score(y_women_actual, y_women_bilstm_glove_twitter_predict))"
   ]
  },
  {
   "cell_type": "code",
   "execution_count": 49,
   "id": "ea982156",
   "metadata": {},
   "outputs": [
    {
     "name": "stdout",
     "output_type": "stream",
     "text": [
      "F1_men 0.6159169550173011\n"
     ]
    }
   ],
   "source": [
    "print(\"F1_men\", f1_score(y_men_actual, y_men_bilstm_glove_twitter_predict))"
   ]
  },
  {
   "cell_type": "markdown",
   "id": "cb95c862",
   "metadata": {},
   "source": [
    "### Find fairness metric (Error Rate Equality Difference) in Bi-LSTM and UD"
   ]
  },
  {
   "cell_type": "code",
   "execution_count": 56,
   "id": "11da12dd",
   "metadata": {},
   "outputs": [],
   "source": [
    "#FPR anf FNR in the entire test set\n",
    "y_actual = Twitter_sexism_test_Set[\"oh_label\"].values\n",
    "y_predict_BiLSTM_ud = np.rint(Twitter_sexism_test_Set[\"Bilstm_prediction_ud_trainable_False\"].values)\n",
    "\n",
    "BiLstm_ud_FPR, BiLstm_ud_FNR, BiLstm_ud_TPR, BiLstm_ud_TNR = find_FPR_and_TPR(y_actual, y_predict_BiLSTM_ud)"
   ]
  },
  {
   "cell_type": "code",
   "execution_count": 57,
   "id": "6b24eca1",
   "metadata": {},
   "outputs": [
    {
     "data": {
      "text/plain": [
       "(0.25089928057553956, 0.6572504708097928)"
      ]
     },
     "execution_count": 57,
     "metadata": {},
     "output_type": "execute_result"
    }
   ],
   "source": [
    "BiLstm_ud_FPR, BiLstm_ud_TPR"
   ]
  },
  {
   "cell_type": "code",
   "execution_count": 58,
   "id": "e0a3958f",
   "metadata": {},
   "outputs": [
    {
     "name": "stdout",
     "output_type": "stream",
     "text": [
      "F1 scores 0.6547842401500938\n"
     ]
    }
   ],
   "source": [
    "print(\"F1 scores\", f1_score(y_actual, y_predict_BiLSTM_ud))"
   ]
  },
  {
   "cell_type": "code",
   "execution_count": 52,
   "id": "34c3da65",
   "metadata": {},
   "outputs": [
    {
     "name": "stdout",
     "output_type": "stream",
     "text": [
      "FPR women 0.3333333333333333\n",
      "TPR women 0.5487179487179488\n",
      "FPR men 0.2608695652173913\n",
      "TPR men 0.60431654676259\n",
      "FPR difference between women and men 0.07246376811594202\n",
      "TPR difference between women and men -0.05559859804464118\n"
     ]
    }
   ],
   "source": [
    "#FPR anf FNR in for women related identities\n",
    "y_women_actual = Twitter_sexism_test_Set_women_terms[\"oh_label\"].values\n",
    "y_women_bilstm_ud_predict = np.rint(Twitter_sexism_test_Set_women_terms[\"Bilstm_prediction_ud_trainable_False\"].values)\n",
    "BiLstm_ud_women_FPR, BiLstm_ud_women_FNR, BiLstm_ud_women_TPR, BiLstm_ud_women_TNR   = find_FPR_and_TPR(y_women_actual, y_women_bilstm_ud_predict)\n",
    "print(\"FPR women\", BiLstm_ud_women_FPR)\n",
    "print(\"TPR women\", BiLstm_ud_women_TPR)\n",
    "\n",
    "\n",
    "#FPR anf FNR in for men related identities\n",
    "y_men_actual = Twitter_sexism_test_Set_men_terms[\"oh_label\"].values\n",
    "y_men_bilstm_ud_predict = np.rint(Twitter_sexism_test_Set_men_terms[\"Bilstm_prediction_ud_trainable_False\"].values)\n",
    "BiLstm_ud_men_FPR, BiLstm_ud_men_FNR, BiLstm_ud_men_TPR, BiLstm_ud_men_TNR = find_FPR_and_TPR(y_men_actual, y_men_bilstm_ud_predict)\n",
    "print(\"FPR men\", BiLstm_ud_men_FPR)\n",
    "print(\"TPR men\", BiLstm_ud_men_TPR)\n",
    "\n",
    "\n",
    "print(\"FPR difference between women and men\", BiLstm_ud_women_FPR - BiLstm_ud_men_FPR)\n",
    "print(\"TPR difference between women and men\", BiLstm_ud_women_TPR - BiLstm_ud_men_TPR)"
   ]
  },
  {
   "cell_type": "code",
   "execution_count": 54,
   "id": "1603e2a9",
   "metadata": {},
   "outputs": [
    {
     "name": "stdout",
     "output_type": "stream",
     "text": [
      "F1-score_women 0.5879120879120878\n"
     ]
    }
   ],
   "source": [
    "print(\"F1-score_women\",f1_score(y_women_actual, y_women_bilstm_ud_predict))"
   ]
  },
  {
   "cell_type": "code",
   "execution_count": 55,
   "id": "1c5d3092",
   "metadata": {},
   "outputs": [
    {
     "name": "stdout",
     "output_type": "stream",
     "text": [
      "F1-score-men 0.5936395759717316\n"
     ]
    }
   ],
   "source": [
    "print(\"F1-score-men\", f1_score(y_men_actual, y_men_bilstm_ud_predict))"
   ]
  },
  {
   "cell_type": "markdown",
   "id": "17ec4282",
   "metadata": {},
   "source": [
    "### Find fairness metric (Error Rate Equality Difference) in Bi-LSTM and Chan"
   ]
  },
  {
   "cell_type": "code",
   "execution_count": 59,
   "id": "2f07969b",
   "metadata": {},
   "outputs": [],
   "source": [
    "#FPR anf FNR in the entire test set\n",
    "y_actual = Twitter_sexism_test_Set[\"oh_label\"].values\n",
    "y_predict_BiLSTM_chan = np.rint(Twitter_sexism_test_Set[\"Bilstm_prediction_chan_trainable_False\"].values)\n",
    "\n",
    "BiLstm_chan_FPR, BiLstm_chan_FNR, BiLstm_chan_TPR, BiLstm_chan_TNR = find_FPR_and_TPR(y_actual, y_predict_BiLSTM_chan)"
   ]
  },
  {
   "cell_type": "code",
   "execution_count": 60,
   "id": "7e605bee",
   "metadata": {},
   "outputs": [
    {
     "data": {
      "text/plain": [
       "(0.24775179856115107, 0.6804770872567483)"
      ]
     },
     "execution_count": 60,
     "metadata": {},
     "output_type": "execute_result"
    }
   ],
   "source": [
    "BiLstm_chan_FPR, BiLstm_chan_TPR"
   ]
  },
  {
   "cell_type": "code",
   "execution_count": 63,
   "id": "b5be4e9b",
   "metadata": {},
   "outputs": [
    {
     "name": "stdout",
     "output_type": "stream",
     "text": [
      "F1-score 0.671623296158612\n"
     ]
    }
   ],
   "source": [
    "print(\"F1-score\", f1_score(y_actual, y_predict_BiLSTM_chan))"
   ]
  },
  {
   "cell_type": "code",
   "execution_count": 62,
   "id": "2a8c7836",
   "metadata": {},
   "outputs": [
    {
     "name": "stdout",
     "output_type": "stream",
     "text": [
      "FPR_women 0.34408602150537637\n",
      "TPR_women 0.6559139784946236\n",
      "FPR_men 0.24347826086956523\n",
      "TPR_men 0.7565217391304347\n",
      "FPR difference between women and men 0.10060776063581114\n",
      "TPR difference between women and men -0.05054418004058292\n"
     ]
    }
   ],
   "source": [
    "#FPR anf FNR in for women related identities\n",
    "y_women_actual = Twitter_sexism_test_Set_women_terms[\"oh_label\"].values\n",
    "y_women_bilstm_chan_predict = np.rint(Twitter_sexism_test_Set_women_terms[\"Bilstm_prediction_chan_trainable_False\"].values)\n",
    "BiLstm_chan_women_FPR, BiLstm_chan_women_FNR, BiLstm_chan_women_TPR, BiLstm_chan_women_TNR = find_FPR_and_TPR(y_women_actual, y_women_bilstm_chan_predict)\n",
    "print(\"FPR_women\", BiLstm_chan_women_FPR)\n",
    "print(\"TPR_women\", BiLstm_chan_women_TNR)\n",
    "\n",
    "#FPR anf FNR in for men related identities\n",
    "y_men_actual = Twitter_sexism_test_Set_men_terms[\"oh_label\"].values\n",
    "y_men_bilstm_chan_predict = np.rint(Twitter_sexism_test_Set_men_terms[\"Bilstm_prediction_chan_trainable_False\"].values)\n",
    "BiLstm_chan_men_FPR, BiLstm_chan_men_FNR, BiLstm_chan_men_TPR, BiLstm_chan_men_TNR   = find_FPR_and_TPR(y_men_actual, y_men_bilstm_chan_predict)\n",
    "print(\"FPR_men\", BiLstm_chan_men_FPR)\n",
    "print(\"TPR_men\", BiLstm_chan_men_TNR)\n",
    "\n",
    "print(\"FPR difference between women and men\", BiLstm_chan_women_FPR - BiLstm_chan_men_FPR)\n",
    "print(\"TPR difference between women and men\", BiLstm_chan_women_TPR - BiLstm_chan_men_TPR)"
   ]
  },
  {
   "cell_type": "code",
   "execution_count": 64,
   "id": "1ddfa287",
   "metadata": {},
   "outputs": [
    {
     "name": "stdout",
     "output_type": "stream",
     "text": [
      "F1_score_women 0.6149732620320856\n"
     ]
    }
   ],
   "source": [
    "print(\"F1_score_women\", f1_score(y_women_actual, y_women_bilstm_chan_predict))"
   ]
  },
  {
   "cell_type": "code",
   "execution_count": 65,
   "id": "ea4e1c4a",
   "metadata": {},
   "outputs": [
    {
     "name": "stdout",
     "output_type": "stream",
     "text": [
      "F1_score_men 0.6267605633802816\n"
     ]
    }
   ],
   "source": [
    "print(\"F1_score_men\", f1_score(y_men_actual, y_men_bilstm_chan_predict))"
   ]
  },
  {
   "cell_type": "markdown",
   "id": "40c918a7",
   "metadata": {},
   "source": [
    "# MLP"
   ]
  },
  {
   "cell_type": "markdown",
   "id": "5d08044c",
   "metadata": {},
   "source": [
    "### Find fairness metric (Error Rate Equality Difference) in MLP and w2v"
   ]
  },
  {
   "cell_type": "code",
   "execution_count": 13,
   "id": "3e809184",
   "metadata": {},
   "outputs": [],
   "source": [
    "#FPR anf FNR in the entire test set\n",
    "y_actual = Twitter_sexism_test_Set[\"oh_label\"].values\n",
    "y_predict_MLP_w2v = np.rint(Twitter_sexism_test_Set[\"MLP_prediction_w2v_news_trainable_False\"].values)\n",
    "\n",
    "MLP_w2v_FPR, MLP_w2v_FNR, MLP_w2v_TPR, MLP_w2v_TNR = find_FPR_and_TPR(y_actual, y_predict_MLP_w2v)"
   ]
  },
  {
   "cell_type": "code",
   "execution_count": 14,
   "id": "971a6033",
   "metadata": {},
   "outputs": [
    {
     "data": {
      "text/plain": [
       "(0.2931654676258993, 0.6208411801632141)"
      ]
     },
     "execution_count": 14,
     "metadata": {},
     "output_type": "execute_result"
    }
   ],
   "source": [
    "MLP_w2v_FPR, MLP_w2v_TPR"
   ]
  },
  {
   "cell_type": "code",
   "execution_count": 15,
   "id": "823b63f7",
   "metadata": {},
   "outputs": [
    {
     "name": "stdout",
     "output_type": "stream",
     "text": [
      "F1 score 0.6116264687693259\n"
     ]
    }
   ],
   "source": [
    "print(\"F1 score\", f1_score(y_actual, y_predict_MLP_w2v))"
   ]
  },
  {
   "cell_type": "code",
   "execution_count": 17,
   "id": "b63b62a3",
   "metadata": {},
   "outputs": [
    {
     "name": "stdout",
     "output_type": "stream",
     "text": [
      "FPR women 0.3978494623655914\n",
      "TPR women 0.5846153846153846\n",
      "FPR men 0.30869565217391304\n",
      "TPR men 0.5179856115107914\n",
      "FPR difference between women and men 0.08915381019167834\n",
      "TPR difference between women and men 0.06662977310459328\n",
      "F1_women 0.5953002610966058\n",
      "F1_men 0.5106382978723404\n"
     ]
    }
   ],
   "source": [
    "#FPR anf FNR in for women related identities\n",
    "y_women_actual = Twitter_sexism_test_Set_women_terms[\"oh_label\"].values\n",
    "y_women_MLP_w2v_predict = np.rint(Twitter_sexism_test_Set_women_terms[\"MLP_prediction_w2v_news_trainable_False\"].values)\n",
    "MLP_w2v_women_FPR, MLP_w2v_women_FNR, MLP_w2v_women_TPR, MLP_w2v_women_TNR = find_FPR_and_TPR(y_women_actual, y_women_MLP_w2v_predict)\n",
    "print(\"FPR women\", MLP_w2v_women_FPR)\n",
    "print(\"TPR women\", MLP_w2v_women_TPR)\n",
    "\n",
    "\n",
    "#FPR anf FNR in for men related identities\n",
    "y_men_actual = Twitter_sexism_test_Set_men_terms[\"oh_label\"].values\n",
    "y_men_MLP_w2v_predict = np.rint(Twitter_sexism_test_Set_men_terms[\"MLP_prediction_w2v_news_trainable_False\"].values)\n",
    "MLP_w2v_men_FPR, MLP_w2v_men_FNR, MLP_w2v_men_TPR, MLP_w2v_men_TNR = find_FPR_and_TPR(y_men_actual, y_men_MLP_w2v_predict)\n",
    "print(\"FPR men\", MLP_w2v_men_FPR)\n",
    "print(\"TPR men\", MLP_w2v_men_TPR)\n",
    "\n",
    "\n",
    "print(\"FPR difference between women and men\", MLP_w2v_women_FPR - MLP_w2v_men_FPR)\n",
    "print(\"TPR difference between women and men\", MLP_w2v_women_TPR - MLP_w2v_men_TPR)\n",
    "print(\"F1_women\", f1_score(y_women_actual, y_women_MLP_w2v_predict))\n",
    "print(\"F1_men\", f1_score(y_men_actual, y_men_MLP_w2v_predict))"
   ]
  },
  {
   "cell_type": "markdown",
   "id": "43266aae",
   "metadata": {},
   "source": [
    "### Find fairness metric (Error Rate Equality Difference) in MLP and glove-wk"
   ]
  },
  {
   "cell_type": "code",
   "execution_count": 18,
   "id": "4fdd9b81",
   "metadata": {},
   "outputs": [],
   "source": [
    "#FPR anf FNR in the entire test set\n",
    "y_actual = Twitter_sexism_test_Set[\"oh_label\"].values\n",
    "y_predict_MLP_glove_wk = np.rint(Twitter_sexism_test_Set[\"MLP_prediction_glove_wk_trainable_False\"].values)\n",
    "\n",
    "MLP_glove_wk_FPR, MLP_glove_wk_FNR, MLP_glove_wk_TPR, MLP_glove_wk_TNR = find_FPR_and_TPR(y_actual, y_predict_MLP_glove_wk)"
   ]
  },
  {
   "cell_type": "code",
   "execution_count": 19,
   "id": "40fa320c",
   "metadata": {},
   "outputs": [
    {
     "data": {
      "text/plain": [
       "(0.27742805755395683, 0.6057752667922159)"
      ]
     },
     "execution_count": 19,
     "metadata": {},
     "output_type": "execute_result"
    }
   ],
   "source": [
    "MLP_glove_wk_FPR, MLP_glove_wk_TPR"
   ]
  },
  {
   "cell_type": "code",
   "execution_count": 20,
   "id": "0bfc3ad3",
   "metadata": {},
   "outputs": [
    {
     "name": "stdout",
     "output_type": "stream",
     "text": [
      "F1 scores 0.6078740157480315\n"
     ]
    }
   ],
   "source": [
    "print(\"F1 scores\", f1_score(y_actual, y_predict_MLP_glove_wk))"
   ]
  },
  {
   "cell_type": "code",
   "execution_count": 21,
   "id": "b39a116a",
   "metadata": {},
   "outputs": [
    {
     "name": "stdout",
     "output_type": "stream",
     "text": [
      "FPR women 0.3548387096774194\n",
      "TPR women 0.49743589743589745\n",
      "FPR men 0.2956521739130435\n",
      "TPR men 0.5107913669064749\n",
      "FPR difference between women and men 0.05918653576437588\n",
      "TPR difference between women and men -0.013355469470577419\n",
      "F1_women 0.5418994413407822\n",
      "F1_men 0.5107913669064749\n"
     ]
    }
   ],
   "source": [
    "#FPR anf FNR in for women related identities\n",
    "y_women_actual = Twitter_sexism_test_Set_women_terms[\"oh_label\"].values\n",
    "y_women_MLP_glove_wk_predict = np.rint(Twitter_sexism_test_Set_women_terms[\"MLP_prediction_glove_wk_trainable_False\"].values)\n",
    "MLP_glove_wk_women_FPR, BiLstm_glove_wk_women_FNR, MLP_glove_wk_women_TPR, MLP_glove_wk_women_TNR = find_FPR_and_TPR(y_women_actual, y_women_MLP_glove_wk_predict)\n",
    "print(\"FPR women\", MLP_glove_wk_women_FPR)\n",
    "print(\"TPR women\", MLP_glove_wk_women_TPR)\n",
    "\n",
    "\n",
    "#FPR anf FNR in for men related identities\n",
    "y_men_actual = Twitter_sexism_test_Set_men_terms[\"oh_label\"].values\n",
    "y_men_MLP_glove_wk_predict = np.rint(Twitter_sexism_test_Set_men_terms[\"MLP_prediction_glove_wk_trainable_False\"].values)\n",
    "MLP_glove_wk_men_FPR, MLP_glove_wk_men_FNR, MLP_glove_wk_men_TPR, MLP_glove_wk_men_TNR = find_FPR_and_TPR(y_men_actual, y_men_MLP_glove_wk_predict)\n",
    "print(\"FPR men\", MLP_glove_wk_men_FPR)\n",
    "print(\"TPR men\", MLP_glove_wk_men_TPR)\n",
    "\n",
    "\n",
    "print(\"FPR difference between women and men\", MLP_glove_wk_women_FPR - MLP_glove_wk_men_FPR)\n",
    "print(\"TPR difference between women and men\", MLP_glove_wk_women_TPR - MLP_glove_wk_men_TPR)\n",
    "print(\"F1_women\", f1_score(y_women_actual, y_women_MLP_glove_wk_predict))\n",
    "print(\"F1_men\", f1_score(y_men_actual, y_men_MLP_glove_wk_predict))"
   ]
  },
  {
   "cell_type": "markdown",
   "id": "fcaefdb8",
   "metadata": {},
   "source": [
    "### Find fairness metric (Error Rate Equality Difference) in MLP and glove-twitter"
   ]
  },
  {
   "cell_type": "code",
   "execution_count": 22,
   "id": "152b04c4",
   "metadata": {},
   "outputs": [],
   "source": [
    "#FPR anf FNR in the entire test set\n",
    "y_actual = Twitter_sexism_test_Set[\"oh_label\"].values\n",
    "y_predict_MLP_glove_twitter = np.rint(Twitter_sexism_test_Set[\"MLP_prediction_glove_twitter_trainable_False\"].values)\n",
    "\n",
    "MLP_glove_twitter_FPR, MLP_glove_twitter_FNR, MLP_glove_twitter_TPR, MLP_glove_twitter_TNR = find_FPR_and_TPR(y_actual, y_predict_MLP_glove_twitter)"
   ]
  },
  {
   "cell_type": "code",
   "execution_count": 23,
   "id": "1e9d9e98",
   "metadata": {},
   "outputs": [
    {
     "data": {
      "text/plain": [
       "(0.34532374100719426, 0.7332077840552417)"
      ]
     },
     "execution_count": 23,
     "metadata": {},
     "output_type": "execute_result"
    }
   ],
   "source": [
    "MLP_glove_twitter_FPR, MLP_glove_twitter_TPR"
   ]
  },
  {
   "cell_type": "code",
   "execution_count": 24,
   "id": "1661f572",
   "metadata": {},
   "outputs": [
    {
     "name": "stdout",
     "output_type": "stream",
     "text": [
      "F1-score 0.6619438934542363\n"
     ]
    }
   ],
   "source": [
    "print(\"F1-score\", f1_score(y_actual, y_predict_MLP_glove_twitter))"
   ]
  },
  {
   "cell_type": "code",
   "execution_count": 25,
   "id": "a9b4fe4a",
   "metadata": {},
   "outputs": [
    {
     "name": "stdout",
     "output_type": "stream",
     "text": [
      "FPR women 0.40860215053763443\n",
      "TPR women 0.6820512820512821\n",
      "FPR men 0.30434782608695654\n",
      "TPR men 0.6546762589928058\n",
      "FPR difference between women and men 0.1042543244506779\n",
      "TPR difference between women and men 0.027375023058476278\n",
      "F1_women 0.6584158415841583\n",
      "F1_men 0.6066666666666667\n"
     ]
    }
   ],
   "source": [
    "#FPR anf FNR in for women related identities\n",
    "y_women_actual = Twitter_sexism_test_Set_women_terms[\"oh_label\"].values\n",
    "y_women_MLP_glove_twitter_predict = np.rint(Twitter_sexism_test_Set_women_terms[\"MLP_prediction_glove_twitter_trainable_False\"].values)\n",
    "MLP_glove_twitter_women_FPR, MLP_glove_twitter_women_FNR, MLP_glove_twitter_women_TPR, MLP_glove_twitter_women_TNR = find_FPR_and_TPR(y_women_actual, y_women_MLP_glove_twitter_predict)\n",
    "print(\"FPR women\", MLP_glove_twitter_women_FPR)\n",
    "print(\"TPR women\", MLP_glove_twitter_women_TPR)\n",
    "\n",
    "\n",
    "#FPR anf FNR in for men related identities\n",
    "y_men_actual = Twitter_sexism_test_Set_men_terms[\"oh_label\"].values\n",
    "y_men_MLP_glove_twitter_predict = np.rint(Twitter_sexism_test_Set_men_terms[\"MLP_prediction_glove_twitter_trainable_False\"].values)\n",
    "MLP_glove_twitter_men_FPR, MLP_glove_twitter_men_FNR, MLP_glove_twitter_men_TPR, MLP_glove_twitter_men_TNR = find_FPR_and_TPR(y_men_actual, y_men_MLP_glove_twitter_predict)\n",
    "print(\"FPR men\", MLP_glove_twitter_men_FPR)\n",
    "print(\"TPR men\", MLP_glove_twitter_men_TPR)\n",
    "\n",
    "\n",
    "print(\"FPR difference between women and men\", MLP_glove_twitter_women_FPR - MLP_glove_twitter_men_FPR)\n",
    "print(\"TPR difference between women and men\", MLP_glove_twitter_women_TPR - MLP_glove_twitter_men_TPR)\n",
    "print(\"F1_women\", f1_score(y_women_actual, y_women_MLP_glove_twitter_predict))\n",
    "print(\"F1_men\", f1_score(y_men_actual, y_men_MLP_glove_twitter_predict))"
   ]
  },
  {
   "cell_type": "markdown",
   "id": "345fafbf",
   "metadata": {},
   "source": [
    "### Find fairness metric (Error Rate Equality Difference) in MLP and UD"
   ]
  },
  {
   "cell_type": "code",
   "execution_count": 26,
   "id": "649052ef",
   "metadata": {},
   "outputs": [],
   "source": [
    "#FPR anf FNR in the entire test set\n",
    "y_actual = Twitter_sexism_test_Set[\"oh_label\"].values\n",
    "y_predict_MLP_ud = np.rint(Twitter_sexism_test_Set[\"MLP_prediction_ud_trainable_False\"].values)\n",
    "\n",
    "MLP_ud_FPR, MLP_ud_FNR, MLP_ud_TPR, MLP_ud_TNR = find_FPR_and_TPR(y_actual, y_predict_MLP_ud)"
   ]
  },
  {
   "cell_type": "code",
   "execution_count": 27,
   "id": "62d93b3e",
   "metadata": {},
   "outputs": [
    {
     "data": {
      "text/plain": [
       "(0.22661870503597123, 0.5417451349654739)"
      ]
     },
     "execution_count": 27,
     "metadata": {},
     "output_type": "execute_result"
    }
   ],
   "source": [
    "MLP_ud_FPR, MLP_ud_TPR"
   ]
  },
  {
   "cell_type": "code",
   "execution_count": 28,
   "id": "54f1ec85",
   "metadata": {},
   "outputs": [
    {
     "name": "stdout",
     "output_type": "stream",
     "text": [
      "F1 scores 0.5831081081081082\n"
     ]
    }
   ],
   "source": [
    "print(\"F1 scores\", f1_score(y_actual, y_predict_MLP_ud))"
   ]
  },
  {
   "cell_type": "code",
   "execution_count": 30,
   "id": "6f1e45a2",
   "metadata": {},
   "outputs": [
    {
     "name": "stdout",
     "output_type": "stream",
     "text": [
      "FPR women 0.25806451612903225\n",
      "TPR women 0.441025641025641\n",
      "FPR men 0.21739130434782608\n",
      "TPR men 0.4316546762589928\n",
      "FPR difference between women and men 0.04067321178120617\n",
      "TPR difference between women and men 0.009370964766648227\n",
      "F1-score_women 0.5227963525835866\n",
      "F1-score-men 0.4819277108433735\n"
     ]
    }
   ],
   "source": [
    "#FPR anf FNR in for women related identities\n",
    "y_women_actual = Twitter_sexism_test_Set_women_terms[\"oh_label\"].values\n",
    "y_women_MLP_ud_predict = np.rint(Twitter_sexism_test_Set_women_terms[\"MLP_prediction_ud_trainable_False\"].values)\n",
    "MLP_ud_women_FPR, MLP_ud_women_FNR, MLP_ud_women_TPR, MLP_ud_women_TNR   = find_FPR_and_TPR(y_women_actual, y_women_MLP_ud_predict)\n",
    "print(\"FPR women\", MLP_ud_women_FPR)\n",
    "print(\"TPR women\", MLP_ud_women_TPR)\n",
    "\n",
    "\n",
    "#FPR anf FNR in for men related identities\n",
    "y_men_actual = Twitter_sexism_test_Set_men_terms[\"oh_label\"].values\n",
    "y_men_MLP_ud_predict = np.rint(Twitter_sexism_test_Set_men_terms[\"MLP_prediction_ud_trainable_False\"].values)\n",
    "MLP_ud_men_FPR, BiLstm_ud_men_FNR, MLP_ud_men_TPR, MLP_ud_men_TNR = find_FPR_and_TPR(y_men_actual, y_men_MLP_ud_predict)\n",
    "print(\"FPR men\", MLP_ud_men_FPR)\n",
    "print(\"TPR men\", MLP_ud_men_TPR)\n",
    "\n",
    "\n",
    "print(\"FPR difference between women and men\", MLP_ud_women_FPR - MLP_ud_men_FPR)\n",
    "print(\"TPR difference between women and men\", MLP_ud_women_TPR - MLP_ud_men_TPR)\n",
    "print(\"F1-score_women\",f1_score(y_women_actual, y_women_MLP_ud_predict))\n",
    "print(\"F1-score-men\", f1_score(y_men_actual, y_men_MLP_ud_predict))"
   ]
  },
  {
   "cell_type": "markdown",
   "id": "e05eaa58",
   "metadata": {},
   "source": [
    "### Find fairness metric (Error Rate Equality Difference) in MLP and Chan"
   ]
  },
  {
   "cell_type": "code",
   "execution_count": 31,
   "id": "6411cc39",
   "metadata": {},
   "outputs": [],
   "source": [
    "#FPR anf FNR in the entire test set\n",
    "y_actual = Twitter_sexism_test_Set[\"oh_label\"].values\n",
    "y_predict_MLP_chan = np.rint(Twitter_sexism_test_Set[\"MLP_prediction_chan_trainable_False\"].values)\n",
    "\n",
    "MLP_chan_FPR, MLP_chan_FNR, MLP_chan_TPR, MLP_chan_TNR = find_FPR_and_TPR(y_actual, y_predict_MLP_chan)"
   ]
  },
  {
   "cell_type": "code",
   "execution_count": 32,
   "id": "c426f417",
   "metadata": {},
   "outputs": [
    {
     "data": {
      "text/plain": [
       "(0.31699640287769787, 0.6547394852479598)"
      ]
     },
     "execution_count": 32,
     "metadata": {},
     "output_type": "execute_result"
    }
   ],
   "source": [
    "MLP_chan_FPR, MLP_chan_TPR"
   ]
  },
  {
   "cell_type": "code",
   "execution_count": 33,
   "id": "45c71f2c",
   "metadata": {},
   "outputs": [
    {
     "name": "stdout",
     "output_type": "stream",
     "text": [
      "F1-score 0.6243639628853637\n"
     ]
    }
   ],
   "source": [
    "print(\"F1-score\", f1_score(y_actual, y_predict_MLP_chan))"
   ]
  },
  {
   "cell_type": "code",
   "execution_count": 34,
   "id": "3012365d",
   "metadata": {},
   "outputs": [
    {
     "name": "stdout",
     "output_type": "stream",
     "text": [
      "FPR_women 0.3763440860215054\n",
      "TPR_women 0.6236559139784946\n",
      "FPR_men 0.3173913043478261\n",
      "TPR_men 0.6826086956521739\n",
      "FPR difference between women and men 0.05895278167367929\n",
      "TPR difference between women and men -0.06692492160118058\n",
      "F1_score_women 0.5828877005347594\n",
      "F1_score_men 0.5819397993311037\n"
     ]
    }
   ],
   "source": [
    "#FPR anf FNR in for women related identities\n",
    "y_women_actual = Twitter_sexism_test_Set_women_terms[\"oh_label\"].values\n",
    "y_women_MLP_chan_predict = np.rint(Twitter_sexism_test_Set_women_terms[\"MLP_prediction_chan_trainable_False\"].values)\n",
    "MLP_chan_women_FPR, MLP_chan_women_FNR, MLP_chan_women_TPR, MLP_chan_women_TNR = find_FPR_and_TPR(y_women_actual, y_women_MLP_chan_predict)\n",
    "print(\"FPR_women\", MLP_chan_women_FPR)\n",
    "print(\"TPR_women\", MLP_chan_women_TNR)\n",
    "\n",
    "#FPR anf FNR in for men related identities\n",
    "y_men_actual = Twitter_sexism_test_Set_men_terms[\"oh_label\"].values\n",
    "y_men_MLP_chan_predict = np.rint(Twitter_sexism_test_Set_men_terms[\"MLP_prediction_chan_trainable_False\"].values)\n",
    "MLP_chan_men_FPR, MLP_chan_men_FNR, MLP_chan_men_TPR, MLP_chan_men_TNR  = find_FPR_and_TPR(y_men_actual, y_men_MLP_chan_predict)\n",
    "print(\"FPR_men\", MLP_chan_men_FPR)\n",
    "print(\"TPR_men\", MLP_chan_men_TNR)\n",
    "\n",
    "print(\"FPR difference between women and men\", MLP_chan_women_FPR - MLP_chan_men_FPR)\n",
    "print(\"TPR difference between women and men\", MLP_chan_women_TPR - MLP_chan_men_TPR)\n",
    "print(\"F1_score_women\", f1_score(y_women_actual, y_women_MLP_chan_predict))\n",
    "print(\"F1_score_men\", f1_score(y_men_actual, y_men_MLP_chan_predict))"
   ]
  },
  {
   "cell_type": "code",
   "execution_count": null,
   "id": "f6062e5c",
   "metadata": {},
   "outputs": [],
   "source": []
  }
 ],
 "metadata": {
  "kernelspec": {
   "display_name": "Python 3",
   "language": "python",
   "name": "python3"
  },
  "language_info": {
   "codemirror_mode": {
    "name": "ipython",
    "version": 3
   },
   "file_extension": ".py",
   "mimetype": "text/x-python",
   "name": "python",
   "nbconvert_exporter": "python",
   "pygments_lexer": "ipython3",
   "version": "3.8.10"
  }
 },
 "nbformat": 4,
 "nbformat_minor": 5
}
