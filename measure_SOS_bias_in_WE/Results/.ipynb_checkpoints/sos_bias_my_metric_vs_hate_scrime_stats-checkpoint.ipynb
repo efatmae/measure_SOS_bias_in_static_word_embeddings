{
 "cells": [
  {
   "cell_type": "code",
   "execution_count": 1,
   "id": "ea2cd8cd",
   "metadata": {},
   "outputs": [],
   "source": [
    "import numpy as np\n",
    "from scipy import stats \n",
    "import pandas as pd"
   ]
  },
  {
   "cell_type": "code",
   "execution_count": 2,
   "id": "46f94586",
   "metadata": {},
   "outputs": [],
   "source": [
    "min_df = pd.read_csv(\"./all_WE_minority_words_sim_to_profane_vector.csv\")\n",
    "maj_df = pd.read_csv(\"./all_WE_majority_words_sim_to_profane_vector.csv\")\n",
    "random_df = pd.read_csv(\"./all_WE_random_words_sim_to_profane_vector.csv\")"
   ]
  },
  {
   "cell_type": "code",
   "execution_count": 3,
   "id": "976908fb",
   "metadata": {},
   "outputs": [
    {
     "data": {
      "text/plain": [
       "Index(['Unnamed: 0', 'ethnicity_word', 'w2v_sim', 'glove_wk_sim',\n",
       "       'glove_twitter_sim', 'ud_sim', 'chan_sim',\n",
       "       'reddit_collocation_mean_pmi_fatma',\n",
       "       'reddit_100K_collocation_mean_pmi_swear_words',\n",
       "       'reddit_1M_collocation_mean_pmi_swear_words'],\n",
       "      dtype='object')"
      ]
     },
     "execution_count": 3,
     "metadata": {},
     "output_type": "execute_result"
    }
   ],
   "source": [
    "min_df.columns"
   ]
  },
  {
   "cell_type": "code",
   "execution_count": 4,
   "id": "e80818d4",
   "metadata": {},
   "outputs": [
    {
     "data": {
      "text/plain": [
       "Index(['Unnamed: 0', 'ethnicity_word', 'w2v_sim', 'glove_wk_sim',\n",
       "       'glove_twitter_sim', 'ud_sim', 'chan_sim',\n",
       "       'reddit_100K_collocation_mean_pmi_swear_words',\n",
       "       'reddit_1M_collocation_mean_pmi_swear_words'],\n",
       "      dtype='object')"
      ]
     },
     "execution_count": 4,
     "metadata": {},
     "output_type": "execute_result"
    }
   ],
   "source": [
    "maj_df.columns"
   ]
  },
  {
   "cell_type": "markdown",
   "id": "ca3696b8",
   "metadata": {},
   "source": [
    "## statisctical difference between the different groups: stigmatized, unstigmatized, and neutral words"
   ]
  },
  {
   "cell_type": "code",
   "execution_count": 5,
   "id": "d9ba86ef",
   "metadata": {},
   "outputs": [
    {
     "data": {
      "text/plain": [
       "Index(['Unnamed: 0', 'ethnicity_word', 'w2v_sim', 'glove_wk_sim',\n",
       "       'glove_twitter_sim', 'ud_sim', 'chan_sim',\n",
       "       'reddit_collocation_mean_pmi_fatma',\n",
       "       'reddit_100K_collocation_mean_pmi_swear_words',\n",
       "       'reddit_1M_collocation_mean_pmi_swear_words'],\n",
       "      dtype='object')"
      ]
     },
     "execution_count": 5,
     "metadata": {},
     "output_type": "execute_result"
    }
   ],
   "source": [
    "min_df.columns"
   ]
  },
  {
   "cell_type": "code",
   "execution_count": 6,
   "id": "3683025c",
   "metadata": {},
   "outputs": [
    {
     "data": {
      "text/plain": [
       "Index(['Unnamed: 0', 'ethnicity_word', 'w2v_sim', 'glove_wk_sim',\n",
       "       'glove_twitter_sim', 'ud_sim', 'chan_sim',\n",
       "       'reddit_100K_collocation_mean_pmi_swear_words',\n",
       "       'reddit_1M_collocation_mean_pmi_swear_words'],\n",
       "      dtype='object')"
      ]
     },
     "execution_count": 6,
     "metadata": {},
     "output_type": "execute_result"
    }
   ],
   "source": [
    "maj_df.columns"
   ]
  },
  {
   "cell_type": "markdown",
   "id": "fbf81f20",
   "metadata": {},
   "source": [
    "## lgtb"
   ]
  },
  {
   "cell_type": "code",
   "execution_count": 7,
   "id": "c0d8960a",
   "metadata": {},
   "outputs": [],
   "source": [
    "lgtb_words = [\"lesbian\",\"gay\",\"bisexual\",\"transgender\",\"tran\",\"queer\",\n",
    "                \"lgbt\",\"lgbtq\",\"homosexual\",\"non-binary\"]"
   ]
  },
  {
   "cell_type": "code",
   "execution_count": 8,
   "id": "94815112",
   "metadata": {},
   "outputs": [],
   "source": [
    "lgtbq_w2V_sim = min_df[min_df[\"ethnicity_word\"].isin(lgtb_words)][\"w2v_sim\"]"
   ]
  },
  {
   "cell_type": "code",
   "execution_count": 9,
   "id": "8d1f7f77",
   "metadata": {},
   "outputs": [
    {
     "data": {
      "text/plain": [
       "0.5291550204157829"
      ]
     },
     "execution_count": 9,
     "metadata": {},
     "output_type": "execute_result"
    }
   ],
   "source": [
    "np.mean(lgtbq_w2V_sim)"
   ]
  },
  {
   "cell_type": "code",
   "execution_count": 10,
   "id": "5255e373",
   "metadata": {},
   "outputs": [],
   "source": [
    "lgtbq_glove_wk_sim = min_df[min_df[\"ethnicity_word\"].isin(lgtb_words)][\"glove_wk_sim\"]"
   ]
  },
  {
   "cell_type": "code",
   "execution_count": 11,
   "id": "734f3f69",
   "metadata": {},
   "outputs": [
    {
     "data": {
      "text/plain": [
       "0.6294413149356843"
      ]
     },
     "execution_count": 11,
     "metadata": {},
     "output_type": "execute_result"
    }
   ],
   "source": [
    "np.mean(lgtbq_glove_wk_sim)"
   ]
  },
  {
   "cell_type": "code",
   "execution_count": 12,
   "id": "f3c3ca31",
   "metadata": {},
   "outputs": [],
   "source": [
    "lgtbq_glove_twitter = min_df[min_df[\"ethnicity_word\"].isin(lgtb_words)][\"glove_twitter_sim\"]"
   ]
  },
  {
   "cell_type": "code",
   "execution_count": 13,
   "id": "06a3d4c5",
   "metadata": {},
   "outputs": [],
   "source": [
    "lgtbq_ud = min_df[min_df[\"ethnicity_word\"].isin(lgtb_words)][\"ud_sim\"]"
   ]
  },
  {
   "cell_type": "code",
   "execution_count": 14,
   "id": "acb43d04",
   "metadata": {},
   "outputs": [],
   "source": [
    "lgtbq_chan = min_df[min_df[\"ethnicity_word\"].isin(lgtb_words)][\"chan_sim\"]"
   ]
  },
  {
   "cell_type": "code",
   "execution_count": 15,
   "id": "de3a3086",
   "metadata": {},
   "outputs": [
    {
     "data": {
      "text/plain": [
       "0.40257603228092204"
      ]
     },
     "execution_count": 15,
     "metadata": {},
     "output_type": "execute_result"
    }
   ],
   "source": [
    "np.mean(lgtbq_glove_twitter)"
   ]
  },
  {
   "cell_type": "code",
   "execution_count": 16,
   "id": "1e62c2cd",
   "metadata": {},
   "outputs": [
    {
     "data": {
      "text/plain": [
       "0.4687800722196697"
      ]
     },
     "execution_count": 16,
     "metadata": {},
     "output_type": "execute_result"
    }
   ],
   "source": [
    "np.mean(lgtbq_ud)"
   ]
  },
  {
   "cell_type": "code",
   "execution_count": 17,
   "id": "63693879",
   "metadata": {},
   "outputs": [
    {
     "data": {
      "text/plain": [
       "0.4815805889666082"
      ]
     },
     "execution_count": 17,
     "metadata": {},
     "output_type": "execute_result"
    }
   ],
   "source": [
    "np.mean(lgtbq_chan)"
   ]
  },
  {
   "cell_type": "code",
   "execution_count": 18,
   "id": "cdc365d8",
   "metadata": {},
   "outputs": [
    {
     "data": {
      "text/plain": [
       "FriedmanchisquareResult(statistic=2.7282051282051247, pvalue=0.6042881775571889)"
      ]
     },
     "execution_count": 18,
     "metadata": {},
     "output_type": "execute_result"
    }
   ],
   "source": [
    "stats.friedmanchisquare(lgtbq_w2V_sim, lgtbq_glove_wk_sim, lgtbq_glove_twitter, lgtbq_ud, lgtbq_chan)"
   ]
  },
  {
   "cell_type": "code",
   "execution_count": 19,
   "id": "070f54d7",
   "metadata": {},
   "outputs": [
    {
     "data": {
      "text/plain": [
       "Ttest_indResult(statistic=0.7012329080353633, pvalue=0.4921247292480265)"
      ]
     },
     "execution_count": 19,
     "metadata": {},
     "output_type": "execute_result"
    }
   ],
   "source": [
    "stats.ttest_ind(lgtbq_glove_wk_sim, lgtbq_w2V_sim)"
   ]
  },
  {
   "cell_type": "code",
   "execution_count": 20,
   "id": "ce174ba7",
   "metadata": {},
   "outputs": [
    {
     "data": {
      "text/plain": [
       "Ttest_indResult(statistic=1.5754883633958217, pvalue=0.1325560388594557)"
      ]
     },
     "execution_count": 20,
     "metadata": {},
     "output_type": "execute_result"
    }
   ],
   "source": [
    "stats.ttest_ind(lgtbq_glove_wk_sim, lgtbq_glove_twitter)"
   ]
  },
  {
   "cell_type": "code",
   "execution_count": 21,
   "id": "fd5230c0",
   "metadata": {},
   "outputs": [
    {
     "data": {
      "text/plain": [
       "Ttest_indResult(statistic=1.112564837623503, pvalue=0.28053381840117)"
      ]
     },
     "execution_count": 21,
     "metadata": {},
     "output_type": "execute_result"
    }
   ],
   "source": [
    "stats.ttest_ind(lgtbq_glove_wk_sim, lgtbq_ud)"
   ]
  },
  {
   "cell_type": "code",
   "execution_count": 22,
   "id": "a1fd5a8d",
   "metadata": {},
   "outputs": [
    {
     "data": {
      "text/plain": [
       "Ttest_indResult(statistic=1.1321793677441596, pvalue=0.27241662231991587)"
      ]
     },
     "execution_count": 22,
     "metadata": {},
     "output_type": "execute_result"
    }
   ],
   "source": [
    "stats.ttest_ind(lgtbq_glove_wk_sim, lgtbq_chan)"
   ]
  },
  {
   "cell_type": "markdown",
   "id": "4ba72c48",
   "metadata": {},
   "source": [
    "## women"
   ]
  },
  {
   "cell_type": "code",
   "execution_count": 23,
   "id": "d4d790dd",
   "metadata": {},
   "outputs": [],
   "source": [
    "women_words = [\"woman\", \"female\", \"girl\",\"wife\",\"sister\",\"daughter\",\"mother\"]"
   ]
  },
  {
   "cell_type": "code",
   "execution_count": 24,
   "id": "504339e3",
   "metadata": {},
   "outputs": [],
   "source": [
    "women_w2v = min_df[min_df[\"ethnicity_word\"].isin(women_words)][\"w2v_sim\"]\n",
    "women_glove_wk = min_df[min_df[\"ethnicity_word\"].isin(women_words)][\"glove_wk_sim\"]\n",
    "women_glove_twitter = min_df[min_df[\"ethnicity_word\"].isin(women_words)][\"glove_twitter_sim\"]\n",
    "women_ud = min_df[min_df[\"ethnicity_word\"].isin(women_words)][\"ud_sim\"]\n",
    "women_chan = min_df[min_df[\"ethnicity_word\"].isin(women_words)][\"chan_sim\"]"
   ]
  },
  {
   "cell_type": "code",
   "execution_count": 25,
   "id": "ddb2a1d3",
   "metadata": {},
   "outputs": [
    {
     "data": {
      "text/plain": [
       "0.2549104520252774"
      ]
     },
     "execution_count": 25,
     "metadata": {},
     "output_type": "execute_result"
    }
   ],
   "source": [
    "np.mean(women_w2v)"
   ]
  },
  {
   "cell_type": "code",
   "execution_count": 26,
   "id": "c0400281",
   "metadata": {},
   "outputs": [
    {
     "data": {
      "text/plain": [
       "0.3402559693370547"
      ]
     },
     "execution_count": 26,
     "metadata": {},
     "output_type": "execute_result"
    }
   ],
   "source": [
    "np.mean(women_glove_wk)"
   ]
  },
  {
   "cell_type": "code",
   "execution_count": 27,
   "id": "6deb83da",
   "metadata": {},
   "outputs": [
    {
     "data": {
      "text/plain": [
       "0.8525379811014447"
      ]
     },
     "execution_count": 27,
     "metadata": {},
     "output_type": "execute_result"
    }
   ],
   "source": [
    "np.mean(women_glove_twitter)"
   ]
  },
  {
   "cell_type": "code",
   "execution_count": 28,
   "id": "5c500d2e",
   "metadata": {},
   "outputs": [
    {
     "data": {
      "text/plain": [
       "0.555064761212894"
      ]
     },
     "execution_count": 28,
     "metadata": {},
     "output_type": "execute_result"
    }
   ],
   "source": [
    "np.mean(women_ud)"
   ]
  },
  {
   "cell_type": "code",
   "execution_count": 29,
   "id": "0a1ce4ec",
   "metadata": {},
   "outputs": [
    {
     "data": {
      "text/plain": [
       "0.7768107780388421"
      ]
     },
     "execution_count": 29,
     "metadata": {},
     "output_type": "execute_result"
    }
   ],
   "source": [
    "np.mean(women_chan)"
   ]
  },
  {
   "cell_type": "code",
   "execution_count": 30,
   "id": "a964ef4c",
   "metadata": {},
   "outputs": [
    {
     "data": {
      "text/plain": [
       "FriedmanchisquareResult(statistic=19.657142857142844, pvalue=0.0005835483282060483)"
      ]
     },
     "execution_count": 30,
     "metadata": {},
     "output_type": "execute_result"
    }
   ],
   "source": [
    "stats.friedmanchisquare(women_w2v, women_glove_wk, women_glove_twitter, women_ud, women_chan)"
   ]
  },
  {
   "cell_type": "code",
   "execution_count": 31,
   "id": "89eec191",
   "metadata": {},
   "outputs": [
    {
     "data": {
      "text/plain": [
       "Ttest_indResult(statistic=7.566728788704322, pvalue=6.617459522478452e-06)"
      ]
     },
     "execution_count": 31,
     "metadata": {},
     "output_type": "execute_result"
    }
   ],
   "source": [
    "stats.ttest_ind(women_glove_twitter, women_w2v)"
   ]
  },
  {
   "cell_type": "code",
   "execution_count": 32,
   "id": "ebfd8cd2",
   "metadata": {},
   "outputs": [
    {
     "data": {
      "text/plain": [
       "Ttest_indResult(statistic=6.8210352867822035, pvalue=1.8467234225866632e-05)"
      ]
     },
     "execution_count": 32,
     "metadata": {},
     "output_type": "execute_result"
    }
   ],
   "source": [
    "stats.ttest_ind(women_glove_twitter, women_glove_wk)"
   ]
  },
  {
   "cell_type": "code",
   "execution_count": 33,
   "id": "5bfe0fce",
   "metadata": {},
   "outputs": [
    {
     "data": {
      "text/plain": [
       "Ttest_indResult(statistic=3.3526225657215862, pvalue=0.005752163728815958)"
      ]
     },
     "execution_count": 33,
     "metadata": {},
     "output_type": "execute_result"
    }
   ],
   "source": [
    "stats.ttest_ind(women_glove_twitter, women_ud)"
   ]
  },
  {
   "cell_type": "code",
   "execution_count": 34,
   "id": "4f4b6289",
   "metadata": {},
   "outputs": [
    {
     "data": {
      "text/plain": [
       "Ttest_indResult(statistic=0.970934537016499, pvalue=0.3507452763577138)"
      ]
     },
     "execution_count": 34,
     "metadata": {},
     "output_type": "execute_result"
    }
   ],
   "source": [
    "stats.ttest_ind(women_glove_twitter, women_chan)"
   ]
  },
  {
   "cell_type": "markdown",
   "id": "e2bd951e",
   "metadata": {},
   "source": [
    "## ethnicities"
   ]
  },
  {
   "cell_type": "code",
   "execution_count": 35,
   "id": "0ded202b",
   "metadata": {},
   "outputs": [],
   "source": [
    "eth_words = [\"african\", \"african american\", \"asian\", \"black\", \"hispanic\", \"latin\", \"mexican\", \"indian\", \"middle eastern\",\n",
    "                \"arab\"]"
   ]
  },
  {
   "cell_type": "code",
   "execution_count": 36,
   "id": "a3d0bd5a",
   "metadata": {},
   "outputs": [],
   "source": [
    "eth_w2v = min_df[min_df[\"ethnicity_word\"].isin(eth_words)][\"w2v_sim\"]\n",
    "eth_glove_wk = min_df[min_df[\"ethnicity_word\"].isin(eth_words)][\"glove_wk_sim\"]\n",
    "eth_glove_twitter = min_df[min_df[\"ethnicity_word\"].isin(eth_words)][\"glove_twitter_sim\"]\n",
    "eth_ud = min_df[min_df[\"ethnicity_word\"].isin(eth_words)][\"ud_sim\"]\n",
    "eth_chan = min_df[min_df[\"ethnicity_word\"].isin(eth_words)][\"chan_sim\"]"
   ]
  },
  {
   "cell_type": "code",
   "execution_count": 37,
   "id": "60a9e718",
   "metadata": {},
   "outputs": [
    {
     "data": {
      "text/plain": [
       "0.7895054407417775"
      ]
     },
     "execution_count": 37,
     "metadata": {},
     "output_type": "execute_result"
    }
   ],
   "source": [
    "np.mean(eth_w2v)"
   ]
  },
  {
   "cell_type": "code",
   "execution_count": 38,
   "id": "987ec302",
   "metadata": {},
   "outputs": [
    {
     "data": {
      "text/plain": [
       "0.13636286929249775"
      ]
     },
     "execution_count": 38,
     "metadata": {},
     "output_type": "execute_result"
    }
   ],
   "source": [
    "np.mean(eth_glove_wk)"
   ]
  },
  {
   "cell_type": "code",
   "execution_count": 39,
   "id": "83d19fab",
   "metadata": {},
   "outputs": [
    {
     "data": {
      "text/plain": [
       "0.49500452540814854"
      ]
     },
     "execution_count": 39,
     "metadata": {},
     "output_type": "execute_result"
    }
   ],
   "source": [
    "np.mean(eth_glove_twitter)"
   ]
  },
  {
   "cell_type": "code",
   "execution_count": 40,
   "id": "f820d7d2",
   "metadata": {},
   "outputs": [
    {
     "data": {
      "text/plain": [
       "0.20260645356029275"
      ]
     },
     "execution_count": 40,
     "metadata": {},
     "output_type": "execute_result"
    }
   ],
   "source": [
    "np.mean(eth_ud)"
   ]
  },
  {
   "cell_type": "code",
   "execution_count": 41,
   "id": "567d7049",
   "metadata": {},
   "outputs": [
    {
     "data": {
      "text/plain": [
       "0.26668977737426747"
      ]
     },
     "execution_count": 41,
     "metadata": {},
     "output_type": "execute_result"
    }
   ],
   "source": [
    "np.mean(eth_chan)"
   ]
  },
  {
   "cell_type": "code",
   "execution_count": 42,
   "id": "c77a98aa",
   "metadata": {},
   "outputs": [
    {
     "data": {
      "text/plain": [
       "FriedmanchisquareResult(statistic=20.30000000000001, pvalue=0.0004356983106841428)"
      ]
     },
     "execution_count": 42,
     "metadata": {},
     "output_type": "execute_result"
    }
   ],
   "source": [
    "stats.friedmanchisquare(eth_w2v, eth_glove_wk, eth_glove_twitter, eth_ud, eth_chan)"
   ]
  },
  {
   "cell_type": "code",
   "execution_count": 43,
   "id": "335dffd3",
   "metadata": {},
   "outputs": [
    {
     "data": {
      "text/plain": [
       "Ttest_indResult(statistic=8.262827509400456, pvalue=9.381202238266734e-07)"
      ]
     },
     "execution_count": 43,
     "metadata": {},
     "output_type": "execute_result"
    }
   ],
   "source": [
    "stats.ttest_ind(eth_w2v, eth_glove_wk)"
   ]
  },
  {
   "cell_type": "code",
   "execution_count": 44,
   "id": "d4832846",
   "metadata": {},
   "outputs": [
    {
     "data": {
      "text/plain": [
       "Ttest_indResult(statistic=3.0876255868856353, pvalue=0.008027267436531989)"
      ]
     },
     "execution_count": 44,
     "metadata": {},
     "output_type": "execute_result"
    }
   ],
   "source": [
    "stats.ttest_ind(eth_w2v, eth_glove_twitter)"
   ]
  },
  {
   "cell_type": "code",
   "execution_count": 45,
   "id": "13ca1c0f",
   "metadata": {},
   "outputs": [
    {
     "data": {
      "text/plain": [
       "Ttest_indResult(statistic=6.462399609245554, pvalue=1.4917067216483679e-05)"
      ]
     },
     "execution_count": 45,
     "metadata": {},
     "output_type": "execute_result"
    }
   ],
   "source": [
    "stats.ttest_ind(eth_w2v, eth_ud)"
   ]
  },
  {
   "cell_type": "code",
   "execution_count": 46,
   "id": "81a2cc09",
   "metadata": {},
   "outputs": [
    {
     "data": {
      "text/plain": [
       "Ttest_indResult(statistic=5.764261175758504, pvalue=4.900241055519799e-05)"
      ]
     },
     "execution_count": 46,
     "metadata": {},
     "output_type": "execute_result"
    }
   ],
   "source": [
    "stats.ttest_ind(eth_w2v, eth_chan)"
   ]
  },
  {
   "cell_type": "markdown",
   "id": "7671567f",
   "metadata": {},
   "source": [
    "## hate crime stats (department of justice US)"
   ]
  },
  {
   "cell_type": "code",
   "execution_count": 47,
   "id": "28279e0b",
   "metadata": {},
   "outputs": [],
   "source": [
    "crime_rate = [61.9, 15.4,0.7]"
   ]
  },
  {
   "cell_type": "code",
   "execution_count": null,
   "id": "b33c6af6",
   "metadata": {},
   "outputs": [],
   "source": [
    "  "
   ]
  }
 ],
 "metadata": {
  "kernelspec": {
   "display_name": "Python 3",
   "language": "python",
   "name": "python3"
  },
  "language_info": {
   "codemirror_mode": {
    "name": "ipython",
    "version": 3
   },
   "file_extension": ".py",
   "mimetype": "text/x-python",
   "name": "python",
   "nbconvert_exporter": "python",
   "pygments_lexer": "ipython3",
   "version": "3.6.9"
  }
 },
 "nbformat": 4,
 "nbformat_minor": 5
}
