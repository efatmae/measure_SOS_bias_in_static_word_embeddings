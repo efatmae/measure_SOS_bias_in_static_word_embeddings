{
 "cells": [
  {
   "cell_type": "code",
   "execution_count": 1,
   "id": "c094f869",
   "metadata": {},
   "outputs": [],
   "source": [
    "import numpy as np\n",
    "from scipy import stats \n",
    "import pandas as pd"
   ]
  },
  {
   "cell_type": "markdown",
   "id": "ce8e00e1",
   "metadata": {},
   "source": [
    "## RNSB_SOS_bias_scores"
   ]
  },
  {
   "cell_type": "code",
   "execution_count": 2,
   "id": "2d56e0b0",
   "metadata": {},
   "outputs": [],
   "source": [
    "weat_sos_women_w2v = 0.318201\n",
    "weat_sos_eth_w2v = 0.392480\n",
    "weat_sos_lgtbq_w2v = 0.323245"
   ]
  },
  {
   "cell_type": "code",
   "execution_count": 3,
   "id": "8bd45e09",
   "metadata": {},
   "outputs": [],
   "source": [
    "weat_sos_women_glove_wk = 0.275251\n",
    "weat_sos_eth_glove_wk = 0.594313\n",
    "weat_sos_lgtbq_glove_wk = 0.384125"
   ]
  },
  {
   "cell_type": "code",
   "execution_count": 4,
   "id": "e1c56c27",
   "metadata": {},
   "outputs": [],
   "source": [
    "weat_sos_women_glove_twitter = 0.500461\n",
    "weat_sos_eth_glove_twitter = 0.346005\n",
    "weat_sos_lgtbq_glove_twitter = 0"
   ]
  },
  {
   "cell_type": "code",
   "execution_count": 5,
   "id": "46bb71bb",
   "metadata": {},
   "outputs": [],
   "source": [
    "weat_sos_women_ud = 0.302349\n",
    "weat_sos_eth_ud = 0.351207\n",
    "weat_sos_lgtbq_ud = 0.611325"
   ]
  },
  {
   "cell_type": "code",
   "execution_count": 6,
   "id": "1d17b7b6",
   "metadata": {},
   "outputs": [],
   "source": [
    "weat_sos_women_chan = 1.098450\n",
    "weat_sos_eth_chan = 0.696175\n",
    "weat_sos_lgtbq_chan = 0.386217"
   ]
  },
  {
   "cell_type": "markdown",
   "id": "ac610f93",
   "metadata": {},
   "source": [
    "## hate crime stats (department of justice US)"
   ]
  },
  {
   "cell_type": "code",
   "execution_count": 7,
   "id": "0bf6011e",
   "metadata": {},
   "outputs": [],
   "source": [
    "crime_rate = [61.9, 15.4,0.7]"
   ]
  },
  {
   "cell_type": "code",
   "execution_count": 8,
   "id": "a631d6fe",
   "metadata": {},
   "outputs": [
    {
     "data": {
      "text/plain": [
       "(0.9853562253451777, 0.10908198788884144)"
      ]
     },
     "execution_count": 8,
     "metadata": {},
     "output_type": "execute_result"
    }
   ],
   "source": [
    "stats.pearsonr([weat_sos_eth_w2v, weat_sos_lgtbq_w2v, weat_sos_women_w2v], crime_rate)"
   ]
  },
  {
   "cell_type": "code",
   "execution_count": 9,
   "id": "1507fa17",
   "metadata": {},
   "outputs": [
    {
     "data": {
      "text/plain": [
       "(0.9939411326703483, 0.07011490726273908)"
      ]
     },
     "execution_count": 9,
     "metadata": {},
     "output_type": "execute_result"
    }
   ],
   "source": [
    "stats.pearsonr([weat_sos_eth_glove_wk, weat_sos_lgtbq_glove_wk, weat_sos_women_glove_wk], crime_rate)"
   ]
  },
  {
   "cell_type": "code",
   "execution_count": 10,
   "id": "cc74e25a",
   "metadata": {},
   "outputs": [
    {
     "data": {
      "text/plain": [
       "(-0.01466241941099753, 0.9906652793986184)"
      ]
     },
     "execution_count": 10,
     "metadata": {},
     "output_type": "execute_result"
    }
   ],
   "source": [
    "stats.pearsonr([weat_sos_eth_glove_twitter, weat_sos_lgtbq_glove_twitter, weat_sos_women_glove_twitter], crime_rate)"
   ]
  },
  {
   "cell_type": "code",
   "execution_count": 11,
   "id": "2822a2db",
   "metadata": {},
   "outputs": [
    {
     "data": {
      "text/plain": [
       "(-0.1433386819011324, 0.9084323583048189)"
      ]
     },
     "execution_count": 11,
     "metadata": {},
     "output_type": "execute_result"
    }
   ],
   "source": [
    "stats.pearsonr([weat_sos_eth_ud, weat_sos_lgtbq_ud, weat_sos_women_ud], crime_rate)"
   ]
  },
  {
   "cell_type": "code",
   "execution_count": 12,
   "id": "8367ff5e",
   "metadata": {},
   "outputs": [
    {
     "data": {
      "text/plain": [
       "(-0.3020483878966184, 0.80465915922919)"
      ]
     },
     "execution_count": 12,
     "metadata": {},
     "output_type": "execute_result"
    }
   ],
   "source": [
    "stats.pearsonr([weat_sos_eth_chan, weat_sos_lgtbq_chan,weat_sos_women_chan], crime_rate )"
   ]
  },
  {
   "cell_type": "markdown",
   "id": "1d61bc1d",
   "metadata": {},
   "source": [
    "## Online Extremism and Online Hate"
   ]
  },
  {
   "cell_type": "code",
   "execution_count": 13,
   "id": "def40b78",
   "metadata": {},
   "outputs": [],
   "source": [
    "hate_finland = [0.67, 0.63, 0.25]\n",
    "hate_us = [0.60, 0.61, 0.44]\n",
    "germany = [0.48, 0.50, 0.20]\n",
    "uk = [0.57, 0.55, 0.44]"
   ]
  },
  {
   "cell_type": "code",
   "execution_count": 14,
   "id": "c01ea803",
   "metadata": {},
   "outputs": [
    {
     "name": "stdout",
     "output_type": "stream",
     "text": [
      "w2v_finland (0.6216019519186938, 0.5729643100958809)\n",
      "glove_wk_finland (0.8147326212040317, 0.39376741494430145)\n",
      "glove_twitter (-0.6767414964708569, 0.5267829571915784)\n",
      "ud_finland (0.5520580873485148, 0.6276853194881414)\n",
      "chan_finland (-0.8601202271457203, 0.34077683702215017)\n"
     ]
    }
   ],
   "source": [
    "print(\"w2v_finland\",stats.pearsonr([weat_sos_eth_w2v, weat_sos_lgtbq_w2v, weat_sos_women_w2v], hate_finland))\n",
    "print(\"glove_wk_finland\",stats.pearsonr([weat_sos_eth_glove_wk, weat_sos_lgtbq_glove_wk, weat_sos_women_glove_wk], hate_finland))\n",
    "print(\"glove_twitter\",stats.pearsonr([weat_sos_eth_glove_twitter, weat_sos_lgtbq_glove_twitter, weat_sos_women_glove_twitter], hate_finland))\n",
    "print(\"ud_finland\",stats.pearsonr([weat_sos_eth_ud, weat_sos_lgtbq_ud, weat_sos_women_ud], hate_finland))\n",
    "print(\"chan_finland\",stats.pearsonr([weat_sos_eth_chan, weat_sos_lgtbq_chan, weat_sos_women_chan], hate_finland))"
   ]
  },
  {
   "cell_type": "code",
   "execution_count": 15,
   "id": "e174a18b",
   "metadata": {},
   "outputs": [
    {
     "name": "stdout",
     "output_type": "stream",
     "text": [
      "w2v_us (0.5072241769898855, 0.6613432243433252)\n",
      "glove_wk_us (0.7266565752232979, 0.48214632919174577)\n",
      "glove_us (-0.7721087930616373, 0.43840404294413404)\n",
      "ud_us (0.6621287157579182, 0.5393064052406972)\n",
      "chan_us (-0.9224315481978996, 0.25239792277470574)\n"
     ]
    }
   ],
   "source": [
    "print(\"w2v_us\",stats.pearsonr([weat_sos_eth_w2v, weat_sos_lgtbq_w2v, weat_sos_women_w2v], hate_us))\n",
    "print(\"glove_wk_us\",stats.pearsonr([weat_sos_eth_glove_wk, weat_sos_lgtbq_glove_wk, weat_sos_women_glove_wk], hate_us))\n",
    "print(\"glove_us\",stats.pearsonr([weat_sos_eth_glove_twitter, weat_sos_lgtbq_glove_twitter, weat_sos_women_glove_twitter], hate_us))\n",
    "print(\"ud_us\",stats.pearsonr([weat_sos_eth_ud, weat_sos_lgtbq_ud, weat_sos_women_ud], hate_us))\n",
    "print(\"chan_us\",stats.pearsonr([weat_sos_eth_chan, weat_sos_lgtbq_chan, weat_sos_women_chan], hate_us))"
   ]
  },
  {
   "cell_type": "code",
   "execution_count": 16,
   "id": "5eb97b43",
   "metadata": {},
   "outputs": [
    {
     "name": "stdout",
     "output_type": "stream",
     "text": [
      "w2v_germany (0.5009915225903436, 0.6659375520436476)\n",
      "glove_wk_germany (0.7216797798702237, 0.48674065689206814)\n",
      "glove_germany (-0.7766748241279087, 0.43380971524381184)\n",
      "ud_germany (0.6675195900623673, 0.5347120775403748)\n",
      "chan_germany (-0.925194329268159, 0.24780359507438354)\n"
     ]
    }
   ],
   "source": [
    "print(\"w2v_germany\",stats.pearsonr([weat_sos_eth_w2v, weat_sos_lgtbq_w2v, weat_sos_women_w2v], germany))\n",
    "print(\"glove_wk_germany\",stats.pearsonr([weat_sos_eth_glove_wk, weat_sos_lgtbq_glove_wk, weat_sos_women_glove_wk], germany))\n",
    "print(\"glove_germany\",stats.pearsonr([weat_sos_eth_glove_twitter, weat_sos_lgtbq_glove_twitter, weat_sos_women_glove_twitter], germany))\n",
    "print(\"ud_germany\",stats.pearsonr([weat_sos_eth_ud, weat_sos_lgtbq_ud, weat_sos_women_ud], germany))\n",
    "print(\"chan_germany\",stats.pearsonr([weat_sos_eth_chan, weat_sos_lgtbq_chan, weat_sos_women_chan], germany))"
   ]
  },
  {
   "cell_type": "code",
   "execution_count": 17,
   "id": "be876694",
   "metadata": {},
   "outputs": [
    {
     "name": "stdout",
     "output_type": "stream",
     "text": [
      "w2v_uk (0.6651888112873275, 0.5367020876697559)\n",
      "glove_wk_uk (0.8464212533445027, 0.3575051925181765)\n",
      "glove_uk (-0.6337310716454548, 0.5630451796177034)\n",
      "ud_uk (0.5036943880520836, 0.6639475419142665)\n",
      "chan_uk (-0.829685888317419, 0.3770390594482751)\n"
     ]
    }
   ],
   "source": [
    "print(\"w2v_uk\",stats.pearsonr([weat_sos_eth_w2v, weat_sos_lgtbq_w2v, weat_sos_women_w2v], uk))\n",
    "print(\"glove_wk_uk\",stats.pearsonr([weat_sos_eth_glove_wk, weat_sos_lgtbq_glove_wk, weat_sos_women_glove_wk], uk))\n",
    "print(\"glove_uk\",stats.pearsonr([weat_sos_eth_glove_twitter, weat_sos_lgtbq_glove_twitter, weat_sos_women_glove_twitter], uk))\n",
    "print(\"ud_uk\",stats.pearsonr([weat_sos_eth_ud, weat_sos_lgtbq_ud, weat_sos_women_ud], uk))\n",
    "print(\"chan_uk\",stats.pearsonr([weat_sos_eth_chan, weat_sos_lgtbq_chan, weat_sos_women_chan], uk))"
   ]
  },
  {
   "cell_type": "code",
   "execution_count": 18,
   "id": "b1b6a48c",
   "metadata": {},
   "outputs": [],
   "source": [
    "## difference between majoirty and minority added (online harassment) (https://www.womensmediacenter.com/speech-project/research-statistics)"
   ]
  },
  {
   "cell_type": "code",
   "execution_count": 19,
   "id": "1bd82dee",
   "metadata": {},
   "outputs": [],
   "source": [
    "bullying_diff = [0.23,0.25,0.31]"
   ]
  },
  {
   "cell_type": "code",
   "execution_count": 20,
   "id": "7ef0c339",
   "metadata": {},
   "outputs": [
    {
     "name": "stdout",
     "output_type": "stream",
     "text": [
      "w2v_uk (-0.7358783491582623, 0.4735390260444688)\n",
      "glove_wk_uk (-0.8950060601683438, 0.2943421308928894)\n",
      "glove_uk (0.5539911864467287, 0.6262082412429903)\n",
      "ud_uk (-0.4156466494732833, 0.7271106035395533)\n",
      "chan_uk (0.7703108275397316, 0.440202121073562)\n"
     ]
    }
   ],
   "source": [
    "print(\"w2v_uk\",stats.pearsonr([weat_sos_eth_w2v, weat_sos_lgtbq_w2v, weat_sos_women_w2v], bullying_diff))\n",
    "print(\"glove_wk_uk\",stats.pearsonr([weat_sos_eth_glove_wk, weat_sos_lgtbq_glove_wk, weat_sos_women_glove_wk], bullying_diff))\n",
    "print(\"glove_uk\",stats.pearsonr([weat_sos_eth_glove_twitter, weat_sos_lgtbq_glove_twitter, weat_sos_women_glove_twitter], bullying_diff))\n",
    "print(\"ud_uk\",stats.pearsonr([weat_sos_eth_ud, weat_sos_lgtbq_ud, weat_sos_women_ud], bullying_diff))\n",
    "print(\"chan_uk\",stats.pearsonr([weat_sos_eth_chan, weat_sos_lgtbq_chan, weat_sos_women_chan], bullying_diff))"
   ]
  },
  {
   "cell_type": "code",
   "execution_count": 21,
   "id": "97b82483",
   "metadata": {},
   "outputs": [],
   "source": [
    "## https://enough.org/stats_cyberbullying"
   ]
  },
  {
   "cell_type": "code",
   "execution_count": 22,
   "id": "b5c94bba",
   "metadata": {},
   "outputs": [],
   "source": [
    "bullying = [0.17,0.15,0.2]"
   ]
  },
  {
   "cell_type": "code",
   "execution_count": 23,
   "id": "85bb1a68",
   "metadata": {},
   "outputs": [
    {
     "name": "stdout",
     "output_type": "stream",
     "text": [
      "w2v_uk (-0.1748576952807829, 0.8881069226487416)\n",
      "glove_wk_uk (-0.4414760595792789, 0.7089100274971623)\n",
      "glove_uk (0.9452475982179537, 0.2116403446387176)\n",
      "ud_uk (-0.8818896392337747, 0.31254270693528086)\n",
      "chan_uk (0.9991894282858794, 0.025634224469288126)\n"
     ]
    }
   ],
   "source": [
    "print(\"w2v_uk\",stats.pearsonr([weat_sos_eth_w2v, weat_sos_lgtbq_w2v, weat_sos_women_w2v], bullying))\n",
    "print(\"glove_wk_uk\",stats.pearsonr([weat_sos_eth_glove_wk, weat_sos_lgtbq_glove_wk, weat_sos_women_glove_wk], bullying))\n",
    "print(\"glove_uk\",stats.pearsonr([weat_sos_eth_glove_twitter, weat_sos_lgtbq_glove_twitter, weat_sos_women_glove_twitter], bullying))\n",
    "print(\"ud_uk\",stats.pearsonr([weat_sos_eth_ud, weat_sos_lgtbq_ud, weat_sos_women_ud], bullying))\n",
    "print(\"chan_uk\",stats.pearsonr([weat_sos_eth_chan, weat_sos_lgtbq_chan, weat_sos_women_chan], bullying))"
   ]
  },
  {
   "cell_type": "code",
   "execution_count": null,
   "id": "7e14c7e2",
   "metadata": {},
   "outputs": [],
   "source": []
  },
  {
   "cell_type": "code",
   "execution_count": null,
   "id": "5fa1d9c0",
   "metadata": {},
   "outputs": [],
   "source": []
  },
  {
   "cell_type": "code",
   "execution_count": null,
   "id": "0ab8bd69",
   "metadata": {},
   "outputs": [],
   "source": []
  }
 ],
 "metadata": {
  "kernelspec": {
   "display_name": "Python 3",
   "language": "python",
   "name": "python3"
  },
  "language_info": {
   "codemirror_mode": {
    "name": "ipython",
    "version": 3
   },
   "file_extension": ".py",
   "mimetype": "text/x-python",
   "name": "python",
   "nbconvert_exporter": "python",
   "pygments_lexer": "ipython3",
   "version": "3.6.9"
  }
 },
 "nbformat": 4,
 "nbformat_minor": 5
}
