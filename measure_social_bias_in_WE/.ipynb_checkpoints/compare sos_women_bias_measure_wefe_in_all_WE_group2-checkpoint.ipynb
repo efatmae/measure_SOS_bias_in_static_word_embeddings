{
 "cells": [
  {
   "cell_type": "code",
   "execution_count": 1,
   "metadata": {},
   "outputs": [
    {
     "name": "stdout",
     "output_type": "stream",
     "text": [
      "3.9.5 (default, May  5 2021, 02:58:34) \n",
      "[GCC 7.5.0]\n"
     ]
    }
   ],
   "source": [
    "import sys\n",
    "print(sys.version)"
   ]
  },
  {
   "cell_type": "code",
   "execution_count": 64,
   "metadata": {},
   "outputs": [],
   "source": [
    "import pandas as pd"
   ]
  },
  {
   "cell_type": "code",
   "execution_count": 2,
   "metadata": {},
   "outputs": [],
   "source": [
    "from wefe.query import Query\n",
    "from wefe.metrics import WEAT, RNSB, RND, MAC, ECT\n",
    "from wefe.word_embedding_model import WordEmbeddingModel\n",
    "from wefe.datasets.datasets import load_weat, fetch_eds, fetch_debias_multiclass, fetch_debiaswe, load_bingliu\n",
    "from wefe.utils import run_queries, plot_queries_results, create_ranking, plot_ranking, plot_ranking_correlations\n",
    "from plotly.subplots import make_subplots\n",
    "import gensim"
   ]
  },
  {
   "cell_type": "code",
   "execution_count": 3,
   "metadata": {},
   "outputs": [],
   "source": [
    "#!python3 -m gensim.scripts.glove2word2vec --input  ../../Data/Glove/glove.6B/glove.6B.200d.txt --output ../../Data/Glove/glove.6B/glove_2_word2vec.6B.200d.txt"
   ]
  },
  {
   "cell_type": "code",
   "execution_count": 4,
   "metadata": {},
   "outputs": [
    {
     "name": "stderr",
     "output_type": "stream",
     "text": [
      "INFO:gensim.models.keyedvectors:loading projection weights from ../../Data/W2V/GoogleNews-vectors-negative300.bin\n",
      "DEBUG:smart_open.smart_open_lib:{'uri': '../../Data/W2V/GoogleNews-vectors-negative300.bin', 'mode': 'rb', 'buffering': -1, 'encoding': None, 'errors': None, 'newline': None, 'closefd': True, 'opener': None, 'ignore_ext': False, 'compression': None, 'transport_params': None}\n",
      "DEBUG:gensim.utils:starting a new internal lifecycle event log for KeyedVectors\n",
      "INFO:gensim.utils:KeyedVectors lifecycle event {'msg': 'loaded (3000000, 300) matrix of type float32 from ../../Data/W2V/GoogleNews-vectors-negative300.bin', 'binary': True, 'encoding': 'utf8', 'datetime': '2021-11-08T10:53:41.494210', 'gensim': '4.0.1', 'python': '3.9.5 (default, May  5 2021, 02:58:34) \\n[GCC 7.5.0]', 'platform': 'Linux-5.4.0-81-generic-x86_64-with-glibc2.27', 'event': 'load_word2vec_format'}\n"
     ]
    }
   ],
   "source": [
    "u_desip_model = gensim.models.KeyedVectors.load_word2vec_format(embeddings_folder+\"debiased_word_embedding/glove_2_wv_U-DeSIP.txt\", binary=False)"
   ]
  },
  {
   "cell_type": "code",
   "execution_count": 5,
   "metadata": {},
   "outputs": [
    {
     "name": "stderr",
     "output_type": "stream",
     "text": [
      "INFO:gensim.models.keyedvectors:loading projection weights from ../../Data/Glove/glove.twitter.27B/glove_2_word2vec.twitter.27B.200d.txt\n",
      "DEBUG:smart_open.smart_open_lib:{'uri': '../../Data/Glove/glove.twitter.27B/glove_2_word2vec.twitter.27B.200d.txt', 'mode': 'rb', 'buffering': -1, 'encoding': None, 'errors': None, 'newline': None, 'closefd': True, 'opener': None, 'ignore_ext': False, 'compression': None, 'transport_params': None}\n",
      "DEBUG:gensim.utils:starting a new internal lifecycle event log for KeyedVectors\n",
      "INFO:gensim.utils:KeyedVectors lifecycle event {'msg': 'loaded (1193514, 200) matrix of type float32 from ../../Data/Glove/glove.twitter.27B/glove_2_word2vec.twitter.27B.200d.txt', 'binary': False, 'encoding': 'utf8', 'datetime': '2021-11-08T10:55:15.289490', 'gensim': '4.0.1', 'python': '3.9.5 (default, May  5 2021, 02:58:34) \\n[GCC 7.5.0]', 'platform': 'Linux-5.4.0-81-generic-x86_64-with-glibc2.27', 'event': 'load_word2vec_format'}\n"
     ]
    }
   ],
   "source": [
    "sswe_model = gensim.models.KeyedVectors.load_word2vec_format(embeddings_folder+\"/SSWE/embedding-results/sswe-u.bin\",binary=True)"
   ]
  },
  {
   "cell_type": "code",
   "execution_count": 6,
   "metadata": {},
   "outputs": [
    {
     "name": "stderr",
     "output_type": "stream",
     "text": [
      "INFO:gensim.models.keyedvectors:loading projection weights from ../../Data/Glove/glove.6B/glove_2_word2vec.6B.200d.txt\n",
      "DEBUG:smart_open.smart_open_lib:{'uri': '../../Data/Glove/glove.6B/glove_2_word2vec.6B.200d.txt', 'mode': 'rb', 'buffering': -1, 'encoding': None, 'errors': None, 'newline': None, 'closefd': True, 'opener': None, 'ignore_ext': False, 'compression': None, 'transport_params': None}\n",
      "DEBUG:gensim.utils:starting a new internal lifecycle event log for KeyedVectors\n",
      "INFO:gensim.utils:KeyedVectors lifecycle event {'msg': 'loaded (400000, 200) matrix of type float32 from ../../Data/Glove/glove.6B/glove_2_word2vec.6B.200d.txt', 'binary': False, 'encoding': 'utf8', 'datetime': '2021-11-08T10:55:45.714683', 'gensim': '4.0.1', 'python': '3.9.5 (default, May  5 2021, 02:58:34) \\n[GCC 7.5.0]', 'platform': 'Linux-5.4.0-81-generic-x86_64-with-glibc2.27', 'event': 'load_word2vec_format'}\n"
     ]
    }
   ],
   "source": [
    "p_desip_model = gensim.models.KeyedVectors.load_word2vec_format(embeddings_folder+\"debiased_word_embedding/glove_2_wv_P-DeSIP.txt\", binary=False)"
   ]
  },
  {
   "cell_type": "code",
   "execution_count": 7,
   "metadata": {},
   "outputs": [
    {
     "name": "stderr",
     "output_type": "stream",
     "text": [
      "INFO:gensim.models.keyedvectors:loading projection weights from ../../Data/ud_embeddings/ud_basic.vec\n",
      "DEBUG:smart_open.smart_open_lib:{'uri': '../../Data/ud_embeddings/ud_basic.vec', 'mode': 'rb', 'buffering': -1, 'encoding': None, 'errors': None, 'newline': None, 'closefd': True, 'opener': None, 'ignore_ext': False, 'compression': None, 'transport_params': None}\n",
      "DEBUG:gensim.utils:starting a new internal lifecycle event log for KeyedVectors\n",
      "INFO:gensim.utils:KeyedVectors lifecycle event {'msg': 'loaded (542320, 300) matrix of type float32 from ../../Data/ud_embeddings/ud_basic.vec', 'binary': False, 'encoding': 'utf8', 'datetime': '2021-11-08T10:56:46.880748', 'gensim': '4.0.1', 'python': '3.9.5 (default, May  5 2021, 02:58:34) \\n[GCC 7.5.0]', 'platform': 'Linux-5.4.0-81-generic-x86_64-with-glibc2.27', 'event': 'load_word2vec_format'}\n"
     ]
    }
   ],
   "source": [
    "glove_cc_model = get_google_news_embeddings(embeddings_folder+\"/Glove/glove.42B.300d.txt\")"
   ]
  },
  {
   "cell_type": "code",
   "execution_count": 8,
   "metadata": {},
   "outputs": [
    {
     "name": "stderr",
     "output_type": "stream",
     "text": [
      "INFO:gensim.models.keyedvectors:loading projection weights from ../../Data/4_8_chan_word_embeddings/48chan_2_wv_embeddings.txt\n",
      "DEBUG:smart_open.smart_open_lib:{'uri': '../../Data/4_8_chan_word_embeddings/48chan_2_wv_embeddings.txt', 'mode': 'rb', 'buffering': -1, 'encoding': None, 'errors': None, 'newline': None, 'closefd': True, 'opener': None, 'ignore_ext': False, 'compression': None, 'transport_params': None}\n",
      "DEBUG:gensim.utils:starting a new internal lifecycle event log for KeyedVectors\n",
      "INFO:gensim.utils:KeyedVectors lifecycle event {'msg': 'loaded (255938, 150) matrix of type float32 from ../../Data/4_8_chan_word_embeddings/48chan_2_wv_embeddings.txt', 'binary': False, 'encoding': 'utf8', 'datetime': '2021-11-08T10:57:02.330993', 'gensim': '4.0.1', 'python': '3.9.5 (default, May  5 2021, 02:58:34) \\n[GCC 7.5.0]', 'platform': 'Linux-5.4.0-81-generic-x86_64-with-glibc2.27', 'event': 'load_word2vec_format'}\n"
     ]
    }
   ],
   "source": [
    "glove_cc_large_model = get_google_news_embeddings(embeddings_folder+\"/Glove/glove.840B.300d.txt\")"
   ]
  },
  {
   "cell_type": "code",
   "execution_count": 9,
   "metadata": {},
   "outputs": [],
   "source": [
    "# load the weat word sets\n",
    "WEAT_wordsets = load_weat()\n",
    "RND_wordsets = fetch_eds()\n",
    "sentiments_wordsets = load_bingliu()\n",
    "debias_multiclass_wordsets = fetch_debias_multiclass()"
   ]
  },
  {
   "cell_type": "markdown",
   "metadata": {},
   "source": [
    "#### WEAT Effect Size: represents a normalized measure that quantifies how far apart the two distributions of association between targets and attributes are.\n",
    "\n",
    "#### WEAT score:  Its objective is to quantify the strength of association of both pair of sets through a permutation test. The score being positive and higher than one indicates that word2vec exhibits a moderately strong relationship between men's names and careers and women's names and family."
   ]
  },
  {
   "cell_type": "code",
   "execution_count": 13,
   "metadata": {},
   "outputs": [],
   "source": [
    "data_folder = \"../../Data/\""
   ]
  },
  {
   "cell_type": "code",
   "execution_count": 14,
   "metadata": {},
   "outputs": [],
   "source": [
    "profane_words = open(data_folder+\"swear_words.txt\").read().splitlines()"
   ]
  },
  {
   "cell_type": "code",
   "execution_count": 34,
   "metadata": {},
   "outputs": [],
   "source": [
    "harmless_minority_words_clean = [\"woman\", \"female\", \"girl\",\"wife\",\"sister\",\"daughter\",\"mother\"]\n",
    "harmless_majority_words_clean = [\"man\",\"male\",\"boy\",\"husband\",\"brother\",\"son\",\"father\"]\n"
   ]
  },
  {
   "cell_type": "markdown",
   "metadata": {},
   "source": [
    "#### running multiple queries and multiple word embeddings"
   ]
  },
  {
   "cell_type": "code",
   "execution_count": null,
   "metadata": {},
   "outputs": [],
   "source": [
    "u_desip_model = WordEmbeddingModel(u_desip_model, 'u_desip')\n",
    "p_desip_model = WordEmbeddingModel(p_desip_model, 'p_desip')\n",
    "sswe_model = WordEmbeddingModel(sswe_model, 'sswe')\n",
    "glove_cc_model = WordEmbeddingModel(glove_cc_model, 'glove_cc')\n",
    "glove_cc_large_model = WordEmbeddingModel(glove_cc_large_model, 'glove_cc_large')"
   ]
  },
  {
   "cell_type": "code",
   "execution_count": 35,
   "metadata": {},
   "outputs": [],
   "source": [
    "models = [model_wv, model_glove_wk, model_glove_twitter, model_ud, model_chan]"
   ]
  },
  {
   "cell_type": "markdown",
   "metadata": {},
   "source": [
    "## Query ranking"
   ]
  },
  {
   "cell_type": "code",
   "execution_count": 36,
   "metadata": {},
   "outputs": [],
   "source": [
    "#query1 = Query([harmless_minority_words_clean, harmless_majority_words_clean],\n",
    "   #                    [WEAT_wordsets['unpleasant_5'], WEAT_wordsets['pleasant_5']])\n",
    "\n",
    "query2 = Query([harmless_minority_words_clean, harmless_majority_words_clean],\n",
    "                       [profane_words, sentiments_wordsets['positive_words']])\n",
    "\n",
    "gender_queries = [query2]"
   ]
  },
  {
   "cell_type": "code",
   "execution_count": 37,
   "metadata": {},
   "outputs": [],
   "source": [
    "# Run the queries WEAT\n",
    "WEAT_gender_results = run_queries(\n",
    "    WEAT,\n",
    "    gender_queries,\n",
    "    models,\n",
    "    aggregate_results=True,\n",
    "    return_only_aggregation=True,\n",
    "    lost_vocabulary_threshold = 0.6,\n",
    "    queries_set_name='SOS Queries')\n",
    "\n",
    "# Run the queries with WEAT Effect Size\n",
    "\n",
    "WEAT_EZ_gender_results = run_queries(WEAT,\n",
    "                                     gender_queries,\n",
    "                                     models,\n",
    "                                     metric_params={\n",
    "                                        \n",
    "                                         'return_effect_size': True\n",
    "                                     },\n",
    "                                     aggregate_results=True,\n",
    "                                     return_only_aggregation=True,\n",
    "                                     lost_vocabulary_threshold = 0.6,\n",
    "                                     queries_set_name='SOS Queries')\n",
    "\n",
    "\n",
    "# Run the queries using RNSB\n",
    "RNSB_gender_results = run_queries(RNSB,\n",
    "                                gender_queries,\n",
    "                                models,\n",
    "                                aggregate_results=True,\n",
    "                                return_only_aggregation=True,\n",
    "                                    lost_vocabulary_threshold = 0.6,\n",
    "                                queries_set_name='SOS Queries')\n",
    "\n",
    "\n"
   ]
  },
  {
   "cell_type": "code",
   "execution_count": 38,
   "metadata": {},
   "outputs": [],
   "source": [
    "# Run the queries using RND\n",
    "RND_gender_results = run_queries(RND,\n",
    "                                gender_queries,\n",
    "                                models,\n",
    "                                aggregate_results=True,\n",
    "                                generate_subqueries=True,\n",
    "                                lost_vocabulary_threshold = 0.6,\n",
    "                                queries_set_name='SOS Queries')\n",
    "\n",
    "\n"
   ]
  },
  {
   "cell_type": "code",
   "execution_count": 39,
   "metadata": {},
   "outputs": [],
   "source": [
    "# Run the queries using ECT\n",
    "ECT_gender_results = run_queries(ECT,\n",
    "                                gender_queries,\n",
    "                                models,\n",
    "                                aggregate_results=True,\n",
    "                                generate_subqueries=True,\n",
    "                                lost_vocabulary_threshold = 0.6,\n",
    "                                queries_set_name='SOS Queries')"
   ]
  },
  {
   "cell_type": "code",
   "execution_count": 53,
   "metadata": {},
   "outputs": [
    {
     "data": {
      "text/html": [
       "<div>\n",
       "<style scoped>\n",
       "    .dataframe tbody tr th:only-of-type {\n",
       "        vertical-align: middle;\n",
       "    }\n",
       "\n",
       "    .dataframe tbody tr th {\n",
       "        vertical-align: top;\n",
       "    }\n",
       "\n",
       "    .dataframe thead th {\n",
       "        text-align: right;\n",
       "    }\n",
       "</style>\n",
       "<table border=\"1\" class=\"dataframe\">\n",
       "  <thead>\n",
       "    <tr style=\"text-align: right;\">\n",
       "      <th></th>\n",
       "      <th>WEAT: SOS Queries average of abs values score</th>\n",
       "    </tr>\n",
       "    <tr>\n",
       "      <th>model_name</th>\n",
       "      <th></th>\n",
       "    </tr>\n",
       "  </thead>\n",
       "  <tbody>\n",
       "    <tr>\n",
       "      <th>WE</th>\n",
       "      <td>0.046077</td>\n",
       "    </tr>\n",
       "    <tr>\n",
       "      <th>glove_wk</th>\n",
       "      <td>0.051040</td>\n",
       "    </tr>\n",
       "    <tr>\n",
       "      <th>glove_twitter</th>\n",
       "      <td>0.054989</td>\n",
       "    </tr>\n",
       "    <tr>\n",
       "      <th>UD</th>\n",
       "      <td>0.032825</td>\n",
       "    </tr>\n",
       "    <tr>\n",
       "      <th>Chan</th>\n",
       "      <td>0.114028</td>\n",
       "    </tr>\n",
       "  </tbody>\n",
       "</table>\n",
       "</div>"
      ],
      "text/plain": [
       "               WEAT: SOS Queries average of abs values score\n",
       "model_name                                                  \n",
       "WE                                                  0.046077\n",
       "glove_wk                                            0.051040\n",
       "glove_twitter                                       0.054989\n",
       "UD                                                  0.032825\n",
       "Chan                                                0.114028"
      ]
     },
     "execution_count": 53,
     "metadata": {},
     "output_type": "execute_result"
    }
   ],
   "source": [
    "WEAT_gender_results"
   ]
  },
  {
   "cell_type": "code",
   "execution_count": 41,
   "metadata": {},
   "outputs": [
    {
     "data": {
      "text/html": [
       "<div>\n",
       "<style scoped>\n",
       "    .dataframe tbody tr th:only-of-type {\n",
       "        vertical-align: middle;\n",
       "    }\n",
       "\n",
       "    .dataframe tbody tr th {\n",
       "        vertical-align: top;\n",
       "    }\n",
       "\n",
       "    .dataframe thead th {\n",
       "        text-align: right;\n",
       "    }\n",
       "</style>\n",
       "<table border=\"1\" class=\"dataframe\">\n",
       "  <thead>\n",
       "    <tr style=\"text-align: right;\">\n",
       "      <th></th>\n",
       "      <th>RNSB: SOS Queries average of abs values score</th>\n",
       "    </tr>\n",
       "    <tr>\n",
       "      <th>model_name</th>\n",
       "      <th></th>\n",
       "    </tr>\n",
       "  </thead>\n",
       "  <tbody>\n",
       "    <tr>\n",
       "      <th>WE</th>\n",
       "      <td>0.318201</td>\n",
       "    </tr>\n",
       "    <tr>\n",
       "      <th>glove_wk</th>\n",
       "      <td>0.275251</td>\n",
       "    </tr>\n",
       "    <tr>\n",
       "      <th>glove_twitter</th>\n",
       "      <td>0.500461</td>\n",
       "    </tr>\n",
       "    <tr>\n",
       "      <th>UD</th>\n",
       "      <td>0.302349</td>\n",
       "    </tr>\n",
       "    <tr>\n",
       "      <th>Chan</th>\n",
       "      <td>1.098450</td>\n",
       "    </tr>\n",
       "  </tbody>\n",
       "</table>\n",
       "</div>"
      ],
      "text/plain": [
       "               RNSB: SOS Queries average of abs values score\n",
       "model_name                                                  \n",
       "WE                                                  0.318201\n",
       "glove_wk                                            0.275251\n",
       "glove_twitter                                       0.500461\n",
       "UD                                                  0.302349\n",
       "Chan                                                1.098450"
      ]
     },
     "execution_count": 41,
     "metadata": {},
     "output_type": "execute_result"
    }
   ],
   "source": [
    "RNSB_gender_results"
   ]
  },
  {
   "cell_type": "code",
   "execution_count": 50,
   "metadata": {},
   "outputs": [
    {
     "data": {
      "text/plain": [
       "model_name\n",
       "WE               0.065988\n",
       "glove_wk         0.235874\n",
       "glove_twitter    0.171841\n",
       "UD               0.050763\n",
       "Chan             4.041449\n",
       "Name: RND: SOS Queries average of abs values score, dtype: float64"
      ]
     },
     "execution_count": 50,
     "metadata": {},
     "output_type": "execute_result"
    }
   ],
   "source": [
    "RND_gender_results[\"RND: SOS Queries average of abs values score\"]"
   ]
  },
  {
   "cell_type": "code",
   "execution_count": 51,
   "metadata": {},
   "outputs": [
    {
     "data": {
      "text/plain": [
       "model_name\n",
       "WE               0.862764\n",
       "glove_wk         0.956840\n",
       "glove_twitter    0.979259\n",
       "UD               0.766151\n",
       "Chan             0.919794\n",
       "Name: ECT: SOS Queries average of abs values score, dtype: float64"
      ]
     },
     "execution_count": 51,
     "metadata": {},
     "output_type": "execute_result"
    }
   ],
   "source": [
    "ECT_gender_results[\"ECT: SOS Queries average of abs values score\"]"
   ]
  },
  {
   "cell_type": "code",
   "execution_count": 44,
   "metadata": {},
   "outputs": [],
   "source": [
    "import numpy as np\n",
    "import scipy"
   ]
  },
  {
   "cell_type": "code",
   "execution_count": 46,
   "metadata": {},
   "outputs": [
    {
     "data": {
      "text/plain": [
       "model_name\n",
       "WE               0.862764\n",
       "glove_wk         0.956840\n",
       "glove_twitter    0.979259\n",
       "UD               0.766151\n",
       "Chan             0.919794\n",
       "Name: ECT: SOS Queries average of abs values score, dtype: float64"
      ]
     },
     "execution_count": 46,
     "metadata": {},
     "output_type": "execute_result"
    }
   ],
   "source": [
    "ECT_gender_results[\"ECT: SOS Queries average of abs values score\"]"
   ]
  },
  {
   "cell_type": "code",
   "execution_count": 61,
   "metadata": {},
   "outputs": [
    {
     "data": {
      "text/html": [
       "<div>\n",
       "<style scoped>\n",
       "    .dataframe tbody tr th:only-of-type {\n",
       "        vertical-align: middle;\n",
       "    }\n",
       "\n",
       "    .dataframe tbody tr th {\n",
       "        vertical-align: top;\n",
       "    }\n",
       "\n",
       "    .dataframe thead th {\n",
       "        text-align: right;\n",
       "    }\n",
       "</style>\n",
       "<table border=\"1\" class=\"dataframe\">\n",
       "  <thead>\n",
       "    <tr style=\"text-align: right;\">\n",
       "      <th></th>\n",
       "      <th>Target set 0 and Target set 1 wrt Attribute set 0</th>\n",
       "      <th>Target set 0 and Target set 1 wrt Attribute set 1</th>\n",
       "      <th>ECT: SOS Queries average of abs values score</th>\n",
       "    </tr>\n",
       "    <tr>\n",
       "      <th>model_name</th>\n",
       "      <th></th>\n",
       "      <th></th>\n",
       "      <th></th>\n",
       "    </tr>\n",
       "  </thead>\n",
       "  <tbody>\n",
       "    <tr>\n",
       "      <th>WE</th>\n",
       "      <td>0.829665</td>\n",
       "      <td>0.895863</td>\n",
       "      <td>0.862764</td>\n",
       "    </tr>\n",
       "    <tr>\n",
       "      <th>glove_wk</th>\n",
       "      <td>0.942248</td>\n",
       "      <td>0.971433</td>\n",
       "      <td>0.956840</td>\n",
       "    </tr>\n",
       "    <tr>\n",
       "      <th>glove_twitter</th>\n",
       "      <td>0.981630</td>\n",
       "      <td>0.976888</td>\n",
       "      <td>0.979259</td>\n",
       "    </tr>\n",
       "    <tr>\n",
       "      <th>UD</th>\n",
       "      <td>0.773697</td>\n",
       "      <td>0.758605</td>\n",
       "      <td>0.766151</td>\n",
       "    </tr>\n",
       "    <tr>\n",
       "      <th>Chan</th>\n",
       "      <td>0.933100</td>\n",
       "      <td>0.906488</td>\n",
       "      <td>0.919794</td>\n",
       "    </tr>\n",
       "  </tbody>\n",
       "</table>\n",
       "</div>"
      ],
      "text/plain": [
       "               Target set 0 and Target set 1 wrt Attribute set 0  \\\n",
       "model_name                                                         \n",
       "WE                                                      0.829665   \n",
       "glove_wk                                                0.942248   \n",
       "glove_twitter                                           0.981630   \n",
       "UD                                                      0.773697   \n",
       "Chan                                                    0.933100   \n",
       "\n",
       "               Target set 0 and Target set 1 wrt Attribute set 1  \\\n",
       "model_name                                                         \n",
       "WE                                                      0.895863   \n",
       "glove_wk                                                0.971433   \n",
       "glove_twitter                                           0.976888   \n",
       "UD                                                      0.758605   \n",
       "Chan                                                    0.906488   \n",
       "\n",
       "               ECT: SOS Queries average of abs values score  \n",
       "model_name                                                   \n",
       "WE                                                 0.862764  \n",
       "glove_wk                                           0.956840  \n",
       "glove_twitter                                      0.979259  \n",
       "UD                                                 0.766151  \n",
       "Chan                                               0.919794  "
      ]
     },
     "execution_count": 61,
     "metadata": {},
     "output_type": "execute_result"
    }
   ],
   "source": [
    "ECT_gender_results"
   ]
  },
  {
   "cell_type": "code",
   "execution_count": 68,
   "metadata": {},
   "outputs": [],
   "source": [
    "gender_ranking = create_ranking([ WEAT_gender_results, \n",
    "                                RNSB_gender_results, RND_gender_results\n",
    "                                ], ascending=True)\n",
    "ect_gender_Ranking = create_ranking([ECT_gender_results], ascending=False)"
   ]
  },
  {
   "cell_type": "code",
   "execution_count": 69,
   "metadata": {},
   "outputs": [
    {
     "data": {
      "text/html": [
       "<div>\n",
       "<style scoped>\n",
       "    .dataframe tbody tr th:only-of-type {\n",
       "        vertical-align: middle;\n",
       "    }\n",
       "\n",
       "    .dataframe tbody tr th {\n",
       "        vertical-align: top;\n",
       "    }\n",
       "\n",
       "    .dataframe thead th {\n",
       "        text-align: right;\n",
       "    }\n",
       "</style>\n",
       "<table border=\"1\" class=\"dataframe\">\n",
       "  <thead>\n",
       "    <tr style=\"text-align: right;\">\n",
       "      <th></th>\n",
       "      <th>ECT: SOS Queries average of abs values score</th>\n",
       "    </tr>\n",
       "    <tr>\n",
       "      <th>model_name</th>\n",
       "      <th></th>\n",
       "    </tr>\n",
       "  </thead>\n",
       "  <tbody>\n",
       "    <tr>\n",
       "      <th>WE</th>\n",
       "      <td>4.0</td>\n",
       "    </tr>\n",
       "    <tr>\n",
       "      <th>glove_wk</th>\n",
       "      <td>2.0</td>\n",
       "    </tr>\n",
       "    <tr>\n",
       "      <th>glove_twitter</th>\n",
       "      <td>1.0</td>\n",
       "    </tr>\n",
       "    <tr>\n",
       "      <th>UD</th>\n",
       "      <td>5.0</td>\n",
       "    </tr>\n",
       "    <tr>\n",
       "      <th>Chan</th>\n",
       "      <td>3.0</td>\n",
       "    </tr>\n",
       "  </tbody>\n",
       "</table>\n",
       "</div>"
      ],
      "text/plain": [
       "               ECT: SOS Queries average of abs values score\n",
       "model_name                                                 \n",
       "WE                                                      4.0\n",
       "glove_wk                                                2.0\n",
       "glove_twitter                                           1.0\n",
       "UD                                                      5.0\n",
       "Chan                                                    3.0"
      ]
     },
     "execution_count": 69,
     "metadata": {},
     "output_type": "execute_result"
    }
   ],
   "source": [
    "ect_gender_Ranking"
   ]
  },
  {
   "cell_type": "code",
   "execution_count": 70,
   "metadata": {},
   "outputs": [],
   "source": [
    "gender_ranking[\"ECT\"] = ect_gender_Ranking[\"ECT: SOS Queries average of abs values score\"].values"
   ]
  },
  {
   "cell_type": "code",
   "execution_count": 71,
   "metadata": {},
   "outputs": [
    {
     "data": {
      "text/html": [
       "<div>\n",
       "<style scoped>\n",
       "    .dataframe tbody tr th:only-of-type {\n",
       "        vertical-align: middle;\n",
       "    }\n",
       "\n",
       "    .dataframe tbody tr th {\n",
       "        vertical-align: top;\n",
       "    }\n",
       "\n",
       "    .dataframe thead th {\n",
       "        text-align: right;\n",
       "    }\n",
       "</style>\n",
       "<table border=\"1\" class=\"dataframe\">\n",
       "  <thead>\n",
       "    <tr style=\"text-align: right;\">\n",
       "      <th></th>\n",
       "      <th>WEAT: SOS Queries average of abs values score</th>\n",
       "      <th>RNSB: SOS Queries average of abs values score</th>\n",
       "      <th>RND: SOS Queries average of abs values score</th>\n",
       "      <th>ECT</th>\n",
       "    </tr>\n",
       "    <tr>\n",
       "      <th>model_name</th>\n",
       "      <th></th>\n",
       "      <th></th>\n",
       "      <th></th>\n",
       "      <th></th>\n",
       "    </tr>\n",
       "  </thead>\n",
       "  <tbody>\n",
       "    <tr>\n",
       "      <th>WE</th>\n",
       "      <td>2.0</td>\n",
       "      <td>3.0</td>\n",
       "      <td>2.0</td>\n",
       "      <td>4.0</td>\n",
       "    </tr>\n",
       "    <tr>\n",
       "      <th>glove_wk</th>\n",
       "      <td>3.0</td>\n",
       "      <td>1.0</td>\n",
       "      <td>4.0</td>\n",
       "      <td>2.0</td>\n",
       "    </tr>\n",
       "    <tr>\n",
       "      <th>glove_twitter</th>\n",
       "      <td>4.0</td>\n",
       "      <td>4.0</td>\n",
       "      <td>3.0</td>\n",
       "      <td>1.0</td>\n",
       "    </tr>\n",
       "    <tr>\n",
       "      <th>UD</th>\n",
       "      <td>1.0</td>\n",
       "      <td>2.0</td>\n",
       "      <td>1.0</td>\n",
       "      <td>5.0</td>\n",
       "    </tr>\n",
       "    <tr>\n",
       "      <th>Chan</th>\n",
       "      <td>5.0</td>\n",
       "      <td>5.0</td>\n",
       "      <td>5.0</td>\n",
       "      <td>3.0</td>\n",
       "    </tr>\n",
       "  </tbody>\n",
       "</table>\n",
       "</div>"
      ],
      "text/plain": [
       "               WEAT: SOS Queries average of abs values score  \\\n",
       "model_name                                                     \n",
       "WE                                                       2.0   \n",
       "glove_wk                                                 3.0   \n",
       "glove_twitter                                            4.0   \n",
       "UD                                                       1.0   \n",
       "Chan                                                     5.0   \n",
       "\n",
       "               RNSB: SOS Queries average of abs values score  \\\n",
       "model_name                                                     \n",
       "WE                                                       3.0   \n",
       "glove_wk                                                 1.0   \n",
       "glove_twitter                                            4.0   \n",
       "UD                                                       2.0   \n",
       "Chan                                                     5.0   \n",
       "\n",
       "               RND: SOS Queries average of abs values score  ECT  \n",
       "model_name                                                        \n",
       "WE                                                      2.0  4.0  \n",
       "glove_wk                                                4.0  2.0  \n",
       "glove_twitter                                           3.0  1.0  \n",
       "UD                                                      1.0  5.0  \n",
       "Chan                                                    5.0  3.0  "
      ]
     },
     "execution_count": 71,
     "metadata": {},
     "output_type": "execute_result"
    }
   ],
   "source": [
    "gender_ranking"
   ]
  },
  {
   "cell_type": "code",
   "execution_count": null,
   "metadata": {},
   "outputs": [],
   "source": []
  }
 ],
 "metadata": {
  "kernelspec": {
   "display_name": "env_py_39",
   "language": "python",
   "name": "env_py_39"
  },
  "language_info": {
   "codemirror_mode": {
    "name": "ipython",
    "version": 3
   },
   "file_extension": ".py",
   "mimetype": "text/x-python",
   "name": "python",
   "nbconvert_exporter": "python",
   "pygments_lexer": "ipython3",
   "version": "3.8.10"
  }
 },
 "nbformat": 4,
 "nbformat_minor": 4
}
